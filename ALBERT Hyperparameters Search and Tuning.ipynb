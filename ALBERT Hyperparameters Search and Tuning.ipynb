{
 "cells": [
  {
   "cell_type": "markdown",
   "id": "be8de38f-6e25-435b-a623-a1e99239ae84",
   "metadata": {
    "jp-MarkdownHeadingCollapsed": true,
    "tags": []
   },
   "source": [
    "## 0. Imports, libraries and rusable functions"
   ]
  },
  {
   "cell_type": "code",
   "execution_count": 2,
   "id": "a65cc85a-e4ba-49a4-8f35-5b640c44af06",
   "metadata": {
    "tags": []
   },
   "outputs": [],
   "source": [
    "# Standard Library Imports\n",
    "import ast\n",
    "import copy\n",
    "import csv\n",
    "import json\n",
    "import math\n",
    "import os\n",
    "import re\n",
    "import time\n",
    "import warnings\n",
    "import logging\n",
    "import random\n",
    "import collections\n",
    "from collections import Counter\n",
    "from typing import List, Tuple, Optional\n",
    "from IPython.display import HTML, display\n",
    "import math\n",
    "import time\n",
    "from unidecode import unidecode\n",
    "\n",
    "\n",
    "# Data Handling Libraries\n",
    "import numpy as np\n",
    "import pandas as pd\n",
    "import csv\n",
    "from torch.utils.data import random_split\n",
    "import datasets\n",
    "from datasets import ClassLabel, Sequence\n",
    "\n",
    "# Data Visualization Libraries\n",
    "import matplotlib.pyplot as plt\n",
    "import seaborn as sns\n",
    "# import scikitplot as skplt  # Uncomment if scikit-plot is installed and needed\n",
    "\n",
    "# Machine Learning: Model Preparation\n",
    "from sklearn.metrics import accuracy_score, confusion_matrix, precision_recall_fscore_support\n",
    "from sklearn.model_selection import cross_val_score, cross_validate, KFold, train_test_split\n",
    "from sklearn.preprocessing import MinMaxScaler\n",
    "\n",
    "# Machine Learning: Models and Frameworks\n",
    "import tensorflow as tf\n",
    "import torch\n",
    "import evaluate\n",
    "import xgboost\n",
    "import wandb\n",
    "from xgboost import plot_importance  # Uncomment if xgboost importance plot is required\n",
    "\n",
    "\n",
    "# NLP and Transformers\n",
    "from transformers import (AdamW, AutoModelForSequenceClassification, AutoModelForQuestionAnswering,\n",
    "                          AutoTokenizer, CamembertForSequenceClassification, DistilBertConfig,\n",
    "                          DistilBertForSequenceClassification, DistilBertModel, EarlyStoppingCallback,\n",
    "                          get_linear_schedule_with_warmup, RobertaForSequenceClassification, EvalPrediction,\n",
    "                          Trainer, TrainerCallback, TrainingArguments, XLMRobertaForSequenceClassification,\n",
    "                         DefaultDataCollator, BertForQuestionAnswering, DataCollatorWithPadding, PreTrainedTokenizerFast,\n",
    "                         default_data_collator, is_torch_xla_available)\n",
    "from datasets import Dataset, DatasetDict, load_dataset\n",
    "from transformers.trainer_utils import PredictionOutput, speed_metrics\n",
    "\n",
    "# Experiment Tracking and Optimization Utilities\n",
    "import optuna\n",
    "from optuna.trial import TrialState\n",
    "# import wandb  # Uncomment if using Weights & Biases for experiment tracking\n",
    "\n",
    "# Progress Bar Utilities\n",
    "from tqdm.notebook import tqdm\n"
   ]
  },
  {
   "cell_type": "code",
   "execution_count": 3,
   "id": "e7e79a74-41b2-4df5-9907-81609b0a4664",
   "metadata": {
    "tags": []
   },
   "outputs": [
    {
     "name": "stderr",
     "output_type": "stream",
     "text": [
      "wandb: Currently logged in as: mzak071 (COMPSCI714). Use `wandb login --relogin` to force relogin\n"
     ]
    },
    {
     "data": {
      "text/plain": [
       "True"
      ]
     },
     "execution_count": 3,
     "metadata": {},
     "output_type": "execute_result"
    }
   ],
   "source": [
    "#wandb.login(key='8f7092f0fdaf14add2b4cc07cb0e740080cdd8e7')\n",
    "wandb.login()"
   ]
  },
  {
   "cell_type": "code",
   "execution_count": 4,
   "id": "43b5ec0c-43fd-4678-90d7-23aec61145bd",
   "metadata": {
    "tags": []
   },
   "outputs": [
    {
     "name": "stdout",
     "output_type": "stream",
     "text": [
      "GPU: NVIDIA GeForce RTX 4070 Ti SUPER is available.\n",
      "cuda\n"
     ]
    }
   ],
   "source": [
    "class LoggingCallback(TrainerCallback):\n",
    "    def __init__(self, log_path):\n",
    "        self.log_path = log_path\n",
    "    def on_log(self, args, state, control, logs=None, **kwargs):\n",
    "        _ = logs.pop(\"total_flos\", None)\n",
    "        if state.is_local_process_zero:\n",
    "            with open(self.log_path, \"a\") as f:\n",
    "                f.write(json.dumps(logs) + \"\\n\")\n",
    "\n",
    "if torch.cuda.is_available():\n",
    "    print(f\"GPU: {torch.cuda.get_device_name(0)} is available.\")\n",
    "else:\n",
    "    print(\"No GPU available. Training will run on CPU.\")\n",
    "\n",
    "device = torch.device(\"cuda\" if torch.cuda.is_available() else \"cpu\")\n",
    "print(device)"
   ]
  },
  {
   "cell_type": "markdown",
   "id": "c99df6ec-d898-46f9-b70e-ae04b589fc5d",
   "metadata": {
    "jp-MarkdownHeadingCollapsed": true,
    "tags": []
   },
   "source": [
    "## 1. Global Variables"
   ]
  },
  {
   "cell_type": "code",
   "execution_count": 6,
   "id": "48397c5d-36bd-4131-91d3-2d999fba6bf6",
   "metadata": {
    "tags": []
   },
   "outputs": [],
   "source": [
    "## Arguments and global vriables\n",
    "global_doc_stride = 128\n",
    "pretrained_model_name = \"albert/albert-base-v2\"\n",
    "normalized_model_name = pretrained_model_name.replace(\"/\", \"-\")\n",
    "tokenizer = AutoTokenizer.from_pretrained(pretrained_model_name)\n",
    "assert isinstance( tokenizer, PreTrainedTokenizerFast )\n",
    "data_collator = DefaultDataCollator()\n",
    "max_seq_length = tokenizer.model_max_length\n",
    "version_2_with_negative = True\n",
    "no_answer_threshold = 0.0166\n",
    "right_padding = tokenizer.padding_side == 'right'\n",
    "global_counter = 0\n",
    "traing_answer_mismatches = []\n",
    "logger = logging.getLogger(__name__)\n",
    "global train_dataset\n",
    "global eval_dataset\n",
    "global cleaned_training_dataset"
   ]
  },
  {
   "cell_type": "markdown",
   "id": "422e5e8a-5629-4c28-9b45-5517ea8d2595",
   "metadata": {
    "jp-MarkdownHeadingCollapsed": true,
    "tags": []
   },
   "source": [
    "## 1. Q&A Reusable Functions"
   ]
  },
  {
   "cell_type": "code",
   "execution_count": 8,
   "id": "6d9332f3-fb9e-4f2d-9fa8-1f0f93568b0a",
   "metadata": {
    "tags": []
   },
   "outputs": [],
   "source": [
    "### Compute_metrics function for Question and Answering problem is different to classification, more preocessing required.\n",
    "metric = evaluate.load(\"squad_v2\")\n",
    "\n",
    "def compute_metrics(p: EvalPrediction):\n",
    "        return metric.compute(predictions=p.predictions, references=p.label_ids)"
   ]
  },
  {
   "cell_type": "code",
   "execution_count": 9,
   "id": "0f7dfb04-f23c-4bf8-af88-4a33c6ad3c14",
   "metadata": {
    "tags": []
   },
   "outputs": [],
   "source": [
    "\"\"\"\n",
    "A subclass of `Trainer` specific to Question-Answering tasks\n",
    "\"\"\"\n",
    "\n",
    "if is_torch_xla_available():\n",
    "    import torch_xla.core.xla_model as xm\n",
    "    import torch_xla.debug.metrics as met\n",
    "\n",
    "\n",
    "class QuestionAnsweringTrainer(Trainer):\n",
    "    def __init__(self, *args, eval_examples=None, post_process_function=None, **kwargs):\n",
    "        super().__init__(*args, **kwargs)\n",
    "        self.eval_examples = eval_examples\n",
    "        self.post_process_function = post_process_function\n",
    "\n",
    "    def evaluate(self, eval_dataset=None, eval_examples=None, ignore_keys=None, metric_key_prefix: str = \"eval\"):\n",
    "        eval_dataset = self.eval_dataset if eval_dataset is None else eval_dataset\n",
    "        eval_dataloader = self.get_eval_dataloader(eval_dataset)\n",
    "        eval_examples = self.eval_examples if eval_examples is None else eval_examples\n",
    "\n",
    "        # Temporarily disable metric computation, we will do it in the loop here.\n",
    "        compute_metrics = self.compute_metrics\n",
    "        self.compute_metrics = None\n",
    "        eval_loop = self.prediction_loop if self.args.use_legacy_prediction_loop else self.evaluation_loop\n",
    "        start_time = time.time()\n",
    "        try:\n",
    "            output = eval_loop(\n",
    "                eval_dataloader,\n",
    "                description=\"Evaluation\",\n",
    "                # No point gathering the predictions if there are no metrics, otherwise we defer to\n",
    "                # self.args.prediction_loss_only\n",
    "                prediction_loss_only=True if compute_metrics is None else None,\n",
    "                ignore_keys=ignore_keys,\n",
    "                metric_key_prefix=metric_key_prefix,\n",
    "            )\n",
    "        finally:\n",
    "            self.compute_metrics = compute_metrics\n",
    "        total_batch_size = self.args.eval_batch_size * self.args.world_size\n",
    "        if f\"{metric_key_prefix}_jit_compilation_time\" in output.metrics:\n",
    "            start_time += output.metrics[f\"{metric_key_prefix}_jit_compilation_time\"]\n",
    "        output.metrics.update(\n",
    "            speed_metrics(\n",
    "                metric_key_prefix,\n",
    "                start_time,\n",
    "                num_samples=output.num_samples,\n",
    "                num_steps=math.ceil(output.num_samples / total_batch_size),\n",
    "            )\n",
    "        )\n",
    "        if self.post_process_function is not None and self.compute_metrics is not None and self.args.should_save:\n",
    "            # Only the main node write the results by default\n",
    "            eval_preds = self.post_process_function(eval_examples, eval_dataset, output.predictions)\n",
    "            metrics = self.compute_metrics(eval_preds)\n",
    "\n",
    "            # Prefix all keys with metric_key_prefix + '_'\n",
    "            for key in list(metrics.keys()):\n",
    "                if not key.startswith(f\"{metric_key_prefix}_\"):\n",
    "                    metrics[f\"{metric_key_prefix}_{key}\"] = metrics.pop(key)\n",
    "            metrics.update(output.metrics)\n",
    "        else:\n",
    "            metrics = output.metrics\n",
    "\n",
    "        if self.args.should_log:\n",
    "            # Only the main node log the results by default\n",
    "            self.log(metrics)\n",
    "\n",
    "        if self.args.tpu_metrics_debug or self.args.debug:\n",
    "            # tpu-comment: Logging debug metrics for PyTorch/XLA (compile, execute times, ops, etc.)\n",
    "            xm.master_print(met.metrics_report())\n",
    "\n",
    "        self.control = self.callback_handler.on_evaluate(self.args, self.state, self.control, metrics)\n",
    "        return metrics\n",
    "\n",
    "    def predict(self, predict_dataset, predict_examples, ignore_keys=None, metric_key_prefix: str = \"test\"):\n",
    "        predict_dataloader = self.get_test_dataloader(predict_dataset)\n",
    "\n",
    "        # Temporarily disable metric computation, we will do it in the loop here.\n",
    "        compute_metrics = self.compute_metrics\n",
    "        self.compute_metrics = None\n",
    "        eval_loop = self.prediction_loop if self.args.use_legacy_prediction_loop else self.evaluation_loop\n",
    "        start_time = time.time()\n",
    "        try:\n",
    "            output = eval_loop(\n",
    "                predict_dataloader,\n",
    "                description=\"Prediction\",\n",
    "                # No point gathering the predictions if there are no metrics, otherwise we defer to\n",
    "                # self.args.prediction_loss_only\n",
    "                prediction_loss_only=True if compute_metrics is None else None,\n",
    "                ignore_keys=ignore_keys,\n",
    "                metric_key_prefix=metric_key_prefix,\n",
    "            )\n",
    "        finally:\n",
    "            self.compute_metrics = compute_metrics\n",
    "        total_batch_size = self.args.eval_batch_size * self.args.world_size\n",
    "        if f\"{metric_key_prefix}_jit_compilation_time\" in output.metrics:\n",
    "            start_time += output.metrics[f\"{metric_key_prefix}_jit_compilation_time\"]\n",
    "        output.metrics.update(\n",
    "            speed_metrics(\n",
    "                metric_key_prefix,\n",
    "                start_time,\n",
    "                num_samples=output.num_samples,\n",
    "                num_steps=math.ceil(output.num_samples / total_batch_size),\n",
    "            )\n",
    "        )\n",
    "\n",
    "        if self.post_process_function is None or self.compute_metrics is None:\n",
    "            return output\n",
    "\n",
    "        predictions = self.post_process_function(predict_examples, predict_dataset, output.predictions, \"predict\")\n",
    "        metrics = self.compute_metrics(predictions)\n",
    "\n",
    "        # Prefix all keys with metric_key_prefix + '_'\n",
    "        for key in list(metrics.keys()):\n",
    "            if not key.startswith(f\"{metric_key_prefix}_\"):\n",
    "                metrics[f\"{metric_key_prefix}_{key}\"] = metrics.pop(key)\n",
    "        metrics.update(output.metrics)\n",
    "        return PredictionOutput(predictions=predictions.predictions, label_ids=predictions.label_ids, metrics=metrics)"
   ]
  },
  {
   "cell_type": "code",
   "execution_count": 10,
   "id": "9529d45f-9433-444c-a57d-9c8af9a2d65e",
   "metadata": {
    "tags": []
   },
   "outputs": [],
   "source": [
    "def prepare_validation_features(examples):\n",
    "  # Some of the questions have lots of whitespace on the left, which is not useful and will make the\n",
    "  # truncation of the context fail (the tokenized question will take a lots of space). So we remove that\n",
    "  # left whitespace\n",
    "    examples[\"question\"] = [q.lstrip() for q in examples[\"question\"]]\n",
    "  # Tokenize our examples with truncation and maybe padding, but keep the overflows using a stride. This results\n",
    "  # in one example possible giving several features when a context is long, each of those features having a\n",
    "  # context that overlaps a bit the context of the previous feature.\n",
    "    tokenized_examples = tokenizer(\n",
    "      examples[\"question\"],\n",
    "      examples[\"context\"],\n",
    "      truncation=\"only_second\" if right_padding else \"only_first\",\n",
    "      max_length=max_seq_length,\n",
    "      stride=global_doc_stride,\n",
    "      return_overflowing_tokens=True,\n",
    "      return_offsets_mapping=True,\n",
    "      padding=\"max_length\",\n",
    "  )\n",
    "\n",
    "  # Since one example might give us several features if it has a long context, we need a map from a feature to\n",
    "  # its corresponding example. This key gives us just that.\n",
    "    sample_mapping = tokenized_examples.pop(\"overflow_to_sample_mapping\")\n",
    "\n",
    "  # For evaluation, we will need to convert our predictions to substrings of the context, so we keep the\n",
    "  # corresponding example_id and we will store the offset mappings.\n",
    "    tokenized_examples[\"example_id\"] = []\n",
    "\n",
    "    for i in range(len(tokenized_examples[\"input_ids\"])):\n",
    "      # Grab the sequence corresponding to that example (to know what is the context and what is the question).\n",
    "        sequence_ids = tokenized_examples.sequence_ids(i)\n",
    "        context_index = 0\n",
    "\n",
    "      # One example can give several spans, this is the index of the example containing this span of text.\n",
    "        sample_index = sample_mapping[i]\n",
    "        tokenized_examples[\"example_id\"].append(examples[\"id\"][sample_index])\n",
    "\n",
    "      # Set to None the offset_mapping that are not part of the context so it's easy to determine if a token\n",
    "      # position is part of the context or not.\n",
    "        tokenized_examples[\"offset_mapping\"][i] = [\n",
    "            (o if sequence_ids[k] == context_index else None)\n",
    "            for k, o in enumerate(tokenized_examples[\"offset_mapping\"][i])\n",
    "      ]\n",
    "\n",
    "    return tokenized_examples"
   ]
  },
  {
   "cell_type": "code",
   "execution_count": 11,
   "id": "ee8955f9-eee2-4b36-aa63-6b1f7da7334d",
   "metadata": {},
   "outputs": [],
   "source": [
    "# Validation preprocessing\n",
    "def prepare_validation_features(examples):\n",
    "    # Some of the questions have lots of whitespace on the left, which is not useful and will make the\n",
    "    # truncation of the context fail (the tokenized question will take a lots of space). So we remove that\n",
    "    # left whitespace\n",
    "    examples[\"question\"] = [q.lstrip() for q in examples[\"question\"]]\n",
    "\n",
    "    # Tokenize our examples with truncation and maybe padding, but keep the overflows using a stride. This results\n",
    "    # in one example possible giving several features when a context is long, each of those features having a\n",
    "    # context that overlaps a bit the context of the previous feature.\n",
    "    tokenized_examples = tokenizer(\n",
    "        examples[\"question\" if right_padding else \"context\"],\n",
    "        examples[\"context\" if right_padding else \"question\"],\n",
    "        truncation=\"only_second\" if right_padding else \"only_first\",\n",
    "        max_length=max_seq_length,\n",
    "        stride=global_doc_stride,\n",
    "        return_overflowing_tokens=True,\n",
    "        return_offsets_mapping=True,\n",
    "        padding=\"max_length\",\n",
    "    )\n",
    "\n",
    "    # Since one example might give us several features if it has a long context, we need a map from a feature to\n",
    "    # its corresponding example. This key gives us just that.\n",
    "    sample_mapping = tokenized_examples.pop(\"overflow_to_sample_mapping\")\n",
    "\n",
    "    # For evaluation, we will need to convert our predictions to substrings of the context, so we keep the\n",
    "    # corresponding example_id and we will store the offset mappings.\n",
    "    tokenized_examples[\"example_id\"] = []\n",
    "\n",
    "    for i in range(len(tokenized_examples[\"input_ids\"])):\n",
    "        # Grab the sequence corresponding to that example (to know what is the context and what is the question).\n",
    "        sequence_ids = tokenized_examples.sequence_ids(i)\n",
    "        context_index = 1 if right_padding else 0\n",
    "\n",
    "        # One example can give several spans, this is the index of the example containing this span of text.\n",
    "        sample_index = sample_mapping[i]\n",
    "        tokenized_examples[\"example_id\"].append(examples[\"id\"][sample_index])\n",
    "\n",
    "        # Set to None the offset_mapping that are not part of the context so it's easy to determine if a token\n",
    "        # position is part of the context or not.\n",
    "        tokenized_examples[\"offset_mapping\"][i] = [\n",
    "            (o if sequence_ids[k] == context_index else None)\n",
    "            for k, o in enumerate(tokenized_examples[\"offset_mapping\"][i])\n",
    "        ]\n",
    "\n",
    "    return tokenized_examples"
   ]
  },
  {
   "cell_type": "code",
   "execution_count": 12,
   "id": "46fd26da-ec5a-4d8c-88bd-b75f41388a74",
   "metadata": {},
   "outputs": [],
   "source": [
    "# Post-processing:\n",
    "def post_processing_function(examples, features, predictions, stage=\"eval\"):\n",
    "    # Post-processing: we match the start logits and end logits to answers in the original context.\n",
    "    predictions = postprocess_qa_predictions(\n",
    "        examples=examples,\n",
    "        features=features,\n",
    "        predictions=predictions,\n",
    "        version_2_with_negative=version_2_with_negative, #If true, some of the examples do not have an answer.\n",
    "        n_best_size=20, #The total number of n-best predictions to generate when looking for an answer.\n",
    "        max_answer_length=30, #The maximum length of an answer that can be generated. This is needed because the start and end predictions are not conditioned on one another.\n",
    "        null_score_diff_threshold=no_answer_threshold, #The threshold used to select the null answer: if the best answer has a score that is less than the score of the null answer minus this threshold, the null answer is selected for this example. Only useful when `version_2_with_negative=True`.\n",
    "        output_dir= None,\n",
    "        log_level=logging.WARNING,\n",
    "        prefix=stage,\n",
    "    )\n",
    "    # Format the result to the format the metric expects.\n",
    "    if version_2_with_negative:\n",
    "        formatted_predictions = [\n",
    "                {\"id\": str(k), \"prediction_text\": v, \"no_answer_probability\": 0.0} for k, v in predictions.items()\n",
    "            ]\n",
    "    else:\n",
    "        formatted_predictions = [{\"id\": str(k), \"prediction_text\": v} for k, v in predictions.items()]\n",
    "    \n",
    "    \n",
    "    references = [{\"id\": str(ex[\"id\"]), \"answers\": ex[\"answers\"]} for ex in examples]\n",
    "    return EvalPrediction(predictions=formatted_predictions, label_ids=references)"
   ]
  },
  {
   "cell_type": "code",
   "execution_count": 13,
   "id": "2d015b7f-512d-4a66-87e4-8b2949701bef",
   "metadata": {},
   "outputs": [],
   "source": [
    "def postprocess_qa_predictions(\n",
    "    examples,\n",
    "    features,\n",
    "    predictions: Tuple[np.ndarray, np.ndarray],\n",
    "    version_2_with_negative: bool = False,\n",
    "    n_best_size: int = 20,\n",
    "    max_answer_length: int = 30,\n",
    "    null_score_diff_threshold: float = 0.0,\n",
    "    output_dir: Optional[str] = None,\n",
    "    prefix: Optional[str] = None,\n",
    "    log_level: Optional[int] = logging.WARNING,\n",
    "):\n",
    "    \"\"\"\n",
    "    Post-processes the predictions of a question-answering model to convert them to answers that are substrings of the\n",
    "    original contexts. This is the base postprocessing functions for models that only return start and end logits.\n",
    "\n",
    "    Args:\n",
    "        examples: The non-preprocessed dataset (see the main script for more information).\n",
    "        features: The processed dataset (see the main script for more information).\n",
    "        predictions (:obj:`Tuple[np.ndarray, np.ndarray]`):\n",
    "            The predictions of the model: two arrays containing the start logits and the end logits respectively. Its\n",
    "            first dimension must match the number of elements of :obj:`features`.\n",
    "        version_2_with_negative (:obj:`bool`, `optional`, defaults to :obj:`False`):\n",
    "            Whether or not the underlying dataset contains examples with no answers.\n",
    "        n_best_size (:obj:`int`, `optional`, defaults to 20):\n",
    "            The total number of n-best predictions to generate when looking for an answer.\n",
    "        max_answer_length (:obj:`int`, `optional`, defaults to 30):\n",
    "            The maximum length of an answer that can be generated. This is needed because the start and end predictions\n",
    "            are not conditioned on one another.\n",
    "        null_score_diff_threshold (:obj:`float`, `optional`, defaults to 0):\n",
    "            The threshold used to select the null answer: if the best answer has a score that is less than the score of\n",
    "            the null answer minus this threshold, the null answer is selected for this example (note that the score of\n",
    "            the null answer for an example giving several features is the minimum of the scores for the null answer on\n",
    "            each feature: all features must be aligned on the fact they `want` to predict a null answer).\n",
    "\n",
    "            Only useful when :obj:`version_2_with_negative` is :obj:`True`.\n",
    "        output_dir (:obj:`str`, `optional`):\n",
    "            If provided, the dictionaries of predictions, n_best predictions (with their scores and logits) and, if\n",
    "            :obj:`version_2_with_negative=True`, the dictionary of the scores differences between best and null\n",
    "            answers, are saved in `output_dir`.\n",
    "        prefix (:obj:`str`, `optional`):\n",
    "            If provided, the dictionaries mentioned above are saved with `prefix` added to their names.\n",
    "        log_level (:obj:`int`, `optional`, defaults to ``logging.WARNING``):\n",
    "            ``logging`` log level (e.g., ``logging.WARNING``)\n",
    "    \"\"\"\n",
    "    if len(predictions) != 2:\n",
    "        raise ValueError(\"`predictions` should be a tuple with two elements (start_logits, end_logits).\")\n",
    "    all_start_logits, all_end_logits = predictions\n",
    "\n",
    "    if len(predictions[0]) != len(features):\n",
    "        raise ValueError(f\"Got {len(predictions[0])} predictions and {len(features)} features.\")\n",
    "\n",
    "    # Build a map example to its corresponding features.\n",
    "    example_id_to_index = {k: i for i, k in enumerate(examples[\"id\"])}\n",
    "    features_per_example = collections.defaultdict(list)\n",
    "    for i, feature in enumerate(features):\n",
    "        features_per_example[example_id_to_index[feature[\"example_id\"]]].append(i)\n",
    "\n",
    "    # The dictionaries we have to fill.\n",
    "    all_predictions = collections.OrderedDict()\n",
    "    all_nbest_json = collections.OrderedDict()\n",
    "    if version_2_with_negative:\n",
    "        scores_diff_json = collections.OrderedDict()\n",
    "\n",
    "    # Logging.\n",
    "    logger.setLevel(log_level)\n",
    "    logger.info(f\"Post-processing {len(examples)} example predictions split into {len(features)} features.\")\n",
    "\n",
    "    # Let's loop over all the examples!\n",
    "    for example_index, example in enumerate(tqdm(examples)):\n",
    "        # Those are the indices of the features associated to the current example.\n",
    "        feature_indices = features_per_example[example_index]\n",
    "\n",
    "        min_null_prediction = None\n",
    "        prelim_predictions = []\n",
    "\n",
    "        # Looping through all the features associated to the current example.\n",
    "        for feature_index in feature_indices:\n",
    "            # We grab the predictions of the model for this feature.\n",
    "            start_logits = all_start_logits[feature_index]\n",
    "            end_logits = all_end_logits[feature_index]\n",
    "            # This is what will allow us to map some the positions in our logits to span of texts in the original\n",
    "            # context.\n",
    "            offset_mapping = features[feature_index][\"offset_mapping\"]\n",
    "            # Optional `token_is_max_context`, if provided we will remove answers that do not have the maximum context\n",
    "            # available in the current feature.\n",
    "            token_is_max_context = features[feature_index].get(\"token_is_max_context\", None)\n",
    "\n",
    "            # Update minimum null prediction.\n",
    "            feature_null_score = start_logits[0] + end_logits[0]\n",
    "            if min_null_prediction is None or min_null_prediction[\"score\"] > feature_null_score:\n",
    "                min_null_prediction = {\n",
    "                    \"offsets\": (0, 0),\n",
    "                    \"score\": feature_null_score,\n",
    "                    \"start_logit\": start_logits[0],\n",
    "                    \"end_logit\": end_logits[0],\n",
    "                }\n",
    "\n",
    "            # Go through all possibilities for the `n_best_size` greater start and end logits.\n",
    "            start_indexes = np.argsort(start_logits)[-1 : -n_best_size - 1 : -1].tolist()\n",
    "            end_indexes = np.argsort(end_logits)[-1 : -n_best_size - 1 : -1].tolist()\n",
    "            for start_index in start_indexes:\n",
    "                for end_index in end_indexes:\n",
    "                    # Don't consider out-of-scope answers, either because the indices are out of bounds or correspond\n",
    "                    # to part of the input_ids that are not in the context.\n",
    "                    if (\n",
    "                        start_index >= len(offset_mapping)\n",
    "                        or end_index >= len(offset_mapping)\n",
    "                        or offset_mapping[start_index] is None\n",
    "                        or len(offset_mapping[start_index]) < 2\n",
    "                        or offset_mapping[end_index] is None\n",
    "                        or len(offset_mapping[end_index]) < 2\n",
    "                    ):\n",
    "                        continue\n",
    "                    # Don't consider answers with a length that is either < 0 or > max_answer_length.\n",
    "                    if end_index < start_index or end_index - start_index + 1 > max_answer_length:\n",
    "                        continue\n",
    "                    # Don't consider answer that don't have the maximum context available (if such information is\n",
    "                    # provided).\n",
    "                    if token_is_max_context is not None and not token_is_max_context.get(str(start_index), False):\n",
    "                        continue\n",
    "\n",
    "                    prelim_predictions.append(\n",
    "                        {\n",
    "                            \"offsets\": (offset_mapping[start_index][0], offset_mapping[end_index][1]),\n",
    "                            \"score\": start_logits[start_index] + end_logits[end_index],\n",
    "                            \"start_logit\": start_logits[start_index],\n",
    "                            \"end_logit\": end_logits[end_index],\n",
    "                        }\n",
    "                    )\n",
    "        if version_2_with_negative and min_null_prediction is not None:\n",
    "            # Add the minimum null prediction\n",
    "            prelim_predictions.append(min_null_prediction)\n",
    "            null_score = min_null_prediction[\"score\"]\n",
    "\n",
    "        # Only keep the best `n_best_size` predictions.\n",
    "        predictions = sorted(prelim_predictions, key=lambda x: x[\"score\"], reverse=True)[:n_best_size]\n",
    "\n",
    "        # Add back the minimum null prediction if it was removed because of its low score.\n",
    "        if (\n",
    "            version_2_with_negative\n",
    "            and min_null_prediction is not None\n",
    "            and not any(p[\"offsets\"] == (0, 0) for p in predictions)\n",
    "        ):\n",
    "            predictions.append(min_null_prediction)\n",
    "\n",
    "        # Use the offsets to gather the answer text in the original context.\n",
    "        context = example[\"context\"]\n",
    "        for pred in predictions:\n",
    "            offsets = pred.pop(\"offsets\")\n",
    "            pred[\"text\"] = context[offsets[0] : offsets[1]]\n",
    "\n",
    "        # In the very rare edge case we have not a single non-null prediction, we create a fake prediction to avoid\n",
    "        # failure.\n",
    "        if len(predictions) == 0 or (len(predictions) == 1 and predictions[0][\"text\"] == \"\"):\n",
    "            predictions.insert(0, {\"text\": \"empty\", \"start_logit\": 0.0, \"end_logit\": 0.0, \"score\": 0.0})\n",
    "\n",
    "        # Compute the softmax of all scores (we do it with numpy to stay independent from torch/tf in this file, using\n",
    "        # the LogSumExp trick).\n",
    "        scores = np.array([pred.pop(\"score\") for pred in predictions])\n",
    "        exp_scores = np.exp(scores - np.max(scores))\n",
    "        probs = exp_scores / exp_scores.sum()\n",
    "\n",
    "        # Include the probabilities in our predictions.\n",
    "        for prob, pred in zip(probs, predictions):\n",
    "            pred[\"probability\"] = prob\n",
    "\n",
    "        # Pick the best prediction. If the null answer is not possible, this is easy.\n",
    "        if not version_2_with_negative:\n",
    "            all_predictions[example[\"id\"]] = predictions[0][\"text\"]\n",
    "        else:\n",
    "            # Otherwise we first need to find the best non-empty prediction.\n",
    "            i = 0\n",
    "            while predictions[i][\"text\"] == \"\":\n",
    "                i += 1\n",
    "            best_non_null_pred = predictions[i]\n",
    "\n",
    "            # Then we compare to the null prediction using the threshold.\n",
    "            score_diff = null_score - best_non_null_pred[\"start_logit\"] - best_non_null_pred[\"end_logit\"]\n",
    "            scores_diff_json[example[\"id\"]] = float(score_diff)  # To be JSON-serializable.\n",
    "            if score_diff > null_score_diff_threshold:\n",
    "                all_predictions[example[\"id\"]] = \"\"\n",
    "            else:\n",
    "                all_predictions[example[\"id\"]] = best_non_null_pred[\"text\"]\n",
    "\n",
    "        # Make `predictions` JSON-serializable by casting np.float back to float.\n",
    "        all_nbest_json[example[\"id\"]] = [\n",
    "            {k: (float(v) if isinstance(v, (np.float16, np.float32, np.float64)) else v) for k, v in pred.items()}\n",
    "            for pred in predictions\n",
    "        ]\n",
    "\n",
    "    # If we have an output_dir, let's save all those dicts.\n",
    "    if output_dir is not None:\n",
    "        if not os.path.isdir(output_dir):\n",
    "            raise EnvironmentError(f\"{output_dir} is not a directory.\")\n",
    "\n",
    "        prediction_file = os.path.join(\n",
    "            output_dir, \"predictions.json\" if prefix is None else f\"{prefix}_predictions.json\"\n",
    "        )\n",
    "        nbest_file = os.path.join(\n",
    "            output_dir, \"nbest_predictions.json\" if prefix is None else f\"{prefix}_nbest_predictions.json\"\n",
    "        )\n",
    "        if version_2_with_negative:\n",
    "            null_odds_file = os.path.join(\n",
    "                output_dir, \"null_odds.json\" if prefix is None else f\"{prefix}_null_odds.json\"\n",
    "            )\n",
    "\n",
    "        logger.info(f\"Saving predictions to {prediction_file}.\")\n",
    "        with open(prediction_file, \"w\") as writer:\n",
    "            writer.write(json.dumps(all_predictions, indent=4) + \"\\n\")\n",
    "        logger.info(f\"Saving nbest_preds to {nbest_file}.\")\n",
    "        with open(nbest_file, \"w\") as writer:\n",
    "            writer.write(json.dumps(all_nbest_json, indent=4) + \"\\n\")\n",
    "        if version_2_with_negative:\n",
    "            logger.info(f\"Saving null_odds to {null_odds_file}.\")\n",
    "            with open(null_odds_file, \"w\") as writer:\n",
    "                writer.write(json.dumps(scores_diff_json, indent=4) + \"\\n\")\n",
    "\n",
    "    return all_predictions"
   ]
  },
  {
   "cell_type": "code",
   "execution_count": 14,
   "id": "aa993870-b078-4b43-ad6b-c11aa40c47ef",
   "metadata": {},
   "outputs": [],
   "source": [
    "# List of questions to debug\n",
    "debug_questions = [\n",
    "    \"What ideology was sponsored at the Ming court?\",\n",
    "    \"Who stopped their trips to Ming China?\",\n",
    "    \"Another question of interest\"\n",
    "]\n",
    "\n",
    "# Training preprocessing\n",
    "def preprocess_function(examples):\n",
    "    # Some of the questions have lots of whitespace on the left, which is not useful and will make the\n",
    "    # truncation of the context fail (the tokenized question will take a lots of space). So we remove that\n",
    "    # left whitespace\n",
    "    examples[\"question\"] = [q.lstrip() for q in examples[\"question\"]]\n",
    "\n",
    "    # Tokenize our examples with truncation and padding, but keep the overflows using a stride. This results\n",
    "    # in one example possible giving several features when a context is long, each of those features having a\n",
    "    # context that overlaps a bit the context of the previous feature.\n",
    "    tokenized_examples = tokenizer(\n",
    "        examples[\"question\" if right_padding else \"context\"],\n",
    "        examples[\"context\" if right_padding else \"question\"],\n",
    "        truncation=\"only_second\" if right_padding else \"only_first\",\n",
    "        max_length=max_seq_length,\n",
    "        stride=global_doc_stride,\n",
    "        return_overflowing_tokens=True,\n",
    "        return_offsets_mapping=True,\n",
    "        padding=\"max_length\",\n",
    "    )\n",
    "\n",
    "    # Since one example might give us several features if it has a long context, we need a map from a feature to\n",
    "    # its corresponding example. This key gives us just that.\n",
    "    sample_mapping = tokenized_examples.pop(\"overflow_to_sample_mapping\")\n",
    "    # The offset mappings will give us a map from token to character position in the original context. This will\n",
    "    # help us compute the start_positions and end_positions.\n",
    "    offset_mapping = tokenized_examples.pop(\"offset_mapping\")\n",
    "\n",
    "    # Let's label those examples!\n",
    "    tokenized_examples[\"start_positions\"] = []\n",
    "    tokenized_examples[\"end_positions\"] = []\n",
    "\n",
    "    for i, offsets in enumerate(offset_mapping):\n",
    "        # We will label impossible answers with the index of the CLS token.\n",
    "        input_ids = tokenized_examples[\"input_ids\"][i]\n",
    "        cls_index = input_ids.index(tokenizer.cls_token_id)\n",
    "        \n",
    "        # Grab the sequence corresponding to that example (to know what is the context and what is the question).\n",
    "        sequence_ids = tokenized_examples.sequence_ids(i)\n",
    "\n",
    "        # One example can give several spans, this is the index of the example containing this span of text.\n",
    "        sample_index = sample_mapping[i]\n",
    "        answers = examples[\"answers\"][sample_index]        \n",
    "        question = examples[\"question\"][sample_index]\n",
    "        example_id = examples[\"id\"][sample_index]\n",
    "        \n",
    "        # If no answers are given, set the cls_index as answer.\n",
    "        if len(answers[\"answer_start\"]) == 0:\n",
    "            tokenized_examples[\"start_positions\"].append(cls_index)\n",
    "            tokenized_examples[\"end_positions\"].append(cls_index)\n",
    "        else:\n",
    "            # Start/end character index of the answer in the text.\n",
    "            start_char = answers[\"answer_start\"][0]\n",
    "            end_char = start_char + len(answers[\"text\"][0])\n",
    "\n",
    "            # Start token index of the current span in the text.\n",
    "            token_start_index = 0\n",
    "            while sequence_ids[token_start_index] != (1 if right_padding else 0):\n",
    "                token_start_index += 1\n",
    "\n",
    "            # End token index of the current span in the text.\n",
    "            token_end_index = len(input_ids) - 1\n",
    "            while sequence_ids[token_end_index] != (1 if right_padding else 0):\n",
    "                token_end_index -= 1\n",
    "            \n",
    "            # Detect if the answer is out of the span (in which case this feature is labeled with the CLS index).\n",
    "            if not (offsets[token_start_index][0] <= start_char and offsets[token_end_index][1] >= end_char):\n",
    "                tokenized_examples[\"start_positions\"].append(cls_index)\n",
    "                tokenized_examples[\"end_positions\"].append(cls_index)\n",
    "            else:\n",
    "                # Increase the end index here to make sure it includes the last character\n",
    "                while token_start_index < len(offsets) and offsets[token_start_index][0] <= start_char:\n",
    "                    token_start_index += 1\n",
    "                safe_start_index = max(0, token_start_index - 1)\n",
    "                tokenized_examples[\"start_positions\"].append(safe_start_index)\n",
    "\n",
    "                # Adjust this line to ensure that the end character is included\n",
    "                # Decrement token_end_index to point exactly one past the end of the answer text\n",
    "                while token_end_index >= 0 and offsets[token_end_index][1] > end_char:\n",
    "                    token_end_index -= 1\n",
    "                safe_end_index = min(len(input_ids) - 1, token_end_index + 1)\n",
    "                tokenized_examples[\"end_positions\"].append(safe_end_index)  # Adjust to +2 if needed\n",
    "                \n",
    "        # Debugging code\n",
    "        global global_counter\n",
    "        global traing_answer_mismatches\n",
    "        #if question in debug_questions:\n",
    "        if len(answers[\"answer_start\"]) > 0:\n",
    "            # Ensure indices are within bounds\n",
    "            #safe_start_index = max(0, token_start_index - 1)\n",
    "            #safe_end_index = min(len(input_ids) - 1, token_end_index + 1)\n",
    "\n",
    "            # Decode the answer using safe indices\n",
    "            decoded_answer = tokenizer.decode(input_ids[safe_start_index:safe_end_index])\n",
    "            actual_answer = answers[\"text\"][0] if answers[\"text\"] else \"No answer provided\"\n",
    "            normalized_actual_answer = actual_answer.lower().replace(\" \", \"\")\n",
    "            normalized_decoded_answer = decoded_answer.lower().replace(\" \", \"\")\n",
    "            if normalized_decoded_answer != normalized_actual_answer:\n",
    "                if global_counter == 0: print('Mismatch Found')\n",
    "                global_counter += 1 \n",
    "                traing_answer_mismatches.append({\n",
    "                    'TokenizedId': i,\n",
    "                    'ID': example_id,\n",
    "                    'Question': question,\n",
    "                    'Offsets': offsets,\n",
    "                    'Input IDs':input_ids,\n",
    "                    'Tokenized Text': tokenizer.decode(input_ids),\n",
    "                    'Char start/end index': f\"{start_char} / {end_char}\",\n",
    "                    'Token start/end index':f\"{token_start_index} / {token_end_index}\",\n",
    "                    'Decoded Answer': decoded_answer,\n",
    "                    'Actual Answer': actual_answer,                    \n",
    "                })    \n",
    "    return tokenized_examples"
   ]
  },
  {
   "cell_type": "markdown",
   "id": "baaa50d9-d80b-4bcc-a9d4-66f8cb4084e9",
   "metadata": {
    "jp-MarkdownHeadingCollapsed": true,
    "tags": []
   },
   "source": [
    "## 2. Data Preparation"
   ]
  },
  {
   "cell_type": "code",
   "execution_count": 16,
   "id": "5b9fbac7-2668-43cb-addf-9c86174fd242",
   "metadata": {},
   "outputs": [],
   "source": [
    "# Load the full dataset\n",
    "full_squad_dataset = load_dataset(\"squad_v2\")"
   ]
  },
  {
   "cell_type": "code",
   "execution_count": 17,
   "id": "94f41120-057b-4dd8-9bbd-a5165dc726fe",
   "metadata": {
    "tags": []
   },
   "outputs": [
    {
     "name": "stdout",
     "output_type": "stream",
     "text": [
      "Train set size: 130319\n",
      "Validation set size: 11873\n"
     ]
    },
    {
     "data": {
      "text/plain": [
       "DatasetDict({\n",
       "    train: Dataset({\n",
       "        features: ['id', 'title', 'context', 'question', 'answers'],\n",
       "        num_rows: 130319\n",
       "    })\n",
       "    validation: Dataset({\n",
       "        features: ['id', 'title', 'context', 'question', 'answers'],\n",
       "        num_rows: 11873\n",
       "    })\n",
       "})"
      ]
     },
     "execution_count": 17,
     "metadata": {},
     "output_type": "execute_result"
    }
   ],
   "source": [
    "Use_Only_Sample = False\n",
    "Sample_Size = 10000\n",
    "\n",
    "if Use_Only_Sample:\n",
    "    # Load a sample portion of the dataset\n",
    "    squad_raw = datasets.DatasetDict({\n",
    "        'train': full_squad_dataset['train'].select(range(0, Sample_Size)),\n",
    "        'validation': full_squad_dataset['validation'].select(range(0, int(Sample_Size * 0.2)))\n",
    "    })\n",
    "else:\n",
    "    # Load the full dataset\n",
    "    squad_raw = datasets.DatasetDict({\n",
    "        'train': full_squad_dataset['train'],\n",
    "        'validation': full_squad_dataset['validation'],    \n",
    "    })\n",
    "    \n",
    "# Display the sizes of the splits to confirm\n",
    "print(\"Train set size:\", len(squad_raw['train']))\n",
    "print(\"Validation set size:\", len(squad_raw['validation']))\n",
    "squad_raw"
   ]
  },
  {
   "cell_type": "code",
   "execution_count": 18,
   "id": "af519485-cf11-4690-ba77-61eaace04e94",
   "metadata": {
    "tags": []
   },
   "outputs": [
    {
     "data": {
      "application/vnd.jupyter.widget-view+json": {
       "model_id": "582bed2f9c4444b7b28e3bf6bf12b02e",
       "version_major": 2,
       "version_minor": 0
      },
      "text/plain": [
       "Running tokenizer on train dataset:   0%|          | 0/130319 [00:00<?, ? examples/s]"
      ]
     },
     "metadata": {},
     "output_type": "display_data"
    },
    {
     "name": "stdout",
     "output_type": "stream",
     "text": [
      "Mismatch Found\n"
     ]
    }
   ],
   "source": [
    "## Preprocess the Training Dataset To find Missmatches\n",
    "global_counter = 0\n",
    "traing_answer_mismatches = []\n",
    "\n",
    "train_dataset = squad_raw['train'].map(\n",
    "                preprocess_function,\n",
    "                batched=True,\n",
    "                remove_columns=squad_raw[\"train\"].column_names,\n",
    "                desc=\"Running tokenizer on train dataset\",\n",
    "                load_from_cache_file=False,  # Disable caching\n",
    "            )\n"
   ]
  },
  {
   "cell_type": "code",
   "execution_count": 19,
   "id": "441d9c6a-242b-453d-b75e-3f6ca0a15c0e",
   "metadata": {
    "tags": []
   },
   "outputs": [
    {
     "name": "stdout",
     "output_type": "stream",
     "text": [
      "Total number of miss matches: 2015\n"
     ]
    },
    {
     "data": {
      "text/html": [
       "<div>\n",
       "<style scoped>\n",
       "    .dataframe tbody tr th:only-of-type {\n",
       "        vertical-align: middle;\n",
       "    }\n",
       "\n",
       "    .dataframe tbody tr th {\n",
       "        vertical-align: top;\n",
       "    }\n",
       "\n",
       "    .dataframe thead th {\n",
       "        text-align: right;\n",
       "    }\n",
       "</style>\n",
       "<table border=\"1\" class=\"dataframe\">\n",
       "  <thead>\n",
       "    <tr style=\"text-align: right;\">\n",
       "      <th></th>\n",
       "      <th>TokenizedId</th>\n",
       "      <th>ID</th>\n",
       "      <th>Question</th>\n",
       "      <th>Offsets</th>\n",
       "      <th>Input IDs</th>\n",
       "      <th>Tokenized Text</th>\n",
       "      <th>Char start/end index</th>\n",
       "      <th>Token start/end index</th>\n",
       "      <th>Decoded Answer</th>\n",
       "      <th>Actual Answer</th>\n",
       "    </tr>\n",
       "  </thead>\n",
       "  <tbody>\n",
       "    <tr>\n",
       "      <th>0</th>\n",
       "      <td>20</td>\n",
       "      <td>56bf6e823aeaaa14008c962a</td>\n",
       "      <td>Which album was darker in tone from her previo...</td>\n",
       "      <td>[(0, 0), (0, 5), (6, 11), (12, 15), (16, 22), ...</td>\n",
       "      <td>[2, 56, 244, 23, 10393, 19, 2919, 37, 36, 1158...</td>\n",
       "      <td>[CLS] which album was darker in tone from her ...</td>\n",
       "      <td>180 / 187</td>\n",
       "      <td>67 / 66</td>\n",
       "      <td>beyonce</td>\n",
       "      <td>Beyoncé</td>\n",
       "    </tr>\n",
       "    <tr>\n",
       "      <th>1</th>\n",
       "      <td>64</td>\n",
       "      <td>56be8bab3aeaaa14008c90a0</td>\n",
       "      <td>In 1995, who decided to manage the girls singi...</td>\n",
       "      <td>[(0, 0), (0, 2), (3, 7), (7, 8), (9, 12), (13,...</td>\n",
       "      <td>[2, 19, 1485, 15, 72, 868, 20, 4705, 14, 1258,...</td>\n",
       "      <td>[CLS] in 1995, who decided to manage the girls...</td>\n",
       "      <td>542 / 558</td>\n",
       "      <td>134 / 136</td>\n",
       "      <td>beyonce's father</td>\n",
       "      <td>Beyoncé's father</td>\n",
       "    </tr>\n",
       "    <tr>\n",
       "      <th>2</th>\n",
       "      <td>92</td>\n",
       "      <td>56bf7e603aeaaa14008c9681</td>\n",
       "      <td>What event caused Beyonce's depression?</td>\n",
       "      <td>[(0, 0), (0, 4), (5, 10), (11, 17), (18, 25), ...</td>\n",
       "      <td>[2, 98, 807, 1497, 24809, 22, 18, 4952, 60, 3,...</td>\n",
       "      <td>[CLS] what event caused beyonce's depression?[...</td>\n",
       "      <td>194 / 222</td>\n",
       "      <td>45 / 49</td>\n",
       "      <td>split with luckett and rob</td>\n",
       "      <td>split with Luckett and Rober</td>\n",
       "    </tr>\n",
       "    <tr>\n",
       "      <th>3</th>\n",
       "      <td>96</td>\n",
       "      <td>56d462f82ccc5a1400d83120</td>\n",
       "      <td>Who was blamed for Luckett and Roberson leavin...</td>\n",
       "      <td>[(0, 0), (0, 3), (4, 7), (8, 14), (15, 18), (1...</td>\n",
       "      <td>[2, 72, 23, 11540, 26, 5419, 3317, 17, 3830, 9...</td>\n",
       "      <td>[CLS] who was blamed for luckett and roberson ...</td>\n",
       "      <td>149 / 156</td>\n",
       "      <td>47 / 46</td>\n",
       "      <td>beyonce</td>\n",
       "      <td>Beyoncé</td>\n",
       "    </tr>\n",
       "    <tr>\n",
       "      <th>4</th>\n",
       "      <td>116</td>\n",
       "      <td>56bf8c8aa10cfb140055116c</td>\n",
       "      <td>What large amount did the movie \"Goldmember\" g...</td>\n",
       "      <td>[(0, 0), (0, 4), (5, 10), (11, 17), (18, 21), ...</td>\n",
       "      <td>[2, 98, 370, 2006, 144, 14, 1308, 13, 7, 10279...</td>\n",
       "      <td>[CLS] what large amount did the movie \"goldmem...</td>\n",
       "      <td>210 / 220</td>\n",
       "      <td>55 / 56</td>\n",
       "      <td>$73 million</td>\n",
       "      <td>73 million</td>\n",
       "    </tr>\n",
       "    <tr>\n",
       "      <th>5</th>\n",
       "      <td>150</td>\n",
       "      <td>56be932e3aeaaa14008c90fa</td>\n",
       "      <td>The lead single from the album was which song?</td>\n",
       "      <td>[(0, 0), (0, 3), (4, 8), (9, 15), (16, 20), (2...</td>\n",
       "      <td>[2, 14, 672, 345, 37, 14, 244, 23, 56, 338, 60...</td>\n",
       "      <td>[CLS] the lead single from the album was which...</td>\n",
       "      <td>303 / 310</td>\n",
       "      <td>82 / 83</td>\n",
       "      <td>deja vu</td>\n",
       "      <td>Déjà Vu</td>\n",
       "    </tr>\n",
       "    <tr>\n",
       "      <th>6</th>\n",
       "      <td>164</td>\n",
       "      <td>56be94703aeaaa14008c9106</td>\n",
       "      <td>How much money did Beyonce's tour make in 2007?</td>\n",
       "      <td>[(0, 0), (0, 3), (4, 8), (9, 14), (15, 18), (1...</td>\n",
       "      <td>[2, 184, 212, 875, 144, 24809, 22, 18, 846, 23...</td>\n",
       "      <td>[CLS] how much money did beyonce's tour make i...</td>\n",
       "      <td>671 / 681</td>\n",
       "      <td>147 / 147</td>\n",
       "      <td>$24 million</td>\n",
       "      <td>24 million</td>\n",
       "    </tr>\n",
       "    <tr>\n",
       "      <th>7</th>\n",
       "      <td>165</td>\n",
       "      <td>56bf95eaa10cfb1400551194</td>\n",
       "      <td>How many millions of dollars did ''The Pink Pa...</td>\n",
       "      <td>[(0, 0), (0, 3), (4, 8), (9, 17), (18, 20), (2...</td>\n",
       "      <td>[2, 184, 151, 11999, 16, 5415, 144, 13, 7, 124...</td>\n",
       "      <td>[CLS] how many millions of dollars did \"the pi...</td>\n",
       "      <td>112 / 125</td>\n",
       "      <td>41 / 44</td>\n",
       "      <td>$158.8 million</td>\n",
       "      <td>158.8 million</td>\n",
       "    </tr>\n",
       "    <tr>\n",
       "      <th>8</th>\n",
       "      <td>166</td>\n",
       "      <td>56bf95eaa10cfb1400551195</td>\n",
       "      <td>What did Beyonce call her first concert tour?</td>\n",
       "      <td>[(0, 0), (0, 4), (5, 8), (9, 16), (17, 21), (2...</td>\n",
       "      <td>[2, 98, 144, 24809, 645, 36, 64, 2254, 846, 60...</td>\n",
       "      <td>[CLS] what did beyonce call her first concert ...</td>\n",
       "      <td>576 / 598</td>\n",
       "      <td>128 / 129</td>\n",
       "      <td>the beyonce experience</td>\n",
       "      <td>The Beyoncé Experience</td>\n",
       "    </tr>\n",
       "    <tr>\n",
       "      <th>9</th>\n",
       "      <td>171</td>\n",
       "      <td>56d4bd272ccc5a1400d831a3</td>\n",
       "      <td>What was the name of Beyoncé's first internati...</td>\n",
       "      <td>[(0, 0), (0, 4), (5, 8), (9, 12), (13, 17), (1...</td>\n",
       "      <td>[2, 98, 23, 14, 204, 16, 24809, 22, 18, 64, 29...</td>\n",
       "      <td>[CLS] what was the name of beyonce's first int...</td>\n",
       "      <td>576 / 598</td>\n",
       "      <td>131 / 132</td>\n",
       "      <td>the beyonce experience</td>\n",
       "      <td>The Beyoncé Experience</td>\n",
       "    </tr>\n",
       "  </tbody>\n",
       "</table>\n",
       "</div>"
      ],
      "text/plain": [
       "   TokenizedId                        ID  \\\n",
       "0           20  56bf6e823aeaaa14008c962a   \n",
       "1           64  56be8bab3aeaaa14008c90a0   \n",
       "2           92  56bf7e603aeaaa14008c9681   \n",
       "3           96  56d462f82ccc5a1400d83120   \n",
       "4          116  56bf8c8aa10cfb140055116c   \n",
       "5          150  56be932e3aeaaa14008c90fa   \n",
       "6          164  56be94703aeaaa14008c9106   \n",
       "7          165  56bf95eaa10cfb1400551194   \n",
       "8          166  56bf95eaa10cfb1400551195   \n",
       "9          171  56d4bd272ccc5a1400d831a3   \n",
       "\n",
       "                                            Question  \\\n",
       "0  Which album was darker in tone from her previo...   \n",
       "1  In 1995, who decided to manage the girls singi...   \n",
       "2            What event caused Beyonce's depression?   \n",
       "3  Who was blamed for Luckett and Roberson leavin...   \n",
       "4  What large amount did the movie \"Goldmember\" g...   \n",
       "5     The lead single from the album was which song?   \n",
       "6    How much money did Beyonce's tour make in 2007?   \n",
       "7  How many millions of dollars did ''The Pink Pa...   \n",
       "8      What did Beyonce call her first concert tour?   \n",
       "9  What was the name of Beyoncé's first internati...   \n",
       "\n",
       "                                             Offsets  \\\n",
       "0  [(0, 0), (0, 5), (6, 11), (12, 15), (16, 22), ...   \n",
       "1  [(0, 0), (0, 2), (3, 7), (7, 8), (9, 12), (13,...   \n",
       "2  [(0, 0), (0, 4), (5, 10), (11, 17), (18, 25), ...   \n",
       "3  [(0, 0), (0, 3), (4, 7), (8, 14), (15, 18), (1...   \n",
       "4  [(0, 0), (0, 4), (5, 10), (11, 17), (18, 21), ...   \n",
       "5  [(0, 0), (0, 3), (4, 8), (9, 15), (16, 20), (2...   \n",
       "6  [(0, 0), (0, 3), (4, 8), (9, 14), (15, 18), (1...   \n",
       "7  [(0, 0), (0, 3), (4, 8), (9, 17), (18, 20), (2...   \n",
       "8  [(0, 0), (0, 4), (5, 8), (9, 16), (17, 21), (2...   \n",
       "9  [(0, 0), (0, 4), (5, 8), (9, 12), (13, 17), (1...   \n",
       "\n",
       "                                           Input IDs  \\\n",
       "0  [2, 56, 244, 23, 10393, 19, 2919, 37, 36, 1158...   \n",
       "1  [2, 19, 1485, 15, 72, 868, 20, 4705, 14, 1258,...   \n",
       "2  [2, 98, 807, 1497, 24809, 22, 18, 4952, 60, 3,...   \n",
       "3  [2, 72, 23, 11540, 26, 5419, 3317, 17, 3830, 9...   \n",
       "4  [2, 98, 370, 2006, 144, 14, 1308, 13, 7, 10279...   \n",
       "5  [2, 14, 672, 345, 37, 14, 244, 23, 56, 338, 60...   \n",
       "6  [2, 184, 212, 875, 144, 24809, 22, 18, 846, 23...   \n",
       "7  [2, 184, 151, 11999, 16, 5415, 144, 13, 7, 124...   \n",
       "8  [2, 98, 144, 24809, 645, 36, 64, 2254, 846, 60...   \n",
       "9  [2, 98, 23, 14, 204, 16, 24809, 22, 18, 64, 29...   \n",
       "\n",
       "                                      Tokenized Text Char start/end index  \\\n",
       "0  [CLS] which album was darker in tone from her ...            180 / 187   \n",
       "1  [CLS] in 1995, who decided to manage the girls...            542 / 558   \n",
       "2  [CLS] what event caused beyonce's depression?[...            194 / 222   \n",
       "3  [CLS] who was blamed for luckett and roberson ...            149 / 156   \n",
       "4  [CLS] what large amount did the movie \"goldmem...            210 / 220   \n",
       "5  [CLS] the lead single from the album was which...            303 / 310   \n",
       "6  [CLS] how much money did beyonce's tour make i...            671 / 681   \n",
       "7  [CLS] how many millions of dollars did \"the pi...            112 / 125   \n",
       "8  [CLS] what did beyonce call her first concert ...            576 / 598   \n",
       "9  [CLS] what was the name of beyonce's first int...            576 / 598   \n",
       "\n",
       "  Token start/end index              Decoded Answer  \\\n",
       "0               67 / 66                     beyonce   \n",
       "1             134 / 136            beyonce's father   \n",
       "2               45 / 49  split with luckett and rob   \n",
       "3               47 / 46                     beyonce   \n",
       "4               55 / 56                 $73 million   \n",
       "5               82 / 83                     deja vu   \n",
       "6             147 / 147                 $24 million   \n",
       "7               41 / 44              $158.8 million   \n",
       "8             128 / 129      the beyonce experience   \n",
       "9             131 / 132      the beyonce experience   \n",
       "\n",
       "                  Actual Answer  \n",
       "0                       Beyoncé  \n",
       "1              Beyoncé's father  \n",
       "2  split with Luckett and Rober  \n",
       "3                       Beyoncé  \n",
       "4                    73 million  \n",
       "5                       Déjà Vu  \n",
       "6                    24 million  \n",
       "7                 158.8 million  \n",
       "8        The Beyoncé Experience  \n",
       "9        The Beyoncé Experience  "
      ]
     },
     "metadata": {},
     "output_type": "display_data"
    }
   ],
   "source": [
    "# Analyse Missmatches\n",
    "mismatches_df = pd.DataFrame(traing_answer_mismatches)\n",
    "print('Total number of miss matches:',global_counter)\n",
    "display(mismatches_df.head(10))  "
   ]
  },
  {
   "cell_type": "code",
   "execution_count": 20,
   "id": "ef820445-4d72-4e2c-95b6-1474bd671825",
   "metadata": {
    "tags": []
   },
   "outputs": [
    {
     "name": "stdout",
     "output_type": "stream",
     "text": [
      "{'id': '56be8c8a3aeaaa14008c90ab', 'title': 'Beyoncé', 'context': 'The group changed their name to Destiny\\'s Child in 1996, based upon a passage in the Book of Isaiah. In 1997, Destiny\\'s Child released their major label debut song \"Killing Time\" on the soundtrack to the 1997 film, Men in Black. The following year, the group released their self-titled debut album, scoring their first major hit \"No, No, No\". The album established the group as a viable act in the music industry, with moderate sales and winning the group three Soul Train Lady of Soul Awards for Best R&B/Soul Album of the Year, Best R&B/Soul or Rap New Artist, and Best R&B/Soul Single for \"No, No, No\". The group released their multi-platinum second album The Writing\\'s on the Wall in 1999. The record features some of the group\\'s most widely known songs such as \"Bills, Bills, Bills\", the group\\'s first number-one single, \"Jumpin\\' Jumpin\\'\" and \"Say My Name\", which became their most successful song at the time, and would remain one of their signature songs. \"Say My Name\" won the Best R&B Performance by a Duo or Group with Vocals and the Best R&B Song at the 43rd Annual Grammy Awards. The Writing\\'s on the Wall sold more than eight million copies worldwide. During this time, Beyoncé recorded a duet with Marc Nelson, an original member of Boyz II Men, on the song \"After All Is Said and Done\" for the soundtrack to the 1999 film, The Best Man.', 'question': \"For which song, did Destiny's Child take home the grammy award for best R&B performance?\", 'answers': {'text': ['\"Say My Name\"'], 'answer_start': [848]}}\n"
     ]
    }
   ],
   "source": [
    "# List of specific IDs to inspect\n",
    "debug_ids = [\n",
    "    \"56be8c8a3aeaaa14008c90ab\",       \n",
    "]\n",
    "\n",
    "# Define a function to filter examples by ID and stop processing when all have been found\n",
    "def print_specific_records(dataset):\n",
    "    found_ids = set()  # To track IDs that have been printed\n",
    "    for example in dataset:\n",
    "        if example['id'] in debug_ids:\n",
    "            print(example)\n",
    "            found_ids.add(example['id'])\n",
    "            if found_ids == set(debug_ids):\n",
    "                break  # Stop processing as all requested records have been printed\n",
    "\n",
    "# Apply the function to the full dataset (assuming the dataset is loaded and named full_squad_dataset)\n",
    "print_specific_records(full_squad_dataset['train'])\n"
   ]
  },
  {
   "cell_type": "code",
   "execution_count": 21,
   "id": "fc968279-8568-4118-b11d-f0ecb31141fd",
   "metadata": {
    "tags": []
   },
   "outputs": [
    {
     "name": "stdout",
     "output_type": "stream",
     "text": [
      "Total number of mismatches: 2015\n",
      "Original dataset size: 130319\n",
      "Cleaned dataset size: 128313\n"
     ]
    }
   ],
   "source": [
    "# Ensure the mismatches DataFrame is created from non-empty data\n",
    "if traing_answer_mismatches:\n",
    "    mismatches_df = pd.DataFrame(traing_answer_mismatches)\n",
    "    print('Total number of mismatches:', len(mismatches_df))\n",
    "else:\n",
    "    print(\"No mismatches to display. The list is empty.\")\n",
    "\n",
    "def remove_mismatches(dataset, mismatch_ids):\n",
    "    \"\"\"\n",
    "    Filters the dataset to exclude mismatched entries.\n",
    "\n",
    "    Args:\n",
    "        dataset (Dataset): The dataset from which to remove mismatched examples.\n",
    "        mismatch_ids (set): A set of example IDs that have mismatches.\n",
    "\n",
    "    Returns:\n",
    "        Dataset: A dataset with mismatched examples removed.\n",
    "    \"\"\"\n",
    "    # Use a set for faster look-up times\n",
    "    filtered_dataset = dataset.filter(lambda example: example['id'] not in mismatch_ids)\n",
    "    return filtered_dataset\n",
    "\n",
    "# Check if mismatches DataFrame exists and is not empty before removing mismatches\n",
    "if 'traing_answer_mismatches' in locals() and not mismatches_df.empty:\n",
    "    mismatch_ids = set(mismatches_df['ID'])\n",
    "    cleaned_training_dataset = remove_mismatches(squad_raw['train'], mismatch_ids)\n",
    "    print(\"Original dataset size:\", len(squad_raw['train']))\n",
    "    print(\"Cleaned dataset size:\", len(cleaned_training_dataset))\n",
    "else:\n",
    "    print(\"No mismatches found or mismatch data is empty. No filtering applied.\")\n",
    "    cleaned_training_dataset = squad_raw['train']\n"
   ]
  },
  {
   "cell_type": "code",
   "execution_count": 22,
   "id": "eece467f-8f30-45e0-bf0b-5cb27e623f25",
   "metadata": {
    "tags": []
   },
   "outputs": [
    {
     "data": {
      "application/vnd.jupyter.widget-view+json": {
       "model_id": "3ef5d120a5cb47c9997c10ed82a2d3fd",
       "version_major": 2,
       "version_minor": 0
      },
      "text/plain": [
       "Running tokenizer on train dataset:   0%|          | 0/128313 [00:00<?, ? examples/s]"
      ]
     },
     "metadata": {},
     "output_type": "display_data"
    },
    {
     "data": {
      "application/vnd.jupyter.widget-view+json": {
       "model_id": "b3d3412190a144da967ba946cb9dc193",
       "version_major": 2,
       "version_minor": 0
      },
      "text/plain": [
       "Running tokenizer on validation dataset:   0%|          | 0/11873 [00:00<?, ? examples/s]"
      ]
     },
     "metadata": {},
     "output_type": "display_data"
    }
   ],
   "source": [
    "\n",
    "# Preprocessing the datasets\n",
    "train_dataset = cleaned_training_dataset.map(\n",
    "                preprocess_function,\n",
    "                batched=True,\n",
    "                remove_columns=squad_raw[\"train\"].column_names,\n",
    "                desc=\"Running tokenizer on train dataset\",\n",
    "                load_from_cache_file=False,  # Disable caching\n",
    "            )\n",
    "eval_dataset = squad_raw['validation'].map(\n",
    "                prepare_validation_features,\n",
    "                batched=True,\n",
    "                remove_columns=squad_raw[\"train\"].column_names,\n",
    "                desc=\"Running tokenizer on validation dataset\",\n",
    "                load_from_cache_file=False,  # Disable caching\n",
    "            )\n",
    "eval_examples =  squad_raw[\"validation\"]\n"
   ]
  },
  {
   "cell_type": "code",
   "execution_count": 41,
   "id": "7a7c6b2a-acdc-4768-b777-f581812c70ec",
   "metadata": {
    "tags": []
   },
   "outputs": [
    {
     "name": "stdout",
     "output_type": "stream",
     "text": [
      "Train set size: 128419\n",
      "Validation set size: 11968\n",
      "Validation Examples size: 11873\n"
     ]
    }
   ],
   "source": [
    "# Display the sizes of the splits to confirm\n",
    "print(\"Train set size:\", len(train_dataset))\n",
    "print(\"Validation set size:\", len(eval_dataset))\n",
    "print(\"Validation Examples size:\", len(eval_examples))"
   ]
  },
  {
   "cell_type": "markdown",
   "id": "fc279453-3f28-4aca-996b-f49ee605ce12",
   "metadata": {
    "jp-MarkdownHeadingCollapsed": true,
    "tags": []
   },
   "source": [
    "## 3. Initial Tuning of ALBERT Model\n"
   ]
  },
  {
   "cell_type": "markdown",
   "id": "698ef06f-7ed0-4680-95b3-a1fa8cff9294",
   "metadata": {},
   "source": [
    "For Intial training we used the fine-tuned parameters of the model https://huggingface.co/deepset/roberta-base-squad2"
   ]
  },
  {
   "cell_type": "code",
   "execution_count": null,
   "id": "727b1cf0-8ec9-4abd-9c43-256e8c6f7299",
   "metadata": {
    "tags": []
   },
   "outputs": [],
   "source": [
    "no_answer_threshold = 0.0\n",
    "model = AutoModelForQuestionAnswering.from_pretrained(pretrained_model_name)\n",
    "training_args = TrainingArguments(\n",
    "    output_dir=f'{normalized_model_name}-finetuned-manual',\n",
    "    overwrite_output_dir = True,\n",
    "    metric_for_best_model='f1',\n",
    "    greater_is_better=True,\n",
    "    load_best_model_at_end=True,\n",
    "    save_total_limit=4, \n",
    "    eval_strategy=\"epoch\",\n",
    "    save_strategy=\"epoch\",\n",
    "    report_to=\"wandb\",  # Enable logging to Weights & Biases\n",
    "    run_name=f\"{normalized_model_name}-finetune-manual\",  # Optionally set a specific run name    \n",
    "    learning_rate=3e-5,\n",
    "    per_device_train_batch_size=32,\n",
    "    per_device_eval_batch_size=32,\n",
    "    warmup_ratio=0.2,\n",
    "    num_train_epochs=3,\n",
    "    lr_scheduler_type = 'linear',\n",
    ")\n",
    "\n",
    "trainer = QuestionAnsweringTrainer(\n",
    "        model=model,\n",
    "        args=training_args,\n",
    "        train_dataset=train_dataset,\n",
    "        eval_dataset=eval_dataset,\n",
    "        eval_examples=eval_examples,\n",
    "        tokenizer=tokenizer,\n",
    "        data_collator=data_collator,\n",
    "        post_process_function=post_processing_function,\n",
    "        compute_metrics=compute_metrics,\n",
    "        callbacks=[EarlyStoppingCallback(early_stopping_patience=3)],\n",
    ")\n",
    "\n",
    "trainer.train()"
   ]
  },
  {
   "cell_type": "markdown",
   "id": "b873b0a9-025a-410d-8903-62b01e708aed",
   "metadata": {
    "tags": []
   },
   "source": [
    "## 5. Models Tuning Reusable Functions"
   ]
  },
  {
   "cell_type": "code",
   "execution_count": 45,
   "id": "cc958752-42e2-4fe6-ac48-51d1522f6028",
   "metadata": {
    "tags": []
   },
   "outputs": [
    {
     "name": "stdout",
     "output_type": "stream",
     "text": [
      "Train set size: 60000\n",
      "Validation set size: 11873\n"
     ]
    }
   ],
   "source": [
    "Sample_Size = 60000\n",
    "\n",
    "# Load a sample portion of the dataset\n",
    "subset_squad_raw = datasets.DatasetDict({\n",
    "    'train': cleaned_training_dataset.shuffle(seed=42).select(range(Sample_Size)),\n",
    "    'validation': full_squad_dataset['validation']\n",
    "})\n",
    "    \n",
    "# Display the sizes of the splits to confirm\n",
    "print(\"Train set size:\", len(subset_squad_raw['train']))\n",
    "print(\"Validation set size:\", len(subset_squad_raw['validation']))\n",
    "squad_raw\n",
    "\n",
    "# Preprocessing the datasets\n",
    "eval_examples =  subset_squad_raw[\"validation\"]\n"
   ]
  },
  {
   "cell_type": "code",
   "execution_count": 47,
   "id": "b030f563-13a3-447d-be0d-15562b8a15c1",
   "metadata": {},
   "outputs": [],
   "source": [
    "class AdvancedEarlyStoppingCallback(TrainerCallback):\n",
    "    \"\"\"\n",
    "    A callback to stop training when either the performance falls below a certain threshold\n",
    "    or if there is no improvement over a set number of epochs.\n",
    "    \"\"\"\n",
    "    def __init__(self, metric_name, patience, threshold):\n",
    "        self.metric_name = metric_name\n",
    "        self.patience = patience\n",
    "        self.threshold = threshold\n",
    "        self.best_score = None\n",
    "        self.no_improve_epochs = 0\n",
    "\n",
    "    def on_evaluate(self, args, state, control, **kwargs):\n",
    "        metric_value = kwargs['metrics'].get(self.metric_name)\n",
    "\n",
    "        if self.best_score is None or metric_value > self.best_score:\n",
    "            self.best_score = metric_value\n",
    "            self.no_improve_epochs = 0\n",
    "        else:\n",
    "            self.no_improve_epochs += 1\n",
    "\n",
    "        # Check if performance is below the threshold\n",
    "        if metric_value < self.threshold:\n",
    "            control.should_training_stop = True\n",
    "            print(f\"Stopping training: {self.metric_name} below threshold of {self.threshold}\")\n",
    "\n",
    "        # Check if no improvement has been seen over the allowed patience\n",
    "        if self.no_improve_epochs >= self.patience:\n",
    "            control.should_training_stop = True\n",
    "            print(f\"Stopping training: No improvement in {self.metric_name} for {self.patience} epochs\")\n"
   ]
  },
  {
   "cell_type": "code",
   "execution_count": 57,
   "id": "581d57f6-426f-4727-b25a-92a91cb0d877",
   "metadata": {
    "tags": []
   },
   "outputs": [],
   "source": [
    "# Define model initialization function\n",
    "def model_init():\n",
    "    return AutoModelForQuestionAnswering.from_pretrained(pretrained_model_name)\n",
    "\n",
    "# Define train dataset initialization function\n",
    "def train_dataset_init():\n",
    "    return subset_squad_raw['train'].map(\n",
    "                preprocess_function,\n",
    "                batched=True,\n",
    "                remove_columns=subset_squad_raw[\"train\"].column_names,\n",
    "                desc=\"Running tokenizer on train dataset\",\n",
    "            )\n",
    "\n",
    "# Define validation dataset initialization function\n",
    "def vald_dataset_init():\n",
    "    return subset_squad_raw['validation'].map(\n",
    "                prepare_validation_features,\n",
    "                batched=True,\n",
    "                remove_columns=subset_squad_raw[\"train\"].column_names,\n",
    "                desc=\"Running tokenizer on validation dataset\",\n",
    "            )\n",
    "\n",
    "# Optuna objective function for hyperparameter tuning\n",
    "def objective(trial):\n",
    "    # Hyperparameters to tune \n",
    "    global no_answer_threshold\n",
    "    no_answer_threshold = trial.suggest_float('no_answer_threshold', 0.0, 1.0)\n",
    "    #global global_doc_stride\n",
    "    #global_doc_stride=trial.suggest_int('doc_stride', 128, 256, step=64)\n",
    "\n",
    "    learning_rate = trial.suggest_float('learning_rate', 1e-7, 1e-4, log=True)\n",
    "    #batch_size = trial.suggest_categorical('batch_size', [16, 32, 64])\n",
    "    #warmup_steps = trial.suggest_int('warmup_steps', 0, 1000)\n",
    "    warmup_ratio= trial.suggest_int('warmup_ratio', 0.0, 1.0)\n",
    "    weight_decay = trial.suggest_float('weight_decay', 0.0, 0.25)\n",
    "    adam_beta1 = trial.suggest_float('adam_beta1', 0.8, 0.95)\n",
    "    adam_beta2 = trial.suggest_float('adam_beta2', 0.990, 0.999)\n",
    "    adam_epsilon = trial.suggest_float('adam_epsilon', 1e-8, 1e-6)\n",
    "    lr_scheduler_type = trial.suggest_categorical('lr_scheduler_type', ['linear', 'cosine', 'cosine_with_restarts']) #,'constant_with_warmup'\n",
    "    output_dir = f\"./{normalized_model_name}-finetuned-squadv2/trial_{trial.number}\"\n",
    "    \n",
    "    # Print trial parameters\n",
    "    print(f\"Current Trial {trial.number} parameters: {trial.params}\")\n",
    "    \n",
    "    # Training arguments\n",
    "    training_args = TrainingArguments(\n",
    "        output_dir=output_dir,\n",
    "        overwrite_output_dir = True,\n",
    "        metric_for_best_model='f1',\n",
    "        greater_is_better=True,\n",
    "        load_best_model_at_end=True,\n",
    "        save_total_limit=3, # Save only the best model unless you specify a different number\n",
    "        eval_strategy=\"epoch\",\n",
    "        save_strategy=\"epoch\",\n",
    "        num_train_epochs=3,  # Adjust based on computation limits\n",
    "        report_to=\"wandb\",  # Enable logging to Weights & Biases        \n",
    "        run_name=f\"{normalized_model_name}-finetune-squadv2\",  # Optionally set a specific run name    \n",
    "        learning_rate=learning_rate,\n",
    "        per_device_train_batch_size=16,\n",
    "        per_device_eval_batch_size=16,\n",
    "        #warmup_steps=warmup_steps,\n",
    "        warmup_ratio=warmup_ratio,\n",
    "        weight_decay=weight_decay,\n",
    "        adam_beta1=adam_beta1,\n",
    "        adam_beta2=adam_beta2,\n",
    "        adam_epsilon=adam_epsilon,\n",
    "        lr_scheduler_type=lr_scheduler_type,\n",
    "        fp16=True,  # Enable mixed-precision training\n",
    "    )    \n",
    "\n",
    "    trainer = QuestionAnsweringTrainer(\n",
    "        model=model_init(),\n",
    "        tokenizer=tokenizer,\n",
    "        args=training_args,\n",
    "        train_dataset=train_dataset_init(),\n",
    "        eval_dataset=vald_dataset_init(),\n",
    "        eval_examples=eval_examples,        \n",
    "        data_collator=data_collator,\n",
    "        post_process_function=post_processing_function,\n",
    "        compute_metrics=compute_metrics,\n",
    "        callbacks=[AdvancedEarlyStoppingCallback(metric_name='eval_f1', patience=2, threshold=70)]\n",
    "    )  \n",
    "    \n",
    "\n",
    "    # Train the model\n",
    "    trainer.train()\n",
    "\n",
    "    # Evaluate the model\n",
    "    eval_results = trainer.evaluate()\n",
    "    #print(\"Evaluation results:\", eval_results)  # Debug print\n",
    "    return eval_results['eval_f1']\n"
   ]
  },
  {
   "cell_type": "markdown",
   "id": "60deff21-c846-44f7-8129-8ed3e78d39d4",
   "metadata": {
    "tags": []
   },
   "source": [
    "## 6. Hyperparameters Search for ALBERT Model\n"
   ]
  },
  {
   "cell_type": "code",
   "execution_count": 60,
   "id": "473be192-e1e9-4931-b591-35f9e4a20dfc",
   "metadata": {},
   "outputs": [
    {
     "name": "stderr",
     "output_type": "stream",
     "text": [
      "[I 2024-05-29 12:36:28,961] A new study created in memory with name: no-name-81349e2f-cc3f-4aba-b140-1a66e0e4fafd\n"
     ]
    },
    {
     "name": "stdout",
     "output_type": "stream",
     "text": [
      "Current Trial 0 parameters: {'no_answer_threshold': 0.5040435207270394, 'learning_rate': 2.9836669992097443e-05, 'warmup_ratio': 0, 'weight_decay': 0.2095387381927668, 'adam_beta1': 0.8468509720838087, 'adam_beta2': 0.9976777905163441, 'adam_epsilon': 4.3657460543196677e-07, 'lr_scheduler_type': 'linear'}\n"
     ]
    },
    {
     "name": "stderr",
     "output_type": "stream",
     "text": [
      "Some weights of AlbertForQuestionAnswering were not initialized from the model checkpoint at albert/albert-base-v2 and are newly initialized: ['qa_outputs.bias', 'qa_outputs.weight']\n",
      "You should probably TRAIN this model on a down-stream task to be able to use it for predictions and inference.\n"
     ]
    },
    {
     "data": {
      "text/html": [
       "\n",
       "    <div>\n",
       "      \n",
       "      <progress value='11262' max='11262' style='width:300px; height:20px; vertical-align: middle;'></progress>\n",
       "      [11262/11262 59:36, Epoch 3/3]\n",
       "    </div>\n",
       "    <table border=\"1\" class=\"dataframe\">\n",
       "  <thead>\n",
       " <tr style=\"text-align: left;\">\n",
       "      <th>Epoch</th>\n",
       "      <th>Training Loss</th>\n",
       "      <th>Validation Loss</th>\n",
       "      <th>Exact</th>\n",
       "      <th>F1</th>\n",
       "      <th>Total</th>\n",
       "      <th>Hasans Exact</th>\n",
       "      <th>Hasans F1</th>\n",
       "      <th>Hasans Total</th>\n",
       "      <th>Noans Exact</th>\n",
       "      <th>Noans F1</th>\n",
       "      <th>Noans Total</th>\n",
       "      <th>Best Exact</th>\n",
       "      <th>Best Exact Thresh</th>\n",
       "      <th>Best F1</th>\n",
       "      <th>Best F1 Thresh</th>\n",
       "    </tr>\n",
       "  </thead>\n",
       "  <tbody>\n",
       "    <tr>\n",
       "      <td>1</td>\n",
       "      <td>0.967000</td>\n",
       "      <td>No log</td>\n",
       "      <td>58.207698</td>\n",
       "      <td>73.183493</td>\n",
       "      <td>11873</td>\n",
       "      <td>42.695682</td>\n",
       "      <td>72.690219</td>\n",
       "      <td>5928</td>\n",
       "      <td>73.675357</td>\n",
       "      <td>73.675357</td>\n",
       "      <td>5945</td>\n",
       "      <td>58.216121</td>\n",
       "      <td>0.000000</td>\n",
       "      <td>73.191916</td>\n",
       "      <td>0.000000</td>\n",
       "    </tr>\n",
       "    <tr>\n",
       "      <td>2</td>\n",
       "      <td>0.690500</td>\n",
       "      <td>No log</td>\n",
       "      <td>59.294197</td>\n",
       "      <td>74.731810</td>\n",
       "      <td>11873</td>\n",
       "      <td>43.033063</td>\n",
       "      <td>73.952560</td>\n",
       "      <td>5928</td>\n",
       "      <td>75.508831</td>\n",
       "      <td>75.508831</td>\n",
       "      <td>5945</td>\n",
       "      <td>59.294197</td>\n",
       "      <td>0.000000</td>\n",
       "      <td>74.731810</td>\n",
       "      <td>0.000000</td>\n",
       "    </tr>\n",
       "    <tr>\n",
       "      <td>3</td>\n",
       "      <td>0.407500</td>\n",
       "      <td>No log</td>\n",
       "      <td>60.886044</td>\n",
       "      <td>76.432642</td>\n",
       "      <td>11873</td>\n",
       "      <td>41.784750</td>\n",
       "      <td>72.922529</td>\n",
       "      <td>5928</td>\n",
       "      <td>79.932717</td>\n",
       "      <td>79.932717</td>\n",
       "      <td>5945</td>\n",
       "      <td>60.886044</td>\n",
       "      <td>0.000000</td>\n",
       "      <td>76.432642</td>\n",
       "      <td>0.000000</td>\n",
       "    </tr>\n",
       "  </tbody>\n",
       "</table><p>"
      ],
      "text/plain": [
       "<IPython.core.display.HTML object>"
      ]
     },
     "metadata": {},
     "output_type": "display_data"
    },
    {
     "data": {
      "application/vnd.jupyter.widget-view+json": {
       "model_id": "a2dfbf9b30de473d8c33435c3b914ecc",
       "version_major": 2,
       "version_minor": 0
      },
      "text/plain": [
       "  0%|          | 0/11873 [00:00<?, ?it/s]"
      ]
     },
     "metadata": {},
     "output_type": "display_data"
    },
    {
     "data": {
      "application/vnd.jupyter.widget-view+json": {
       "model_id": "f1af40321676455cb93533de474367a8",
       "version_major": 2,
       "version_minor": 0
      },
      "text/plain": [
       "  0%|          | 0/11873 [00:00<?, ?it/s]"
      ]
     },
     "metadata": {},
     "output_type": "display_data"
    },
    {
     "data": {
      "application/vnd.jupyter.widget-view+json": {
       "model_id": "5a03e738406a4cdc9698b0a9bac10bbb",
       "version_major": 2,
       "version_minor": 0
      },
      "text/plain": [
       "  0%|          | 0/11873 [00:00<?, ?it/s]"
      ]
     },
     "metadata": {},
     "output_type": "display_data"
    },
    {
     "data": {
      "text/html": [
       "\n",
       "    <div>\n",
       "      \n",
       "      <progress value='748' max='748' style='width:300px; height:20px; vertical-align: middle;'></progress>\n",
       "      [748/748 01:18]\n",
       "    </div>\n",
       "    "
      ],
      "text/plain": [
       "<IPython.core.display.HTML object>"
      ]
     },
     "metadata": {},
     "output_type": "display_data"
    },
    {
     "data": {
      "application/vnd.jupyter.widget-view+json": {
       "model_id": "68e72e057c124119af81df1a29b8be11",
       "version_major": 2,
       "version_minor": 0
      },
      "text/plain": [
       "  0%|          | 0/11873 [00:00<?, ?it/s]"
      ]
     },
     "metadata": {},
     "output_type": "display_data"
    },
    {
     "name": "stderr",
     "output_type": "stream",
     "text": [
      "[I 2024-05-29 13:38:17,186] Trial 0 finished with value: 76.43264160733068 and parameters: {'no_answer_threshold': 0.5040435207270394, 'learning_rate': 2.9836669992097443e-05, 'warmup_ratio': 0, 'weight_decay': 0.2095387381927668, 'adam_beta1': 0.8468509720838087, 'adam_beta2': 0.9976777905163441, 'adam_epsilon': 4.3657460543196677e-07, 'lr_scheduler_type': 'linear'}. Best is trial 0 with value: 76.43264160733068.\n"
     ]
    },
    {
     "name": "stdout",
     "output_type": "stream",
     "text": [
      "Current Trial 1 parameters: {'no_answer_threshold': 0.35274257661933106, 'learning_rate': 1.1566603311776834e-05, 'warmup_ratio': 1, 'weight_decay': 0.02842306536168049, 'adam_beta1': 0.8090295700403421, 'adam_beta2': 0.9944609337871414, 'adam_epsilon': 4.798654094268812e-07, 'lr_scheduler_type': 'cosine_with_restarts'}\n"
     ]
    },
    {
     "name": "stderr",
     "output_type": "stream",
     "text": [
      "Some weights of AlbertForQuestionAnswering were not initialized from the model checkpoint at albert/albert-base-v2 and are newly initialized: ['qa_outputs.bias', 'qa_outputs.weight']\n",
      "You should probably TRAIN this model on a down-stream task to be able to use it for predictions and inference.\n"
     ]
    },
    {
     "data": {
      "text/html": [
       "\n",
       "    <div>\n",
       "      \n",
       "      <progress value='3754' max='11262' style='width:300px; height:20px; vertical-align: middle;'></progress>\n",
       "      [ 3754/11262 19:49 < 39:39, 3.15 it/s, Epoch 1/3]\n",
       "    </div>\n",
       "    <table border=\"1\" class=\"dataframe\">\n",
       "  <thead>\n",
       " <tr style=\"text-align: left;\">\n",
       "      <th>Epoch</th>\n",
       "      <th>Training Loss</th>\n",
       "      <th>Validation Loss</th>\n",
       "      <th>Exact</th>\n",
       "      <th>F1</th>\n",
       "      <th>Total</th>\n",
       "      <th>Hasans Exact</th>\n",
       "      <th>Hasans F1</th>\n",
       "      <th>Hasans Total</th>\n",
       "      <th>Noans Exact</th>\n",
       "      <th>Noans F1</th>\n",
       "      <th>Noans Total</th>\n",
       "      <th>Best Exact</th>\n",
       "      <th>Best Exact Thresh</th>\n",
       "      <th>Best F1</th>\n",
       "      <th>Best F1 Thresh</th>\n",
       "    </tr>\n",
       "  </thead>\n",
       "  <tbody>\n",
       "    <tr>\n",
       "      <td>1</td>\n",
       "      <td>1.226000</td>\n",
       "      <td>No log</td>\n",
       "      <td>55.133496</td>\n",
       "      <td>69.365281</td>\n",
       "      <td>11873</td>\n",
       "      <td>37.837382</td>\n",
       "      <td>66.341764</td>\n",
       "      <td>5928</td>\n",
       "      <td>72.380151</td>\n",
       "      <td>72.380151</td>\n",
       "      <td>5945</td>\n",
       "      <td>55.141919</td>\n",
       "      <td>0.000000</td>\n",
       "      <td>69.373703</td>\n",
       "      <td>0.000000</td>\n",
       "    </tr>\n",
       "  </tbody>\n",
       "</table><p>"
      ],
      "text/plain": [
       "<IPython.core.display.HTML object>"
      ]
     },
     "metadata": {},
     "output_type": "display_data"
    },
    {
     "data": {
      "application/vnd.jupyter.widget-view+json": {
       "model_id": "cad110216a8a42b398a4a292ec0c18d9",
       "version_major": 2,
       "version_minor": 0
      },
      "text/plain": [
       "  0%|          | 0/11873 [00:00<?, ?it/s]"
      ]
     },
     "metadata": {},
     "output_type": "display_data"
    },
    {
     "name": "stdout",
     "output_type": "stream",
     "text": [
      "Stopping training: eval_f1 below threshold of 70\n"
     ]
    },
    {
     "data": {
      "text/html": [
       "\n",
       "    <div>\n",
       "      \n",
       "      <progress value='748' max='748' style='width:300px; height:20px; vertical-align: middle;'></progress>\n",
       "      [748/748 01:19]\n",
       "    </div>\n",
       "    "
      ],
      "text/plain": [
       "<IPython.core.display.HTML object>"
      ]
     },
     "metadata": {},
     "output_type": "display_data"
    },
    {
     "data": {
      "application/vnd.jupyter.widget-view+json": {
       "model_id": "6f00dbd61ef14525a97b77b6b9bf1b47",
       "version_major": 2,
       "version_minor": 0
      },
      "text/plain": [
       "  0%|          | 0/11873 [00:00<?, ?it/s]"
      ]
     },
     "metadata": {},
     "output_type": "display_data"
    },
    {
     "name": "stdout",
     "output_type": "stream",
     "text": [
      "Stopping training: eval_f1 below threshold of 70\n"
     ]
    },
    {
     "name": "stderr",
     "output_type": "stream",
     "text": [
      "[I 2024-05-29 14:00:15,345] Trial 1 finished with value: 69.36528051961221 and parameters: {'no_answer_threshold': 0.35274257661933106, 'learning_rate': 1.1566603311776834e-05, 'warmup_ratio': 1, 'weight_decay': 0.02842306536168049, 'adam_beta1': 0.8090295700403421, 'adam_beta2': 0.9944609337871414, 'adam_epsilon': 4.798654094268812e-07, 'lr_scheduler_type': 'cosine_with_restarts'}. Best is trial 0 with value: 76.43264160733068.\n"
     ]
    },
    {
     "name": "stdout",
     "output_type": "stream",
     "text": [
      "Current Trial 2 parameters: {'no_answer_threshold': 0.7581014389328404, 'learning_rate': 2.7405119317307217e-05, 'warmup_ratio': 1, 'weight_decay': 0.06548708221055366, 'adam_beta1': 0.8511335053683753, 'adam_beta2': 0.9941922149720634, 'adam_epsilon': 5.668006396636095e-07, 'lr_scheduler_type': 'linear'}\n"
     ]
    },
    {
     "name": "stderr",
     "output_type": "stream",
     "text": [
      "Some weights of AlbertForQuestionAnswering were not initialized from the model checkpoint at albert/albert-base-v2 and are newly initialized: ['qa_outputs.bias', 'qa_outputs.weight']\n",
      "You should probably TRAIN this model on a down-stream task to be able to use it for predictions and inference.\n"
     ]
    },
    {
     "data": {
      "text/html": [
       "\n",
       "    <div>\n",
       "      \n",
       "      <progress value='3754' max='11262' style='width:300px; height:20px; vertical-align: middle;'></progress>\n",
       "      [ 3754/11262 19:55 < 39:53, 3.14 it/s, Epoch 1/3]\n",
       "    </div>\n",
       "    <table border=\"1\" class=\"dataframe\">\n",
       "  <thead>\n",
       " <tr style=\"text-align: left;\">\n",
       "      <th>Epoch</th>\n",
       "      <th>Training Loss</th>\n",
       "      <th>Validation Loss</th>\n",
       "      <th>Exact</th>\n",
       "      <th>F1</th>\n",
       "      <th>Total</th>\n",
       "      <th>Hasans Exact</th>\n",
       "      <th>Hasans F1</th>\n",
       "      <th>Hasans Total</th>\n",
       "      <th>Noans Exact</th>\n",
       "      <th>Noans F1</th>\n",
       "      <th>Noans Total</th>\n",
       "      <th>Best Exact</th>\n",
       "      <th>Best Exact Thresh</th>\n",
       "      <th>Best F1</th>\n",
       "      <th>Best F1 Thresh</th>\n",
       "    </tr>\n",
       "  </thead>\n",
       "  <tbody>\n",
       "    <tr>\n",
       "      <td>1</td>\n",
       "      <td>1.096700</td>\n",
       "      <td>No log</td>\n",
       "      <td>54.586036</td>\n",
       "      <td>69.815535</td>\n",
       "      <td>11873</td>\n",
       "      <td>40.738866</td>\n",
       "      <td>71.241540</td>\n",
       "      <td>5928</td>\n",
       "      <td>68.393608</td>\n",
       "      <td>68.393608</td>\n",
       "      <td>5945</td>\n",
       "      <td>54.594458</td>\n",
       "      <td>0.000000</td>\n",
       "      <td>69.823958</td>\n",
       "      <td>0.000000</td>\n",
       "    </tr>\n",
       "  </tbody>\n",
       "</table><p>"
      ],
      "text/plain": [
       "<IPython.core.display.HTML object>"
      ]
     },
     "metadata": {},
     "output_type": "display_data"
    },
    {
     "data": {
      "application/vnd.jupyter.widget-view+json": {
       "model_id": "b74facf4e5be4767b0e4b0626671570d",
       "version_major": 2,
       "version_minor": 0
      },
      "text/plain": [
       "  0%|          | 0/11873 [00:00<?, ?it/s]"
      ]
     },
     "metadata": {},
     "output_type": "display_data"
    },
    {
     "name": "stdout",
     "output_type": "stream",
     "text": [
      "Stopping training: eval_f1 below threshold of 70\n"
     ]
    },
    {
     "data": {
      "text/html": [
       "\n",
       "    <div>\n",
       "      \n",
       "      <progress value='748' max='748' style='width:300px; height:20px; vertical-align: middle;'></progress>\n",
       "      [748/748 01:19]\n",
       "    </div>\n",
       "    "
      ],
      "text/plain": [
       "<IPython.core.display.HTML object>"
      ]
     },
     "metadata": {},
     "output_type": "display_data"
    },
    {
     "data": {
      "application/vnd.jupyter.widget-view+json": {
       "model_id": "47a08f0ec0e445fc8da862eab43ca8b6",
       "version_major": 2,
       "version_minor": 0
      },
      "text/plain": [
       "  0%|          | 0/11873 [00:00<?, ?it/s]"
      ]
     },
     "metadata": {},
     "output_type": "display_data"
    },
    {
     "name": "stdout",
     "output_type": "stream",
     "text": [
      "Stopping training: eval_f1 below threshold of 70\n"
     ]
    },
    {
     "name": "stderr",
     "output_type": "stream",
     "text": [
      "[I 2024-05-29 14:22:18,981] Trial 2 finished with value: 69.81553518046032 and parameters: {'no_answer_threshold': 0.7581014389328404, 'learning_rate': 2.7405119317307217e-05, 'warmup_ratio': 1, 'weight_decay': 0.06548708221055366, 'adam_beta1': 0.8511335053683753, 'adam_beta2': 0.9941922149720634, 'adam_epsilon': 5.668006396636095e-07, 'lr_scheduler_type': 'linear'}. Best is trial 0 with value: 76.43264160733068.\n"
     ]
    },
    {
     "name": "stdout",
     "output_type": "stream",
     "text": [
      "Current Trial 3 parameters: {'no_answer_threshold': 0.8435246747742021, 'learning_rate': 1.1565518985727677e-07, 'warmup_ratio': 1, 'weight_decay': 0.12087291643400122, 'adam_beta1': 0.829233281924149, 'adam_beta2': 0.9957773850286589, 'adam_epsilon': 1.8254916711566065e-07, 'lr_scheduler_type': 'cosine_with_restarts'}\n"
     ]
    },
    {
     "name": "stderr",
     "output_type": "stream",
     "text": [
      "Some weights of AlbertForQuestionAnswering were not initialized from the model checkpoint at albert/albert-base-v2 and are newly initialized: ['qa_outputs.bias', 'qa_outputs.weight']\n",
      "You should probably TRAIN this model on a down-stream task to be able to use it for predictions and inference.\n"
     ]
    },
    {
     "data": {
      "text/html": [
       "\n",
       "    <div>\n",
       "      \n",
       "      <progress value='3754' max='11262' style='width:300px; height:20px; vertical-align: middle;'></progress>\n",
       "      [ 3754/11262 19:46 < 39:33, 3.16 it/s, Epoch 1/3]\n",
       "    </div>\n",
       "    <table border=\"1\" class=\"dataframe\">\n",
       "  <thead>\n",
       " <tr style=\"text-align: left;\">\n",
       "      <th>Epoch</th>\n",
       "      <th>Training Loss</th>\n",
       "      <th>Validation Loss</th>\n",
       "      <th>Exact</th>\n",
       "      <th>F1</th>\n",
       "      <th>Total</th>\n",
       "      <th>Hasans Exact</th>\n",
       "      <th>Hasans F1</th>\n",
       "      <th>Hasans Total</th>\n",
       "      <th>Noans Exact</th>\n",
       "      <th>Noans F1</th>\n",
       "      <th>Noans Total</th>\n",
       "      <th>Best Exact</th>\n",
       "      <th>Best Exact Thresh</th>\n",
       "      <th>Best F1</th>\n",
       "      <th>Best F1 Thresh</th>\n",
       "    </tr>\n",
       "  </thead>\n",
       "  <tbody>\n",
       "    <tr>\n",
       "      <td>1</td>\n",
       "      <td>4.866300</td>\n",
       "      <td>No log</td>\n",
       "      <td>49.936831</td>\n",
       "      <td>49.938363</td>\n",
       "      <td>11873</td>\n",
       "      <td>0.000000</td>\n",
       "      <td>0.003067</td>\n",
       "      <td>5928</td>\n",
       "      <td>99.730866</td>\n",
       "      <td>99.730866</td>\n",
       "      <td>5945</td>\n",
       "      <td>50.071591</td>\n",
       "      <td>0.000000</td>\n",
       "      <td>50.071591</td>\n",
       "      <td>0.000000</td>\n",
       "    </tr>\n",
       "  </tbody>\n",
       "</table><p>"
      ],
      "text/plain": [
       "<IPython.core.display.HTML object>"
      ]
     },
     "metadata": {},
     "output_type": "display_data"
    },
    {
     "data": {
      "application/vnd.jupyter.widget-view+json": {
       "model_id": "2662b679591444d0b4bae789aa087705",
       "version_major": 2,
       "version_minor": 0
      },
      "text/plain": [
       "  0%|          | 0/11873 [00:00<?, ?it/s]"
      ]
     },
     "metadata": {},
     "output_type": "display_data"
    },
    {
     "name": "stdout",
     "output_type": "stream",
     "text": [
      "Stopping training: eval_f1 below threshold of 70\n"
     ]
    },
    {
     "data": {
      "text/html": [
       "\n",
       "    <div>\n",
       "      \n",
       "      <progress value='748' max='748' style='width:300px; height:20px; vertical-align: middle;'></progress>\n",
       "      [748/748 01:19]\n",
       "    </div>\n",
       "    "
      ],
      "text/plain": [
       "<IPython.core.display.HTML object>"
      ]
     },
     "metadata": {},
     "output_type": "display_data"
    },
    {
     "data": {
      "application/vnd.jupyter.widget-view+json": {
       "model_id": "f8697fc5370447fa85cd29076c333a6e",
       "version_major": 2,
       "version_minor": 0
      },
      "text/plain": [
       "  0%|          | 0/11873 [00:00<?, ?it/s]"
      ]
     },
     "metadata": {},
     "output_type": "display_data"
    },
    {
     "name": "stdout",
     "output_type": "stream",
     "text": [
      "Stopping training: eval_f1 below threshold of 70\n"
     ]
    },
    {
     "name": "stderr",
     "output_type": "stream",
     "text": [
      "[I 2024-05-29 14:44:15,865] Trial 3 finished with value: 49.938362824743685 and parameters: {'no_answer_threshold': 0.8435246747742021, 'learning_rate': 1.1565518985727677e-07, 'warmup_ratio': 1, 'weight_decay': 0.12087291643400122, 'adam_beta1': 0.829233281924149, 'adam_beta2': 0.9957773850286589, 'adam_epsilon': 1.8254916711566065e-07, 'lr_scheduler_type': 'cosine_with_restarts'}. Best is trial 0 with value: 76.43264160733068.\n"
     ]
    },
    {
     "name": "stdout",
     "output_type": "stream",
     "text": [
      "Current Trial 4 parameters: {'no_answer_threshold': 0.05450567290637076, 'learning_rate': 4.178268369354095e-05, 'warmup_ratio': 0, 'weight_decay': 0.16443342961172566, 'adam_beta1': 0.9058375650118359, 'adam_beta2': 0.9919287298365003, 'adam_epsilon': 9.315015736276666e-07, 'lr_scheduler_type': 'cosine'}\n"
     ]
    },
    {
     "name": "stderr",
     "output_type": "stream",
     "text": [
      "Some weights of AlbertForQuestionAnswering were not initialized from the model checkpoint at albert/albert-base-v2 and are newly initialized: ['qa_outputs.bias', 'qa_outputs.weight']\n",
      "You should probably TRAIN this model on a down-stream task to be able to use it for predictions and inference.\n"
     ]
    },
    {
     "data": {
      "text/html": [
       "\n",
       "    <div>\n",
       "      \n",
       "      <progress value='11262' max='11262' style='width:300px; height:20px; vertical-align: middle;'></progress>\n",
       "      [11262/11262 59:25, Epoch 3/3]\n",
       "    </div>\n",
       "    <table border=\"1\" class=\"dataframe\">\n",
       "  <thead>\n",
       " <tr style=\"text-align: left;\">\n",
       "      <th>Epoch</th>\n",
       "      <th>Training Loss</th>\n",
       "      <th>Validation Loss</th>\n",
       "      <th>Exact</th>\n",
       "      <th>F1</th>\n",
       "      <th>Total</th>\n",
       "      <th>Hasans Exact</th>\n",
       "      <th>Hasans F1</th>\n",
       "      <th>Hasans Total</th>\n",
       "      <th>Noans Exact</th>\n",
       "      <th>Noans F1</th>\n",
       "      <th>Noans Total</th>\n",
       "      <th>Best Exact</th>\n",
       "      <th>Best Exact Thresh</th>\n",
       "      <th>Best F1</th>\n",
       "      <th>Best F1 Thresh</th>\n",
       "    </tr>\n",
       "  </thead>\n",
       "  <tbody>\n",
       "    <tr>\n",
       "      <td>1</td>\n",
       "      <td>1.022400</td>\n",
       "      <td>No log</td>\n",
       "      <td>59.176282</td>\n",
       "      <td>72.887365</td>\n",
       "      <td>11873</td>\n",
       "      <td>37.550607</td>\n",
       "      <td>65.012092</td>\n",
       "      <td>5928</td>\n",
       "      <td>80.740118</td>\n",
       "      <td>80.740118</td>\n",
       "      <td>5945</td>\n",
       "      <td>59.176282</td>\n",
       "      <td>0.000000</td>\n",
       "      <td>72.887365</td>\n",
       "      <td>0.000000</td>\n",
       "    </tr>\n",
       "    <tr>\n",
       "      <td>2</td>\n",
       "      <td>0.695800</td>\n",
       "      <td>No log</td>\n",
       "      <td>61.105028</td>\n",
       "      <td>75.795962</td>\n",
       "      <td>11873</td>\n",
       "      <td>40.519568</td>\n",
       "      <td>69.943565</td>\n",
       "      <td>5928</td>\n",
       "      <td>81.631623</td>\n",
       "      <td>81.631623</td>\n",
       "      <td>5945</td>\n",
       "      <td>61.105028</td>\n",
       "      <td>0.000000</td>\n",
       "      <td>75.795962</td>\n",
       "      <td>0.000000</td>\n",
       "    </tr>\n",
       "    <tr>\n",
       "      <td>3</td>\n",
       "      <td>0.396800</td>\n",
       "      <td>No log</td>\n",
       "      <td>60.759707</td>\n",
       "      <td>75.870136</td>\n",
       "      <td>11873</td>\n",
       "      <td>40.991903</td>\n",
       "      <td>71.256094</td>\n",
       "      <td>5928</td>\n",
       "      <td>80.470984</td>\n",
       "      <td>80.470984</td>\n",
       "      <td>5945</td>\n",
       "      <td>60.751284</td>\n",
       "      <td>0.000000</td>\n",
       "      <td>75.861714</td>\n",
       "      <td>0.000000</td>\n",
       "    </tr>\n",
       "  </tbody>\n",
       "</table><p>"
      ],
      "text/plain": [
       "<IPython.core.display.HTML object>"
      ]
     },
     "metadata": {},
     "output_type": "display_data"
    },
    {
     "data": {
      "application/vnd.jupyter.widget-view+json": {
       "model_id": "30bf24f1e5694769b66510658f95c775",
       "version_major": 2,
       "version_minor": 0
      },
      "text/plain": [
       "  0%|          | 0/11873 [00:00<?, ?it/s]"
      ]
     },
     "metadata": {},
     "output_type": "display_data"
    },
    {
     "data": {
      "application/vnd.jupyter.widget-view+json": {
       "model_id": "addaa6f470cf416fb01d1a027f185d7b",
       "version_major": 2,
       "version_minor": 0
      },
      "text/plain": [
       "  0%|          | 0/11873 [00:00<?, ?it/s]"
      ]
     },
     "metadata": {},
     "output_type": "display_data"
    },
    {
     "data": {
      "application/vnd.jupyter.widget-view+json": {
       "model_id": "004be88cd97d455792a472bf2081ac65",
       "version_major": 2,
       "version_minor": 0
      },
      "text/plain": [
       "  0%|          | 0/11873 [00:00<?, ?it/s]"
      ]
     },
     "metadata": {},
     "output_type": "display_data"
    },
    {
     "data": {
      "text/html": [
       "\n",
       "    <div>\n",
       "      \n",
       "      <progress value='748' max='748' style='width:300px; height:20px; vertical-align: middle;'></progress>\n",
       "      [748/748 01:19]\n",
       "    </div>\n",
       "    "
      ],
      "text/plain": [
       "<IPython.core.display.HTML object>"
      ]
     },
     "metadata": {},
     "output_type": "display_data"
    },
    {
     "data": {
      "application/vnd.jupyter.widget-view+json": {
       "model_id": "18d5ed8f059c47c593e0fc6d1a05c60c",
       "version_major": 2,
       "version_minor": 0
      },
      "text/plain": [
       "  0%|          | 0/11873 [00:00<?, ?it/s]"
      ]
     },
     "metadata": {},
     "output_type": "display_data"
    },
    {
     "name": "stderr",
     "output_type": "stream",
     "text": [
      "[I 2024-05-29 15:45:52,462] Trial 4 finished with value: 75.87013613913734 and parameters: {'no_answer_threshold': 0.05450567290637076, 'learning_rate': 4.178268369354095e-05, 'warmup_ratio': 0, 'weight_decay': 0.16443342961172566, 'adam_beta1': 0.9058375650118359, 'adam_beta2': 0.9919287298365003, 'adam_epsilon': 9.315015736276666e-07, 'lr_scheduler_type': 'cosine'}. Best is trial 0 with value: 76.43264160733068.\n"
     ]
    },
    {
     "name": "stdout",
     "output_type": "stream",
     "text": [
      "Current Trial 5 parameters: {'no_answer_threshold': 0.539651068550544, 'learning_rate': 1.186615923001931e-05, 'warmup_ratio': 0, 'weight_decay': 0.07140708128557788, 'adam_beta1': 0.8358929735697945, 'adam_beta2': 0.9926895888541926, 'adam_epsilon': 5.374945694271689e-07, 'lr_scheduler_type': 'cosine_with_restarts'}\n"
     ]
    },
    {
     "name": "stderr",
     "output_type": "stream",
     "text": [
      "Some weights of AlbertForQuestionAnswering were not initialized from the model checkpoint at albert/albert-base-v2 and are newly initialized: ['qa_outputs.bias', 'qa_outputs.weight']\n",
      "You should probably TRAIN this model on a down-stream task to be able to use it for predictions and inference.\n"
     ]
    },
    {
     "data": {
      "text/html": [
       "\n",
       "    <div>\n",
       "      \n",
       "      <progress value='11262' max='11262' style='width:300px; height:20px; vertical-align: middle;'></progress>\n",
       "      [11262/11262 59:25, Epoch 3/3]\n",
       "    </div>\n",
       "    <table border=\"1\" class=\"dataframe\">\n",
       "  <thead>\n",
       " <tr style=\"text-align: left;\">\n",
       "      <th>Epoch</th>\n",
       "      <th>Training Loss</th>\n",
       "      <th>Validation Loss</th>\n",
       "      <th>Exact</th>\n",
       "      <th>F1</th>\n",
       "      <th>Total</th>\n",
       "      <th>Hasans Exact</th>\n",
       "      <th>Hasans F1</th>\n",
       "      <th>Hasans Total</th>\n",
       "      <th>Noans Exact</th>\n",
       "      <th>Noans F1</th>\n",
       "      <th>Noans Total</th>\n",
       "      <th>Best Exact</th>\n",
       "      <th>Best Exact Thresh</th>\n",
       "      <th>Best F1</th>\n",
       "      <th>Best F1 Thresh</th>\n",
       "    </tr>\n",
       "  </thead>\n",
       "  <tbody>\n",
       "    <tr>\n",
       "      <td>1</td>\n",
       "      <td>0.955300</td>\n",
       "      <td>No log</td>\n",
       "      <td>58.317190</td>\n",
       "      <td>73.790929</td>\n",
       "      <td>11873</td>\n",
       "      <td>42.881242</td>\n",
       "      <td>73.873093</td>\n",
       "      <td>5928</td>\n",
       "      <td>73.708999</td>\n",
       "      <td>73.708999</td>\n",
       "      <td>5945</td>\n",
       "      <td>58.325613</td>\n",
       "      <td>0.000000</td>\n",
       "      <td>73.799351</td>\n",
       "      <td>0.000000</td>\n",
       "    </tr>\n",
       "    <tr>\n",
       "      <td>2</td>\n",
       "      <td>0.718200</td>\n",
       "      <td>No log</td>\n",
       "      <td>60.026952</td>\n",
       "      <td>75.443565</td>\n",
       "      <td>11873</td>\n",
       "      <td>43.168016</td>\n",
       "      <td>74.045454</td>\n",
       "      <td>5928</td>\n",
       "      <td>76.837679</td>\n",
       "      <td>76.837679</td>\n",
       "      <td>5945</td>\n",
       "      <td>60.035374</td>\n",
       "      <td>0.000000</td>\n",
       "      <td>75.451988</td>\n",
       "      <td>0.000000</td>\n",
       "    </tr>\n",
       "    <tr>\n",
       "      <td>3</td>\n",
       "      <td>0.506300</td>\n",
       "      <td>No log</td>\n",
       "      <td>60.945001</td>\n",
       "      <td>76.229393</td>\n",
       "      <td>11873</td>\n",
       "      <td>42.240216</td>\n",
       "      <td>72.852831</td>\n",
       "      <td>5928</td>\n",
       "      <td>79.596299</td>\n",
       "      <td>79.596299</td>\n",
       "      <td>5945</td>\n",
       "      <td>60.953424</td>\n",
       "      <td>0.000000</td>\n",
       "      <td>76.237815</td>\n",
       "      <td>0.000000</td>\n",
       "    </tr>\n",
       "  </tbody>\n",
       "</table><p>"
      ],
      "text/plain": [
       "<IPython.core.display.HTML object>"
      ]
     },
     "metadata": {},
     "output_type": "display_data"
    },
    {
     "data": {
      "application/vnd.jupyter.widget-view+json": {
       "model_id": "b4b8d612a6f54298bcf8b1f6bcef6139",
       "version_major": 2,
       "version_minor": 0
      },
      "text/plain": [
       "  0%|          | 0/11873 [00:00<?, ?it/s]"
      ]
     },
     "metadata": {},
     "output_type": "display_data"
    },
    {
     "data": {
      "application/vnd.jupyter.widget-view+json": {
       "model_id": "941d0ded39e54023800002a7757ba6ef",
       "version_major": 2,
       "version_minor": 0
      },
      "text/plain": [
       "  0%|          | 0/11873 [00:00<?, ?it/s]"
      ]
     },
     "metadata": {},
     "output_type": "display_data"
    },
    {
     "data": {
      "application/vnd.jupyter.widget-view+json": {
       "model_id": "c86c2efc29ab465eb8d179adb6f538f1",
       "version_major": 2,
       "version_minor": 0
      },
      "text/plain": [
       "  0%|          | 0/11873 [00:00<?, ?it/s]"
      ]
     },
     "metadata": {},
     "output_type": "display_data"
    },
    {
     "data": {
      "text/html": [
       "\n",
       "    <div>\n",
       "      \n",
       "      <progress value='748' max='748' style='width:300px; height:20px; vertical-align: middle;'></progress>\n",
       "      [748/748 01:18]\n",
       "    </div>\n",
       "    "
      ],
      "text/plain": [
       "<IPython.core.display.HTML object>"
      ]
     },
     "metadata": {},
     "output_type": "display_data"
    },
    {
     "data": {
      "application/vnd.jupyter.widget-view+json": {
       "model_id": "72d807d65c384eab916db7f2fca37075",
       "version_major": 2,
       "version_minor": 0
      },
      "text/plain": [
       "  0%|          | 0/11873 [00:00<?, ?it/s]"
      ]
     },
     "metadata": {},
     "output_type": "display_data"
    },
    {
     "name": "stderr",
     "output_type": "stream",
     "text": [
      "[I 2024-05-29 16:47:24,346] Trial 5 finished with value: 76.22939282804461 and parameters: {'no_answer_threshold': 0.539651068550544, 'learning_rate': 1.186615923001931e-05, 'warmup_ratio': 0, 'weight_decay': 0.07140708128557788, 'adam_beta1': 0.8358929735697945, 'adam_beta2': 0.9926895888541926, 'adam_epsilon': 5.374945694271689e-07, 'lr_scheduler_type': 'cosine_with_restarts'}. Best is trial 0 with value: 76.43264160733068.\n"
     ]
    },
    {
     "name": "stdout",
     "output_type": "stream",
     "text": [
      "Current Trial 6 parameters: {'no_answer_threshold': 0.31477275445704944, 'learning_rate': 3.82807790423912e-05, 'warmup_ratio': 1, 'weight_decay': 0.23207973796990788, 'adam_beta1': 0.8670779037437927, 'adam_beta2': 0.9904530258882491, 'adam_epsilon': 5.116880743768848e-07, 'lr_scheduler_type': 'cosine'}\n"
     ]
    },
    {
     "name": "stderr",
     "output_type": "stream",
     "text": [
      "Some weights of AlbertForQuestionAnswering were not initialized from the model checkpoint at albert/albert-base-v2 and are newly initialized: ['qa_outputs.bias', 'qa_outputs.weight']\n",
      "You should probably TRAIN this model on a down-stream task to be able to use it for predictions and inference.\n"
     ]
    },
    {
     "data": {
      "text/html": [
       "\n",
       "    <div>\n",
       "      \n",
       "      <progress value='3754' max='11262' style='width:300px; height:20px; vertical-align: middle;'></progress>\n",
       "      [ 3754/11262 19:46 < 39:34, 3.16 it/s, Epoch 1/3]\n",
       "    </div>\n",
       "    <table border=\"1\" class=\"dataframe\">\n",
       "  <thead>\n",
       " <tr style=\"text-align: left;\">\n",
       "      <th>Epoch</th>\n",
       "      <th>Training Loss</th>\n",
       "      <th>Validation Loss</th>\n",
       "      <th>Exact</th>\n",
       "      <th>F1</th>\n",
       "      <th>Total</th>\n",
       "      <th>Hasans Exact</th>\n",
       "      <th>Hasans F1</th>\n",
       "      <th>Hasans Total</th>\n",
       "      <th>Noans Exact</th>\n",
       "      <th>Noans F1</th>\n",
       "      <th>Noans Total</th>\n",
       "      <th>Best Exact</th>\n",
       "      <th>Best Exact Thresh</th>\n",
       "      <th>Best F1</th>\n",
       "      <th>Best F1 Thresh</th>\n",
       "    </tr>\n",
       "  </thead>\n",
       "  <tbody>\n",
       "    <tr>\n",
       "      <td>1</td>\n",
       "      <td>1.077200</td>\n",
       "      <td>No log</td>\n",
       "      <td>49.145119</td>\n",
       "      <td>65.106772</td>\n",
       "      <td>11873</td>\n",
       "      <td>41.565452</td>\n",
       "      <td>73.534532</td>\n",
       "      <td>5928</td>\n",
       "      <td>56.703112</td>\n",
       "      <td>56.703112</td>\n",
       "      <td>5945</td>\n",
       "      <td>50.088436</td>\n",
       "      <td>0.000000</td>\n",
       "      <td>65.115195</td>\n",
       "      <td>0.000000</td>\n",
       "    </tr>\n",
       "  </tbody>\n",
       "</table><p>"
      ],
      "text/plain": [
       "<IPython.core.display.HTML object>"
      ]
     },
     "metadata": {},
     "output_type": "display_data"
    },
    {
     "data": {
      "application/vnd.jupyter.widget-view+json": {
       "model_id": "ff3b9c3af77141acab13f69a75b0b837",
       "version_major": 2,
       "version_minor": 0
      },
      "text/plain": [
       "  0%|          | 0/11873 [00:00<?, ?it/s]"
      ]
     },
     "metadata": {},
     "output_type": "display_data"
    },
    {
     "name": "stdout",
     "output_type": "stream",
     "text": [
      "Stopping training: eval_f1 below threshold of 70\n"
     ]
    },
    {
     "data": {
      "text/html": [
       "\n",
       "    <div>\n",
       "      \n",
       "      <progress value='748' max='748' style='width:300px; height:20px; vertical-align: middle;'></progress>\n",
       "      [748/748 01:19]\n",
       "    </div>\n",
       "    "
      ],
      "text/plain": [
       "<IPython.core.display.HTML object>"
      ]
     },
     "metadata": {},
     "output_type": "display_data"
    },
    {
     "data": {
      "application/vnd.jupyter.widget-view+json": {
       "model_id": "1e553aa396364edc8ccc93fbea47e429",
       "version_major": 2,
       "version_minor": 0
      },
      "text/plain": [
       "  0%|          | 0/11873 [00:00<?, ?it/s]"
      ]
     },
     "metadata": {},
     "output_type": "display_data"
    },
    {
     "name": "stdout",
     "output_type": "stream",
     "text": [
      "Stopping training: eval_f1 below threshold of 70\n"
     ]
    },
    {
     "name": "stderr",
     "output_type": "stream",
     "text": [
      "[I 2024-05-29 17:09:19,824] Trial 6 finished with value: 65.10677209357601 and parameters: {'no_answer_threshold': 0.31477275445704944, 'learning_rate': 3.82807790423912e-05, 'warmup_ratio': 1, 'weight_decay': 0.23207973796990788, 'adam_beta1': 0.8670779037437927, 'adam_beta2': 0.9904530258882491, 'adam_epsilon': 5.116880743768848e-07, 'lr_scheduler_type': 'cosine'}. Best is trial 0 with value: 76.43264160733068.\n"
     ]
    },
    {
     "name": "stdout",
     "output_type": "stream",
     "text": [
      "Current Trial 7 parameters: {'no_answer_threshold': 0.15320079790958685, 'learning_rate': 4.869205273795063e-06, 'warmup_ratio': 0, 'weight_decay': 0.060247301727087504, 'adam_beta1': 0.8694100296876629, 'adam_beta2': 0.9977377678163278, 'adam_epsilon': 4.380419921662503e-07, 'lr_scheduler_type': 'linear'}\n"
     ]
    },
    {
     "name": "stderr",
     "output_type": "stream",
     "text": [
      "Some weights of AlbertForQuestionAnswering were not initialized from the model checkpoint at albert/albert-base-v2 and are newly initialized: ['qa_outputs.bias', 'qa_outputs.weight']\n",
      "You should probably TRAIN this model on a down-stream task to be able to use it for predictions and inference.\n"
     ]
    },
    {
     "data": {
      "text/html": [
       "\n",
       "    <div>\n",
       "      \n",
       "      <progress value='11262' max='11262' style='width:300px; height:20px; vertical-align: middle;'></progress>\n",
       "      [11262/11262 59:32, Epoch 3/3]\n",
       "    </div>\n",
       "    <table border=\"1\" class=\"dataframe\">\n",
       "  <thead>\n",
       " <tr style=\"text-align: left;\">\n",
       "      <th>Epoch</th>\n",
       "      <th>Training Loss</th>\n",
       "      <th>Validation Loss</th>\n",
       "      <th>Exact</th>\n",
       "      <th>F1</th>\n",
       "      <th>Total</th>\n",
       "      <th>Hasans Exact</th>\n",
       "      <th>Hasans F1</th>\n",
       "      <th>Hasans Total</th>\n",
       "      <th>Noans Exact</th>\n",
       "      <th>Noans F1</th>\n",
       "      <th>Noans Total</th>\n",
       "      <th>Best Exact</th>\n",
       "      <th>Best Exact Thresh</th>\n",
       "      <th>Best F1</th>\n",
       "      <th>Best F1 Thresh</th>\n",
       "    </tr>\n",
       "  </thead>\n",
       "  <tbody>\n",
       "    <tr>\n",
       "      <td>1</td>\n",
       "      <td>1.031500</td>\n",
       "      <td>No log</td>\n",
       "      <td>56.472669</td>\n",
       "      <td>71.382759</td>\n",
       "      <td>11873</td>\n",
       "      <td>39.861673</td>\n",
       "      <td>69.724611</td>\n",
       "      <td>5928</td>\n",
       "      <td>73.036165</td>\n",
       "      <td>73.036165</td>\n",
       "      <td>5945</td>\n",
       "      <td>56.481092</td>\n",
       "      <td>0.000000</td>\n",
       "      <td>71.391181</td>\n",
       "      <td>0.000000</td>\n",
       "    </tr>\n",
       "    <tr>\n",
       "      <td>2</td>\n",
       "      <td>0.860800</td>\n",
       "      <td>No log</td>\n",
       "      <td>58.334035</td>\n",
       "      <td>73.392371</td>\n",
       "      <td>11873</td>\n",
       "      <td>40.823212</td>\n",
       "      <td>70.983067</td>\n",
       "      <td>5928</td>\n",
       "      <td>75.794786</td>\n",
       "      <td>75.794786</td>\n",
       "      <td>5945</td>\n",
       "      <td>58.342458</td>\n",
       "      <td>0.000000</td>\n",
       "      <td>73.400793</td>\n",
       "      <td>0.000000</td>\n",
       "    </tr>\n",
       "    <tr>\n",
       "      <td>3</td>\n",
       "      <td>0.739800</td>\n",
       "      <td>No log</td>\n",
       "      <td>59.302619</td>\n",
       "      <td>74.335794</td>\n",
       "      <td>11873</td>\n",
       "      <td>40.030364</td>\n",
       "      <td>70.139825</td>\n",
       "      <td>5928</td>\n",
       "      <td>78.519765</td>\n",
       "      <td>78.519765</td>\n",
       "      <td>5945</td>\n",
       "      <td>59.311042</td>\n",
       "      <td>0.000000</td>\n",
       "      <td>74.344217</td>\n",
       "      <td>0.000000</td>\n",
       "    </tr>\n",
       "  </tbody>\n",
       "</table><p>"
      ],
      "text/plain": [
       "<IPython.core.display.HTML object>"
      ]
     },
     "metadata": {},
     "output_type": "display_data"
    },
    {
     "data": {
      "application/vnd.jupyter.widget-view+json": {
       "model_id": "a957b3b44b924771b74a7aa73efaf0c2",
       "version_major": 2,
       "version_minor": 0
      },
      "text/plain": [
       "  0%|          | 0/11873 [00:00<?, ?it/s]"
      ]
     },
     "metadata": {},
     "output_type": "display_data"
    },
    {
     "data": {
      "application/vnd.jupyter.widget-view+json": {
       "model_id": "a28c00c41dc14b5bb14721e8de3d0265",
       "version_major": 2,
       "version_minor": 0
      },
      "text/plain": [
       "  0%|          | 0/11873 [00:00<?, ?it/s]"
      ]
     },
     "metadata": {},
     "output_type": "display_data"
    },
    {
     "data": {
      "application/vnd.jupyter.widget-view+json": {
       "model_id": "ff1b4da2dfc847c983e31fb3c7122b9e",
       "version_major": 2,
       "version_minor": 0
      },
      "text/plain": [
       "  0%|          | 0/11873 [00:00<?, ?it/s]"
      ]
     },
     "metadata": {},
     "output_type": "display_data"
    },
    {
     "data": {
      "text/html": [
       "\n",
       "    <div>\n",
       "      \n",
       "      <progress value='748' max='748' style='width:300px; height:20px; vertical-align: middle;'></progress>\n",
       "      [748/748 01:19]\n",
       "    </div>\n",
       "    "
      ],
      "text/plain": [
       "<IPython.core.display.HTML object>"
      ]
     },
     "metadata": {},
     "output_type": "display_data"
    },
    {
     "data": {
      "application/vnd.jupyter.widget-view+json": {
       "model_id": "9432204a15904b09a6307d9ff29944ce",
       "version_major": 2,
       "version_minor": 0
      },
      "text/plain": [
       "  0%|          | 0/11873 [00:00<?, ?it/s]"
      ]
     },
     "metadata": {},
     "output_type": "display_data"
    },
    {
     "name": "stderr",
     "output_type": "stream",
     "text": [
      "[I 2024-05-29 18:11:00,919] Trial 7 finished with value: 74.3357941495461 and parameters: {'no_answer_threshold': 0.15320079790958685, 'learning_rate': 4.869205273795063e-06, 'warmup_ratio': 0, 'weight_decay': 0.060247301727087504, 'adam_beta1': 0.8694100296876629, 'adam_beta2': 0.9977377678163278, 'adam_epsilon': 4.380419921662503e-07, 'lr_scheduler_type': 'linear'}. Best is trial 0 with value: 76.43264160733068.\n"
     ]
    },
    {
     "name": "stdout",
     "output_type": "stream",
     "text": [
      "Current Trial 8 parameters: {'no_answer_threshold': 0.6510185754267764, 'learning_rate': 1.841754017585471e-05, 'warmup_ratio': 1, 'weight_decay': 0.1953216213398301, 'adam_beta1': 0.938505478869807, 'adam_beta2': 0.9907485749609471, 'adam_epsilon': 7.050473081651685e-07, 'lr_scheduler_type': 'linear'}\n"
     ]
    },
    {
     "name": "stderr",
     "output_type": "stream",
     "text": [
      "Some weights of AlbertForQuestionAnswering were not initialized from the model checkpoint at albert/albert-base-v2 and are newly initialized: ['qa_outputs.bias', 'qa_outputs.weight']\n",
      "You should probably TRAIN this model on a down-stream task to be able to use it for predictions and inference.\n"
     ]
    },
    {
     "data": {
      "text/html": [
       "\n",
       "    <div>\n",
       "      \n",
       "      <progress value='3754' max='11262' style='width:300px; height:20px; vertical-align: middle;'></progress>\n",
       "      [ 3754/11262 19:47 < 39:35, 3.16 it/s, Epoch 1/3]\n",
       "    </div>\n",
       "    <table border=\"1\" class=\"dataframe\">\n",
       "  <thead>\n",
       " <tr style=\"text-align: left;\">\n",
       "      <th>Epoch</th>\n",
       "      <th>Training Loss</th>\n",
       "      <th>Validation Loss</th>\n",
       "      <th>Exact</th>\n",
       "      <th>F1</th>\n",
       "      <th>Total</th>\n",
       "      <th>Hasans Exact</th>\n",
       "      <th>Hasans F1</th>\n",
       "      <th>Hasans Total</th>\n",
       "      <th>Noans Exact</th>\n",
       "      <th>Noans F1</th>\n",
       "      <th>Noans Total</th>\n",
       "      <th>Best Exact</th>\n",
       "      <th>Best Exact Thresh</th>\n",
       "      <th>Best F1</th>\n",
       "      <th>Best F1 Thresh</th>\n",
       "    </tr>\n",
       "  </thead>\n",
       "  <tbody>\n",
       "    <tr>\n",
       "      <td>1</td>\n",
       "      <td>1.153200</td>\n",
       "      <td>No log</td>\n",
       "      <td>54.535501</td>\n",
       "      <td>69.537759</td>\n",
       "      <td>11873</td>\n",
       "      <td>40.199055</td>\n",
       "      <td>70.246594</td>\n",
       "      <td>5928</td>\n",
       "      <td>68.830950</td>\n",
       "      <td>68.830950</td>\n",
       "      <td>5945</td>\n",
       "      <td>54.543923</td>\n",
       "      <td>0.000000</td>\n",
       "      <td>69.546181</td>\n",
       "      <td>0.000000</td>\n",
       "    </tr>\n",
       "  </tbody>\n",
       "</table><p>"
      ],
      "text/plain": [
       "<IPython.core.display.HTML object>"
      ]
     },
     "metadata": {},
     "output_type": "display_data"
    },
    {
     "data": {
      "application/vnd.jupyter.widget-view+json": {
       "model_id": "d7bf4f3649cd4ed48bf6f70a7ec1008e",
       "version_major": 2,
       "version_minor": 0
      },
      "text/plain": [
       "  0%|          | 0/11873 [00:00<?, ?it/s]"
      ]
     },
     "metadata": {},
     "output_type": "display_data"
    },
    {
     "name": "stdout",
     "output_type": "stream",
     "text": [
      "Stopping training: eval_f1 below threshold of 70\n"
     ]
    },
    {
     "data": {
      "text/html": [
       "\n",
       "    <div>\n",
       "      \n",
       "      <progress value='748' max='748' style='width:300px; height:20px; vertical-align: middle;'></progress>\n",
       "      [748/748 01:18]\n",
       "    </div>\n",
       "    "
      ],
      "text/plain": [
       "<IPython.core.display.HTML object>"
      ]
     },
     "metadata": {},
     "output_type": "display_data"
    },
    {
     "data": {
      "application/vnd.jupyter.widget-view+json": {
       "model_id": "53738d824a764c4cbe395229695870a4",
       "version_major": 2,
       "version_minor": 0
      },
      "text/plain": [
       "  0%|          | 0/11873 [00:00<?, ?it/s]"
      ]
     },
     "metadata": {},
     "output_type": "display_data"
    },
    {
     "name": "stdout",
     "output_type": "stream",
     "text": [
      "Stopping training: eval_f1 below threshold of 70\n"
     ]
    },
    {
     "name": "stderr",
     "output_type": "stream",
     "text": [
      "[I 2024-05-29 18:32:59,273] Trial 8 finished with value: 69.53775855157805 and parameters: {'no_answer_threshold': 0.6510185754267764, 'learning_rate': 1.841754017585471e-05, 'warmup_ratio': 1, 'weight_decay': 0.1953216213398301, 'adam_beta1': 0.938505478869807, 'adam_beta2': 0.9907485749609471, 'adam_epsilon': 7.050473081651685e-07, 'lr_scheduler_type': 'linear'}. Best is trial 0 with value: 76.43264160733068.\n"
     ]
    },
    {
     "name": "stdout",
     "output_type": "stream",
     "text": [
      "Current Trial 9 parameters: {'no_answer_threshold': 0.27180153600005885, 'learning_rate': 1.7008370377281416e-07, 'warmup_ratio': 1, 'weight_decay': 0.16042992436168943, 'adam_beta1': 0.8855624329974969, 'adam_beta2': 0.9916671510249079, 'adam_epsilon': 8.871045942121957e-07, 'lr_scheduler_type': 'linear'}\n"
     ]
    },
    {
     "name": "stderr",
     "output_type": "stream",
     "text": [
      "Some weights of AlbertForQuestionAnswering were not initialized from the model checkpoint at albert/albert-base-v2 and are newly initialized: ['qa_outputs.bias', 'qa_outputs.weight']\n",
      "You should probably TRAIN this model on a down-stream task to be able to use it for predictions and inference.\n"
     ]
    },
    {
     "data": {
      "text/html": [
       "\n",
       "    <div>\n",
       "      \n",
       "      <progress value='3754' max='11262' style='width:300px; height:20px; vertical-align: middle;'></progress>\n",
       "      [ 3754/11262 19:45 < 39:32, 3.16 it/s, Epoch 1/3]\n",
       "    </div>\n",
       "    <table border=\"1\" class=\"dataframe\">\n",
       "  <thead>\n",
       " <tr style=\"text-align: left;\">\n",
       "      <th>Epoch</th>\n",
       "      <th>Training Loss</th>\n",
       "      <th>Validation Loss</th>\n",
       "      <th>Exact</th>\n",
       "      <th>F1</th>\n",
       "      <th>Total</th>\n",
       "      <th>Hasans Exact</th>\n",
       "      <th>Hasans F1</th>\n",
       "      <th>Hasans Total</th>\n",
       "      <th>Noans Exact</th>\n",
       "      <th>Noans F1</th>\n",
       "      <th>Noans Total</th>\n",
       "      <th>Best Exact</th>\n",
       "      <th>Best Exact Thresh</th>\n",
       "      <th>Best F1</th>\n",
       "      <th>Best F1 Thresh</th>\n",
       "    </tr>\n",
       "  </thead>\n",
       "  <tbody>\n",
       "    <tr>\n",
       "      <td>1</td>\n",
       "      <td>4.342600</td>\n",
       "      <td>No log</td>\n",
       "      <td>50.021056</td>\n",
       "      <td>50.022259</td>\n",
       "      <td>11873</td>\n",
       "      <td>0.000000</td>\n",
       "      <td>0.002410</td>\n",
       "      <td>5928</td>\n",
       "      <td>99.899075</td>\n",
       "      <td>99.899075</td>\n",
       "      <td>5945</td>\n",
       "      <td>50.071591</td>\n",
       "      <td>0.000000</td>\n",
       "      <td>50.071591</td>\n",
       "      <td>0.000000</td>\n",
       "    </tr>\n",
       "  </tbody>\n",
       "</table><p>"
      ],
      "text/plain": [
       "<IPython.core.display.HTML object>"
      ]
     },
     "metadata": {},
     "output_type": "display_data"
    },
    {
     "data": {
      "application/vnd.jupyter.widget-view+json": {
       "model_id": "259e0142b0aa47f08519cfc3d34caa22",
       "version_major": 2,
       "version_minor": 0
      },
      "text/plain": [
       "  0%|          | 0/11873 [00:00<?, ?it/s]"
      ]
     },
     "metadata": {},
     "output_type": "display_data"
    },
    {
     "name": "stdout",
     "output_type": "stream",
     "text": [
      "Stopping training: eval_f1 below threshold of 70\n"
     ]
    },
    {
     "data": {
      "text/html": [
       "\n",
       "    <div>\n",
       "      \n",
       "      <progress value='748' max='748' style='width:300px; height:20px; vertical-align: middle;'></progress>\n",
       "      [748/748 01:18]\n",
       "    </div>\n",
       "    "
      ],
      "text/plain": [
       "<IPython.core.display.HTML object>"
      ]
     },
     "metadata": {},
     "output_type": "display_data"
    },
    {
     "data": {
      "application/vnd.jupyter.widget-view+json": {
       "model_id": "ae2158b28b414201a3dd842ad39eea38",
       "version_major": 2,
       "version_minor": 0
      },
      "text/plain": [
       "  0%|          | 0/11873 [00:00<?, ?it/s]"
      ]
     },
     "metadata": {},
     "output_type": "display_data"
    },
    {
     "name": "stdout",
     "output_type": "stream",
     "text": [
      "Stopping training: eval_f1 below threshold of 70\n"
     ]
    },
    {
     "name": "stderr",
     "output_type": "stream",
     "text": [
      "[I 2024-05-29 18:54:51,176] Trial 9 finished with value: 50.02225938804731 and parameters: {'no_answer_threshold': 0.27180153600005885, 'learning_rate': 1.7008370377281416e-07, 'warmup_ratio': 1, 'weight_decay': 0.16042992436168943, 'adam_beta1': 0.8855624329974969, 'adam_beta2': 0.9916671510249079, 'adam_epsilon': 8.871045942121957e-07, 'lr_scheduler_type': 'linear'}. Best is trial 0 with value: 76.43264160733068.\n"
     ]
    },
    {
     "name": "stdout",
     "output_type": "stream",
     "text": [
      "Current Trial 10 parameters: {'no_answer_threshold': 0.5100325463257438, 'learning_rate': 9.246983326883406e-07, 'warmup_ratio': 0, 'weight_decay': 0.2403200300441191, 'adam_beta1': 0.8004540699715861, 'adam_beta2': 0.998855968854347, 'adam_epsilon': 3.273970875991001e-08, 'lr_scheduler_type': 'linear'}\n"
     ]
    },
    {
     "name": "stderr",
     "output_type": "stream",
     "text": [
      "Some weights of AlbertForQuestionAnswering were not initialized from the model checkpoint at albert/albert-base-v2 and are newly initialized: ['qa_outputs.bias', 'qa_outputs.weight']\n",
      "You should probably TRAIN this model on a down-stream task to be able to use it for predictions and inference.\n"
     ]
    },
    {
     "data": {
      "text/html": [
       "\n",
       "    <div>\n",
       "      \n",
       "      <progress value='3754' max='11262' style='width:300px; height:20px; vertical-align: middle;'></progress>\n",
       "      [ 3754/11262 19:47 < 39:35, 3.16 it/s, Epoch 1/3]\n",
       "    </div>\n",
       "    <table border=\"1\" class=\"dataframe\">\n",
       "  <thead>\n",
       " <tr style=\"text-align: left;\">\n",
       "      <th>Epoch</th>\n",
       "      <th>Training Loss</th>\n",
       "      <th>Validation Loss</th>\n",
       "      <th>Exact</th>\n",
       "      <th>F1</th>\n",
       "      <th>Total</th>\n",
       "      <th>Hasans Exact</th>\n",
       "      <th>Hasans F1</th>\n",
       "      <th>Hasans Total</th>\n",
       "      <th>Noans Exact</th>\n",
       "      <th>Noans F1</th>\n",
       "      <th>Noans Total</th>\n",
       "      <th>Best Exact</th>\n",
       "      <th>Best Exact Thresh</th>\n",
       "      <th>Best F1</th>\n",
       "      <th>Best F1 Thresh</th>\n",
       "    </tr>\n",
       "  </thead>\n",
       "  <tbody>\n",
       "    <tr>\n",
       "      <td>1</td>\n",
       "      <td>1.440800</td>\n",
       "      <td>No log</td>\n",
       "      <td>47.309020</td>\n",
       "      <td>61.050968</td>\n",
       "      <td>11873</td>\n",
       "      <td>33.097166</td>\n",
       "      <td>60.620469</td>\n",
       "      <td>5928</td>\n",
       "      <td>61.480235</td>\n",
       "      <td>61.480235</td>\n",
       "      <td>5945</td>\n",
       "      <td>50.172661</td>\n",
       "      <td>0.000000</td>\n",
       "      <td>61.062198</td>\n",
       "      <td>0.000000</td>\n",
       "    </tr>\n",
       "  </tbody>\n",
       "</table><p>"
      ],
      "text/plain": [
       "<IPython.core.display.HTML object>"
      ]
     },
     "metadata": {},
     "output_type": "display_data"
    },
    {
     "data": {
      "application/vnd.jupyter.widget-view+json": {
       "model_id": "af80887814084457a40ac4eaf430f904",
       "version_major": 2,
       "version_minor": 0
      },
      "text/plain": [
       "  0%|          | 0/11873 [00:00<?, ?it/s]"
      ]
     },
     "metadata": {},
     "output_type": "display_data"
    },
    {
     "name": "stdout",
     "output_type": "stream",
     "text": [
      "Stopping training: eval_f1 below threshold of 70\n"
     ]
    },
    {
     "data": {
      "text/html": [
       "\n",
       "    <div>\n",
       "      \n",
       "      <progress value='748' max='748' style='width:300px; height:20px; vertical-align: middle;'></progress>\n",
       "      [748/748 01:18]\n",
       "    </div>\n",
       "    "
      ],
      "text/plain": [
       "<IPython.core.display.HTML object>"
      ]
     },
     "metadata": {},
     "output_type": "display_data"
    },
    {
     "data": {
      "application/vnd.jupyter.widget-view+json": {
       "model_id": "c2c8e417b1d641749be55f0b2df12f0e",
       "version_major": 2,
       "version_minor": 0
      },
      "text/plain": [
       "  0%|          | 0/11873 [00:00<?, ?it/s]"
      ]
     },
     "metadata": {},
     "output_type": "display_data"
    },
    {
     "name": "stdout",
     "output_type": "stream",
     "text": [
      "Stopping training: eval_f1 below threshold of 70\n"
     ]
    },
    {
     "name": "stderr",
     "output_type": "stream",
     "text": [
      "[I 2024-05-29 19:16:46,558] Trial 10 finished with value: 61.050967680966025 and parameters: {'no_answer_threshold': 0.5100325463257438, 'learning_rate': 9.246983326883406e-07, 'warmup_ratio': 0, 'weight_decay': 0.2403200300441191, 'adam_beta1': 0.8004540699715861, 'adam_beta2': 0.998855968854347, 'adam_epsilon': 3.273970875991001e-08, 'lr_scheduler_type': 'linear'}. Best is trial 0 with value: 76.43264160733068.\n"
     ]
    },
    {
     "name": "stdout",
     "output_type": "stream",
     "text": [
      "Current Trial 11 parameters: {'no_answer_threshold': 0.5576487892869986, 'learning_rate': 3.871403243680747e-06, 'warmup_ratio': 0, 'weight_decay': 0.11502329507101522, 'adam_beta1': 0.8370960852979689, 'adam_beta2': 0.9963595529939238, 'adam_epsilon': 3.3094295925007823e-07, 'lr_scheduler_type': 'cosine_with_restarts'}\n"
     ]
    },
    {
     "name": "stderr",
     "output_type": "stream",
     "text": [
      "Some weights of AlbertForQuestionAnswering were not initialized from the model checkpoint at albert/albert-base-v2 and are newly initialized: ['qa_outputs.bias', 'qa_outputs.weight']\n",
      "You should probably TRAIN this model on a down-stream task to be able to use it for predictions and inference.\n"
     ]
    },
    {
     "data": {
      "text/html": [
       "\n",
       "    <div>\n",
       "      \n",
       "      <progress value='3754' max='11262' style='width:300px; height:20px; vertical-align: middle;'></progress>\n",
       "      [ 3754/11262 19:45 < 39:32, 3.16 it/s, Epoch 1/3]\n",
       "    </div>\n",
       "    <table border=\"1\" class=\"dataframe\">\n",
       "  <thead>\n",
       " <tr style=\"text-align: left;\">\n",
       "      <th>Epoch</th>\n",
       "      <th>Training Loss</th>\n",
       "      <th>Validation Loss</th>\n",
       "      <th>Exact</th>\n",
       "      <th>F1</th>\n",
       "      <th>Total</th>\n",
       "      <th>Hasans Exact</th>\n",
       "      <th>Hasans F1</th>\n",
       "      <th>Hasans Total</th>\n",
       "      <th>Noans Exact</th>\n",
       "      <th>Noans F1</th>\n",
       "      <th>Noans Total</th>\n",
       "      <th>Best Exact</th>\n",
       "      <th>Best Exact Thresh</th>\n",
       "      <th>Best F1</th>\n",
       "      <th>Best F1 Thresh</th>\n",
       "    </tr>\n",
       "  </thead>\n",
       "  <tbody>\n",
       "    <tr>\n",
       "      <td>1</td>\n",
       "      <td>1.054500</td>\n",
       "      <td>No log</td>\n",
       "      <td>54.729218</td>\n",
       "      <td>69.919415</td>\n",
       "      <td>11873</td>\n",
       "      <td>40.587045</td>\n",
       "      <td>71.011000</td>\n",
       "      <td>5928</td>\n",
       "      <td>68.830950</td>\n",
       "      <td>68.830950</td>\n",
       "      <td>5945</td>\n",
       "      <td>54.737640</td>\n",
       "      <td>0.000000</td>\n",
       "      <td>69.927837</td>\n",
       "      <td>0.000000</td>\n",
       "    </tr>\n",
       "  </tbody>\n",
       "</table><p>"
      ],
      "text/plain": [
       "<IPython.core.display.HTML object>"
      ]
     },
     "metadata": {},
     "output_type": "display_data"
    },
    {
     "data": {
      "application/vnd.jupyter.widget-view+json": {
       "model_id": "73304219a2ea4a4dbcbc0b31529dc79a",
       "version_major": 2,
       "version_minor": 0
      },
      "text/plain": [
       "  0%|          | 0/11873 [00:00<?, ?it/s]"
      ]
     },
     "metadata": {},
     "output_type": "display_data"
    },
    {
     "name": "stdout",
     "output_type": "stream",
     "text": [
      "Stopping training: eval_f1 below threshold of 70\n"
     ]
    },
    {
     "data": {
      "text/html": [
       "\n",
       "    <div>\n",
       "      \n",
       "      <progress value='748' max='748' style='width:300px; height:20px; vertical-align: middle;'></progress>\n",
       "      [748/748 01:18]\n",
       "    </div>\n",
       "    "
      ],
      "text/plain": [
       "<IPython.core.display.HTML object>"
      ]
     },
     "metadata": {},
     "output_type": "display_data"
    },
    {
     "data": {
      "application/vnd.jupyter.widget-view+json": {
       "model_id": "e0c133b40a2147018afd4d7696730d9e",
       "version_major": 2,
       "version_minor": 0
      },
      "text/plain": [
       "  0%|          | 0/11873 [00:00<?, ?it/s]"
      ]
     },
     "metadata": {},
     "output_type": "display_data"
    },
    {
     "name": "stdout",
     "output_type": "stream",
     "text": [
      "Stopping training: eval_f1 below threshold of 70\n"
     ]
    },
    {
     "name": "stderr",
     "output_type": "stream",
     "text": [
      "[I 2024-05-29 19:38:44,460] Trial 11 finished with value: 69.91941452735219 and parameters: {'no_answer_threshold': 0.5576487892869986, 'learning_rate': 3.871403243680747e-06, 'warmup_ratio': 0, 'weight_decay': 0.11502329507101522, 'adam_beta1': 0.8370960852979689, 'adam_beta2': 0.9963595529939238, 'adam_epsilon': 3.3094295925007823e-07, 'lr_scheduler_type': 'cosine_with_restarts'}. Best is trial 0 with value: 76.43264160733068.\n"
     ]
    },
    {
     "name": "stdout",
     "output_type": "stream",
     "text": [
      "Current Trial 12 parameters: {'no_answer_threshold': 0.9559953138171826, 'learning_rate': 8.52071592291926e-05, 'warmup_ratio': 0, 'weight_decay': 0.08372528979996642, 'adam_beta1': 0.8297949947455862, 'adam_beta2': 0.9930717317441947, 'adam_epsilon': 7.123021778438177e-07, 'lr_scheduler_type': 'cosine_with_restarts'}\n"
     ]
    },
    {
     "name": "stderr",
     "output_type": "stream",
     "text": [
      "Some weights of AlbertForQuestionAnswering were not initialized from the model checkpoint at albert/albert-base-v2 and are newly initialized: ['qa_outputs.bias', 'qa_outputs.weight']\n",
      "You should probably TRAIN this model on a down-stream task to be able to use it for predictions and inference.\n"
     ]
    },
    {
     "data": {
      "text/html": [
       "\n",
       "    <div>\n",
       "      \n",
       "      <progress value='3754' max='11262' style='width:300px; height:20px; vertical-align: middle;'></progress>\n",
       "      [ 3754/11262 19:42 < 39:25, 3.17 it/s, Epoch 1/3]\n",
       "    </div>\n",
       "    <table border=\"1\" class=\"dataframe\">\n",
       "  <thead>\n",
       " <tr style=\"text-align: left;\">\n",
       "      <th>Epoch</th>\n",
       "      <th>Training Loss</th>\n",
       "      <th>Validation Loss</th>\n",
       "      <th>Exact</th>\n",
       "      <th>F1</th>\n",
       "      <th>Total</th>\n",
       "      <th>Hasans Exact</th>\n",
       "      <th>Hasans F1</th>\n",
       "      <th>Hasans Total</th>\n",
       "      <th>Noans Exact</th>\n",
       "      <th>Noans F1</th>\n",
       "      <th>Noans Total</th>\n",
       "      <th>Best Exact</th>\n",
       "      <th>Best Exact Thresh</th>\n",
       "      <th>Best F1</th>\n",
       "      <th>Best F1 Thresh</th>\n",
       "    </tr>\n",
       "  </thead>\n",
       "  <tbody>\n",
       "    <tr>\n",
       "      <td>1</td>\n",
       "      <td>1.195300</td>\n",
       "      <td>No log</td>\n",
       "      <td>54.695528</td>\n",
       "      <td>68.659284</td>\n",
       "      <td>11873</td>\n",
       "      <td>37.904858</td>\n",
       "      <td>65.872415</td>\n",
       "      <td>5928</td>\n",
       "      <td>71.438183</td>\n",
       "      <td>71.438183</td>\n",
       "      <td>5945</td>\n",
       "      <td>54.737640</td>\n",
       "      <td>0.000000</td>\n",
       "      <td>68.659284</td>\n",
       "      <td>0.000000</td>\n",
       "    </tr>\n",
       "  </tbody>\n",
       "</table><p>"
      ],
      "text/plain": [
       "<IPython.core.display.HTML object>"
      ]
     },
     "metadata": {},
     "output_type": "display_data"
    },
    {
     "data": {
      "application/vnd.jupyter.widget-view+json": {
       "model_id": "b42da83acefd4721bb58ba8fd7e33d58",
       "version_major": 2,
       "version_minor": 0
      },
      "text/plain": [
       "  0%|          | 0/11873 [00:00<?, ?it/s]"
      ]
     },
     "metadata": {},
     "output_type": "display_data"
    },
    {
     "name": "stdout",
     "output_type": "stream",
     "text": [
      "Stopping training: eval_f1 below threshold of 70\n"
     ]
    },
    {
     "data": {
      "text/html": [
       "\n",
       "    <div>\n",
       "      \n",
       "      <progress value='748' max='748' style='width:300px; height:20px; vertical-align: middle;'></progress>\n",
       "      [748/748 01:18]\n",
       "    </div>\n",
       "    "
      ],
      "text/plain": [
       "<IPython.core.display.HTML object>"
      ]
     },
     "metadata": {},
     "output_type": "display_data"
    },
    {
     "data": {
      "application/vnd.jupyter.widget-view+json": {
       "model_id": "288bbe8189b248829f9c42e1563ad881",
       "version_major": 2,
       "version_minor": 0
      },
      "text/plain": [
       "  0%|          | 0/11873 [00:00<?, ?it/s]"
      ]
     },
     "metadata": {},
     "output_type": "display_data"
    },
    {
     "name": "stdout",
     "output_type": "stream",
     "text": [
      "Stopping training: eval_f1 below threshold of 70\n"
     ]
    },
    {
     "name": "stderr",
     "output_type": "stream",
     "text": [
      "[I 2024-05-29 20:00:33,375] Trial 12 finished with value: 68.65928398745287 and parameters: {'no_answer_threshold': 0.9559953138171826, 'learning_rate': 8.52071592291926e-05, 'warmup_ratio': 0, 'weight_decay': 0.08372528979996642, 'adam_beta1': 0.8297949947455862, 'adam_beta2': 0.9930717317441947, 'adam_epsilon': 7.123021778438177e-07, 'lr_scheduler_type': 'cosine_with_restarts'}. Best is trial 0 with value: 76.43264160733068.\n"
     ]
    },
    {
     "name": "stdout",
     "output_type": "stream",
     "text": [
      "Current Trial 13 parameters: {'no_answer_threshold': 0.4388289597641549, 'learning_rate': 1.4500181756069932e-06, 'warmup_ratio': 0, 'weight_decay': 0.009529365356673314, 'adam_beta1': 0.8960399233282019, 'adam_beta2': 0.9960014204577203, 'adam_epsilon': 2.87639368349001e-07, 'lr_scheduler_type': 'cosine_with_restarts'}\n"
     ]
    },
    {
     "name": "stderr",
     "output_type": "stream",
     "text": [
      "Some weights of AlbertForQuestionAnswering were not initialized from the model checkpoint at albert/albert-base-v2 and are newly initialized: ['qa_outputs.bias', 'qa_outputs.weight']\n",
      "You should probably TRAIN this model on a down-stream task to be able to use it for predictions and inference.\n"
     ]
    },
    {
     "data": {
      "text/html": [
       "\n",
       "    <div>\n",
       "      \n",
       "      <progress value='3754' max='11262' style='width:300px; height:20px; vertical-align: middle;'></progress>\n",
       "      [ 3754/11262 19:49 < 39:39, 3.16 it/s, Epoch 1/3]\n",
       "    </div>\n",
       "    <table border=\"1\" class=\"dataframe\">\n",
       "  <thead>\n",
       " <tr style=\"text-align: left;\">\n",
       "      <th>Epoch</th>\n",
       "      <th>Training Loss</th>\n",
       "      <th>Validation Loss</th>\n",
       "      <th>Exact</th>\n",
       "      <th>F1</th>\n",
       "      <th>Total</th>\n",
       "      <th>Hasans Exact</th>\n",
       "      <th>Hasans F1</th>\n",
       "      <th>Hasans Total</th>\n",
       "      <th>Noans Exact</th>\n",
       "      <th>Noans F1</th>\n",
       "      <th>Noans Total</th>\n",
       "      <th>Best Exact</th>\n",
       "      <th>Best Exact Thresh</th>\n",
       "      <th>Best F1</th>\n",
       "      <th>Best F1 Thresh</th>\n",
       "    </tr>\n",
       "  </thead>\n",
       "  <tbody>\n",
       "    <tr>\n",
       "      <td>1</td>\n",
       "      <td>1.265100</td>\n",
       "      <td>No log</td>\n",
       "      <td>51.899267</td>\n",
       "      <td>66.021467</td>\n",
       "      <td>11873</td>\n",
       "      <td>36.842105</td>\n",
       "      <td>65.127004</td>\n",
       "      <td>5928</td>\n",
       "      <td>66.913373</td>\n",
       "      <td>66.913373</td>\n",
       "      <td>5945</td>\n",
       "      <td>51.941380</td>\n",
       "      <td>0.000000</td>\n",
       "      <td>66.029890</td>\n",
       "      <td>0.000000</td>\n",
       "    </tr>\n",
       "  </tbody>\n",
       "</table><p>"
      ],
      "text/plain": [
       "<IPython.core.display.HTML object>"
      ]
     },
     "metadata": {},
     "output_type": "display_data"
    },
    {
     "data": {
      "application/vnd.jupyter.widget-view+json": {
       "model_id": "84f4a5ee0467466b8387c1e63c9ec137",
       "version_major": 2,
       "version_minor": 0
      },
      "text/plain": [
       "  0%|          | 0/11873 [00:00<?, ?it/s]"
      ]
     },
     "metadata": {},
     "output_type": "display_data"
    },
    {
     "name": "stdout",
     "output_type": "stream",
     "text": [
      "Stopping training: eval_f1 below threshold of 70\n"
     ]
    },
    {
     "data": {
      "text/html": [
       "\n",
       "    <div>\n",
       "      \n",
       "      <progress value='748' max='748' style='width:300px; height:20px; vertical-align: middle;'></progress>\n",
       "      [748/748 01:18]\n",
       "    </div>\n",
       "    "
      ],
      "text/plain": [
       "<IPython.core.display.HTML object>"
      ]
     },
     "metadata": {},
     "output_type": "display_data"
    },
    {
     "data": {
      "application/vnd.jupyter.widget-view+json": {
       "model_id": "632f977b38664673adb4fb2607f322fc",
       "version_major": 2,
       "version_minor": 0
      },
      "text/plain": [
       "  0%|          | 0/11873 [00:00<?, ?it/s]"
      ]
     },
     "metadata": {},
     "output_type": "display_data"
    },
    {
     "name": "stdout",
     "output_type": "stream",
     "text": [
      "Stopping training: eval_f1 below threshold of 70\n"
     ]
    },
    {
     "name": "stderr",
     "output_type": "stream",
     "text": [
      "[I 2024-05-29 20:22:28,644] Trial 13 finished with value: 66.02146726330373 and parameters: {'no_answer_threshold': 0.4388289597641549, 'learning_rate': 1.4500181756069932e-06, 'warmup_ratio': 0, 'weight_decay': 0.009529365356673314, 'adam_beta1': 0.8960399233282019, 'adam_beta2': 0.9960014204577203, 'adam_epsilon': 2.87639368349001e-07, 'lr_scheduler_type': 'cosine_with_restarts'}. Best is trial 0 with value: 76.43264160733068.\n"
     ]
    },
    {
     "name": "stdout",
     "output_type": "stream",
     "text": [
      "Current Trial 14 parameters: {'no_answer_threshold': 0.683959625656664, 'learning_rate': 8.108987507067462e-06, 'warmup_ratio': 0, 'weight_decay': 0.19431413458962093, 'adam_beta1': 0.851889208307674, 'adam_beta2': 0.9929713579122875, 'adam_epsilon': 6.805638893222598e-07, 'lr_scheduler_type': 'cosine'}\n"
     ]
    },
    {
     "name": "stderr",
     "output_type": "stream",
     "text": [
      "Some weights of AlbertForQuestionAnswering were not initialized from the model checkpoint at albert/albert-base-v2 and are newly initialized: ['qa_outputs.bias', 'qa_outputs.weight']\n",
      "You should probably TRAIN this model on a down-stream task to be able to use it for predictions and inference.\n"
     ]
    },
    {
     "data": {
      "text/html": [
       "\n",
       "    <div>\n",
       "      \n",
       "      <progress value='11262' max='11262' style='width:300px; height:20px; vertical-align: middle;'></progress>\n",
       "      [11262/11262 58:29, Epoch 3/3]\n",
       "    </div>\n",
       "    <table border=\"1\" class=\"dataframe\">\n",
       "  <thead>\n",
       " <tr style=\"text-align: left;\">\n",
       "      <th>Epoch</th>\n",
       "      <th>Training Loss</th>\n",
       "      <th>Validation Loss</th>\n",
       "      <th>Exact</th>\n",
       "      <th>F1</th>\n",
       "      <th>Total</th>\n",
       "      <th>Hasans Exact</th>\n",
       "      <th>Hasans F1</th>\n",
       "      <th>Hasans Total</th>\n",
       "      <th>Noans Exact</th>\n",
       "      <th>Noans F1</th>\n",
       "      <th>Noans Total</th>\n",
       "      <th>Best Exact</th>\n",
       "      <th>Best Exact Thresh</th>\n",
       "      <th>Best F1</th>\n",
       "      <th>Best F1 Thresh</th>\n",
       "    </tr>\n",
       "  </thead>\n",
       "  <tbody>\n",
       "    <tr>\n",
       "      <td>1</td>\n",
       "      <td>0.971300</td>\n",
       "      <td>No log</td>\n",
       "      <td>57.213847</td>\n",
       "      <td>72.641816</td>\n",
       "      <td>11873</td>\n",
       "      <td>41.919703</td>\n",
       "      <td>72.819886</td>\n",
       "      <td>5928</td>\n",
       "      <td>72.464256</td>\n",
       "      <td>72.464256</td>\n",
       "      <td>5945</td>\n",
       "      <td>57.222269</td>\n",
       "      <td>0.000000</td>\n",
       "      <td>72.650239</td>\n",
       "      <td>0.000000</td>\n",
       "    </tr>\n",
       "    <tr>\n",
       "      <td>2</td>\n",
       "      <td>0.769300</td>\n",
       "      <td>No log</td>\n",
       "      <td>59.066790</td>\n",
       "      <td>74.533651</td>\n",
       "      <td>11873</td>\n",
       "      <td>42.375169</td>\n",
       "      <td>73.353246</td>\n",
       "      <td>5928</td>\n",
       "      <td>75.710681</td>\n",
       "      <td>75.710681</td>\n",
       "      <td>5945</td>\n",
       "      <td>59.075213</td>\n",
       "      <td>0.000000</td>\n",
       "      <td>74.542074</td>\n",
       "      <td>0.000000</td>\n",
       "    </tr>\n",
       "    <tr>\n",
       "      <td>3</td>\n",
       "      <td>0.598100</td>\n",
       "      <td>No log</td>\n",
       "      <td>60.060642</td>\n",
       "      <td>75.473418</td>\n",
       "      <td>11873</td>\n",
       "      <td>42.088394</td>\n",
       "      <td>72.958147</td>\n",
       "      <td>5928</td>\n",
       "      <td>77.981497</td>\n",
       "      <td>77.981497</td>\n",
       "      <td>5945</td>\n",
       "      <td>60.069064</td>\n",
       "      <td>0.000000</td>\n",
       "      <td>75.481841</td>\n",
       "      <td>0.000000</td>\n",
       "    </tr>\n",
       "  </tbody>\n",
       "</table><p>"
      ],
      "text/plain": [
       "<IPython.core.display.HTML object>"
      ]
     },
     "metadata": {},
     "output_type": "display_data"
    },
    {
     "data": {
      "application/vnd.jupyter.widget-view+json": {
       "model_id": "5d5c73a4354740028a5396f0e4e69a62",
       "version_major": 2,
       "version_minor": 0
      },
      "text/plain": [
       "  0%|          | 0/11873 [00:00<?, ?it/s]"
      ]
     },
     "metadata": {},
     "output_type": "display_data"
    },
    {
     "data": {
      "application/vnd.jupyter.widget-view+json": {
       "model_id": "895ab3c54cae40be804b40191edcd0cb",
       "version_major": 2,
       "version_minor": 0
      },
      "text/plain": [
       "  0%|          | 0/11873 [00:00<?, ?it/s]"
      ]
     },
     "metadata": {},
     "output_type": "display_data"
    },
    {
     "data": {
      "application/vnd.jupyter.widget-view+json": {
       "model_id": "6b14173715ba41b48b9b3e4e96074645",
       "version_major": 2,
       "version_minor": 0
      },
      "text/plain": [
       "  0%|          | 0/11873 [00:00<?, ?it/s]"
      ]
     },
     "metadata": {},
     "output_type": "display_data"
    },
    {
     "data": {
      "text/html": [
       "\n",
       "    <div>\n",
       "      \n",
       "      <progress value='748' max='748' style='width:300px; height:20px; vertical-align: middle;'></progress>\n",
       "      [748/748 01:17]\n",
       "    </div>\n",
       "    "
      ],
      "text/plain": [
       "<IPython.core.display.HTML object>"
      ]
     },
     "metadata": {},
     "output_type": "display_data"
    },
    {
     "data": {
      "application/vnd.jupyter.widget-view+json": {
       "model_id": "d569861ee82240f78fab9f7895567d23",
       "version_major": 2,
       "version_minor": 0
      },
      "text/plain": [
       "  0%|          | 0/11873 [00:00<?, ?it/s]"
      ]
     },
     "metadata": {},
     "output_type": "display_data"
    },
    {
     "name": "stderr",
     "output_type": "stream",
     "text": [
      "[I 2024-05-29 21:22:56,626] Trial 14 finished with value: 75.47341836503689 and parameters: {'no_answer_threshold': 0.683959625656664, 'learning_rate': 8.108987507067462e-06, 'warmup_ratio': 0, 'weight_decay': 0.19431413458962093, 'adam_beta1': 0.851889208307674, 'adam_beta2': 0.9929713579122875, 'adam_epsilon': 6.805638893222598e-07, 'lr_scheduler_type': 'cosine'}. Best is trial 0 with value: 76.43264160733068.\n"
     ]
    },
    {
     "name": "stdout",
     "output_type": "stream",
     "text": [
      "Current Trial 15 parameters: {'no_answer_threshold': 0.592506057332802, 'learning_rate': 1.6807634686383858e-06, 'warmup_ratio': 0, 'weight_decay': 0.08955361802781982, 'adam_beta1': 0.8187776386711114, 'adam_beta2': 0.9974967622752323, 'adam_epsilon': 3.39494384047611e-07, 'lr_scheduler_type': 'linear'}\n"
     ]
    },
    {
     "name": "stderr",
     "output_type": "stream",
     "text": [
      "Some weights of AlbertForQuestionAnswering were not initialized from the model checkpoint at albert/albert-base-v2 and are newly initialized: ['qa_outputs.bias', 'qa_outputs.weight']\n",
      "You should probably TRAIN this model on a down-stream task to be able to use it for predictions and inference.\n"
     ]
    },
    {
     "data": {
      "text/html": [
       "\n",
       "    <div>\n",
       "      \n",
       "      <progress value='3754' max='11262' style='width:300px; height:20px; vertical-align: middle;'></progress>\n",
       "      [ 3754/11262 19:28 < 38:58, 3.21 it/s, Epoch 1/3]\n",
       "    </div>\n",
       "    <table border=\"1\" class=\"dataframe\">\n",
       "  <thead>\n",
       " <tr style=\"text-align: left;\">\n",
       "      <th>Epoch</th>\n",
       "      <th>Training Loss</th>\n",
       "      <th>Validation Loss</th>\n",
       "      <th>Exact</th>\n",
       "      <th>F1</th>\n",
       "      <th>Total</th>\n",
       "      <th>Hasans Exact</th>\n",
       "      <th>Hasans F1</th>\n",
       "      <th>Hasans Total</th>\n",
       "      <th>Noans Exact</th>\n",
       "      <th>Noans F1</th>\n",
       "      <th>Noans Total</th>\n",
       "      <th>Best Exact</th>\n",
       "      <th>Best Exact Thresh</th>\n",
       "      <th>Best F1</th>\n",
       "      <th>Best F1 Thresh</th>\n",
       "    </tr>\n",
       "  </thead>\n",
       "  <tbody>\n",
       "    <tr>\n",
       "      <td>1</td>\n",
       "      <td>1.223500</td>\n",
       "      <td>No log</td>\n",
       "      <td>52.000337</td>\n",
       "      <td>66.550513</td>\n",
       "      <td>11873</td>\n",
       "      <td>37.989204</td>\n",
       "      <td>67.131282</td>\n",
       "      <td>5928</td>\n",
       "      <td>65.971405</td>\n",
       "      <td>65.971405</td>\n",
       "      <td>5945</td>\n",
       "      <td>52.017182</td>\n",
       "      <td>0.000000</td>\n",
       "      <td>66.561743</td>\n",
       "      <td>0.000000</td>\n",
       "    </tr>\n",
       "  </tbody>\n",
       "</table><p>"
      ],
      "text/plain": [
       "<IPython.core.display.HTML object>"
      ]
     },
     "metadata": {},
     "output_type": "display_data"
    },
    {
     "data": {
      "application/vnd.jupyter.widget-view+json": {
       "model_id": "26f232c2619e494b9998e164f70ffae2",
       "version_major": 2,
       "version_minor": 0
      },
      "text/plain": [
       "  0%|          | 0/11873 [00:00<?, ?it/s]"
      ]
     },
     "metadata": {},
     "output_type": "display_data"
    },
    {
     "name": "stdout",
     "output_type": "stream",
     "text": [
      "Stopping training: eval_f1 below threshold of 70\n"
     ]
    },
    {
     "data": {
      "text/html": [
       "\n",
       "    <div>\n",
       "      \n",
       "      <progress value='748' max='748' style='width:300px; height:20px; vertical-align: middle;'></progress>\n",
       "      [748/748 01:17]\n",
       "    </div>\n",
       "    "
      ],
      "text/plain": [
       "<IPython.core.display.HTML object>"
      ]
     },
     "metadata": {},
     "output_type": "display_data"
    },
    {
     "data": {
      "application/vnd.jupyter.widget-view+json": {
       "model_id": "342b8f5bdb1040ae84917160ccffa8e5",
       "version_major": 2,
       "version_minor": 0
      },
      "text/plain": [
       "  0%|          | 0/11873 [00:00<?, ?it/s]"
      ]
     },
     "metadata": {},
     "output_type": "display_data"
    },
    {
     "name": "stdout",
     "output_type": "stream",
     "text": [
      "Stopping training: eval_f1 below threshold of 70\n"
     ]
    },
    {
     "name": "stderr",
     "output_type": "stream",
     "text": [
      "[I 2024-05-29 21:44:22,279] Trial 15 finished with value: 66.55051266656429 and parameters: {'no_answer_threshold': 0.592506057332802, 'learning_rate': 1.6807634686383858e-06, 'warmup_ratio': 0, 'weight_decay': 0.08955361802781982, 'adam_beta1': 0.8187776386711114, 'adam_beta2': 0.9974967622752323, 'adam_epsilon': 3.39494384047611e-07, 'lr_scheduler_type': 'linear'}. Best is trial 0 with value: 76.43264160733068.\n"
     ]
    },
    {
     "name": "stdout",
     "output_type": "stream",
     "text": [
      "Current Trial 16 parameters: {'no_answer_threshold': 0.4407770630915121, 'learning_rate': 7.587313480301083e-05, 'warmup_ratio': 0, 'weight_decay': 0.16272263431328032, 'adam_beta1': 0.8484693659154644, 'adam_beta2': 0.993582466643384, 'adam_epsilon': 6.11517748049015e-07, 'lr_scheduler_type': 'cosine_with_restarts'}\n"
     ]
    },
    {
     "name": "stderr",
     "output_type": "stream",
     "text": [
      "Some weights of AlbertForQuestionAnswering were not initialized from the model checkpoint at albert/albert-base-v2 and are newly initialized: ['qa_outputs.bias', 'qa_outputs.weight']\n",
      "You should probably TRAIN this model on a down-stream task to be able to use it for predictions and inference.\n"
     ]
    },
    {
     "data": {
      "text/html": [
       "\n",
       "    <div>\n",
       "      \n",
       "      <progress value='3754' max='11262' style='width:300px; height:20px; vertical-align: middle;'></progress>\n",
       "      [ 3754/11262 19:33 < 39:08, 3.20 it/s, Epoch 1/3]\n",
       "    </div>\n",
       "    <table border=\"1\" class=\"dataframe\">\n",
       "  <thead>\n",
       " <tr style=\"text-align: left;\">\n",
       "      <th>Epoch</th>\n",
       "      <th>Training Loss</th>\n",
       "      <th>Validation Loss</th>\n",
       "      <th>Exact</th>\n",
       "      <th>F1</th>\n",
       "      <th>Total</th>\n",
       "      <th>Hasans Exact</th>\n",
       "      <th>Hasans F1</th>\n",
       "      <th>Hasans Total</th>\n",
       "      <th>Noans Exact</th>\n",
       "      <th>Noans F1</th>\n",
       "      <th>Noans Total</th>\n",
       "      <th>Best Exact</th>\n",
       "      <th>Best Exact Thresh</th>\n",
       "      <th>Best F1</th>\n",
       "      <th>Best F1 Thresh</th>\n",
       "    </tr>\n",
       "  </thead>\n",
       "  <tbody>\n",
       "    <tr>\n",
       "      <td>1</td>\n",
       "      <td>1.542600</td>\n",
       "      <td>No log</td>\n",
       "      <td>49.153542</td>\n",
       "      <td>64.608243</td>\n",
       "      <td>11873</td>\n",
       "      <td>38.967611</td>\n",
       "      <td>69.921335</td>\n",
       "      <td>5928</td>\n",
       "      <td>59.310345</td>\n",
       "      <td>59.310345</td>\n",
       "      <td>5945</td>\n",
       "      <td>50.088436</td>\n",
       "      <td>0.000000</td>\n",
       "      <td>64.591398</td>\n",
       "      <td>0.000000</td>\n",
       "    </tr>\n",
       "  </tbody>\n",
       "</table><p>"
      ],
      "text/plain": [
       "<IPython.core.display.HTML object>"
      ]
     },
     "metadata": {},
     "output_type": "display_data"
    },
    {
     "data": {
      "application/vnd.jupyter.widget-view+json": {
       "model_id": "dd52d191743d4726a89b8256ff38f636",
       "version_major": 2,
       "version_minor": 0
      },
      "text/plain": [
       "  0%|          | 0/11873 [00:00<?, ?it/s]"
      ]
     },
     "metadata": {},
     "output_type": "display_data"
    },
    {
     "name": "stdout",
     "output_type": "stream",
     "text": [
      "Stopping training: eval_f1 below threshold of 70\n"
     ]
    },
    {
     "data": {
      "text/html": [
       "\n",
       "    <div>\n",
       "      \n",
       "      <progress value='748' max='748' style='width:300px; height:20px; vertical-align: middle;'></progress>\n",
       "      [748/748 01:17]\n",
       "    </div>\n",
       "    "
      ],
      "text/plain": [
       "<IPython.core.display.HTML object>"
      ]
     },
     "metadata": {},
     "output_type": "display_data"
    },
    {
     "data": {
      "application/vnd.jupyter.widget-view+json": {
       "model_id": "d7f48da51b014fbc8d5bcfe457c2d9b4",
       "version_major": 2,
       "version_minor": 0
      },
      "text/plain": [
       "  0%|          | 0/11873 [00:00<?, ?it/s]"
      ]
     },
     "metadata": {},
     "output_type": "display_data"
    },
    {
     "name": "stdout",
     "output_type": "stream",
     "text": [
      "Stopping training: eval_f1 below threshold of 70\n"
     ]
    },
    {
     "name": "stderr",
     "output_type": "stream",
     "text": [
      "[I 2024-05-29 22:05:53,783] Trial 16 finished with value: 64.6082431999676 and parameters: {'no_answer_threshold': 0.4407770630915121, 'learning_rate': 7.587313480301083e-05, 'warmup_ratio': 0, 'weight_decay': 0.16272263431328032, 'adam_beta1': 0.8484693659154644, 'adam_beta2': 0.993582466643384, 'adam_epsilon': 6.11517748049015e-07, 'lr_scheduler_type': 'cosine_with_restarts'}. Best is trial 0 with value: 76.43264160733068.\n"
     ]
    },
    {
     "name": "stdout",
     "output_type": "stream",
     "text": [
      "Current Trial 17 parameters: {'no_answer_threshold': 0.8048658710318849, 'learning_rate': 1.542202336035419e-05, 'warmup_ratio': 0, 'weight_decay': 0.04137394125460375, 'adam_beta1': 0.9149766569828316, 'adam_beta2': 0.9952555399486634, 'adam_epsilon': 8.31874992930047e-07, 'lr_scheduler_type': 'cosine_with_restarts'}\n"
     ]
    },
    {
     "name": "stderr",
     "output_type": "stream",
     "text": [
      "Some weights of AlbertForQuestionAnswering were not initialized from the model checkpoint at albert/albert-base-v2 and are newly initialized: ['qa_outputs.bias', 'qa_outputs.weight']\n",
      "You should probably TRAIN this model on a down-stream task to be able to use it for predictions and inference.\n"
     ]
    },
    {
     "data": {
      "text/html": [
       "\n",
       "    <div>\n",
       "      \n",
       "      <progress value='11262' max='11262' style='width:300px; height:20px; vertical-align: middle;'></progress>\n",
       "      [11262/11262 59:03, Epoch 3/3]\n",
       "    </div>\n",
       "    <table border=\"1\" class=\"dataframe\">\n",
       "  <thead>\n",
       " <tr style=\"text-align: left;\">\n",
       "      <th>Epoch</th>\n",
       "      <th>Training Loss</th>\n",
       "      <th>Validation Loss</th>\n",
       "      <th>Exact</th>\n",
       "      <th>F1</th>\n",
       "      <th>Total</th>\n",
       "      <th>Hasans Exact</th>\n",
       "      <th>Hasans F1</th>\n",
       "      <th>Hasans Total</th>\n",
       "      <th>Noans Exact</th>\n",
       "      <th>Noans F1</th>\n",
       "      <th>Noans Total</th>\n",
       "      <th>Best Exact</th>\n",
       "      <th>Best Exact Thresh</th>\n",
       "      <th>Best F1</th>\n",
       "      <th>Best F1 Thresh</th>\n",
       "    </tr>\n",
       "  </thead>\n",
       "  <tbody>\n",
       "    <tr>\n",
       "      <td>1</td>\n",
       "      <td>0.947800</td>\n",
       "      <td>No log</td>\n",
       "      <td>57.677082</td>\n",
       "      <td>73.201795</td>\n",
       "      <td>11873</td>\n",
       "      <td>42.375169</td>\n",
       "      <td>73.469114</td>\n",
       "      <td>5928</td>\n",
       "      <td>72.935240</td>\n",
       "      <td>72.935240</td>\n",
       "      <td>5945</td>\n",
       "      <td>57.685505</td>\n",
       "      <td>0.000000</td>\n",
       "      <td>73.210217</td>\n",
       "      <td>0.000000</td>\n",
       "    </tr>\n",
       "    <tr>\n",
       "      <td>2</td>\n",
       "      <td>0.726000</td>\n",
       "      <td>No log</td>\n",
       "      <td>59.614251</td>\n",
       "      <td>75.476857</td>\n",
       "      <td>11873</td>\n",
       "      <td>42.425776</td>\n",
       "      <td>74.196479</td>\n",
       "      <td>5928</td>\n",
       "      <td>76.753574</td>\n",
       "      <td>76.753574</td>\n",
       "      <td>5945</td>\n",
       "      <td>59.614251</td>\n",
       "      <td>0.000000</td>\n",
       "      <td>75.476857</td>\n",
       "      <td>0.000000</td>\n",
       "    </tr>\n",
       "    <tr>\n",
       "      <td>3</td>\n",
       "      <td>0.495600</td>\n",
       "      <td>No log</td>\n",
       "      <td>60.498610</td>\n",
       "      <td>76.336852</td>\n",
       "      <td>11873</td>\n",
       "      <td>41.953441</td>\n",
       "      <td>73.675345</td>\n",
       "      <td>5928</td>\n",
       "      <td>78.990749</td>\n",
       "      <td>78.990749</td>\n",
       "      <td>5945</td>\n",
       "      <td>60.498610</td>\n",
       "      <td>0.000000</td>\n",
       "      <td>76.336852</td>\n",
       "      <td>0.000000</td>\n",
       "    </tr>\n",
       "  </tbody>\n",
       "</table><p>"
      ],
      "text/plain": [
       "<IPython.core.display.HTML object>"
      ]
     },
     "metadata": {},
     "output_type": "display_data"
    },
    {
     "data": {
      "application/vnd.jupyter.widget-view+json": {
       "model_id": "25a43708539045648531904a1ca5f55f",
       "version_major": 2,
       "version_minor": 0
      },
      "text/plain": [
       "  0%|          | 0/11873 [00:00<?, ?it/s]"
      ]
     },
     "metadata": {},
     "output_type": "display_data"
    },
    {
     "data": {
      "application/vnd.jupyter.widget-view+json": {
       "model_id": "cbe391c017584685b1ddf9fca2aa9e24",
       "version_major": 2,
       "version_minor": 0
      },
      "text/plain": [
       "  0%|          | 0/11873 [00:00<?, ?it/s]"
      ]
     },
     "metadata": {},
     "output_type": "display_data"
    },
    {
     "data": {
      "application/vnd.jupyter.widget-view+json": {
       "model_id": "26f1b15bdf284efd894e747ce93b4520",
       "version_major": 2,
       "version_minor": 0
      },
      "text/plain": [
       "  0%|          | 0/11873 [00:00<?, ?it/s]"
      ]
     },
     "metadata": {},
     "output_type": "display_data"
    },
    {
     "data": {
      "text/html": [
       "\n",
       "    <div>\n",
       "      \n",
       "      <progress value='748' max='748' style='width:300px; height:20px; vertical-align: middle;'></progress>\n",
       "      [748/748 01:18]\n",
       "    </div>\n",
       "    "
      ],
      "text/plain": [
       "<IPython.core.display.HTML object>"
      ]
     },
     "metadata": {},
     "output_type": "display_data"
    },
    {
     "data": {
      "application/vnd.jupyter.widget-view+json": {
       "model_id": "67c1b78688294347915689233bcdadb4",
       "version_major": 2,
       "version_minor": 0
      },
      "text/plain": [
       "  0%|          | 0/11873 [00:00<?, ?it/s]"
      ]
     },
     "metadata": {},
     "output_type": "display_data"
    },
    {
     "name": "stderr",
     "output_type": "stream",
     "text": [
      "[I 2024-05-29 23:07:03,960] Trial 17 finished with value: 76.33685191257374 and parameters: {'no_answer_threshold': 0.8048658710318849, 'learning_rate': 1.542202336035419e-05, 'warmup_ratio': 0, 'weight_decay': 0.04137394125460375, 'adam_beta1': 0.9149766569828316, 'adam_beta2': 0.9952555399486634, 'adam_epsilon': 8.31874992930047e-07, 'lr_scheduler_type': 'cosine_with_restarts'}. Best is trial 0 with value: 76.43264160733068.\n"
     ]
    },
    {
     "name": "stdout",
     "output_type": "stream",
     "text": [
      "Current Trial 18 parameters: {'no_answer_threshold': 0.9824916703713346, 'learning_rate': 2.2047205391927842e-05, 'warmup_ratio': 0, 'weight_decay': 0.03643077471376002, 'adam_beta1': 0.9255960767517635, 'adam_beta2': 0.9951867273911389, 'adam_epsilon': 8.394687396815371e-07, 'lr_scheduler_type': 'linear'}\n"
     ]
    },
    {
     "name": "stderr",
     "output_type": "stream",
     "text": [
      "Some weights of AlbertForQuestionAnswering were not initialized from the model checkpoint at albert/albert-base-v2 and are newly initialized: ['qa_outputs.bias', 'qa_outputs.weight']\n",
      "You should probably TRAIN this model on a down-stream task to be able to use it for predictions and inference.\n"
     ]
    },
    {
     "data": {
      "text/html": [
       "\n",
       "    <div>\n",
       "      \n",
       "      <progress value='11262' max='11262' style='width:300px; height:20px; vertical-align: middle;'></progress>\n",
       "      [11262/11262 59:00, Epoch 3/3]\n",
       "    </div>\n",
       "    <table border=\"1\" class=\"dataframe\">\n",
       "  <thead>\n",
       " <tr style=\"text-align: left;\">\n",
       "      <th>Epoch</th>\n",
       "      <th>Training Loss</th>\n",
       "      <th>Validation Loss</th>\n",
       "      <th>Exact</th>\n",
       "      <th>F1</th>\n",
       "      <th>Total</th>\n",
       "      <th>Hasans Exact</th>\n",
       "      <th>Hasans F1</th>\n",
       "      <th>Hasans Total</th>\n",
       "      <th>Noans Exact</th>\n",
       "      <th>Noans F1</th>\n",
       "      <th>Noans Total</th>\n",
       "      <th>Best Exact</th>\n",
       "      <th>Best Exact Thresh</th>\n",
       "      <th>Best F1</th>\n",
       "      <th>Best F1 Thresh</th>\n",
       "    </tr>\n",
       "  </thead>\n",
       "  <tbody>\n",
       "    <tr>\n",
       "      <td>1</td>\n",
       "      <td>0.946600</td>\n",
       "      <td>No log</td>\n",
       "      <td>57.651815</td>\n",
       "      <td>73.085049</td>\n",
       "      <td>11873</td>\n",
       "      <td>42.392038</td>\n",
       "      <td>73.302765</td>\n",
       "      <td>5928</td>\n",
       "      <td>72.867956</td>\n",
       "      <td>72.867956</td>\n",
       "      <td>5945</td>\n",
       "      <td>57.660238</td>\n",
       "      <td>0.000000</td>\n",
       "      <td>73.093472</td>\n",
       "      <td>0.000000</td>\n",
       "    </tr>\n",
       "    <tr>\n",
       "      <td>2</td>\n",
       "      <td>0.697300</td>\n",
       "      <td>No log</td>\n",
       "      <td>59.774278</td>\n",
       "      <td>75.359083</td>\n",
       "      <td>11873</td>\n",
       "      <td>43.640351</td>\n",
       "      <td>74.854654</td>\n",
       "      <td>5928</td>\n",
       "      <td>75.862069</td>\n",
       "      <td>75.862069</td>\n",
       "      <td>5945</td>\n",
       "      <td>59.782700</td>\n",
       "      <td>0.000000</td>\n",
       "      <td>75.367505</td>\n",
       "      <td>0.000000</td>\n",
       "    </tr>\n",
       "    <tr>\n",
       "      <td>3</td>\n",
       "      <td>0.432200</td>\n",
       "      <td>No log</td>\n",
       "      <td>60.911311</td>\n",
       "      <td>76.466309</td>\n",
       "      <td>11873</td>\n",
       "      <td>42.813765</td>\n",
       "      <td>73.968368</td>\n",
       "      <td>5928</td>\n",
       "      <td>78.957107</td>\n",
       "      <td>78.957107</td>\n",
       "      <td>5945</td>\n",
       "      <td>60.911311</td>\n",
       "      <td>0.000000</td>\n",
       "      <td>76.466309</td>\n",
       "      <td>0.000000</td>\n",
       "    </tr>\n",
       "  </tbody>\n",
       "</table><p>"
      ],
      "text/plain": [
       "<IPython.core.display.HTML object>"
      ]
     },
     "metadata": {},
     "output_type": "display_data"
    },
    {
     "data": {
      "application/vnd.jupyter.widget-view+json": {
       "model_id": "1b866a6d1ca74923a60bccc23ea5f00b",
       "version_major": 2,
       "version_minor": 0
      },
      "text/plain": [
       "  0%|          | 0/11873 [00:00<?, ?it/s]"
      ]
     },
     "metadata": {},
     "output_type": "display_data"
    },
    {
     "data": {
      "application/vnd.jupyter.widget-view+json": {
       "model_id": "e5961656acb9450d8eebd869c72c89ca",
       "version_major": 2,
       "version_minor": 0
      },
      "text/plain": [
       "  0%|          | 0/11873 [00:00<?, ?it/s]"
      ]
     },
     "metadata": {},
     "output_type": "display_data"
    },
    {
     "data": {
      "application/vnd.jupyter.widget-view+json": {
       "model_id": "796ace39690c4a55982af761c10fdeed",
       "version_major": 2,
       "version_minor": 0
      },
      "text/plain": [
       "  0%|          | 0/11873 [00:00<?, ?it/s]"
      ]
     },
     "metadata": {},
     "output_type": "display_data"
    },
    {
     "data": {
      "text/html": [
       "\n",
       "    <div>\n",
       "      \n",
       "      <progress value='748' max='748' style='width:300px; height:20px; vertical-align: middle;'></progress>\n",
       "      [748/748 01:17]\n",
       "    </div>\n",
       "    "
      ],
      "text/plain": [
       "<IPython.core.display.HTML object>"
      ]
     },
     "metadata": {},
     "output_type": "display_data"
    },
    {
     "data": {
      "application/vnd.jupyter.widget-view+json": {
       "model_id": "5c56b20d338a450ebc8a8a4014bc09b1",
       "version_major": 2,
       "version_minor": 0
      },
      "text/plain": [
       "  0%|          | 0/11873 [00:00<?, ?it/s]"
      ]
     },
     "metadata": {},
     "output_type": "display_data"
    },
    {
     "name": "stderr",
     "output_type": "stream",
     "text": [
      "[I 2024-05-30 00:08:13,595] Trial 18 finished with value: 76.46630903840773 and parameters: {'no_answer_threshold': 0.9824916703713346, 'learning_rate': 2.2047205391927842e-05, 'warmup_ratio': 0, 'weight_decay': 0.03643077471376002, 'adam_beta1': 0.9255960767517635, 'adam_beta2': 0.9951867273911389, 'adam_epsilon': 8.394687396815371e-07, 'lr_scheduler_type': 'linear'}. Best is trial 18 with value: 76.46630903840773.\n"
     ]
    },
    {
     "name": "stdout",
     "output_type": "stream",
     "text": [
      "Current Trial 19 parameters: {'no_answer_threshold': 0.9884735562874776, 'learning_rate': 5.0424767168156316e-05, 'warmup_ratio': 0, 'weight_decay': 0.0013382096149540113, 'adam_beta1': 0.9382987559132939, 'adam_beta2': 0.9971505792949283, 'adam_epsilon': 7.996368540644254e-07, 'lr_scheduler_type': 'linear'}\n"
     ]
    },
    {
     "name": "stderr",
     "output_type": "stream",
     "text": [
      "Some weights of AlbertForQuestionAnswering were not initialized from the model checkpoint at albert/albert-base-v2 and are newly initialized: ['qa_outputs.bias', 'qa_outputs.weight']\n",
      "You should probably TRAIN this model on a down-stream task to be able to use it for predictions and inference.\n"
     ]
    },
    {
     "data": {
      "text/html": [
       "\n",
       "    <div>\n",
       "      \n",
       "      <progress value='11262' max='11262' style='width:300px; height:20px; vertical-align: middle;'></progress>\n",
       "      [11262/11262 58:50, Epoch 3/3]\n",
       "    </div>\n",
       "    <table border=\"1\" class=\"dataframe\">\n",
       "  <thead>\n",
       " <tr style=\"text-align: left;\">\n",
       "      <th>Epoch</th>\n",
       "      <th>Training Loss</th>\n",
       "      <th>Validation Loss</th>\n",
       "      <th>Exact</th>\n",
       "      <th>F1</th>\n",
       "      <th>Total</th>\n",
       "      <th>Hasans Exact</th>\n",
       "      <th>Hasans F1</th>\n",
       "      <th>Hasans Total</th>\n",
       "      <th>Noans Exact</th>\n",
       "      <th>Noans F1</th>\n",
       "      <th>Noans Total</th>\n",
       "      <th>Best Exact</th>\n",
       "      <th>Best Exact Thresh</th>\n",
       "      <th>Best F1</th>\n",
       "      <th>Best F1 Thresh</th>\n",
       "    </tr>\n",
       "  </thead>\n",
       "  <tbody>\n",
       "    <tr>\n",
       "      <td>1</td>\n",
       "      <td>1.038600</td>\n",
       "      <td>No log</td>\n",
       "      <td>54.527078</td>\n",
       "      <td>70.061243</td>\n",
       "      <td>11873</td>\n",
       "      <td>42.172740</td>\n",
       "      <td>73.285617</td>\n",
       "      <td>5928</td>\n",
       "      <td>66.846089</td>\n",
       "      <td>66.846089</td>\n",
       "      <td>5945</td>\n",
       "      <td>54.527078</td>\n",
       "      <td>0.000000</td>\n",
       "      <td>70.061243</td>\n",
       "      <td>0.000000</td>\n",
       "    </tr>\n",
       "    <tr>\n",
       "      <td>2</td>\n",
       "      <td>0.715600</td>\n",
       "      <td>No log</td>\n",
       "      <td>59.395267</td>\n",
       "      <td>74.244611</td>\n",
       "      <td>11873</td>\n",
       "      <td>40.738866</td>\n",
       "      <td>70.480138</td>\n",
       "      <td>5928</td>\n",
       "      <td>77.998318</td>\n",
       "      <td>77.998318</td>\n",
       "      <td>5945</td>\n",
       "      <td>59.395267</td>\n",
       "      <td>0.000000</td>\n",
       "      <td>74.244611</td>\n",
       "      <td>0.000000</td>\n",
       "    </tr>\n",
       "    <tr>\n",
       "      <td>3</td>\n",
       "      <td>0.408000</td>\n",
       "      <td>No log</td>\n",
       "      <td>59.201550</td>\n",
       "      <td>74.573892</td>\n",
       "      <td>11873</td>\n",
       "      <td>40.688259</td>\n",
       "      <td>71.477027</td>\n",
       "      <td>5928</td>\n",
       "      <td>77.661901</td>\n",
       "      <td>77.661901</td>\n",
       "      <td>5945</td>\n",
       "      <td>59.201550</td>\n",
       "      <td>0.000000</td>\n",
       "      <td>74.573892</td>\n",
       "      <td>0.000000</td>\n",
       "    </tr>\n",
       "  </tbody>\n",
       "</table><p>"
      ],
      "text/plain": [
       "<IPython.core.display.HTML object>"
      ]
     },
     "metadata": {},
     "output_type": "display_data"
    },
    {
     "data": {
      "application/vnd.jupyter.widget-view+json": {
       "model_id": "baf092d989764b19835ff1a724c2d508",
       "version_major": 2,
       "version_minor": 0
      },
      "text/plain": [
       "  0%|          | 0/11873 [00:00<?, ?it/s]"
      ]
     },
     "metadata": {},
     "output_type": "display_data"
    },
    {
     "data": {
      "application/vnd.jupyter.widget-view+json": {
       "model_id": "4bfe4c87537041af971bf945bf5010b9",
       "version_major": 2,
       "version_minor": 0
      },
      "text/plain": [
       "  0%|          | 0/11873 [00:00<?, ?it/s]"
      ]
     },
     "metadata": {},
     "output_type": "display_data"
    },
    {
     "data": {
      "application/vnd.jupyter.widget-view+json": {
       "model_id": "5709eee7ab7c41adad7e7b1739f0b763",
       "version_major": 2,
       "version_minor": 0
      },
      "text/plain": [
       "  0%|          | 0/11873 [00:00<?, ?it/s]"
      ]
     },
     "metadata": {},
     "output_type": "display_data"
    },
    {
     "data": {
      "text/html": [
       "\n",
       "    <div>\n",
       "      \n",
       "      <progress value='748' max='748' style='width:300px; height:20px; vertical-align: middle;'></progress>\n",
       "      [748/748 01:18]\n",
       "    </div>\n",
       "    "
      ],
      "text/plain": [
       "<IPython.core.display.HTML object>"
      ]
     },
     "metadata": {},
     "output_type": "display_data"
    },
    {
     "data": {
      "application/vnd.jupyter.widget-view+json": {
       "model_id": "bf60f37a2ae54275811b7b76fdfb1fd0",
       "version_major": 2,
       "version_minor": 0
      },
      "text/plain": [
       "  0%|          | 0/11873 [00:00<?, ?it/s]"
      ]
     },
     "metadata": {},
     "output_type": "display_data"
    },
    {
     "name": "stderr",
     "output_type": "stream",
     "text": [
      "[I 2024-05-30 01:09:16,309] Trial 19 finished with value: 74.57389172610739 and parameters: {'no_answer_threshold': 0.9884735562874776, 'learning_rate': 5.0424767168156316e-05, 'warmup_ratio': 0, 'weight_decay': 0.0013382096149540113, 'adam_beta1': 0.9382987559132939, 'adam_beta2': 0.9971505792949283, 'adam_epsilon': 7.996368540644254e-07, 'lr_scheduler_type': 'linear'}. Best is trial 18 with value: 76.46630903840773.\n"
     ]
    }
   ],
   "source": [
    "# Create a study object and optimize the objective\n",
    "study = optuna.create_study(direction='maximize')\n",
    "study.optimize(objective, n_trials=20)"
   ]
  },
  {
   "cell_type": "code",
   "execution_count": 61,
   "id": "488871e0-4ae0-4a24-8c27-d17f16d25def",
   "metadata": {
    "tags": []
   },
   "outputs": [
    {
     "name": "stdout",
     "output_type": "stream",
     "text": [
      "Current Trial 20 parameters: {'no_answer_threshold': 0.8937131900929361, 'learning_rate': 3.874992373974501e-07, 'warmup_ratio': 0, 'weight_decay': 0.1338297511410217, 'adam_beta1': 0.9254042299191786, 'adam_beta2': 0.9989126425697983, 'adam_epsilon': 9.904597797315048e-07, 'lr_scheduler_type': 'linear'}\n"
     ]
    },
    {
     "name": "stderr",
     "output_type": "stream",
     "text": [
      "Some weights of AlbertForQuestionAnswering were not initialized from the model checkpoint at albert/albert-base-v2 and are newly initialized: ['qa_outputs.bias', 'qa_outputs.weight']\n",
      "You should probably TRAIN this model on a down-stream task to be able to use it for predictions and inference.\n"
     ]
    },
    {
     "data": {
      "text/html": [
       "\n",
       "    <div>\n",
       "      \n",
       "      <progress value='3754' max='11262' style='width:300px; height:20px; vertical-align: middle;'></progress>\n",
       "      [ 3754/11262 19:37 < 39:15, 3.19 it/s, Epoch 1/3]\n",
       "    </div>\n",
       "    <table border=\"1\" class=\"dataframe\">\n",
       "  <thead>\n",
       " <tr style=\"text-align: left;\">\n",
       "      <th>Epoch</th>\n",
       "      <th>Training Loss</th>\n",
       "      <th>Validation Loss</th>\n",
       "      <th>Exact</th>\n",
       "      <th>F1</th>\n",
       "      <th>Total</th>\n",
       "      <th>Hasans Exact</th>\n",
       "      <th>Hasans F1</th>\n",
       "      <th>Hasans Total</th>\n",
       "      <th>Noans Exact</th>\n",
       "      <th>Noans F1</th>\n",
       "      <th>Noans Total</th>\n",
       "      <th>Best Exact</th>\n",
       "      <th>Best Exact Thresh</th>\n",
       "      <th>Best F1</th>\n",
       "      <th>Best F1 Thresh</th>\n",
       "    </tr>\n",
       "  </thead>\n",
       "  <tbody>\n",
       "    <tr>\n",
       "      <td>1</td>\n",
       "      <td>1.783300</td>\n",
       "      <td>No log</td>\n",
       "      <td>42.979870</td>\n",
       "      <td>54.761676</td>\n",
       "      <td>11873</td>\n",
       "      <td>29.048583</td>\n",
       "      <td>52.645981</td>\n",
       "      <td>5928</td>\n",
       "      <td>56.871320</td>\n",
       "      <td>56.871320</td>\n",
       "      <td>5945</td>\n",
       "      <td>50.088436</td>\n",
       "      <td>0.000000</td>\n",
       "      <td>54.789751</td>\n",
       "      <td>0.000000</td>\n",
       "    </tr>\n",
       "  </tbody>\n",
       "</table><p>"
      ],
      "text/plain": [
       "<IPython.core.display.HTML object>"
      ]
     },
     "metadata": {},
     "output_type": "display_data"
    },
    {
     "data": {
      "application/vnd.jupyter.widget-view+json": {
       "model_id": "270b35d54cc34446ac2138611968a91d",
       "version_major": 2,
       "version_minor": 0
      },
      "text/plain": [
       "  0%|          | 0/11873 [00:00<?, ?it/s]"
      ]
     },
     "metadata": {},
     "output_type": "display_data"
    },
    {
     "name": "stdout",
     "output_type": "stream",
     "text": [
      "Stopping training: eval_f1 below threshold of 70\n"
     ]
    },
    {
     "data": {
      "text/html": [
       "\n",
       "    <div>\n",
       "      \n",
       "      <progress value='748' max='748' style='width:300px; height:20px; vertical-align: middle;'></progress>\n",
       "      [748/748 01:17]\n",
       "    </div>\n",
       "    "
      ],
      "text/plain": [
       "<IPython.core.display.HTML object>"
      ]
     },
     "metadata": {},
     "output_type": "display_data"
    },
    {
     "data": {
      "application/vnd.jupyter.widget-view+json": {
       "model_id": "edb4914697fb48d6aad5ac387a9ba191",
       "version_major": 2,
       "version_minor": 0
      },
      "text/plain": [
       "  0%|          | 0/11873 [00:00<?, ?it/s]"
      ]
     },
     "metadata": {},
     "output_type": "display_data"
    },
    {
     "name": "stdout",
     "output_type": "stream",
     "text": [
      "Stopping training: eval_f1 below threshold of 70\n"
     ]
    },
    {
     "name": "stderr",
     "output_type": "stream",
     "text": [
      "[I 2024-05-30 01:31:00,478] Trial 20 finished with value: 54.76167582651769 and parameters: {'no_answer_threshold': 0.8937131900929361, 'learning_rate': 3.874992373974501e-07, 'warmup_ratio': 0, 'weight_decay': 0.1338297511410217, 'adam_beta1': 0.9254042299191786, 'adam_beta2': 0.9989126425697983, 'adam_epsilon': 9.904597797315048e-07, 'lr_scheduler_type': 'linear'}. Best is trial 18 with value: 76.46630903840773.\n"
     ]
    },
    {
     "name": "stdout",
     "output_type": "stream",
     "text": [
      "Current Trial 21 parameters: {'no_answer_threshold': 0.7987810132478106, 'learning_rate': 1.9756635659102834e-05, 'warmup_ratio': 0, 'weight_decay': 0.03576328215116539, 'adam_beta1': 0.9143351607516196, 'adam_beta2': 0.9952308134255718, 'adam_epsilon': 8.193118132145997e-07, 'lr_scheduler_type': 'linear'}\n"
     ]
    },
    {
     "name": "stderr",
     "output_type": "stream",
     "text": [
      "Some weights of AlbertForQuestionAnswering were not initialized from the model checkpoint at albert/albert-base-v2 and are newly initialized: ['qa_outputs.bias', 'qa_outputs.weight']\n",
      "You should probably TRAIN this model on a down-stream task to be able to use it for predictions and inference.\n"
     ]
    },
    {
     "data": {
      "text/html": [
       "\n",
       "    <div>\n",
       "      \n",
       "      <progress value='11262' max='11262' style='width:300px; height:20px; vertical-align: middle;'></progress>\n",
       "      [11262/11262 59:00, Epoch 3/3]\n",
       "    </div>\n",
       "    <table border=\"1\" class=\"dataframe\">\n",
       "  <thead>\n",
       " <tr style=\"text-align: left;\">\n",
       "      <th>Epoch</th>\n",
       "      <th>Training Loss</th>\n",
       "      <th>Validation Loss</th>\n",
       "      <th>Exact</th>\n",
       "      <th>F1</th>\n",
       "      <th>Total</th>\n",
       "      <th>Hasans Exact</th>\n",
       "      <th>Hasans F1</th>\n",
       "      <th>Hasans Total</th>\n",
       "      <th>Noans Exact</th>\n",
       "      <th>Noans F1</th>\n",
       "      <th>Noans Total</th>\n",
       "      <th>Best Exact</th>\n",
       "      <th>Best Exact Thresh</th>\n",
       "      <th>Best F1</th>\n",
       "      <th>Best F1 Thresh</th>\n",
       "    </tr>\n",
       "  </thead>\n",
       "  <tbody>\n",
       "    <tr>\n",
       "      <td>1</td>\n",
       "      <td>0.951800</td>\n",
       "      <td>No log</td>\n",
       "      <td>58.182431</td>\n",
       "      <td>73.441259</td>\n",
       "      <td>11873</td>\n",
       "      <td>42.864372</td>\n",
       "      <td>73.425787</td>\n",
       "      <td>5928</td>\n",
       "      <td>73.456686</td>\n",
       "      <td>73.456686</td>\n",
       "      <td>5945</td>\n",
       "      <td>58.190853</td>\n",
       "      <td>0.000000</td>\n",
       "      <td>73.449681</td>\n",
       "      <td>0.000000</td>\n",
       "    </tr>\n",
       "    <tr>\n",
       "      <td>2</td>\n",
       "      <td>0.703800</td>\n",
       "      <td>No log</td>\n",
       "      <td>60.599680</td>\n",
       "      <td>75.880053</td>\n",
       "      <td>11873</td>\n",
       "      <td>42.948718</td>\n",
       "      <td>73.553284</td>\n",
       "      <td>5928</td>\n",
       "      <td>78.200168</td>\n",
       "      <td>78.200168</td>\n",
       "      <td>5945</td>\n",
       "      <td>60.599680</td>\n",
       "      <td>0.000000</td>\n",
       "      <td>75.880053</td>\n",
       "      <td>0.000000</td>\n",
       "    </tr>\n",
       "    <tr>\n",
       "      <td>3</td>\n",
       "      <td>0.445700</td>\n",
       "      <td>No log</td>\n",
       "      <td>61.163986</td>\n",
       "      <td>76.513300</td>\n",
       "      <td>11873</td>\n",
       "      <td>42.914980</td>\n",
       "      <td>73.657627</td>\n",
       "      <td>5928</td>\n",
       "      <td>79.360807</td>\n",
       "      <td>79.360807</td>\n",
       "      <td>5945</td>\n",
       "      <td>61.172408</td>\n",
       "      <td>0.000000</td>\n",
       "      <td>76.521722</td>\n",
       "      <td>0.000000</td>\n",
       "    </tr>\n",
       "  </tbody>\n",
       "</table><p>"
      ],
      "text/plain": [
       "<IPython.core.display.HTML object>"
      ]
     },
     "metadata": {},
     "output_type": "display_data"
    },
    {
     "data": {
      "application/vnd.jupyter.widget-view+json": {
       "model_id": "1df6dbd9d93d4439a0053fd8f2e10cbe",
       "version_major": 2,
       "version_minor": 0
      },
      "text/plain": [
       "  0%|          | 0/11873 [00:00<?, ?it/s]"
      ]
     },
     "metadata": {},
     "output_type": "display_data"
    },
    {
     "data": {
      "application/vnd.jupyter.widget-view+json": {
       "model_id": "4a21cca5ce364a5492acc99f69b69adb",
       "version_major": 2,
       "version_minor": 0
      },
      "text/plain": [
       "  0%|          | 0/11873 [00:00<?, ?it/s]"
      ]
     },
     "metadata": {},
     "output_type": "display_data"
    },
    {
     "data": {
      "application/vnd.jupyter.widget-view+json": {
       "model_id": "92092c94fdc24f05a6f3fccf27c295bf",
       "version_major": 2,
       "version_minor": 0
      },
      "text/plain": [
       "  0%|          | 0/11873 [00:00<?, ?it/s]"
      ]
     },
     "metadata": {},
     "output_type": "display_data"
    },
    {
     "data": {
      "text/html": [
       "\n",
       "    <div>\n",
       "      \n",
       "      <progress value='748' max='748' style='width:300px; height:20px; vertical-align: middle;'></progress>\n",
       "      [748/748 01:18]\n",
       "    </div>\n",
       "    "
      ],
      "text/plain": [
       "<IPython.core.display.HTML object>"
      ]
     },
     "metadata": {},
     "output_type": "display_data"
    },
    {
     "data": {
      "application/vnd.jupyter.widget-view+json": {
       "model_id": "46514232f7c1405bba09497a4bb18f05",
       "version_major": 2,
       "version_minor": 0
      },
      "text/plain": [
       "  0%|          | 0/11873 [00:00<?, ?it/s]"
      ]
     },
     "metadata": {},
     "output_type": "display_data"
    },
    {
     "name": "stderr",
     "output_type": "stream",
     "text": [
      "[I 2024-05-30 02:32:11,554] Trial 21 finished with value: 76.5132999832975 and parameters: {'no_answer_threshold': 0.7987810132478106, 'learning_rate': 1.9756635659102834e-05, 'warmup_ratio': 0, 'weight_decay': 0.03576328215116539, 'adam_beta1': 0.9143351607516196, 'adam_beta2': 0.9952308134255718, 'adam_epsilon': 8.193118132145997e-07, 'lr_scheduler_type': 'linear'}. Best is trial 21 with value: 76.5132999832975.\n"
     ]
    },
    {
     "name": "stdout",
     "output_type": "stream",
     "text": [
      "Current Trial 22 parameters: {'no_answer_threshold': 0.7401240103187291, 'learning_rate': 2.2692485936984383e-05, 'warmup_ratio': 0, 'weight_decay': 0.040109132632766484, 'adam_beta1': 0.9240299761085301, 'adam_beta2': 0.9951027884724138, 'adam_epsilon': 8.096164582833497e-07, 'lr_scheduler_type': 'linear'}\n"
     ]
    },
    {
     "name": "stderr",
     "output_type": "stream",
     "text": [
      "Some weights of AlbertForQuestionAnswering were not initialized from the model checkpoint at albert/albert-base-v2 and are newly initialized: ['qa_outputs.bias', 'qa_outputs.weight']\n",
      "You should probably TRAIN this model on a down-stream task to be able to use it for predictions and inference.\n"
     ]
    },
    {
     "data": {
      "text/html": [
       "\n",
       "    <div>\n",
       "      \n",
       "      <progress value='11262' max='11262' style='width:300px; height:20px; vertical-align: middle;'></progress>\n",
       "      [11262/11262 58:54, Epoch 3/3]\n",
       "    </div>\n",
       "    <table border=\"1\" class=\"dataframe\">\n",
       "  <thead>\n",
       " <tr style=\"text-align: left;\">\n",
       "      <th>Epoch</th>\n",
       "      <th>Training Loss</th>\n",
       "      <th>Validation Loss</th>\n",
       "      <th>Exact</th>\n",
       "      <th>F1</th>\n",
       "      <th>Total</th>\n",
       "      <th>Hasans Exact</th>\n",
       "      <th>Hasans F1</th>\n",
       "      <th>Hasans Total</th>\n",
       "      <th>Noans Exact</th>\n",
       "      <th>Noans F1</th>\n",
       "      <th>Noans Total</th>\n",
       "      <th>Best Exact</th>\n",
       "      <th>Best Exact Thresh</th>\n",
       "      <th>Best F1</th>\n",
       "      <th>Best F1 Thresh</th>\n",
       "    </tr>\n",
       "  </thead>\n",
       "  <tbody>\n",
       "    <tr>\n",
       "      <td>1</td>\n",
       "      <td>0.957100</td>\n",
       "      <td>No log</td>\n",
       "      <td>59.706898</td>\n",
       "      <td>74.656587</td>\n",
       "      <td>11873</td>\n",
       "      <td>41.784750</td>\n",
       "      <td>71.727000</td>\n",
       "      <td>5928</td>\n",
       "      <td>77.577796</td>\n",
       "      <td>77.577796</td>\n",
       "      <td>5945</td>\n",
       "      <td>59.706898</td>\n",
       "      <td>0.000000</td>\n",
       "      <td>74.656587</td>\n",
       "      <td>0.000000</td>\n",
       "    </tr>\n",
       "    <tr>\n",
       "      <td>2</td>\n",
       "      <td>0.691200</td>\n",
       "      <td>No log</td>\n",
       "      <td>59.681631</td>\n",
       "      <td>75.245891</td>\n",
       "      <td>11873</td>\n",
       "      <td>43.134278</td>\n",
       "      <td>74.307433</td>\n",
       "      <td>5928</td>\n",
       "      <td>76.181665</td>\n",
       "      <td>76.181665</td>\n",
       "      <td>5945</td>\n",
       "      <td>59.681631</td>\n",
       "      <td>0.000000</td>\n",
       "      <td>75.245891</td>\n",
       "      <td>0.000000</td>\n",
       "    </tr>\n",
       "    <tr>\n",
       "      <td>3</td>\n",
       "      <td>0.420100</td>\n",
       "      <td>No log</td>\n",
       "      <td>61.172408</td>\n",
       "      <td>76.457337</td>\n",
       "      <td>11873</td>\n",
       "      <td>42.290823</td>\n",
       "      <td>72.904514</td>\n",
       "      <td>5928</td>\n",
       "      <td>80.000000</td>\n",
       "      <td>80.000000</td>\n",
       "      <td>5945</td>\n",
       "      <td>61.172408</td>\n",
       "      <td>0.000000</td>\n",
       "      <td>76.457337</td>\n",
       "      <td>0.000000</td>\n",
       "    </tr>\n",
       "  </tbody>\n",
       "</table><p>"
      ],
      "text/plain": [
       "<IPython.core.display.HTML object>"
      ]
     },
     "metadata": {},
     "output_type": "display_data"
    },
    {
     "data": {
      "application/vnd.jupyter.widget-view+json": {
       "model_id": "af446a6e41a34172984e45fbbb1f4a6b",
       "version_major": 2,
       "version_minor": 0
      },
      "text/plain": [
       "  0%|          | 0/11873 [00:00<?, ?it/s]"
      ]
     },
     "metadata": {},
     "output_type": "display_data"
    },
    {
     "data": {
      "application/vnd.jupyter.widget-view+json": {
       "model_id": "3c1eb74a40cb45f0a84fef073929c6b8",
       "version_major": 2,
       "version_minor": 0
      },
      "text/plain": [
       "  0%|          | 0/11873 [00:00<?, ?it/s]"
      ]
     },
     "metadata": {},
     "output_type": "display_data"
    },
    {
     "data": {
      "application/vnd.jupyter.widget-view+json": {
       "model_id": "20276156ebf44bdc85e9a9b7fbaea91b",
       "version_major": 2,
       "version_minor": 0
      },
      "text/plain": [
       "  0%|          | 0/11873 [00:00<?, ?it/s]"
      ]
     },
     "metadata": {},
     "output_type": "display_data"
    },
    {
     "data": {
      "text/html": [
       "\n",
       "    <div>\n",
       "      \n",
       "      <progress value='748' max='748' style='width:300px; height:20px; vertical-align: middle;'></progress>\n",
       "      [748/748 01:18]\n",
       "    </div>\n",
       "    "
      ],
      "text/plain": [
       "<IPython.core.display.HTML object>"
      ]
     },
     "metadata": {},
     "output_type": "display_data"
    },
    {
     "data": {
      "application/vnd.jupyter.widget-view+json": {
       "model_id": "eab2639538ab47628df96a42a68bc1c3",
       "version_major": 2,
       "version_minor": 0
      },
      "text/plain": [
       "  0%|          | 0/11873 [00:00<?, ?it/s]"
      ]
     },
     "metadata": {},
     "output_type": "display_data"
    },
    {
     "name": "stderr",
     "output_type": "stream",
     "text": [
      "[I 2024-05-30 03:33:16,257] Trial 22 finished with value: 76.45733673399035 and parameters: {'no_answer_threshold': 0.7401240103187291, 'learning_rate': 2.2692485936984383e-05, 'warmup_ratio': 0, 'weight_decay': 0.040109132632766484, 'adam_beta1': 0.9240299761085301, 'adam_beta2': 0.9951027884724138, 'adam_epsilon': 8.096164582833497e-07, 'lr_scheduler_type': 'linear'}. Best is trial 21 with value: 76.5132999832975.\n"
     ]
    },
    {
     "name": "stdout",
     "output_type": "stream",
     "text": [
      "Current Trial 23 parameters: {'no_answer_threshold': 0.7276624681207122, 'learning_rate': 6.274925500359123e-06, 'warmup_ratio': 0, 'weight_decay': 0.03627013208081438, 'adam_beta1': 0.9222416667265789, 'adam_beta2': 0.9949193076142543, 'adam_epsilon': 7.899883857101074e-07, 'lr_scheduler_type': 'linear'}\n"
     ]
    },
    {
     "name": "stderr",
     "output_type": "stream",
     "text": [
      "Some weights of AlbertForQuestionAnswering were not initialized from the model checkpoint at albert/albert-base-v2 and are newly initialized: ['qa_outputs.bias', 'qa_outputs.weight']\n",
      "You should probably TRAIN this model on a down-stream task to be able to use it for predictions and inference.\n"
     ]
    },
    {
     "data": {
      "text/html": [
       "\n",
       "    <div>\n",
       "      \n",
       "      <progress value='11262' max='11262' style='width:300px; height:20px; vertical-align: middle;'></progress>\n",
       "      [11262/11262 58:48, Epoch 3/3]\n",
       "    </div>\n",
       "    <table border=\"1\" class=\"dataframe\">\n",
       "  <thead>\n",
       " <tr style=\"text-align: left;\">\n",
       "      <th>Epoch</th>\n",
       "      <th>Training Loss</th>\n",
       "      <th>Validation Loss</th>\n",
       "      <th>Exact</th>\n",
       "      <th>F1</th>\n",
       "      <th>Total</th>\n",
       "      <th>Hasans Exact</th>\n",
       "      <th>Hasans F1</th>\n",
       "      <th>Hasans Total</th>\n",
       "      <th>Noans Exact</th>\n",
       "      <th>Noans F1</th>\n",
       "      <th>Noans Total</th>\n",
       "      <th>Best Exact</th>\n",
       "      <th>Best Exact Thresh</th>\n",
       "      <th>Best F1</th>\n",
       "      <th>Best F1 Thresh</th>\n",
       "    </tr>\n",
       "  </thead>\n",
       "  <tbody>\n",
       "    <tr>\n",
       "      <td>1</td>\n",
       "      <td>1.002200</td>\n",
       "      <td>No log</td>\n",
       "      <td>56.321065</td>\n",
       "      <td>72.018529</td>\n",
       "      <td>11873</td>\n",
       "      <td>42.408907</td>\n",
       "      <td>73.848852</td>\n",
       "      <td>5928</td>\n",
       "      <td>70.193440</td>\n",
       "      <td>70.193440</td>\n",
       "      <td>5945</td>\n",
       "      <td>56.329487</td>\n",
       "      <td>0.000000</td>\n",
       "      <td>72.026951</td>\n",
       "      <td>0.000000</td>\n",
       "    </tr>\n",
       "    <tr>\n",
       "      <td>2</td>\n",
       "      <td>0.822700</td>\n",
       "      <td>No log</td>\n",
       "      <td>57.997136</td>\n",
       "      <td>73.658586</td>\n",
       "      <td>11873</td>\n",
       "      <td>42.661943</td>\n",
       "      <td>74.029756</td>\n",
       "      <td>5928</td>\n",
       "      <td>73.288478</td>\n",
       "      <td>73.288478</td>\n",
       "      <td>5945</td>\n",
       "      <td>58.005559</td>\n",
       "      <td>0.000000</td>\n",
       "      <td>73.667009</td>\n",
       "      <td>0.000000</td>\n",
       "    </tr>\n",
       "    <tr>\n",
       "      <td>3</td>\n",
       "      <td>0.670600</td>\n",
       "      <td>No log</td>\n",
       "      <td>59.757433</td>\n",
       "      <td>75.067272</td>\n",
       "      <td>11873</td>\n",
       "      <td>41.936572</td>\n",
       "      <td>72.600154</td>\n",
       "      <td>5928</td>\n",
       "      <td>77.527334</td>\n",
       "      <td>77.527334</td>\n",
       "      <td>5945</td>\n",
       "      <td>59.765855</td>\n",
       "      <td>0.000000</td>\n",
       "      <td>75.075694</td>\n",
       "      <td>0.000000</td>\n",
       "    </tr>\n",
       "  </tbody>\n",
       "</table><p>"
      ],
      "text/plain": [
       "<IPython.core.display.HTML object>"
      ]
     },
     "metadata": {},
     "output_type": "display_data"
    },
    {
     "data": {
      "application/vnd.jupyter.widget-view+json": {
       "model_id": "41406d0fb064484b9a6bba4c6e23d19f",
       "version_major": 2,
       "version_minor": 0
      },
      "text/plain": [
       "  0%|          | 0/11873 [00:00<?, ?it/s]"
      ]
     },
     "metadata": {},
     "output_type": "display_data"
    },
    {
     "data": {
      "application/vnd.jupyter.widget-view+json": {
       "model_id": "fbe636b0ea0c440a874db05f3131cea9",
       "version_major": 2,
       "version_minor": 0
      },
      "text/plain": [
       "  0%|          | 0/11873 [00:00<?, ?it/s]"
      ]
     },
     "metadata": {},
     "output_type": "display_data"
    },
    {
     "data": {
      "application/vnd.jupyter.widget-view+json": {
       "model_id": "d7cd872e116c441fb860030503970843",
       "version_major": 2,
       "version_minor": 0
      },
      "text/plain": [
       "  0%|          | 0/11873 [00:00<?, ?it/s]"
      ]
     },
     "metadata": {},
     "output_type": "display_data"
    },
    {
     "data": {
      "text/html": [
       "\n",
       "    <div>\n",
       "      \n",
       "      <progress value='748' max='748' style='width:300px; height:20px; vertical-align: middle;'></progress>\n",
       "      [748/748 01:18]\n",
       "    </div>\n",
       "    "
      ],
      "text/plain": [
       "<IPython.core.display.HTML object>"
      ]
     },
     "metadata": {},
     "output_type": "display_data"
    },
    {
     "data": {
      "application/vnd.jupyter.widget-view+json": {
       "model_id": "1aeac5264d924eca83c1a658cc24db4d",
       "version_major": 2,
       "version_minor": 0
      },
      "text/plain": [
       "  0%|          | 0/11873 [00:00<?, ?it/s]"
      ]
     },
     "metadata": {},
     "output_type": "display_data"
    },
    {
     "name": "stderr",
     "output_type": "stream",
     "text": [
      "[I 2024-05-30 04:34:05,181] Trial 23 finished with value: 75.06727152774342 and parameters: {'no_answer_threshold': 0.7276624681207122, 'learning_rate': 6.274925500359123e-06, 'warmup_ratio': 0, 'weight_decay': 0.03627013208081438, 'adam_beta1': 0.9222416667265789, 'adam_beta2': 0.9949193076142543, 'adam_epsilon': 7.899883857101074e-07, 'lr_scheduler_type': 'linear'}. Best is trial 21 with value: 76.5132999832975.\n"
     ]
    },
    {
     "name": "stdout",
     "output_type": "stream",
     "text": [
      "Current Trial 24 parameters: {'no_answer_threshold': 0.8922438179340497, 'learning_rate': 1.9838705254637475e-05, 'warmup_ratio': 0, 'weight_decay': 0.019810466331256014, 'adam_beta1': 0.9464235252937262, 'adam_beta2': 0.9939758687341144, 'adam_epsilon': 9.829384418810097e-07, 'lr_scheduler_type': 'linear'}\n"
     ]
    },
    {
     "name": "stderr",
     "output_type": "stream",
     "text": [
      "Some weights of AlbertForQuestionAnswering were not initialized from the model checkpoint at albert/albert-base-v2 and are newly initialized: ['qa_outputs.bias', 'qa_outputs.weight']\n",
      "You should probably TRAIN this model on a down-stream task to be able to use it for predictions and inference.\n"
     ]
    },
    {
     "data": {
      "text/html": [
       "\n",
       "    <div>\n",
       "      \n",
       "      <progress value='11262' max='11262' style='width:300px; height:20px; vertical-align: middle;'></progress>\n",
       "      [11262/11262 59:01, Epoch 3/3]\n",
       "    </div>\n",
       "    <table border=\"1\" class=\"dataframe\">\n",
       "  <thead>\n",
       " <tr style=\"text-align: left;\">\n",
       "      <th>Epoch</th>\n",
       "      <th>Training Loss</th>\n",
       "      <th>Validation Loss</th>\n",
       "      <th>Exact</th>\n",
       "      <th>F1</th>\n",
       "      <th>Total</th>\n",
       "      <th>Hasans Exact</th>\n",
       "      <th>Hasans F1</th>\n",
       "      <th>Hasans Total</th>\n",
       "      <th>Noans Exact</th>\n",
       "      <th>Noans F1</th>\n",
       "      <th>Noans Total</th>\n",
       "      <th>Best Exact</th>\n",
       "      <th>Best Exact Thresh</th>\n",
       "      <th>Best F1</th>\n",
       "      <th>Best F1 Thresh</th>\n",
       "    </tr>\n",
       "  </thead>\n",
       "  <tbody>\n",
       "    <tr>\n",
       "      <td>1</td>\n",
       "      <td>0.955900</td>\n",
       "      <td>No log</td>\n",
       "      <td>58.148741</td>\n",
       "      <td>73.447207</td>\n",
       "      <td>11873</td>\n",
       "      <td>42.678812</td>\n",
       "      <td>73.319617</td>\n",
       "      <td>5928</td>\n",
       "      <td>73.574432</td>\n",
       "      <td>73.574432</td>\n",
       "      <td>5945</td>\n",
       "      <td>58.157163</td>\n",
       "      <td>0.000000</td>\n",
       "      <td>73.455630</td>\n",
       "      <td>0.000000</td>\n",
       "    </tr>\n",
       "    <tr>\n",
       "      <td>2</td>\n",
       "      <td>0.703000</td>\n",
       "      <td>No log</td>\n",
       "      <td>59.824813</td>\n",
       "      <td>75.317645</td>\n",
       "      <td>11873</td>\n",
       "      <td>43.033063</td>\n",
       "      <td>74.063158</td>\n",
       "      <td>5928</td>\n",
       "      <td>76.568545</td>\n",
       "      <td>76.568545</td>\n",
       "      <td>5945</td>\n",
       "      <td>59.824813</td>\n",
       "      <td>0.000000</td>\n",
       "      <td>75.317645</td>\n",
       "      <td>0.000000</td>\n",
       "    </tr>\n",
       "    <tr>\n",
       "      <td>3</td>\n",
       "      <td>0.450400</td>\n",
       "      <td>No log</td>\n",
       "      <td>60.675482</td>\n",
       "      <td>76.137296</td>\n",
       "      <td>11873</td>\n",
       "      <td>41.852227</td>\n",
       "      <td>72.820196</td>\n",
       "      <td>5928</td>\n",
       "      <td>79.444912</td>\n",
       "      <td>79.444912</td>\n",
       "      <td>5945</td>\n",
       "      <td>60.683905</td>\n",
       "      <td>0.000000</td>\n",
       "      <td>76.145719</td>\n",
       "      <td>0.000000</td>\n",
       "    </tr>\n",
       "  </tbody>\n",
       "</table><p>"
      ],
      "text/plain": [
       "<IPython.core.display.HTML object>"
      ]
     },
     "metadata": {},
     "output_type": "display_data"
    },
    {
     "data": {
      "application/vnd.jupyter.widget-view+json": {
       "model_id": "64612a68d79e4f9c922d2a332d477b50",
       "version_major": 2,
       "version_minor": 0
      },
      "text/plain": [
       "  0%|          | 0/11873 [00:00<?, ?it/s]"
      ]
     },
     "metadata": {},
     "output_type": "display_data"
    },
    {
     "data": {
      "application/vnd.jupyter.widget-view+json": {
       "model_id": "337b90c714ad4d588f95f07173fd9d57",
       "version_major": 2,
       "version_minor": 0
      },
      "text/plain": [
       "  0%|          | 0/11873 [00:00<?, ?it/s]"
      ]
     },
     "metadata": {},
     "output_type": "display_data"
    },
    {
     "data": {
      "application/vnd.jupyter.widget-view+json": {
       "model_id": "ba62caca90af4fb1807d316ca112a7e6",
       "version_major": 2,
       "version_minor": 0
      },
      "text/plain": [
       "  0%|          | 0/11873 [00:00<?, ?it/s]"
      ]
     },
     "metadata": {},
     "output_type": "display_data"
    },
    {
     "data": {
      "text/html": [
       "\n",
       "    <div>\n",
       "      \n",
       "      <progress value='748' max='748' style='width:300px; height:20px; vertical-align: middle;'></progress>\n",
       "      [748/748 01:18]\n",
       "    </div>\n",
       "    "
      ],
      "text/plain": [
       "<IPython.core.display.HTML object>"
      ]
     },
     "metadata": {},
     "output_type": "display_data"
    },
    {
     "data": {
      "application/vnd.jupyter.widget-view+json": {
       "model_id": "d6d6fc9630e84ba8bf4a7767b163c6e4",
       "version_major": 2,
       "version_minor": 0
      },
      "text/plain": [
       "  0%|          | 0/11873 [00:00<?, ?it/s]"
      ]
     },
     "metadata": {},
     "output_type": "display_data"
    },
    {
     "name": "stderr",
     "output_type": "stream",
     "text": [
      "[I 2024-05-30 05:35:15,602] Trial 24 finished with value: 76.1372963156265 and parameters: {'no_answer_threshold': 0.8922438179340497, 'learning_rate': 1.9838705254637475e-05, 'warmup_ratio': 0, 'weight_decay': 0.019810466331256014, 'adam_beta1': 0.9464235252937262, 'adam_beta2': 0.9939758687341144, 'adam_epsilon': 9.829384418810097e-07, 'lr_scheduler_type': 'linear'}. Best is trial 21 with value: 76.5132999832975.\n"
     ]
    }
   ],
   "source": [
    "study.optimize(objective, n_trials=5)"
   ]
  },
  {
   "cell_type": "code",
   "execution_count": 62,
   "id": "6463f049-c198-4a9a-bddf-e815dd4419b3",
   "metadata": {
    "tags": []
   },
   "outputs": [
    {
     "name": "stdout",
     "output_type": "stream",
     "text": [
      "Current Trial 25 parameters: {'no_answer_threshold': 0.804651093038631, 'learning_rate': 2.4996036006199647e-06, 'warmup_ratio': 0, 'weight_decay': 0.04629152546222032, 'adam_beta1': 0.9024838891437739, 'adam_beta2': 0.9966130033985612, 'adam_epsilon': 8.697892305097713e-07, 'lr_scheduler_type': 'linear'}\n"
     ]
    },
    {
     "name": "stderr",
     "output_type": "stream",
     "text": [
      "Some weights of AlbertForQuestionAnswering were not initialized from the model checkpoint at albert/albert-base-v2 and are newly initialized: ['qa_outputs.bias', 'qa_outputs.weight']\n",
      "You should probably TRAIN this model on a down-stream task to be able to use it for predictions and inference.\n"
     ]
    },
    {
     "data": {
      "text/html": [
       "\n",
       "    <div>\n",
       "      \n",
       "      <progress value='3754' max='11262' style='width:300px; height:20px; vertical-align: middle;'></progress>\n",
       "      [ 3754/11262 19:41 < 39:23, 3.18 it/s, Epoch 1/3]\n",
       "    </div>\n",
       "    <table border=\"1\" class=\"dataframe\">\n",
       "  <thead>\n",
       " <tr style=\"text-align: left;\">\n",
       "      <th>Epoch</th>\n",
       "      <th>Training Loss</th>\n",
       "      <th>Validation Loss</th>\n",
       "      <th>Exact</th>\n",
       "      <th>F1</th>\n",
       "      <th>Total</th>\n",
       "      <th>Hasans Exact</th>\n",
       "      <th>Hasans F1</th>\n",
       "      <th>Hasans Total</th>\n",
       "      <th>Noans Exact</th>\n",
       "      <th>Noans F1</th>\n",
       "      <th>Noans Total</th>\n",
       "      <th>Best Exact</th>\n",
       "      <th>Best Exact Thresh</th>\n",
       "      <th>Best F1</th>\n",
       "      <th>Best F1 Thresh</th>\n",
       "    </tr>\n",
       "  </thead>\n",
       "  <tbody>\n",
       "    <tr>\n",
       "      <td>1</td>\n",
       "      <td>1.142600</td>\n",
       "      <td>No log</td>\n",
       "      <td>52.522530</td>\n",
       "      <td>67.618941</td>\n",
       "      <td>11873</td>\n",
       "      <td>39.608637</td>\n",
       "      <td>69.844751</td>\n",
       "      <td>5928</td>\n",
       "      <td>65.399495</td>\n",
       "      <td>65.399495</td>\n",
       "      <td>5945</td>\n",
       "      <td>52.530953</td>\n",
       "      <td>0.000000</td>\n",
       "      <td>67.627363</td>\n",
       "      <td>0.000000</td>\n",
       "    </tr>\n",
       "  </tbody>\n",
       "</table><p>"
      ],
      "text/plain": [
       "<IPython.core.display.HTML object>"
      ]
     },
     "metadata": {},
     "output_type": "display_data"
    },
    {
     "data": {
      "application/vnd.jupyter.widget-view+json": {
       "model_id": "330add67b73b48e1873639b92f615ad8",
       "version_major": 2,
       "version_minor": 0
      },
      "text/plain": [
       "  0%|          | 0/11873 [00:00<?, ?it/s]"
      ]
     },
     "metadata": {},
     "output_type": "display_data"
    },
    {
     "name": "stdout",
     "output_type": "stream",
     "text": [
      "Stopping training: eval_f1 below threshold of 70\n"
     ]
    },
    {
     "data": {
      "text/html": [
       "\n",
       "    <div>\n",
       "      \n",
       "      <progress value='748' max='748' style='width:300px; height:20px; vertical-align: middle;'></progress>\n",
       "      [748/748 01:18]\n",
       "    </div>\n",
       "    "
      ],
      "text/plain": [
       "<IPython.core.display.HTML object>"
      ]
     },
     "metadata": {},
     "output_type": "display_data"
    },
    {
     "data": {
      "application/vnd.jupyter.widget-view+json": {
       "model_id": "f6575499417e4ec0a85ad7629b52b258",
       "version_major": 2,
       "version_minor": 0
      },
      "text/plain": [
       "  0%|          | 0/11873 [00:00<?, ?it/s]"
      ]
     },
     "metadata": {},
     "output_type": "display_data"
    },
    {
     "name": "stdout",
     "output_type": "stream",
     "text": [
      "Stopping training: eval_f1 below threshold of 70\n"
     ]
    },
    {
     "name": "stderr",
     "output_type": "stream",
     "text": [
      "[I 2024-05-30 05:57:13,671] Trial 25 finished with value: 67.61894059689091 and parameters: {'no_answer_threshold': 0.804651093038631, 'learning_rate': 2.4996036006199647e-06, 'warmup_ratio': 0, 'weight_decay': 0.04629152546222032, 'adam_beta1': 0.9024838891437739, 'adam_beta2': 0.9966130033985612, 'adam_epsilon': 8.697892305097713e-07, 'lr_scheduler_type': 'linear'}. Best is trial 21 with value: 76.5132999832975.\n"
     ]
    },
    {
     "name": "stdout",
     "output_type": "stream",
     "text": [
      "Current Trial 26 parameters: {'no_answer_threshold': 0.9187403465194353, 'learning_rate': 8.213017058099588e-06, 'warmup_ratio': 0, 'weight_decay': 0.09779432031350463, 'adam_beta1': 0.9289995872876792, 'adam_beta2': 0.9954507629032964, 'adam_epsilon': 7.508666117550386e-07, 'lr_scheduler_type': 'linear'}\n"
     ]
    },
    {
     "name": "stderr",
     "output_type": "stream",
     "text": [
      "Some weights of AlbertForQuestionAnswering were not initialized from the model checkpoint at albert/albert-base-v2 and are newly initialized: ['qa_outputs.bias', 'qa_outputs.weight']\n",
      "You should probably TRAIN this model on a down-stream task to be able to use it for predictions and inference.\n"
     ]
    },
    {
     "data": {
      "text/html": [
       "\n",
       "    <div>\n",
       "      \n",
       "      <progress value='11262' max='11262' style='width:300px; height:20px; vertical-align: middle;'></progress>\n",
       "      [11262/11262 59:00, Epoch 3/3]\n",
       "    </div>\n",
       "    <table border=\"1\" class=\"dataframe\">\n",
       "  <thead>\n",
       " <tr style=\"text-align: left;\">\n",
       "      <th>Epoch</th>\n",
       "      <th>Training Loss</th>\n",
       "      <th>Validation Loss</th>\n",
       "      <th>Exact</th>\n",
       "      <th>F1</th>\n",
       "      <th>Total</th>\n",
       "      <th>Hasans Exact</th>\n",
       "      <th>Hasans F1</th>\n",
       "      <th>Hasans Total</th>\n",
       "      <th>Noans Exact</th>\n",
       "      <th>Noans F1</th>\n",
       "      <th>Noans Total</th>\n",
       "      <th>Best Exact</th>\n",
       "      <th>Best Exact Thresh</th>\n",
       "      <th>Best F1</th>\n",
       "      <th>Best F1 Thresh</th>\n",
       "    </tr>\n",
       "  </thead>\n",
       "  <tbody>\n",
       "    <tr>\n",
       "      <td>1</td>\n",
       "      <td>0.979600</td>\n",
       "      <td>No log</td>\n",
       "      <td>55.638844</td>\n",
       "      <td>71.534380</td>\n",
       "      <td>11873</td>\n",
       "      <td>42.661943</td>\n",
       "      <td>74.498599</td>\n",
       "      <td>5928</td>\n",
       "      <td>68.578638</td>\n",
       "      <td>68.578638</td>\n",
       "      <td>5945</td>\n",
       "      <td>55.647267</td>\n",
       "      <td>0.000000</td>\n",
       "      <td>71.542802</td>\n",
       "      <td>0.000000</td>\n",
       "    </tr>\n",
       "    <tr>\n",
       "      <td>2</td>\n",
       "      <td>0.784700</td>\n",
       "      <td>No log</td>\n",
       "      <td>58.772004</td>\n",
       "      <td>74.229294</td>\n",
       "      <td>11873</td>\n",
       "      <td>42.273954</td>\n",
       "      <td>73.232863</td>\n",
       "      <td>5928</td>\n",
       "      <td>75.222876</td>\n",
       "      <td>75.222876</td>\n",
       "      <td>5945</td>\n",
       "      <td>58.780426</td>\n",
       "      <td>0.000000</td>\n",
       "      <td>74.237717</td>\n",
       "      <td>0.000000</td>\n",
       "    </tr>\n",
       "    <tr>\n",
       "      <td>3</td>\n",
       "      <td>0.612300</td>\n",
       "      <td>No log</td>\n",
       "      <td>59.799545</td>\n",
       "      <td>75.285870</td>\n",
       "      <td>11873</td>\n",
       "      <td>42.037787</td>\n",
       "      <td>73.054848</td>\n",
       "      <td>5928</td>\n",
       "      <td>77.510513</td>\n",
       "      <td>77.510513</td>\n",
       "      <td>5945</td>\n",
       "      <td>59.807968</td>\n",
       "      <td>0.000000</td>\n",
       "      <td>75.294293</td>\n",
       "      <td>0.000000</td>\n",
       "    </tr>\n",
       "  </tbody>\n",
       "</table><p>"
      ],
      "text/plain": [
       "<IPython.core.display.HTML object>"
      ]
     },
     "metadata": {},
     "output_type": "display_data"
    },
    {
     "data": {
      "application/vnd.jupyter.widget-view+json": {
       "model_id": "1e39727d8b3a435eb8c5eb8c8262443d",
       "version_major": 2,
       "version_minor": 0
      },
      "text/plain": [
       "  0%|          | 0/11873 [00:00<?, ?it/s]"
      ]
     },
     "metadata": {},
     "output_type": "display_data"
    },
    {
     "data": {
      "application/vnd.jupyter.widget-view+json": {
       "model_id": "5bdb37f8f9c64b2f9bcd6e86be9d41f4",
       "version_major": 2,
       "version_minor": 0
      },
      "text/plain": [
       "  0%|          | 0/11873 [00:00<?, ?it/s]"
      ]
     },
     "metadata": {},
     "output_type": "display_data"
    },
    {
     "data": {
      "application/vnd.jupyter.widget-view+json": {
       "model_id": "542ee758fecb4a35865e9a63ce4ea38c",
       "version_major": 2,
       "version_minor": 0
      },
      "text/plain": [
       "  0%|          | 0/11873 [00:00<?, ?it/s]"
      ]
     },
     "metadata": {},
     "output_type": "display_data"
    },
    {
     "data": {
      "text/html": [
       "\n",
       "    <div>\n",
       "      \n",
       "      <progress value='748' max='748' style='width:300px; height:20px; vertical-align: middle;'></progress>\n",
       "      [748/748 01:18]\n",
       "    </div>\n",
       "    "
      ],
      "text/plain": [
       "<IPython.core.display.HTML object>"
      ]
     },
     "metadata": {},
     "output_type": "display_data"
    },
    {
     "data": {
      "application/vnd.jupyter.widget-view+json": {
       "model_id": "0e3433b97a87479d94d0ed31b7d9fca1",
       "version_major": 2,
       "version_minor": 0
      },
      "text/plain": [
       "  0%|          | 0/11873 [00:00<?, ?it/s]"
      ]
     },
     "metadata": {},
     "output_type": "display_data"
    },
    {
     "name": "stderr",
     "output_type": "stream",
     "text": [
      "[I 2024-05-30 06:58:29,679] Trial 26 finished with value: 75.28587046580645 and parameters: {'no_answer_threshold': 0.9187403465194353, 'learning_rate': 8.213017058099588e-06, 'warmup_ratio': 0, 'weight_decay': 0.09779432031350463, 'adam_beta1': 0.9289995872876792, 'adam_beta2': 0.9954507629032964, 'adam_epsilon': 7.508666117550386e-07, 'lr_scheduler_type': 'linear'}. Best is trial 21 with value: 76.5132999832975.\n"
     ]
    },
    {
     "name": "stdout",
     "output_type": "stream",
     "text": [
      "Current Trial 27 parameters: {'no_answer_threshold': 0.9975635485039612, 'learning_rate': 7.35057959591652e-05, 'warmup_ratio': 0, 'weight_decay': 0.0539262357814196, 'adam_beta1': 0.8883687821969584, 'adam_beta2': 0.9948824272948215, 'adam_epsilon': 6.52238669369468e-07, 'lr_scheduler_type': 'cosine'}\n"
     ]
    },
    {
     "name": "stderr",
     "output_type": "stream",
     "text": [
      "Some weights of AlbertForQuestionAnswering were not initialized from the model checkpoint at albert/albert-base-v2 and are newly initialized: ['qa_outputs.bias', 'qa_outputs.weight']\n",
      "You should probably TRAIN this model on a down-stream task to be able to use it for predictions and inference.\n"
     ]
    },
    {
     "data": {
      "text/html": [
       "\n",
       "    <div>\n",
       "      \n",
       "      <progress value='3754' max='11262' style='width:300px; height:20px; vertical-align: middle;'></progress>\n",
       "      [ 3754/11262 19:36 < 39:14, 3.19 it/s, Epoch 1/3]\n",
       "    </div>\n",
       "    <table border=\"1\" class=\"dataframe\">\n",
       "  <thead>\n",
       " <tr style=\"text-align: left;\">\n",
       "      <th>Epoch</th>\n",
       "      <th>Training Loss</th>\n",
       "      <th>Validation Loss</th>\n",
       "      <th>Exact</th>\n",
       "      <th>F1</th>\n",
       "      <th>Total</th>\n",
       "      <th>Hasans Exact</th>\n",
       "      <th>Hasans F1</th>\n",
       "      <th>Hasans Total</th>\n",
       "      <th>Noans Exact</th>\n",
       "      <th>Noans F1</th>\n",
       "      <th>Noans Total</th>\n",
       "      <th>Best Exact</th>\n",
       "      <th>Best Exact Thresh</th>\n",
       "      <th>Best F1</th>\n",
       "      <th>Best F1 Thresh</th>\n",
       "    </tr>\n",
       "  </thead>\n",
       "  <tbody>\n",
       "    <tr>\n",
       "      <td>1</td>\n",
       "      <td>1.171500</td>\n",
       "      <td>No log</td>\n",
       "      <td>51.916112</td>\n",
       "      <td>66.931128</td>\n",
       "      <td>11873</td>\n",
       "      <td>39.153171</td>\n",
       "      <td>69.226263</td>\n",
       "      <td>5928</td>\n",
       "      <td>64.642557</td>\n",
       "      <td>64.642557</td>\n",
       "      <td>5945</td>\n",
       "      <td>52.135096</td>\n",
       "      <td>0.000000</td>\n",
       "      <td>66.931128</td>\n",
       "      <td>0.000000</td>\n",
       "    </tr>\n",
       "  </tbody>\n",
       "</table><p>"
      ],
      "text/plain": [
       "<IPython.core.display.HTML object>"
      ]
     },
     "metadata": {},
     "output_type": "display_data"
    },
    {
     "data": {
      "application/vnd.jupyter.widget-view+json": {
       "model_id": "0d2e537940a24e6fa3c15a87a1eeb326",
       "version_major": 2,
       "version_minor": 0
      },
      "text/plain": [
       "  0%|          | 0/11873 [00:00<?, ?it/s]"
      ]
     },
     "metadata": {},
     "output_type": "display_data"
    },
    {
     "name": "stdout",
     "output_type": "stream",
     "text": [
      "Stopping training: eval_f1 below threshold of 70\n"
     ]
    },
    {
     "data": {
      "text/html": [
       "\n",
       "    <div>\n",
       "      \n",
       "      <progress value='748' max='748' style='width:300px; height:20px; vertical-align: middle;'></progress>\n",
       "      [748/748 01:18]\n",
       "    </div>\n",
       "    "
      ],
      "text/plain": [
       "<IPython.core.display.HTML object>"
      ]
     },
     "metadata": {},
     "output_type": "display_data"
    },
    {
     "data": {
      "application/vnd.jupyter.widget-view+json": {
       "model_id": "b0fc673eb78b4ae8b12099b1b9ff0cb8",
       "version_major": 2,
       "version_minor": 0
      },
      "text/plain": [
       "  0%|          | 0/11873 [00:00<?, ?it/s]"
      ]
     },
     "metadata": {},
     "output_type": "display_data"
    },
    {
     "name": "stdout",
     "output_type": "stream",
     "text": [
      "Stopping training: eval_f1 below threshold of 70\n"
     ]
    },
    {
     "name": "stderr",
     "output_type": "stream",
     "text": [
      "[I 2024-05-30 07:20:18,788] Trial 27 finished with value: 66.93112823286761 and parameters: {'no_answer_threshold': 0.9975635485039612, 'learning_rate': 7.35057959591652e-05, 'warmup_ratio': 0, 'weight_decay': 0.0539262357814196, 'adam_beta1': 0.8883687821969584, 'adam_beta2': 0.9948824272948215, 'adam_epsilon': 6.52238669369468e-07, 'lr_scheduler_type': 'cosine'}. Best is trial 21 with value: 76.5132999832975.\n"
     ]
    },
    {
     "name": "stdout",
     "output_type": "stream",
     "text": [
      "Current Trial 28 parameters: {'no_answer_threshold': 0.6678507817940207, 'learning_rate': 2.4902405484898062e-05, 'warmup_ratio': 0, 'weight_decay': 0.02013180965997912, 'adam_beta1': 0.9140111087087676, 'adam_beta2': 0.996569772441744, 'adam_epsilon': 9.233149900997031e-07, 'lr_scheduler_type': 'linear'}\n"
     ]
    },
    {
     "name": "stderr",
     "output_type": "stream",
     "text": [
      "Some weights of AlbertForQuestionAnswering were not initialized from the model checkpoint at albert/albert-base-v2 and are newly initialized: ['qa_outputs.bias', 'qa_outputs.weight']\n",
      "You should probably TRAIN this model on a down-stream task to be able to use it for predictions and inference.\n"
     ]
    },
    {
     "data": {
      "text/html": [
       "\n",
       "    <div>\n",
       "      \n",
       "      <progress value='11262' max='11262' style='width:300px; height:20px; vertical-align: middle;'></progress>\n",
       "      [11262/11262 58:58, Epoch 3/3]\n",
       "    </div>\n",
       "    <table border=\"1\" class=\"dataframe\">\n",
       "  <thead>\n",
       " <tr style=\"text-align: left;\">\n",
       "      <th>Epoch</th>\n",
       "      <th>Training Loss</th>\n",
       "      <th>Validation Loss</th>\n",
       "      <th>Exact</th>\n",
       "      <th>F1</th>\n",
       "      <th>Total</th>\n",
       "      <th>Hasans Exact</th>\n",
       "      <th>Hasans F1</th>\n",
       "      <th>Hasans Total</th>\n",
       "      <th>Noans Exact</th>\n",
       "      <th>Noans F1</th>\n",
       "      <th>Noans Total</th>\n",
       "      <th>Best Exact</th>\n",
       "      <th>Best Exact Thresh</th>\n",
       "      <th>Best F1</th>\n",
       "      <th>Best F1 Thresh</th>\n",
       "    </tr>\n",
       "  </thead>\n",
       "  <tbody>\n",
       "    <tr>\n",
       "      <td>1</td>\n",
       "      <td>0.956600</td>\n",
       "      <td>No log</td>\n",
       "      <td>59.083635</td>\n",
       "      <td>74.335141</td>\n",
       "      <td>11873</td>\n",
       "      <td>41.869096</td>\n",
       "      <td>72.415846</td>\n",
       "      <td>5928</td>\n",
       "      <td>76.248949</td>\n",
       "      <td>76.248949</td>\n",
       "      <td>5945</td>\n",
       "      <td>59.083635</td>\n",
       "      <td>0.000000</td>\n",
       "      <td>74.335141</td>\n",
       "      <td>0.000000</td>\n",
       "    </tr>\n",
       "    <tr>\n",
       "      <td>2</td>\n",
       "      <td>0.699400</td>\n",
       "      <td>No log</td>\n",
       "      <td>61.534574</td>\n",
       "      <td>76.222921</td>\n",
       "      <td>11873</td>\n",
       "      <td>42.020918</td>\n",
       "      <td>71.439734</td>\n",
       "      <td>5928</td>\n",
       "      <td>80.992431</td>\n",
       "      <td>80.992431</td>\n",
       "      <td>5945</td>\n",
       "      <td>61.534574</td>\n",
       "      <td>0.000000</td>\n",
       "      <td>76.222921</td>\n",
       "      <td>0.000000</td>\n",
       "    </tr>\n",
       "    <tr>\n",
       "      <td>3</td>\n",
       "      <td>0.423300</td>\n",
       "      <td>No log</td>\n",
       "      <td>60.726017</td>\n",
       "      <td>76.109869</td>\n",
       "      <td>11873</td>\n",
       "      <td>41.869096</td>\n",
       "      <td>72.680917</td>\n",
       "      <td>5928</td>\n",
       "      <td>79.529016</td>\n",
       "      <td>79.529016</td>\n",
       "      <td>5945</td>\n",
       "      <td>60.734439</td>\n",
       "      <td>0.000000</td>\n",
       "      <td>76.118292</td>\n",
       "      <td>0.000000</td>\n",
       "    </tr>\n",
       "  </tbody>\n",
       "</table><p>"
      ],
      "text/plain": [
       "<IPython.core.display.HTML object>"
      ]
     },
     "metadata": {},
     "output_type": "display_data"
    },
    {
     "data": {
      "application/vnd.jupyter.widget-view+json": {
       "model_id": "61df3b10ccbf485c907714bcff3a746e",
       "version_major": 2,
       "version_minor": 0
      },
      "text/plain": [
       "  0%|          | 0/11873 [00:00<?, ?it/s]"
      ]
     },
     "metadata": {},
     "output_type": "display_data"
    },
    {
     "data": {
      "application/vnd.jupyter.widget-view+json": {
       "model_id": "e5630830f1f0416994b82ad9d7600dde",
       "version_major": 2,
       "version_minor": 0
      },
      "text/plain": [
       "  0%|          | 0/11873 [00:00<?, ?it/s]"
      ]
     },
     "metadata": {},
     "output_type": "display_data"
    },
    {
     "data": {
      "application/vnd.jupyter.widget-view+json": {
       "model_id": "f146d1b819f94453b1e2d765f285c42d",
       "version_major": 2,
       "version_minor": 0
      },
      "text/plain": [
       "  0%|          | 0/11873 [00:00<?, ?it/s]"
      ]
     },
     "metadata": {},
     "output_type": "display_data"
    },
    {
     "data": {
      "text/html": [
       "\n",
       "    <div>\n",
       "      \n",
       "      <progress value='748' max='748' style='width:300px; height:20px; vertical-align: middle;'></progress>\n",
       "      [748/748 01:18]\n",
       "    </div>\n",
       "    "
      ],
      "text/plain": [
       "<IPython.core.display.HTML object>"
      ]
     },
     "metadata": {},
     "output_type": "display_data"
    },
    {
     "data": {
      "application/vnd.jupyter.widget-view+json": {
       "model_id": "62ef4d2740094a239251ab16de988f72",
       "version_major": 2,
       "version_minor": 0
      },
      "text/plain": [
       "  0%|          | 0/11873 [00:00<?, ?it/s]"
      ]
     },
     "metadata": {},
     "output_type": "display_data"
    },
    {
     "name": "stdout",
     "output_type": "stream",
     "text": [
      "Stopping training: No improvement in eval_f1 for 2 epochs\n"
     ]
    },
    {
     "name": "stderr",
     "output_type": "stream",
     "text": [
      "[I 2024-05-30 08:21:32,447] Trial 28 finished with value: 76.22292110831951 and parameters: {'no_answer_threshold': 0.6678507817940207, 'learning_rate': 2.4902405484898062e-05, 'warmup_ratio': 0, 'weight_decay': 0.02013180965997912, 'adam_beta1': 0.9140111087087676, 'adam_beta2': 0.996569772441744, 'adam_epsilon': 9.233149900997031e-07, 'lr_scheduler_type': 'linear'}. Best is trial 21 with value: 76.5132999832975.\n"
     ]
    },
    {
     "name": "stdout",
     "output_type": "stream",
     "text": [
      "Current Trial 29 parameters: {'no_answer_threshold': 0.833995444214816, 'learning_rate': 4.855969773301442e-05, 'warmup_ratio': 0, 'weight_decay': 0.07750969636805582, 'adam_beta1': 0.9495244596345797, 'adam_beta2': 0.9936324380522445, 'adam_epsilon': 8.35726922238095e-07, 'lr_scheduler_type': 'linear'}\n"
     ]
    },
    {
     "name": "stderr",
     "output_type": "stream",
     "text": [
      "Some weights of AlbertForQuestionAnswering were not initialized from the model checkpoint at albert/albert-base-v2 and are newly initialized: ['qa_outputs.bias', 'qa_outputs.weight']\n",
      "You should probably TRAIN this model on a down-stream task to be able to use it for predictions and inference.\n"
     ]
    },
    {
     "data": {
      "text/html": [
       "\n",
       "    <div>\n",
       "      \n",
       "      <progress value='11262' max='11262' style='width:300px; height:20px; vertical-align: middle;'></progress>\n",
       "      [11262/11262 59:11, Epoch 3/3]\n",
       "    </div>\n",
       "    <table border=\"1\" class=\"dataframe\">\n",
       "  <thead>\n",
       " <tr style=\"text-align: left;\">\n",
       "      <th>Epoch</th>\n",
       "      <th>Training Loss</th>\n",
       "      <th>Validation Loss</th>\n",
       "      <th>Exact</th>\n",
       "      <th>F1</th>\n",
       "      <th>Total</th>\n",
       "      <th>Hasans Exact</th>\n",
       "      <th>Hasans F1</th>\n",
       "      <th>Hasans Total</th>\n",
       "      <th>Noans Exact</th>\n",
       "      <th>Noans F1</th>\n",
       "      <th>Noans Total</th>\n",
       "      <th>Best Exact</th>\n",
       "      <th>Best Exact Thresh</th>\n",
       "      <th>Best F1</th>\n",
       "      <th>Best F1 Thresh</th>\n",
       "    </tr>\n",
       "  </thead>\n",
       "  <tbody>\n",
       "    <tr>\n",
       "      <td>1</td>\n",
       "      <td>1.022200</td>\n",
       "      <td>No log</td>\n",
       "      <td>55.908364</td>\n",
       "      <td>70.933777</td>\n",
       "      <td>11873</td>\n",
       "      <td>40.502699</td>\n",
       "      <td>70.596615</td>\n",
       "      <td>5928</td>\n",
       "      <td>71.269975</td>\n",
       "      <td>71.269975</td>\n",
       "      <td>5945</td>\n",
       "      <td>55.908364</td>\n",
       "      <td>0.000000</td>\n",
       "      <td>70.933777</td>\n",
       "      <td>0.000000</td>\n",
       "    </tr>\n",
       "    <tr>\n",
       "      <td>2</td>\n",
       "      <td>0.712400</td>\n",
       "      <td>No log</td>\n",
       "      <td>58.291923</td>\n",
       "      <td>73.796618</td>\n",
       "      <td>11873</td>\n",
       "      <td>41.717274</td>\n",
       "      <td>72.771128</td>\n",
       "      <td>5928</td>\n",
       "      <td>74.819176</td>\n",
       "      <td>74.819176</td>\n",
       "      <td>5945</td>\n",
       "      <td>58.291923</td>\n",
       "      <td>0.000000</td>\n",
       "      <td>73.796618</td>\n",
       "      <td>0.000000</td>\n",
       "    </tr>\n",
       "    <tr>\n",
       "      <td>3</td>\n",
       "      <td>0.409700</td>\n",
       "      <td>No log</td>\n",
       "      <td>60.119599</td>\n",
       "      <td>75.427173</td>\n",
       "      <td>11873</td>\n",
       "      <td>41.379892</td>\n",
       "      <td>72.038938</td>\n",
       "      <td>5928</td>\n",
       "      <td>78.805719</td>\n",
       "      <td>78.805719</td>\n",
       "      <td>5945</td>\n",
       "      <td>60.119599</td>\n",
       "      <td>0.000000</td>\n",
       "      <td>75.427173</td>\n",
       "      <td>0.000000</td>\n",
       "    </tr>\n",
       "  </tbody>\n",
       "</table><p>"
      ],
      "text/plain": [
       "<IPython.core.display.HTML object>"
      ]
     },
     "metadata": {},
     "output_type": "display_data"
    },
    {
     "data": {
      "application/vnd.jupyter.widget-view+json": {
       "model_id": "bf54cdf5e48640929a17e37ae451e08a",
       "version_major": 2,
       "version_minor": 0
      },
      "text/plain": [
       "  0%|          | 0/11873 [00:00<?, ?it/s]"
      ]
     },
     "metadata": {},
     "output_type": "display_data"
    },
    {
     "data": {
      "application/vnd.jupyter.widget-view+json": {
       "model_id": "5a617126ded04b1dafe89ce407bc20f7",
       "version_major": 2,
       "version_minor": 0
      },
      "text/plain": [
       "  0%|          | 0/11873 [00:00<?, ?it/s]"
      ]
     },
     "metadata": {},
     "output_type": "display_data"
    },
    {
     "data": {
      "application/vnd.jupyter.widget-view+json": {
       "model_id": "e08480a274c84d0eb461a5b4588ed7ca",
       "version_major": 2,
       "version_minor": 0
      },
      "text/plain": [
       "  0%|          | 0/11873 [00:00<?, ?it/s]"
      ]
     },
     "metadata": {},
     "output_type": "display_data"
    },
    {
     "data": {
      "text/html": [
       "\n",
       "    <div>\n",
       "      \n",
       "      <progress value='748' max='748' style='width:300px; height:20px; vertical-align: middle;'></progress>\n",
       "      [748/748 01:17]\n",
       "    </div>\n",
       "    "
      ],
      "text/plain": [
       "<IPython.core.display.HTML object>"
      ]
     },
     "metadata": {},
     "output_type": "display_data"
    },
    {
     "data": {
      "application/vnd.jupyter.widget-view+json": {
       "model_id": "99fb07279b3a4c4bbf548e200bf58feb",
       "version_major": 2,
       "version_minor": 0
      },
      "text/plain": [
       "  0%|          | 0/11873 [00:00<?, ?it/s]"
      ]
     },
     "metadata": {},
     "output_type": "display_data"
    },
    {
     "name": "stderr",
     "output_type": "stream",
     "text": [
      "[I 2024-05-30 09:22:49,391] Trial 29 finished with value: 75.42717294146425 and parameters: {'no_answer_threshold': 0.833995444214816, 'learning_rate': 4.855969773301442e-05, 'warmup_ratio': 0, 'weight_decay': 0.07750969636805582, 'adam_beta1': 0.9495244596345797, 'adam_beta2': 0.9936324380522445, 'adam_epsilon': 8.35726922238095e-07, 'lr_scheduler_type': 'linear'}. Best is trial 21 with value: 76.5132999832975.\n"
     ]
    }
   ],
   "source": [
    "study.optimize(objective, n_trials=5)"
   ]
  },
  {
   "cell_type": "markdown",
   "id": "d6f8e1c1-893e-4be8-88cd-622dec5a543b",
   "metadata": {
    "jp-MarkdownHeadingCollapsed": true,
    "tags": []
   },
   "source": [
    "## 7. Summary of Hyperparameters Search\n",
    "\n",
    "Each row of the below table corresponds to a trial and shows all specified parameters along with measured performance metrics with Trial 9 acheiving the highest performance.\n",
    "\n",
    "\n",
    "\n",
    "| Trial | Learning Rate     | Batch Size | Warmup Steps | Weight Decay   | Adam Beta1 | Adam Beta2 | Adam Epsilon | LR Scheduler Type          | Exact   | F1       | Hasans Exact | Hasans F1 | Noans Exact | Noans F1 |\n",
    "|-------|-------------------|------------|--------------|----------------|------------|------------|--------------|----------------------------|---------|----------|--------------|-----------|-------------|----------|\n"
   ]
  },
  {
   "cell_type": "markdown",
   "id": "978cde17-3ef7-47ac-8663-b74fdefee34a",
   "metadata": {
    "jp-MarkdownHeadingCollapsed": true,
    "tags": []
   },
   "source": [
    "## Tuning ALBERT Using the Best Hyperparameters"
   ]
  },
  {
   "cell_type": "code",
   "execution_count": null,
   "id": "a3805e98-599c-4c21-9922-ae913acc6b0e",
   "metadata": {
    "tags": []
   },
   "outputs": [],
   "source": [
    "model = AutoModelForQuestionAnswering.from_pretrained(pretrained_model_name)\n",
    "training_args = TrainingArguments(\n",
    "    output_dir=f\"./{normalized_model_name}-best_model\",\n",
    "    overwrite_output_dir = True,\n",
    "    metric_for_best_model='f1',\n",
    "    greater_is_better=True,\n",
    "    load_best_model_at_end=True,\n",
    "    save_total_limit=4, \n",
    "    eval_strategy=\"epoch\",\n",
    "    save_strategy=\"epoch\",\n",
    "    num_train_epochs=10,\n",
    "    report_to=\"wandb\",  # Enable logging to Weights & Biases\n",
    "    run_name=f\"{normalized_model_name}-best_model\",\n",
    "    learning_rate=4.91978224351371e-05,\n",
    "    per_device_train_batch_size=32,\n",
    "    per_device_eval_batch_size=32,\n",
    "    warmup_steps=398,\n",
    "    weight_decay=0.19404494917360213,\n",
    "    adam_beta1=0.8368183686077211,\n",
    "    adam_beta2=0.9969107098230887,\n",
    "    adam_epsilon=5.874878468800929e-07,\n",
    "    lr_scheduler_type='cosine',\n",
    "    fp16=True,  # Enable mixed-precision training\n",
    ")\n",
    "\n",
    "trainer = QuestionAnsweringTrainer(\n",
    "        model=model,\n",
    "        args=training_args,\n",
    "        train_dataset=train_dataset,\n",
    "        eval_dataset=eval_dataset,\n",
    "        eval_examples=eval_examples,\n",
    "        tokenizer=tokenizer,\n",
    "        data_collator=data_collator,\n",
    "        post_process_function=post_processing_function,\n",
    "        compute_metrics=compute_metrics,\n",
    "        callbacks=[AdvancedEarlyStoppingCallback(metric_name='eval_f1', patience=3, threshold=40)]\n",
    ")\n",
    "\n",
    "trainer.train()"
   ]
  }
 ],
 "metadata": {
  "kernelspec": {
   "display_name": "compsci714win",
   "language": "python",
   "name": "compsci714win"
  },
  "language_info": {
   "codemirror_mode": {
    "name": "ipython",
    "version": 3
   },
   "file_extension": ".py",
   "mimetype": "text/x-python",
   "name": "python",
   "nbconvert_exporter": "python",
   "pygments_lexer": "ipython3",
   "version": "3.10.14"
  }
 },
 "nbformat": 4,
 "nbformat_minor": 5
}
