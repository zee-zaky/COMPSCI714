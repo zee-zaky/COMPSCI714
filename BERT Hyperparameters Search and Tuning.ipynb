{
 "cells": [
  {
   "cell_type": "markdown",
   "id": "be8de38f-6e25-435b-a623-a1e99239ae84",
   "metadata": {
    "jp-MarkdownHeadingCollapsed": true,
    "tags": []
   },
   "source": [
    "## 0. Imports, libraries and rusable functions"
   ]
  },
  {
   "cell_type": "code",
   "execution_count": 2,
   "id": "a65cc85a-e4ba-49a4-8f35-5b640c44af06",
   "metadata": {
    "tags": []
   },
   "outputs": [],
   "source": [
    "# Standard Library Imports\n",
    "import ast\n",
    "import copy\n",
    "import csv\n",
    "import json\n",
    "import math\n",
    "import os\n",
    "import re\n",
    "import time\n",
    "import warnings\n",
    "import logging\n",
    "import random\n",
    "import collections\n",
    "from collections import Counter\n",
    "from typing import List, Tuple, Optional\n",
    "from IPython.display import HTML, display\n",
    "import math\n",
    "import time\n",
    "from unidecode import unidecode\n",
    "\n",
    "\n",
    "# Data Handling Libraries\n",
    "import numpy as np\n",
    "import pandas as pd\n",
    "import csv\n",
    "from torch.utils.data import random_split\n",
    "import datasets\n",
    "from datasets import ClassLabel, Sequence\n",
    "\n",
    "# Data Visualization Libraries\n",
    "import matplotlib.pyplot as plt\n",
    "import seaborn as sns\n",
    "# import scikitplot as skplt  # Uncomment if scikit-plot is installed and needed\n",
    "\n",
    "# Machine Learning: Model Preparation\n",
    "from sklearn.metrics import accuracy_score, confusion_matrix, precision_recall_fscore_support\n",
    "from sklearn.model_selection import cross_val_score, cross_validate, KFold, train_test_split\n",
    "from sklearn.preprocessing import MinMaxScaler\n",
    "\n",
    "# Machine Learning: Models and Frameworks\n",
    "import tensorflow as tf\n",
    "import torch\n",
    "import evaluate\n",
    "import xgboost\n",
    "import wandb\n",
    "from xgboost import plot_importance  # Uncomment if xgboost importance plot is required\n",
    "\n",
    "\n",
    "# NLP and Transformers\n",
    "from transformers import (AdamW, AutoModelForSequenceClassification, AutoModelForQuestionAnswering,\n",
    "                          AutoTokenizer, CamembertForSequenceClassification, DistilBertConfig,\n",
    "                          DistilBertForSequenceClassification, DistilBertModel, EarlyStoppingCallback,\n",
    "                          get_linear_schedule_with_warmup, RobertaForSequenceClassification, EvalPrediction,\n",
    "                          Trainer, TrainerCallback, TrainingArguments, XLMRobertaForSequenceClassification,\n",
    "                         DefaultDataCollator, BertForQuestionAnswering, DataCollatorWithPadding, PreTrainedTokenizerFast,\n",
    "                         default_data_collator, is_torch_xla_available)\n",
    "from datasets import Dataset, DatasetDict, load_dataset\n",
    "from transformers.trainer_utils import PredictionOutput, speed_metrics\n",
    "\n",
    "# Experiment Tracking and Optimization Utilities\n",
    "import optuna\n",
    "from optuna.trial import TrialState\n",
    "# import wandb  # Uncomment if using Weights & Biases for experiment tracking\n",
    "\n",
    "# Progress Bar Utilities\n",
    "from tqdm.notebook import tqdm\n"
   ]
  },
  {
   "cell_type": "code",
   "execution_count": 3,
   "id": "e7e79a74-41b2-4df5-9907-81609b0a4664",
   "metadata": {
    "tags": []
   },
   "outputs": [
    {
     "name": "stderr",
     "output_type": "stream",
     "text": [
      "wandb: Currently logged in as: mzak071 (COMPSCI714). Use `wandb login --relogin` to force relogin\n"
     ]
    },
    {
     "data": {
      "text/plain": [
       "True"
      ]
     },
     "execution_count": 3,
     "metadata": {},
     "output_type": "execute_result"
    }
   ],
   "source": [
    "#wandb.login(key='8f7092f0fdaf14add2b4cc07cb0e740080cdd8e7')\n",
    "wandb.login()"
   ]
  },
  {
   "cell_type": "code",
   "execution_count": 4,
   "id": "43b5ec0c-43fd-4678-90d7-23aec61145bd",
   "metadata": {
    "tags": []
   },
   "outputs": [
    {
     "name": "stdout",
     "output_type": "stream",
     "text": [
      "GPU: NVIDIA GeForce RTX 4070 Ti SUPER is available.\n",
      "cuda\n"
     ]
    }
   ],
   "source": [
    "class LoggingCallback(TrainerCallback):\n",
    "    def __init__(self, log_path):\n",
    "        self.log_path = log_path\n",
    "    def on_log(self, args, state, control, logs=None, **kwargs):\n",
    "        _ = logs.pop(\"total_flos\", None)\n",
    "        if state.is_local_process_zero:\n",
    "            with open(self.log_path, \"a\") as f:\n",
    "                f.write(json.dumps(logs) + \"\\n\")\n",
    "\n",
    "if torch.cuda.is_available():\n",
    "    print(f\"GPU: {torch.cuda.get_device_name(0)} is available.\")\n",
    "else:\n",
    "    print(\"No GPU available. Training will run on CPU.\")\n",
    "\n",
    "device = torch.device(\"cuda\" if torch.cuda.is_available() else \"cpu\")\n",
    "print(device)"
   ]
  },
  {
   "cell_type": "markdown",
   "id": "c99df6ec-d898-46f9-b70e-ae04b589fc5d",
   "metadata": {
    "jp-MarkdownHeadingCollapsed": true,
    "tags": []
   },
   "source": [
    "## 1. Global Variables"
   ]
  },
  {
   "cell_type": "code",
   "execution_count": 6,
   "id": "48397c5d-36bd-4131-91d3-2d999fba6bf6",
   "metadata": {
    "tags": []
   },
   "outputs": [],
   "source": [
    "## Arguments and global vriables\n",
    "global_doc_stride = 128\n",
    "pretrained_model_name = \"bert-base-cased\"\n",
    "normalized_model_name = pretrained_model_name.replace(\"/\", \"-\")\n",
    "tokenizer = AutoTokenizer.from_pretrained(pretrained_model_name)\n",
    "assert isinstance( tokenizer, PreTrainedTokenizerFast )\n",
    "data_collator = DefaultDataCollator()\n",
    "max_seq_length = tokenizer.model_max_length\n",
    "version_2_with_negative = True\n",
    "no_answer_threshold = 0.5\n",
    "right_padding = tokenizer.padding_side == 'right'\n",
    "global_counter = 0\n",
    "traing_answer_mismatches = []\n",
    "logger = logging.getLogger(__name__)\n",
    "global train_dataset\n",
    "global eval_dataset\n",
    "global cleaned_training_dataset"
   ]
  },
  {
   "cell_type": "markdown",
   "id": "422e5e8a-5629-4c28-9b45-5517ea8d2595",
   "metadata": {
    "jp-MarkdownHeadingCollapsed": true,
    "tags": []
   },
   "source": [
    "## 1. Q&A Reusable Functions"
   ]
  },
  {
   "cell_type": "code",
   "execution_count": 8,
   "id": "6d9332f3-fb9e-4f2d-9fa8-1f0f93568b0a",
   "metadata": {
    "tags": []
   },
   "outputs": [],
   "source": [
    "### Compute_metrics function for Question and Answering problem is different to classification, more preocessing required.\n",
    "metric = evaluate.load(\"squad_v2\")\n",
    "\n",
    "def compute_metrics(p: EvalPrediction):\n",
    "        return metric.compute(predictions=p.predictions, references=p.label_ids)"
   ]
  },
  {
   "cell_type": "code",
   "execution_count": 9,
   "id": "0f7dfb04-f23c-4bf8-af88-4a33c6ad3c14",
   "metadata": {
    "tags": []
   },
   "outputs": [],
   "source": [
    "\"\"\"\n",
    "A subclass of `Trainer` specific to Question-Answering tasks\n",
    "\"\"\"\n",
    "\n",
    "if is_torch_xla_available():\n",
    "    import torch_xla.core.xla_model as xm\n",
    "    import torch_xla.debug.metrics as met\n",
    "\n",
    "\n",
    "class QuestionAnsweringTrainer(Trainer):\n",
    "    def __init__(self, *args, eval_examples=None, post_process_function=None, **kwargs):\n",
    "        super().__init__(*args, **kwargs)\n",
    "        self.eval_examples = eval_examples\n",
    "        self.post_process_function = post_process_function\n",
    "\n",
    "    def evaluate(self, eval_dataset=None, eval_examples=None, ignore_keys=None, metric_key_prefix: str = \"eval\"):\n",
    "        eval_dataset = self.eval_dataset if eval_dataset is None else eval_dataset\n",
    "        eval_dataloader = self.get_eval_dataloader(eval_dataset)\n",
    "        eval_examples = self.eval_examples if eval_examples is None else eval_examples\n",
    "\n",
    "        # Temporarily disable metric computation, we will do it in the loop here.\n",
    "        compute_metrics = self.compute_metrics\n",
    "        self.compute_metrics = None\n",
    "        eval_loop = self.prediction_loop if self.args.use_legacy_prediction_loop else self.evaluation_loop\n",
    "        start_time = time.time()\n",
    "        try:\n",
    "            output = eval_loop(\n",
    "                eval_dataloader,\n",
    "                description=\"Evaluation\",\n",
    "                # No point gathering the predictions if there are no metrics, otherwise we defer to\n",
    "                # self.args.prediction_loss_only\n",
    "                prediction_loss_only=True if compute_metrics is None else None,\n",
    "                ignore_keys=ignore_keys,\n",
    "                metric_key_prefix=metric_key_prefix,\n",
    "            )\n",
    "        finally:\n",
    "            self.compute_metrics = compute_metrics\n",
    "        total_batch_size = self.args.eval_batch_size * self.args.world_size\n",
    "        if f\"{metric_key_prefix}_jit_compilation_time\" in output.metrics:\n",
    "            start_time += output.metrics[f\"{metric_key_prefix}_jit_compilation_time\"]\n",
    "        output.metrics.update(\n",
    "            speed_metrics(\n",
    "                metric_key_prefix,\n",
    "                start_time,\n",
    "                num_samples=output.num_samples,\n",
    "                num_steps=math.ceil(output.num_samples / total_batch_size),\n",
    "            )\n",
    "        )\n",
    "        if self.post_process_function is not None and self.compute_metrics is not None and self.args.should_save:\n",
    "            # Only the main node write the results by default\n",
    "            eval_preds = self.post_process_function(eval_examples, eval_dataset, output.predictions)\n",
    "            metrics = self.compute_metrics(eval_preds)\n",
    "\n",
    "            # Prefix all keys with metric_key_prefix + '_'\n",
    "            for key in list(metrics.keys()):\n",
    "                if not key.startswith(f\"{metric_key_prefix}_\"):\n",
    "                    metrics[f\"{metric_key_prefix}_{key}\"] = metrics.pop(key)\n",
    "            metrics.update(output.metrics)\n",
    "        else:\n",
    "            metrics = output.metrics\n",
    "\n",
    "        if self.args.should_log:\n",
    "            # Only the main node log the results by default\n",
    "            self.log(metrics)\n",
    "\n",
    "        if self.args.tpu_metrics_debug or self.args.debug:\n",
    "            # tpu-comment: Logging debug metrics for PyTorch/XLA (compile, execute times, ops, etc.)\n",
    "            xm.master_print(met.metrics_report())\n",
    "\n",
    "        self.control = self.callback_handler.on_evaluate(self.args, self.state, self.control, metrics)\n",
    "        return metrics\n",
    "\n",
    "    def predict(self, predict_dataset, predict_examples, ignore_keys=None, metric_key_prefix: str = \"test\"):\n",
    "        predict_dataloader = self.get_test_dataloader(predict_dataset)\n",
    "\n",
    "        # Temporarily disable metric computation, we will do it in the loop here.\n",
    "        compute_metrics = self.compute_metrics\n",
    "        self.compute_metrics = None\n",
    "        eval_loop = self.prediction_loop if self.args.use_legacy_prediction_loop else self.evaluation_loop\n",
    "        start_time = time.time()\n",
    "        try:\n",
    "            output = eval_loop(\n",
    "                predict_dataloader,\n",
    "                description=\"Prediction\",\n",
    "                # No point gathering the predictions if there are no metrics, otherwise we defer to\n",
    "                # self.args.prediction_loss_only\n",
    "                prediction_loss_only=True if compute_metrics is None else None,\n",
    "                ignore_keys=ignore_keys,\n",
    "                metric_key_prefix=metric_key_prefix,\n",
    "            )\n",
    "        finally:\n",
    "            self.compute_metrics = compute_metrics\n",
    "        total_batch_size = self.args.eval_batch_size * self.args.world_size\n",
    "        if f\"{metric_key_prefix}_jit_compilation_time\" in output.metrics:\n",
    "            start_time += output.metrics[f\"{metric_key_prefix}_jit_compilation_time\"]\n",
    "        output.metrics.update(\n",
    "            speed_metrics(\n",
    "                metric_key_prefix,\n",
    "                start_time,\n",
    "                num_samples=output.num_samples,\n",
    "                num_steps=math.ceil(output.num_samples / total_batch_size),\n",
    "            )\n",
    "        )\n",
    "\n",
    "        if self.post_process_function is None or self.compute_metrics is None:\n",
    "            return output\n",
    "\n",
    "        predictions = self.post_process_function(predict_examples, predict_dataset, output.predictions, \"predict\")\n",
    "        metrics = self.compute_metrics(predictions)\n",
    "\n",
    "        # Prefix all keys with metric_key_prefix + '_'\n",
    "        for key in list(metrics.keys()):\n",
    "            if not key.startswith(f\"{metric_key_prefix}_\"):\n",
    "                metrics[f\"{metric_key_prefix}_{key}\"] = metrics.pop(key)\n",
    "        metrics.update(output.metrics)\n",
    "        return PredictionOutput(predictions=predictions.predictions, label_ids=predictions.label_ids, metrics=metrics)"
   ]
  },
  {
   "cell_type": "code",
   "execution_count": 10,
   "id": "9529d45f-9433-444c-a57d-9c8af9a2d65e",
   "metadata": {
    "tags": []
   },
   "outputs": [],
   "source": [
    "def prepare_validation_features(examples):\n",
    "  # Some of the questions have lots of whitespace on the left, which is not useful and will make the\n",
    "  # truncation of the context fail (the tokenized question will take a lots of space). So we remove that\n",
    "  # left whitespace\n",
    "    examples[\"question\"] = [q.lstrip() for q in examples[\"question\"]]\n",
    "  # Tokenize our examples with truncation and maybe padding, but keep the overflows using a stride. This results\n",
    "  # in one example possible giving several features when a context is long, each of those features having a\n",
    "  # context that overlaps a bit the context of the previous feature.\n",
    "    tokenized_examples = tokenizer(\n",
    "      examples[\"question\"],\n",
    "      examples[\"context\"],\n",
    "      truncation=\"only_second\" if right_padding else \"only_first\",\n",
    "      max_length=max_seq_length,\n",
    "      stride=global_doc_stride,\n",
    "      return_overflowing_tokens=True,\n",
    "      return_offsets_mapping=True,\n",
    "      padding=\"max_length\",\n",
    "  )\n",
    "\n",
    "  # Since one example might give us several features if it has a long context, we need a map from a feature to\n",
    "  # its corresponding example. This key gives us just that.\n",
    "    sample_mapping = tokenized_examples.pop(\"overflow_to_sample_mapping\")\n",
    "\n",
    "  # For evaluation, we will need to convert our predictions to substrings of the context, so we keep the\n",
    "  # corresponding example_id and we will store the offset mappings.\n",
    "    tokenized_examples[\"example_id\"] = []\n",
    "\n",
    "    for i in range(len(tokenized_examples[\"input_ids\"])):\n",
    "      # Grab the sequence corresponding to that example (to know what is the context and what is the question).\n",
    "        sequence_ids = tokenized_examples.sequence_ids(i)\n",
    "        context_index = 0\n",
    "\n",
    "      # One example can give several spans, this is the index of the example containing this span of text.\n",
    "        sample_index = sample_mapping[i]\n",
    "        tokenized_examples[\"example_id\"].append(examples[\"id\"][sample_index])\n",
    "\n",
    "      # Set to None the offset_mapping that are not part of the context so it's easy to determine if a token\n",
    "      # position is part of the context or not.\n",
    "        tokenized_examples[\"offset_mapping\"][i] = [\n",
    "            (o if sequence_ids[k] == context_index else None)\n",
    "            for k, o in enumerate(tokenized_examples[\"offset_mapping\"][i])\n",
    "      ]\n",
    "\n",
    "    return tokenized_examples"
   ]
  },
  {
   "cell_type": "code",
   "execution_count": 11,
   "id": "ee8955f9-eee2-4b36-aa63-6b1f7da7334d",
   "metadata": {},
   "outputs": [],
   "source": [
    "# Validation preprocessing\n",
    "def prepare_validation_features(examples):\n",
    "    # Some of the questions have lots of whitespace on the left, which is not useful and will make the\n",
    "    # truncation of the context fail (the tokenized question will take a lots of space). So we remove that\n",
    "    # left whitespace\n",
    "    examples[\"question\"] = [q.lstrip() for q in examples[\"question\"]]\n",
    "\n",
    "    # Tokenize our examples with truncation and maybe padding, but keep the overflows using a stride. This results\n",
    "    # in one example possible giving several features when a context is long, each of those features having a\n",
    "    # context that overlaps a bit the context of the previous feature.\n",
    "    tokenized_examples = tokenizer(\n",
    "        examples[\"question\" if right_padding else \"context\"],\n",
    "        examples[\"context\" if right_padding else \"question\"],\n",
    "        truncation=\"only_second\" if right_padding else \"only_first\",\n",
    "        max_length=max_seq_length,\n",
    "        stride=global_doc_stride,\n",
    "        return_overflowing_tokens=True,\n",
    "        return_offsets_mapping=True,\n",
    "        padding=\"max_length\",\n",
    "    )\n",
    "\n",
    "    # Since one example might give us several features if it has a long context, we need a map from a feature to\n",
    "    # its corresponding example. This key gives us just that.\n",
    "    sample_mapping = tokenized_examples.pop(\"overflow_to_sample_mapping\")\n",
    "\n",
    "    # For evaluation, we will need to convert our predictions to substrings of the context, so we keep the\n",
    "    # corresponding example_id and we will store the offset mappings.\n",
    "    tokenized_examples[\"example_id\"] = []\n",
    "\n",
    "    for i in range(len(tokenized_examples[\"input_ids\"])):\n",
    "        # Grab the sequence corresponding to that example (to know what is the context and what is the question).\n",
    "        sequence_ids = tokenized_examples.sequence_ids(i)\n",
    "        context_index = 1 if right_padding else 0\n",
    "\n",
    "        # One example can give several spans, this is the index of the example containing this span of text.\n",
    "        sample_index = sample_mapping[i]\n",
    "        tokenized_examples[\"example_id\"].append(examples[\"id\"][sample_index])\n",
    "\n",
    "        # Set to None the offset_mapping that are not part of the context so it's easy to determine if a token\n",
    "        # position is part of the context or not.\n",
    "        tokenized_examples[\"offset_mapping\"][i] = [\n",
    "            (o if sequence_ids[k] == context_index else None)\n",
    "            for k, o in enumerate(tokenized_examples[\"offset_mapping\"][i])\n",
    "        ]\n",
    "\n",
    "    return tokenized_examples"
   ]
  },
  {
   "cell_type": "code",
   "execution_count": 12,
   "id": "46fd26da-ec5a-4d8c-88bd-b75f41388a74",
   "metadata": {},
   "outputs": [],
   "source": [
    "# Post-processing:\n",
    "def post_processing_function(examples, features, predictions, stage=\"eval\"):\n",
    "    # Post-processing: we match the start logits and end logits to answers in the original context.\n",
    "    predictions = postprocess_qa_predictions(\n",
    "        examples=examples,\n",
    "        features=features,\n",
    "        predictions=predictions,\n",
    "        version_2_with_negative=version_2_with_negative, #If true, some of the examples do not have an answer.\n",
    "        n_best_size=20, #The total number of n-best predictions to generate when looking for an answer.\n",
    "        max_answer_length=30, #The maximum length of an answer that can be generated. This is needed because the start and end predictions are not conditioned on one another.\n",
    "        null_score_diff_threshold=no_answer_threshold, #The threshold used to select the null answer: if the best answer has a score that is less than the score of the null answer minus this threshold, the null answer is selected for this example. Only useful when `version_2_with_negative=True`.\n",
    "        output_dir= None,\n",
    "        log_level=logging.WARNING,\n",
    "        prefix=stage,\n",
    "    )\n",
    "    # Format the result to the format the metric expects.\n",
    "    if version_2_with_negative:\n",
    "        formatted_predictions = [\n",
    "                {\"id\": str(k), \"prediction_text\": v, \"no_answer_probability\": 0.0} for k, v in predictions.items()\n",
    "            ]\n",
    "    else:\n",
    "        formatted_predictions = [{\"id\": str(k), \"prediction_text\": v} for k, v in predictions.items()]\n",
    "    \n",
    "    \n",
    "    references = [{\"id\": str(ex[\"id\"]), \"answers\": ex[\"answers\"]} for ex in examples]\n",
    "    return EvalPrediction(predictions=formatted_predictions, label_ids=references)"
   ]
  },
  {
   "cell_type": "code",
   "execution_count": 13,
   "id": "2d015b7f-512d-4a66-87e4-8b2949701bef",
   "metadata": {},
   "outputs": [],
   "source": [
    "def postprocess_qa_predictions(\n",
    "    examples,\n",
    "    features,\n",
    "    predictions: Tuple[np.ndarray, np.ndarray],\n",
    "    version_2_with_negative: bool = False,\n",
    "    n_best_size: int = 20,\n",
    "    max_answer_length: int = 30,\n",
    "    null_score_diff_threshold: float = 0.0,\n",
    "    output_dir: Optional[str] = None,\n",
    "    prefix: Optional[str] = None,\n",
    "    log_level: Optional[int] = logging.WARNING,\n",
    "):\n",
    "    \"\"\"\n",
    "    Post-processes the predictions of a question-answering model to convert them to answers that are substrings of the\n",
    "    original contexts. This is the base postprocessing functions for models that only return start and end logits.\n",
    "\n",
    "    Args:\n",
    "        examples: The non-preprocessed dataset (see the main script for more information).\n",
    "        features: The processed dataset (see the main script for more information).\n",
    "        predictions (:obj:`Tuple[np.ndarray, np.ndarray]`):\n",
    "            The predictions of the model: two arrays containing the start logits and the end logits respectively. Its\n",
    "            first dimension must match the number of elements of :obj:`features`.\n",
    "        version_2_with_negative (:obj:`bool`, `optional`, defaults to :obj:`False`):\n",
    "            Whether or not the underlying dataset contains examples with no answers.\n",
    "        n_best_size (:obj:`int`, `optional`, defaults to 20):\n",
    "            The total number of n-best predictions to generate when looking for an answer.\n",
    "        max_answer_length (:obj:`int`, `optional`, defaults to 30):\n",
    "            The maximum length of an answer that can be generated. This is needed because the start and end predictions\n",
    "            are not conditioned on one another.\n",
    "        null_score_diff_threshold (:obj:`float`, `optional`, defaults to 0):\n",
    "            The threshold used to select the null answer: if the best answer has a score that is less than the score of\n",
    "            the null answer minus this threshold, the null answer is selected for this example (note that the score of\n",
    "            the null answer for an example giving several features is the minimum of the scores for the null answer on\n",
    "            each feature: all features must be aligned on the fact they `want` to predict a null answer).\n",
    "\n",
    "            Only useful when :obj:`version_2_with_negative` is :obj:`True`.\n",
    "        output_dir (:obj:`str`, `optional`):\n",
    "            If provided, the dictionaries of predictions, n_best predictions (with their scores and logits) and, if\n",
    "            :obj:`version_2_with_negative=True`, the dictionary of the scores differences between best and null\n",
    "            answers, are saved in `output_dir`.\n",
    "        prefix (:obj:`str`, `optional`):\n",
    "            If provided, the dictionaries mentioned above are saved with `prefix` added to their names.\n",
    "        log_level (:obj:`int`, `optional`, defaults to ``logging.WARNING``):\n",
    "            ``logging`` log level (e.g., ``logging.WARNING``)\n",
    "    \"\"\"\n",
    "    if len(predictions) != 2:\n",
    "        raise ValueError(\"`predictions` should be a tuple with two elements (start_logits, end_logits).\")\n",
    "    all_start_logits, all_end_logits = predictions\n",
    "\n",
    "    if len(predictions[0]) != len(features):\n",
    "        raise ValueError(f\"Got {len(predictions[0])} predictions and {len(features)} features.\")\n",
    "\n",
    "    # Build a map example to its corresponding features.\n",
    "    example_id_to_index = {k: i for i, k in enumerate(examples[\"id\"])}\n",
    "    features_per_example = collections.defaultdict(list)\n",
    "    for i, feature in enumerate(features):\n",
    "        features_per_example[example_id_to_index[feature[\"example_id\"]]].append(i)\n",
    "\n",
    "    # The dictionaries we have to fill.\n",
    "    all_predictions = collections.OrderedDict()\n",
    "    all_nbest_json = collections.OrderedDict()\n",
    "    if version_2_with_negative:\n",
    "        scores_diff_json = collections.OrderedDict()\n",
    "\n",
    "    # Logging.\n",
    "    logger.setLevel(log_level)\n",
    "    logger.info(f\"Post-processing {len(examples)} example predictions split into {len(features)} features.\")\n",
    "\n",
    "    # Let's loop over all the examples!\n",
    "    for example_index, example in enumerate(tqdm(examples)):\n",
    "        # Those are the indices of the features associated to the current example.\n",
    "        feature_indices = features_per_example[example_index]\n",
    "\n",
    "        min_null_prediction = None\n",
    "        prelim_predictions = []\n",
    "\n",
    "        # Looping through all the features associated to the current example.\n",
    "        for feature_index in feature_indices:\n",
    "            # We grab the predictions of the model for this feature.\n",
    "            start_logits = all_start_logits[feature_index]\n",
    "            end_logits = all_end_logits[feature_index]\n",
    "            # This is what will allow us to map some the positions in our logits to span of texts in the original\n",
    "            # context.\n",
    "            offset_mapping = features[feature_index][\"offset_mapping\"]\n",
    "            # Optional `token_is_max_context`, if provided we will remove answers that do not have the maximum context\n",
    "            # available in the current feature.\n",
    "            token_is_max_context = features[feature_index].get(\"token_is_max_context\", None)\n",
    "\n",
    "            # Update minimum null prediction.\n",
    "            feature_null_score = start_logits[0] + end_logits[0]\n",
    "            if min_null_prediction is None or min_null_prediction[\"score\"] > feature_null_score:\n",
    "                min_null_prediction = {\n",
    "                    \"offsets\": (0, 0),\n",
    "                    \"score\": feature_null_score,\n",
    "                    \"start_logit\": start_logits[0],\n",
    "                    \"end_logit\": end_logits[0],\n",
    "                }\n",
    "\n",
    "            # Go through all possibilities for the `n_best_size` greater start and end logits.\n",
    "            start_indexes = np.argsort(start_logits)[-1 : -n_best_size - 1 : -1].tolist()\n",
    "            end_indexes = np.argsort(end_logits)[-1 : -n_best_size - 1 : -1].tolist()\n",
    "            for start_index in start_indexes:\n",
    "                for end_index in end_indexes:\n",
    "                    # Don't consider out-of-scope answers, either because the indices are out of bounds or correspond\n",
    "                    # to part of the input_ids that are not in the context.\n",
    "                    if (\n",
    "                        start_index >= len(offset_mapping)\n",
    "                        or end_index >= len(offset_mapping)\n",
    "                        or offset_mapping[start_index] is None\n",
    "                        or len(offset_mapping[start_index]) < 2\n",
    "                        or offset_mapping[end_index] is None\n",
    "                        or len(offset_mapping[end_index]) < 2\n",
    "                    ):\n",
    "                        continue\n",
    "                    # Don't consider answers with a length that is either < 0 or > max_answer_length.\n",
    "                    if end_index < start_index or end_index - start_index + 1 > max_answer_length:\n",
    "                        continue\n",
    "                    # Don't consider answer that don't have the maximum context available (if such information is\n",
    "                    # provided).\n",
    "                    if token_is_max_context is not None and not token_is_max_context.get(str(start_index), False):\n",
    "                        continue\n",
    "\n",
    "                    prelim_predictions.append(\n",
    "                        {\n",
    "                            \"offsets\": (offset_mapping[start_index][0], offset_mapping[end_index][1]),\n",
    "                            \"score\": start_logits[start_index] + end_logits[end_index],\n",
    "                            \"start_logit\": start_logits[start_index],\n",
    "                            \"end_logit\": end_logits[end_index],\n",
    "                        }\n",
    "                    )\n",
    "        if version_2_with_negative and min_null_prediction is not None:\n",
    "            # Add the minimum null prediction\n",
    "            prelim_predictions.append(min_null_prediction)\n",
    "            null_score = min_null_prediction[\"score\"]\n",
    "\n",
    "        # Only keep the best `n_best_size` predictions.\n",
    "        predictions = sorted(prelim_predictions, key=lambda x: x[\"score\"], reverse=True)[:n_best_size]\n",
    "\n",
    "        # Add back the minimum null prediction if it was removed because of its low score.\n",
    "        if (\n",
    "            version_2_with_negative\n",
    "            and min_null_prediction is not None\n",
    "            and not any(p[\"offsets\"] == (0, 0) for p in predictions)\n",
    "        ):\n",
    "            predictions.append(min_null_prediction)\n",
    "\n",
    "        # Use the offsets to gather the answer text in the original context.\n",
    "        context = example[\"context\"]\n",
    "        for pred in predictions:\n",
    "            offsets = pred.pop(\"offsets\")\n",
    "            pred[\"text\"] = context[offsets[0] : offsets[1]]\n",
    "\n",
    "        # In the very rare edge case we have not a single non-null prediction, we create a fake prediction to avoid\n",
    "        # failure.\n",
    "        if len(predictions) == 0 or (len(predictions) == 1 and predictions[0][\"text\"] == \"\"):\n",
    "            predictions.insert(0, {\"text\": \"empty\", \"start_logit\": 0.0, \"end_logit\": 0.0, \"score\": 0.0})\n",
    "\n",
    "        # Compute the softmax of all scores (we do it with numpy to stay independent from torch/tf in this file, using\n",
    "        # the LogSumExp trick).\n",
    "        scores = np.array([pred.pop(\"score\") for pred in predictions])\n",
    "        exp_scores = np.exp(scores - np.max(scores))\n",
    "        probs = exp_scores / exp_scores.sum()\n",
    "\n",
    "        # Include the probabilities in our predictions.\n",
    "        for prob, pred in zip(probs, predictions):\n",
    "            pred[\"probability\"] = prob\n",
    "\n",
    "        # Pick the best prediction. If the null answer is not possible, this is easy.\n",
    "        if not version_2_with_negative:\n",
    "            all_predictions[example[\"id\"]] = predictions[0][\"text\"]\n",
    "        else:\n",
    "            # Otherwise we first need to find the best non-empty prediction.\n",
    "            i = 0\n",
    "            while predictions[i][\"text\"] == \"\":\n",
    "                i += 1\n",
    "            best_non_null_pred = predictions[i]\n",
    "\n",
    "            # Then we compare to the null prediction using the threshold.\n",
    "            score_diff = null_score - best_non_null_pred[\"start_logit\"] - best_non_null_pred[\"end_logit\"]\n",
    "            scores_diff_json[example[\"id\"]] = float(score_diff)  # To be JSON-serializable.\n",
    "            if score_diff > null_score_diff_threshold:\n",
    "                all_predictions[example[\"id\"]] = \"\"\n",
    "            else:\n",
    "                all_predictions[example[\"id\"]] = best_non_null_pred[\"text\"]\n",
    "\n",
    "        # Make `predictions` JSON-serializable by casting np.float back to float.\n",
    "        all_nbest_json[example[\"id\"]] = [\n",
    "            {k: (float(v) if isinstance(v, (np.float16, np.float32, np.float64)) else v) for k, v in pred.items()}\n",
    "            for pred in predictions\n",
    "        ]\n",
    "\n",
    "    # If we have an output_dir, let's save all those dicts.\n",
    "    if output_dir is not None:\n",
    "        if not os.path.isdir(output_dir):\n",
    "            raise EnvironmentError(f\"{output_dir} is not a directory.\")\n",
    "\n",
    "        prediction_file = os.path.join(\n",
    "            output_dir, \"predictions.json\" if prefix is None else f\"{prefix}_predictions.json\"\n",
    "        )\n",
    "        nbest_file = os.path.join(\n",
    "            output_dir, \"nbest_predictions.json\" if prefix is None else f\"{prefix}_nbest_predictions.json\"\n",
    "        )\n",
    "        if version_2_with_negative:\n",
    "            null_odds_file = os.path.join(\n",
    "                output_dir, \"null_odds.json\" if prefix is None else f\"{prefix}_null_odds.json\"\n",
    "            )\n",
    "\n",
    "        logger.info(f\"Saving predictions to {prediction_file}.\")\n",
    "        with open(prediction_file, \"w\") as writer:\n",
    "            writer.write(json.dumps(all_predictions, indent=4) + \"\\n\")\n",
    "        logger.info(f\"Saving nbest_preds to {nbest_file}.\")\n",
    "        with open(nbest_file, \"w\") as writer:\n",
    "            writer.write(json.dumps(all_nbest_json, indent=4) + \"\\n\")\n",
    "        if version_2_with_negative:\n",
    "            logger.info(f\"Saving null_odds to {null_odds_file}.\")\n",
    "            with open(null_odds_file, \"w\") as writer:\n",
    "                writer.write(json.dumps(scores_diff_json, indent=4) + \"\\n\")\n",
    "\n",
    "    return all_predictions"
   ]
  },
  {
   "cell_type": "code",
   "execution_count": 32,
   "id": "aa993870-b078-4b43-ad6b-c11aa40c47ef",
   "metadata": {},
   "outputs": [],
   "source": [
    "# List of questions to debug\n",
    "debug_questions = [\n",
    "    \"What ideology was sponsored at the Ming court?\",\n",
    "    \"Who stopped their trips to Ming China?\",\n",
    "    \"Another question of interest\"\n",
    "]\n",
    "\n",
    "# Training preprocessing\n",
    "def preprocess_function(examples):\n",
    "    # Some of the questions have lots of whitespace on the left, which is not useful and will make the\n",
    "    # truncation of the context fail (the tokenized question will take a lots of space). So we remove that\n",
    "    # left whitespace\n",
    "    examples[\"question\"] = [q.lstrip() for q in examples[\"question\"]]\n",
    "\n",
    "    # Tokenize our examples with truncation and padding, but keep the overflows using a stride. This results\n",
    "    # in one example possible giving several features when a context is long, each of those features having a\n",
    "    # context that overlaps a bit the context of the previous feature.\n",
    "    tokenized_examples = tokenizer(\n",
    "        examples[\"question\" if right_padding else \"context\"],\n",
    "        examples[\"context\" if right_padding else \"question\"],\n",
    "        truncation=\"only_second\" if right_padding else \"only_first\",\n",
    "        max_length=max_seq_length,\n",
    "        stride=global_doc_stride,\n",
    "        return_overflowing_tokens=True,\n",
    "        return_offsets_mapping=True,\n",
    "        padding=\"max_length\",\n",
    "    )\n",
    "\n",
    "    # Since one example might give us several features if it has a long context, we need a map from a feature to\n",
    "    # its corresponding example. This key gives us just that.\n",
    "    sample_mapping = tokenized_examples.pop(\"overflow_to_sample_mapping\")\n",
    "    # The offset mappings will give us a map from token to character position in the original context. This will\n",
    "    # help us compute the start_positions and end_positions.\n",
    "    offset_mapping = tokenized_examples.pop(\"offset_mapping\")\n",
    "\n",
    "    # Let's label those examples!\n",
    "    tokenized_examples[\"start_positions\"] = []\n",
    "    tokenized_examples[\"end_positions\"] = []\n",
    "\n",
    "    for i, offsets in enumerate(offset_mapping):\n",
    "        # We will label impossible answers with the index of the CLS token.\n",
    "        input_ids = tokenized_examples[\"input_ids\"][i]\n",
    "        cls_index = input_ids.index(tokenizer.cls_token_id)\n",
    "        \n",
    "        # Grab the sequence corresponding to that example (to know what is the context and what is the question).\n",
    "        sequence_ids = tokenized_examples.sequence_ids(i)\n",
    "\n",
    "        # One example can give several spans, this is the index of the example containing this span of text.\n",
    "        sample_index = sample_mapping[i]\n",
    "        answers = examples[\"answers\"][sample_index]        \n",
    "        question = examples[\"question\"][sample_index]\n",
    "        example_id = examples[\"id\"][sample_index]\n",
    "        \n",
    "        # If no answers are given, set the cls_index as answer.\n",
    "        if len(answers[\"answer_start\"]) == 0:\n",
    "            tokenized_examples[\"start_positions\"].append(cls_index)\n",
    "            tokenized_examples[\"end_positions\"].append(cls_index)\n",
    "        else:\n",
    "            # Start/end character index of the answer in the text.\n",
    "            start_char = answers[\"answer_start\"][0]\n",
    "            end_char = start_char + len(answers[\"text\"][0])\n",
    "\n",
    "            # Start token index of the current span in the text.\n",
    "            token_start_index = 0\n",
    "            while sequence_ids[token_start_index] != (1 if right_padding else 0):\n",
    "                token_start_index += 1\n",
    "\n",
    "            # End token index of the current span in the text.\n",
    "            token_end_index = len(input_ids) - 1\n",
    "            while sequence_ids[token_end_index] != (1 if right_padding else 0):\n",
    "                token_end_index -= 1\n",
    "            \n",
    "            # Detect if the answer is out of the span (in which case this feature is labeled with the CLS index).\n",
    "            if not (offsets[token_start_index][0] <= start_char and offsets[token_end_index][1] >= end_char):\n",
    "                tokenized_examples[\"start_positions\"].append(cls_index)\n",
    "                tokenized_examples[\"end_positions\"].append(cls_index)\n",
    "            else:\n",
    "                # Increase the end index here to make sure it includes the last character\n",
    "                while token_start_index < len(offsets) and offsets[token_start_index][0] <= start_char:\n",
    "                    token_start_index += 1\n",
    "                safe_start_index = max(0, token_start_index - 1)\n",
    "                tokenized_examples[\"start_positions\"].append(safe_start_index)\n",
    "\n",
    "                # Adjust this line to ensure that the end character is included\n",
    "                # Decrement token_end_index to point exactly one past the end of the answer text\n",
    "                while token_end_index >= 0 and offsets[token_end_index][1] > end_char:\n",
    "                    token_end_index -= 1\n",
    "                safe_end_index = min(len(input_ids) - 1, token_end_index + 1)\n",
    "                tokenized_examples[\"end_positions\"].append(safe_end_index)  # Adjust to +2 if needed\n",
    "                \n",
    "        # Debugging code\n",
    "        global global_counter\n",
    "        global traing_answer_mismatches\n",
    "        #if question in debug_questions:\n",
    "        if len(answers[\"answer_start\"]) > 0:\n",
    "            # Ensure indices are within bounds\n",
    "            #safe_start_index = max(0, token_start_index - 1)\n",
    "            #safe_end_index = min(len(input_ids) - 1, token_end_index + 1)\n",
    "\n",
    "            # Decode the answer using safe indices\n",
    "            decoded_answer = tokenizer.decode(input_ids[safe_start_index:safe_end_index])\n",
    "            actual_answer = answers[\"text\"][0] if answers[\"text\"] else \"No answer provided\"\n",
    "            normalized_actual_answer = actual_answer.lower().replace(\" \", \"\")\n",
    "            normalized_decoded_answer = decoded_answer.lower().replace(\" \", \"\")\n",
    "            if normalized_decoded_answer != normalized_actual_answer:\n",
    "                if global_counter == 0: print('Mismatch Found')\n",
    "                global_counter += 1 \n",
    "                traing_answer_mismatches.append({\n",
    "                    'ID': example_id,\n",
    "                    'Question': question,\n",
    "                    'Offsets': offsets,\n",
    "                    'Input IDs':input_ids,\n",
    "                    'Tokenized Text': tokenizer.decode(input_ids),\n",
    "                    'Char start/end index': f\"{start_char} / {end_char}\",\n",
    "                    'Token start/end index':f\"{token_start_index} / {token_end_index}\",\n",
    "                    'Decoded Answer': decoded_answer,\n",
    "                    'Actual Answer': actual_answer,                    \n",
    "                })    \n",
    "    return tokenized_examples"
   ]
  },
  {
   "cell_type": "markdown",
   "id": "baaa50d9-d80b-4bcc-a9d4-66f8cb4084e9",
   "metadata": {
    "jp-MarkdownHeadingCollapsed": true,
    "tags": []
   },
   "source": [
    "## 2. Data Preparation"
   ]
  },
  {
   "cell_type": "code",
   "execution_count": 16,
   "id": "5b9fbac7-2668-43cb-addf-9c86174fd242",
   "metadata": {},
   "outputs": [],
   "source": [
    "# Load the full dataset\n",
    "full_squad_dataset = load_dataset(\"squad_v2\")"
   ]
  },
  {
   "cell_type": "code",
   "execution_count": 17,
   "id": "94f41120-057b-4dd8-9bbd-a5165dc726fe",
   "metadata": {
    "tags": []
   },
   "outputs": [
    {
     "name": "stdout",
     "output_type": "stream",
     "text": [
      "Train set size: 130319\n",
      "Validation set size: 11873\n"
     ]
    },
    {
     "data": {
      "text/plain": [
       "DatasetDict({\n",
       "    train: Dataset({\n",
       "        features: ['id', 'title', 'context', 'question', 'answers'],\n",
       "        num_rows: 130319\n",
       "    })\n",
       "    validation: Dataset({\n",
       "        features: ['id', 'title', 'context', 'question', 'answers'],\n",
       "        num_rows: 11873\n",
       "    })\n",
       "})"
      ]
     },
     "execution_count": 17,
     "metadata": {},
     "output_type": "execute_result"
    }
   ],
   "source": [
    "Use_Only_Sample = False\n",
    "Sample_Size = 10000\n",
    "\n",
    "if Use_Only_Sample:\n",
    "    # Load a sample portion of the dataset\n",
    "    squad_raw = datasets.DatasetDict({\n",
    "        'train': full_squad_dataset['train'].select(range(0, Sample_Size)),\n",
    "        'validation': full_squad_dataset['validation'].select(range(0, int(Sample_Size * 0.2)))\n",
    "    })\n",
    "else:\n",
    "    # Load the full dataset\n",
    "    squad_raw = datasets.DatasetDict({\n",
    "        'train': full_squad_dataset['train'],\n",
    "        'validation': full_squad_dataset['validation'],    \n",
    "    })\n",
    "    \n",
    "# Display the sizes of the splits to confirm\n",
    "print(\"Train set size:\", len(squad_raw['train']))\n",
    "print(\"Validation set size:\", len(squad_raw['validation']))\n",
    "squad_raw"
   ]
  },
  {
   "cell_type": "code",
   "execution_count": 31,
   "id": "af519485-cf11-4690-ba77-61eaace04e94",
   "metadata": {
    "tags": []
   },
   "outputs": [
    {
     "data": {
      "application/vnd.jupyter.widget-view+json": {
       "model_id": "d046fdea7eb44f66a8503bb2f5582ca1",
       "version_major": 2,
       "version_minor": 0
      },
      "text/plain": [
       "Running tokenizer on train dataset:   0%|          | 0/130319 [00:00<?, ? examples/s]"
      ]
     },
     "metadata": {},
     "output_type": "display_data"
    },
    {
     "name": "stdout",
     "output_type": "stream",
     "text": [
      "Mismatch Found\n"
     ]
    }
   ],
   "source": [
    "## Preprocess the Training Dataset To find Missmatches\n",
    "train_dataset = squad_raw['train'].map(\n",
    "                preprocess_function,\n",
    "                batched=True,\n",
    "                remove_columns=squad_raw[\"train\"].column_names,\n",
    "                desc=\"Running tokenizer on train dataset\",\n",
    "                load_from_cache_file=False,  # Disable caching\n",
    "            )\n"
   ]
  },
  {
   "cell_type": "code",
   "execution_count": 35,
   "id": "441d9c6a-242b-453d-b75e-3f6ca0a15c0e",
   "metadata": {
    "tags": []
   },
   "outputs": [
    {
     "name": "stdout",
     "output_type": "stream",
     "text": [
      "Total number of miss matches: 376\n"
     ]
    },
    {
     "data": {
      "text/html": [
       "<div>\n",
       "<style scoped>\n",
       "    .dataframe tbody tr th:only-of-type {\n",
       "        vertical-align: middle;\n",
       "    }\n",
       "\n",
       "    .dataframe tbody tr th {\n",
       "        vertical-align: top;\n",
       "    }\n",
       "\n",
       "    .dataframe thead th {\n",
       "        text-align: right;\n",
       "    }\n",
       "</style>\n",
       "<table border=\"1\" class=\"dataframe\">\n",
       "  <thead>\n",
       "    <tr style=\"text-align: right;\">\n",
       "      <th></th>\n",
       "      <th>ID</th>\n",
       "      <th>Question</th>\n",
       "      <th>Offsets</th>\n",
       "      <th>Input IDs</th>\n",
       "      <th>Tokenized Text</th>\n",
       "      <th>Char start/end index</th>\n",
       "      <th>Token start/end index</th>\n",
       "      <th>Decoded Answer</th>\n",
       "      <th>Actual Answer</th>\n",
       "    </tr>\n",
       "  </thead>\n",
       "  <tbody>\n",
       "    <tr>\n",
       "      <th>0</th>\n",
       "      <td>56bf7e603aeaaa14008c9681</td>\n",
       "      <td>What event caused Beyonce's depression?</td>\n",
       "      <td>[(0, 0), (0, 4), (5, 10), (11, 17), (18, 21), ...</td>\n",
       "      <td>[101, 1327, 1856, 2416, 24896, 1320, 2093, 112...</td>\n",
       "      <td>[CLS] What event caused Beyonce's depression? ...</td>\n",
       "      <td>194 / 222</td>\n",
       "      <td>49 / 53</td>\n",
       "      <td>split with Luckett and Rob</td>\n",
       "      <td>split with Luckett and Rober</td>\n",
       "    </tr>\n",
       "    <tr>\n",
       "      <th>1</th>\n",
       "      <td>56be973d3aeaaa14008c9123</td>\n",
       "      <td>How many number one singles did Beyonce now ha...</td>\n",
       "      <td>[(0, 0), (0, 3), (4, 8), (9, 15), (16, 19), (2...</td>\n",
       "      <td>[101, 1731, 1242, 1295, 1141, 3896, 1225, 2489...</td>\n",
       "      <td>[CLS] How many number one singles did Beyonce ...</td>\n",
       "      <td>457 / 460</td>\n",
       "      <td>131 / 129</td>\n",
       "      <td></td>\n",
       "      <td>six</td>\n",
       "    </tr>\n",
       "    <tr>\n",
       "      <th>2</th>\n",
       "      <td>56cbdea66d243a140015edae</td>\n",
       "      <td>At what age did Frédéric start giving public c...</td>\n",
       "      <td>[(0, 0), (0, 2), (3, 7), (8, 11), (12, 15), (1...</td>\n",
       "      <td>[101, 1335, 1184, 1425, 1225, 13359, 2744, 118...</td>\n",
       "      <td>[CLS] At what age did Frédéric start giving pu...</td>\n",
       "      <td>391 / 392</td>\n",
       "      <td>110 / 109</td>\n",
       "      <td>1817</td>\n",
       "      <td>7</td>\n",
       "    </tr>\n",
       "    <tr>\n",
       "      <th>3</th>\n",
       "      <td>56cf609aaab44d1400b89187</td>\n",
       "      <td>At what age did Chopin start playing publicly?</td>\n",
       "      <td>[(0, 0), (0, 2), (3, 7), (8, 11), (12, 15), (1...</td>\n",
       "      <td>[101, 1335, 1184, 1425, 1225, 22964, 6709, 183...</td>\n",
       "      <td>[CLS] At what age did Chopin start playing pub...</td>\n",
       "      <td>391 / 392</td>\n",
       "      <td>106 / 105</td>\n",
       "      <td>1817</td>\n",
       "      <td>7</td>\n",
       "    </tr>\n",
       "    <tr>\n",
       "      <th>4</th>\n",
       "      <td>56d20a6ae7d4791d0090261a</td>\n",
       "      <td>How old was Chopin when he began to perform fo...</td>\n",
       "      <td>[(0, 0), (0, 3), (4, 7), (8, 11), (12, 15), (1...</td>\n",
       "      <td>[101, 1731, 1385, 1108, 22964, 6709, 1165, 111...</td>\n",
       "      <td>[CLS] How old was Chopin when he began to perf...</td>\n",
       "      <td>391 / 392</td>\n",
       "      <td>110 / 109</td>\n",
       "      <td>1817</td>\n",
       "      <td>7</td>\n",
       "    </tr>\n",
       "  </tbody>\n",
       "</table>\n",
       "</div>"
      ],
      "text/plain": [
       "                         ID  \\\n",
       "0  56bf7e603aeaaa14008c9681   \n",
       "1  56be973d3aeaaa14008c9123   \n",
       "2  56cbdea66d243a140015edae   \n",
       "3  56cf609aaab44d1400b89187   \n",
       "4  56d20a6ae7d4791d0090261a   \n",
       "\n",
       "                                            Question  \\\n",
       "0            What event caused Beyonce's depression?   \n",
       "1  How many number one singles did Beyonce now ha...   \n",
       "2  At what age did Frédéric start giving public c...   \n",
       "3     At what age did Chopin start playing publicly?   \n",
       "4  How old was Chopin when he began to perform fo...   \n",
       "\n",
       "                                             Offsets  \\\n",
       "0  [(0, 0), (0, 4), (5, 10), (11, 17), (18, 21), ...   \n",
       "1  [(0, 0), (0, 3), (4, 8), (9, 15), (16, 19), (2...   \n",
       "2  [(0, 0), (0, 2), (3, 7), (8, 11), (12, 15), (1...   \n",
       "3  [(0, 0), (0, 2), (3, 7), (8, 11), (12, 15), (1...   \n",
       "4  [(0, 0), (0, 3), (4, 7), (8, 11), (12, 15), (1...   \n",
       "\n",
       "                                           Input IDs  \\\n",
       "0  [101, 1327, 1856, 2416, 24896, 1320, 2093, 112...   \n",
       "1  [101, 1731, 1242, 1295, 1141, 3896, 1225, 2489...   \n",
       "2  [101, 1335, 1184, 1425, 1225, 13359, 2744, 118...   \n",
       "3  [101, 1335, 1184, 1425, 1225, 22964, 6709, 183...   \n",
       "4  [101, 1731, 1385, 1108, 22964, 6709, 1165, 111...   \n",
       "\n",
       "                                      Tokenized Text Char start/end index  \\\n",
       "0  [CLS] What event caused Beyonce's depression? ...            194 / 222   \n",
       "1  [CLS] How many number one singles did Beyonce ...            457 / 460   \n",
       "2  [CLS] At what age did Frédéric start giving pu...            391 / 392   \n",
       "3  [CLS] At what age did Chopin start playing pub...            391 / 392   \n",
       "4  [CLS] How old was Chopin when he began to perf...            391 / 392   \n",
       "\n",
       "  Token start/end index              Decoded Answer  \\\n",
       "0               49 / 53  split with Luckett and Rob   \n",
       "1             131 / 129                               \n",
       "2             110 / 109                        1817   \n",
       "3             106 / 105                        1817   \n",
       "4             110 / 109                        1817   \n",
       "\n",
       "                  Actual Answer  \n",
       "0  split with Luckett and Rober  \n",
       "1                           six  \n",
       "2                             7  \n",
       "3                             7  \n",
       "4                             7  "
      ]
     },
     "metadata": {},
     "output_type": "display_data"
    }
   ],
   "source": [
    "# Analyse Missmatches\n",
    "mismatches_df = pd.DataFrame(traing_answer_mismatches)\n",
    "print('Total number of miss matches:',global_counter)\n",
    "display(mismatches_df.head(5))  "
   ]
  },
  {
   "cell_type": "code",
   "execution_count": 37,
   "id": "ef820445-4d72-4e2c-95b6-1474bd671825",
   "metadata": {
    "tags": []
   },
   "outputs": [
    {
     "name": "stdout",
     "output_type": "stream",
     "text": [
      "{'id': '56bf7e603aeaaa14008c9681', 'title': 'Beyoncé', 'context': \"LeToya Luckett and Roberson became unhappy with Mathew's managing of the band and eventually were replaced by Farrah Franklin and Michelle Williams. Beyoncé experienced depression following the split with Luckett and Roberson after being publicly blamed by the media, critics, and blogs for its cause. Her long-standing boyfriend left her at this time. The depression was so severe it lasted for a couple of years, during which she occasionally kept herself in her bedroom for days and refused to eat anything. Beyoncé stated that she struggled to speak about her depression because Destiny's Child had just won their first Grammy Award and she feared no one would take her seriously. Beyoncé would later speak of her mother as the person who helped her fight it. Franklin was dismissed, leaving just Beyoncé, Rowland, and Williams.\", 'question': \"What event caused Beyonce's depression?\", 'answers': {'text': ['split with Luckett and Rober'], 'answer_start': [194]}}\n",
      "{'id': '56be973d3aeaaa14008c9123', 'title': 'Beyoncé', 'context': 'At the 52nd Annual Grammy Awards, Beyoncé received ten nominations, including Album of the Year for I Am... Sasha Fierce, Record of the Year for \"Halo\", and Song of the Year for \"Single Ladies (Put a Ring on It)\", among others. She tied with Lauryn Hill for most Grammy nominations in a single year by a female artist. In 2010, Beyoncé was featured on Lady Gaga\\'s single \"Telephone\" and its music video. The song topped the US Pop Songs chart, becoming the sixth number-one for both Beyoncé and Gaga, tying them with Mariah Carey for most number-ones since the Nielsen Top 40 airplay chart launched in 1992. \"Telephone\" received a Grammy Award nomination for Best Pop Collaboration with Vocals.', 'question': 'How many number one singles did Beyonce now have after the song \"Telephone\"?', 'answers': {'text': ['six'], 'answer_start': [457]}}\n",
      "{'id': '56cbdea66d243a140015edae', 'title': 'Frédéric_Chopin', 'context': 'Fryderyk may have had some piano instruction from his mother, but his first professional music tutor, from 1816 to 1821, was the Czech pianist Wojciech Żywny. His elder sister Ludwika also took lessons from Żywny, and occasionally played duets with her brother. It quickly became apparent that he was a child prodigy. By the age of seven Fryderyk had begun giving public concerts, and in 1817 he composed two polonaises, in G minor and B-flat major. His next work, a polonaise in A-flat major of 1821, dedicated to Żywny, is his earliest surviving musical manuscript.', 'question': 'At what age did Frédéric start giving public concerts?', 'answers': {'text': ['7'], 'answer_start': [391]}}\n",
      "{'id': '56cf609aaab44d1400b89187', 'title': 'Frédéric_Chopin', 'context': 'Fryderyk may have had some piano instruction from his mother, but his first professional music tutor, from 1816 to 1821, was the Czech pianist Wojciech Żywny. His elder sister Ludwika also took lessons from Żywny, and occasionally played duets with her brother. It quickly became apparent that he was a child prodigy. By the age of seven Fryderyk had begun giving public concerts, and in 1817 he composed two polonaises, in G minor and B-flat major. His next work, a polonaise in A-flat major of 1821, dedicated to Żywny, is his earliest surviving musical manuscript.', 'question': 'At what age did Chopin start playing publicly?', 'answers': {'text': ['7'], 'answer_start': [391]}}\n",
      "{'id': '56d20a6ae7d4791d0090261a', 'title': 'Frédéric_Chopin', 'context': 'Fryderyk may have had some piano instruction from his mother, but his first professional music tutor, from 1816 to 1821, was the Czech pianist Wojciech Żywny. His elder sister Ludwika also took lessons from Żywny, and occasionally played duets with her brother. It quickly became apparent that he was a child prodigy. By the age of seven Fryderyk had begun giving public concerts, and in 1817 he composed two polonaises, in G minor and B-flat major. His next work, a polonaise in A-flat major of 1821, dedicated to Żywny, is his earliest surviving musical manuscript.', 'question': 'How old was Chopin when he began to perform for the public?', 'answers': {'text': ['7'], 'answer_start': [391]}}\n"
     ]
    }
   ],
   "source": [
    "# List of specific IDs to inspect\n",
    "debug_ids = [\n",
    "    \"56bf7e603aeaaa14008c9681\",\n",
    "    \"56be973d3aeaaa14008c9123\",\n",
    "    \"56cbdea66d243a140015edae\",\n",
    "    \"56cf609aaab44d1400b89187\",\n",
    "    \"56d20a6ae7d4791d0090261a\",    \n",
    "]\n",
    "\n",
    "# Define a function to filter examples by ID and stop processing when all have been found\n",
    "def print_specific_records(dataset):\n",
    "    found_ids = set()  # To track IDs that have been printed\n",
    "    for example in dataset:\n",
    "        if example['id'] in debug_ids:\n",
    "            print(example)\n",
    "            found_ids.add(example['id'])\n",
    "            if found_ids == set(debug_ids):\n",
    "                break  # Stop processing as all requested records have been printed\n",
    "\n",
    "# Apply the function to the full dataset (assuming the dataset is loaded and named full_squad_dataset)\n",
    "print_specific_records(full_squad_dataset['train'])\n"
   ]
  },
  {
   "cell_type": "code",
   "execution_count": 39,
   "id": "fc968279-8568-4118-b11d-f0ecb31141fd",
   "metadata": {
    "tags": []
   },
   "outputs": [
    {
     "name": "stdout",
     "output_type": "stream",
     "text": [
      "Total number of mismatches: 376\n",
      "Original dataset size: 130319\n",
      "Cleaned dataset size: 129944\n"
     ]
    }
   ],
   "source": [
    "# Ensure the mismatches DataFrame is created from non-empty data\n",
    "if traing_answer_mismatches:\n",
    "    mismatches_df = pd.DataFrame(traing_answer_mismatches)\n",
    "    print('Total number of mismatches:', len(mismatches_df))\n",
    "else:\n",
    "    print(\"No mismatches to display. The list is empty.\")\n",
    "\n",
    "def remove_mismatches(dataset, mismatch_ids):\n",
    "    \"\"\"\n",
    "    Filters the dataset to exclude mismatched entries.\n",
    "\n",
    "    Args:\n",
    "        dataset (Dataset): The dataset from which to remove mismatched examples.\n",
    "        mismatch_ids (set): A set of example IDs that have mismatches.\n",
    "\n",
    "    Returns:\n",
    "        Dataset: A dataset with mismatched examples removed.\n",
    "    \"\"\"\n",
    "    # Use a set for faster look-up times\n",
    "    filtered_dataset = dataset.filter(lambda example: example['id'] not in mismatch_ids)\n",
    "    return filtered_dataset\n",
    "\n",
    "# Check if mismatches DataFrame exists and is not empty before removing mismatches\n",
    "if 'traing_answer_mismatches' in locals() and not mismatches_df.empty:\n",
    "    mismatch_ids = set(mismatches_df['ID'])\n",
    "    cleaned_training_dataset = remove_mismatches(squad_raw['train'], mismatch_ids)\n",
    "    print(\"Original dataset size:\", len(squad_raw['train']))\n",
    "    print(\"Cleaned dataset size:\", len(cleaned_training_dataset))\n",
    "else:\n",
    "    print(\"No mismatches found or mismatch data is empty. No filtering applied.\")\n",
    "    cleaned_training_dataset = squad_raw['train']\n"
   ]
  },
  {
   "cell_type": "code",
   "execution_count": 41,
   "id": "eece467f-8f30-45e0-bf0b-5cb27e623f25",
   "metadata": {
    "tags": []
   },
   "outputs": [
    {
     "data": {
      "application/vnd.jupyter.widget-view+json": {
       "model_id": "ff6d72cef53a4542abc4bea5a0650a66",
       "version_major": 2,
       "version_minor": 0
      },
      "text/plain": [
       "Running tokenizer on train dataset:   0%|          | 0/129944 [00:00<?, ? examples/s]"
      ]
     },
     "metadata": {},
     "output_type": "display_data"
    },
    {
     "data": {
      "application/vnd.jupyter.widget-view+json": {
       "model_id": "7b4212119338453ebd92d1b9d07451a0",
       "version_major": 2,
       "version_minor": 0
      },
      "text/plain": [
       "Running tokenizer on validation dataset:   0%|          | 0/11873 [00:00<?, ? examples/s]"
      ]
     },
     "metadata": {},
     "output_type": "display_data"
    }
   ],
   "source": [
    "\n",
    "# Preprocessing the datasets\n",
    "train_dataset = cleaned_training_dataset.map(\n",
    "                preprocess_function,\n",
    "                batched=True,\n",
    "                remove_columns=squad_raw[\"train\"].column_names,\n",
    "                desc=\"Running tokenizer on train dataset\",\n",
    "                load_from_cache_file=False,  # Disable caching\n",
    "            )\n",
    "eval_dataset = squad_raw['validation'].map(\n",
    "                prepare_validation_features,\n",
    "                batched=True,\n",
    "                remove_columns=squad_raw[\"train\"].column_names,\n",
    "                desc=\"Running tokenizer on validation dataset\",\n",
    "                load_from_cache_file=False,  # Disable caching\n",
    "            )\n",
    "eval_examples =  squad_raw[\"validation\"]\n"
   ]
  },
  {
   "cell_type": "code",
   "execution_count": 43,
   "id": "7a7c6b2a-acdc-4768-b777-f581812c70ec",
   "metadata": {
    "tags": []
   },
   "outputs": [
    {
     "name": "stdout",
     "output_type": "stream",
     "text": [
      "Train set size: 130049\n",
      "Validation set size: 11974\n",
      "Validation Examples size: 11873\n"
     ]
    }
   ],
   "source": [
    "# Display the sizes of the splits to confirm\n",
    "print(\"Train set size:\", len(train_dataset))\n",
    "print(\"Validation set size:\", len(eval_dataset))\n",
    "print(\"Validation Examples size:\", len(eval_examples))"
   ]
  },
  {
   "cell_type": "markdown",
   "id": "fc279453-3f28-4aca-996b-f49ee605ce12",
   "metadata": {
    "jp-MarkdownHeadingCollapsed": true,
    "tags": []
   },
   "source": [
    "## 3. Initial Tuning of BERT Model\n"
   ]
  },
  {
   "cell_type": "code",
   "execution_count": 23,
   "id": "727b1cf0-8ec9-4abd-9c43-256e8c6f7299",
   "metadata": {
    "tags": []
   },
   "outputs": [
    {
     "name": "stderr",
     "output_type": "stream",
     "text": [
      "Some weights of BertForQuestionAnswering were not initialized from the model checkpoint at bert-base-cased and are newly initialized: ['qa_outputs.bias', 'qa_outputs.weight']\n",
      "You should probably TRAIN this model on a down-stream task to be able to use it for predictions and inference.\n"
     ]
    },
    {
     "data": {
      "text/html": [
       "Tracking run with wandb version 0.17.0"
      ],
      "text/plain": [
       "<IPython.core.display.HTML object>"
      ]
     },
     "metadata": {},
     "output_type": "display_data"
    },
    {
     "data": {
      "text/html": [
       "Run data is saved locally in <code>C:\\Users\\OEM\\COMPSCI-714\\COMPSCI714 Project\\wandb\\run-20240526_154309-10cjj67b</code>"
      ],
      "text/plain": [
       "<IPython.core.display.HTML object>"
      ]
     },
     "metadata": {},
     "output_type": "display_data"
    },
    {
     "data": {
      "text/html": [
       "Syncing run <strong><a href='https://wandb.ai/COMPSCI714/huggingface/runs/10cjj67b' target=\"_blank\">bert-base-cased-finetune-manual</a></strong> to <a href='https://wandb.ai/COMPSCI714/huggingface' target=\"_blank\">Weights & Biases</a> (<a href='https://wandb.me/run' target=\"_blank\">docs</a>)<br/>"
      ],
      "text/plain": [
       "<IPython.core.display.HTML object>"
      ]
     },
     "metadata": {},
     "output_type": "display_data"
    },
    {
     "data": {
      "text/html": [
       " View project at <a href='https://wandb.ai/COMPSCI714/huggingface' target=\"_blank\">https://wandb.ai/COMPSCI714/huggingface</a>"
      ],
      "text/plain": [
       "<IPython.core.display.HTML object>"
      ]
     },
     "metadata": {},
     "output_type": "display_data"
    },
    {
     "data": {
      "text/html": [
       " View run at <a href='https://wandb.ai/COMPSCI714/huggingface/runs/10cjj67b' target=\"_blank\">https://wandb.ai/COMPSCI714/huggingface/runs/10cjj67b</a>"
      ],
      "text/plain": [
       "<IPython.core.display.HTML object>"
      ]
     },
     "metadata": {},
     "output_type": "display_data"
    },
    {
     "name": "stderr",
     "output_type": "stream",
     "text": [
      "C:\\Users\\OEM\\anaconda3\\envs\\compsci714win\\lib\\site-packages\\transformers\\models\\bert\\modeling_bert.py:435: UserWarning: 1Torch was not compiled with flash attention. (Triggered internally at ..\\aten\\src\\ATen\\native\\transformers\\cuda\\sdp_utils.cpp:455.)\n",
      "  attn_output = torch.nn.functional.scaled_dot_product_attention(\n"
     ]
    },
    {
     "data": {
      "text/html": [
       "\n",
       "    <div>\n",
       "      \n",
       "      <progress value='8160' max='8160' style='width:300px; height:20px; vertical-align: middle;'></progress>\n",
       "      [8160/8160 1:20:53, Epoch 2/2]\n",
       "    </div>\n",
       "    <table border=\"1\" class=\"dataframe\">\n",
       "  <thead>\n",
       " <tr style=\"text-align: left;\">\n",
       "      <th>Epoch</th>\n",
       "      <th>Training Loss</th>\n",
       "      <th>Validation Loss</th>\n",
       "      <th>Exact</th>\n",
       "      <th>F1</th>\n",
       "      <th>Total</th>\n",
       "      <th>Hasans Exact</th>\n",
       "      <th>Hasans F1</th>\n",
       "      <th>Hasans Total</th>\n",
       "      <th>Noans Exact</th>\n",
       "      <th>Noans F1</th>\n",
       "      <th>Noans Total</th>\n",
       "      <th>Best Exact</th>\n",
       "      <th>Best Exact Thresh</th>\n",
       "      <th>Best F1</th>\n",
       "      <th>Best F1 Thresh</th>\n",
       "    </tr>\n",
       "  </thead>\n",
       "  <tbody>\n",
       "    <tr>\n",
       "      <td>1</td>\n",
       "      <td>1.029500</td>\n",
       "      <td>No log</td>\n",
       "      <td>52.716247</td>\n",
       "      <td>67.764357</td>\n",
       "      <td>11873</td>\n",
       "      <td>41.396761</td>\n",
       "      <td>71.536135</td>\n",
       "      <td>5928</td>\n",
       "      <td>64.003364</td>\n",
       "      <td>64.003364</td>\n",
       "      <td>5945</td>\n",
       "      <td>53.465847</td>\n",
       "      <td>0.000000</td>\n",
       "      <td>67.772779</td>\n",
       "      <td>0.000000</td>\n",
       "    </tr>\n",
       "    <tr>\n",
       "      <td>2</td>\n",
       "      <td>0.673900</td>\n",
       "      <td>No log</td>\n",
       "      <td>55.866251</td>\n",
       "      <td>70.884979</td>\n",
       "      <td>11873</td>\n",
       "      <td>41.177463</td>\n",
       "      <td>71.257988</td>\n",
       "      <td>5928</td>\n",
       "      <td>70.513036</td>\n",
       "      <td>70.513036</td>\n",
       "      <td>5945</td>\n",
       "      <td>56.169460</td>\n",
       "      <td>0.000000</td>\n",
       "      <td>70.884979</td>\n",
       "      <td>0.000000</td>\n",
       "    </tr>\n",
       "  </tbody>\n",
       "</table><p>"
      ],
      "text/plain": [
       "<IPython.core.display.HTML object>"
      ]
     },
     "metadata": {},
     "output_type": "display_data"
    },
    {
     "data": {
      "application/vnd.jupyter.widget-view+json": {
       "model_id": "9767d8a9e6924cb6be711f1f15d0370d",
       "version_major": 2,
       "version_minor": 0
      },
      "text/plain": [
       "  0%|          | 0/11873 [00:00<?, ?it/s]"
      ]
     },
     "metadata": {},
     "output_type": "display_data"
    },
    {
     "data": {
      "application/vnd.jupyter.widget-view+json": {
       "model_id": "7a0593a91f614583a8156327eaa5d560",
       "version_major": 2,
       "version_minor": 0
      },
      "text/plain": [
       "  0%|          | 0/11873 [00:00<?, ?it/s]"
      ]
     },
     "metadata": {},
     "output_type": "display_data"
    },
    {
     "data": {
      "text/plain": [
       "TrainOutput(global_step=8160, training_loss=0.9914125863243551, metrics={'train_runtime': 4861.6222, 'train_samples_per_second': 53.704, 'train_steps_per_second': 1.678, 'total_flos': 6.822144762268877e+16, 'train_loss': 0.9914125863243551, 'epoch': 2.0})"
      ]
     },
     "execution_count": 23,
     "metadata": {},
     "output_type": "execute_result"
    }
   ],
   "source": [
    "model = AutoModelForQuestionAnswering.from_pretrained(pretrained_model_name)\n",
    "training_args = TrainingArguments(\n",
    "    output_dir=f'{pretrained_model_name}-finetuned-manual',\n",
    "    overwrite_output_dir = True,\n",
    "    metric_for_best_model='f1',\n",
    "    greater_is_better=True,\n",
    "    load_best_model_at_end=True,\n",
    "    save_total_limit=4, \n",
    "    eval_strategy=\"epoch\",\n",
    "    save_strategy=\"epoch\",\n",
    "    report_to=\"wandb\",  # Enable logging to Weights & Biases\n",
    "    run_name=f\"{pretrained_model_name}-finetune-manual\",  # Optionally set a specific run name    \n",
    "    learning_rate=5e-5,\n",
    "    per_device_train_batch_size=32,\n",
    "    per_device_eval_batch_size=32,\n",
    "    num_train_epochs=2,\n",
    "    weight_decay=0.01,\n",
    ")\n",
    "\n",
    "trainer = QuestionAnsweringTrainer(\n",
    "        model=model,\n",
    "        args=training_args,\n",
    "        train_dataset=train_dataset,\n",
    "        eval_dataset=eval_dataset,\n",
    "        eval_examples=eval_examples,\n",
    "        tokenizer=tokenizer,\n",
    "        data_collator=data_collator,\n",
    "        post_process_function=post_processing_function,\n",
    "        compute_metrics=compute_metrics,\n",
    "        callbacks=[EarlyStoppingCallback(early_stopping_patience=3)],\n",
    ")\n",
    "\n",
    "trainer.train()"
   ]
  },
  {
   "cell_type": "code",
   "execution_count": 24,
   "id": "08ef6c26-2d94-40e4-8df7-fcb21abda901",
   "metadata": {},
   "outputs": [
    {
     "data": {
      "text/html": [
       "\n",
       "    <div>\n",
       "      \n",
       "      <progress value='8160' max='8160' style='width:300px; height:20px; vertical-align: middle;'></progress>\n",
       "      [8160/8160 1:20:56, Epoch 2/2]\n",
       "    </div>\n",
       "    <table border=\"1\" class=\"dataframe\">\n",
       "  <thead>\n",
       " <tr style=\"text-align: left;\">\n",
       "      <th>Epoch</th>\n",
       "      <th>Training Loss</th>\n",
       "      <th>Validation Loss</th>\n",
       "      <th>Exact</th>\n",
       "      <th>F1</th>\n",
       "      <th>Total</th>\n",
       "      <th>Hasans Exact</th>\n",
       "      <th>Hasans F1</th>\n",
       "      <th>Hasans Total</th>\n",
       "      <th>Noans Exact</th>\n",
       "      <th>Noans F1</th>\n",
       "      <th>Noans Total</th>\n",
       "      <th>Best Exact</th>\n",
       "      <th>Best Exact Thresh</th>\n",
       "      <th>Best F1</th>\n",
       "      <th>Best F1 Thresh</th>\n",
       "    </tr>\n",
       "  </thead>\n",
       "  <tbody>\n",
       "    <tr>\n",
       "      <td>1</td>\n",
       "      <td>0.667500</td>\n",
       "      <td>No log</td>\n",
       "      <td>52.092984</td>\n",
       "      <td>67.779827</td>\n",
       "      <td>11873</td>\n",
       "      <td>42.560729</td>\n",
       "      <td>73.979400</td>\n",
       "      <td>5928</td>\n",
       "      <td>61.597981</td>\n",
       "      <td>61.597981</td>\n",
       "      <td>5945</td>\n",
       "      <td>52.615177</td>\n",
       "      <td>0.000000</td>\n",
       "      <td>67.788249</td>\n",
       "      <td>0.000000</td>\n",
       "    </tr>\n",
       "    <tr>\n",
       "      <td>2</td>\n",
       "      <td>0.412400</td>\n",
       "      <td>No log</td>\n",
       "      <td>55.571465</td>\n",
       "      <td>70.988679</td>\n",
       "      <td>11873</td>\n",
       "      <td>40.789474</td>\n",
       "      <td>71.668114</td>\n",
       "      <td>5928</td>\n",
       "      <td>70.311186</td>\n",
       "      <td>70.311186</td>\n",
       "      <td>5945</td>\n",
       "      <td>55.815716</td>\n",
       "      <td>0.000000</td>\n",
       "      <td>70.988679</td>\n",
       "      <td>0.000000</td>\n",
       "    </tr>\n",
       "  </tbody>\n",
       "</table><p>"
      ],
      "text/plain": [
       "<IPython.core.display.HTML object>"
      ]
     },
     "metadata": {},
     "output_type": "display_data"
    },
    {
     "data": {
      "application/vnd.jupyter.widget-view+json": {
       "model_id": "8f196460d5414238a955df01c4645745",
       "version_major": 2,
       "version_minor": 0
      },
      "text/plain": [
       "  0%|          | 0/11873 [00:00<?, ?it/s]"
      ]
     },
     "metadata": {},
     "output_type": "display_data"
    },
    {
     "data": {
      "application/vnd.jupyter.widget-view+json": {
       "model_id": "2b048c8b317542b6bf45486ed8b63086",
       "version_major": 2,
       "version_minor": 0
      },
      "text/plain": [
       "  0%|          | 0/11873 [00:00<?, ?it/s]"
      ]
     },
     "metadata": {},
     "output_type": "display_data"
    },
    {
     "data": {
      "text/plain": [
       "TrainOutput(global_step=8160, training_loss=0.5420088936300839, metrics={'train_runtime': 4857.1372, 'train_samples_per_second': 53.753, 'train_steps_per_second': 1.68, 'total_flos': 6.822144762268877e+16, 'train_loss': 0.5420088936300839, 'epoch': 2.0})"
      ]
     },
     "execution_count": 24,
     "metadata": {},
     "output_type": "execute_result"
    }
   ],
   "source": [
    "trainer.train()"
   ]
  },
  {
   "cell_type": "markdown",
   "id": "b873b0a9-025a-410d-8903-62b01e708aed",
   "metadata": {
    "jp-MarkdownHeadingCollapsed": true,
    "tags": []
   },
   "source": [
    "## 5. Models Tuning Reusable Functions"
   ]
  },
  {
   "cell_type": "code",
   "execution_count": 65,
   "id": "cc958752-42e2-4fe6-ac48-51d1522f6028",
   "metadata": {
    "tags": []
   },
   "outputs": [
    {
     "name": "stdout",
     "output_type": "stream",
     "text": [
      "Train set size: 60000\n",
      "Validation set size: 11873\n"
     ]
    }
   ],
   "source": [
    "Sample_Size = 60000\n",
    "\n",
    "# Load a sample portion of the dataset\n",
    "subset_squad_raw = datasets.DatasetDict({\n",
    "    'train': cleaned_training_dataset.shuffle(seed=42).select(range(Sample_Size)),\n",
    "    'validation': full_squad_dataset['validation']\n",
    "})\n",
    "    \n",
    "# Display the sizes of the splits to confirm\n",
    "print(\"Train set size:\", len(subset_squad_raw['train']))\n",
    "print(\"Validation set size:\", len(subset_squad_raw['validation']))\n",
    "squad_raw\n",
    "\n",
    "# Preprocessing the datasets\n",
    "eval_examples =  subset_squad_raw[\"validation\"]\n"
   ]
  },
  {
   "cell_type": "code",
   "execution_count": 55,
   "id": "b030f563-13a3-447d-be0d-15562b8a15c1",
   "metadata": {},
   "outputs": [],
   "source": [
    "class AdvancedEarlyStoppingCallback(TrainerCallback):\n",
    "    \"\"\"\n",
    "    A callback to stop training when either the performance falls below a certain threshold\n",
    "    or if there is no improvement over a set number of epochs.\n",
    "    \"\"\"\n",
    "    def __init__(self, metric_name, patience, threshold):\n",
    "        self.metric_name = metric_name\n",
    "        self.patience = patience\n",
    "        self.threshold = threshold\n",
    "        self.best_score = None\n",
    "        self.no_improve_epochs = 0\n",
    "\n",
    "    def on_evaluate(self, args, state, control, **kwargs):\n",
    "        metric_value = kwargs['metrics'].get(self.metric_name)\n",
    "\n",
    "        if self.best_score is None or metric_value > self.best_score:\n",
    "            self.best_score = metric_value\n",
    "            self.no_improve_epochs = 0\n",
    "        else:\n",
    "            self.no_improve_epochs += 1\n",
    "\n",
    "        # Check if performance is below the threshold\n",
    "        if metric_value < self.threshold:\n",
    "            control.should_training_stop = True\n",
    "            print(f\"Stopping training: {self.metric_name} below threshold of {self.threshold}\")\n",
    "\n",
    "        # Check if no improvement has been seen over the allowed patience\n",
    "        if self.no_improve_epochs >= self.patience:\n",
    "            control.should_training_stop = True\n",
    "            print(f\"Stopping training: No improvement in {self.metric_name} for {self.patience} epochs\")\n"
   ]
  },
  {
   "cell_type": "code",
   "execution_count": 77,
   "id": "581d57f6-426f-4727-b25a-92a91cb0d877",
   "metadata": {},
   "outputs": [],
   "source": [
    "# Define model initialization function\n",
    "def model_init():\n",
    "    return AutoModelForQuestionAnswering.from_pretrained(pretrained_model_name)\n",
    "\n",
    "# Define train dataset initialization function\n",
    "def train_dataset_init():\n",
    "    return subset_squad_raw['train'].map(\n",
    "                preprocess_function,\n",
    "                batched=True,\n",
    "                remove_columns=subset_squad_raw[\"train\"].column_names,\n",
    "                desc=\"Running tokenizer on train dataset\",\n",
    "            )\n",
    "\n",
    "# Define validation dataset initialization function\n",
    "def vald_dataset_init():\n",
    "    return subset_squad_raw['validation'].map(\n",
    "                prepare_validation_features,\n",
    "                batched=True,\n",
    "                remove_columns=subset_squad_raw[\"train\"].column_names,\n",
    "                desc=\"Running tokenizer on validation dataset\",\n",
    "            )\n",
    "\n",
    "# Optuna objective function for hyperparameter tuning\n",
    "def objective(trial):\n",
    "    # Hyperparameters to tune    \n",
    "    learning_rate = trial.suggest_float('learning_rate', 1e-7, 1e-4, log=True)\n",
    "    batch_size = trial.suggest_categorical('batch_size', [16, 32, 64])\n",
    "    warmup_steps = trial.suggest_int('warmup_steps', 0, 1000)\n",
    "    weight_decay = trial.suggest_float('weight_decay', 0.01, 0.25)\n",
    "    adam_beta1 = trial.suggest_float('adam_beta1', 0.8, 0.95)\n",
    "    adam_beta2 = trial.suggest_float('adam_beta2', 0.990, 0.999)\n",
    "    adam_epsilon = trial.suggest_float('adam_epsilon', 1e-8, 1e-6)\n",
    "    lr_scheduler_type = trial.suggest_categorical('lr_scheduler_type', ['linear', 'cosine', 'cosine_with_restarts','constant_with_warmup'])\n",
    "    output_dir = f\"./{normalized_model_name}-finetuned-squadv2/trial_{trial.number}\"\n",
    "    \n",
    "    #global global_doc_stride\n",
    "    #global_doc_stride=trial.suggest_int('doc_stride', 128, 256, step=64)\n",
    "\n",
    "    # Print trial parameters\n",
    "    print(f\"Current Trial {trial.number} parameters: {trial.params}\")\n",
    "    \n",
    "    # Training arguments\n",
    "    training_args = TrainingArguments(\n",
    "        output_dir=output_dir,\n",
    "        overwrite_output_dir = True,\n",
    "        metric_for_best_model='f1',\n",
    "        greater_is_better=True,\n",
    "        load_best_model_at_end=True,\n",
    "        save_total_limit=2, # Save only the best model unless you specify a different number\n",
    "        eval_strategy=\"epoch\",\n",
    "        save_strategy=\"epoch\",\n",
    "        num_train_epochs=3,  # Adjust based on computation limits\n",
    "        report_to=\"wandb\",  # Enable logging to Weights & Biases        \n",
    "        run_name=f\"{normalized_model_name}-finetune-squadv2\",  # Optionally set a specific run name    \n",
    "        learning_rate=learning_rate,\n",
    "        per_device_train_batch_size=batch_size,\n",
    "        per_device_eval_batch_size=batch_size,\n",
    "        warmup_steps=warmup_steps,\n",
    "        weight_decay=weight_decay,\n",
    "        adam_beta1=adam_beta1,\n",
    "        adam_beta2=adam_beta2,\n",
    "        adam_epsilon=adam_epsilon,\n",
    "        lr_scheduler_type=lr_scheduler_type,\n",
    "        fp16=True,  # Enable mixed-precision training\n",
    "    )    \n",
    "\n",
    "    trainer = QuestionAnsweringTrainer(\n",
    "        model=model_init(),\n",
    "        tokenizer=tokenizer,\n",
    "        args=training_args,\n",
    "        train_dataset=train_dataset_init(),\n",
    "        eval_dataset=vald_dataset_init(),\n",
    "        eval_examples=eval_examples,        \n",
    "        data_collator=data_collator,\n",
    "        post_process_function=post_processing_function,\n",
    "        compute_metrics=compute_metrics,\n",
    "        #callbacks=[EarlyStoppingCallback(early_stopping_patience=1)],\n",
    "        callbacks=[AdvancedEarlyStoppingCallback(metric_name='eval_f1', patience=1, threshold=40)]\n",
    "    )  \n",
    "    \n",
    "\n",
    "    # Train the model\n",
    "    trainer.train()\n",
    "\n",
    "    # Evaluate the model\n",
    "    eval_results = trainer.evaluate()\n",
    "    #print(\"Evaluation results:\", eval_results)  # Debug print\n",
    "    return eval_results['eval_f1']\n"
   ]
  },
  {
   "cell_type": "markdown",
   "id": "60deff21-c846-44f7-8129-8ed3e78d39d4",
   "metadata": {
    "jp-MarkdownHeadingCollapsed": true,
    "tags": []
   },
   "source": [
    "## 6. Hyperparameters Search for BERT Model\n"
   ]
  },
  {
   "cell_type": "code",
   "execution_count": 82,
   "id": "473be192-e1e9-4931-b591-35f9e4a20dfc",
   "metadata": {},
   "outputs": [
    {
     "name": "stderr",
     "output_type": "stream",
     "text": [
      "[I 2024-05-26 22:47:58,761] A new study created in memory with name: no-name-dec054a1-5aa0-483c-a828-3a8198e82f1a\n"
     ]
    },
    {
     "name": "stdout",
     "output_type": "stream",
     "text": [
      "Current Trial 0 parameters: {'learning_rate': 2.8895616704837976e-06, 'batch_size': 32, 'warmup_steps': 861, 'weight_decay': 0.197267375250397, 'adam_beta1': 0.9105565192513869, 'adam_beta2': 0.9965905541309563, 'adam_epsilon': 5.360504619784085e-07, 'lr_scheduler_type': 'constant_with_warmup'}\n"
     ]
    },
    {
     "name": "stderr",
     "output_type": "stream",
     "text": [
      "Some weights of BertForQuestionAnswering were not initialized from the model checkpoint at bert-base-cased and are newly initialized: ['qa_outputs.bias', 'qa_outputs.weight']\n",
      "You should probably TRAIN this model on a down-stream task to be able to use it for predictions and inference.\n"
     ]
    },
    {
     "data": {
      "application/vnd.jupyter.widget-view+json": {
       "model_id": "e44f2ebf2c0f4ac58687612cc56e3263",
       "version_major": 2,
       "version_minor": 0
      },
      "text/plain": [
       "Running tokenizer on train dataset:   0%|          | 0/60000 [00:00<?, ? examples/s]"
      ]
     },
     "metadata": {},
     "output_type": "display_data"
    },
    {
     "data": {
      "text/html": [
       "\n",
       "    <div>\n",
       "      \n",
       "      <progress value='5631' max='5631' style='width:300px; height:20px; vertical-align: middle;'></progress>\n",
       "      [5631/5631 27:24, Epoch 3/3]\n",
       "    </div>\n",
       "    <table border=\"1\" class=\"dataframe\">\n",
       "  <thead>\n",
       " <tr style=\"text-align: left;\">\n",
       "      <th>Epoch</th>\n",
       "      <th>Training Loss</th>\n",
       "      <th>Validation Loss</th>\n",
       "      <th>Exact</th>\n",
       "      <th>F1</th>\n",
       "      <th>Total</th>\n",
       "      <th>Hasans Exact</th>\n",
       "      <th>Hasans F1</th>\n",
       "      <th>Hasans Total</th>\n",
       "      <th>Noans Exact</th>\n",
       "      <th>Noans F1</th>\n",
       "      <th>Noans Total</th>\n",
       "      <th>Best Exact</th>\n",
       "      <th>Best Exact Thresh</th>\n",
       "      <th>Best F1</th>\n",
       "      <th>Best F1 Thresh</th>\n",
       "    </tr>\n",
       "  </thead>\n",
       "  <tbody>\n",
       "    <tr>\n",
       "      <td>1</td>\n",
       "      <td>2.318800</td>\n",
       "      <td>No log</td>\n",
       "      <td>36.646172</td>\n",
       "      <td>45.516460</td>\n",
       "      <td>11873</td>\n",
       "      <td>22.925101</td>\n",
       "      <td>40.691115</td>\n",
       "      <td>5928</td>\n",
       "      <td>50.328007</td>\n",
       "      <td>50.328007</td>\n",
       "      <td>5945</td>\n",
       "      <td>50.096858</td>\n",
       "      <td>0.000000</td>\n",
       "      <td>50.096858</td>\n",
       "      <td>0.000000</td>\n",
       "    </tr>\n",
       "    <tr>\n",
       "      <td>2</td>\n",
       "      <td>1.700100</td>\n",
       "      <td>No log</td>\n",
       "      <td>44.310621</td>\n",
       "      <td>55.559279</td>\n",
       "      <td>11873</td>\n",
       "      <td>30.296896</td>\n",
       "      <td>52.826472</td>\n",
       "      <td>5928</td>\n",
       "      <td>58.284272</td>\n",
       "      <td>58.284272</td>\n",
       "      <td>5945</td>\n",
       "      <td>50.096858</td>\n",
       "      <td>0.000000</td>\n",
       "      <td>55.835714</td>\n",
       "      <td>0.000000</td>\n",
       "    </tr>\n",
       "    <tr>\n",
       "      <td>3</td>\n",
       "      <td>1.483500</td>\n",
       "      <td>No log</td>\n",
       "      <td>41.927061</td>\n",
       "      <td>55.507553</td>\n",
       "      <td>11873</td>\n",
       "      <td>36.842105</td>\n",
       "      <td>64.042034</td>\n",
       "      <td>5928</td>\n",
       "      <td>46.997477</td>\n",
       "      <td>46.997477</td>\n",
       "      <td>5945</td>\n",
       "      <td>50.096858</td>\n",
       "      <td>0.000000</td>\n",
       "      <td>55.664693</td>\n",
       "      <td>0.000000</td>\n",
       "    </tr>\n",
       "  </tbody>\n",
       "</table><p>"
      ],
      "text/plain": [
       "<IPython.core.display.HTML object>"
      ]
     },
     "metadata": {},
     "output_type": "display_data"
    },
    {
     "data": {
      "application/vnd.jupyter.widget-view+json": {
       "model_id": "99c2e7cc4a7f41f9b4a74980755dd539",
       "version_major": 2,
       "version_minor": 0
      },
      "text/plain": [
       "  0%|          | 0/11873 [00:00<?, ?it/s]"
      ]
     },
     "metadata": {},
     "output_type": "display_data"
    },
    {
     "data": {
      "application/vnd.jupyter.widget-view+json": {
       "model_id": "b9f0f8a72f39464a8d590622aa7a1c8c",
       "version_major": 2,
       "version_minor": 0
      },
      "text/plain": [
       "  0%|          | 0/11873 [00:00<?, ?it/s]"
      ]
     },
     "metadata": {},
     "output_type": "display_data"
    },
    {
     "data": {
      "application/vnd.jupyter.widget-view+json": {
       "model_id": "63b05b9c8ab84520a737b7c55242125f",
       "version_major": 2,
       "version_minor": 0
      },
      "text/plain": [
       "  0%|          | 0/11873 [00:00<?, ?it/s]"
      ]
     },
     "metadata": {},
     "output_type": "display_data"
    },
    {
     "name": "stdout",
     "output_type": "stream",
     "text": [
      "Stopping training: No improvement in eval_f1 for 1 epochs\n"
     ]
    },
    {
     "data": {
      "text/html": [
       "\n",
       "    <div>\n",
       "      \n",
       "      <progress value='375' max='375' style='width:300px; height:20px; vertical-align: middle;'></progress>\n",
       "      [375/375 00:30]\n",
       "    </div>\n",
       "    "
      ],
      "text/plain": [
       "<IPython.core.display.HTML object>"
      ]
     },
     "metadata": {},
     "output_type": "display_data"
    },
    {
     "data": {
      "application/vnd.jupyter.widget-view+json": {
       "model_id": "2dfdfe91b3af478da137bbc62086ce82",
       "version_major": 2,
       "version_minor": 0
      },
      "text/plain": [
       "  0%|          | 0/11873 [00:00<?, ?it/s]"
      ]
     },
     "metadata": {},
     "output_type": "display_data"
    },
    {
     "name": "stdout",
     "output_type": "stream",
     "text": [
      "Stopping training: No improvement in eval_f1 for 1 epochs\n"
     ]
    },
    {
     "name": "stderr",
     "output_type": "stream",
     "text": [
      "[I 2024-05-26 23:16:42,812] Trial 0 finished with value: 55.559279401611526 and parameters: {'learning_rate': 2.8895616704837976e-06, 'batch_size': 32, 'warmup_steps': 861, 'weight_decay': 0.197267375250397, 'adam_beta1': 0.9105565192513869, 'adam_beta2': 0.9965905541309563, 'adam_epsilon': 5.360504619784085e-07, 'lr_scheduler_type': 'constant_with_warmup'}. Best is trial 0 with value: 55.559279401611526.\n"
     ]
    },
    {
     "name": "stdout",
     "output_type": "stream",
     "text": [
      "Current Trial 1 parameters: {'learning_rate': 3.3317262390422633e-06, 'batch_size': 16, 'warmup_steps': 443, 'weight_decay': 0.2395289014748998, 'adam_beta1': 0.9314702937622692, 'adam_beta2': 0.9954068855733819, 'adam_epsilon': 8.895442680688017e-08, 'lr_scheduler_type': 'constant_with_warmup'}\n"
     ]
    },
    {
     "name": "stderr",
     "output_type": "stream",
     "text": [
      "Some weights of BertForQuestionAnswering were not initialized from the model checkpoint at bert-base-cased and are newly initialized: ['qa_outputs.bias', 'qa_outputs.weight']\n",
      "You should probably TRAIN this model on a down-stream task to be able to use it for predictions and inference.\n"
     ]
    },
    {
     "data": {
      "text/html": [
       "\n",
       "    <div>\n",
       "      \n",
       "      <progress value='11259' max='11259' style='width:300px; height:20px; vertical-align: middle;'></progress>\n",
       "      [11259/11259 29:29, Epoch 3/3]\n",
       "    </div>\n",
       "    <table border=\"1\" class=\"dataframe\">\n",
       "  <thead>\n",
       " <tr style=\"text-align: left;\">\n",
       "      <th>Epoch</th>\n",
       "      <th>Training Loss</th>\n",
       "      <th>Validation Loss</th>\n",
       "      <th>Exact</th>\n",
       "      <th>F1</th>\n",
       "      <th>Total</th>\n",
       "      <th>Hasans Exact</th>\n",
       "      <th>Hasans F1</th>\n",
       "      <th>Hasans Total</th>\n",
       "      <th>Noans Exact</th>\n",
       "      <th>Noans F1</th>\n",
       "      <th>Noans Total</th>\n",
       "      <th>Best Exact</th>\n",
       "      <th>Best Exact Thresh</th>\n",
       "      <th>Best F1</th>\n",
       "      <th>Best F1 Thresh</th>\n",
       "    </tr>\n",
       "  </thead>\n",
       "  <tbody>\n",
       "    <tr>\n",
       "      <td>1</td>\n",
       "      <td>1.756400</td>\n",
       "      <td>No log</td>\n",
       "      <td>38.911817</td>\n",
       "      <td>51.879110</td>\n",
       "      <td>11873</td>\n",
       "      <td>34.227395</td>\n",
       "      <td>60.199169</td>\n",
       "      <td>5928</td>\n",
       "      <td>43.582843</td>\n",
       "      <td>43.582843</td>\n",
       "      <td>5945</td>\n",
       "      <td>50.096858</td>\n",
       "      <td>0.000000</td>\n",
       "      <td>52.286693</td>\n",
       "      <td>0.000000</td>\n",
       "    </tr>\n",
       "    <tr>\n",
       "      <td>2</td>\n",
       "      <td>1.369500</td>\n",
       "      <td>No log</td>\n",
       "      <td>47.182683</td>\n",
       "      <td>60.831803</td>\n",
       "      <td>11873</td>\n",
       "      <td>35.711876</td>\n",
       "      <td>63.049258</td>\n",
       "      <td>5928</td>\n",
       "      <td>58.620690</td>\n",
       "      <td>58.620690</td>\n",
       "      <td>5945</td>\n",
       "      <td>50.096858</td>\n",
       "      <td>0.000000</td>\n",
       "      <td>60.840226</td>\n",
       "      <td>0.000000</td>\n",
       "    </tr>\n",
       "    <tr>\n",
       "      <td>3</td>\n",
       "      <td>1.237700</td>\n",
       "      <td>No log</td>\n",
       "      <td>44.293776</td>\n",
       "      <td>59.279692</td>\n",
       "      <td>11873</td>\n",
       "      <td>39.642375</td>\n",
       "      <td>69.657183</td>\n",
       "      <td>5928</td>\n",
       "      <td>48.931876</td>\n",
       "      <td>48.931876</td>\n",
       "      <td>5945</td>\n",
       "      <td>50.096858</td>\n",
       "      <td>0.000000</td>\n",
       "      <td>59.304959</td>\n",
       "      <td>0.000000</td>\n",
       "    </tr>\n",
       "  </tbody>\n",
       "</table><p>"
      ],
      "text/plain": [
       "<IPython.core.display.HTML object>"
      ]
     },
     "metadata": {},
     "output_type": "display_data"
    },
    {
     "data": {
      "application/vnd.jupyter.widget-view+json": {
       "model_id": "3368c77d9d364c41ae7fa4ad7373a774",
       "version_major": 2,
       "version_minor": 0
      },
      "text/plain": [
       "  0%|          | 0/11873 [00:00<?, ?it/s]"
      ]
     },
     "metadata": {},
     "output_type": "display_data"
    },
    {
     "data": {
      "application/vnd.jupyter.widget-view+json": {
       "model_id": "fe378860a05e4909af0a9502d3247f67",
       "version_major": 2,
       "version_minor": 0
      },
      "text/plain": [
       "  0%|          | 0/11873 [00:00<?, ?it/s]"
      ]
     },
     "metadata": {},
     "output_type": "display_data"
    },
    {
     "data": {
      "application/vnd.jupyter.widget-view+json": {
       "model_id": "05e96bc3b2a84b2a87f9c489af9ecd91",
       "version_major": 2,
       "version_minor": 0
      },
      "text/plain": [
       "  0%|          | 0/11873 [00:00<?, ?it/s]"
      ]
     },
     "metadata": {},
     "output_type": "display_data"
    },
    {
     "name": "stdout",
     "output_type": "stream",
     "text": [
      "Stopping training: No improvement in eval_f1 for 1 epochs\n"
     ]
    },
    {
     "data": {
      "text/html": [
       "\n",
       "    <div>\n",
       "      \n",
       "      <progress value='749' max='749' style='width:300px; height:20px; vertical-align: middle;'></progress>\n",
       "      [749/749 00:29]\n",
       "    </div>\n",
       "    "
      ],
      "text/plain": [
       "<IPython.core.display.HTML object>"
      ]
     },
     "metadata": {},
     "output_type": "display_data"
    },
    {
     "data": {
      "application/vnd.jupyter.widget-view+json": {
       "model_id": "dac174f82fd04e6eaa0151e97dab733a",
       "version_major": 2,
       "version_minor": 0
      },
      "text/plain": [
       "  0%|          | 0/11873 [00:00<?, ?it/s]"
      ]
     },
     "metadata": {},
     "output_type": "display_data"
    },
    {
     "name": "stdout",
     "output_type": "stream",
     "text": [
      "Stopping training: No improvement in eval_f1 for 1 epochs\n"
     ]
    },
    {
     "name": "stderr",
     "output_type": "stream",
     "text": [
      "[I 2024-05-26 23:47:16,836] Trial 1 finished with value: 60.831803292632145 and parameters: {'learning_rate': 3.3317262390422633e-06, 'batch_size': 16, 'warmup_steps': 443, 'weight_decay': 0.2395289014748998, 'adam_beta1': 0.9314702937622692, 'adam_beta2': 0.9954068855733819, 'adam_epsilon': 8.895442680688017e-08, 'lr_scheduler_type': 'constant_with_warmup'}. Best is trial 1 with value: 60.831803292632145.\n"
     ]
    },
    {
     "name": "stdout",
     "output_type": "stream",
     "text": [
      "Current Trial 2 parameters: {'learning_rate': 9.610315082349156e-06, 'batch_size': 16, 'warmup_steps': 70, 'weight_decay': 0.02229216388298138, 'adam_beta1': 0.8341249903812974, 'adam_beta2': 0.9918099833530545, 'adam_epsilon': 6.981765861025366e-07, 'lr_scheduler_type': 'linear'}\n"
     ]
    },
    {
     "name": "stderr",
     "output_type": "stream",
     "text": [
      "Some weights of BertForQuestionAnswering were not initialized from the model checkpoint at bert-base-cased and are newly initialized: ['qa_outputs.bias', 'qa_outputs.weight']\n",
      "You should probably TRAIN this model on a down-stream task to be able to use it for predictions and inference.\n"
     ]
    },
    {
     "data": {
      "text/html": [
       "\n",
       "    <div>\n",
       "      \n",
       "      <progress value='11259' max='11259' style='width:300px; height:20px; vertical-align: middle;'></progress>\n",
       "      [11259/11259 29:13, Epoch 3/3]\n",
       "    </div>\n",
       "    <table border=\"1\" class=\"dataframe\">\n",
       "  <thead>\n",
       " <tr style=\"text-align: left;\">\n",
       "      <th>Epoch</th>\n",
       "      <th>Training Loss</th>\n",
       "      <th>Validation Loss</th>\n",
       "      <th>Exact</th>\n",
       "      <th>F1</th>\n",
       "      <th>Total</th>\n",
       "      <th>Hasans Exact</th>\n",
       "      <th>Hasans F1</th>\n",
       "      <th>Hasans Total</th>\n",
       "      <th>Noans Exact</th>\n",
       "      <th>Noans F1</th>\n",
       "      <th>Noans Total</th>\n",
       "      <th>Best Exact</th>\n",
       "      <th>Best Exact Thresh</th>\n",
       "      <th>Best F1</th>\n",
       "      <th>Best F1 Thresh</th>\n",
       "    </tr>\n",
       "  </thead>\n",
       "  <tbody>\n",
       "    <tr>\n",
       "      <td>1</td>\n",
       "      <td>1.420400</td>\n",
       "      <td>No log</td>\n",
       "      <td>43.645246</td>\n",
       "      <td>58.093403</td>\n",
       "      <td>11873</td>\n",
       "      <td>38.613360</td>\n",
       "      <td>67.551109</td>\n",
       "      <td>5928</td>\n",
       "      <td>48.662742</td>\n",
       "      <td>48.662742</td>\n",
       "      <td>5945</td>\n",
       "      <td>50.096858</td>\n",
       "      <td>0.000000</td>\n",
       "      <td>58.108376</td>\n",
       "      <td>0.000000</td>\n",
       "    </tr>\n",
       "    <tr>\n",
       "      <td>2</td>\n",
       "      <td>1.115700</td>\n",
       "      <td>No log</td>\n",
       "      <td>51.815043</td>\n",
       "      <td>65.630159</td>\n",
       "      <td>11873</td>\n",
       "      <td>36.066127</td>\n",
       "      <td>63.735977</td>\n",
       "      <td>5928</td>\n",
       "      <td>67.518923</td>\n",
       "      <td>67.518923</td>\n",
       "      <td>5945</td>\n",
       "      <td>52.429883</td>\n",
       "      <td>0.000000</td>\n",
       "      <td>65.630159</td>\n",
       "      <td>0.000000</td>\n",
       "    </tr>\n",
       "    <tr>\n",
       "      <td>3</td>\n",
       "      <td>0.982400</td>\n",
       "      <td>No log</td>\n",
       "      <td>51.478144</td>\n",
       "      <td>65.714881</td>\n",
       "      <td>11873</td>\n",
       "      <td>38.292848</td>\n",
       "      <td>66.807150</td>\n",
       "      <td>5928</td>\n",
       "      <td>64.625736</td>\n",
       "      <td>64.625736</td>\n",
       "      <td>5945</td>\n",
       "      <td>52.109829</td>\n",
       "      <td>0.000000</td>\n",
       "      <td>65.706459</td>\n",
       "      <td>0.000000</td>\n",
       "    </tr>\n",
       "  </tbody>\n",
       "</table><p>"
      ],
      "text/plain": [
       "<IPython.core.display.HTML object>"
      ]
     },
     "metadata": {},
     "output_type": "display_data"
    },
    {
     "data": {
      "application/vnd.jupyter.widget-view+json": {
       "model_id": "c624b1ad34914c9286cd7834df766160",
       "version_major": 2,
       "version_minor": 0
      },
      "text/plain": [
       "  0%|          | 0/11873 [00:00<?, ?it/s]"
      ]
     },
     "metadata": {},
     "output_type": "display_data"
    },
    {
     "data": {
      "application/vnd.jupyter.widget-view+json": {
       "model_id": "4317931235194292a3fccaaa30565a6c",
       "version_major": 2,
       "version_minor": 0
      },
      "text/plain": [
       "  0%|          | 0/11873 [00:00<?, ?it/s]"
      ]
     },
     "metadata": {},
     "output_type": "display_data"
    },
    {
     "data": {
      "application/vnd.jupyter.widget-view+json": {
       "model_id": "2e4acebbb9df439a89ca2da0fe8b4f4b",
       "version_major": 2,
       "version_minor": 0
      },
      "text/plain": [
       "  0%|          | 0/11873 [00:00<?, ?it/s]"
      ]
     },
     "metadata": {},
     "output_type": "display_data"
    },
    {
     "data": {
      "text/html": [
       "\n",
       "    <div>\n",
       "      \n",
       "      <progress value='749' max='749' style='width:300px; height:20px; vertical-align: middle;'></progress>\n",
       "      [749/749 00:29]\n",
       "    </div>\n",
       "    "
      ],
      "text/plain": [
       "<IPython.core.display.HTML object>"
      ]
     },
     "metadata": {},
     "output_type": "display_data"
    },
    {
     "data": {
      "application/vnd.jupyter.widget-view+json": {
       "model_id": "38c058c8e19040d489ed39a50416af40",
       "version_major": 2,
       "version_minor": 0
      },
      "text/plain": [
       "  0%|          | 0/11873 [00:00<?, ?it/s]"
      ]
     },
     "metadata": {},
     "output_type": "display_data"
    },
    {
     "name": "stdout",
     "output_type": "stream",
     "text": [
      "Stopping training: No improvement in eval_f1 for 1 epochs\n"
     ]
    },
    {
     "name": "stderr",
     "output_type": "stream",
     "text": [
      "[I 2024-05-27 00:17:34,949] Trial 2 finished with value: 65.71488138575606 and parameters: {'learning_rate': 9.610315082349156e-06, 'batch_size': 16, 'warmup_steps': 70, 'weight_decay': 0.02229216388298138, 'adam_beta1': 0.8341249903812974, 'adam_beta2': 0.9918099833530545, 'adam_epsilon': 6.981765861025366e-07, 'lr_scheduler_type': 'linear'}. Best is trial 2 with value: 65.71488138575606.\n"
     ]
    },
    {
     "name": "stdout",
     "output_type": "stream",
     "text": [
      "Current Trial 3 parameters: {'learning_rate': 3.257002507875358e-06, 'batch_size': 16, 'warmup_steps': 226, 'weight_decay': 0.22605457772789392, 'adam_beta1': 0.9256993417064603, 'adam_beta2': 0.9978072445101214, 'adam_epsilon': 5.964676983840752e-07, 'lr_scheduler_type': 'constant_with_warmup'}\n"
     ]
    },
    {
     "name": "stderr",
     "output_type": "stream",
     "text": [
      "Some weights of BertForQuestionAnswering were not initialized from the model checkpoint at bert-base-cased and are newly initialized: ['qa_outputs.bias', 'qa_outputs.weight']\n",
      "You should probably TRAIN this model on a down-stream task to be able to use it for predictions and inference.\n"
     ]
    },
    {
     "data": {
      "text/html": [
       "\n",
       "    <div>\n",
       "      \n",
       "      <progress value='11259' max='11259' style='width:300px; height:20px; vertical-align: middle;'></progress>\n",
       "      [11259/11259 29:24, Epoch 3/3]\n",
       "    </div>\n",
       "    <table border=\"1\" class=\"dataframe\">\n",
       "  <thead>\n",
       " <tr style=\"text-align: left;\">\n",
       "      <th>Epoch</th>\n",
       "      <th>Training Loss</th>\n",
       "      <th>Validation Loss</th>\n",
       "      <th>Exact</th>\n",
       "      <th>F1</th>\n",
       "      <th>Total</th>\n",
       "      <th>Hasans Exact</th>\n",
       "      <th>Hasans F1</th>\n",
       "      <th>Hasans Total</th>\n",
       "      <th>Noans Exact</th>\n",
       "      <th>Noans F1</th>\n",
       "      <th>Noans Total</th>\n",
       "      <th>Best Exact</th>\n",
       "      <th>Best Exact Thresh</th>\n",
       "      <th>Best F1</th>\n",
       "      <th>Best F1 Thresh</th>\n",
       "    </tr>\n",
       "  </thead>\n",
       "  <tbody>\n",
       "    <tr>\n",
       "      <td>1</td>\n",
       "      <td>1.753900</td>\n",
       "      <td>No log</td>\n",
       "      <td>38.852859</td>\n",
       "      <td>51.811450</td>\n",
       "      <td>11873</td>\n",
       "      <td>34.092443</td>\n",
       "      <td>60.046786</td>\n",
       "      <td>5928</td>\n",
       "      <td>43.599664</td>\n",
       "      <td>43.599664</td>\n",
       "      <td>5945</td>\n",
       "      <td>50.096858</td>\n",
       "      <td>0.000000</td>\n",
       "      <td>52.143811</td>\n",
       "      <td>0.000000</td>\n",
       "    </tr>\n",
       "    <tr>\n",
       "      <td>2</td>\n",
       "      <td>1.370900</td>\n",
       "      <td>No log</td>\n",
       "      <td>46.753137</td>\n",
       "      <td>60.534282</td>\n",
       "      <td>11873</td>\n",
       "      <td>35.576923</td>\n",
       "      <td>63.178734</td>\n",
       "      <td>5928</td>\n",
       "      <td>57.897393</td>\n",
       "      <td>57.897393</td>\n",
       "      <td>5945</td>\n",
       "      <td>50.096858</td>\n",
       "      <td>0.000000</td>\n",
       "      <td>60.542705</td>\n",
       "      <td>0.000000</td>\n",
       "    </tr>\n",
       "    <tr>\n",
       "      <td>3</td>\n",
       "      <td>1.242400</td>\n",
       "      <td>No log</td>\n",
       "      <td>44.706477</td>\n",
       "      <td>59.603747</td>\n",
       "      <td>11873</td>\n",
       "      <td>39.507422</td>\n",
       "      <td>69.344684</td>\n",
       "      <td>5928</td>\n",
       "      <td>49.890664</td>\n",
       "      <td>49.890664</td>\n",
       "      <td>5945</td>\n",
       "      <td>50.096858</td>\n",
       "      <td>0.000000</td>\n",
       "      <td>59.637258</td>\n",
       "      <td>0.000000</td>\n",
       "    </tr>\n",
       "  </tbody>\n",
       "</table><p>"
      ],
      "text/plain": [
       "<IPython.core.display.HTML object>"
      ]
     },
     "metadata": {},
     "output_type": "display_data"
    },
    {
     "data": {
      "application/vnd.jupyter.widget-view+json": {
       "model_id": "1355abe330d5403c91e0ad0d32c3bb0c",
       "version_major": 2,
       "version_minor": 0
      },
      "text/plain": [
       "  0%|          | 0/11873 [00:00<?, ?it/s]"
      ]
     },
     "metadata": {},
     "output_type": "display_data"
    },
    {
     "data": {
      "application/vnd.jupyter.widget-view+json": {
       "model_id": "89850bbad1a243189f7f547f291f7735",
       "version_major": 2,
       "version_minor": 0
      },
      "text/plain": [
       "  0%|          | 0/11873 [00:00<?, ?it/s]"
      ]
     },
     "metadata": {},
     "output_type": "display_data"
    },
    {
     "data": {
      "application/vnd.jupyter.widget-view+json": {
       "model_id": "dc1116c4ac574de8b6e1afa44bcdf846",
       "version_major": 2,
       "version_minor": 0
      },
      "text/plain": [
       "  0%|          | 0/11873 [00:00<?, ?it/s]"
      ]
     },
     "metadata": {},
     "output_type": "display_data"
    },
    {
     "name": "stdout",
     "output_type": "stream",
     "text": [
      "Stopping training: No improvement in eval_f1 for 1 epochs\n"
     ]
    },
    {
     "data": {
      "text/html": [
       "\n",
       "    <div>\n",
       "      \n",
       "      <progress value='749' max='749' style='width:300px; height:20px; vertical-align: middle;'></progress>\n",
       "      [749/749 00:29]\n",
       "    </div>\n",
       "    "
      ],
      "text/plain": [
       "<IPython.core.display.HTML object>"
      ]
     },
     "metadata": {},
     "output_type": "display_data"
    },
    {
     "data": {
      "application/vnd.jupyter.widget-view+json": {
       "model_id": "a6fb40936bf045669bfe8096a3396928",
       "version_major": 2,
       "version_minor": 0
      },
      "text/plain": [
       "  0%|          | 0/11873 [00:00<?, ?it/s]"
      ]
     },
     "metadata": {},
     "output_type": "display_data"
    },
    {
     "name": "stdout",
     "output_type": "stream",
     "text": [
      "Stopping training: No improvement in eval_f1 for 1 epochs\n"
     ]
    },
    {
     "name": "stderr",
     "output_type": "stream",
     "text": [
      "[I 2024-05-27 00:48:03,138] Trial 3 finished with value: 60.53428217781201 and parameters: {'learning_rate': 3.257002507875358e-06, 'batch_size': 16, 'warmup_steps': 226, 'weight_decay': 0.22605457772789392, 'adam_beta1': 0.9256993417064603, 'adam_beta2': 0.9978072445101214, 'adam_epsilon': 5.964676983840752e-07, 'lr_scheduler_type': 'constant_with_warmup'}. Best is trial 2 with value: 65.71488138575606.\n"
     ]
    },
    {
     "name": "stdout",
     "output_type": "stream",
     "text": [
      "Current Trial 4 parameters: {'learning_rate': 2.303378516306679e-06, 'batch_size': 64, 'warmup_steps': 9, 'weight_decay': 0.15556251586553263, 'adam_beta1': 0.8457120370297727, 'adam_beta2': 0.9987553898547082, 'adam_epsilon': 3.886023799216506e-07, 'lr_scheduler_type': 'cosine_with_restarts'}\n"
     ]
    },
    {
     "name": "stderr",
     "output_type": "stream",
     "text": [
      "Some weights of BertForQuestionAnswering were not initialized from the model checkpoint at bert-base-cased and are newly initialized: ['qa_outputs.bias', 'qa_outputs.weight']\n",
      "You should probably TRAIN this model on a down-stream task to be able to use it for predictions and inference.\n"
     ]
    },
    {
     "data": {
      "text/html": [
       "\n",
       "    <div>\n",
       "      \n",
       "      <progress value='2817' max='2817' style='width:300px; height:20px; vertical-align: middle;'></progress>\n",
       "      [2817/2817 26:50, Epoch 3/3]\n",
       "    </div>\n",
       "    <table border=\"1\" class=\"dataframe\">\n",
       "  <thead>\n",
       " <tr style=\"text-align: left;\">\n",
       "      <th>Epoch</th>\n",
       "      <th>Training Loss</th>\n",
       "      <th>Validation Loss</th>\n",
       "      <th>Exact</th>\n",
       "      <th>F1</th>\n",
       "      <th>Total</th>\n",
       "      <th>Hasans Exact</th>\n",
       "      <th>Hasans F1</th>\n",
       "      <th>Hasans Total</th>\n",
       "      <th>Noans Exact</th>\n",
       "      <th>Noans F1</th>\n",
       "      <th>Noans Total</th>\n",
       "      <th>Best Exact</th>\n",
       "      <th>Best Exact Thresh</th>\n",
       "      <th>Best F1</th>\n",
       "      <th>Best F1 Thresh</th>\n",
       "    </tr>\n",
       "  </thead>\n",
       "  <tbody>\n",
       "    <tr>\n",
       "      <td>1</td>\n",
       "      <td>3.552500</td>\n",
       "      <td>No log</td>\n",
       "      <td>37.606334</td>\n",
       "      <td>44.504575</td>\n",
       "      <td>11873</td>\n",
       "      <td>17.661943</td>\n",
       "      <td>31.478207</td>\n",
       "      <td>5928</td>\n",
       "      <td>57.493692</td>\n",
       "      <td>57.493692</td>\n",
       "      <td>5945</td>\n",
       "      <td>50.080013</td>\n",
       "      <td>0.000000</td>\n",
       "      <td>50.080013</td>\n",
       "      <td>0.000000</td>\n",
       "    </tr>\n",
       "    <tr>\n",
       "      <td>2</td>\n",
       "      <td>2.124800</td>\n",
       "      <td>No log</td>\n",
       "      <td>38.524383</td>\n",
       "      <td>47.723398</td>\n",
       "      <td>11873</td>\n",
       "      <td>23.582996</td>\n",
       "      <td>42.007406</td>\n",
       "      <td>5928</td>\n",
       "      <td>53.423045</td>\n",
       "      <td>53.423045</td>\n",
       "      <td>5945</td>\n",
       "      <td>50.088436</td>\n",
       "      <td>0.000000</td>\n",
       "      <td>50.092869</td>\n",
       "      <td>0.000000</td>\n",
       "    </tr>\n",
       "    <tr>\n",
       "      <td>3</td>\n",
       "      <td>1.969600</td>\n",
       "      <td>No log</td>\n",
       "      <td>38.785480</td>\n",
       "      <td>48.362196</td>\n",
       "      <td>11873</td>\n",
       "      <td>24.612011</td>\n",
       "      <td>43.792907</td>\n",
       "      <td>5928</td>\n",
       "      <td>52.918419</td>\n",
       "      <td>52.918419</td>\n",
       "      <td>5945</td>\n",
       "      <td>50.088436</td>\n",
       "      <td>0.000000</td>\n",
       "      <td>50.225246</td>\n",
       "      <td>0.000000</td>\n",
       "    </tr>\n",
       "  </tbody>\n",
       "</table><p>"
      ],
      "text/plain": [
       "<IPython.core.display.HTML object>"
      ]
     },
     "metadata": {},
     "output_type": "display_data"
    },
    {
     "data": {
      "application/vnd.jupyter.widget-view+json": {
       "model_id": "f0d2b07129fa4cfb9361b3dbaaf5af20",
       "version_major": 2,
       "version_minor": 0
      },
      "text/plain": [
       "  0%|          | 0/11873 [00:00<?, ?it/s]"
      ]
     },
     "metadata": {},
     "output_type": "display_data"
    },
    {
     "data": {
      "application/vnd.jupyter.widget-view+json": {
       "model_id": "3cc095bd02714f739b2026c9651d7146",
       "version_major": 2,
       "version_minor": 0
      },
      "text/plain": [
       "  0%|          | 0/11873 [00:00<?, ?it/s]"
      ]
     },
     "metadata": {},
     "output_type": "display_data"
    },
    {
     "data": {
      "application/vnd.jupyter.widget-view+json": {
       "model_id": "ceaffa58fd3d4f708ac2396ecf5054b4",
       "version_major": 2,
       "version_minor": 0
      },
      "text/plain": [
       "  0%|          | 0/11873 [00:00<?, ?it/s]"
      ]
     },
     "metadata": {},
     "output_type": "display_data"
    },
    {
     "data": {
      "text/html": [
       "\n",
       "    <div>\n",
       "      \n",
       "      <progress value='188' max='188' style='width:300px; height:20px; vertical-align: middle;'></progress>\n",
       "      [188/188 00:29]\n",
       "    </div>\n",
       "    "
      ],
      "text/plain": [
       "<IPython.core.display.HTML object>"
      ]
     },
     "metadata": {},
     "output_type": "display_data"
    },
    {
     "data": {
      "application/vnd.jupyter.widget-view+json": {
       "model_id": "14785283cf414918a8e76e40f0a94d3b",
       "version_major": 2,
       "version_minor": 0
      },
      "text/plain": [
       "  0%|          | 0/11873 [00:00<?, ?it/s]"
      ]
     },
     "metadata": {},
     "output_type": "display_data"
    },
    {
     "name": "stdout",
     "output_type": "stream",
     "text": [
      "Stopping training: No improvement in eval_f1 for 1 epochs\n"
     ]
    },
    {
     "name": "stderr",
     "output_type": "stream",
     "text": [
      "[I 2024-05-27 01:15:59,691] Trial 4 finished with value: 48.362195871919646 and parameters: {'learning_rate': 2.303378516306679e-06, 'batch_size': 64, 'warmup_steps': 9, 'weight_decay': 0.15556251586553263, 'adam_beta1': 0.8457120370297727, 'adam_beta2': 0.9987553898547082, 'adam_epsilon': 3.886023799216506e-07, 'lr_scheduler_type': 'cosine_with_restarts'}. Best is trial 2 with value: 65.71488138575606.\n"
     ]
    },
    {
     "name": "stdout",
     "output_type": "stream",
     "text": [
      "Current Trial 5 parameters: {'learning_rate': 2.576136287284426e-07, 'batch_size': 32, 'warmup_steps': 786, 'weight_decay': 0.134616139978681, 'adam_beta1': 0.8589774142157393, 'adam_beta2': 0.9980007316024959, 'adam_epsilon': 7.724820212017663e-07, 'lr_scheduler_type': 'constant_with_warmup'}\n"
     ]
    },
    {
     "name": "stderr",
     "output_type": "stream",
     "text": [
      "Some weights of BertForQuestionAnswering were not initialized from the model checkpoint at bert-base-cased and are newly initialized: ['qa_outputs.bias', 'qa_outputs.weight']\n",
      "You should probably TRAIN this model on a down-stream task to be able to use it for predictions and inference.\n"
     ]
    },
    {
     "data": {
      "text/html": [
       "\n",
       "    <div>\n",
       "      \n",
       "      <progress value='3754' max='5631' style='width:300px; height:20px; vertical-align: middle;'></progress>\n",
       "      [3754/5631 18:15 < 09:07, 3.43 it/s, Epoch 2/3]\n",
       "    </div>\n",
       "    <table border=\"1\" class=\"dataframe\">\n",
       "  <thead>\n",
       " <tr style=\"text-align: left;\">\n",
       "      <th>Epoch</th>\n",
       "      <th>Training Loss</th>\n",
       "      <th>Validation Loss</th>\n",
       "      <th>Exact</th>\n",
       "      <th>F1</th>\n",
       "      <th>Total</th>\n",
       "      <th>Hasans Exact</th>\n",
       "      <th>Hasans F1</th>\n",
       "      <th>Hasans Total</th>\n",
       "      <th>Noans Exact</th>\n",
       "      <th>Noans F1</th>\n",
       "      <th>Noans Total</th>\n",
       "      <th>Best Exact</th>\n",
       "      <th>Best Exact Thresh</th>\n",
       "      <th>Best F1</th>\n",
       "      <th>Best F1 Thresh</th>\n",
       "    </tr>\n",
       "  </thead>\n",
       "  <tbody>\n",
       "    <tr>\n",
       "      <td>1</td>\n",
       "      <td>4.338400</td>\n",
       "      <td>No log</td>\n",
       "      <td>50.071591</td>\n",
       "      <td>50.071591</td>\n",
       "      <td>11873</td>\n",
       "      <td>0.000000</td>\n",
       "      <td>0.000000</td>\n",
       "      <td>5928</td>\n",
       "      <td>100.000000</td>\n",
       "      <td>100.000000</td>\n",
       "      <td>5945</td>\n",
       "      <td>50.071591</td>\n",
       "      <td>0.000000</td>\n",
       "      <td>50.071591</td>\n",
       "      <td>0.000000</td>\n",
       "    </tr>\n",
       "    <tr>\n",
       "      <td>2</td>\n",
       "      <td>3.239200</td>\n",
       "      <td>No log</td>\n",
       "      <td>50.063169</td>\n",
       "      <td>50.063169</td>\n",
       "      <td>11873</td>\n",
       "      <td>0.000000</td>\n",
       "      <td>0.000000</td>\n",
       "      <td>5928</td>\n",
       "      <td>99.983179</td>\n",
       "      <td>99.983179</td>\n",
       "      <td>5945</td>\n",
       "      <td>50.071591</td>\n",
       "      <td>0.000000</td>\n",
       "      <td>50.071591</td>\n",
       "      <td>0.000000</td>\n",
       "    </tr>\n",
       "  </tbody>\n",
       "</table><p>"
      ],
      "text/plain": [
       "<IPython.core.display.HTML object>"
      ]
     },
     "metadata": {},
     "output_type": "display_data"
    },
    {
     "data": {
      "application/vnd.jupyter.widget-view+json": {
       "model_id": "e742a41c33134d3c95dcddf211b7799e",
       "version_major": 2,
       "version_minor": 0
      },
      "text/plain": [
       "  0%|          | 0/11873 [00:00<?, ?it/s]"
      ]
     },
     "metadata": {},
     "output_type": "display_data"
    },
    {
     "data": {
      "application/vnd.jupyter.widget-view+json": {
       "model_id": "4da0a6dbddf844849ffc6fa3259fa5bf",
       "version_major": 2,
       "version_minor": 0
      },
      "text/plain": [
       "  0%|          | 0/11873 [00:00<?, ?it/s]"
      ]
     },
     "metadata": {},
     "output_type": "display_data"
    },
    {
     "name": "stdout",
     "output_type": "stream",
     "text": [
      "Stopping training: No improvement in eval_f1 for 1 epochs\n"
     ]
    },
    {
     "data": {
      "text/html": [
       "\n",
       "    <div>\n",
       "      \n",
       "      <progress value='375' max='375' style='width:300px; height:20px; vertical-align: middle;'></progress>\n",
       "      [375/375 00:30]\n",
       "    </div>\n",
       "    "
      ],
      "text/plain": [
       "<IPython.core.display.HTML object>"
      ]
     },
     "metadata": {},
     "output_type": "display_data"
    },
    {
     "data": {
      "application/vnd.jupyter.widget-view+json": {
       "model_id": "26dd053844f04b6f9b9a72aebee51e95",
       "version_major": 2,
       "version_minor": 0
      },
      "text/plain": [
       "  0%|          | 0/11873 [00:00<?, ?it/s]"
      ]
     },
     "metadata": {},
     "output_type": "display_data"
    },
    {
     "name": "stdout",
     "output_type": "stream",
     "text": [
      "Stopping training: No improvement in eval_f1 for 1 epochs\n"
     ]
    },
    {
     "name": "stderr",
     "output_type": "stream",
     "text": [
      "[I 2024-05-27 01:35:19,516] Trial 5 finished with value: 50.07159100480081 and parameters: {'learning_rate': 2.576136287284426e-07, 'batch_size': 32, 'warmup_steps': 786, 'weight_decay': 0.134616139978681, 'adam_beta1': 0.8589774142157393, 'adam_beta2': 0.9980007316024959, 'adam_epsilon': 7.724820212017663e-07, 'lr_scheduler_type': 'constant_with_warmup'}. Best is trial 2 with value: 65.71488138575606.\n"
     ]
    },
    {
     "name": "stdout",
     "output_type": "stream",
     "text": [
      "Current Trial 6 parameters: {'learning_rate': 7.176361416135588e-05, 'batch_size': 16, 'warmup_steps': 102, 'weight_decay': 0.141338500720577, 'adam_beta1': 0.8824298717779988, 'adam_beta2': 0.9968626436091191, 'adam_epsilon': 3.0277412934900717e-07, 'lr_scheduler_type': 'constant_with_warmup'}\n"
     ]
    },
    {
     "name": "stderr",
     "output_type": "stream",
     "text": [
      "Some weights of BertForQuestionAnswering were not initialized from the model checkpoint at bert-base-cased and are newly initialized: ['qa_outputs.bias', 'qa_outputs.weight']\n",
      "You should probably TRAIN this model on a down-stream task to be able to use it for predictions and inference.\n"
     ]
    },
    {
     "data": {
      "text/html": [
       "\n",
       "    <div>\n",
       "      \n",
       "      <progress value='11259' max='11259' style='width:300px; height:20px; vertical-align: middle;'></progress>\n",
       "      [11259/11259 29:11, Epoch 3/3]\n",
       "    </div>\n",
       "    <table border=\"1\" class=\"dataframe\">\n",
       "  <thead>\n",
       " <tr style=\"text-align: left;\">\n",
       "      <th>Epoch</th>\n",
       "      <th>Training Loss</th>\n",
       "      <th>Validation Loss</th>\n",
       "      <th>Exact</th>\n",
       "      <th>F1</th>\n",
       "      <th>Total</th>\n",
       "      <th>Hasans Exact</th>\n",
       "      <th>Hasans F1</th>\n",
       "      <th>Hasans Total</th>\n",
       "      <th>Noans Exact</th>\n",
       "      <th>Noans F1</th>\n",
       "      <th>Noans Total</th>\n",
       "      <th>Best Exact</th>\n",
       "      <th>Best Exact Thresh</th>\n",
       "      <th>Best F1</th>\n",
       "      <th>Best F1 Thresh</th>\n",
       "    </tr>\n",
       "  </thead>\n",
       "  <tbody>\n",
       "    <tr>\n",
       "      <td>1</td>\n",
       "      <td>1.325500</td>\n",
       "      <td>No log</td>\n",
       "      <td>46.222522</td>\n",
       "      <td>60.549908</td>\n",
       "      <td>11873</td>\n",
       "      <td>36.825236</td>\n",
       "      <td>65.521095</td>\n",
       "      <td>5928</td>\n",
       "      <td>55.592935</td>\n",
       "      <td>55.592935</td>\n",
       "      <td>5945</td>\n",
       "      <td>50.096858</td>\n",
       "      <td>0.000000</td>\n",
       "      <td>60.558330</td>\n",
       "      <td>0.000000</td>\n",
       "    </tr>\n",
       "    <tr>\n",
       "      <td>2</td>\n",
       "      <td>1.013000</td>\n",
       "      <td>No log</td>\n",
       "      <td>51.065443</td>\n",
       "      <td>63.928259</td>\n",
       "      <td>11873</td>\n",
       "      <td>32.371795</td>\n",
       "      <td>58.134314</td>\n",
       "      <td>5928</td>\n",
       "      <td>69.705635</td>\n",
       "      <td>69.705635</td>\n",
       "      <td>5945</td>\n",
       "      <td>51.958225</td>\n",
       "      <td>0.000000</td>\n",
       "      <td>63.928259</td>\n",
       "      <td>0.000000</td>\n",
       "    </tr>\n",
       "    <tr>\n",
       "      <td>3</td>\n",
       "      <td>0.819900</td>\n",
       "      <td>No log</td>\n",
       "      <td>45.262360</td>\n",
       "      <td>60.600694</td>\n",
       "      <td>11873</td>\n",
       "      <td>37.634953</td>\n",
       "      <td>68.355608</td>\n",
       "      <td>5928</td>\n",
       "      <td>52.867956</td>\n",
       "      <td>52.867956</td>\n",
       "      <td>5945</td>\n",
       "      <td>50.096858</td>\n",
       "      <td>0.000000</td>\n",
       "      <td>60.600694</td>\n",
       "      <td>0.000000</td>\n",
       "    </tr>\n",
       "  </tbody>\n",
       "</table><p>"
      ],
      "text/plain": [
       "<IPython.core.display.HTML object>"
      ]
     },
     "metadata": {},
     "output_type": "display_data"
    },
    {
     "data": {
      "application/vnd.jupyter.widget-view+json": {
       "model_id": "f8bf1e856f3543dfa79e33058002114e",
       "version_major": 2,
       "version_minor": 0
      },
      "text/plain": [
       "  0%|          | 0/11873 [00:00<?, ?it/s]"
      ]
     },
     "metadata": {},
     "output_type": "display_data"
    },
    {
     "data": {
      "application/vnd.jupyter.widget-view+json": {
       "model_id": "966055042b7b4da7bcc1a4721a7486cd",
       "version_major": 2,
       "version_minor": 0
      },
      "text/plain": [
       "  0%|          | 0/11873 [00:00<?, ?it/s]"
      ]
     },
     "metadata": {},
     "output_type": "display_data"
    },
    {
     "data": {
      "application/vnd.jupyter.widget-view+json": {
       "model_id": "288844aadb154f108b205e314d80356e",
       "version_major": 2,
       "version_minor": 0
      },
      "text/plain": [
       "  0%|          | 0/11873 [00:00<?, ?it/s]"
      ]
     },
     "metadata": {},
     "output_type": "display_data"
    },
    {
     "name": "stdout",
     "output_type": "stream",
     "text": [
      "Stopping training: No improvement in eval_f1 for 1 epochs\n"
     ]
    },
    {
     "data": {
      "text/html": [
       "\n",
       "    <div>\n",
       "      \n",
       "      <progress value='749' max='749' style='width:300px; height:20px; vertical-align: middle;'></progress>\n",
       "      [749/749 00:29]\n",
       "    </div>\n",
       "    "
      ],
      "text/plain": [
       "<IPython.core.display.HTML object>"
      ]
     },
     "metadata": {},
     "output_type": "display_data"
    },
    {
     "data": {
      "application/vnd.jupyter.widget-view+json": {
       "model_id": "f9aafed6f93e4fafa9b36a1c376f44d5",
       "version_major": 2,
       "version_minor": 0
      },
      "text/plain": [
       "  0%|          | 0/11873 [00:00<?, ?it/s]"
      ]
     },
     "metadata": {},
     "output_type": "display_data"
    },
    {
     "name": "stdout",
     "output_type": "stream",
     "text": [
      "Stopping training: No improvement in eval_f1 for 1 epochs\n"
     ]
    },
    {
     "name": "stderr",
     "output_type": "stream",
     "text": [
      "[I 2024-05-27 02:05:35,630] Trial 6 finished with value: 63.92825852132462 and parameters: {'learning_rate': 7.176361416135588e-05, 'batch_size': 16, 'warmup_steps': 102, 'weight_decay': 0.141338500720577, 'adam_beta1': 0.8824298717779988, 'adam_beta2': 0.9968626436091191, 'adam_epsilon': 3.0277412934900717e-07, 'lr_scheduler_type': 'constant_with_warmup'}. Best is trial 2 with value: 65.71488138575606.\n"
     ]
    },
    {
     "name": "stdout",
     "output_type": "stream",
     "text": [
      "Current Trial 7 parameters: {'learning_rate': 8.489260450423479e-07, 'batch_size': 64, 'warmup_steps': 607, 'weight_decay': 0.12419477807991067, 'adam_beta1': 0.8396904433225968, 'adam_beta2': 0.9957496548893403, 'adam_epsilon': 7.607206541165466e-07, 'lr_scheduler_type': 'linear'}\n"
     ]
    },
    {
     "name": "stderr",
     "output_type": "stream",
     "text": [
      "Some weights of BertForQuestionAnswering were not initialized from the model checkpoint at bert-base-cased and are newly initialized: ['qa_outputs.bias', 'qa_outputs.weight']\n",
      "You should probably TRAIN this model on a down-stream task to be able to use it for predictions and inference.\n"
     ]
    },
    {
     "data": {
      "text/html": [
       "\n",
       "    <div>\n",
       "      \n",
       "      <progress value='1878' max='2817' style='width:300px; height:20px; vertical-align: middle;'></progress>\n",
       "      [1878/2817 27:16 < 13:39, 1.15 it/s, Epoch 2/3]\n",
       "    </div>\n",
       "    <table border=\"1\" class=\"dataframe\">\n",
       "  <thead>\n",
       " <tr style=\"text-align: left;\">\n",
       "      <th>Epoch</th>\n",
       "      <th>Training Loss</th>\n",
       "      <th>Validation Loss</th>\n",
       "      <th>Exact</th>\n",
       "      <th>F1</th>\n",
       "      <th>Total</th>\n",
       "      <th>Hasans Exact</th>\n",
       "      <th>Hasans F1</th>\n",
       "      <th>Hasans Total</th>\n",
       "      <th>Noans Exact</th>\n",
       "      <th>Noans F1</th>\n",
       "      <th>Noans Total</th>\n",
       "      <th>Best Exact</th>\n",
       "      <th>Best Exact Thresh</th>\n",
       "      <th>Best F1</th>\n",
       "      <th>Best F1 Thresh</th>\n",
       "    </tr>\n",
       "  </thead>\n",
       "  <tbody>\n",
       "    <tr>\n",
       "      <td>1</td>\n",
       "      <td>5.805400</td>\n",
       "      <td>No log</td>\n",
       "      <td>50.071591</td>\n",
       "      <td>50.071591</td>\n",
       "      <td>11873</td>\n",
       "      <td>0.000000</td>\n",
       "      <td>0.000000</td>\n",
       "      <td>5928</td>\n",
       "      <td>100.000000</td>\n",
       "      <td>100.000000</td>\n",
       "      <td>5945</td>\n",
       "      <td>50.071591</td>\n",
       "      <td>0.000000</td>\n",
       "      <td>50.071591</td>\n",
       "      <td>0.000000</td>\n",
       "    </tr>\n",
       "    <tr>\n",
       "      <td>2</td>\n",
       "      <td>2.923100</td>\n",
       "      <td>No log</td>\n",
       "      <td>45.675061</td>\n",
       "      <td>47.554094</td>\n",
       "      <td>11873</td>\n",
       "      <td>5.280027</td>\n",
       "      <td>9.043481</td>\n",
       "      <td>5928</td>\n",
       "      <td>85.954584</td>\n",
       "      <td>85.954584</td>\n",
       "      <td>5945</td>\n",
       "      <td>50.071591</td>\n",
       "      <td>0.000000</td>\n",
       "      <td>50.073837</td>\n",
       "      <td>0.000000</td>\n",
       "    </tr>\n",
       "  </tbody>\n",
       "</table><p>"
      ],
      "text/plain": [
       "<IPython.core.display.HTML object>"
      ]
     },
     "metadata": {},
     "output_type": "display_data"
    },
    {
     "data": {
      "application/vnd.jupyter.widget-view+json": {
       "model_id": "8eb12a83e9504c25904b02ad420e5b38",
       "version_major": 2,
       "version_minor": 0
      },
      "text/plain": [
       "  0%|          | 0/11873 [00:00<?, ?it/s]"
      ]
     },
     "metadata": {},
     "output_type": "display_data"
    },
    {
     "data": {
      "application/vnd.jupyter.widget-view+json": {
       "model_id": "de2b364bd8d74182b375be9710beec34",
       "version_major": 2,
       "version_minor": 0
      },
      "text/plain": [
       "  0%|          | 0/11873 [00:00<?, ?it/s]"
      ]
     },
     "metadata": {},
     "output_type": "display_data"
    },
    {
     "name": "stdout",
     "output_type": "stream",
     "text": [
      "Stopping training: No improvement in eval_f1 for 1 epochs\n"
     ]
    },
    {
     "data": {
      "text/html": [
       "\n",
       "    <div>\n",
       "      \n",
       "      <progress value='188' max='188' style='width:300px; height:20px; vertical-align: middle;'></progress>\n",
       "      [188/188 00:29]\n",
       "    </div>\n",
       "    "
      ],
      "text/plain": [
       "<IPython.core.display.HTML object>"
      ]
     },
     "metadata": {},
     "output_type": "display_data"
    },
    {
     "data": {
      "application/vnd.jupyter.widget-view+json": {
       "model_id": "32f4df36056647aa880eef09f1f16d61",
       "version_major": 2,
       "version_minor": 0
      },
      "text/plain": [
       "  0%|          | 0/11873 [00:00<?, ?it/s]"
      ]
     },
     "metadata": {},
     "output_type": "display_data"
    },
    {
     "name": "stdout",
     "output_type": "stream",
     "text": [
      "Stopping training: No improvement in eval_f1 for 1 epochs\n"
     ]
    },
    {
     "name": "stderr",
     "output_type": "stream",
     "text": [
      "[I 2024-05-27 02:33:57,410] Trial 7 finished with value: 50.07159100480081 and parameters: {'learning_rate': 8.489260450423479e-07, 'batch_size': 64, 'warmup_steps': 607, 'weight_decay': 0.12419477807991067, 'adam_beta1': 0.8396904433225968, 'adam_beta2': 0.9957496548893403, 'adam_epsilon': 7.607206541165466e-07, 'lr_scheduler_type': 'linear'}. Best is trial 2 with value: 65.71488138575606.\n"
     ]
    },
    {
     "name": "stdout",
     "output_type": "stream",
     "text": [
      "Current Trial 8 parameters: {'learning_rate': 3.0879006441869604e-06, 'batch_size': 64, 'warmup_steps': 14, 'weight_decay': 0.13127911620432747, 'adam_beta1': 0.9337588014459542, 'adam_beta2': 0.9905404978352851, 'adam_epsilon': 9.744955653178852e-07, 'lr_scheduler_type': 'cosine_with_restarts'}\n"
     ]
    },
    {
     "name": "stderr",
     "output_type": "stream",
     "text": [
      "Some weights of BertForQuestionAnswering were not initialized from the model checkpoint at bert-base-cased and are newly initialized: ['qa_outputs.bias', 'qa_outputs.weight']\n",
      "You should probably TRAIN this model on a down-stream task to be able to use it for predictions and inference.\n"
     ]
    },
    {
     "data": {
      "text/html": [
       "\n",
       "    <div>\n",
       "      \n",
       "      <progress value='2817' max='2817' style='width:300px; height:20px; vertical-align: middle;'></progress>\n",
       "      [2817/2817 33:54, Epoch 3/3]\n",
       "    </div>\n",
       "    <table border=\"1\" class=\"dataframe\">\n",
       "  <thead>\n",
       " <tr style=\"text-align: left;\">\n",
       "      <th>Epoch</th>\n",
       "      <th>Training Loss</th>\n",
       "      <th>Validation Loss</th>\n",
       "      <th>Exact</th>\n",
       "      <th>F1</th>\n",
       "      <th>Total</th>\n",
       "      <th>Hasans Exact</th>\n",
       "      <th>Hasans F1</th>\n",
       "      <th>Hasans Total</th>\n",
       "      <th>Noans Exact</th>\n",
       "      <th>Noans F1</th>\n",
       "      <th>Noans Total</th>\n",
       "      <th>Best Exact</th>\n",
       "      <th>Best Exact Thresh</th>\n",
       "      <th>Best F1</th>\n",
       "      <th>Best F1 Thresh</th>\n",
       "    </tr>\n",
       "  </thead>\n",
       "  <tbody>\n",
       "    <tr>\n",
       "      <td>1</td>\n",
       "      <td>3.629600</td>\n",
       "      <td>No log</td>\n",
       "      <td>38.473848</td>\n",
       "      <td>46.618903</td>\n",
       "      <td>11873</td>\n",
       "      <td>20.546559</td>\n",
       "      <td>36.860027</td>\n",
       "      <td>5928</td>\n",
       "      <td>56.349874</td>\n",
       "      <td>56.349874</td>\n",
       "      <td>5945</td>\n",
       "      <td>50.088436</td>\n",
       "      <td>0.000000</td>\n",
       "      <td>50.097583</td>\n",
       "      <td>0.000000</td>\n",
       "    </tr>\n",
       "    <tr>\n",
       "      <td>2</td>\n",
       "      <td>2.004400</td>\n",
       "      <td>No log</td>\n",
       "      <td>38.364356</td>\n",
       "      <td>49.157628</td>\n",
       "      <td>11873</td>\n",
       "      <td>28.593117</td>\n",
       "      <td>50.210614</td>\n",
       "      <td>5928</td>\n",
       "      <td>48.107653</td>\n",
       "      <td>48.107653</td>\n",
       "      <td>5945</td>\n",
       "      <td>50.096858</td>\n",
       "      <td>0.000000</td>\n",
       "      <td>50.812640</td>\n",
       "      <td>0.000000</td>\n",
       "    </tr>\n",
       "    <tr>\n",
       "      <td>3</td>\n",
       "      <td>1.809600</td>\n",
       "      <td>No log</td>\n",
       "      <td>39.324518</td>\n",
       "      <td>50.228553</td>\n",
       "      <td>11873</td>\n",
       "      <td>29.251012</td>\n",
       "      <td>51.090353</td>\n",
       "      <td>5928</td>\n",
       "      <td>49.369218</td>\n",
       "      <td>49.369218</td>\n",
       "      <td>5945</td>\n",
       "      <td>50.096858</td>\n",
       "      <td>0.000000</td>\n",
       "      <td>51.425193</td>\n",
       "      <td>0.000000</td>\n",
       "    </tr>\n",
       "  </tbody>\n",
       "</table><p>"
      ],
      "text/plain": [
       "<IPython.core.display.HTML object>"
      ]
     },
     "metadata": {},
     "output_type": "display_data"
    },
    {
     "data": {
      "application/vnd.jupyter.widget-view+json": {
       "model_id": "71416f51907c46888a1a52bf57fd473c",
       "version_major": 2,
       "version_minor": 0
      },
      "text/plain": [
       "  0%|          | 0/11873 [00:00<?, ?it/s]"
      ]
     },
     "metadata": {},
     "output_type": "display_data"
    },
    {
     "data": {
      "application/vnd.jupyter.widget-view+json": {
       "model_id": "530cc29b4fe4472b8bc6b656cef0eb34",
       "version_major": 2,
       "version_minor": 0
      },
      "text/plain": [
       "  0%|          | 0/11873 [00:00<?, ?it/s]"
      ]
     },
     "metadata": {},
     "output_type": "display_data"
    },
    {
     "data": {
      "application/vnd.jupyter.widget-view+json": {
       "model_id": "a0fa06d41eb94b5c85bf8f049bcabe45",
       "version_major": 2,
       "version_minor": 0
      },
      "text/plain": [
       "  0%|          | 0/11873 [00:00<?, ?it/s]"
      ]
     },
     "metadata": {},
     "output_type": "display_data"
    },
    {
     "data": {
      "text/html": [
       "\n",
       "    <div>\n",
       "      \n",
       "      <progress value='188' max='188' style='width:300px; height:20px; vertical-align: middle;'></progress>\n",
       "      [188/188 00:30]\n",
       "    </div>\n",
       "    "
      ],
      "text/plain": [
       "<IPython.core.display.HTML object>"
      ]
     },
     "metadata": {},
     "output_type": "display_data"
    },
    {
     "data": {
      "application/vnd.jupyter.widget-view+json": {
       "model_id": "8a4e129a4faf4c07959aa2122ac27557",
       "version_major": 2,
       "version_minor": 0
      },
      "text/plain": [
       "  0%|          | 0/11873 [00:00<?, ?it/s]"
      ]
     },
     "metadata": {},
     "output_type": "display_data"
    },
    {
     "name": "stdout",
     "output_type": "stream",
     "text": [
      "Stopping training: No improvement in eval_f1 for 1 epochs\n"
     ]
    },
    {
     "name": "stderr",
     "output_type": "stream",
     "text": [
      "[I 2024-05-27 03:08:57,743] Trial 8 finished with value: 50.22855340134922 and parameters: {'learning_rate': 3.0879006441869604e-06, 'batch_size': 64, 'warmup_steps': 14, 'weight_decay': 0.13127911620432747, 'adam_beta1': 0.9337588014459542, 'adam_beta2': 0.9905404978352851, 'adam_epsilon': 9.744955653178852e-07, 'lr_scheduler_type': 'cosine_with_restarts'}. Best is trial 2 with value: 65.71488138575606.\n"
     ]
    },
    {
     "name": "stdout",
     "output_type": "stream",
     "text": [
      "Current Trial 9 parameters: {'learning_rate': 4.91978224351371e-05, 'batch_size': 32, 'warmup_steps': 398, 'weight_decay': 0.19404494917360213, 'adam_beta1': 0.8368183686077211, 'adam_beta2': 0.9969107098230887, 'adam_epsilon': 5.874878468800929e-07, 'lr_scheduler_type': 'cosine'}\n"
     ]
    },
    {
     "name": "stderr",
     "output_type": "stream",
     "text": [
      "Some weights of BertForQuestionAnswering were not initialized from the model checkpoint at bert-base-cased and are newly initialized: ['qa_outputs.bias', 'qa_outputs.weight']\n",
      "You should probably TRAIN this model on a down-stream task to be able to use it for predictions and inference.\n"
     ]
    },
    {
     "data": {
      "text/html": [
       "\n",
       "    <div>\n",
       "      \n",
       "      <progress value='5631' max='5631' style='width:300px; height:20px; vertical-align: middle;'></progress>\n",
       "      [5631/5631 27:35, Epoch 3/3]\n",
       "    </div>\n",
       "    <table border=\"1\" class=\"dataframe\">\n",
       "  <thead>\n",
       " <tr style=\"text-align: left;\">\n",
       "      <th>Epoch</th>\n",
       "      <th>Training Loss</th>\n",
       "      <th>Validation Loss</th>\n",
       "      <th>Exact</th>\n",
       "      <th>F1</th>\n",
       "      <th>Total</th>\n",
       "      <th>Hasans Exact</th>\n",
       "      <th>Hasans F1</th>\n",
       "      <th>Hasans Total</th>\n",
       "      <th>Noans Exact</th>\n",
       "      <th>Noans F1</th>\n",
       "      <th>Noans Total</th>\n",
       "      <th>Best Exact</th>\n",
       "      <th>Best Exact Thresh</th>\n",
       "      <th>Best F1</th>\n",
       "      <th>Best F1 Thresh</th>\n",
       "    </tr>\n",
       "  </thead>\n",
       "  <tbody>\n",
       "    <tr>\n",
       "      <td>1</td>\n",
       "      <td>1.315800</td>\n",
       "      <td>No log</td>\n",
       "      <td>45.919313</td>\n",
       "      <td>60.987655</td>\n",
       "      <td>11873</td>\n",
       "      <td>40.435223</td>\n",
       "      <td>70.615120</td>\n",
       "      <td>5928</td>\n",
       "      <td>51.387721</td>\n",
       "      <td>51.387721</td>\n",
       "      <td>5945</td>\n",
       "      <td>50.096858</td>\n",
       "      <td>0.000000</td>\n",
       "      <td>60.987655</td>\n",
       "      <td>0.000000</td>\n",
       "    </tr>\n",
       "    <tr>\n",
       "      <td>2</td>\n",
       "      <td>0.806400</td>\n",
       "      <td>No log</td>\n",
       "      <td>55.579887</td>\n",
       "      <td>69.761629</td>\n",
       "      <td>11873</td>\n",
       "      <td>38.157895</td>\n",
       "      <td>66.562047</td>\n",
       "      <td>5928</td>\n",
       "      <td>72.952061</td>\n",
       "      <td>72.952061</td>\n",
       "      <td>5945</td>\n",
       "      <td>56.110503</td>\n",
       "      <td>0.000000</td>\n",
       "      <td>69.753206</td>\n",
       "      <td>0.000000</td>\n",
       "    </tr>\n",
       "    <tr>\n",
       "      <td>3</td>\n",
       "      <td>0.456400</td>\n",
       "      <td>No log</td>\n",
       "      <td>54.249137</td>\n",
       "      <td>69.094824</td>\n",
       "      <td>11873</td>\n",
       "      <td>39.119433</td>\n",
       "      <td>68.853382</td>\n",
       "      <td>5928</td>\n",
       "      <td>69.335576</td>\n",
       "      <td>69.335576</td>\n",
       "      <td>5945</td>\n",
       "      <td>54.805020</td>\n",
       "      <td>0.000000</td>\n",
       "      <td>69.086402</td>\n",
       "      <td>0.000000</td>\n",
       "    </tr>\n",
       "  </tbody>\n",
       "</table><p>"
      ],
      "text/plain": [
       "<IPython.core.display.HTML object>"
      ]
     },
     "metadata": {},
     "output_type": "display_data"
    },
    {
     "data": {
      "application/vnd.jupyter.widget-view+json": {
       "model_id": "a7b9f454a856470db5c432f7d8c76d14",
       "version_major": 2,
       "version_minor": 0
      },
      "text/plain": [
       "  0%|          | 0/11873 [00:00<?, ?it/s]"
      ]
     },
     "metadata": {},
     "output_type": "display_data"
    },
    {
     "data": {
      "application/vnd.jupyter.widget-view+json": {
       "model_id": "f3db7312f28742e0863fb9c1221ecd82",
       "version_major": 2,
       "version_minor": 0
      },
      "text/plain": [
       "  0%|          | 0/11873 [00:00<?, ?it/s]"
      ]
     },
     "metadata": {},
     "output_type": "display_data"
    },
    {
     "data": {
      "application/vnd.jupyter.widget-view+json": {
       "model_id": "75277a7da9734cad8413c5a69ba508b9",
       "version_major": 2,
       "version_minor": 0
      },
      "text/plain": [
       "  0%|          | 0/11873 [00:00<?, ?it/s]"
      ]
     },
     "metadata": {},
     "output_type": "display_data"
    },
    {
     "name": "stdout",
     "output_type": "stream",
     "text": [
      "Stopping training: No improvement in eval_f1 for 1 epochs\n"
     ]
    },
    {
     "data": {
      "text/html": [
       "\n",
       "    <div>\n",
       "      \n",
       "      <progress value='375' max='375' style='width:300px; height:20px; vertical-align: middle;'></progress>\n",
       "      [375/375 00:30]\n",
       "    </div>\n",
       "    "
      ],
      "text/plain": [
       "<IPython.core.display.HTML object>"
      ]
     },
     "metadata": {},
     "output_type": "display_data"
    },
    {
     "data": {
      "application/vnd.jupyter.widget-view+json": {
       "model_id": "2c98f5729ba242f8a37e1a64254061f3",
       "version_major": 2,
       "version_minor": 0
      },
      "text/plain": [
       "  0%|          | 0/11873 [00:00<?, ?it/s]"
      ]
     },
     "metadata": {},
     "output_type": "display_data"
    },
    {
     "name": "stdout",
     "output_type": "stream",
     "text": [
      "Stopping training: No improvement in eval_f1 for 1 epochs\n"
     ]
    },
    {
     "name": "stderr",
     "output_type": "stream",
     "text": [
      "[I 2024-05-27 03:37:38,825] Trial 9 finished with value: 69.76162859449346 and parameters: {'learning_rate': 4.91978224351371e-05, 'batch_size': 32, 'warmup_steps': 398, 'weight_decay': 0.19404494917360213, 'adam_beta1': 0.8368183686077211, 'adam_beta2': 0.9969107098230887, 'adam_epsilon': 5.874878468800929e-07, 'lr_scheduler_type': 'cosine'}. Best is trial 9 with value: 69.76162859449346.\n"
     ]
    },
    {
     "name": "stdout",
     "output_type": "stream",
     "text": [
      "Current Trial 10 parameters: {'learning_rate': 9.41535226399275e-05, 'batch_size': 32, 'warmup_steps': 380, 'weight_decay': 0.07077487856651368, 'adam_beta1': 0.8010331990576185, 'adam_beta2': 0.9935490335829797, 'adam_epsilon': 1.7199442129813214e-07, 'lr_scheduler_type': 'cosine'}\n"
     ]
    },
    {
     "name": "stderr",
     "output_type": "stream",
     "text": [
      "Some weights of BertForQuestionAnswering were not initialized from the model checkpoint at bert-base-cased and are newly initialized: ['qa_outputs.bias', 'qa_outputs.weight']\n",
      "You should probably TRAIN this model on a down-stream task to be able to use it for predictions and inference.\n"
     ]
    },
    {
     "data": {
      "text/html": [
       "\n",
       "    <div>\n",
       "      \n",
       "      <progress value='5631' max='5631' style='width:300px; height:20px; vertical-align: middle;'></progress>\n",
       "      [5631/5631 27:38, Epoch 3/3]\n",
       "    </div>\n",
       "    <table border=\"1\" class=\"dataframe\">\n",
       "  <thead>\n",
       " <tr style=\"text-align: left;\">\n",
       "      <th>Epoch</th>\n",
       "      <th>Training Loss</th>\n",
       "      <th>Validation Loss</th>\n",
       "      <th>Exact</th>\n",
       "      <th>F1</th>\n",
       "      <th>Total</th>\n",
       "      <th>Hasans Exact</th>\n",
       "      <th>Hasans F1</th>\n",
       "      <th>Hasans Total</th>\n",
       "      <th>Noans Exact</th>\n",
       "      <th>Noans F1</th>\n",
       "      <th>Noans Total</th>\n",
       "      <th>Best Exact</th>\n",
       "      <th>Best Exact Thresh</th>\n",
       "      <th>Best F1</th>\n",
       "      <th>Best F1 Thresh</th>\n",
       "    </tr>\n",
       "  </thead>\n",
       "  <tbody>\n",
       "    <tr>\n",
       "      <td>1</td>\n",
       "      <td>1.360700</td>\n",
       "      <td>No log</td>\n",
       "      <td>45.700328</td>\n",
       "      <td>60.307245</td>\n",
       "      <td>11873</td>\n",
       "      <td>38.157895</td>\n",
       "      <td>67.413617</td>\n",
       "      <td>5928</td>\n",
       "      <td>53.221194</td>\n",
       "      <td>53.221194</td>\n",
       "      <td>5945</td>\n",
       "      <td>50.096858</td>\n",
       "      <td>0.000000</td>\n",
       "      <td>60.330106</td>\n",
       "      <td>0.000000</td>\n",
       "    </tr>\n",
       "    <tr>\n",
       "      <td>2</td>\n",
       "      <td>0.831700</td>\n",
       "      <td>No log</td>\n",
       "      <td>55.108229</td>\n",
       "      <td>69.014954</td>\n",
       "      <td>11873</td>\n",
       "      <td>36.116734</td>\n",
       "      <td>63.970065</td>\n",
       "      <td>5928</td>\n",
       "      <td>74.045416</td>\n",
       "      <td>74.045416</td>\n",
       "      <td>5945</td>\n",
       "      <td>55.739914</td>\n",
       "      <td>0.000000</td>\n",
       "      <td>69.006531</td>\n",
       "      <td>0.000000</td>\n",
       "    </tr>\n",
       "    <tr>\n",
       "      <td>3</td>\n",
       "      <td>0.393800</td>\n",
       "      <td>No log</td>\n",
       "      <td>54.198602</td>\n",
       "      <td>68.712792</td>\n",
       "      <td>11873</td>\n",
       "      <td>39.237517</td>\n",
       "      <td>68.307520</td>\n",
       "      <td>5928</td>\n",
       "      <td>69.116905</td>\n",
       "      <td>69.116905</td>\n",
       "      <td>5945</td>\n",
       "      <td>54.746062</td>\n",
       "      <td>0.000000</td>\n",
       "      <td>68.704370</td>\n",
       "      <td>0.000000</td>\n",
       "    </tr>\n",
       "  </tbody>\n",
       "</table><p>"
      ],
      "text/plain": [
       "<IPython.core.display.HTML object>"
      ]
     },
     "metadata": {},
     "output_type": "display_data"
    },
    {
     "data": {
      "application/vnd.jupyter.widget-view+json": {
       "model_id": "9c86e45169f94eb3bcdd436803a41914",
       "version_major": 2,
       "version_minor": 0
      },
      "text/plain": [
       "  0%|          | 0/11873 [00:00<?, ?it/s]"
      ]
     },
     "metadata": {},
     "output_type": "display_data"
    },
    {
     "data": {
      "application/vnd.jupyter.widget-view+json": {
       "model_id": "11de0f9367f94421a43e6099b286c3ce",
       "version_major": 2,
       "version_minor": 0
      },
      "text/plain": [
       "  0%|          | 0/11873 [00:00<?, ?it/s]"
      ]
     },
     "metadata": {},
     "output_type": "display_data"
    },
    {
     "data": {
      "application/vnd.jupyter.widget-view+json": {
       "model_id": "dbe91b9ea2ad4604b761d15dc9fd1379",
       "version_major": 2,
       "version_minor": 0
      },
      "text/plain": [
       "  0%|          | 0/11873 [00:00<?, ?it/s]"
      ]
     },
     "metadata": {},
     "output_type": "display_data"
    },
    {
     "name": "stdout",
     "output_type": "stream",
     "text": [
      "Stopping training: No improvement in eval_f1 for 1 epochs\n"
     ]
    },
    {
     "data": {
      "text/html": [
       "\n",
       "    <div>\n",
       "      \n",
       "      <progress value='375' max='375' style='width:300px; height:20px; vertical-align: middle;'></progress>\n",
       "      [375/375 00:30]\n",
       "    </div>\n",
       "    "
      ],
      "text/plain": [
       "<IPython.core.display.HTML object>"
      ]
     },
     "metadata": {},
     "output_type": "display_data"
    },
    {
     "data": {
      "application/vnd.jupyter.widget-view+json": {
       "model_id": "f343ef75c6ca4e30883da3a91971a87a",
       "version_major": 2,
       "version_minor": 0
      },
      "text/plain": [
       "  0%|          | 0/11873 [00:00<?, ?it/s]"
      ]
     },
     "metadata": {},
     "output_type": "display_data"
    },
    {
     "name": "stdout",
     "output_type": "stream",
     "text": [
      "Stopping training: No improvement in eval_f1 for 1 epochs\n"
     ]
    },
    {
     "name": "stderr",
     "output_type": "stream",
     "text": [
      "[I 2024-05-27 04:06:22,660] Trial 10 finished with value: 69.01495391051611 and parameters: {'learning_rate': 9.41535226399275e-05, 'batch_size': 32, 'warmup_steps': 380, 'weight_decay': 0.07077487856651368, 'adam_beta1': 0.8010331990576185, 'adam_beta2': 0.9935490335829797, 'adam_epsilon': 1.7199442129813214e-07, 'lr_scheduler_type': 'cosine'}. Best is trial 9 with value: 69.76162859449346.\n"
     ]
    },
    {
     "name": "stdout",
     "output_type": "stream",
     "text": [
      "Current Trial 11 parameters: {'learning_rate': 8.159944536374918e-05, 'batch_size': 32, 'warmup_steps': 401, 'weight_decay': 0.05795700215907494, 'adam_beta1': 0.8067226194877563, 'adam_beta2': 0.9929362145788089, 'adam_epsilon': 3.902532280527017e-08, 'lr_scheduler_type': 'cosine'}\n"
     ]
    },
    {
     "name": "stderr",
     "output_type": "stream",
     "text": [
      "Some weights of BertForQuestionAnswering were not initialized from the model checkpoint at bert-base-cased and are newly initialized: ['qa_outputs.bias', 'qa_outputs.weight']\n",
      "You should probably TRAIN this model on a down-stream task to be able to use it for predictions and inference.\n"
     ]
    },
    {
     "data": {
      "text/html": [
       "\n",
       "    <div>\n",
       "      \n",
       "      <progress value='5631' max='5631' style='width:300px; height:20px; vertical-align: middle;'></progress>\n",
       "      [5631/5631 27:28, Epoch 3/3]\n",
       "    </div>\n",
       "    <table border=\"1\" class=\"dataframe\">\n",
       "  <thead>\n",
       " <tr style=\"text-align: left;\">\n",
       "      <th>Epoch</th>\n",
       "      <th>Training Loss</th>\n",
       "      <th>Validation Loss</th>\n",
       "      <th>Exact</th>\n",
       "      <th>F1</th>\n",
       "      <th>Total</th>\n",
       "      <th>Hasans Exact</th>\n",
       "      <th>Hasans F1</th>\n",
       "      <th>Hasans Total</th>\n",
       "      <th>Noans Exact</th>\n",
       "      <th>Noans F1</th>\n",
       "      <th>Noans Total</th>\n",
       "      <th>Best Exact</th>\n",
       "      <th>Best Exact Thresh</th>\n",
       "      <th>Best F1</th>\n",
       "      <th>Best F1 Thresh</th>\n",
       "    </tr>\n",
       "  </thead>\n",
       "  <tbody>\n",
       "    <tr>\n",
       "      <td>1</td>\n",
       "      <td>1.336800</td>\n",
       "      <td>No log</td>\n",
       "      <td>45.363430</td>\n",
       "      <td>60.260946</td>\n",
       "      <td>11873</td>\n",
       "      <td>40.941296</td>\n",
       "      <td>70.779051</td>\n",
       "      <td>5928</td>\n",
       "      <td>49.772918</td>\n",
       "      <td>49.772918</td>\n",
       "      <td>5945</td>\n",
       "      <td>50.096858</td>\n",
       "      <td>0.000000</td>\n",
       "      <td>60.269369</td>\n",
       "      <td>0.000000</td>\n",
       "    </tr>\n",
       "    <tr>\n",
       "      <td>2</td>\n",
       "      <td>0.815700</td>\n",
       "      <td>No log</td>\n",
       "      <td>54.358629</td>\n",
       "      <td>68.852438</td>\n",
       "      <td>11873</td>\n",
       "      <td>38.242240</td>\n",
       "      <td>67.271423</td>\n",
       "      <td>5928</td>\n",
       "      <td>70.428932</td>\n",
       "      <td>70.428932</td>\n",
       "      <td>5945</td>\n",
       "      <td>54.981892</td>\n",
       "      <td>0.000000</td>\n",
       "      <td>68.852438</td>\n",
       "      <td>0.000000</td>\n",
       "    </tr>\n",
       "    <tr>\n",
       "      <td>3</td>\n",
       "      <td>0.392400</td>\n",
       "      <td>No log</td>\n",
       "      <td>53.743788</td>\n",
       "      <td>68.667270</td>\n",
       "      <td>11873</td>\n",
       "      <td>39.136302</td>\n",
       "      <td>69.026062</td>\n",
       "      <td>5928</td>\n",
       "      <td>68.309504</td>\n",
       "      <td>68.309504</td>\n",
       "      <td>5945</td>\n",
       "      <td>54.451276</td>\n",
       "      <td>0.000000</td>\n",
       "      <td>68.658848</td>\n",
       "      <td>0.000000</td>\n",
       "    </tr>\n",
       "  </tbody>\n",
       "</table><p>"
      ],
      "text/plain": [
       "<IPython.core.display.HTML object>"
      ]
     },
     "metadata": {},
     "output_type": "display_data"
    },
    {
     "data": {
      "application/vnd.jupyter.widget-view+json": {
       "model_id": "fdc5ccef751a49d0a00aaa3d881d2e30",
       "version_major": 2,
       "version_minor": 0
      },
      "text/plain": [
       "  0%|          | 0/11873 [00:00<?, ?it/s]"
      ]
     },
     "metadata": {},
     "output_type": "display_data"
    },
    {
     "data": {
      "application/vnd.jupyter.widget-view+json": {
       "model_id": "42e1569f6ce148ceb667aef4436c3402",
       "version_major": 2,
       "version_minor": 0
      },
      "text/plain": [
       "  0%|          | 0/11873 [00:00<?, ?it/s]"
      ]
     },
     "metadata": {},
     "output_type": "display_data"
    },
    {
     "data": {
      "application/vnd.jupyter.widget-view+json": {
       "model_id": "0e9ba7c9370c45be846472ce3ef0ac3c",
       "version_major": 2,
       "version_minor": 0
      },
      "text/plain": [
       "  0%|          | 0/11873 [00:00<?, ?it/s]"
      ]
     },
     "metadata": {},
     "output_type": "display_data"
    },
    {
     "name": "stdout",
     "output_type": "stream",
     "text": [
      "Stopping training: No improvement in eval_f1 for 1 epochs\n"
     ]
    },
    {
     "data": {
      "text/html": [
       "\n",
       "    <div>\n",
       "      \n",
       "      <progress value='375' max='375' style='width:300px; height:20px; vertical-align: middle;'></progress>\n",
       "      [375/375 00:30]\n",
       "    </div>\n",
       "    "
      ],
      "text/plain": [
       "<IPython.core.display.HTML object>"
      ]
     },
     "metadata": {},
     "output_type": "display_data"
    },
    {
     "data": {
      "application/vnd.jupyter.widget-view+json": {
       "model_id": "f47c942d09384f17ae6c43d42c1456cf",
       "version_major": 2,
       "version_minor": 0
      },
      "text/plain": [
       "  0%|          | 0/11873 [00:00<?, ?it/s]"
      ]
     },
     "metadata": {},
     "output_type": "display_data"
    },
    {
     "name": "stdout",
     "output_type": "stream",
     "text": [
      "Stopping training: No improvement in eval_f1 for 1 epochs\n"
     ]
    },
    {
     "name": "stderr",
     "output_type": "stream",
     "text": [
      "[I 2024-05-27 04:34:57,013] Trial 11 finished with value: 68.85243802364668 and parameters: {'learning_rate': 8.159944536374918e-05, 'batch_size': 32, 'warmup_steps': 401, 'weight_decay': 0.05795700215907494, 'adam_beta1': 0.8067226194877563, 'adam_beta2': 0.9929362145788089, 'adam_epsilon': 3.902532280527017e-08, 'lr_scheduler_type': 'cosine'}. Best is trial 9 with value: 69.76162859449346.\n"
     ]
    },
    {
     "name": "stdout",
     "output_type": "stream",
     "text": [
      "Current Trial 12 parameters: {'learning_rate': 2.318609422378073e-05, 'batch_size': 32, 'warmup_steps': 611, 'weight_decay': 0.0788564276765058, 'adam_beta1': 0.8010154959384883, 'adam_beta2': 0.9941237737468845, 'adam_epsilon': 2.6717616220681404e-07, 'lr_scheduler_type': 'cosine'}\n"
     ]
    },
    {
     "name": "stderr",
     "output_type": "stream",
     "text": [
      "Some weights of BertForQuestionAnswering were not initialized from the model checkpoint at bert-base-cased and are newly initialized: ['qa_outputs.bias', 'qa_outputs.weight']\n",
      "You should probably TRAIN this model on a down-stream task to be able to use it for predictions and inference.\n"
     ]
    },
    {
     "data": {
      "text/html": [
       "\n",
       "    <div>\n",
       "      \n",
       "      <progress value='5631' max='5631' style='width:300px; height:20px; vertical-align: middle;'></progress>\n",
       "      [5631/5631 27:28, Epoch 3/3]\n",
       "    </div>\n",
       "    <table border=\"1\" class=\"dataframe\">\n",
       "  <thead>\n",
       " <tr style=\"text-align: left;\">\n",
       "      <th>Epoch</th>\n",
       "      <th>Training Loss</th>\n",
       "      <th>Validation Loss</th>\n",
       "      <th>Exact</th>\n",
       "      <th>F1</th>\n",
       "      <th>Total</th>\n",
       "      <th>Hasans Exact</th>\n",
       "      <th>Hasans F1</th>\n",
       "      <th>Hasans Total</th>\n",
       "      <th>Noans Exact</th>\n",
       "      <th>Noans F1</th>\n",
       "      <th>Noans Total</th>\n",
       "      <th>Best Exact</th>\n",
       "      <th>Best Exact Thresh</th>\n",
       "      <th>Best F1</th>\n",
       "      <th>Best F1 Thresh</th>\n",
       "    </tr>\n",
       "  </thead>\n",
       "  <tbody>\n",
       "    <tr>\n",
       "      <td>1</td>\n",
       "      <td>1.447500</td>\n",
       "      <td>No log</td>\n",
       "      <td>44.647520</td>\n",
       "      <td>59.233499</td>\n",
       "      <td>11873</td>\n",
       "      <td>39.018219</td>\n",
       "      <td>68.232007</td>\n",
       "      <td>5928</td>\n",
       "      <td>50.260723</td>\n",
       "      <td>50.260723</td>\n",
       "      <td>5945</td>\n",
       "      <td>50.096858</td>\n",
       "      <td>0.000000</td>\n",
       "      <td>59.253152</td>\n",
       "      <td>0.000000</td>\n",
       "    </tr>\n",
       "    <tr>\n",
       "      <td>2</td>\n",
       "      <td>0.996300</td>\n",
       "      <td>No log</td>\n",
       "      <td>53.903815</td>\n",
       "      <td>67.810409</td>\n",
       "      <td>11873</td>\n",
       "      <td>37.415655</td>\n",
       "      <td>65.268722</td>\n",
       "      <td>5928</td>\n",
       "      <td>70.344828</td>\n",
       "      <td>70.344828</td>\n",
       "      <td>5945</td>\n",
       "      <td>54.442854</td>\n",
       "      <td>0.000000</td>\n",
       "      <td>67.810409</td>\n",
       "      <td>0.000000</td>\n",
       "    </tr>\n",
       "    <tr>\n",
       "      <td>3</td>\n",
       "      <td>0.736200</td>\n",
       "      <td>No log</td>\n",
       "      <td>52.589910</td>\n",
       "      <td>66.950249</td>\n",
       "      <td>11873</td>\n",
       "      <td>38.967611</td>\n",
       "      <td>67.729472</td>\n",
       "      <td>5928</td>\n",
       "      <td>66.173255</td>\n",
       "      <td>66.173255</td>\n",
       "      <td>5945</td>\n",
       "      <td>53.196328</td>\n",
       "      <td>0.000000</td>\n",
       "      <td>66.950249</td>\n",
       "      <td>0.000000</td>\n",
       "    </tr>\n",
       "  </tbody>\n",
       "</table><p>"
      ],
      "text/plain": [
       "<IPython.core.display.HTML object>"
      ]
     },
     "metadata": {},
     "output_type": "display_data"
    },
    {
     "data": {
      "application/vnd.jupyter.widget-view+json": {
       "model_id": "15872af00eff4a269584cbb0e1eeb40e",
       "version_major": 2,
       "version_minor": 0
      },
      "text/plain": [
       "  0%|          | 0/11873 [00:00<?, ?it/s]"
      ]
     },
     "metadata": {},
     "output_type": "display_data"
    },
    {
     "data": {
      "application/vnd.jupyter.widget-view+json": {
       "model_id": "2a5f6f52358c4260849c04d3ef0782ba",
       "version_major": 2,
       "version_minor": 0
      },
      "text/plain": [
       "  0%|          | 0/11873 [00:00<?, ?it/s]"
      ]
     },
     "metadata": {},
     "output_type": "display_data"
    },
    {
     "data": {
      "application/vnd.jupyter.widget-view+json": {
       "model_id": "6b49b21e31f043e6b2b426882fc5be2a",
       "version_major": 2,
       "version_minor": 0
      },
      "text/plain": [
       "  0%|          | 0/11873 [00:00<?, ?it/s]"
      ]
     },
     "metadata": {},
     "output_type": "display_data"
    },
    {
     "name": "stdout",
     "output_type": "stream",
     "text": [
      "Stopping training: No improvement in eval_f1 for 1 epochs\n"
     ]
    },
    {
     "data": {
      "text/html": [
       "\n",
       "    <div>\n",
       "      \n",
       "      <progress value='375' max='375' style='width:300px; height:20px; vertical-align: middle;'></progress>\n",
       "      [375/375 00:30]\n",
       "    </div>\n",
       "    "
      ],
      "text/plain": [
       "<IPython.core.display.HTML object>"
      ]
     },
     "metadata": {},
     "output_type": "display_data"
    },
    {
     "data": {
      "application/vnd.jupyter.widget-view+json": {
       "model_id": "a0b3758a256d4aa099820c8ce6c09dfe",
       "version_major": 2,
       "version_minor": 0
      },
      "text/plain": [
       "  0%|          | 0/11873 [00:00<?, ?it/s]"
      ]
     },
     "metadata": {},
     "output_type": "display_data"
    },
    {
     "name": "stdout",
     "output_type": "stream",
     "text": [
      "Stopping training: No improvement in eval_f1 for 1 epochs\n"
     ]
    },
    {
     "name": "stderr",
     "output_type": "stream",
     "text": [
      "[I 2024-05-27 05:03:31,055] Trial 12 finished with value: 67.81040876588408 and parameters: {'learning_rate': 2.318609422378073e-05, 'batch_size': 32, 'warmup_steps': 611, 'weight_decay': 0.0788564276765058, 'adam_beta1': 0.8010154959384883, 'adam_beta2': 0.9941237737468845, 'adam_epsilon': 2.6717616220681404e-07, 'lr_scheduler_type': 'cosine'}. Best is trial 9 with value: 69.76162859449346.\n"
     ]
    },
    {
     "name": "stdout",
     "output_type": "stream",
     "text": [
      "Current Trial 13 parameters: {'learning_rate': 2.1545575027189555e-05, 'batch_size': 32, 'warmup_steps': 296, 'weight_decay': 0.18253292872945703, 'adam_beta1': 0.8231749605587936, 'adam_beta2': 0.9939072454544569, 'adam_epsilon': 1.895119179143103e-07, 'lr_scheduler_type': 'cosine'}\n"
     ]
    },
    {
     "name": "stderr",
     "output_type": "stream",
     "text": [
      "Some weights of BertForQuestionAnswering were not initialized from the model checkpoint at bert-base-cased and are newly initialized: ['qa_outputs.bias', 'qa_outputs.weight']\n",
      "You should probably TRAIN this model on a down-stream task to be able to use it for predictions and inference.\n"
     ]
    },
    {
     "data": {
      "text/html": [
       "\n",
       "    <div>\n",
       "      \n",
       "      <progress value='5631' max='5631' style='width:300px; height:20px; vertical-align: middle;'></progress>\n",
       "      [5631/5631 27:27, Epoch 3/3]\n",
       "    </div>\n",
       "    <table border=\"1\" class=\"dataframe\">\n",
       "  <thead>\n",
       " <tr style=\"text-align: left;\">\n",
       "      <th>Epoch</th>\n",
       "      <th>Training Loss</th>\n",
       "      <th>Validation Loss</th>\n",
       "      <th>Exact</th>\n",
       "      <th>F1</th>\n",
       "      <th>Total</th>\n",
       "      <th>Hasans Exact</th>\n",
       "      <th>Hasans F1</th>\n",
       "      <th>Hasans Total</th>\n",
       "      <th>Noans Exact</th>\n",
       "      <th>Noans F1</th>\n",
       "      <th>Noans Total</th>\n",
       "      <th>Best Exact</th>\n",
       "      <th>Best Exact Thresh</th>\n",
       "      <th>Best F1</th>\n",
       "      <th>Best F1 Thresh</th>\n",
       "    </tr>\n",
       "  </thead>\n",
       "  <tbody>\n",
       "    <tr>\n",
       "      <td>1</td>\n",
       "      <td>1.414900</td>\n",
       "      <td>No log</td>\n",
       "      <td>43.805272</td>\n",
       "      <td>58.775002</td>\n",
       "      <td>11873</td>\n",
       "      <td>39.743590</td>\n",
       "      <td>69.725978</td>\n",
       "      <td>5928</td>\n",
       "      <td>47.855341</td>\n",
       "      <td>47.855341</td>\n",
       "      <td>5945</td>\n",
       "      <td>50.096858</td>\n",
       "      <td>0.000000</td>\n",
       "      <td>58.794655</td>\n",
       "      <td>0.000000</td>\n",
       "    </tr>\n",
       "    <tr>\n",
       "      <td>2</td>\n",
       "      <td>0.986000</td>\n",
       "      <td>No log</td>\n",
       "      <td>53.785901</td>\n",
       "      <td>67.739371</td>\n",
       "      <td>11873</td>\n",
       "      <td>37.634953</td>\n",
       "      <td>65.581908</td>\n",
       "      <td>5928</td>\n",
       "      <td>69.890664</td>\n",
       "      <td>69.890664</td>\n",
       "      <td>5945</td>\n",
       "      <td>54.291249</td>\n",
       "      <td>0.000000</td>\n",
       "      <td>67.739371</td>\n",
       "      <td>0.000000</td>\n",
       "    </tr>\n",
       "    <tr>\n",
       "      <td>3</td>\n",
       "      <td>0.757700</td>\n",
       "      <td>No log</td>\n",
       "      <td>52.556220</td>\n",
       "      <td>66.936091</td>\n",
       "      <td>11873</td>\n",
       "      <td>38.866397</td>\n",
       "      <td>67.667378</td>\n",
       "      <td>5928</td>\n",
       "      <td>66.206897</td>\n",
       "      <td>66.206897</td>\n",
       "      <td>5945</td>\n",
       "      <td>53.145793</td>\n",
       "      <td>0.000000</td>\n",
       "      <td>66.936091</td>\n",
       "      <td>0.000000</td>\n",
       "    </tr>\n",
       "  </tbody>\n",
       "</table><p>"
      ],
      "text/plain": [
       "<IPython.core.display.HTML object>"
      ]
     },
     "metadata": {},
     "output_type": "display_data"
    },
    {
     "data": {
      "application/vnd.jupyter.widget-view+json": {
       "model_id": "d435dc00b0384ec4a915ebb15ff0f8bd",
       "version_major": 2,
       "version_minor": 0
      },
      "text/plain": [
       "  0%|          | 0/11873 [00:00<?, ?it/s]"
      ]
     },
     "metadata": {},
     "output_type": "display_data"
    },
    {
     "data": {
      "application/vnd.jupyter.widget-view+json": {
       "model_id": "6f8a1c28a2d94510bf9c645fb43a0bd4",
       "version_major": 2,
       "version_minor": 0
      },
      "text/plain": [
       "  0%|          | 0/11873 [00:00<?, ?it/s]"
      ]
     },
     "metadata": {},
     "output_type": "display_data"
    },
    {
     "data": {
      "application/vnd.jupyter.widget-view+json": {
       "model_id": "d80a91f1da9241f894c0fd08588b9bab",
       "version_major": 2,
       "version_minor": 0
      },
      "text/plain": [
       "  0%|          | 0/11873 [00:00<?, ?it/s]"
      ]
     },
     "metadata": {},
     "output_type": "display_data"
    },
    {
     "name": "stdout",
     "output_type": "stream",
     "text": [
      "Stopping training: No improvement in eval_f1 for 1 epochs\n"
     ]
    },
    {
     "data": {
      "text/html": [
       "\n",
       "    <div>\n",
       "      \n",
       "      <progress value='375' max='375' style='width:300px; height:20px; vertical-align: middle;'></progress>\n",
       "      [375/375 00:30]\n",
       "    </div>\n",
       "    "
      ],
      "text/plain": [
       "<IPython.core.display.HTML object>"
      ]
     },
     "metadata": {},
     "output_type": "display_data"
    },
    {
     "data": {
      "application/vnd.jupyter.widget-view+json": {
       "model_id": "262bc1de80a647e7a90f76dadbf759da",
       "version_major": 2,
       "version_minor": 0
      },
      "text/plain": [
       "  0%|          | 0/11873 [00:00<?, ?it/s]"
      ]
     },
     "metadata": {},
     "output_type": "display_data"
    },
    {
     "name": "stdout",
     "output_type": "stream",
     "text": [
      "Stopping training: No improvement in eval_f1 for 1 epochs\n"
     ]
    },
    {
     "name": "stderr",
     "output_type": "stream",
     "text": [
      "[I 2024-05-27 05:32:04,575] Trial 13 finished with value: 67.7393707621622 and parameters: {'learning_rate': 2.1545575027189555e-05, 'batch_size': 32, 'warmup_steps': 296, 'weight_decay': 0.18253292872945703, 'adam_beta1': 0.8231749605587936, 'adam_beta2': 0.9939072454544569, 'adam_epsilon': 1.895119179143103e-07, 'lr_scheduler_type': 'cosine'}. Best is trial 9 with value: 69.76162859449346.\n"
     ]
    },
    {
     "name": "stdout",
     "output_type": "stream",
     "text": [
      "Current Trial 14 parameters: {'learning_rate': 2.8549155447900446e-05, 'batch_size': 32, 'warmup_steps': 577, 'weight_decay': 0.09294699920541574, 'adam_beta1': 0.8774512339865945, 'adam_beta2': 0.9927446497021774, 'adam_epsilon': 4.3144566530926874e-07, 'lr_scheduler_type': 'cosine'}\n"
     ]
    },
    {
     "name": "stderr",
     "output_type": "stream",
     "text": [
      "Some weights of BertForQuestionAnswering were not initialized from the model checkpoint at bert-base-cased and are newly initialized: ['qa_outputs.bias', 'qa_outputs.weight']\n",
      "You should probably TRAIN this model on a down-stream task to be able to use it for predictions and inference.\n"
     ]
    },
    {
     "data": {
      "text/html": [
       "\n",
       "    <div>\n",
       "      \n",
       "      <progress value='5631' max='5631' style='width:300px; height:20px; vertical-align: middle;'></progress>\n",
       "      [5631/5631 27:29, Epoch 3/3]\n",
       "    </div>\n",
       "    <table border=\"1\" class=\"dataframe\">\n",
       "  <thead>\n",
       " <tr style=\"text-align: left;\">\n",
       "      <th>Epoch</th>\n",
       "      <th>Training Loss</th>\n",
       "      <th>Validation Loss</th>\n",
       "      <th>Exact</th>\n",
       "      <th>F1</th>\n",
       "      <th>Total</th>\n",
       "      <th>Hasans Exact</th>\n",
       "      <th>Hasans F1</th>\n",
       "      <th>Hasans Total</th>\n",
       "      <th>Noans Exact</th>\n",
       "      <th>Noans F1</th>\n",
       "      <th>Noans Total</th>\n",
       "      <th>Best Exact</th>\n",
       "      <th>Best Exact Thresh</th>\n",
       "      <th>Best F1</th>\n",
       "      <th>Best F1 Thresh</th>\n",
       "    </tr>\n",
       "  </thead>\n",
       "  <tbody>\n",
       "    <tr>\n",
       "      <td>1</td>\n",
       "      <td>1.407000</td>\n",
       "      <td>No log</td>\n",
       "      <td>45.405542</td>\n",
       "      <td>60.150774</td>\n",
       "      <td>11873</td>\n",
       "      <td>39.288124</td>\n",
       "      <td>68.820873</td>\n",
       "      <td>5928</td>\n",
       "      <td>51.505467</td>\n",
       "      <td>51.505467</td>\n",
       "      <td>5945</td>\n",
       "      <td>50.088436</td>\n",
       "      <td>0.000000</td>\n",
       "      <td>60.162004</td>\n",
       "      <td>0.000000</td>\n",
       "    </tr>\n",
       "    <tr>\n",
       "      <td>2</td>\n",
       "      <td>0.941200</td>\n",
       "      <td>No log</td>\n",
       "      <td>54.442854</td>\n",
       "      <td>68.575675</td>\n",
       "      <td>11873</td>\n",
       "      <td>37.533738</td>\n",
       "      <td>65.839911</td>\n",
       "      <td>5928</td>\n",
       "      <td>71.303616</td>\n",
       "      <td>71.303616</td>\n",
       "      <td>5945</td>\n",
       "      <td>54.872400</td>\n",
       "      <td>0.000000</td>\n",
       "      <td>68.584098</td>\n",
       "      <td>0.000000</td>\n",
       "    </tr>\n",
       "    <tr>\n",
       "      <td>3</td>\n",
       "      <td>0.650000</td>\n",
       "      <td>No log</td>\n",
       "      <td>53.179483</td>\n",
       "      <td>67.640945</td>\n",
       "      <td>11873</td>\n",
       "      <td>39.085695</td>\n",
       "      <td>68.050090</td>\n",
       "      <td>5928</td>\n",
       "      <td>67.232969</td>\n",
       "      <td>67.232969</td>\n",
       "      <td>5945</td>\n",
       "      <td>53.710099</td>\n",
       "      <td>0.000000</td>\n",
       "      <td>67.640945</td>\n",
       "      <td>0.000000</td>\n",
       "    </tr>\n",
       "  </tbody>\n",
       "</table><p>"
      ],
      "text/plain": [
       "<IPython.core.display.HTML object>"
      ]
     },
     "metadata": {},
     "output_type": "display_data"
    },
    {
     "data": {
      "application/vnd.jupyter.widget-view+json": {
       "model_id": "6a0d393fa2d6466485f32607680495be",
       "version_major": 2,
       "version_minor": 0
      },
      "text/plain": [
       "  0%|          | 0/11873 [00:00<?, ?it/s]"
      ]
     },
     "metadata": {},
     "output_type": "display_data"
    },
    {
     "data": {
      "application/vnd.jupyter.widget-view+json": {
       "model_id": "d76c9709a10f41929836f3f120d96043",
       "version_major": 2,
       "version_minor": 0
      },
      "text/plain": [
       "  0%|          | 0/11873 [00:00<?, ?it/s]"
      ]
     },
     "metadata": {},
     "output_type": "display_data"
    },
    {
     "data": {
      "application/vnd.jupyter.widget-view+json": {
       "model_id": "05fb954f11b14aed8676b75cc634810b",
       "version_major": 2,
       "version_minor": 0
      },
      "text/plain": [
       "  0%|          | 0/11873 [00:00<?, ?it/s]"
      ]
     },
     "metadata": {},
     "output_type": "display_data"
    },
    {
     "name": "stdout",
     "output_type": "stream",
     "text": [
      "Stopping training: No improvement in eval_f1 for 1 epochs\n"
     ]
    },
    {
     "data": {
      "text/html": [
       "\n",
       "    <div>\n",
       "      \n",
       "      <progress value='375' max='375' style='width:300px; height:20px; vertical-align: middle;'></progress>\n",
       "      [375/375 00:30]\n",
       "    </div>\n",
       "    "
      ],
      "text/plain": [
       "<IPython.core.display.HTML object>"
      ]
     },
     "metadata": {},
     "output_type": "display_data"
    },
    {
     "data": {
      "application/vnd.jupyter.widget-view+json": {
       "model_id": "11375d652c734332b27524b98bf24096",
       "version_major": 2,
       "version_minor": 0
      },
      "text/plain": [
       "  0%|          | 0/11873 [00:00<?, ?it/s]"
      ]
     },
     "metadata": {},
     "output_type": "display_data"
    },
    {
     "name": "stdout",
     "output_type": "stream",
     "text": [
      "Stopping training: No improvement in eval_f1 for 1 epochs\n"
     ]
    },
    {
     "name": "stderr",
     "output_type": "stream",
     "text": [
      "[I 2024-05-27 06:00:39,339] Trial 14 finished with value: 68.57567543025168 and parameters: {'learning_rate': 2.8549155447900446e-05, 'batch_size': 32, 'warmup_steps': 577, 'weight_decay': 0.09294699920541574, 'adam_beta1': 0.8774512339865945, 'adam_beta2': 0.9927446497021774, 'adam_epsilon': 4.3144566530926874e-07, 'lr_scheduler_type': 'cosine'}. Best is trial 9 with value: 69.76162859449346.\n"
     ]
    },
    {
     "name": "stdout",
     "output_type": "stream",
     "text": [
      "Current Trial 15 parameters: {'learning_rate': 9.60291898281835e-05, 'batch_size': 32, 'warmup_steps': 305, 'weight_decay': 0.041701741689357016, 'adam_beta1': 0.8171426308360827, 'adam_beta2': 0.9951163801971098, 'adam_epsilon': 5.892615403419578e-07, 'lr_scheduler_type': 'cosine'}\n"
     ]
    },
    {
     "name": "stderr",
     "output_type": "stream",
     "text": [
      "Some weights of BertForQuestionAnswering were not initialized from the model checkpoint at bert-base-cased and are newly initialized: ['qa_outputs.bias', 'qa_outputs.weight']\n",
      "You should probably TRAIN this model on a down-stream task to be able to use it for predictions and inference.\n"
     ]
    },
    {
     "data": {
      "text/html": [
       "\n",
       "    <div>\n",
       "      \n",
       "      <progress value='5631' max='5631' style='width:300px; height:20px; vertical-align: middle;'></progress>\n",
       "      [5631/5631 27:29, Epoch 3/3]\n",
       "    </div>\n",
       "    <table border=\"1\" class=\"dataframe\">\n",
       "  <thead>\n",
       " <tr style=\"text-align: left;\">\n",
       "      <th>Epoch</th>\n",
       "      <th>Training Loss</th>\n",
       "      <th>Validation Loss</th>\n",
       "      <th>Exact</th>\n",
       "      <th>F1</th>\n",
       "      <th>Total</th>\n",
       "      <th>Hasans Exact</th>\n",
       "      <th>Hasans F1</th>\n",
       "      <th>Hasans Total</th>\n",
       "      <th>Noans Exact</th>\n",
       "      <th>Noans F1</th>\n",
       "      <th>Noans Total</th>\n",
       "      <th>Best Exact</th>\n",
       "      <th>Best Exact Thresh</th>\n",
       "      <th>Best F1</th>\n",
       "      <th>Best F1 Thresh</th>\n",
       "    </tr>\n",
       "  </thead>\n",
       "  <tbody>\n",
       "    <tr>\n",
       "      <td>1</td>\n",
       "      <td>1.354700</td>\n",
       "      <td>No log</td>\n",
       "      <td>45.860355</td>\n",
       "      <td>60.728618</td>\n",
       "      <td>11873</td>\n",
       "      <td>38.394062</td>\n",
       "      <td>68.173226</td>\n",
       "      <td>5928</td>\n",
       "      <td>53.305299</td>\n",
       "      <td>53.305299</td>\n",
       "      <td>5945</td>\n",
       "      <td>50.096858</td>\n",
       "      <td>0.000000</td>\n",
       "      <td>60.745463</td>\n",
       "      <td>0.000000</td>\n",
       "    </tr>\n",
       "    <tr>\n",
       "      <td>2</td>\n",
       "      <td>0.832500</td>\n",
       "      <td>No log</td>\n",
       "      <td>54.072265</td>\n",
       "      <td>68.076549</td>\n",
       "      <td>11873</td>\n",
       "      <td>37.685560</td>\n",
       "      <td>65.734290</td>\n",
       "      <td>5928</td>\n",
       "      <td>70.412111</td>\n",
       "      <td>70.412111</td>\n",
       "      <td>5945</td>\n",
       "      <td>54.712373</td>\n",
       "      <td>0.000000</td>\n",
       "      <td>68.059704</td>\n",
       "      <td>0.000000</td>\n",
       "    </tr>\n",
       "    <tr>\n",
       "      <td>3</td>\n",
       "      <td>0.396400</td>\n",
       "      <td>No log</td>\n",
       "      <td>53.659564</td>\n",
       "      <td>68.407562</td>\n",
       "      <td>11873</td>\n",
       "      <td>38.782051</td>\n",
       "      <td>68.320342</td>\n",
       "      <td>5928</td>\n",
       "      <td>68.494533</td>\n",
       "      <td>68.494533</td>\n",
       "      <td>5945</td>\n",
       "      <td>54.215447</td>\n",
       "      <td>0.000000</td>\n",
       "      <td>68.399140</td>\n",
       "      <td>0.000000</td>\n",
       "    </tr>\n",
       "  </tbody>\n",
       "</table><p>"
      ],
      "text/plain": [
       "<IPython.core.display.HTML object>"
      ]
     },
     "metadata": {},
     "output_type": "display_data"
    },
    {
     "data": {
      "application/vnd.jupyter.widget-view+json": {
       "model_id": "9c233eeb777b4768ad5b6f6df91237e6",
       "version_major": 2,
       "version_minor": 0
      },
      "text/plain": [
       "  0%|          | 0/11873 [00:00<?, ?it/s]"
      ]
     },
     "metadata": {},
     "output_type": "display_data"
    },
    {
     "data": {
      "application/vnd.jupyter.widget-view+json": {
       "model_id": "5c4598e829b94d90bbb0c10fe568d827",
       "version_major": 2,
       "version_minor": 0
      },
      "text/plain": [
       "  0%|          | 0/11873 [00:00<?, ?it/s]"
      ]
     },
     "metadata": {},
     "output_type": "display_data"
    },
    {
     "data": {
      "application/vnd.jupyter.widget-view+json": {
       "model_id": "0d7e806cd32045228a7aa9997de316c6",
       "version_major": 2,
       "version_minor": 0
      },
      "text/plain": [
       "  0%|          | 0/11873 [00:00<?, ?it/s]"
      ]
     },
     "metadata": {},
     "output_type": "display_data"
    },
    {
     "data": {
      "text/html": [
       "\n",
       "    <div>\n",
       "      \n",
       "      <progress value='375' max='375' style='width:300px; height:20px; vertical-align: middle;'></progress>\n",
       "      [375/375 00:30]\n",
       "    </div>\n",
       "    "
      ],
      "text/plain": [
       "<IPython.core.display.HTML object>"
      ]
     },
     "metadata": {},
     "output_type": "display_data"
    },
    {
     "data": {
      "application/vnd.jupyter.widget-view+json": {
       "model_id": "c609f99a201c470798ed1f449ae04fca",
       "version_major": 2,
       "version_minor": 0
      },
      "text/plain": [
       "  0%|          | 0/11873 [00:00<?, ?it/s]"
      ]
     },
     "metadata": {},
     "output_type": "display_data"
    },
    {
     "name": "stdout",
     "output_type": "stream",
     "text": [
      "Stopping training: No improvement in eval_f1 for 1 epochs\n"
     ]
    },
    {
     "name": "stderr",
     "output_type": "stream",
     "text": [
      "[I 2024-05-27 06:29:14,218] Trial 15 finished with value: 68.40756230636224 and parameters: {'learning_rate': 9.60291898281835e-05, 'batch_size': 32, 'warmup_steps': 305, 'weight_decay': 0.041701741689357016, 'adam_beta1': 0.8171426308360827, 'adam_beta2': 0.9951163801971098, 'adam_epsilon': 5.892615403419578e-07, 'lr_scheduler_type': 'cosine'}. Best is trial 9 with value: 69.76162859449346.\n"
     ]
    },
    {
     "name": "stdout",
     "output_type": "stream",
     "text": [
      "Current Trial 16 parameters: {'learning_rate': 3.6809224647208096e-05, 'batch_size': 32, 'warmup_steps': 755, 'weight_decay': 0.09221106406952706, 'adam_beta1': 0.859623441525126, 'adam_beta2': 0.9965755321665304, 'adam_epsilon': 9.344525266405982e-07, 'lr_scheduler_type': 'cosine'}\n"
     ]
    },
    {
     "name": "stderr",
     "output_type": "stream",
     "text": [
      "Some weights of BertForQuestionAnswering were not initialized from the model checkpoint at bert-base-cased and are newly initialized: ['qa_outputs.bias', 'qa_outputs.weight']\n",
      "You should probably TRAIN this model on a down-stream task to be able to use it for predictions and inference.\n"
     ]
    },
    {
     "data": {
      "text/html": [
       "\n",
       "    <div>\n",
       "      \n",
       "      <progress value='5631' max='5631' style='width:300px; height:20px; vertical-align: middle;'></progress>\n",
       "      [5631/5631 27:29, Epoch 3/3]\n",
       "    </div>\n",
       "    <table border=\"1\" class=\"dataframe\">\n",
       "  <thead>\n",
       " <tr style=\"text-align: left;\">\n",
       "      <th>Epoch</th>\n",
       "      <th>Training Loss</th>\n",
       "      <th>Validation Loss</th>\n",
       "      <th>Exact</th>\n",
       "      <th>F1</th>\n",
       "      <th>Total</th>\n",
       "      <th>Hasans Exact</th>\n",
       "      <th>Hasans F1</th>\n",
       "      <th>Hasans Total</th>\n",
       "      <th>Noans Exact</th>\n",
       "      <th>Noans F1</th>\n",
       "      <th>Noans Total</th>\n",
       "      <th>Best Exact</th>\n",
       "      <th>Best Exact Thresh</th>\n",
       "      <th>Best F1</th>\n",
       "      <th>Best F1 Thresh</th>\n",
       "    </tr>\n",
       "  </thead>\n",
       "  <tbody>\n",
       "    <tr>\n",
       "      <td>1</td>\n",
       "      <td>1.395800</td>\n",
       "      <td>No log</td>\n",
       "      <td>41.758612</td>\n",
       "      <td>57.317797</td>\n",
       "      <td>11873</td>\n",
       "      <td>40.080972</td>\n",
       "      <td>71.243961</td>\n",
       "      <td>5928</td>\n",
       "      <td>43.431455</td>\n",
       "      <td>43.431455</td>\n",
       "      <td>5945</td>\n",
       "      <td>50.088436</td>\n",
       "      <td>0.000000</td>\n",
       "      <td>57.337449</td>\n",
       "      <td>0.000000</td>\n",
       "    </tr>\n",
       "    <tr>\n",
       "      <td>2</td>\n",
       "      <td>0.902000</td>\n",
       "      <td>No log</td>\n",
       "      <td>54.889245</td>\n",
       "      <td>68.872396</td>\n",
       "      <td>11873</td>\n",
       "      <td>37.112011</td>\n",
       "      <td>65.118413</td>\n",
       "      <td>5928</td>\n",
       "      <td>72.615643</td>\n",
       "      <td>72.615643</td>\n",
       "      <td>5945</td>\n",
       "      <td>55.301946</td>\n",
       "      <td>0.000000</td>\n",
       "      <td>68.872396</td>\n",
       "      <td>0.000000</td>\n",
       "    </tr>\n",
       "    <tr>\n",
       "      <td>3</td>\n",
       "      <td>0.565500</td>\n",
       "      <td>No log</td>\n",
       "      <td>53.482692</td>\n",
       "      <td>68.072163</td>\n",
       "      <td>11873</td>\n",
       "      <td>38.731444</td>\n",
       "      <td>67.952224</td>\n",
       "      <td>5928</td>\n",
       "      <td>68.191758</td>\n",
       "      <td>68.191758</td>\n",
       "      <td>5945</td>\n",
       "      <td>54.046997</td>\n",
       "      <td>0.000000</td>\n",
       "      <td>68.072163</td>\n",
       "      <td>0.000000</td>\n",
       "    </tr>\n",
       "  </tbody>\n",
       "</table><p>"
      ],
      "text/plain": [
       "<IPython.core.display.HTML object>"
      ]
     },
     "metadata": {},
     "output_type": "display_data"
    },
    {
     "data": {
      "application/vnd.jupyter.widget-view+json": {
       "model_id": "69a3ff32f0ad42249204eba787b5afce",
       "version_major": 2,
       "version_minor": 0
      },
      "text/plain": [
       "  0%|          | 0/11873 [00:00<?, ?it/s]"
      ]
     },
     "metadata": {},
     "output_type": "display_data"
    },
    {
     "data": {
      "application/vnd.jupyter.widget-view+json": {
       "model_id": "345f5dea44334147a1a7bcf412757b2b",
       "version_major": 2,
       "version_minor": 0
      },
      "text/plain": [
       "  0%|          | 0/11873 [00:00<?, ?it/s]"
      ]
     },
     "metadata": {},
     "output_type": "display_data"
    },
    {
     "data": {
      "application/vnd.jupyter.widget-view+json": {
       "model_id": "e2407c46c0a24c28bf28092f3ef0e896",
       "version_major": 2,
       "version_minor": 0
      },
      "text/plain": [
       "  0%|          | 0/11873 [00:00<?, ?it/s]"
      ]
     },
     "metadata": {},
     "output_type": "display_data"
    },
    {
     "name": "stdout",
     "output_type": "stream",
     "text": [
      "Stopping training: No improvement in eval_f1 for 1 epochs\n"
     ]
    },
    {
     "data": {
      "text/html": [
       "\n",
       "    <div>\n",
       "      \n",
       "      <progress value='375' max='375' style='width:300px; height:20px; vertical-align: middle;'></progress>\n",
       "      [375/375 00:30]\n",
       "    </div>\n",
       "    "
      ],
      "text/plain": [
       "<IPython.core.display.HTML object>"
      ]
     },
     "metadata": {},
     "output_type": "display_data"
    },
    {
     "data": {
      "application/vnd.jupyter.widget-view+json": {
       "model_id": "7ba267df7ce1413eaa92f7bbb78fade6",
       "version_major": 2,
       "version_minor": 0
      },
      "text/plain": [
       "  0%|          | 0/11873 [00:00<?, ?it/s]"
      ]
     },
     "metadata": {},
     "output_type": "display_data"
    },
    {
     "name": "stdout",
     "output_type": "stream",
     "text": [
      "Stopping training: No improvement in eval_f1 for 1 epochs\n"
     ]
    },
    {
     "name": "stderr",
     "output_type": "stream",
     "text": [
      "[I 2024-05-27 06:57:48,776] Trial 16 finished with value: 68.87239553190524 and parameters: {'learning_rate': 3.6809224647208096e-05, 'batch_size': 32, 'warmup_steps': 755, 'weight_decay': 0.09221106406952706, 'adam_beta1': 0.859623441525126, 'adam_beta2': 0.9965755321665304, 'adam_epsilon': 9.344525266405982e-07, 'lr_scheduler_type': 'cosine'}. Best is trial 9 with value: 69.76162859449346.\n"
     ]
    },
    {
     "name": "stdout",
     "output_type": "stream",
     "text": [
      "Current Trial 17 parameters: {'learning_rate': 1.067395298558973e-05, 'batch_size': 32, 'warmup_steps': 499, 'weight_decay': 0.1816655269610026, 'adam_beta1': 0.8210134551977514, 'adam_beta2': 0.9930401718266507, 'adam_epsilon': 4.16055252593504e-07, 'lr_scheduler_type': 'cosine'}\n"
     ]
    },
    {
     "name": "stderr",
     "output_type": "stream",
     "text": [
      "Some weights of BertForQuestionAnswering were not initialized from the model checkpoint at bert-base-cased and are newly initialized: ['qa_outputs.bias', 'qa_outputs.weight']\n",
      "You should probably TRAIN this model on a down-stream task to be able to use it for predictions and inference.\n"
     ]
    },
    {
     "data": {
      "text/html": [
       "\n",
       "    <div>\n",
       "      \n",
       "      <progress value='5631' max='5631' style='width:300px; height:20px; vertical-align: middle;'></progress>\n",
       "      [5631/5631 27:30, Epoch 3/3]\n",
       "    </div>\n",
       "    <table border=\"1\" class=\"dataframe\">\n",
       "  <thead>\n",
       " <tr style=\"text-align: left;\">\n",
       "      <th>Epoch</th>\n",
       "      <th>Training Loss</th>\n",
       "      <th>Validation Loss</th>\n",
       "      <th>Exact</th>\n",
       "      <th>F1</th>\n",
       "      <th>Total</th>\n",
       "      <th>Hasans Exact</th>\n",
       "      <th>Hasans F1</th>\n",
       "      <th>Hasans Total</th>\n",
       "      <th>Noans Exact</th>\n",
       "      <th>Noans F1</th>\n",
       "      <th>Noans Total</th>\n",
       "      <th>Best Exact</th>\n",
       "      <th>Best Exact Thresh</th>\n",
       "      <th>Best F1</th>\n",
       "      <th>Best F1 Thresh</th>\n",
       "    </tr>\n",
       "  </thead>\n",
       "  <tbody>\n",
       "    <tr>\n",
       "      <td>1</td>\n",
       "      <td>1.642200</td>\n",
       "      <td>No log</td>\n",
       "      <td>40.250990</td>\n",
       "      <td>54.654761</td>\n",
       "      <td>11873</td>\n",
       "      <td>37.803644</td>\n",
       "      <td>66.652493</td>\n",
       "      <td>5928</td>\n",
       "      <td>42.691337</td>\n",
       "      <td>42.691337</td>\n",
       "      <td>5945</td>\n",
       "      <td>50.096858</td>\n",
       "      <td>0.000000</td>\n",
       "      <td>54.680029</td>\n",
       "      <td>0.000000</td>\n",
       "    </tr>\n",
       "    <tr>\n",
       "      <td>2</td>\n",
       "      <td>1.221500</td>\n",
       "      <td>No log</td>\n",
       "      <td>51.570791</td>\n",
       "      <td>64.843821</td>\n",
       "      <td>11873</td>\n",
       "      <td>35.762483</td>\n",
       "      <td>62.346607</td>\n",
       "      <td>5928</td>\n",
       "      <td>67.333894</td>\n",
       "      <td>67.333894</td>\n",
       "      <td>5945</td>\n",
       "      <td>52.278278</td>\n",
       "      <td>0.000000</td>\n",
       "      <td>64.852243</td>\n",
       "      <td>0.000000</td>\n",
       "    </tr>\n",
       "    <tr>\n",
       "      <td>3</td>\n",
       "      <td>1.079400</td>\n",
       "      <td>No log</td>\n",
       "      <td>49.953676</td>\n",
       "      <td>64.158944</td>\n",
       "      <td>11873</td>\n",
       "      <td>37.887989</td>\n",
       "      <td>66.339261</td>\n",
       "      <td>5928</td>\n",
       "      <td>61.984861</td>\n",
       "      <td>61.984861</td>\n",
       "      <td>5945</td>\n",
       "      <td>50.686431</td>\n",
       "      <td>0.000000</td>\n",
       "      <td>64.167366</td>\n",
       "      <td>0.000000</td>\n",
       "    </tr>\n",
       "  </tbody>\n",
       "</table><p>"
      ],
      "text/plain": [
       "<IPython.core.display.HTML object>"
      ]
     },
     "metadata": {},
     "output_type": "display_data"
    },
    {
     "data": {
      "application/vnd.jupyter.widget-view+json": {
       "model_id": "829a81fe5f914fa4a0240065817fff95",
       "version_major": 2,
       "version_minor": 0
      },
      "text/plain": [
       "  0%|          | 0/11873 [00:00<?, ?it/s]"
      ]
     },
     "metadata": {},
     "output_type": "display_data"
    },
    {
     "data": {
      "application/vnd.jupyter.widget-view+json": {
       "model_id": "4fe2261d96b64e46884c7a0c33d41610",
       "version_major": 2,
       "version_minor": 0
      },
      "text/plain": [
       "  0%|          | 0/11873 [00:00<?, ?it/s]"
      ]
     },
     "metadata": {},
     "output_type": "display_data"
    },
    {
     "data": {
      "application/vnd.jupyter.widget-view+json": {
       "model_id": "79be8587a19e4e6bbe40b23edc3cac6c",
       "version_major": 2,
       "version_minor": 0
      },
      "text/plain": [
       "  0%|          | 0/11873 [00:00<?, ?it/s]"
      ]
     },
     "metadata": {},
     "output_type": "display_data"
    },
    {
     "name": "stdout",
     "output_type": "stream",
     "text": [
      "Stopping training: No improvement in eval_f1 for 1 epochs\n"
     ]
    },
    {
     "data": {
      "text/html": [
       "\n",
       "    <div>\n",
       "      \n",
       "      <progress value='375' max='375' style='width:300px; height:20px; vertical-align: middle;'></progress>\n",
       "      [375/375 00:30]\n",
       "    </div>\n",
       "    "
      ],
      "text/plain": [
       "<IPython.core.display.HTML object>"
      ]
     },
     "metadata": {},
     "output_type": "display_data"
    },
    {
     "data": {
      "application/vnd.jupyter.widget-view+json": {
       "model_id": "556d1c72eade4a7b8140334adcfda017",
       "version_major": 2,
       "version_minor": 0
      },
      "text/plain": [
       "  0%|          | 0/11873 [00:00<?, ?it/s]"
      ]
     },
     "metadata": {},
     "output_type": "display_data"
    },
    {
     "name": "stdout",
     "output_type": "stream",
     "text": [
      "Stopping training: No improvement in eval_f1 for 1 epochs\n"
     ]
    },
    {
     "name": "stderr",
     "output_type": "stream",
     "text": [
      "[I 2024-05-27 07:26:24,779] Trial 17 finished with value: 64.84382089416286 and parameters: {'learning_rate': 1.067395298558973e-05, 'batch_size': 32, 'warmup_steps': 499, 'weight_decay': 0.1816655269610026, 'adam_beta1': 0.8210134551977514, 'adam_beta2': 0.9930401718266507, 'adam_epsilon': 4.16055252593504e-07, 'lr_scheduler_type': 'cosine'}. Best is trial 9 with value: 69.76162859449346.\n"
     ]
    },
    {
     "name": "stdout",
     "output_type": "stream",
     "text": [
      "Current Trial 18 parameters: {'learning_rate': 1.0883583569586597e-07, 'batch_size': 32, 'warmup_steps': 181, 'weight_decay': 0.2022478637681134, 'adam_beta1': 0.903264299975208, 'adam_beta2': 0.9911374128002458, 'adam_epsilon': 1.5685341855847904e-07, 'lr_scheduler_type': 'cosine'}\n"
     ]
    },
    {
     "name": "stderr",
     "output_type": "stream",
     "text": [
      "Some weights of BertForQuestionAnswering were not initialized from the model checkpoint at bert-base-cased and are newly initialized: ['qa_outputs.bias', 'qa_outputs.weight']\n",
      "You should probably TRAIN this model on a down-stream task to be able to use it for predictions and inference.\n"
     ]
    },
    {
     "data": {
      "text/html": [
       "\n",
       "    <div>\n",
       "      \n",
       "      <progress value='1877' max='5631' style='width:300px; height:20px; vertical-align: middle;'></progress>\n",
       "      [1877/5631 09:14 < 18:31, 3.38 it/s, Epoch 1/3]\n",
       "    </div>\n",
       "    <table border=\"1\" class=\"dataframe\">\n",
       "  <thead>\n",
       " <tr style=\"text-align: left;\">\n",
       "      <th>Epoch</th>\n",
       "      <th>Training Loss</th>\n",
       "      <th>Validation Loss</th>\n",
       "      <th>Exact</th>\n",
       "      <th>F1</th>\n",
       "      <th>Total</th>\n",
       "      <th>Hasans Exact</th>\n",
       "      <th>Hasans F1</th>\n",
       "      <th>Hasans Total</th>\n",
       "      <th>Noans Exact</th>\n",
       "      <th>Noans F1</th>\n",
       "      <th>Noans Total</th>\n",
       "      <th>Best Exact</th>\n",
       "      <th>Best Exact Thresh</th>\n",
       "      <th>Best F1</th>\n",
       "      <th>Best F1 Thresh</th>\n",
       "    </tr>\n",
       "  </thead>\n",
       "  <tbody>\n",
       "    <tr>\n",
       "      <td>1</td>\n",
       "      <td>5.592200</td>\n",
       "      <td>No log</td>\n",
       "      <td>18.251495</td>\n",
       "      <td>21.213807</td>\n",
       "      <td>11873</td>\n",
       "      <td>0.607287</td>\n",
       "      <td>6.540406</td>\n",
       "      <td>5928</td>\n",
       "      <td>35.845248</td>\n",
       "      <td>35.845248</td>\n",
       "      <td>5945</td>\n",
       "      <td>50.071591</td>\n",
       "      <td>0.000000</td>\n",
       "      <td>50.073940</td>\n",
       "      <td>0.000000</td>\n",
       "    </tr>\n",
       "  </tbody>\n",
       "</table><p>"
      ],
      "text/plain": [
       "<IPython.core.display.HTML object>"
      ]
     },
     "metadata": {},
     "output_type": "display_data"
    },
    {
     "data": {
      "application/vnd.jupyter.widget-view+json": {
       "model_id": "dbbcc0a13d9d4bfe81fe1f21b59a753b",
       "version_major": 2,
       "version_minor": 0
      },
      "text/plain": [
       "  0%|          | 0/11873 [00:00<?, ?it/s]"
      ]
     },
     "metadata": {},
     "output_type": "display_data"
    },
    {
     "name": "stdout",
     "output_type": "stream",
     "text": [
      "Stopping training: eval_f1 below threshold of 40\n"
     ]
    },
    {
     "data": {
      "text/html": [
       "\n",
       "    <div>\n",
       "      \n",
       "      <progress value='375' max='375' style='width:300px; height:20px; vertical-align: middle;'></progress>\n",
       "      [375/375 00:30]\n",
       "    </div>\n",
       "    "
      ],
      "text/plain": [
       "<IPython.core.display.HTML object>"
      ]
     },
     "metadata": {},
     "output_type": "display_data"
    },
    {
     "data": {
      "application/vnd.jupyter.widget-view+json": {
       "model_id": "a4126b44528947a3997b378efb9f0543",
       "version_major": 2,
       "version_minor": 0
      },
      "text/plain": [
       "  0%|          | 0/11873 [00:00<?, ?it/s]"
      ]
     },
     "metadata": {},
     "output_type": "display_data"
    },
    {
     "name": "stdout",
     "output_type": "stream",
     "text": [
      "Stopping training: eval_f1 below threshold of 40\n",
      "Stopping training: No improvement in eval_f1 for 1 epochs\n"
     ]
    },
    {
     "name": "stderr",
     "output_type": "stream",
     "text": [
      "[I 2024-05-27 07:36:45,689] Trial 18 finished with value: 21.213806891631645 and parameters: {'learning_rate': 1.0883583569586597e-07, 'batch_size': 32, 'warmup_steps': 181, 'weight_decay': 0.2022478637681134, 'adam_beta1': 0.903264299975208, 'adam_beta2': 0.9911374128002458, 'adam_epsilon': 1.5685341855847904e-07, 'lr_scheduler_type': 'cosine'}. Best is trial 9 with value: 69.76162859449346.\n"
     ]
    },
    {
     "name": "stdout",
     "output_type": "stream",
     "text": [
      "Current Trial 19 parameters: {'learning_rate': 4.446867231192033e-05, 'batch_size': 64, 'warmup_steps': 346, 'weight_decay': 0.015127726688795667, 'adam_beta1': 0.8563588297321466, 'adam_beta2': 0.9948246466467797, 'adam_epsilon': 3.2913479553621697e-07, 'lr_scheduler_type': 'cosine_with_restarts'}\n"
     ]
    },
    {
     "name": "stderr",
     "output_type": "stream",
     "text": [
      "Some weights of BertForQuestionAnswering were not initialized from the model checkpoint at bert-base-cased and are newly initialized: ['qa_outputs.bias', 'qa_outputs.weight']\n",
      "You should probably TRAIN this model on a down-stream task to be able to use it for predictions and inference.\n"
     ]
    },
    {
     "data": {
      "text/html": [
       "\n",
       "    <div>\n",
       "      \n",
       "      <progress value='2817' max='2817' style='width:300px; height:20px; vertical-align: middle;'></progress>\n",
       "      [2817/2817 32:14, Epoch 3/3]\n",
       "    </div>\n",
       "    <table border=\"1\" class=\"dataframe\">\n",
       "  <thead>\n",
       " <tr style=\"text-align: left;\">\n",
       "      <th>Epoch</th>\n",
       "      <th>Training Loss</th>\n",
       "      <th>Validation Loss</th>\n",
       "      <th>Exact</th>\n",
       "      <th>F1</th>\n",
       "      <th>Total</th>\n",
       "      <th>Hasans Exact</th>\n",
       "      <th>Hasans F1</th>\n",
       "      <th>Hasans Total</th>\n",
       "      <th>Noans Exact</th>\n",
       "      <th>Noans F1</th>\n",
       "      <th>Noans Total</th>\n",
       "      <th>Best Exact</th>\n",
       "      <th>Best Exact Thresh</th>\n",
       "      <th>Best F1</th>\n",
       "      <th>Best F1 Thresh</th>\n",
       "    </tr>\n",
       "  </thead>\n",
       "  <tbody>\n",
       "    <tr>\n",
       "      <td>1</td>\n",
       "      <td>2.568200</td>\n",
       "      <td>No log</td>\n",
       "      <td>41.792302</td>\n",
       "      <td>57.135377</td>\n",
       "      <td>11873</td>\n",
       "      <td>39.929150</td>\n",
       "      <td>70.659301</td>\n",
       "      <td>5928</td>\n",
       "      <td>43.650126</td>\n",
       "      <td>43.650126</td>\n",
       "      <td>5945</td>\n",
       "      <td>50.088436</td>\n",
       "      <td>0.000000</td>\n",
       "      <td>57.177490</td>\n",
       "      <td>0.000000</td>\n",
       "    </tr>\n",
       "    <tr>\n",
       "      <td>2</td>\n",
       "      <td>1.009400</td>\n",
       "      <td>No log</td>\n",
       "      <td>53.053146</td>\n",
       "      <td>67.170735</td>\n",
       "      <td>11873</td>\n",
       "      <td>37.651822</td>\n",
       "      <td>65.927486</td>\n",
       "      <td>5928</td>\n",
       "      <td>68.410429</td>\n",
       "      <td>68.410429</td>\n",
       "      <td>5945</td>\n",
       "      <td>53.726943</td>\n",
       "      <td>0.000000</td>\n",
       "      <td>67.170735</td>\n",
       "      <td>0.000000</td>\n",
       "    </tr>\n",
       "    <tr>\n",
       "      <td>3</td>\n",
       "      <td>0.627700</td>\n",
       "      <td>No log</td>\n",
       "      <td>51.360229</td>\n",
       "      <td>66.069656</td>\n",
       "      <td>11873</td>\n",
       "      <td>39.456815</td>\n",
       "      <td>68.917852</td>\n",
       "      <td>5928</td>\n",
       "      <td>63.229605</td>\n",
       "      <td>63.229605</td>\n",
       "      <td>5945</td>\n",
       "      <td>52.261434</td>\n",
       "      <td>0.000000</td>\n",
       "      <td>66.058827</td>\n",
       "      <td>0.000000</td>\n",
       "    </tr>\n",
       "  </tbody>\n",
       "</table><p>"
      ],
      "text/plain": [
       "<IPython.core.display.HTML object>"
      ]
     },
     "metadata": {},
     "output_type": "display_data"
    },
    {
     "data": {
      "application/vnd.jupyter.widget-view+json": {
       "model_id": "8f12ed9e2c5a47d0b3b0cc5c79e9420e",
       "version_major": 2,
       "version_minor": 0
      },
      "text/plain": [
       "  0%|          | 0/11873 [00:00<?, ?it/s]"
      ]
     },
     "metadata": {},
     "output_type": "display_data"
    },
    {
     "data": {
      "application/vnd.jupyter.widget-view+json": {
       "model_id": "f7b0fd97c34a4ec0af6b6df766e7a12b",
       "version_major": 2,
       "version_minor": 0
      },
      "text/plain": [
       "  0%|          | 0/11873 [00:00<?, ?it/s]"
      ]
     },
     "metadata": {},
     "output_type": "display_data"
    },
    {
     "data": {
      "application/vnd.jupyter.widget-view+json": {
       "model_id": "9a66f8bdc596482e8735be3ac7789a54",
       "version_major": 2,
       "version_minor": 0
      },
      "text/plain": [
       "  0%|          | 0/11873 [00:00<?, ?it/s]"
      ]
     },
     "metadata": {},
     "output_type": "display_data"
    },
    {
     "name": "stdout",
     "output_type": "stream",
     "text": [
      "Stopping training: No improvement in eval_f1 for 1 epochs\n"
     ]
    },
    {
     "data": {
      "text/html": [
       "\n",
       "    <div>\n",
       "      \n",
       "      <progress value='188' max='188' style='width:300px; height:20px; vertical-align: middle;'></progress>\n",
       "      [188/188 00:30]\n",
       "    </div>\n",
       "    "
      ],
      "text/plain": [
       "<IPython.core.display.HTML object>"
      ]
     },
     "metadata": {},
     "output_type": "display_data"
    },
    {
     "data": {
      "application/vnd.jupyter.widget-view+json": {
       "model_id": "06cf3171be104c71ba1a648aa66c81dc",
       "version_major": 2,
       "version_minor": 0
      },
      "text/plain": [
       "  0%|          | 0/11873 [00:00<?, ?it/s]"
      ]
     },
     "metadata": {},
     "output_type": "display_data"
    },
    {
     "name": "stdout",
     "output_type": "stream",
     "text": [
      "Stopping training: No improvement in eval_f1 for 1 epochs\n"
     ]
    },
    {
     "name": "stderr",
     "output_type": "stream",
     "text": [
      "[I 2024-05-27 08:10:08,726] Trial 19 finished with value: 67.17073493525506 and parameters: {'learning_rate': 4.446867231192033e-05, 'batch_size': 64, 'warmup_steps': 346, 'weight_decay': 0.015127726688795667, 'adam_beta1': 0.8563588297321466, 'adam_beta2': 0.9948246466467797, 'adam_epsilon': 3.2913479553621697e-07, 'lr_scheduler_type': 'cosine_with_restarts'}. Best is trial 9 with value: 69.76162859449346.\n"
     ]
    }
   ],
   "source": [
    "# Create a study object and optimize the objective\n",
    "study = optuna.create_study(direction='maximize')\n",
    "study.optimize(objective, n_trials=20)"
   ]
  },
  {
   "cell_type": "markdown",
   "id": "d6f8e1c1-893e-4be8-88cd-622dec5a543b",
   "metadata": {
    "jp-MarkdownHeadingCollapsed": true,
    "tags": []
   },
   "source": [
    "## 7. Summary of Hyperparameters Search\n",
    "\n",
    "Each row of the below table corresponds to a trial and shows all specified parameters along with measured performance metrics with Trial 9 acheiving the highest performance.\n",
    "\n",
    "\n",
    "\n",
    "| Trial | Learning Rate     | Batch Size | Warmup Steps | Weight Decay   | Adam Beta1 | Adam Beta2 | Adam Epsilon | LR Scheduler Type          | Exact   | F1       | Hasans Exact | Hasans F1 | Noans Exact | Noans F1 |\n",
    "|-------|-------------------|------------|--------------|----------------|------------|------------|--------------|----------------------------|---------|----------|--------------|-----------|-------------|----------|\n",
    "| 0     | 0.00000288956     | 32         | 861          | 0.19727        | 0.91056    | 0.99659    | 0.00000053605| constant_with_warmup       | 41.92706 | 55.50755 | 36.84211     | 64.04203  | 46.99748    | 46.99748 |\n",
    "| 1     | 0.00000333173     | 16         | 443          | 0.23953        | 0.93147    | 0.99541    | 0.00000008895| constant_with_warmup       | 44.29378 | 59.27969 | 39.64238     | 69.65718  | 48.93188    | 48.93188 |\n",
    "| 2     | 0.00000961032     | 16         | 70           | 0.02229        | 0.83412    | 0.99181    | 0.00000069818| linear                     | 51.47814 | 65.71488 | 38.29285     | 66.80715  | 64.62574    | 64.62574 |\n",
    "| 3     | 0.00000325700     | 16         | 226          | 0.22605        | 0.92570    | 0.99781    | 0.00000059647| constant_with_warmup       | 44.70648 | 59.60375 | 39.50742     | 69.34468  | 49.89066    | 49.89066 |\n",
    "| 4     | 0.00000230338     | 64         | 9            | 0.15556        | 0.84571    | 0.99876    | 0.00000038860| cosine_with_restarts       | 38.78548 | 48.36220 | 24.61201     | 43.79291  | 52.91842    | 52.91842 |\n",
    "| 5     | 0.00000025761     | 32         | 786          | 0.13462        | 0.85898    | 0.99800    | 0.00000077248| constant_with_warmup       | 50.06317 | 50.06317 | 0.00000      | 0.00000   | 99.98318    | 99.98318 |\n",
    "| 6     | 0.00007176        | 16         | 102          | 0.14134        | 0.88243    | 0.99686    | 0.00000030277| constant_with_warmup       | 45.26236 | 60.60069 | 37.63495     | 68.35561  | 52.86796    | 52.86796 |\n",
    "| 7     | 0.00000084893     | 64         | 607          | 0.12419        | 0.83969    | 0.99575    | 0.00000076072| linear                     | 45.67506 | 47.55409 | 5.28003      | 9.04348   | 85.95458    | 85.95458 |\n",
    "| 8     | 0.000003088       | 64         | 14           | 0.13128        | 0.93376    | 0.99054    | 0.00000097450| cosine_with_restarts       | 39.32452 | 50.22855 | 29.25101     | 51.09035  | 49.36922    | 49.36922 |\n",
    "| __9__     | __0.00004920__        | __32__         | __398__          | __0.19404__        | __0.83682__    | __0.99691__    | __0.00000058749__ | __cosine__                     | __54.24914__ | __69.09482__ | __39.11943__     | __68.85338__  | __69.33558__    | __69.33558__ |\n",
    "| 10    | 0.00009415        | 32         | 380          | 0.07077        | 0.80103    | 0.99355    | 0.00000017199| cosine                     | 54.19860 | 68.71279 | 39.23752     | 68.30752  | 69.11691    | 69.11691 |\n",
    "| 11    | 0.00008160        | 32         | 401          | 0.05796        | 0.80672    | 0.99294    | 0.00000003903| cosine                     | 53.74379 | 68.66727 | 39.13630     | 69.02606  | 68.30950    | 68.30950 |\n",
    "| 12    | 0.00002319        | 32         | 611          | 0.07886        | 0.80102    | 0.99412    | 0.00000026718| cosine                     | 52.58991 | 66.95025 | 38.96761     | 67.72947  | 66.17326    | 66.17326 |\n",
    "| 13    | 0.00002155        | 32         | 296          | 0.18253        | 0.82317    | 0.99391    | 0.00000018951| cosine                     | 52.55622 | 66.93609 | 38.86640     | 67.66738  | 66.20690    | 66.20690 |\n",
    "| 14    | 0.00002855        | 32         | 577          | 0.09295        | 0.87745    | 0.99274    | 0.00000043145| cosine                   | 53.17948| 67.64095 | 39.08570     | 68.05009  | 67.23297    | 67.23297 |\n",
    "| 15    | 0.00009603        | 32         | 305          | 0.04170        | 0.81714    | 0.99512    | 0.00000058926| cosine                   | 53.65956| 68.40756 | 38.78205     | 68.32034  | 68.49453    | 68.49453 |\n",
    "| 16    | 0.00003681        | 32         | 755          | 0.09221        | 0.85962    | 0.99658    | 0.00000093445| cosine                   | 53.48269| 68.07216 | 38.73144     | 67.95222  | 68.19176    | 68.19176 |\n",
    "| 17    | 0.00001067        | 32         | 499          | 0.18167        | 0.82101    | 0.99304    | 0.00000041606| cosine                   | 49.95368| 64.15894 | 37.88799     | 66.33926  | 61.98486    | 61.98486 |\n",
    "| 18    | 0.00000010884     | 32         | 181          | 0.20225        | 0.90326    | 0.99114    | 0.00000015685| cosine                   | 18.25150| 21.21381 | 0.60729      | 6.54041   | 35.84525    | 35.84525 |\n",
    "| 19    | 0.00004447        | 64         | 346          | 0.01513        | 0.85636    | 0.99482    | 0.00000032913| cosine_with_restarts     | 51.36023| 66.06966 | 39.45682     | 68.91785  | 63.22961    | 63.22961 |"
   ]
  },
  {
   "cell_type": "markdown",
   "id": "978cde17-3ef7-47ac-8663-b74fdefee34a",
   "metadata": {
    "tags": []
   },
   "source": [
    "## Tuning BERT Using the Best Hyperparameters"
   ]
  },
  {
   "cell_type": "code",
   "execution_count": 57,
   "id": "a3805e98-599c-4c21-9922-ae913acc6b0e",
   "metadata": {},
   "outputs": [
    {
     "name": "stderr",
     "output_type": "stream",
     "text": [
      "Some weights of BertForQuestionAnswering were not initialized from the model checkpoint at bert-base-cased and are newly initialized: ['qa_outputs.bias', 'qa_outputs.weight']\n",
      "You should probably TRAIN this model on a down-stream task to be able to use it for predictions and inference.\n"
     ]
    },
    {
     "data": {
      "text/html": [
       "\n",
       "    <div>\n",
       "      \n",
       "      <progress value='20325' max='40650' style='width:300px; height:20px; vertical-align: middle;'></progress>\n",
       "      [20325/40650 1:36:01 < 1:36:02, 3.53 it/s, Epoch 5/10]\n",
       "    </div>\n",
       "    <table border=\"1\" class=\"dataframe\">\n",
       "  <thead>\n",
       " <tr style=\"text-align: left;\">\n",
       "      <th>Epoch</th>\n",
       "      <th>Training Loss</th>\n",
       "      <th>Validation Loss</th>\n",
       "      <th>Exact</th>\n",
       "      <th>F1</th>\n",
       "      <th>Total</th>\n",
       "      <th>Hasans Exact</th>\n",
       "      <th>Hasans F1</th>\n",
       "      <th>Hasans Total</th>\n",
       "      <th>Noans Exact</th>\n",
       "      <th>Noans F1</th>\n",
       "      <th>Noans Total</th>\n",
       "      <th>Best Exact</th>\n",
       "      <th>Best Exact Thresh</th>\n",
       "      <th>Best F1</th>\n",
       "      <th>Best F1 Thresh</th>\n",
       "    </tr>\n",
       "  </thead>\n",
       "  <tbody>\n",
       "    <tr>\n",
       "      <td>1</td>\n",
       "      <td>1.069900</td>\n",
       "      <td>No log</td>\n",
       "      <td>58.022404</td>\n",
       "      <td>70.754999</td>\n",
       "      <td>11873</td>\n",
       "      <td>36.454116</td>\n",
       "      <td>61.955821</td>\n",
       "      <td>5928</td>\n",
       "      <td>79.529016</td>\n",
       "      <td>79.529016</td>\n",
       "      <td>5945</td>\n",
       "      <td>58.013981</td>\n",
       "      <td>0.000000</td>\n",
       "      <td>70.746577</td>\n",
       "      <td>0.000000</td>\n",
       "    </tr>\n",
       "    <tr>\n",
       "      <td>2</td>\n",
       "      <td>0.786700</td>\n",
       "      <td>No log</td>\n",
       "      <td>57.786575</td>\n",
       "      <td>71.976954</td>\n",
       "      <td>11873</td>\n",
       "      <td>39.271255</td>\n",
       "      <td>67.692708</td>\n",
       "      <td>5928</td>\n",
       "      <td>76.248949</td>\n",
       "      <td>76.248949</td>\n",
       "      <td>5945</td>\n",
       "      <td>57.786575</td>\n",
       "      <td>0.000000</td>\n",
       "      <td>71.976954</td>\n",
       "      <td>0.000000</td>\n",
       "    </tr>\n",
       "    <tr>\n",
       "      <td>3</td>\n",
       "      <td>0.556200</td>\n",
       "      <td>No log</td>\n",
       "      <td>56.363177</td>\n",
       "      <td>71.408624</td>\n",
       "      <td>11873</td>\n",
       "      <td>40.317139</td>\n",
       "      <td>70.451179</td>\n",
       "      <td>5928</td>\n",
       "      <td>72.363331</td>\n",
       "      <td>72.363331</td>\n",
       "      <td>5945</td>\n",
       "      <td>56.363177</td>\n",
       "      <td>0.000000</td>\n",
       "      <td>71.408624</td>\n",
       "      <td>0.000000</td>\n",
       "    </tr>\n",
       "    <tr>\n",
       "      <td>4</td>\n",
       "      <td>0.400000</td>\n",
       "      <td>No log</td>\n",
       "      <td>56.001011</td>\n",
       "      <td>71.080669</td>\n",
       "      <td>11873</td>\n",
       "      <td>39.794197</td>\n",
       "      <td>69.996758</td>\n",
       "      <td>5928</td>\n",
       "      <td>72.161480</td>\n",
       "      <td>72.161480</td>\n",
       "      <td>5945</td>\n",
       "      <td>56.152615</td>\n",
       "      <td>0.000000</td>\n",
       "      <td>71.080669</td>\n",
       "      <td>0.000000</td>\n",
       "    </tr>\n",
       "    <tr>\n",
       "      <td>5</td>\n",
       "      <td>0.269000</td>\n",
       "      <td>No log</td>\n",
       "      <td>55.125074</td>\n",
       "      <td>70.405812</td>\n",
       "      <td>11873</td>\n",
       "      <td>39.777328</td>\n",
       "      <td>70.382625</td>\n",
       "      <td>5928</td>\n",
       "      <td>70.428932</td>\n",
       "      <td>70.428932</td>\n",
       "      <td>5945</td>\n",
       "      <td>55.529352</td>\n",
       "      <td>0.000000</td>\n",
       "      <td>70.405812</td>\n",
       "      <td>0.000000</td>\n",
       "    </tr>\n",
       "  </tbody>\n",
       "</table><p>"
      ],
      "text/plain": [
       "<IPython.core.display.HTML object>"
      ]
     },
     "metadata": {},
     "output_type": "display_data"
    },
    {
     "data": {
      "application/vnd.jupyter.widget-view+json": {
       "model_id": "09da2d761e974b5daaa1ee82f998cbf0",
       "version_major": 2,
       "version_minor": 0
      },
      "text/plain": [
       "  0%|          | 0/11873 [00:00<?, ?it/s]"
      ]
     },
     "metadata": {},
     "output_type": "display_data"
    },
    {
     "data": {
      "application/vnd.jupyter.widget-view+json": {
       "model_id": "65fb4b8ec18f4490afe8231340bb6f4b",
       "version_major": 2,
       "version_minor": 0
      },
      "text/plain": [
       "  0%|          | 0/11873 [00:00<?, ?it/s]"
      ]
     },
     "metadata": {},
     "output_type": "display_data"
    },
    {
     "data": {
      "application/vnd.jupyter.widget-view+json": {
       "model_id": "07bc202427894998b237debc6ed068d8",
       "version_major": 2,
       "version_minor": 0
      },
      "text/plain": [
       "  0%|          | 0/11873 [00:00<?, ?it/s]"
      ]
     },
     "metadata": {},
     "output_type": "display_data"
    },
    {
     "data": {
      "application/vnd.jupyter.widget-view+json": {
       "model_id": "ec57f03036a14cf1a9734c0dae923126",
       "version_major": 2,
       "version_minor": 0
      },
      "text/plain": [
       "  0%|          | 0/11873 [00:00<?, ?it/s]"
      ]
     },
     "metadata": {},
     "output_type": "display_data"
    },
    {
     "data": {
      "application/vnd.jupyter.widget-view+json": {
       "model_id": "c7b1880653a04ee5a9ebeef7800d4c2a",
       "version_major": 2,
       "version_minor": 0
      },
      "text/plain": [
       "  0%|          | 0/11873 [00:00<?, ?it/s]"
      ]
     },
     "metadata": {},
     "output_type": "display_data"
    },
    {
     "name": "stdout",
     "output_type": "stream",
     "text": [
      "Stopping training: No improvement in eval_f1 for 3 epochs\n"
     ]
    },
    {
     "data": {
      "text/plain": [
       "TrainOutput(global_step=20325, training_loss=0.6738202459844422, metrics={'train_runtime': 5762.4661, 'train_samples_per_second': 225.683, 'train_steps_per_second': 7.054, 'total_flos': 1.6990690958380032e+17, 'train_loss': 0.6738202459844422, 'epoch': 5.0})"
      ]
     },
     "execution_count": 57,
     "metadata": {},
     "output_type": "execute_result"
    }
   ],
   "source": [
    "model = AutoModelForQuestionAnswering.from_pretrained(pretrained_model_name)\n",
    "training_args = TrainingArguments(\n",
    "    output_dir=f\"./{normalized_model_name}-best_model\",\n",
    "    overwrite_output_dir = True,\n",
    "    metric_for_best_model='f1',\n",
    "    greater_is_better=True,\n",
    "    load_best_model_at_end=True,\n",
    "    save_total_limit=4, \n",
    "    eval_strategy=\"epoch\",\n",
    "    save_strategy=\"epoch\",\n",
    "    num_train_epochs=10,\n",
    "    report_to=\"wandb\",  # Enable logging to Weights & Biases\n",
    "    run_name=f\"{normalized_model_name}-best_model\",\n",
    "    learning_rate=4.91978224351371e-05,\n",
    "    per_device_train_batch_size=32,\n",
    "    per_device_eval_batch_size=32,\n",
    "    warmup_steps=398,\n",
    "    weight_decay=0.19404494917360213,\n",
    "    adam_beta1=0.8368183686077211,\n",
    "    adam_beta2=0.9969107098230887,\n",
    "    adam_epsilon=5.874878468800929e-07,\n",
    "    lr_scheduler_type='cosine',\n",
    "    fp16=True,  # Enable mixed-precision training\n",
    ")\n",
    "\n",
    "trainer = QuestionAnsweringTrainer(\n",
    "        model=model,\n",
    "        args=training_args,\n",
    "        train_dataset=train_dataset,\n",
    "        eval_dataset=eval_dataset,\n",
    "        eval_examples=eval_examples,\n",
    "        tokenizer=tokenizer,\n",
    "        data_collator=data_collator,\n",
    "        post_process_function=post_processing_function,\n",
    "        compute_metrics=compute_metrics,\n",
    "        callbacks=[AdvancedEarlyStoppingCallback(metric_name='eval_f1', patience=3, threshold=40)]\n",
    ")\n",
    "\n",
    "trainer.train()"
   ]
  }
 ],
 "metadata": {
  "kernelspec": {
   "display_name": "compsci714win",
   "language": "python",
   "name": "compsci714win"
  },
  "language_info": {
   "codemirror_mode": {
    "name": "ipython",
    "version": 3
   },
   "file_extension": ".py",
   "mimetype": "text/x-python",
   "name": "python",
   "nbconvert_exporter": "python",
   "pygments_lexer": "ipython3",
   "version": "3.10.14"
  }
 },
 "nbformat": 4,
 "nbformat_minor": 5
}
