{
 "cells": [
  {
   "cell_type": "markdown",
   "id": "be8de38f-6e25-435b-a623-a1e99239ae84",
   "metadata": {
    "jp-MarkdownHeadingCollapsed": true,
    "tags": []
   },
   "source": [
    "## 0. Imports, libraries and rusable functions"
   ]
  },
  {
   "cell_type": "code",
   "execution_count": 1,
   "id": "a65cc85a-e4ba-49a4-8f35-5b640c44af06",
   "metadata": {
    "tags": []
   },
   "outputs": [],
   "source": [
    "# Standard Library Imports\n",
    "import ast\n",
    "import copy\n",
    "import csv\n",
    "import json\n",
    "import math\n",
    "import os\n",
    "import re\n",
    "import time\n",
    "import warnings\n",
    "import logging\n",
    "import random\n",
    "import collections\n",
    "from collections import Counter\n",
    "from typing import List, Tuple, Optional\n",
    "from IPython.display import HTML, display\n",
    "import math\n",
    "import time\n",
    "from unidecode import unidecode\n",
    "\n",
    "\n",
    "# Data Handling Libraries\n",
    "import numpy as np\n",
    "import pandas as pd\n",
    "import csv\n",
    "from torch.utils.data import random_split\n",
    "import datasets\n",
    "from datasets import ClassLabel, Sequence\n",
    "\n",
    "# Data Visualization Libraries\n",
    "import matplotlib.pyplot as plt\n",
    "import seaborn as sns\n",
    "# import scikitplot as skplt  # Uncomment if scikit-plot is installed and needed\n",
    "\n",
    "# Machine Learning: Model Preparation\n",
    "from sklearn.metrics import accuracy_score, confusion_matrix, precision_recall_fscore_support\n",
    "from sklearn.model_selection import cross_val_score, cross_validate, KFold, train_test_split\n",
    "from sklearn.preprocessing import MinMaxScaler\n",
    "\n",
    "# Machine Learning: Models and Frameworks\n",
    "import tensorflow as tf\n",
    "import torch\n",
    "import evaluate\n",
    "import xgboost\n",
    "import wandb\n",
    "from xgboost import plot_importance  # Uncomment if xgboost importance plot is required\n",
    "\n",
    "\n",
    "# NLP and Transformers\n",
    "from transformers import (AdamW, AutoModelForSequenceClassification, AutoModelForQuestionAnswering,\n",
    "                          AutoTokenizer, CamembertForSequenceClassification, DistilBertConfig,\n",
    "                          DistilBertForSequenceClassification, DistilBertModel, EarlyStoppingCallback,\n",
    "                          get_linear_schedule_with_warmup, RobertaForSequenceClassification, EvalPrediction,\n",
    "                          Trainer, TrainerCallback, TrainingArguments, XLMRobertaForSequenceClassification,\n",
    "                         DefaultDataCollator, BertForQuestionAnswering, DataCollatorWithPadding, PreTrainedTokenizerFast,\n",
    "                         default_data_collator, is_torch_xla_available)\n",
    "from datasets import Dataset, DatasetDict, load_dataset\n",
    "from transformers.trainer_utils import PredictionOutput, speed_metrics\n",
    "\n",
    "# Experiment Tracking and Optimization Utilities\n",
    "import optuna\n",
    "from optuna.trial import TrialState\n",
    "# import wandb  # Uncomment if using Weights & Biases for experiment tracking\n",
    "\n",
    "# Progress Bar Utilities\n",
    "from tqdm.notebook import tqdm\n"
   ]
  },
  {
   "cell_type": "code",
   "execution_count": 2,
   "id": "e7e79a74-41b2-4df5-9907-81609b0a4664",
   "metadata": {
    "tags": []
   },
   "outputs": [
    {
     "name": "stderr",
     "output_type": "stream",
     "text": [
      "wandb: Currently logged in as: mzak071 (COMPSCI714). Use `wandb login --relogin` to force relogin\n"
     ]
    },
    {
     "data": {
      "text/plain": [
       "True"
      ]
     },
     "execution_count": 2,
     "metadata": {},
     "output_type": "execute_result"
    }
   ],
   "source": [
    "#wandb.login(key='8f7092f0fdaf14add2b4cc07cb0e740080cdd8e7')\n",
    "wandb.login()"
   ]
  },
  {
   "cell_type": "code",
   "execution_count": 3,
   "id": "43b5ec0c-43fd-4678-90d7-23aec61145bd",
   "metadata": {
    "tags": []
   },
   "outputs": [
    {
     "name": "stdout",
     "output_type": "stream",
     "text": [
      "GPU: NVIDIA GeForce RTX 4070 Ti SUPER is available.\n",
      "cuda\n"
     ]
    }
   ],
   "source": [
    "class LoggingCallback(TrainerCallback):\n",
    "    def __init__(self, log_path):\n",
    "        self.log_path = log_path\n",
    "    def on_log(self, args, state, control, logs=None, **kwargs):\n",
    "        _ = logs.pop(\"total_flos\", None)\n",
    "        if state.is_local_process_zero:\n",
    "            with open(self.log_path, \"a\") as f:\n",
    "                f.write(json.dumps(logs) + \"\\n\")\n",
    "\n",
    "if torch.cuda.is_available():\n",
    "    print(f\"GPU: {torch.cuda.get_device_name(0)} is available.\")\n",
    "else:\n",
    "    print(\"No GPU available. Training will run on CPU.\")\n",
    "\n",
    "device = torch.device(\"cuda\" if torch.cuda.is_available() else \"cpu\")\n",
    "print(device)"
   ]
  },
  {
   "cell_type": "markdown",
   "id": "c99df6ec-d898-46f9-b70e-ae04b589fc5d",
   "metadata": {
    "jp-MarkdownHeadingCollapsed": true,
    "tags": []
   },
   "source": [
    "## 1. Global Variables"
   ]
  },
  {
   "cell_type": "code",
   "execution_count": 6,
   "id": "48397c5d-36bd-4131-91d3-2d999fba6bf6",
   "metadata": {
    "tags": []
   },
   "outputs": [],
   "source": [
    "## Arguments and global vriables\n",
    "global_doc_stride = 128\n",
    "pretrained_model_name = \"FacebookAI/roberta-base\"\n",
    "normalized_model_name = pretrained_model_name.replace(\"/\", \"-\")\n",
    "tokenizer = AutoTokenizer.from_pretrained(pretrained_model_name)\n",
    "assert isinstance( tokenizer, PreTrainedTokenizerFast )\n",
    "data_collator = DefaultDataCollator()\n",
    "max_seq_length = tokenizer.model_max_length\n",
    "version_2_with_negative = True\n",
    "no_answer_threshold = 0.0166\n",
    "right_padding = tokenizer.padding_side == 'right'\n",
    "global_counter = 0\n",
    "traing_answer_mismatches = []\n",
    "logger = logging.getLogger(__name__)\n",
    "global train_dataset\n",
    "global eval_dataset\n",
    "global cleaned_training_dataset"
   ]
  },
  {
   "cell_type": "markdown",
   "id": "422e5e8a-5629-4c28-9b45-5517ea8d2595",
   "metadata": {
    "jp-MarkdownHeadingCollapsed": true,
    "tags": []
   },
   "source": [
    "## 1. Q&A Reusable Functions"
   ]
  },
  {
   "cell_type": "code",
   "execution_count": 8,
   "id": "6d9332f3-fb9e-4f2d-9fa8-1f0f93568b0a",
   "metadata": {
    "tags": []
   },
   "outputs": [],
   "source": [
    "### Compute_metrics function for Question and Answering problem is different to classification, more preocessing required.\n",
    "metric = evaluate.load(\"squad_v2\")\n",
    "\n",
    "def compute_metrics(p: EvalPrediction):\n",
    "        return metric.compute(predictions=p.predictions, references=p.label_ids)"
   ]
  },
  {
   "cell_type": "code",
   "execution_count": 9,
   "id": "0f7dfb04-f23c-4bf8-af88-4a33c6ad3c14",
   "metadata": {
    "tags": []
   },
   "outputs": [],
   "source": [
    "\"\"\"\n",
    "A subclass of `Trainer` specific to Question-Answering tasks\n",
    "\"\"\"\n",
    "\n",
    "if is_torch_xla_available():\n",
    "    import torch_xla.core.xla_model as xm\n",
    "    import torch_xla.debug.metrics as met\n",
    "\n",
    "\n",
    "class QuestionAnsweringTrainer(Trainer):\n",
    "    def __init__(self, *args, eval_examples=None, post_process_function=None, **kwargs):\n",
    "        super().__init__(*args, **kwargs)\n",
    "        self.eval_examples = eval_examples\n",
    "        self.post_process_function = post_process_function\n",
    "\n",
    "    def evaluate(self, eval_dataset=None, eval_examples=None, ignore_keys=None, metric_key_prefix: str = \"eval\"):\n",
    "        eval_dataset = self.eval_dataset if eval_dataset is None else eval_dataset\n",
    "        eval_dataloader = self.get_eval_dataloader(eval_dataset)\n",
    "        eval_examples = self.eval_examples if eval_examples is None else eval_examples\n",
    "\n",
    "        # Temporarily disable metric computation, we will do it in the loop here.\n",
    "        compute_metrics = self.compute_metrics\n",
    "        self.compute_metrics = None\n",
    "        eval_loop = self.prediction_loop if self.args.use_legacy_prediction_loop else self.evaluation_loop\n",
    "        start_time = time.time()\n",
    "        try:\n",
    "            output = eval_loop(\n",
    "                eval_dataloader,\n",
    "                description=\"Evaluation\",\n",
    "                # No point gathering the predictions if there are no metrics, otherwise we defer to\n",
    "                # self.args.prediction_loss_only\n",
    "                prediction_loss_only=True if compute_metrics is None else None,\n",
    "                ignore_keys=ignore_keys,\n",
    "                metric_key_prefix=metric_key_prefix,\n",
    "            )\n",
    "        finally:\n",
    "            self.compute_metrics = compute_metrics\n",
    "        total_batch_size = self.args.eval_batch_size * self.args.world_size\n",
    "        if f\"{metric_key_prefix}_jit_compilation_time\" in output.metrics:\n",
    "            start_time += output.metrics[f\"{metric_key_prefix}_jit_compilation_time\"]\n",
    "        output.metrics.update(\n",
    "            speed_metrics(\n",
    "                metric_key_prefix,\n",
    "                start_time,\n",
    "                num_samples=output.num_samples,\n",
    "                num_steps=math.ceil(output.num_samples / total_batch_size),\n",
    "            )\n",
    "        )\n",
    "        if self.post_process_function is not None and self.compute_metrics is not None and self.args.should_save:\n",
    "            # Only the main node write the results by default\n",
    "            eval_preds = self.post_process_function(eval_examples, eval_dataset, output.predictions)\n",
    "            metrics = self.compute_metrics(eval_preds)\n",
    "\n",
    "            # Prefix all keys with metric_key_prefix + '_'\n",
    "            for key in list(metrics.keys()):\n",
    "                if not key.startswith(f\"{metric_key_prefix}_\"):\n",
    "                    metrics[f\"{metric_key_prefix}_{key}\"] = metrics.pop(key)\n",
    "            metrics.update(output.metrics)\n",
    "        else:\n",
    "            metrics = output.metrics\n",
    "\n",
    "        if self.args.should_log:\n",
    "            # Only the main node log the results by default\n",
    "            self.log(metrics)\n",
    "\n",
    "        if self.args.tpu_metrics_debug or self.args.debug:\n",
    "            # tpu-comment: Logging debug metrics for PyTorch/XLA (compile, execute times, ops, etc.)\n",
    "            xm.master_print(met.metrics_report())\n",
    "\n",
    "        self.control = self.callback_handler.on_evaluate(self.args, self.state, self.control, metrics)\n",
    "        return metrics\n",
    "\n",
    "    def predict(self, predict_dataset, predict_examples, ignore_keys=None, metric_key_prefix: str = \"test\"):\n",
    "        predict_dataloader = self.get_test_dataloader(predict_dataset)\n",
    "\n",
    "        # Temporarily disable metric computation, we will do it in the loop here.\n",
    "        compute_metrics = self.compute_metrics\n",
    "        self.compute_metrics = None\n",
    "        eval_loop = self.prediction_loop if self.args.use_legacy_prediction_loop else self.evaluation_loop\n",
    "        start_time = time.time()\n",
    "        try:\n",
    "            output = eval_loop(\n",
    "                predict_dataloader,\n",
    "                description=\"Prediction\",\n",
    "                # No point gathering the predictions if there are no metrics, otherwise we defer to\n",
    "                # self.args.prediction_loss_only\n",
    "                prediction_loss_only=True if compute_metrics is None else None,\n",
    "                ignore_keys=ignore_keys,\n",
    "                metric_key_prefix=metric_key_prefix,\n",
    "            )\n",
    "        finally:\n",
    "            self.compute_metrics = compute_metrics\n",
    "        total_batch_size = self.args.eval_batch_size * self.args.world_size\n",
    "        if f\"{metric_key_prefix}_jit_compilation_time\" in output.metrics:\n",
    "            start_time += output.metrics[f\"{metric_key_prefix}_jit_compilation_time\"]\n",
    "        output.metrics.update(\n",
    "            speed_metrics(\n",
    "                metric_key_prefix,\n",
    "                start_time,\n",
    "                num_samples=output.num_samples,\n",
    "                num_steps=math.ceil(output.num_samples / total_batch_size),\n",
    "            )\n",
    "        )\n",
    "\n",
    "        if self.post_process_function is None or self.compute_metrics is None:\n",
    "            return output\n",
    "\n",
    "        predictions = self.post_process_function(predict_examples, predict_dataset, output.predictions, \"predict\")\n",
    "        metrics = self.compute_metrics(predictions)\n",
    "\n",
    "        # Prefix all keys with metric_key_prefix + '_'\n",
    "        for key in list(metrics.keys()):\n",
    "            if not key.startswith(f\"{metric_key_prefix}_\"):\n",
    "                metrics[f\"{metric_key_prefix}_{key}\"] = metrics.pop(key)\n",
    "        metrics.update(output.metrics)\n",
    "        return PredictionOutput(predictions=predictions.predictions, label_ids=predictions.label_ids, metrics=metrics)"
   ]
  },
  {
   "cell_type": "code",
   "execution_count": 12,
   "id": "9529d45f-9433-444c-a57d-9c8af9a2d65e",
   "metadata": {
    "tags": []
   },
   "outputs": [],
   "source": [
    "def prepare_validation_features(examples):\n",
    "  # Some of the questions have lots of whitespace on the left, which is not useful and will make the\n",
    "  # truncation of the context fail (the tokenized question will take a lots of space). So we remove that\n",
    "  # left whitespace\n",
    "    examples[\"question\"] = [q.lstrip() for q in examples[\"question\"]]\n",
    "  # Tokenize our examples with truncation and maybe padding, but keep the overflows using a stride. This results\n",
    "  # in one example possible giving several features when a context is long, each of those features having a\n",
    "  # context that overlaps a bit the context of the previous feature.\n",
    "    tokenized_examples = tokenizer(\n",
    "      examples[\"question\"],\n",
    "      examples[\"context\"],\n",
    "      truncation=\"only_second\" if right_padding else \"only_first\",\n",
    "      max_length=max_seq_length,\n",
    "      stride=global_doc_stride,\n",
    "      return_overflowing_tokens=True,\n",
    "      return_offsets_mapping=True,\n",
    "      padding=\"max_length\",\n",
    "  )\n",
    "\n",
    "  # Since one example might give us several features if it has a long context, we need a map from a feature to\n",
    "  # its corresponding example. This key gives us just that.\n",
    "    sample_mapping = tokenized_examples.pop(\"overflow_to_sample_mapping\")\n",
    "\n",
    "  # For evaluation, we will need to convert our predictions to substrings of the context, so we keep the\n",
    "  # corresponding example_id and we will store the offset mappings.\n",
    "    tokenized_examples[\"example_id\"] = []\n",
    "\n",
    "    for i in range(len(tokenized_examples[\"input_ids\"])):\n",
    "      # Grab the sequence corresponding to that example (to know what is the context and what is the question).\n",
    "        sequence_ids = tokenized_examples.sequence_ids(i)\n",
    "        context_index = 0\n",
    "\n",
    "      # One example can give several spans, this is the index of the example containing this span of text.\n",
    "        sample_index = sample_mapping[i]\n",
    "        tokenized_examples[\"example_id\"].append(examples[\"id\"][sample_index])\n",
    "\n",
    "      # Set to None the offset_mapping that are not part of the context so it's easy to determine if a token\n",
    "      # position is part of the context or not.\n",
    "        tokenized_examples[\"offset_mapping\"][i] = [\n",
    "            (o if sequence_ids[k] == context_index else None)\n",
    "            for k, o in enumerate(tokenized_examples[\"offset_mapping\"][i])\n",
    "      ]\n",
    "\n",
    "    return tokenized_examples"
   ]
  },
  {
   "cell_type": "code",
   "execution_count": 14,
   "id": "ee8955f9-eee2-4b36-aa63-6b1f7da7334d",
   "metadata": {},
   "outputs": [],
   "source": [
    "# Validation preprocessing\n",
    "def prepare_validation_features(examples):\n",
    "    # Some of the questions have lots of whitespace on the left, which is not useful and will make the\n",
    "    # truncation of the context fail (the tokenized question will take a lots of space). So we remove that\n",
    "    # left whitespace\n",
    "    examples[\"question\"] = [q.lstrip() for q in examples[\"question\"]]\n",
    "\n",
    "    # Tokenize our examples with truncation and maybe padding, but keep the overflows using a stride. This results\n",
    "    # in one example possible giving several features when a context is long, each of those features having a\n",
    "    # context that overlaps a bit the context of the previous feature.\n",
    "    tokenized_examples = tokenizer(\n",
    "        examples[\"question\" if right_padding else \"context\"],\n",
    "        examples[\"context\" if right_padding else \"question\"],\n",
    "        truncation=\"only_second\" if right_padding else \"only_first\",\n",
    "        max_length=max_seq_length,\n",
    "        stride=global_doc_stride,\n",
    "        return_overflowing_tokens=True,\n",
    "        return_offsets_mapping=True,\n",
    "        padding=\"max_length\",\n",
    "    )\n",
    "\n",
    "    # Since one example might give us several features if it has a long context, we need a map from a feature to\n",
    "    # its corresponding example. This key gives us just that.\n",
    "    sample_mapping = tokenized_examples.pop(\"overflow_to_sample_mapping\")\n",
    "\n",
    "    # For evaluation, we will need to convert our predictions to substrings of the context, so we keep the\n",
    "    # corresponding example_id and we will store the offset mappings.\n",
    "    tokenized_examples[\"example_id\"] = []\n",
    "\n",
    "    for i in range(len(tokenized_examples[\"input_ids\"])):\n",
    "        # Grab the sequence corresponding to that example (to know what is the context and what is the question).\n",
    "        sequence_ids = tokenized_examples.sequence_ids(i)\n",
    "        context_index = 1 if right_padding else 0\n",
    "\n",
    "        # One example can give several spans, this is the index of the example containing this span of text.\n",
    "        sample_index = sample_mapping[i]\n",
    "        tokenized_examples[\"example_id\"].append(examples[\"id\"][sample_index])\n",
    "\n",
    "        # Set to None the offset_mapping that are not part of the context so it's easy to determine if a token\n",
    "        # position is part of the context or not.\n",
    "        tokenized_examples[\"offset_mapping\"][i] = [\n",
    "            (o if sequence_ids[k] == context_index else None)\n",
    "            for k, o in enumerate(tokenized_examples[\"offset_mapping\"][i])\n",
    "        ]\n",
    "\n",
    "    return tokenized_examples"
   ]
  },
  {
   "cell_type": "code",
   "execution_count": 15,
   "id": "46fd26da-ec5a-4d8c-88bd-b75f41388a74",
   "metadata": {},
   "outputs": [],
   "source": [
    "# Post-processing:\n",
    "def post_processing_function(examples, features, predictions, stage=\"eval\"):\n",
    "    # Post-processing: we match the start logits and end logits to answers in the original context.\n",
    "    predictions = postprocess_qa_predictions(\n",
    "        examples=examples,\n",
    "        features=features,\n",
    "        predictions=predictions,\n",
    "        version_2_with_negative=version_2_with_negative, #If true, some of the examples do not have an answer.\n",
    "        n_best_size=20, #The total number of n-best predictions to generate when looking for an answer.\n",
    "        max_answer_length=30, #The maximum length of an answer that can be generated. This is needed because the start and end predictions are not conditioned on one another.\n",
    "        null_score_diff_threshold=no_answer_threshold, #The threshold used to select the null answer: if the best answer has a score that is less than the score of the null answer minus this threshold, the null answer is selected for this example. Only useful when `version_2_with_negative=True`.\n",
    "        output_dir= None,\n",
    "        log_level=logging.WARNING,\n",
    "        prefix=stage,\n",
    "    )\n",
    "    # Format the result to the format the metric expects.\n",
    "    if version_2_with_negative:\n",
    "        formatted_predictions = [\n",
    "                {\"id\": str(k), \"prediction_text\": v, \"no_answer_probability\": 0.0} for k, v in predictions.items()\n",
    "            ]\n",
    "    else:\n",
    "        formatted_predictions = [{\"id\": str(k), \"prediction_text\": v} for k, v in predictions.items()]\n",
    "    \n",
    "    \n",
    "    references = [{\"id\": str(ex[\"id\"]), \"answers\": ex[\"answers\"]} for ex in examples]\n",
    "    return EvalPrediction(predictions=formatted_predictions, label_ids=references)"
   ]
  },
  {
   "cell_type": "code",
   "execution_count": 16,
   "id": "2d015b7f-512d-4a66-87e4-8b2949701bef",
   "metadata": {},
   "outputs": [],
   "source": [
    "def postprocess_qa_predictions(\n",
    "    examples,\n",
    "    features,\n",
    "    predictions: Tuple[np.ndarray, np.ndarray],\n",
    "    version_2_with_negative: bool = False,\n",
    "    n_best_size: int = 20,\n",
    "    max_answer_length: int = 30,\n",
    "    null_score_diff_threshold: float = 0.0,\n",
    "    output_dir: Optional[str] = None,\n",
    "    prefix: Optional[str] = None,\n",
    "    log_level: Optional[int] = logging.WARNING,\n",
    "):\n",
    "    \"\"\"\n",
    "    Post-processes the predictions of a question-answering model to convert them to answers that are substrings of the\n",
    "    original contexts. This is the base postprocessing functions for models that only return start and end logits.\n",
    "\n",
    "    Args:\n",
    "        examples: The non-preprocessed dataset (see the main script for more information).\n",
    "        features: The processed dataset (see the main script for more information).\n",
    "        predictions (:obj:`Tuple[np.ndarray, np.ndarray]`):\n",
    "            The predictions of the model: two arrays containing the start logits and the end logits respectively. Its\n",
    "            first dimension must match the number of elements of :obj:`features`.\n",
    "        version_2_with_negative (:obj:`bool`, `optional`, defaults to :obj:`False`):\n",
    "            Whether or not the underlying dataset contains examples with no answers.\n",
    "        n_best_size (:obj:`int`, `optional`, defaults to 20):\n",
    "            The total number of n-best predictions to generate when looking for an answer.\n",
    "        max_answer_length (:obj:`int`, `optional`, defaults to 30):\n",
    "            The maximum length of an answer that can be generated. This is needed because the start and end predictions\n",
    "            are not conditioned on one another.\n",
    "        null_score_diff_threshold (:obj:`float`, `optional`, defaults to 0):\n",
    "            The threshold used to select the null answer: if the best answer has a score that is less than the score of\n",
    "            the null answer minus this threshold, the null answer is selected for this example (note that the score of\n",
    "            the null answer for an example giving several features is the minimum of the scores for the null answer on\n",
    "            each feature: all features must be aligned on the fact they `want` to predict a null answer).\n",
    "\n",
    "            Only useful when :obj:`version_2_with_negative` is :obj:`True`.\n",
    "        output_dir (:obj:`str`, `optional`):\n",
    "            If provided, the dictionaries of predictions, n_best predictions (with their scores and logits) and, if\n",
    "            :obj:`version_2_with_negative=True`, the dictionary of the scores differences between best and null\n",
    "            answers, are saved in `output_dir`.\n",
    "        prefix (:obj:`str`, `optional`):\n",
    "            If provided, the dictionaries mentioned above are saved with `prefix` added to their names.\n",
    "        log_level (:obj:`int`, `optional`, defaults to ``logging.WARNING``):\n",
    "            ``logging`` log level (e.g., ``logging.WARNING``)\n",
    "    \"\"\"\n",
    "    if len(predictions) != 2:\n",
    "        raise ValueError(\"`predictions` should be a tuple with two elements (start_logits, end_logits).\")\n",
    "    all_start_logits, all_end_logits = predictions\n",
    "\n",
    "    if len(predictions[0]) != len(features):\n",
    "        raise ValueError(f\"Got {len(predictions[0])} predictions and {len(features)} features.\")\n",
    "\n",
    "    # Build a map example to its corresponding features.\n",
    "    example_id_to_index = {k: i for i, k in enumerate(examples[\"id\"])}\n",
    "    features_per_example = collections.defaultdict(list)\n",
    "    for i, feature in enumerate(features):\n",
    "        features_per_example[example_id_to_index[feature[\"example_id\"]]].append(i)\n",
    "\n",
    "    # The dictionaries we have to fill.\n",
    "    all_predictions = collections.OrderedDict()\n",
    "    all_nbest_json = collections.OrderedDict()\n",
    "    if version_2_with_negative:\n",
    "        scores_diff_json = collections.OrderedDict()\n",
    "\n",
    "    # Logging.\n",
    "    logger.setLevel(log_level)\n",
    "    logger.info(f\"Post-processing {len(examples)} example predictions split into {len(features)} features.\")\n",
    "\n",
    "    # Let's loop over all the examples!\n",
    "    for example_index, example in enumerate(tqdm(examples)):\n",
    "        # Those are the indices of the features associated to the current example.\n",
    "        feature_indices = features_per_example[example_index]\n",
    "\n",
    "        min_null_prediction = None\n",
    "        prelim_predictions = []\n",
    "\n",
    "        # Looping through all the features associated to the current example.\n",
    "        for feature_index in feature_indices:\n",
    "            # We grab the predictions of the model for this feature.\n",
    "            start_logits = all_start_logits[feature_index]\n",
    "            end_logits = all_end_logits[feature_index]\n",
    "            # This is what will allow us to map some the positions in our logits to span of texts in the original\n",
    "            # context.\n",
    "            offset_mapping = features[feature_index][\"offset_mapping\"]\n",
    "            # Optional `token_is_max_context`, if provided we will remove answers that do not have the maximum context\n",
    "            # available in the current feature.\n",
    "            token_is_max_context = features[feature_index].get(\"token_is_max_context\", None)\n",
    "\n",
    "            # Update minimum null prediction.\n",
    "            feature_null_score = start_logits[0] + end_logits[0]\n",
    "            if min_null_prediction is None or min_null_prediction[\"score\"] > feature_null_score:\n",
    "                min_null_prediction = {\n",
    "                    \"offsets\": (0, 0),\n",
    "                    \"score\": feature_null_score,\n",
    "                    \"start_logit\": start_logits[0],\n",
    "                    \"end_logit\": end_logits[0],\n",
    "                }\n",
    "\n",
    "            # Go through all possibilities for the `n_best_size` greater start and end logits.\n",
    "            start_indexes = np.argsort(start_logits)[-1 : -n_best_size - 1 : -1].tolist()\n",
    "            end_indexes = np.argsort(end_logits)[-1 : -n_best_size - 1 : -1].tolist()\n",
    "            for start_index in start_indexes:\n",
    "                for end_index in end_indexes:\n",
    "                    # Don't consider out-of-scope answers, either because the indices are out of bounds or correspond\n",
    "                    # to part of the input_ids that are not in the context.\n",
    "                    if (\n",
    "                        start_index >= len(offset_mapping)\n",
    "                        or end_index >= len(offset_mapping)\n",
    "                        or offset_mapping[start_index] is None\n",
    "                        or len(offset_mapping[start_index]) < 2\n",
    "                        or offset_mapping[end_index] is None\n",
    "                        or len(offset_mapping[end_index]) < 2\n",
    "                    ):\n",
    "                        continue\n",
    "                    # Don't consider answers with a length that is either < 0 or > max_answer_length.\n",
    "                    if end_index < start_index or end_index - start_index + 1 > max_answer_length:\n",
    "                        continue\n",
    "                    # Don't consider answer that don't have the maximum context available (if such information is\n",
    "                    # provided).\n",
    "                    if token_is_max_context is not None and not token_is_max_context.get(str(start_index), False):\n",
    "                        continue\n",
    "\n",
    "                    prelim_predictions.append(\n",
    "                        {\n",
    "                            \"offsets\": (offset_mapping[start_index][0], offset_mapping[end_index][1]),\n",
    "                            \"score\": start_logits[start_index] + end_logits[end_index],\n",
    "                            \"start_logit\": start_logits[start_index],\n",
    "                            \"end_logit\": end_logits[end_index],\n",
    "                        }\n",
    "                    )\n",
    "        if version_2_with_negative and min_null_prediction is not None:\n",
    "            # Add the minimum null prediction\n",
    "            prelim_predictions.append(min_null_prediction)\n",
    "            null_score = min_null_prediction[\"score\"]\n",
    "\n",
    "        # Only keep the best `n_best_size` predictions.\n",
    "        predictions = sorted(prelim_predictions, key=lambda x: x[\"score\"], reverse=True)[:n_best_size]\n",
    "\n",
    "        # Add back the minimum null prediction if it was removed because of its low score.\n",
    "        if (\n",
    "            version_2_with_negative\n",
    "            and min_null_prediction is not None\n",
    "            and not any(p[\"offsets\"] == (0, 0) for p in predictions)\n",
    "        ):\n",
    "            predictions.append(min_null_prediction)\n",
    "\n",
    "        # Use the offsets to gather the answer text in the original context.\n",
    "        context = example[\"context\"]\n",
    "        for pred in predictions:\n",
    "            offsets = pred.pop(\"offsets\")\n",
    "            pred[\"text\"] = context[offsets[0] : offsets[1]]\n",
    "\n",
    "        # In the very rare edge case we have not a single non-null prediction, we create a fake prediction to avoid\n",
    "        # failure.\n",
    "        if len(predictions) == 0 or (len(predictions) == 1 and predictions[0][\"text\"] == \"\"):\n",
    "            predictions.insert(0, {\"text\": \"empty\", \"start_logit\": 0.0, \"end_logit\": 0.0, \"score\": 0.0})\n",
    "\n",
    "        # Compute the softmax of all scores (we do it with numpy to stay independent from torch/tf in this file, using\n",
    "        # the LogSumExp trick).\n",
    "        scores = np.array([pred.pop(\"score\") for pred in predictions])\n",
    "        exp_scores = np.exp(scores - np.max(scores))\n",
    "        probs = exp_scores / exp_scores.sum()\n",
    "\n",
    "        # Include the probabilities in our predictions.\n",
    "        for prob, pred in zip(probs, predictions):\n",
    "            pred[\"probability\"] = prob\n",
    "\n",
    "        # Pick the best prediction. If the null answer is not possible, this is easy.\n",
    "        if not version_2_with_negative:\n",
    "            all_predictions[example[\"id\"]] = predictions[0][\"text\"]\n",
    "        else:\n",
    "            # Otherwise we first need to find the best non-empty prediction.\n",
    "            i = 0\n",
    "            while predictions[i][\"text\"] == \"\":\n",
    "                i += 1\n",
    "            best_non_null_pred = predictions[i]\n",
    "\n",
    "            # Then we compare to the null prediction using the threshold.\n",
    "            score_diff = null_score - best_non_null_pred[\"start_logit\"] - best_non_null_pred[\"end_logit\"]\n",
    "            scores_diff_json[example[\"id\"]] = float(score_diff)  # To be JSON-serializable.\n",
    "            if score_diff > null_score_diff_threshold:\n",
    "                all_predictions[example[\"id\"]] = \"\"\n",
    "            else:\n",
    "                all_predictions[example[\"id\"]] = best_non_null_pred[\"text\"]\n",
    "\n",
    "        # Make `predictions` JSON-serializable by casting np.float back to float.\n",
    "        all_nbest_json[example[\"id\"]] = [\n",
    "            {k: (float(v) if isinstance(v, (np.float16, np.float32, np.float64)) else v) for k, v in pred.items()}\n",
    "            for pred in predictions\n",
    "        ]\n",
    "\n",
    "    # If we have an output_dir, let's save all those dicts.\n",
    "    if output_dir is not None:\n",
    "        if not os.path.isdir(output_dir):\n",
    "            raise EnvironmentError(f\"{output_dir} is not a directory.\")\n",
    "\n",
    "        prediction_file = os.path.join(\n",
    "            output_dir, \"predictions.json\" if prefix is None else f\"{prefix}_predictions.json\"\n",
    "        )\n",
    "        nbest_file = os.path.join(\n",
    "            output_dir, \"nbest_predictions.json\" if prefix is None else f\"{prefix}_nbest_predictions.json\"\n",
    "        )\n",
    "        if version_2_with_negative:\n",
    "            null_odds_file = os.path.join(\n",
    "                output_dir, \"null_odds.json\" if prefix is None else f\"{prefix}_null_odds.json\"\n",
    "            )\n",
    "\n",
    "        logger.info(f\"Saving predictions to {prediction_file}.\")\n",
    "        with open(prediction_file, \"w\") as writer:\n",
    "            writer.write(json.dumps(all_predictions, indent=4) + \"\\n\")\n",
    "        logger.info(f\"Saving nbest_preds to {nbest_file}.\")\n",
    "        with open(nbest_file, \"w\") as writer:\n",
    "            writer.write(json.dumps(all_nbest_json, indent=4) + \"\\n\")\n",
    "        if version_2_with_negative:\n",
    "            logger.info(f\"Saving null_odds to {null_odds_file}.\")\n",
    "            with open(null_odds_file, \"w\") as writer:\n",
    "                writer.write(json.dumps(scores_diff_json, indent=4) + \"\\n\")\n",
    "\n",
    "    return all_predictions"
   ]
  },
  {
   "cell_type": "code",
   "execution_count": 18,
   "id": "aa993870-b078-4b43-ad6b-c11aa40c47ef",
   "metadata": {},
   "outputs": [],
   "source": [
    "# List of questions to debug\n",
    "debug_questions = [\n",
    "    \"What ideology was sponsored at the Ming court?\",\n",
    "    \"Who stopped their trips to Ming China?\",\n",
    "    \"Another question of interest\"\n",
    "]\n",
    "\n",
    "# Training preprocessing\n",
    "def preprocess_function(examples):\n",
    "    # Some of the questions have lots of whitespace on the left, which is not useful and will make the\n",
    "    # truncation of the context fail (the tokenized question will take a lots of space). So we remove that\n",
    "    # left whitespace\n",
    "    examples[\"question\"] = [q.lstrip() for q in examples[\"question\"]]\n",
    "\n",
    "    # Tokenize our examples with truncation and padding, but keep the overflows using a stride. This results\n",
    "    # in one example possible giving several features when a context is long, each of those features having a\n",
    "    # context that overlaps a bit the context of the previous feature.\n",
    "    tokenized_examples = tokenizer(\n",
    "        examples[\"question\" if right_padding else \"context\"],\n",
    "        examples[\"context\" if right_padding else \"question\"],\n",
    "        truncation=\"only_second\" if right_padding else \"only_first\",\n",
    "        max_length=max_seq_length,\n",
    "        stride=global_doc_stride,\n",
    "        return_overflowing_tokens=True,\n",
    "        return_offsets_mapping=True,\n",
    "        padding=\"max_length\",\n",
    "    )\n",
    "\n",
    "    # Since one example might give us several features if it has a long context, we need a map from a feature to\n",
    "    # its corresponding example. This key gives us just that.\n",
    "    sample_mapping = tokenized_examples.pop(\"overflow_to_sample_mapping\")\n",
    "    # The offset mappings will give us a map from token to character position in the original context. This will\n",
    "    # help us compute the start_positions and end_positions.\n",
    "    offset_mapping = tokenized_examples.pop(\"offset_mapping\")\n",
    "\n",
    "    # Let's label those examples!\n",
    "    tokenized_examples[\"start_positions\"] = []\n",
    "    tokenized_examples[\"end_positions\"] = []\n",
    "\n",
    "    for i, offsets in enumerate(offset_mapping):\n",
    "        # We will label impossible answers with the index of the CLS token.\n",
    "        input_ids = tokenized_examples[\"input_ids\"][i]\n",
    "        cls_index = input_ids.index(tokenizer.cls_token_id)\n",
    "        \n",
    "        # Grab the sequence corresponding to that example (to know what is the context and what is the question).\n",
    "        sequence_ids = tokenized_examples.sequence_ids(i)\n",
    "\n",
    "        # One example can give several spans, this is the index of the example containing this span of text.\n",
    "        sample_index = sample_mapping[i]\n",
    "        answers = examples[\"answers\"][sample_index]        \n",
    "        question = examples[\"question\"][sample_index]\n",
    "        example_id = examples[\"id\"][sample_index]\n",
    "        \n",
    "        # If no answers are given, set the cls_index as answer.\n",
    "        if len(answers[\"answer_start\"]) == 0:\n",
    "            tokenized_examples[\"start_positions\"].append(cls_index)\n",
    "            tokenized_examples[\"end_positions\"].append(cls_index)\n",
    "        else:\n",
    "            # Start/end character index of the answer in the text.\n",
    "            start_char = answers[\"answer_start\"][0]\n",
    "            end_char = start_char + len(answers[\"text\"][0])\n",
    "\n",
    "            # Start token index of the current span in the text.\n",
    "            token_start_index = 0\n",
    "            while sequence_ids[token_start_index] != (1 if right_padding else 0):\n",
    "                token_start_index += 1\n",
    "\n",
    "            # End token index of the current span in the text.\n",
    "            token_end_index = len(input_ids) - 1\n",
    "            while sequence_ids[token_end_index] != (1 if right_padding else 0):\n",
    "                token_end_index -= 1\n",
    "            \n",
    "            # Detect if the answer is out of the span (in which case this feature is labeled with the CLS index).\n",
    "            if not (offsets[token_start_index][0] <= start_char and offsets[token_end_index][1] >= end_char):\n",
    "                tokenized_examples[\"start_positions\"].append(cls_index)\n",
    "                tokenized_examples[\"end_positions\"].append(cls_index)\n",
    "            else:\n",
    "                # Increase the end index here to make sure it includes the last character\n",
    "                while token_start_index < len(offsets) and offsets[token_start_index][0] <= start_char:\n",
    "                    token_start_index += 1\n",
    "                safe_start_index = max(0, token_start_index - 1)\n",
    "                tokenized_examples[\"start_positions\"].append(safe_start_index)\n",
    "\n",
    "                # Adjust this line to ensure that the end character is included\n",
    "                # Decrement token_end_index to point exactly one past the end of the answer text\n",
    "                while token_end_index >= 0 and offsets[token_end_index][1] > end_char:\n",
    "                    token_end_index -= 1\n",
    "                safe_end_index = min(len(input_ids) - 1, token_end_index + 1)\n",
    "                tokenized_examples[\"end_positions\"].append(safe_end_index)  # Adjust to +2 if needed\n",
    "                \n",
    "        # Debugging code\n",
    "        global global_counter\n",
    "        global traing_answer_mismatches\n",
    "        #if question in debug_questions:\n",
    "        if len(answers[\"answer_start\"]) > 0:\n",
    "            # Ensure indices are within bounds\n",
    "            #safe_start_index = max(0, token_start_index - 1)\n",
    "            #safe_end_index = min(len(input_ids) - 1, token_end_index + 1)\n",
    "\n",
    "            # Decode the answer using safe indices\n",
    "            decoded_answer = tokenizer.decode(input_ids[safe_start_index:safe_end_index])\n",
    "            actual_answer = answers[\"text\"][0] if answers[\"text\"] else \"No answer provided\"\n",
    "            normalized_actual_answer = actual_answer.lower().replace(\" \", \"\")\n",
    "            normalized_decoded_answer = decoded_answer.lower().replace(\" \", \"\")\n",
    "            if normalized_decoded_answer != normalized_actual_answer:\n",
    "                if global_counter == 0: print('Mismatch Found')\n",
    "                global_counter += 1 \n",
    "                traing_answer_mismatches.append({\n",
    "                    'TokenizedId': i,\n",
    "                    'ID': example_id,\n",
    "                    'Question': question,\n",
    "                    'Offsets': offsets,\n",
    "                    'Input IDs':input_ids,\n",
    "                    'Tokenized Text': tokenizer.decode(input_ids),\n",
    "                    'Char start/end index': f\"{start_char} / {end_char}\",\n",
    "                    'Token start/end index':f\"{token_start_index} / {token_end_index}\",\n",
    "                    'Decoded Answer': decoded_answer,\n",
    "                    'Actual Answer': actual_answer,                    \n",
    "                })    \n",
    "    return tokenized_examples"
   ]
  },
  {
   "cell_type": "markdown",
   "id": "baaa50d9-d80b-4bcc-a9d4-66f8cb4084e9",
   "metadata": {
    "jp-MarkdownHeadingCollapsed": true,
    "tags": []
   },
   "source": [
    "## 2. Data Preparation"
   ]
  },
  {
   "cell_type": "code",
   "execution_count": 26,
   "id": "5b9fbac7-2668-43cb-addf-9c86174fd242",
   "metadata": {},
   "outputs": [],
   "source": [
    "# Load the full dataset\n",
    "full_squad_dataset = load_dataset(\"squad_v2\")"
   ]
  },
  {
   "cell_type": "code",
   "execution_count": 27,
   "id": "94f41120-057b-4dd8-9bbd-a5165dc726fe",
   "metadata": {
    "tags": []
   },
   "outputs": [
    {
     "name": "stdout",
     "output_type": "stream",
     "text": [
      "Train set size: 130319\n",
      "Validation set size: 11873\n"
     ]
    },
    {
     "data": {
      "text/plain": [
       "DatasetDict({\n",
       "    train: Dataset({\n",
       "        features: ['id', 'title', 'context', 'question', 'answers'],\n",
       "        num_rows: 130319\n",
       "    })\n",
       "    validation: Dataset({\n",
       "        features: ['id', 'title', 'context', 'question', 'answers'],\n",
       "        num_rows: 11873\n",
       "    })\n",
       "})"
      ]
     },
     "execution_count": 27,
     "metadata": {},
     "output_type": "execute_result"
    }
   ],
   "source": [
    "Use_Only_Sample = False\n",
    "Sample_Size = 10000\n",
    "\n",
    "if Use_Only_Sample:\n",
    "    # Load a sample portion of the dataset\n",
    "    squad_raw = datasets.DatasetDict({\n",
    "        'train': full_squad_dataset['train'].select(range(0, Sample_Size)),\n",
    "        'validation': full_squad_dataset['validation'].select(range(0, int(Sample_Size * 0.2)))\n",
    "    })\n",
    "else:\n",
    "    # Load the full dataset\n",
    "    squad_raw = datasets.DatasetDict({\n",
    "        'train': full_squad_dataset['train'],\n",
    "        'validation': full_squad_dataset['validation'],    \n",
    "    })\n",
    "    \n",
    "# Display the sizes of the splits to confirm\n",
    "print(\"Train set size:\", len(squad_raw['train']))\n",
    "print(\"Validation set size:\", len(squad_raw['validation']))\n",
    "squad_raw"
   ]
  },
  {
   "cell_type": "code",
   "execution_count": 28,
   "id": "af519485-cf11-4690-ba77-61eaace04e94",
   "metadata": {
    "tags": []
   },
   "outputs": [
    {
     "data": {
      "application/vnd.jupyter.widget-view+json": {
       "model_id": "b0fd396579ee469a89e05d43f45f310b",
       "version_major": 2,
       "version_minor": 0
      },
      "text/plain": [
       "Running tokenizer on train dataset:   0%|          | 0/130319 [00:00<?, ? examples/s]"
      ]
     },
     "metadata": {},
     "output_type": "display_data"
    },
    {
     "name": "stdout",
     "output_type": "stream",
     "text": [
      "Mismatch Found\n"
     ]
    }
   ],
   "source": [
    "## Preprocess the Training Dataset To find Missmatches\n",
    "global_counter = 0\n",
    "traing_answer_mismatches = []\n",
    "\n",
    "train_dataset = squad_raw['train'].map(\n",
    "                preprocess_function,\n",
    "                batched=True,\n",
    "                remove_columns=squad_raw[\"train\"].column_names,\n",
    "                desc=\"Running tokenizer on train dataset\",\n",
    "                load_from_cache_file=False,  # Disable caching\n",
    "            )\n"
   ]
  },
  {
   "cell_type": "code",
   "execution_count": 29,
   "id": "441d9c6a-242b-453d-b75e-3f6ca0a15c0e",
   "metadata": {
    "tags": []
   },
   "outputs": [
    {
     "name": "stdout",
     "output_type": "stream",
     "text": [
      "Total number of miss matches: 1409\n"
     ]
    },
    {
     "data": {
      "text/html": [
       "<div>\n",
       "<style scoped>\n",
       "    .dataframe tbody tr th:only-of-type {\n",
       "        vertical-align: middle;\n",
       "    }\n",
       "\n",
       "    .dataframe tbody tr th {\n",
       "        vertical-align: top;\n",
       "    }\n",
       "\n",
       "    .dataframe thead th {\n",
       "        text-align: right;\n",
       "    }\n",
       "</style>\n",
       "<table border=\"1\" class=\"dataframe\">\n",
       "  <thead>\n",
       "    <tr style=\"text-align: right;\">\n",
       "      <th></th>\n",
       "      <th>TokenizedId</th>\n",
       "      <th>ID</th>\n",
       "      <th>Question</th>\n",
       "      <th>Offsets</th>\n",
       "      <th>Input IDs</th>\n",
       "      <th>Tokenized Text</th>\n",
       "      <th>Char start/end index</th>\n",
       "      <th>Token start/end index</th>\n",
       "      <th>Decoded Answer</th>\n",
       "      <th>Actual Answer</th>\n",
       "    </tr>\n",
       "  </thead>\n",
       "  <tbody>\n",
       "    <tr>\n",
       "      <th>0</th>\n",
       "      <td>77</td>\n",
       "      <td>56be8c8a3aeaaa14008c90ab</td>\n",
       "      <td>For which song, did Destiny's Child take home ...</td>\n",
       "      <td>[(0, 0), (0, 3), (4, 9), (10, 14), (14, 15), (...</td>\n",
       "      <td>[0, 2709, 61, 2214, 6, 222, 23313, 18, 7442, 1...</td>\n",
       "      <td>&lt;s&gt;For which song, did Destiny's Child take ho...</td>\n",
       "      <td>848 / 861</td>\n",
       "      <td>228 / 230</td>\n",
       "      <td>\"Say My Name</td>\n",
       "      <td>\"Say My Name\"</td>\n",
       "    </tr>\n",
       "    <tr>\n",
       "      <th>1</th>\n",
       "      <td>92</td>\n",
       "      <td>56bf7e603aeaaa14008c9681</td>\n",
       "      <td>What event caused Beyonce's depression?</td>\n",
       "      <td>[(0, 0), (0, 4), (5, 10), (11, 17), (18, 23), ...</td>\n",
       "      <td>[0, 2264, 515, 1726, 12674, 1755, 18, 6943, 11...</td>\n",
       "      <td>&lt;s&gt;What event caused Beyonce's depression?&lt;/s&gt;...</td>\n",
       "      <td>194 / 222</td>\n",
       "      <td>48 / 52</td>\n",
       "      <td>split with Luckett and Rob</td>\n",
       "      <td>split with Luckett and Rober</td>\n",
       "    </tr>\n",
       "    <tr>\n",
       "      <th>2</th>\n",
       "      <td>148</td>\n",
       "      <td>56d4baf92ccc5a1400d8317f</td>\n",
       "      <td>What is the name of the final studio album fro...</td>\n",
       "      <td>[(0, 0), (0, 4), (5, 7), (8, 11), (12, 16), (1...</td>\n",
       "      <td>[0, 2264, 16, 5, 766, 9, 5, 507, 4535, 2642, 3...</td>\n",
       "      <td>&lt;s&gt;What is the name of the final studio album ...</td>\n",
       "      <td>848 / 866</td>\n",
       "      <td>200 / 202</td>\n",
       "      <td>Destiny Fulfilled</td>\n",
       "      <td>Destiny Fulfilled.</td>\n",
       "    </tr>\n",
       "    <tr>\n",
       "      <th>3</th>\n",
       "      <td>203</td>\n",
       "      <td>56be973d3aeaaa14008c9123</td>\n",
       "      <td>How many number one singles did Beyonce now ha...</td>\n",
       "      <td>[(0, 0), (0, 3), (4, 8), (9, 15), (16, 19), (2...</td>\n",
       "      <td>[0, 6179, 171, 346, 65, 7695, 222, 12674, 1755...</td>\n",
       "      <td>&lt;s&gt;How many number one singles did Beyonce now...</td>\n",
       "      <td>457 / 460</td>\n",
       "      <td>128 / 126</td>\n",
       "      <td></td>\n",
       "      <td>six</td>\n",
       "    </tr>\n",
       "    <tr>\n",
       "      <th>4</th>\n",
       "      <td>331</td>\n",
       "      <td>56d4d0c32ccc5a1400d8324e</td>\n",
       "      <td>In which music video did Beyoncé star as Jay Z...</td>\n",
       "      <td>[(0, 0), (0, 2), (3, 8), (9, 14), (15, 20), (2...</td>\n",
       "      <td>[0, 1121, 61, 930, 569, 222, 12674, 12695, 999...</td>\n",
       "      <td>&lt;s&gt;In which music video did Beyoncé star as Ja...</td>\n",
       "      <td>94 / 112</td>\n",
       "      <td>42 / 45</td>\n",
       "      <td>\"'03 Bonnie &amp; Clyde</td>\n",
       "      <td>'03 Bonnie &amp; Clyde</td>\n",
       "    </tr>\n",
       "    <tr>\n",
       "      <th>5</th>\n",
       "      <td>354</td>\n",
       "      <td>56bfacdda10cfb140055122d</td>\n",
       "      <td>Who was credited for her cries on the song?</td>\n",
       "      <td>[(0, 0), (0, 3), (4, 7), (8, 16), (17, 20), (2...</td>\n",
       "      <td>[0, 12375, 21, 11223, 13, 69, 25355, 15, 5, 22...</td>\n",
       "      <td>&lt;s&gt;Who was credited for her cries on the song?...</td>\n",
       "      <td>457 / 463</td>\n",
       "      <td>113 / 116</td>\n",
       "      <td>B.I.C</td>\n",
       "      <td>B.I.C.</td>\n",
       "    </tr>\n",
       "    <tr>\n",
       "      <th>6</th>\n",
       "      <td>359</td>\n",
       "      <td>56d4d2232ccc5a1400d83266</td>\n",
       "      <td>How was Blue Ivy credited on Glory?</td>\n",
       "      <td>[(0, 0), (0, 3), (4, 7), (8, 12), (13, 16), (1...</td>\n",
       "      <td>[0, 6179, 21, 2692, 19647, 11223, 15, 30402, 1...</td>\n",
       "      <td>&lt;s&gt;How was Blue Ivy credited on Glory?&lt;/s&gt;&lt;/s&gt;...</td>\n",
       "      <td>457 / 463</td>\n",
       "      <td>111 / 114</td>\n",
       "      <td>B.I.C</td>\n",
       "      <td>B.I.C.</td>\n",
       "    </tr>\n",
       "    <tr>\n",
       "      <th>7</th>\n",
       "      <td>506</td>\n",
       "      <td>56bec3ea3aeaaa14008c93a0</td>\n",
       "      <td>Her alter ego was born when according to Beyonce?</td>\n",
       "      <td>[(0, 0), (0, 3), (4, 9), (10, 13), (14, 17), (...</td>\n",
       "      <td>[0, 13584, 11330, 21450, 21, 2421, 77, 309, 7,...</td>\n",
       "      <td>&lt;s&gt;Her alter ego was born when according to Be...</td>\n",
       "      <td>378 / 403</td>\n",
       "      <td>102 / 107</td>\n",
       "      <td>making of \"Crazy in Love</td>\n",
       "      <td>making of \"Crazy in Love\"</td>\n",
       "    </tr>\n",
       "    <tr>\n",
       "      <th>8</th>\n",
       "      <td>817</td>\n",
       "      <td>56cbda8d6d243a140015ed8e</td>\n",
       "      <td>In what village was Frédéric born in?</td>\n",
       "      <td>[(0, 0), (0, 2), (3, 7), (8, 15), (16, 19), (2...</td>\n",
       "      <td>[0, 1121, 99, 3375, 21, 4967, 1140, 417, 1140,...</td>\n",
       "      <td>&lt;s&gt;In what village was Frédéric born in?&lt;/s&gt;&lt;/...</td>\n",
       "      <td>28 / 41</td>\n",
       "      <td>26 / 30</td>\n",
       "      <td>�elazowa Wola</td>\n",
       "      <td>Żelazowa Wola</td>\n",
       "    </tr>\n",
       "    <tr>\n",
       "      <th>9</th>\n",
       "      <td>822</td>\n",
       "      <td>56ce1225aab44d1400b88430</td>\n",
       "      <td>Where was Chopin born?</td>\n",
       "      <td>[(0, 0), (0, 5), (6, 9), (10, 14), (14, 16), (...</td>\n",
       "      <td>[0, 13841, 21, 15395, 179, 2421, 116, 2, 2, 59...</td>\n",
       "      <td>&lt;s&gt;Where was Chopin born?&lt;/s&gt;&lt;/s&gt;Fryderyk Chop...</td>\n",
       "      <td>28 / 41</td>\n",
       "      <td>20 / 24</td>\n",
       "      <td>�elazowa Wola</td>\n",
       "      <td>Żelazowa Wola</td>\n",
       "    </tr>\n",
       "  </tbody>\n",
       "</table>\n",
       "</div>"
      ],
      "text/plain": [
       "   TokenizedId                        ID  \\\n",
       "0           77  56be8c8a3aeaaa14008c90ab   \n",
       "1           92  56bf7e603aeaaa14008c9681   \n",
       "2          148  56d4baf92ccc5a1400d8317f   \n",
       "3          203  56be973d3aeaaa14008c9123   \n",
       "4          331  56d4d0c32ccc5a1400d8324e   \n",
       "5          354  56bfacdda10cfb140055122d   \n",
       "6          359  56d4d2232ccc5a1400d83266   \n",
       "7          506  56bec3ea3aeaaa14008c93a0   \n",
       "8          817  56cbda8d6d243a140015ed8e   \n",
       "9          822  56ce1225aab44d1400b88430   \n",
       "\n",
       "                                            Question  \\\n",
       "0  For which song, did Destiny's Child take home ...   \n",
       "1            What event caused Beyonce's depression?   \n",
       "2  What is the name of the final studio album fro...   \n",
       "3  How many number one singles did Beyonce now ha...   \n",
       "4  In which music video did Beyoncé star as Jay Z...   \n",
       "5        Who was credited for her cries on the song?   \n",
       "6                How was Blue Ivy credited on Glory?   \n",
       "7  Her alter ego was born when according to Beyonce?   \n",
       "8              In what village was Frédéric born in?   \n",
       "9                             Where was Chopin born?   \n",
       "\n",
       "                                             Offsets  \\\n",
       "0  [(0, 0), (0, 3), (4, 9), (10, 14), (14, 15), (...   \n",
       "1  [(0, 0), (0, 4), (5, 10), (11, 17), (18, 23), ...   \n",
       "2  [(0, 0), (0, 4), (5, 7), (8, 11), (12, 16), (1...   \n",
       "3  [(0, 0), (0, 3), (4, 8), (9, 15), (16, 19), (2...   \n",
       "4  [(0, 0), (0, 2), (3, 8), (9, 14), (15, 20), (2...   \n",
       "5  [(0, 0), (0, 3), (4, 7), (8, 16), (17, 20), (2...   \n",
       "6  [(0, 0), (0, 3), (4, 7), (8, 12), (13, 16), (1...   \n",
       "7  [(0, 0), (0, 3), (4, 9), (10, 13), (14, 17), (...   \n",
       "8  [(0, 0), (0, 2), (3, 7), (8, 15), (16, 19), (2...   \n",
       "9  [(0, 0), (0, 5), (6, 9), (10, 14), (14, 16), (...   \n",
       "\n",
       "                                           Input IDs  \\\n",
       "0  [0, 2709, 61, 2214, 6, 222, 23313, 18, 7442, 1...   \n",
       "1  [0, 2264, 515, 1726, 12674, 1755, 18, 6943, 11...   \n",
       "2  [0, 2264, 16, 5, 766, 9, 5, 507, 4535, 2642, 3...   \n",
       "3  [0, 6179, 171, 346, 65, 7695, 222, 12674, 1755...   \n",
       "4  [0, 1121, 61, 930, 569, 222, 12674, 12695, 999...   \n",
       "5  [0, 12375, 21, 11223, 13, 69, 25355, 15, 5, 22...   \n",
       "6  [0, 6179, 21, 2692, 19647, 11223, 15, 30402, 1...   \n",
       "7  [0, 13584, 11330, 21450, 21, 2421, 77, 309, 7,...   \n",
       "8  [0, 1121, 99, 3375, 21, 4967, 1140, 417, 1140,...   \n",
       "9  [0, 13841, 21, 15395, 179, 2421, 116, 2, 2, 59...   \n",
       "\n",
       "                                      Tokenized Text Char start/end index  \\\n",
       "0  <s>For which song, did Destiny's Child take ho...            848 / 861   \n",
       "1  <s>What event caused Beyonce's depression?</s>...            194 / 222   \n",
       "2  <s>What is the name of the final studio album ...            848 / 866   \n",
       "3  <s>How many number one singles did Beyonce now...            457 / 460   \n",
       "4  <s>In which music video did Beyoncé star as Ja...             94 / 112   \n",
       "5  <s>Who was credited for her cries on the song?...            457 / 463   \n",
       "6  <s>How was Blue Ivy credited on Glory?</s></s>...            457 / 463   \n",
       "7  <s>Her alter ego was born when according to Be...            378 / 403   \n",
       "8  <s>In what village was Frédéric born in?</s></...              28 / 41   \n",
       "9  <s>Where was Chopin born?</s></s>Fryderyk Chop...              28 / 41   \n",
       "\n",
       "  Token start/end index               Decoded Answer  \\\n",
       "0             228 / 230                 \"Say My Name   \n",
       "1               48 / 52   split with Luckett and Rob   \n",
       "2             200 / 202            Destiny Fulfilled   \n",
       "3             128 / 126                                \n",
       "4               42 / 45          \"'03 Bonnie & Clyde   \n",
       "5             113 / 116                        B.I.C   \n",
       "6             111 / 114                        B.I.C   \n",
       "7             102 / 107     making of \"Crazy in Love   \n",
       "8               26 / 30                �elazowa Wola   \n",
       "9               20 / 24                �elazowa Wola   \n",
       "\n",
       "                  Actual Answer  \n",
       "0                 \"Say My Name\"  \n",
       "1  split with Luckett and Rober  \n",
       "2            Destiny Fulfilled.  \n",
       "3                           six  \n",
       "4            '03 Bonnie & Clyde  \n",
       "5                        B.I.C.  \n",
       "6                        B.I.C.  \n",
       "7     making of \"Crazy in Love\"  \n",
       "8                 Żelazowa Wola  \n",
       "9                 Żelazowa Wola  "
      ]
     },
     "metadata": {},
     "output_type": "display_data"
    }
   ],
   "source": [
    "# Analyse Missmatches\n",
    "mismatches_df = pd.DataFrame(traing_answer_mismatches)\n",
    "print('Total number of miss matches:',global_counter)\n",
    "display(mismatches_df.head(10))  "
   ]
  },
  {
   "cell_type": "code",
   "execution_count": 30,
   "id": "ef820445-4d72-4e2c-95b6-1474bd671825",
   "metadata": {
    "tags": []
   },
   "outputs": [
    {
     "name": "stdout",
     "output_type": "stream",
     "text": [
      "{'id': '56be8c8a3aeaaa14008c90ab', 'title': 'Beyoncé', 'context': 'The group changed their name to Destiny\\'s Child in 1996, based upon a passage in the Book of Isaiah. In 1997, Destiny\\'s Child released their major label debut song \"Killing Time\" on the soundtrack to the 1997 film, Men in Black. The following year, the group released their self-titled debut album, scoring their first major hit \"No, No, No\". The album established the group as a viable act in the music industry, with moderate sales and winning the group three Soul Train Lady of Soul Awards for Best R&B/Soul Album of the Year, Best R&B/Soul or Rap New Artist, and Best R&B/Soul Single for \"No, No, No\". The group released their multi-platinum second album The Writing\\'s on the Wall in 1999. The record features some of the group\\'s most widely known songs such as \"Bills, Bills, Bills\", the group\\'s first number-one single, \"Jumpin\\' Jumpin\\'\" and \"Say My Name\", which became their most successful song at the time, and would remain one of their signature songs. \"Say My Name\" won the Best R&B Performance by a Duo or Group with Vocals and the Best R&B Song at the 43rd Annual Grammy Awards. The Writing\\'s on the Wall sold more than eight million copies worldwide. During this time, Beyoncé recorded a duet with Marc Nelson, an original member of Boyz II Men, on the song \"After All Is Said and Done\" for the soundtrack to the 1999 film, The Best Man.', 'question': \"For which song, did Destiny's Child take home the grammy award for best R&B performance?\", 'answers': {'text': ['\"Say My Name\"'], 'answer_start': [848]}}\n"
     ]
    }
   ],
   "source": [
    "# List of specific IDs to inspect\n",
    "debug_ids = [\n",
    "    \"56be8c8a3aeaaa14008c90ab\",       \n",
    "]\n",
    "\n",
    "# Define a function to filter examples by ID and stop processing when all have been found\n",
    "def print_specific_records(dataset):\n",
    "    found_ids = set()  # To track IDs that have been printed\n",
    "    for example in dataset:\n",
    "        if example['id'] in debug_ids:\n",
    "            print(example)\n",
    "            found_ids.add(example['id'])\n",
    "            if found_ids == set(debug_ids):\n",
    "                break  # Stop processing as all requested records have been printed\n",
    "\n",
    "# Apply the function to the full dataset (assuming the dataset is loaded and named full_squad_dataset)\n",
    "print_specific_records(full_squad_dataset['train'])\n"
   ]
  },
  {
   "cell_type": "code",
   "execution_count": 31,
   "id": "fc968279-8568-4118-b11d-f0ecb31141fd",
   "metadata": {
    "tags": []
   },
   "outputs": [
    {
     "name": "stdout",
     "output_type": "stream",
     "text": [
      "Total number of mismatches: 1409\n",
      "Original dataset size: 130319\n",
      "Cleaned dataset size: 128919\n"
     ]
    }
   ],
   "source": [
    "# Ensure the mismatches DataFrame is created from non-empty data\n",
    "if traing_answer_mismatches:\n",
    "    mismatches_df = pd.DataFrame(traing_answer_mismatches)\n",
    "    print('Total number of mismatches:', len(mismatches_df))\n",
    "else:\n",
    "    print(\"No mismatches to display. The list is empty.\")\n",
    "\n",
    "def remove_mismatches(dataset, mismatch_ids):\n",
    "    \"\"\"\n",
    "    Filters the dataset to exclude mismatched entries.\n",
    "\n",
    "    Args:\n",
    "        dataset (Dataset): The dataset from which to remove mismatched examples.\n",
    "        mismatch_ids (set): A set of example IDs that have mismatches.\n",
    "\n",
    "    Returns:\n",
    "        Dataset: A dataset with mismatched examples removed.\n",
    "    \"\"\"\n",
    "    # Use a set for faster look-up times\n",
    "    filtered_dataset = dataset.filter(lambda example: example['id'] not in mismatch_ids)\n",
    "    return filtered_dataset\n",
    "\n",
    "# Check if mismatches DataFrame exists and is not empty before removing mismatches\n",
    "if 'traing_answer_mismatches' in locals() and not mismatches_df.empty:\n",
    "    mismatch_ids = set(mismatches_df['ID'])\n",
    "    cleaned_training_dataset = remove_mismatches(squad_raw['train'], mismatch_ids)\n",
    "    print(\"Original dataset size:\", len(squad_raw['train']))\n",
    "    print(\"Cleaned dataset size:\", len(cleaned_training_dataset))\n",
    "else:\n",
    "    print(\"No mismatches found or mismatch data is empty. No filtering applied.\")\n",
    "    cleaned_training_dataset = squad_raw['train']\n"
   ]
  },
  {
   "cell_type": "code",
   "execution_count": 32,
   "id": "eece467f-8f30-45e0-bf0b-5cb27e623f25",
   "metadata": {
    "tags": []
   },
   "outputs": [
    {
     "data": {
      "application/vnd.jupyter.widget-view+json": {
       "model_id": "5dff221fb11240b49f151a57101bdb37",
       "version_major": 2,
       "version_minor": 0
      },
      "text/plain": [
       "Running tokenizer on train dataset:   0%|          | 0/128919 [00:00<?, ? examples/s]"
      ]
     },
     "metadata": {},
     "output_type": "display_data"
    },
    {
     "data": {
      "application/vnd.jupyter.widget-view+json": {
       "model_id": "d7c1c2f34df047c98a9e7e5e5797f457",
       "version_major": 2,
       "version_minor": 0
      },
      "text/plain": [
       "Running tokenizer on validation dataset:   0%|          | 0/11873 [00:00<?, ? examples/s]"
      ]
     },
     "metadata": {},
     "output_type": "display_data"
    }
   ],
   "source": [
    "\n",
    "# Preprocessing the datasets\n",
    "train_dataset = cleaned_training_dataset.map(\n",
    "                preprocess_function,\n",
    "                batched=True,\n",
    "                remove_columns=squad_raw[\"train\"].column_names,\n",
    "                desc=\"Running tokenizer on train dataset\",\n",
    "                load_from_cache_file=False,  # Disable caching\n",
    "            )\n",
    "eval_dataset = squad_raw['validation'].map(\n",
    "                prepare_validation_features,\n",
    "                batched=True,\n",
    "                remove_columns=squad_raw[\"train\"].column_names,\n",
    "                desc=\"Running tokenizer on validation dataset\",\n",
    "                load_from_cache_file=False,  # Disable caching\n",
    "            )\n",
    "eval_examples =  squad_raw[\"validation\"]\n"
   ]
  },
  {
   "cell_type": "code",
   "execution_count": 33,
   "id": "7a7c6b2a-acdc-4768-b777-f581812c70ec",
   "metadata": {
    "tags": []
   },
   "outputs": [
    {
     "name": "stdout",
     "output_type": "stream",
     "text": [
      "Train set size: 129018\n",
      "Validation set size: 11955\n",
      "Validation Examples size: 11873\n"
     ]
    }
   ],
   "source": [
    "# Display the sizes of the splits to confirm\n",
    "print(\"Train set size:\", len(train_dataset))\n",
    "print(\"Validation set size:\", len(eval_dataset))\n",
    "print(\"Validation Examples size:\", len(eval_examples))"
   ]
  },
  {
   "cell_type": "markdown",
   "id": "fc279453-3f28-4aca-996b-f49ee605ce12",
   "metadata": {
    "jp-MarkdownHeadingCollapsed": true,
    "tags": []
   },
   "source": [
    "## 3. Initial Tuning of RoBERTa Model\n"
   ]
  },
  {
   "cell_type": "markdown",
   "id": "698ef06f-7ed0-4680-95b3-a1fa8cff9294",
   "metadata": {},
   "source": [
    "For Intial training we used the fine-tuned parameters of the model https://huggingface.co/deepset/roberta-base-squad2"
   ]
  },
  {
   "cell_type": "code",
   "execution_count": 56,
   "id": "727b1cf0-8ec9-4abd-9c43-256e8c6f7299",
   "metadata": {
    "tags": []
   },
   "outputs": [
    {
     "name": "stderr",
     "output_type": "stream",
     "text": [
      "Some weights of RobertaForQuestionAnswering were not initialized from the model checkpoint at FacebookAI/roberta-base and are newly initialized: ['qa_outputs.bias', 'qa_outputs.weight']\n",
      "You should probably TRAIN this model on a down-stream task to be able to use it for predictions and inference.\n"
     ]
    },
    {
     "data": {
      "text/html": [
       "\n",
       "    <div>\n",
       "      \n",
       "      <progress value='24192' max='24192' style='width:300px; height:20px; vertical-align: middle;'></progress>\n",
       "      [24192/24192 1:35:00, Epoch 3/3]\n",
       "    </div>\n",
       "    <table border=\"1\" class=\"dataframe\">\n",
       "  <thead>\n",
       " <tr style=\"text-align: left;\">\n",
       "      <th>Epoch</th>\n",
       "      <th>Training Loss</th>\n",
       "      <th>Validation Loss</th>\n",
       "      <th>Exact</th>\n",
       "      <th>F1</th>\n",
       "      <th>Total</th>\n",
       "      <th>Hasans Exact</th>\n",
       "      <th>Hasans F1</th>\n",
       "      <th>Hasans Total</th>\n",
       "      <th>Noans Exact</th>\n",
       "      <th>Noans F1</th>\n",
       "      <th>Noans Total</th>\n",
       "      <th>Best Exact</th>\n",
       "      <th>Best Exact Thresh</th>\n",
       "      <th>Best F1</th>\n",
       "      <th>Best F1 Thresh</th>\n",
       "    </tr>\n",
       "  </thead>\n",
       "  <tbody>\n",
       "    <tr>\n",
       "      <td>1</td>\n",
       "      <td>0.950700</td>\n",
       "      <td>No log</td>\n",
       "      <td>61.770403</td>\n",
       "      <td>76.795947</td>\n",
       "      <td>11873</td>\n",
       "      <td>42.442645</td>\n",
       "      <td>72.536822</td>\n",
       "      <td>5928</td>\n",
       "      <td>81.042893</td>\n",
       "      <td>81.042893</td>\n",
       "      <td>5945</td>\n",
       "      <td>61.770403</td>\n",
       "      <td>0.000000</td>\n",
       "      <td>76.795947</td>\n",
       "      <td>0.000000</td>\n",
       "    </tr>\n",
       "    <tr>\n",
       "      <td>2</td>\n",
       "      <td>0.686300</td>\n",
       "      <td>No log</td>\n",
       "      <td>62.140992</td>\n",
       "      <td>77.705702</td>\n",
       "      <td>11873</td>\n",
       "      <td>43.758435</td>\n",
       "      <td>74.932489</td>\n",
       "      <td>5928</td>\n",
       "      <td>80.470984</td>\n",
       "      <td>80.470984</td>\n",
       "      <td>5945</td>\n",
       "      <td>62.140992</td>\n",
       "      <td>0.000000</td>\n",
       "      <td>77.705702</td>\n",
       "      <td>0.000000</td>\n",
       "    </tr>\n",
       "    <tr>\n",
       "      <td>3</td>\n",
       "      <td>0.466600</td>\n",
       "      <td>No log</td>\n",
       "      <td>63.151689</td>\n",
       "      <td>79.349576</td>\n",
       "      <td>11873</td>\n",
       "      <td>43.758435</td>\n",
       "      <td>76.200661</td>\n",
       "      <td>5928</td>\n",
       "      <td>82.489487</td>\n",
       "      <td>82.489487</td>\n",
       "      <td>5945</td>\n",
       "      <td>63.151689</td>\n",
       "      <td>0.000000</td>\n",
       "      <td>79.349576</td>\n",
       "      <td>0.000000</td>\n",
       "    </tr>\n",
       "  </tbody>\n",
       "</table><p>"
      ],
      "text/plain": [
       "<IPython.core.display.HTML object>"
      ]
     },
     "metadata": {},
     "output_type": "display_data"
    },
    {
     "data": {
      "application/vnd.jupyter.widget-view+json": {
       "model_id": "63598b6ebd3a4b1ab0776aa8cf253b08",
       "version_major": 2,
       "version_minor": 0
      },
      "text/plain": [
       "  0%|          | 0/11873 [00:00<?, ?it/s]"
      ]
     },
     "metadata": {},
     "output_type": "display_data"
    },
    {
     "data": {
      "application/vnd.jupyter.widget-view+json": {
       "model_id": "eb5629a8396345b6a8e9d38c2df61729",
       "version_major": 2,
       "version_minor": 0
      },
      "text/plain": [
       "  0%|          | 0/11873 [00:00<?, ?it/s]"
      ]
     },
     "metadata": {},
     "output_type": "display_data"
    },
    {
     "data": {
      "application/vnd.jupyter.widget-view+json": {
       "model_id": "73daf21e131b4e889bc35d7ca0251a0c",
       "version_major": 2,
       "version_minor": 0
      },
      "text/plain": [
       "  0%|          | 0/11873 [00:00<?, ?it/s]"
      ]
     },
     "metadata": {},
     "output_type": "display_data"
    },
    {
     "data": {
      "text/plain": [
       "TrainOutput(global_step=24192, training_loss=0.9035430052293041, metrics={'train_runtime': 5700.9929, 'train_samples_per_second': 67.892, 'train_steps_per_second': 4.243, 'total_flos': 1.0113595488169574e+17, 'train_loss': 0.9035430052293041, 'epoch': 3.0})"
      ]
     },
     "execution_count": 56,
     "metadata": {},
     "output_type": "execute_result"
    }
   ],
   "source": [
    "no_answer_threshold = 0.0\n",
    "model = AutoModelForQuestionAnswering.from_pretrained(pretrained_model_name)\n",
    "training_args = TrainingArguments(\n",
    "    output_dir=f'{normalized_model_name}-finetuned-manual',\n",
    "    overwrite_output_dir = True,\n",
    "    metric_for_best_model='f1',\n",
    "    greater_is_better=True,\n",
    "    load_best_model_at_end=True,\n",
    "    save_total_limit=4, \n",
    "    eval_strategy=\"epoch\",\n",
    "    save_strategy=\"epoch\",\n",
    "    report_to=\"wandb\",  # Enable logging to Weights & Biases\n",
    "    run_name=f\"{normalized_model_name}-finetune-manual\",  # Optionally set a specific run name    \n",
    "    learning_rate=3e-5,\n",
    "    per_device_train_batch_size=16,\n",
    "    per_device_eval_batch_size=16,\n",
    "    warmup_ratio=0.2,\n",
    "    num_train_epochs=3,\n",
    "    lr_scheduler_type = 'linear',\n",
    ")\n",
    "\n",
    "trainer = QuestionAnsweringTrainer(\n",
    "        model=model,\n",
    "        args=training_args,\n",
    "        train_dataset=train_dataset,\n",
    "        eval_dataset=eval_dataset,\n",
    "        eval_examples=eval_examples,\n",
    "        tokenizer=tokenizer,\n",
    "        data_collator=data_collator,\n",
    "        post_process_function=post_processing_function,\n",
    "        compute_metrics=compute_metrics,\n",
    "        callbacks=[EarlyStoppingCallback(early_stopping_patience=3)],\n",
    ")\n",
    "\n",
    "trainer.train()"
   ]
  },
  {
   "cell_type": "code",
   "execution_count": 58,
   "id": "1c859c33-0546-40e4-941f-932aad823733",
   "metadata": {
    "tags": []
   },
   "outputs": [
    {
     "data": {
      "text/html": [
       "\n",
       "    <div>\n",
       "      \n",
       "      <progress value='24192' max='24192' style='width:300px; height:20px; vertical-align: middle;'></progress>\n",
       "      [24192/24192 1:34:25, Epoch 3/3]\n",
       "    </div>\n",
       "    <table border=\"1\" class=\"dataframe\">\n",
       "  <thead>\n",
       " <tr style=\"text-align: left;\">\n",
       "      <th>Epoch</th>\n",
       "      <th>Training Loss</th>\n",
       "      <th>Validation Loss</th>\n",
       "      <th>Exact</th>\n",
       "      <th>F1</th>\n",
       "      <th>Total</th>\n",
       "      <th>Hasans Exact</th>\n",
       "      <th>Hasans F1</th>\n",
       "      <th>Hasans Total</th>\n",
       "      <th>Noans Exact</th>\n",
       "      <th>Noans F1</th>\n",
       "      <th>Noans Total</th>\n",
       "      <th>Best Exact</th>\n",
       "      <th>Best Exact Thresh</th>\n",
       "      <th>Best F1</th>\n",
       "      <th>Best F1 Thresh</th>\n",
       "    </tr>\n",
       "  </thead>\n",
       "  <tbody>\n",
       "    <tr>\n",
       "      <td>1</td>\n",
       "      <td>0.555800</td>\n",
       "      <td>No log</td>\n",
       "      <td>61.517729</td>\n",
       "      <td>77.342007</td>\n",
       "      <td>11873</td>\n",
       "      <td>41.700405</td>\n",
       "      <td>73.394340</td>\n",
       "      <td>5928</td>\n",
       "      <td>81.278385</td>\n",
       "      <td>81.278385</td>\n",
       "      <td>5945</td>\n",
       "      <td>61.517729</td>\n",
       "      <td>0.000000</td>\n",
       "      <td>77.342007</td>\n",
       "      <td>0.000000</td>\n",
       "    </tr>\n",
       "    <tr>\n",
       "      <td>2</td>\n",
       "      <td>0.443000</td>\n",
       "      <td>No log</td>\n",
       "      <td>62.907437</td>\n",
       "      <td>78.506185</td>\n",
       "      <td>11873</td>\n",
       "      <td>42.780027</td>\n",
       "      <td>74.022256</td>\n",
       "      <td>5928</td>\n",
       "      <td>82.977292</td>\n",
       "      <td>82.977292</td>\n",
       "      <td>5945</td>\n",
       "      <td>62.907437</td>\n",
       "      <td>0.000000</td>\n",
       "      <td>78.506185</td>\n",
       "      <td>0.000000</td>\n",
       "    </tr>\n",
       "    <tr>\n",
       "      <td>3</td>\n",
       "      <td>0.294900</td>\n",
       "      <td>No log</td>\n",
       "      <td>61.846206</td>\n",
       "      <td>78.208596</td>\n",
       "      <td>11873</td>\n",
       "      <td>43.049933</td>\n",
       "      <td>75.821635</td>\n",
       "      <td>5928</td>\n",
       "      <td>80.588730</td>\n",
       "      <td>80.588730</td>\n",
       "      <td>5945</td>\n",
       "      <td>61.846206</td>\n",
       "      <td>0.000000</td>\n",
       "      <td>78.208596</td>\n",
       "      <td>0.000000</td>\n",
       "    </tr>\n",
       "  </tbody>\n",
       "</table><p>"
      ],
      "text/plain": [
       "<IPython.core.display.HTML object>"
      ]
     },
     "metadata": {},
     "output_type": "display_data"
    },
    {
     "data": {
      "application/vnd.jupyter.widget-view+json": {
       "model_id": "2364522a5984488bbe40bffb9c6948d2",
       "version_major": 2,
       "version_minor": 0
      },
      "text/plain": [
       "  0%|          | 0/11873 [00:00<?, ?it/s]"
      ]
     },
     "metadata": {},
     "output_type": "display_data"
    },
    {
     "data": {
      "application/vnd.jupyter.widget-view+json": {
       "model_id": "02b529b65db5408fa9894d0f3942c5bb",
       "version_major": 2,
       "version_minor": 0
      },
      "text/plain": [
       "  0%|          | 0/11873 [00:00<?, ?it/s]"
      ]
     },
     "metadata": {},
     "output_type": "display_data"
    },
    {
     "data": {
      "application/vnd.jupyter.widget-view+json": {
       "model_id": "ff85b718546b477a84e3b2107428468b",
       "version_major": 2,
       "version_minor": 0
      },
      "text/plain": [
       "  0%|          | 0/11873 [00:00<?, ?it/s]"
      ]
     },
     "metadata": {},
     "output_type": "display_data"
    },
    {
     "data": {
      "text/plain": [
       "TrainOutput(global_step=24192, training_loss=0.4129388490051189, metrics={'train_runtime': 5665.864, 'train_samples_per_second': 68.313, 'train_steps_per_second': 4.27, 'total_flos': 1.0113595488169574e+17, 'train_loss': 0.4129388490051189, 'epoch': 3.0})"
      ]
     },
     "execution_count": 58,
     "metadata": {},
     "output_type": "execute_result"
    }
   ],
   "source": [
    "trainer.train()\n"
   ]
  },
  {
   "cell_type": "markdown",
   "id": "b873b0a9-025a-410d-8903-62b01e708aed",
   "metadata": {
    "jp-MarkdownHeadingCollapsed": true,
    "tags": []
   },
   "source": [
    "## 5. Models Tuning Reusable Functions"
   ]
  },
  {
   "cell_type": "code",
   "execution_count": 44,
   "id": "cc958752-42e2-4fe6-ac48-51d1522f6028",
   "metadata": {
    "tags": []
   },
   "outputs": [
    {
     "name": "stdout",
     "output_type": "stream",
     "text": [
      "Train set size: 60000\n",
      "Validation set size: 11873\n"
     ]
    }
   ],
   "source": [
    "Sample_Size = 60000\n",
    "\n",
    "# Load a sample portion of the dataset\n",
    "subset_squad_raw = datasets.DatasetDict({\n",
    "    'train': cleaned_training_dataset.shuffle(seed=42).select(range(Sample_Size)),\n",
    "    'validation': full_squad_dataset['validation']\n",
    "})\n",
    "    \n",
    "# Display the sizes of the splits to confirm\n",
    "print(\"Train set size:\", len(subset_squad_raw['train']))\n",
    "print(\"Validation set size:\", len(subset_squad_raw['validation']))\n",
    "squad_raw\n",
    "\n",
    "# Preprocessing the datasets\n",
    "eval_examples =  subset_squad_raw[\"validation\"]\n"
   ]
  },
  {
   "cell_type": "code",
   "execution_count": 46,
   "id": "b030f563-13a3-447d-be0d-15562b8a15c1",
   "metadata": {},
   "outputs": [],
   "source": [
    "class AdvancedEarlyStoppingCallback(TrainerCallback):\n",
    "    \"\"\"\n",
    "    A callback to stop training when either the performance falls below a certain threshold\n",
    "    or if there is no improvement over a set number of epochs.\n",
    "    \"\"\"\n",
    "    def __init__(self, metric_name, patience, threshold):\n",
    "        self.metric_name = metric_name\n",
    "        self.patience = patience\n",
    "        self.threshold = threshold\n",
    "        self.best_score = None\n",
    "        self.no_improve_epochs = 0\n",
    "\n",
    "    def on_evaluate(self, args, state, control, **kwargs):\n",
    "        metric_value = kwargs['metrics'].get(self.metric_name)\n",
    "\n",
    "        if self.best_score is None or metric_value > self.best_score:\n",
    "            self.best_score = metric_value\n",
    "            self.no_improve_epochs = 0\n",
    "        else:\n",
    "            self.no_improve_epochs += 1\n",
    "\n",
    "        # Check if performance is below the threshold\n",
    "        if metric_value < self.threshold:\n",
    "            control.should_training_stop = True\n",
    "            print(f\"Stopping training: {self.metric_name} below threshold of {self.threshold}\")\n",
    "\n",
    "        # Check if no improvement has been seen over the allowed patience\n",
    "        if self.no_improve_epochs >= self.patience:\n",
    "            control.should_training_stop = True\n",
    "            print(f\"Stopping training: No improvement in {self.metric_name} for {self.patience} epochs\")\n"
   ]
  },
  {
   "cell_type": "code",
   "execution_count": 48,
   "id": "581d57f6-426f-4727-b25a-92a91cb0d877",
   "metadata": {},
   "outputs": [],
   "source": [
    "# Define model initialization function\n",
    "def model_init():\n",
    "    return AutoModelForQuestionAnswering.from_pretrained(pretrained_model_name)\n",
    "\n",
    "# Define train dataset initialization function\n",
    "def train_dataset_init():\n",
    "    return subset_squad_raw['train'].map(\n",
    "                preprocess_function,\n",
    "                batched=True,\n",
    "                remove_columns=subset_squad_raw[\"train\"].column_names,\n",
    "                desc=\"Running tokenizer on train dataset\",\n",
    "            )\n",
    "\n",
    "# Define validation dataset initialization function\n",
    "def vald_dataset_init():\n",
    "    return subset_squad_raw['validation'].map(\n",
    "                prepare_validation_features,\n",
    "                batched=True,\n",
    "                remove_columns=subset_squad_raw[\"train\"].column_names,\n",
    "                desc=\"Running tokenizer on validation dataset\",\n",
    "            )\n",
    "\n",
    "# Optuna objective function for hyperparameter tuning\n",
    "def objective(trial):\n",
    "    # Hyperparameters to tune \n",
    "    global no_answer_threshold\n",
    "    no_answer_threshold = trial.suggest_float('no_answer_threshold', 0.0, 1.0)\n",
    "    #global global_doc_stride\n",
    "    #global_doc_stride=trial.suggest_int('doc_stride', 128, 256, step=64)\n",
    "\n",
    "    learning_rate = trial.suggest_float('learning_rate', 1e-7, 1e-4, log=True)\n",
    "    #batch_size = trial.suggest_categorical('batch_size', [16, 32, 64])\n",
    "    #warmup_steps = trial.suggest_int('warmup_steps', 0, 1000)\n",
    "    warmup_ratio= trial.suggest_int('warmup_ratio', 0.0, 1.0)\n",
    "    weight_decay = trial.suggest_float('weight_decay', 0.0, 0.25)\n",
    "    adam_beta1 = trial.suggest_float('adam_beta1', 0.8, 0.95)\n",
    "    adam_beta2 = trial.suggest_float('adam_beta2', 0.990, 0.999)\n",
    "    adam_epsilon = trial.suggest_float('adam_epsilon', 1e-8, 1e-6)\n",
    "    lr_scheduler_type = trial.suggest_categorical('lr_scheduler_type', ['linear', 'cosine', 'cosine_with_restarts']) #,'constant_with_warmup'\n",
    "    output_dir = f\"./{normalized_model_name}-finetuned-squadv2/trial_{trial.number}\"\n",
    "    \n",
    "    # Print trial parameters\n",
    "    print(f\"Current Trial {trial.number} parameters: {trial.params}\")\n",
    "    \n",
    "    # Training arguments\n",
    "    training_args = TrainingArguments(\n",
    "        output_dir=output_dir,\n",
    "        overwrite_output_dir = True,\n",
    "        metric_for_best_model='f1',\n",
    "        greater_is_better=True,\n",
    "        load_best_model_at_end=True,\n",
    "        save_total_limit=2, # Save only the best model unless you specify a different number\n",
    "        eval_strategy=\"epoch\",\n",
    "        save_strategy=\"epoch\",\n",
    "        num_train_epochs=3,  # Adjust based on computation limits\n",
    "        report_to=\"wandb\",  # Enable logging to Weights & Biases        \n",
    "        run_name=f\"{normalized_model_name}-finetune-squadv2\",  # Optionally set a specific run name    \n",
    "        learning_rate=learning_rate,\n",
    "        per_device_train_batch_size=16,\n",
    "        per_device_eval_batch_size=16,\n",
    "        #warmup_steps=warmup_steps,\n",
    "        warmup_ratio=warmup_ratio,\n",
    "        weight_decay=weight_decay,\n",
    "        adam_beta1=adam_beta1,\n",
    "        adam_beta2=adam_beta2,\n",
    "        adam_epsilon=adam_epsilon,\n",
    "        lr_scheduler_type=lr_scheduler_type,\n",
    "        fp16=True,  # Enable mixed-precision training\n",
    "    )    \n",
    "\n",
    "    trainer = QuestionAnsweringTrainer(\n",
    "        model=model_init(),\n",
    "        tokenizer=tokenizer,\n",
    "        args=training_args,\n",
    "        train_dataset=train_dataset_init(),\n",
    "        eval_dataset=vald_dataset_init(),\n",
    "        eval_examples=eval_examples,        \n",
    "        data_collator=data_collator,\n",
    "        post_process_function=post_processing_function,\n",
    "        compute_metrics=compute_metrics,\n",
    "        callbacks=[AdvancedEarlyStoppingCallback(metric_name='eval_f1', patience=1, threshold=75)]\n",
    "    )  \n",
    "    \n",
    "\n",
    "    # Train the model\n",
    "    trainer.train()\n",
    "\n",
    "    # Evaluate the model\n",
    "    eval_results = trainer.evaluate()\n",
    "    #print(\"Evaluation results:\", eval_results)  # Debug print\n",
    "    return eval_results['eval_f1']\n"
   ]
  },
  {
   "cell_type": "markdown",
   "id": "60deff21-c846-44f7-8129-8ed3e78d39d4",
   "metadata": {
    "tags": []
   },
   "source": [
    "## 6. Hyperparameters Search for RoBERTa Model\n"
   ]
  },
  {
   "cell_type": "code",
   "execution_count": 53,
   "id": "473be192-e1e9-4931-b591-35f9e4a20dfc",
   "metadata": {},
   "outputs": [
    {
     "name": "stderr",
     "output_type": "stream",
     "text": [
      "[I 2024-05-30 23:28:45,612] A new study created in memory with name: no-name-98b12afb-c7c0-4115-bbfb-81f2f4e091de\n"
     ]
    },
    {
     "name": "stdout",
     "output_type": "stream",
     "text": [
      "Current Trial 0 parameters: {'no_answer_threshold': 0.6258009157706566, 'learning_rate': 5.4396651133623655e-06, 'warmup_ratio': 1, 'weight_decay': 0.05097796400038285, 'adam_beta1': 0.8659990504824278, 'adam_beta2': 0.9928074847405066, 'adam_epsilon': 6.163387498504161e-07, 'lr_scheduler_type': 'cosine'}\n"
     ]
    },
    {
     "name": "stderr",
     "output_type": "stream",
     "text": [
      "Some weights of RobertaForQuestionAnswering were not initialized from the model checkpoint at FacebookAI/roberta-base and are newly initialized: ['qa_outputs.bias', 'qa_outputs.weight']\n",
      "You should probably TRAIN this model on a down-stream task to be able to use it for predictions and inference.\n"
     ]
    },
    {
     "data": {
      "text/html": [
       "\n",
       "    <div>\n",
       "      \n",
       "      <progress value='3753' max='11259' style='width:300px; height:20px; vertical-align: middle;'></progress>\n",
       "      [ 3753/11259 34:33 < 1:09:09, 1.81 it/s, Epoch 1/3]\n",
       "    </div>\n",
       "    <table border=\"1\" class=\"dataframe\">\n",
       "  <thead>\n",
       " <tr style=\"text-align: left;\">\n",
       "      <th>Epoch</th>\n",
       "      <th>Training Loss</th>\n",
       "      <th>Validation Loss</th>\n",
       "      <th>Exact</th>\n",
       "      <th>F1</th>\n",
       "      <th>Total</th>\n",
       "      <th>Hasans Exact</th>\n",
       "      <th>Hasans F1</th>\n",
       "      <th>Hasans Total</th>\n",
       "      <th>Noans Exact</th>\n",
       "      <th>Noans F1</th>\n",
       "      <th>Noans Total</th>\n",
       "      <th>Best Exact</th>\n",
       "      <th>Best Exact Thresh</th>\n",
       "      <th>Best F1</th>\n",
       "      <th>Best F1 Thresh</th>\n",
       "    </tr>\n",
       "  </thead>\n",
       "  <tbody>\n",
       "    <tr>\n",
       "      <td>1</td>\n",
       "      <td>2.025800</td>\n",
       "      <td>No log</td>\n",
       "      <td>26.918218</td>\n",
       "      <td>42.066367</td>\n",
       "      <td>11873</td>\n",
       "      <td>28.036437</td>\n",
       "      <td>58.376176</td>\n",
       "      <td>5928</td>\n",
       "      <td>25.803196</td>\n",
       "      <td>25.803196</td>\n",
       "      <td>5945</td>\n",
       "      <td>50.088436</td>\n",
       "      <td>0.000000</td>\n",
       "      <td>50.103409</td>\n",
       "      <td>0.000000</td>\n",
       "    </tr>\n",
       "  </tbody>\n",
       "</table><p>"
      ],
      "text/plain": [
       "<IPython.core.display.HTML object>"
      ]
     },
     "metadata": {},
     "output_type": "display_data"
    },
    {
     "data": {
      "application/vnd.jupyter.widget-view+json": {
       "model_id": "f34c8bae36054eea9148245210ef5206",
       "version_major": 2,
       "version_minor": 0
      },
      "text/plain": [
       "  0%|          | 0/11873 [00:00<?, ?it/s]"
      ]
     },
     "metadata": {},
     "output_type": "display_data"
    },
    {
     "name": "stdout",
     "output_type": "stream",
     "text": [
      "Stopping training: eval_f1 below threshold of 75\n"
     ]
    },
    {
     "data": {
      "text/html": [
       "\n",
       "    <div>\n",
       "      \n",
       "      <progress value='748' max='748' style='width:300px; height:20px; vertical-align: middle;'></progress>\n",
       "      [748/748 00:50]\n",
       "    </div>\n",
       "    "
      ],
      "text/plain": [
       "<IPython.core.display.HTML object>"
      ]
     },
     "metadata": {},
     "output_type": "display_data"
    },
    {
     "data": {
      "application/vnd.jupyter.widget-view+json": {
       "model_id": "12a368022b0d48d19070cae722ce137d",
       "version_major": 2,
       "version_minor": 0
      },
      "text/plain": [
       "  0%|          | 0/11873 [00:00<?, ?it/s]"
      ]
     },
     "metadata": {},
     "output_type": "display_data"
    },
    {
     "name": "stdout",
     "output_type": "stream",
     "text": [
      "Stopping training: eval_f1 below threshold of 75\n",
      "Stopping training: No improvement in eval_f1 for 1 epochs\n"
     ]
    },
    {
     "name": "stderr",
     "output_type": "stream",
     "text": [
      "[I 2024-05-31 00:04:50,741] Trial 0 finished with value: 42.06636671272982 and parameters: {'no_answer_threshold': 0.6258009157706566, 'learning_rate': 5.4396651133623655e-06, 'warmup_ratio': 1, 'weight_decay': 0.05097796400038285, 'adam_beta1': 0.8659990504824278, 'adam_beta2': 0.9928074847405066, 'adam_epsilon': 6.163387498504161e-07, 'lr_scheduler_type': 'cosine'}. Best is trial 0 with value: 42.06636671272982.\n"
     ]
    },
    {
     "name": "stdout",
     "output_type": "stream",
     "text": [
      "Current Trial 1 parameters: {'no_answer_threshold': 0.06277854188487253, 'learning_rate': 1.800132528681031e-07, 'warmup_ratio': 0, 'weight_decay': 0.18875772722881975, 'adam_beta1': 0.8617042148223063, 'adam_beta2': 0.9958553016760189, 'adam_epsilon': 5.188514291119966e-07, 'lr_scheduler_type': 'linear'}\n"
     ]
    },
    {
     "name": "stderr",
     "output_type": "stream",
     "text": [
      "Some weights of RobertaForQuestionAnswering were not initialized from the model checkpoint at FacebookAI/roberta-base and are newly initialized: ['qa_outputs.bias', 'qa_outputs.weight']\n",
      "You should probably TRAIN this model on a down-stream task to be able to use it for predictions and inference.\n"
     ]
    },
    {
     "data": {
      "text/html": [
       "\n",
       "    <div>\n",
       "      \n",
       "      <progress value='3753' max='11259' style='width:300px; height:20px; vertical-align: middle;'></progress>\n",
       "      [ 3753/11259 53:20 < 1:46:43, 1.17 it/s, Epoch 1/3]\n",
       "    </div>\n",
       "    <table border=\"1\" class=\"dataframe\">\n",
       "  <thead>\n",
       " <tr style=\"text-align: left;\">\n",
       "      <th>Epoch</th>\n",
       "      <th>Training Loss</th>\n",
       "      <th>Validation Loss</th>\n",
       "      <th>Exact</th>\n",
       "      <th>F1</th>\n",
       "      <th>Total</th>\n",
       "      <th>Hasans Exact</th>\n",
       "      <th>Hasans F1</th>\n",
       "      <th>Hasans Total</th>\n",
       "      <th>Noans Exact</th>\n",
       "      <th>Noans F1</th>\n",
       "      <th>Noans Total</th>\n",
       "      <th>Best Exact</th>\n",
       "      <th>Best Exact Thresh</th>\n",
       "      <th>Best F1</th>\n",
       "      <th>Best F1 Thresh</th>\n",
       "    </tr>\n",
       "  </thead>\n",
       "  <tbody>\n",
       "    <tr>\n",
       "      <td>1</td>\n",
       "      <td>3.936600</td>\n",
       "      <td>No log</td>\n",
       "      <td>49.321991</td>\n",
       "      <td>49.369420</td>\n",
       "      <td>11873</td>\n",
       "      <td>0.000000</td>\n",
       "      <td>0.094994</td>\n",
       "      <td>5928</td>\n",
       "      <td>98.502944</td>\n",
       "      <td>98.502944</td>\n",
       "      <td>5945</td>\n",
       "      <td>50.071591</td>\n",
       "      <td>0.000000</td>\n",
       "      <td>50.071591</td>\n",
       "      <td>0.000000</td>\n",
       "    </tr>\n",
       "  </tbody>\n",
       "</table><p>"
      ],
      "text/plain": [
       "<IPython.core.display.HTML object>"
      ]
     },
     "metadata": {},
     "output_type": "display_data"
    },
    {
     "data": {
      "application/vnd.jupyter.widget-view+json": {
       "model_id": "e8d825da063e480197d70030ff04770a",
       "version_major": 2,
       "version_minor": 0
      },
      "text/plain": [
       "  0%|          | 0/11873 [00:00<?, ?it/s]"
      ]
     },
     "metadata": {},
     "output_type": "display_data"
    },
    {
     "name": "stdout",
     "output_type": "stream",
     "text": [
      "Stopping training: eval_f1 below threshold of 75\n"
     ]
    },
    {
     "data": {
      "text/html": [
       "\n",
       "    <div>\n",
       "      \n",
       "      <progress value='748' max='748' style='width:300px; height:20px; vertical-align: middle;'></progress>\n",
       "      [748/748 00:50]\n",
       "    </div>\n",
       "    "
      ],
      "text/plain": [
       "<IPython.core.display.HTML object>"
      ]
     },
     "metadata": {},
     "output_type": "display_data"
    },
    {
     "data": {
      "application/vnd.jupyter.widget-view+json": {
       "model_id": "cf0511ab763c48b3adb9c7a187185b7a",
       "version_major": 2,
       "version_minor": 0
      },
      "text/plain": [
       "  0%|          | 0/11873 [00:00<?, ?it/s]"
      ]
     },
     "metadata": {},
     "output_type": "display_data"
    },
    {
     "name": "stdout",
     "output_type": "stream",
     "text": [
      "Stopping training: eval_f1 below threshold of 75\n",
      "Stopping training: No improvement in eval_f1 for 1 epochs\n"
     ]
    },
    {
     "name": "stderr",
     "output_type": "stream",
     "text": [
      "[I 2024-05-31 00:59:42,855] Trial 1 finished with value: 49.36942002022244 and parameters: {'no_answer_threshold': 0.06277854188487253, 'learning_rate': 1.800132528681031e-07, 'warmup_ratio': 0, 'weight_decay': 0.18875772722881975, 'adam_beta1': 0.8617042148223063, 'adam_beta2': 0.9958553016760189, 'adam_epsilon': 5.188514291119966e-07, 'lr_scheduler_type': 'linear'}. Best is trial 1 with value: 49.36942002022244.\n"
     ]
    },
    {
     "name": "stdout",
     "output_type": "stream",
     "text": [
      "Current Trial 2 parameters: {'no_answer_threshold': 0.5889064882149945, 'learning_rate': 9.740219527210899e-05, 'warmup_ratio': 1, 'weight_decay': 0.07610741066301935, 'adam_beta1': 0.9368926277771551, 'adam_beta2': 0.9951687555311906, 'adam_epsilon': 3.6404298482425824e-08, 'lr_scheduler_type': 'cosine'}\n"
     ]
    },
    {
     "name": "stderr",
     "output_type": "stream",
     "text": [
      "Some weights of RobertaForQuestionAnswering were not initialized from the model checkpoint at FacebookAI/roberta-base and are newly initialized: ['qa_outputs.bias', 'qa_outputs.weight']\n",
      "You should probably TRAIN this model on a down-stream task to be able to use it for predictions and inference.\n"
     ]
    },
    {
     "data": {
      "text/html": [
       "\n",
       "    <div>\n",
       "      \n",
       "      <progress value='3753' max='11259' style='width:300px; height:20px; vertical-align: middle;'></progress>\n",
       "      [ 3753/11259 37:52 < 1:15:48, 1.65 it/s, Epoch 1/3]\n",
       "    </div>\n",
       "    <table border=\"1\" class=\"dataframe\">\n",
       "  <thead>\n",
       " <tr style=\"text-align: left;\">\n",
       "      <th>Epoch</th>\n",
       "      <th>Training Loss</th>\n",
       "      <th>Validation Loss</th>\n",
       "      <th>Exact</th>\n",
       "      <th>F1</th>\n",
       "      <th>Total</th>\n",
       "      <th>Hasans Exact</th>\n",
       "      <th>Hasans F1</th>\n",
       "      <th>Hasans Total</th>\n",
       "      <th>Noans Exact</th>\n",
       "      <th>Noans F1</th>\n",
       "      <th>Noans Total</th>\n",
       "      <th>Best Exact</th>\n",
       "      <th>Best Exact Thresh</th>\n",
       "      <th>Best F1</th>\n",
       "      <th>Best F1 Thresh</th>\n",
       "    </tr>\n",
       "  </thead>\n",
       "  <tbody>\n",
       "    <tr>\n",
       "      <td>1</td>\n",
       "      <td>1.203100</td>\n",
       "      <td>No log</td>\n",
       "      <td>54.476543</td>\n",
       "      <td>69.975542</td>\n",
       "      <td>11873</td>\n",
       "      <td>41.801619</td>\n",
       "      <td>72.844064</td>\n",
       "      <td>5928</td>\n",
       "      <td>67.115223</td>\n",
       "      <td>67.115223</td>\n",
       "      <td>5945</td>\n",
       "      <td>54.484966</td>\n",
       "      <td>0.000000</td>\n",
       "      <td>69.983965</td>\n",
       "      <td>0.000000</td>\n",
       "    </tr>\n",
       "  </tbody>\n",
       "</table><p>"
      ],
      "text/plain": [
       "<IPython.core.display.HTML object>"
      ]
     },
     "metadata": {},
     "output_type": "display_data"
    },
    {
     "data": {
      "application/vnd.jupyter.widget-view+json": {
       "model_id": "6a16c3d04a0b44bbb3bb45adaa98a96b",
       "version_major": 2,
       "version_minor": 0
      },
      "text/plain": [
       "  0%|          | 0/11873 [00:00<?, ?it/s]"
      ]
     },
     "metadata": {},
     "output_type": "display_data"
    },
    {
     "name": "stdout",
     "output_type": "stream",
     "text": [
      "Stopping training: eval_f1 below threshold of 75\n"
     ]
    },
    {
     "data": {
      "text/html": [
       "\n",
       "    <div>\n",
       "      \n",
       "      <progress value='748' max='748' style='width:300px; height:20px; vertical-align: middle;'></progress>\n",
       "      [748/748 00:51]\n",
       "    </div>\n",
       "    "
      ],
      "text/plain": [
       "<IPython.core.display.HTML object>"
      ]
     },
     "metadata": {},
     "output_type": "display_data"
    },
    {
     "data": {
      "application/vnd.jupyter.widget-view+json": {
       "model_id": "dfd40eb8d07e4dc9975c2a092ebe8720",
       "version_major": 2,
       "version_minor": 0
      },
      "text/plain": [
       "  0%|          | 0/11873 [00:00<?, ?it/s]"
      ]
     },
     "metadata": {},
     "output_type": "display_data"
    },
    {
     "name": "stdout",
     "output_type": "stream",
     "text": [
      "Stopping training: eval_f1 below threshold of 75\n",
      "Stopping training: No improvement in eval_f1 for 1 epochs\n"
     ]
    },
    {
     "name": "stderr",
     "output_type": "stream",
     "text": [
      "[I 2024-05-31 01:39:10,417] Trial 2 finished with value: 69.97554228938657 and parameters: {'no_answer_threshold': 0.5889064882149945, 'learning_rate': 9.740219527210899e-05, 'warmup_ratio': 1, 'weight_decay': 0.07610741066301935, 'adam_beta1': 0.9368926277771551, 'adam_beta2': 0.9951687555311906, 'adam_epsilon': 3.6404298482425824e-08, 'lr_scheduler_type': 'cosine'}. Best is trial 2 with value: 69.97554228938657.\n"
     ]
    },
    {
     "name": "stdout",
     "output_type": "stream",
     "text": [
      "Current Trial 3 parameters: {'no_answer_threshold': 0.40779307615682636, 'learning_rate': 2.724148651695318e-07, 'warmup_ratio': 0, 'weight_decay': 0.05995731925941819, 'adam_beta1': 0.9220674972457397, 'adam_beta2': 0.9900258775496025, 'adam_epsilon': 7.483490733288096e-07, 'lr_scheduler_type': 'cosine'}\n"
     ]
    },
    {
     "name": "stderr",
     "output_type": "stream",
     "text": [
      "Some weights of RobertaForQuestionAnswering were not initialized from the model checkpoint at FacebookAI/roberta-base and are newly initialized: ['qa_outputs.bias', 'qa_outputs.weight']\n",
      "You should probably TRAIN this model on a down-stream task to be able to use it for predictions and inference.\n"
     ]
    },
    {
     "data": {
      "text/html": [
       "\n",
       "    <div>\n",
       "      \n",
       "      <progress value='3753' max='11259' style='width:300px; height:20px; vertical-align: middle;'></progress>\n",
       "      [ 3753/11259 26:20 < 52:43, 2.37 it/s, Epoch 1/3]\n",
       "    </div>\n",
       "    <table border=\"1\" class=\"dataframe\">\n",
       "  <thead>\n",
       " <tr style=\"text-align: left;\">\n",
       "      <th>Epoch</th>\n",
       "      <th>Training Loss</th>\n",
       "      <th>Validation Loss</th>\n",
       "      <th>Exact</th>\n",
       "      <th>F1</th>\n",
       "      <th>Total</th>\n",
       "      <th>Hasans Exact</th>\n",
       "      <th>Hasans F1</th>\n",
       "      <th>Hasans Total</th>\n",
       "      <th>Noans Exact</th>\n",
       "      <th>Noans F1</th>\n",
       "      <th>Noans Total</th>\n",
       "      <th>Best Exact</th>\n",
       "      <th>Best Exact Thresh</th>\n",
       "      <th>Best F1</th>\n",
       "      <th>Best F1 Thresh</th>\n",
       "    </tr>\n",
       "  </thead>\n",
       "  <tbody>\n",
       "    <tr>\n",
       "      <td>1</td>\n",
       "      <td>3.158600</td>\n",
       "      <td>No log</td>\n",
       "      <td>43.417839</td>\n",
       "      <td>45.218973</td>\n",
       "      <td>11873</td>\n",
       "      <td>4.251012</td>\n",
       "      <td>7.858447</td>\n",
       "      <td>5928</td>\n",
       "      <td>82.472666</td>\n",
       "      <td>82.472666</td>\n",
       "      <td>5945</td>\n",
       "      <td>50.080013</td>\n",
       "      <td>0.000000</td>\n",
       "      <td>50.080013</td>\n",
       "      <td>0.000000</td>\n",
       "    </tr>\n",
       "  </tbody>\n",
       "</table><p>"
      ],
      "text/plain": [
       "<IPython.core.display.HTML object>"
      ]
     },
     "metadata": {},
     "output_type": "display_data"
    },
    {
     "data": {
      "application/vnd.jupyter.widget-view+json": {
       "model_id": "dd14cee03a1d48bd8c8f8e6c9badd757",
       "version_major": 2,
       "version_minor": 0
      },
      "text/plain": [
       "  0%|          | 0/11873 [00:00<?, ?it/s]"
      ]
     },
     "metadata": {},
     "output_type": "display_data"
    },
    {
     "name": "stdout",
     "output_type": "stream",
     "text": [
      "Stopping training: eval_f1 below threshold of 75\n"
     ]
    },
    {
     "data": {
      "text/html": [
       "\n",
       "    <div>\n",
       "      \n",
       "      <progress value='748' max='748' style='width:300px; height:20px; vertical-align: middle;'></progress>\n",
       "      [748/748 00:50]\n",
       "    </div>\n",
       "    "
      ],
      "text/plain": [
       "<IPython.core.display.HTML object>"
      ]
     },
     "metadata": {},
     "output_type": "display_data"
    },
    {
     "data": {
      "application/vnd.jupyter.widget-view+json": {
       "model_id": "81bc1ce60d334c0f9c4ecd41bdd0f4b5",
       "version_major": 2,
       "version_minor": 0
      },
      "text/plain": [
       "  0%|          | 0/11873 [00:00<?, ?it/s]"
      ]
     },
     "metadata": {},
     "output_type": "display_data"
    },
    {
     "name": "stdout",
     "output_type": "stream",
     "text": [
      "Stopping training: eval_f1 below threshold of 75\n",
      "Stopping training: No improvement in eval_f1 for 1 epochs\n"
     ]
    },
    {
     "name": "stderr",
     "output_type": "stream",
     "text": [
      "[I 2024-05-31 02:07:05,650] Trial 3 finished with value: 45.218973402070446 and parameters: {'no_answer_threshold': 0.40779307615682636, 'learning_rate': 2.724148651695318e-07, 'warmup_ratio': 0, 'weight_decay': 0.05995731925941819, 'adam_beta1': 0.9220674972457397, 'adam_beta2': 0.9900258775496025, 'adam_epsilon': 7.483490733288096e-07, 'lr_scheduler_type': 'cosine'}. Best is trial 2 with value: 69.97554228938657.\n"
     ]
    },
    {
     "name": "stdout",
     "output_type": "stream",
     "text": [
      "Current Trial 4 parameters: {'no_answer_threshold': 0.5365580807749338, 'learning_rate': 4.173689558778357e-05, 'warmup_ratio': 0, 'weight_decay': 0.1819667014559262, 'adam_beta1': 0.8455519149678, 'adam_beta2': 0.9971808851314518, 'adam_epsilon': 3.579018178949705e-07, 'lr_scheduler_type': 'cosine_with_restarts'}\n"
     ]
    },
    {
     "name": "stderr",
     "output_type": "stream",
     "text": [
      "Some weights of RobertaForQuestionAnswering were not initialized from the model checkpoint at FacebookAI/roberta-base and are newly initialized: ['qa_outputs.bias', 'qa_outputs.weight']\n",
      "You should probably TRAIN this model on a down-stream task to be able to use it for predictions and inference.\n"
     ]
    },
    {
     "data": {
      "text/html": [
       "\n",
       "    <div>\n",
       "      \n",
       "      <progress value='3753' max='11259' style='width:300px; height:20px; vertical-align: middle;'></progress>\n",
       "      [ 3753/11259 27:39 < 55:19, 2.26 it/s, Epoch 1/3]\n",
       "    </div>\n",
       "    <table border=\"1\" class=\"dataframe\">\n",
       "  <thead>\n",
       " <tr style=\"text-align: left;\">\n",
       "      <th>Epoch</th>\n",
       "      <th>Training Loss</th>\n",
       "      <th>Validation Loss</th>\n",
       "      <th>Exact</th>\n",
       "      <th>F1</th>\n",
       "      <th>Total</th>\n",
       "      <th>Hasans Exact</th>\n",
       "      <th>Hasans F1</th>\n",
       "      <th>Hasans Total</th>\n",
       "      <th>Noans Exact</th>\n",
       "      <th>Noans F1</th>\n",
       "      <th>Noans Total</th>\n",
       "      <th>Best Exact</th>\n",
       "      <th>Best Exact Thresh</th>\n",
       "      <th>Best F1</th>\n",
       "      <th>Best F1 Thresh</th>\n",
       "    </tr>\n",
       "  </thead>\n",
       "  <tbody>\n",
       "    <tr>\n",
       "      <td>1</td>\n",
       "      <td>1.079400</td>\n",
       "      <td>No log</td>\n",
       "      <td>57.904489</td>\n",
       "      <td>73.682404</td>\n",
       "      <td>11873</td>\n",
       "      <td>40.873819</td>\n",
       "      <td>72.474896</td>\n",
       "      <td>5928</td>\n",
       "      <td>74.886459</td>\n",
       "      <td>74.886459</td>\n",
       "      <td>5945</td>\n",
       "      <td>57.904489</td>\n",
       "      <td>0.000000</td>\n",
       "      <td>73.682404</td>\n",
       "      <td>0.000000</td>\n",
       "    </tr>\n",
       "  </tbody>\n",
       "</table><p>"
      ],
      "text/plain": [
       "<IPython.core.display.HTML object>"
      ]
     },
     "metadata": {},
     "output_type": "display_data"
    },
    {
     "data": {
      "application/vnd.jupyter.widget-view+json": {
       "model_id": "8b0ea424960a451c9e939498dbaecaca",
       "version_major": 2,
       "version_minor": 0
      },
      "text/plain": [
       "  0%|          | 0/11873 [00:00<?, ?it/s]"
      ]
     },
     "metadata": {},
     "output_type": "display_data"
    },
    {
     "name": "stdout",
     "output_type": "stream",
     "text": [
      "Stopping training: eval_f1 below threshold of 75\n"
     ]
    },
    {
     "data": {
      "text/html": [
       "\n",
       "    <div>\n",
       "      \n",
       "      <progress value='748' max='748' style='width:300px; height:20px; vertical-align: middle;'></progress>\n",
       "      [748/748 00:50]\n",
       "    </div>\n",
       "    "
      ],
      "text/plain": [
       "<IPython.core.display.HTML object>"
      ]
     },
     "metadata": {},
     "output_type": "display_data"
    },
    {
     "data": {
      "application/vnd.jupyter.widget-view+json": {
       "model_id": "ac86543ae3964901bda74e71c9875713",
       "version_major": 2,
       "version_minor": 0
      },
      "text/plain": [
       "  0%|          | 0/11873 [00:00<?, ?it/s]"
      ]
     },
     "metadata": {},
     "output_type": "display_data"
    },
    {
     "name": "stdout",
     "output_type": "stream",
     "text": [
      "Stopping training: eval_f1 below threshold of 75\n",
      "Stopping training: No improvement in eval_f1 for 1 epochs\n"
     ]
    },
    {
     "name": "stderr",
     "output_type": "stream",
     "text": [
      "[I 2024-05-31 02:36:17,011] Trial 4 finished with value: 73.68240415191949 and parameters: {'no_answer_threshold': 0.5365580807749338, 'learning_rate': 4.173689558778357e-05, 'warmup_ratio': 0, 'weight_decay': 0.1819667014559262, 'adam_beta1': 0.8455519149678, 'adam_beta2': 0.9971808851314518, 'adam_epsilon': 3.579018178949705e-07, 'lr_scheduler_type': 'cosine_with_restarts'}. Best is trial 4 with value: 73.68240415191949.\n"
     ]
    },
    {
     "name": "stdout",
     "output_type": "stream",
     "text": [
      "Current Trial 5 parameters: {'no_answer_threshold': 0.38071136207517375, 'learning_rate': 3.9528697104763066e-05, 'warmup_ratio': 0, 'weight_decay': 0.010521752420149633, 'adam_beta1': 0.8747897193068918, 'adam_beta2': 0.9945588128487896, 'adam_epsilon': 1.4234418809201903e-07, 'lr_scheduler_type': 'cosine_with_restarts'}\n"
     ]
    },
    {
     "name": "stderr",
     "output_type": "stream",
     "text": [
      "Some weights of RobertaForQuestionAnswering were not initialized from the model checkpoint at FacebookAI/roberta-base and are newly initialized: ['qa_outputs.bias', 'qa_outputs.weight']\n",
      "You should probably TRAIN this model on a down-stream task to be able to use it for predictions and inference.\n"
     ]
    },
    {
     "data": {
      "text/html": [
       "\n",
       "    <div>\n",
       "      \n",
       "      <progress value='3753' max='11259' style='width:300px; height:20px; vertical-align: middle;'></progress>\n",
       "      [ 3753/11259 36:53 < 1:13:49, 1.69 it/s, Epoch 1/3]\n",
       "    </div>\n",
       "    <table border=\"1\" class=\"dataframe\">\n",
       "  <thead>\n",
       " <tr style=\"text-align: left;\">\n",
       "      <th>Epoch</th>\n",
       "      <th>Training Loss</th>\n",
       "      <th>Validation Loss</th>\n",
       "      <th>Exact</th>\n",
       "      <th>F1</th>\n",
       "      <th>Total</th>\n",
       "      <th>Hasans Exact</th>\n",
       "      <th>Hasans F1</th>\n",
       "      <th>Hasans Total</th>\n",
       "      <th>Noans Exact</th>\n",
       "      <th>Noans F1</th>\n",
       "      <th>Noans Total</th>\n",
       "      <th>Best Exact</th>\n",
       "      <th>Best Exact Thresh</th>\n",
       "      <th>Best F1</th>\n",
       "      <th>Best F1 Thresh</th>\n",
       "    </tr>\n",
       "  </thead>\n",
       "  <tbody>\n",
       "    <tr>\n",
       "      <td>1</td>\n",
       "      <td>1.044600</td>\n",
       "      <td>No log</td>\n",
       "      <td>58.940453</td>\n",
       "      <td>74.342289</td>\n",
       "      <td>11873</td>\n",
       "      <td>43.421053</td>\n",
       "      <td>74.268892</td>\n",
       "      <td>5928</td>\n",
       "      <td>74.415475</td>\n",
       "      <td>74.415475</td>\n",
       "      <td>5945</td>\n",
       "      <td>58.940453</td>\n",
       "      <td>0.000000</td>\n",
       "      <td>74.342289</td>\n",
       "      <td>0.000000</td>\n",
       "    </tr>\n",
       "  </tbody>\n",
       "</table><p>"
      ],
      "text/plain": [
       "<IPython.core.display.HTML object>"
      ]
     },
     "metadata": {},
     "output_type": "display_data"
    },
    {
     "data": {
      "application/vnd.jupyter.widget-view+json": {
       "model_id": "0c5283449772415bb0c56f1aa7cd5d35",
       "version_major": 2,
       "version_minor": 0
      },
      "text/plain": [
       "  0%|          | 0/11873 [00:00<?, ?it/s]"
      ]
     },
     "metadata": {},
     "output_type": "display_data"
    },
    {
     "name": "stdout",
     "output_type": "stream",
     "text": [
      "Stopping training: eval_f1 below threshold of 75\n"
     ]
    },
    {
     "data": {
      "text/html": [
       "\n",
       "    <div>\n",
       "      \n",
       "      <progress value='748' max='748' style='width:300px; height:20px; vertical-align: middle;'></progress>\n",
       "      [748/748 00:51]\n",
       "    </div>\n",
       "    "
      ],
      "text/plain": [
       "<IPython.core.display.HTML object>"
      ]
     },
     "metadata": {},
     "output_type": "display_data"
    },
    {
     "data": {
      "application/vnd.jupyter.widget-view+json": {
       "model_id": "4af9c40e1606447b849c71eabec538dc",
       "version_major": 2,
       "version_minor": 0
      },
      "text/plain": [
       "  0%|          | 0/11873 [00:00<?, ?it/s]"
      ]
     },
     "metadata": {},
     "output_type": "display_data"
    },
    {
     "name": "stdout",
     "output_type": "stream",
     "text": [
      "Stopping training: eval_f1 below threshold of 75\n",
      "Stopping training: No improvement in eval_f1 for 1 epochs\n"
     ]
    },
    {
     "name": "stderr",
     "output_type": "stream",
     "text": [
      "[I 2024-05-31 03:14:47,625] Trial 5 finished with value: 74.34228873918025 and parameters: {'no_answer_threshold': 0.38071136207517375, 'learning_rate': 3.9528697104763066e-05, 'warmup_ratio': 0, 'weight_decay': 0.010521752420149633, 'adam_beta1': 0.8747897193068918, 'adam_beta2': 0.9945588128487896, 'adam_epsilon': 1.4234418809201903e-07, 'lr_scheduler_type': 'cosine_with_restarts'}. Best is trial 5 with value: 74.34228873918025.\n"
     ]
    },
    {
     "name": "stdout",
     "output_type": "stream",
     "text": [
      "Current Trial 6 parameters: {'no_answer_threshold': 0.7322838941578962, 'learning_rate': 3.638734764032685e-07, 'warmup_ratio': 1, 'weight_decay': 0.07437447482363455, 'adam_beta1': 0.9172165792786101, 'adam_beta2': 0.9939454257108779, 'adam_epsilon': 2.4122157214331413e-07, 'lr_scheduler_type': 'linear'}\n"
     ]
    },
    {
     "name": "stderr",
     "output_type": "stream",
     "text": [
      "Some weights of RobertaForQuestionAnswering were not initialized from the model checkpoint at FacebookAI/roberta-base and are newly initialized: ['qa_outputs.bias', 'qa_outputs.weight']\n",
      "You should probably TRAIN this model on a down-stream task to be able to use it for predictions and inference.\n"
     ]
    },
    {
     "data": {
      "text/html": [
       "\n",
       "    <div>\n",
       "      \n",
       "      <progress value='3753' max='11259' style='width:300px; height:20px; vertical-align: middle;'></progress>\n",
       "      [ 3753/11259 36:21 < 1:12:45, 1.72 it/s, Epoch 1/3]\n",
       "    </div>\n",
       "    <table border=\"1\" class=\"dataframe\">\n",
       "  <thead>\n",
       " <tr style=\"text-align: left;\">\n",
       "      <th>Epoch</th>\n",
       "      <th>Training Loss</th>\n",
       "      <th>Validation Loss</th>\n",
       "      <th>Exact</th>\n",
       "      <th>F1</th>\n",
       "      <th>Total</th>\n",
       "      <th>Hasans Exact</th>\n",
       "      <th>Hasans F1</th>\n",
       "      <th>Hasans Total</th>\n",
       "      <th>Noans Exact</th>\n",
       "      <th>Noans F1</th>\n",
       "      <th>Noans Total</th>\n",
       "      <th>Best Exact</th>\n",
       "      <th>Best Exact Thresh</th>\n",
       "      <th>Best F1</th>\n",
       "      <th>Best F1 Thresh</th>\n",
       "    </tr>\n",
       "  </thead>\n",
       "  <tbody>\n",
       "    <tr>\n",
       "      <td>1</td>\n",
       "      <td>5.008200</td>\n",
       "      <td>No log</td>\n",
       "      <td>33.032932</td>\n",
       "      <td>34.304410</td>\n",
       "      <td>11873</td>\n",
       "      <td>0.438596</td>\n",
       "      <td>2.985199</td>\n",
       "      <td>5928</td>\n",
       "      <td>65.534062</td>\n",
       "      <td>65.534062</td>\n",
       "      <td>5945</td>\n",
       "      <td>50.071591</td>\n",
       "      <td>0.000000</td>\n",
       "      <td>50.079211</td>\n",
       "      <td>0.000000</td>\n",
       "    </tr>\n",
       "  </tbody>\n",
       "</table><p>"
      ],
      "text/plain": [
       "<IPython.core.display.HTML object>"
      ]
     },
     "metadata": {},
     "output_type": "display_data"
    },
    {
     "data": {
      "application/vnd.jupyter.widget-view+json": {
       "model_id": "bbdbcea7d1e4408694630439aaa24b3f",
       "version_major": 2,
       "version_minor": 0
      },
      "text/plain": [
       "  0%|          | 0/11873 [00:00<?, ?it/s]"
      ]
     },
     "metadata": {},
     "output_type": "display_data"
    },
    {
     "name": "stdout",
     "output_type": "stream",
     "text": [
      "Stopping training: eval_f1 below threshold of 75\n"
     ]
    },
    {
     "data": {
      "text/html": [
       "\n",
       "    <div>\n",
       "      \n",
       "      <progress value='748' max='748' style='width:300px; height:20px; vertical-align: middle;'></progress>\n",
       "      [748/748 00:50]\n",
       "    </div>\n",
       "    "
      ],
      "text/plain": [
       "<IPython.core.display.HTML object>"
      ]
     },
     "metadata": {},
     "output_type": "display_data"
    },
    {
     "data": {
      "application/vnd.jupyter.widget-view+json": {
       "model_id": "1e6c9e9a1842495b949be56ceef20da3",
       "version_major": 2,
       "version_minor": 0
      },
      "text/plain": [
       "  0%|          | 0/11873 [00:00<?, ?it/s]"
      ]
     },
     "metadata": {},
     "output_type": "display_data"
    },
    {
     "name": "stdout",
     "output_type": "stream",
     "text": [
      "Stopping training: eval_f1 below threshold of 75\n",
      "Stopping training: No improvement in eval_f1 for 1 epochs\n"
     ]
    },
    {
     "name": "stderr",
     "output_type": "stream",
     "text": [
      "[I 2024-05-31 03:52:41,048] Trial 6 finished with value: 34.30441015210012 and parameters: {'no_answer_threshold': 0.7322838941578962, 'learning_rate': 3.638734764032685e-07, 'warmup_ratio': 1, 'weight_decay': 0.07437447482363455, 'adam_beta1': 0.9172165792786101, 'adam_beta2': 0.9939454257108779, 'adam_epsilon': 2.4122157214331413e-07, 'lr_scheduler_type': 'linear'}. Best is trial 5 with value: 74.34228873918025.\n"
     ]
    },
    {
     "name": "stdout",
     "output_type": "stream",
     "text": [
      "Current Trial 7 parameters: {'no_answer_threshold': 0.6962099694878072, 'learning_rate': 2.497111807790351e-05, 'warmup_ratio': 1, 'weight_decay': 0.07828342503598046, 'adam_beta1': 0.9175758878553874, 'adam_beta2': 0.9973580004067231, 'adam_epsilon': 9.173587928107398e-08, 'lr_scheduler_type': 'linear'}\n"
     ]
    },
    {
     "name": "stderr",
     "output_type": "stream",
     "text": [
      "Some weights of RobertaForQuestionAnswering were not initialized from the model checkpoint at FacebookAI/roberta-base and are newly initialized: ['qa_outputs.bias', 'qa_outputs.weight']\n",
      "You should probably TRAIN this model on a down-stream task to be able to use it for predictions and inference.\n"
     ]
    },
    {
     "data": {
      "text/html": [
       "\n",
       "    <div>\n",
       "      \n",
       "      <progress value='3753' max='11259' style='width:300px; height:20px; vertical-align: middle;'></progress>\n",
       "      [ 3753/11259 25:07 < 50:17, 2.49 it/s, Epoch 1/3]\n",
       "    </div>\n",
       "    <table border=\"1\" class=\"dataframe\">\n",
       "  <thead>\n",
       " <tr style=\"text-align: left;\">\n",
       "      <th>Epoch</th>\n",
       "      <th>Training Loss</th>\n",
       "      <th>Validation Loss</th>\n",
       "      <th>Exact</th>\n",
       "      <th>F1</th>\n",
       "      <th>Total</th>\n",
       "      <th>Hasans Exact</th>\n",
       "      <th>Hasans F1</th>\n",
       "      <th>Hasans Total</th>\n",
       "      <th>Noans Exact</th>\n",
       "      <th>Noans F1</th>\n",
       "      <th>Noans Total</th>\n",
       "      <th>Best Exact</th>\n",
       "      <th>Best Exact Thresh</th>\n",
       "      <th>Best F1</th>\n",
       "      <th>Best F1 Thresh</th>\n",
       "    </tr>\n",
       "  </thead>\n",
       "  <tbody>\n",
       "    <tr>\n",
       "      <td>1</td>\n",
       "      <td>1.386500</td>\n",
       "      <td>No log</td>\n",
       "      <td>48.909290</td>\n",
       "      <td>64.890864</td>\n",
       "      <td>11873</td>\n",
       "      <td>38.782051</td>\n",
       "      <td>70.791031</td>\n",
       "      <td>5928</td>\n",
       "      <td>59.007569</td>\n",
       "      <td>59.007569</td>\n",
       "      <td>5945</td>\n",
       "      <td>50.088436</td>\n",
       "      <td>0.000000</td>\n",
       "      <td>64.899287</td>\n",
       "      <td>0.000000</td>\n",
       "    </tr>\n",
       "  </tbody>\n",
       "</table><p>"
      ],
      "text/plain": [
       "<IPython.core.display.HTML object>"
      ]
     },
     "metadata": {},
     "output_type": "display_data"
    },
    {
     "data": {
      "application/vnd.jupyter.widget-view+json": {
       "model_id": "01e6a5be584e4c61a48e29c4b2ef8ebe",
       "version_major": 2,
       "version_minor": 0
      },
      "text/plain": [
       "  0%|          | 0/11873 [00:00<?, ?it/s]"
      ]
     },
     "metadata": {},
     "output_type": "display_data"
    },
    {
     "name": "stdout",
     "output_type": "stream",
     "text": [
      "Stopping training: eval_f1 below threshold of 75\n"
     ]
    },
    {
     "data": {
      "text/html": [
       "\n",
       "    <div>\n",
       "      \n",
       "      <progress value='748' max='748' style='width:300px; height:20px; vertical-align: middle;'></progress>\n",
       "      [748/748 00:50]\n",
       "    </div>\n",
       "    "
      ],
      "text/plain": [
       "<IPython.core.display.HTML object>"
      ]
     },
     "metadata": {},
     "output_type": "display_data"
    },
    {
     "data": {
      "application/vnd.jupyter.widget-view+json": {
       "model_id": "3e532d2dffce46c39835bee3b4858720",
       "version_major": 2,
       "version_minor": 0
      },
      "text/plain": [
       "  0%|          | 0/11873 [00:00<?, ?it/s]"
      ]
     },
     "metadata": {},
     "output_type": "display_data"
    },
    {
     "name": "stdout",
     "output_type": "stream",
     "text": [
      "Stopping training: eval_f1 below threshold of 75\n",
      "Stopping training: No improvement in eval_f1 for 1 epochs\n"
     ]
    },
    {
     "name": "stderr",
     "output_type": "stream",
     "text": [
      "[I 2024-05-31 04:19:22,220] Trial 7 finished with value: 64.89086430468248 and parameters: {'no_answer_threshold': 0.6962099694878072, 'learning_rate': 2.497111807790351e-05, 'warmup_ratio': 1, 'weight_decay': 0.07828342503598046, 'adam_beta1': 0.9175758878553874, 'adam_beta2': 0.9973580004067231, 'adam_epsilon': 9.173587928107398e-08, 'lr_scheduler_type': 'linear'}. Best is trial 5 with value: 74.34228873918025.\n"
     ]
    },
    {
     "name": "stdout",
     "output_type": "stream",
     "text": [
      "Current Trial 8 parameters: {'no_answer_threshold': 0.6536145263753446, 'learning_rate': 9.773680516066473e-06, 'warmup_ratio': 1, 'weight_decay': 0.15562154350176374, 'adam_beta1': 0.8960819792838772, 'adam_beta2': 0.9926167287268501, 'adam_epsilon': 4.942893047579448e-07, 'lr_scheduler_type': 'linear'}\n"
     ]
    },
    {
     "name": "stderr",
     "output_type": "stream",
     "text": [
      "Some weights of RobertaForQuestionAnswering were not initialized from the model checkpoint at FacebookAI/roberta-base and are newly initialized: ['qa_outputs.bias', 'qa_outputs.weight']\n",
      "You should probably TRAIN this model on a down-stream task to be able to use it for predictions and inference.\n"
     ]
    },
    {
     "data": {
      "text/html": [
       "\n",
       "    <div>\n",
       "      \n",
       "      <progress value='3753' max='11259' style='width:300px; height:20px; vertical-align: middle;'></progress>\n",
       "      [ 3753/11259 33:32 < 1:07:07, 1.86 it/s, Epoch 1/3]\n",
       "    </div>\n",
       "    <table border=\"1\" class=\"dataframe\">\n",
       "  <thead>\n",
       " <tr style=\"text-align: left;\">\n",
       "      <th>Epoch</th>\n",
       "      <th>Training Loss</th>\n",
       "      <th>Validation Loss</th>\n",
       "      <th>Exact</th>\n",
       "      <th>F1</th>\n",
       "      <th>Total</th>\n",
       "      <th>Hasans Exact</th>\n",
       "      <th>Hasans F1</th>\n",
       "      <th>Hasans Total</th>\n",
       "      <th>Noans Exact</th>\n",
       "      <th>Noans F1</th>\n",
       "      <th>Noans Total</th>\n",
       "      <th>Best Exact</th>\n",
       "      <th>Best Exact Thresh</th>\n",
       "      <th>Best F1</th>\n",
       "      <th>Best F1 Thresh</th>\n",
       "    </tr>\n",
       "  </thead>\n",
       "  <tbody>\n",
       "    <tr>\n",
       "      <td>1</td>\n",
       "      <td>1.720800</td>\n",
       "      <td>No log</td>\n",
       "      <td>35.795502</td>\n",
       "      <td>51.442383</td>\n",
       "      <td>11873</td>\n",
       "      <td>32.422402</td>\n",
       "      <td>63.761034</td>\n",
       "      <td>5928</td>\n",
       "      <td>39.158957</td>\n",
       "      <td>39.158957</td>\n",
       "      <td>5945</td>\n",
       "      <td>50.088436</td>\n",
       "      <td>0.000000</td>\n",
       "      <td>51.723567</td>\n",
       "      <td>0.000000</td>\n",
       "    </tr>\n",
       "  </tbody>\n",
       "</table><p>"
      ],
      "text/plain": [
       "<IPython.core.display.HTML object>"
      ]
     },
     "metadata": {},
     "output_type": "display_data"
    },
    {
     "data": {
      "application/vnd.jupyter.widget-view+json": {
       "model_id": "144ed8a510a84443a27bb2446c924745",
       "version_major": 2,
       "version_minor": 0
      },
      "text/plain": [
       "  0%|          | 0/11873 [00:00<?, ?it/s]"
      ]
     },
     "metadata": {},
     "output_type": "display_data"
    },
    {
     "name": "stdout",
     "output_type": "stream",
     "text": [
      "Stopping training: eval_f1 below threshold of 75\n"
     ]
    },
    {
     "data": {
      "text/html": [
       "\n",
       "    <div>\n",
       "      \n",
       "      <progress value='748' max='748' style='width:300px; height:20px; vertical-align: middle;'></progress>\n",
       "      [748/748 00:50]\n",
       "    </div>\n",
       "    "
      ],
      "text/plain": [
       "<IPython.core.display.HTML object>"
      ]
     },
     "metadata": {},
     "output_type": "display_data"
    },
    {
     "data": {
      "application/vnd.jupyter.widget-view+json": {
       "model_id": "44a9c8f50bd240b4bbcfa47a827000cd",
       "version_major": 2,
       "version_minor": 0
      },
      "text/plain": [
       "  0%|          | 0/11873 [00:00<?, ?it/s]"
      ]
     },
     "metadata": {},
     "output_type": "display_data"
    },
    {
     "name": "stdout",
     "output_type": "stream",
     "text": [
      "Stopping training: eval_f1 below threshold of 75\n",
      "Stopping training: No improvement in eval_f1 for 1 epochs\n"
     ]
    },
    {
     "name": "stderr",
     "output_type": "stream",
     "text": [
      "[I 2024-05-31 04:54:26,142] Trial 8 finished with value: 51.44238282008268 and parameters: {'no_answer_threshold': 0.6536145263753446, 'learning_rate': 9.773680516066473e-06, 'warmup_ratio': 1, 'weight_decay': 0.15562154350176374, 'adam_beta1': 0.8960819792838772, 'adam_beta2': 0.9926167287268501, 'adam_epsilon': 4.942893047579448e-07, 'lr_scheduler_type': 'linear'}. Best is trial 5 with value: 74.34228873918025.\n"
     ]
    },
    {
     "name": "stdout",
     "output_type": "stream",
     "text": [
      "Current Trial 9 parameters: {'no_answer_threshold': 0.05047683301756423, 'learning_rate': 3.907492832643018e-05, 'warmup_ratio': 0, 'weight_decay': 0.06149619664571218, 'adam_beta1': 0.8137428552464335, 'adam_beta2': 0.9983375288384232, 'adam_epsilon': 9.658990336197428e-07, 'lr_scheduler_type': 'cosine_with_restarts'}\n"
     ]
    },
    {
     "name": "stderr",
     "output_type": "stream",
     "text": [
      "Some weights of RobertaForQuestionAnswering were not initialized from the model checkpoint at FacebookAI/roberta-base and are newly initialized: ['qa_outputs.bias', 'qa_outputs.weight']\n",
      "You should probably TRAIN this model on a down-stream task to be able to use it for predictions and inference.\n"
     ]
    },
    {
     "data": {
      "text/html": [
       "\n",
       "    <div>\n",
       "      \n",
       "      <progress value='3753' max='11259' style='width:300px; height:20px; vertical-align: middle;'></progress>\n",
       "      [ 3753/11259 36:12 < 1:12:26, 1.73 it/s, Epoch 1/3]\n",
       "    </div>\n",
       "    <table border=\"1\" class=\"dataframe\">\n",
       "  <thead>\n",
       " <tr style=\"text-align: left;\">\n",
       "      <th>Epoch</th>\n",
       "      <th>Training Loss</th>\n",
       "      <th>Validation Loss</th>\n",
       "      <th>Exact</th>\n",
       "      <th>F1</th>\n",
       "      <th>Total</th>\n",
       "      <th>Hasans Exact</th>\n",
       "      <th>Hasans F1</th>\n",
       "      <th>Hasans Total</th>\n",
       "      <th>Noans Exact</th>\n",
       "      <th>Noans F1</th>\n",
       "      <th>Noans Total</th>\n",
       "      <th>Best Exact</th>\n",
       "      <th>Best Exact Thresh</th>\n",
       "      <th>Best F1</th>\n",
       "      <th>Best F1 Thresh</th>\n",
       "    </tr>\n",
       "  </thead>\n",
       "  <tbody>\n",
       "    <tr>\n",
       "      <td>1</td>\n",
       "      <td>1.075700</td>\n",
       "      <td>No log</td>\n",
       "      <td>58.889918</td>\n",
       "      <td>74.325950</td>\n",
       "      <td>11873</td>\n",
       "      <td>40.603914</td>\n",
       "      <td>71.520244</td>\n",
       "      <td>5928</td>\n",
       "      <td>77.123633</td>\n",
       "      <td>77.123633</td>\n",
       "      <td>5945</td>\n",
       "      <td>58.889918</td>\n",
       "      <td>0.000000</td>\n",
       "      <td>74.325950</td>\n",
       "      <td>0.000000</td>\n",
       "    </tr>\n",
       "  </tbody>\n",
       "</table><p>"
      ],
      "text/plain": [
       "<IPython.core.display.HTML object>"
      ]
     },
     "metadata": {},
     "output_type": "display_data"
    },
    {
     "data": {
      "application/vnd.jupyter.widget-view+json": {
       "model_id": "2a0e53a3b92146e9b552f67f3ff28ac3",
       "version_major": 2,
       "version_minor": 0
      },
      "text/plain": [
       "  0%|          | 0/11873 [00:00<?, ?it/s]"
      ]
     },
     "metadata": {},
     "output_type": "display_data"
    },
    {
     "name": "stdout",
     "output_type": "stream",
     "text": [
      "Stopping training: eval_f1 below threshold of 75\n"
     ]
    },
    {
     "data": {
      "text/html": [
       "\n",
       "    <div>\n",
       "      \n",
       "      <progress value='748' max='748' style='width:300px; height:20px; vertical-align: middle;'></progress>\n",
       "      [748/748 00:50]\n",
       "    </div>\n",
       "    "
      ],
      "text/plain": [
       "<IPython.core.display.HTML object>"
      ]
     },
     "metadata": {},
     "output_type": "display_data"
    },
    {
     "data": {
      "application/vnd.jupyter.widget-view+json": {
       "model_id": "a2c911a59fe544cab0b6276a22bc7b7b",
       "version_major": 2,
       "version_minor": 0
      },
      "text/plain": [
       "  0%|          | 0/11873 [00:00<?, ?it/s]"
      ]
     },
     "metadata": {},
     "output_type": "display_data"
    },
    {
     "name": "stdout",
     "output_type": "stream",
     "text": [
      "Stopping training: eval_f1 below threshold of 75\n",
      "Stopping training: No improvement in eval_f1 for 1 epochs\n"
     ]
    },
    {
     "name": "stderr",
     "output_type": "stream",
     "text": [
      "[I 2024-05-31 05:32:14,260] Trial 9 finished with value: 74.32595041606777 and parameters: {'no_answer_threshold': 0.05047683301756423, 'learning_rate': 3.907492832643018e-05, 'warmup_ratio': 0, 'weight_decay': 0.06149619664571218, 'adam_beta1': 0.8137428552464335, 'adam_beta2': 0.9983375288384232, 'adam_epsilon': 9.658990336197428e-07, 'lr_scheduler_type': 'cosine_with_restarts'}. Best is trial 5 with value: 74.34228873918025.\n"
     ]
    },
    {
     "name": "stdout",
     "output_type": "stream",
     "text": [
      "Current Trial 10 parameters: {'no_answer_threshold': 0.961093478892587, 'learning_rate': 2.5077118998662545e-06, 'warmup_ratio': 0, 'weight_decay': 0.006322867035036624, 'adam_beta1': 0.825643133803334, 'adam_beta2': 0.9900821017289291, 'adam_epsilon': 2.4463768948265783e-07, 'lr_scheduler_type': 'cosine_with_restarts'}\n"
     ]
    },
    {
     "name": "stderr",
     "output_type": "stream",
     "text": [
      "Some weights of RobertaForQuestionAnswering were not initialized from the model checkpoint at FacebookAI/roberta-base and are newly initialized: ['qa_outputs.bias', 'qa_outputs.weight']\n",
      "You should probably TRAIN this model on a down-stream task to be able to use it for predictions and inference.\n"
     ]
    },
    {
     "data": {
      "text/html": [
       "\n",
       "    <div>\n",
       "      \n",
       "      <progress value='3753' max='11259' style='width:300px; height:20px; vertical-align: middle;'></progress>\n",
       "      [ 3753/11259 23:15 < 46:32, 2.69 it/s, Epoch 1/3]\n",
       "    </div>\n",
       "    <table border=\"1\" class=\"dataframe\">\n",
       "  <thead>\n",
       " <tr style=\"text-align: left;\">\n",
       "      <th>Epoch</th>\n",
       "      <th>Training Loss</th>\n",
       "      <th>Validation Loss</th>\n",
       "      <th>Exact</th>\n",
       "      <th>F1</th>\n",
       "      <th>Total</th>\n",
       "      <th>Hasans Exact</th>\n",
       "      <th>Hasans F1</th>\n",
       "      <th>Hasans Total</th>\n",
       "      <th>Noans Exact</th>\n",
       "      <th>Noans F1</th>\n",
       "      <th>Noans Total</th>\n",
       "      <th>Best Exact</th>\n",
       "      <th>Best Exact Thresh</th>\n",
       "      <th>Best F1</th>\n",
       "      <th>Best F1 Thresh</th>\n",
       "    </tr>\n",
       "  </thead>\n",
       "  <tbody>\n",
       "    <tr>\n",
       "      <td>1</td>\n",
       "      <td>1.505900</td>\n",
       "      <td>No log</td>\n",
       "      <td>40.815295</td>\n",
       "      <td>57.107198</td>\n",
       "      <td>11873</td>\n",
       "      <td>35.425101</td>\n",
       "      <td>68.055629</td>\n",
       "      <td>5928</td>\n",
       "      <td>46.190076</td>\n",
       "      <td>46.190076</td>\n",
       "      <td>5945</td>\n",
       "      <td>50.088436</td>\n",
       "      <td>0.000000</td>\n",
       "      <td>57.132466</td>\n",
       "      <td>0.000000</td>\n",
       "    </tr>\n",
       "  </tbody>\n",
       "</table><p>"
      ],
      "text/plain": [
       "<IPython.core.display.HTML object>"
      ]
     },
     "metadata": {},
     "output_type": "display_data"
    },
    {
     "data": {
      "application/vnd.jupyter.widget-view+json": {
       "model_id": "9f9c93f14b45446dad81ab9ad27ce395",
       "version_major": 2,
       "version_minor": 0
      },
      "text/plain": [
       "  0%|          | 0/11873 [00:00<?, ?it/s]"
      ]
     },
     "metadata": {},
     "output_type": "display_data"
    },
    {
     "name": "stdout",
     "output_type": "stream",
     "text": [
      "Stopping training: eval_f1 below threshold of 75\n"
     ]
    },
    {
     "data": {
      "text/html": [
       "\n",
       "    <div>\n",
       "      \n",
       "      <progress value='748' max='748' style='width:300px; height:20px; vertical-align: middle;'></progress>\n",
       "      [748/748 00:50]\n",
       "    </div>\n",
       "    "
      ],
      "text/plain": [
       "<IPython.core.display.HTML object>"
      ]
     },
     "metadata": {},
     "output_type": "display_data"
    },
    {
     "data": {
      "application/vnd.jupyter.widget-view+json": {
       "model_id": "033d09d96a954d119e53d9213efcd8c4",
       "version_major": 2,
       "version_minor": 0
      },
      "text/plain": [
       "  0%|          | 0/11873 [00:00<?, ?it/s]"
      ]
     },
     "metadata": {},
     "output_type": "display_data"
    },
    {
     "name": "stdout",
     "output_type": "stream",
     "text": [
      "Stopping training: eval_f1 below threshold of 75\n",
      "Stopping training: No improvement in eval_f1 for 1 epochs\n"
     ]
    },
    {
     "name": "stderr",
     "output_type": "stream",
     "text": [
      "[I 2024-05-31 05:57:01,496] Trial 10 finished with value: 57.107198488749454 and parameters: {'no_answer_threshold': 0.961093478892587, 'learning_rate': 2.5077118998662545e-06, 'warmup_ratio': 0, 'weight_decay': 0.006322867035036624, 'adam_beta1': 0.825643133803334, 'adam_beta2': 0.9900821017289291, 'adam_epsilon': 2.4463768948265783e-07, 'lr_scheduler_type': 'cosine_with_restarts'}. Best is trial 5 with value: 74.34228873918025.\n"
     ]
    },
    {
     "name": "stdout",
     "output_type": "stream",
     "text": [
      "Current Trial 11 parameters: {'no_answer_threshold': 0.02889025697096306, 'learning_rate': 2.1932010420330285e-05, 'warmup_ratio': 0, 'weight_decay': 0.007873328004520265, 'adam_beta1': 0.8005808315798295, 'adam_beta2': 0.9989500255906361, 'adam_epsilon': 9.408072279198825e-07, 'lr_scheduler_type': 'cosine_with_restarts'}\n"
     ]
    },
    {
     "name": "stderr",
     "output_type": "stream",
     "text": [
      "Some weights of RobertaForQuestionAnswering were not initialized from the model checkpoint at FacebookAI/roberta-base and are newly initialized: ['qa_outputs.bias', 'qa_outputs.weight']\n",
      "You should probably TRAIN this model on a down-stream task to be able to use it for predictions and inference.\n"
     ]
    },
    {
     "data": {
      "text/html": [
       "\n",
       "    <div>\n",
       "      \n",
       "      <progress value='3753' max='11259' style='width:300px; height:20px; vertical-align: middle;'></progress>\n",
       "      [ 3753/11259 32:06 < 1:04:15, 1.95 it/s, Epoch 1/3]\n",
       "    </div>\n",
       "    <table border=\"1\" class=\"dataframe\">\n",
       "  <thead>\n",
       " <tr style=\"text-align: left;\">\n",
       "      <th>Epoch</th>\n",
       "      <th>Training Loss</th>\n",
       "      <th>Validation Loss</th>\n",
       "      <th>Exact</th>\n",
       "      <th>F1</th>\n",
       "      <th>Total</th>\n",
       "      <th>Hasans Exact</th>\n",
       "      <th>Hasans F1</th>\n",
       "      <th>Hasans Total</th>\n",
       "      <th>Noans Exact</th>\n",
       "      <th>Noans F1</th>\n",
       "      <th>Noans Total</th>\n",
       "      <th>Best Exact</th>\n",
       "      <th>Best Exact Thresh</th>\n",
       "      <th>Best F1</th>\n",
       "      <th>Best F1 Thresh</th>\n",
       "    </tr>\n",
       "  </thead>\n",
       "  <tbody>\n",
       "    <tr>\n",
       "      <td>1</td>\n",
       "      <td>1.038300</td>\n",
       "      <td>No log</td>\n",
       "      <td>59.807968</td>\n",
       "      <td>74.766374</td>\n",
       "      <td>11873</td>\n",
       "      <td>41.784750</td>\n",
       "      <td>71.744460</td>\n",
       "      <td>5928</td>\n",
       "      <td>77.779647</td>\n",
       "      <td>77.779647</td>\n",
       "      <td>5945</td>\n",
       "      <td>59.807968</td>\n",
       "      <td>0.000000</td>\n",
       "      <td>74.766374</td>\n",
       "      <td>0.000000</td>\n",
       "    </tr>\n",
       "  </tbody>\n",
       "</table><p>"
      ],
      "text/plain": [
       "<IPython.core.display.HTML object>"
      ]
     },
     "metadata": {},
     "output_type": "display_data"
    },
    {
     "data": {
      "application/vnd.jupyter.widget-view+json": {
       "model_id": "75cc5f65a18d444eace8cda49944e0dc",
       "version_major": 2,
       "version_minor": 0
      },
      "text/plain": [
       "  0%|          | 0/11873 [00:00<?, ?it/s]"
      ]
     },
     "metadata": {},
     "output_type": "display_data"
    },
    {
     "name": "stdout",
     "output_type": "stream",
     "text": [
      "Stopping training: eval_f1 below threshold of 75\n"
     ]
    },
    {
     "data": {
      "text/html": [
       "\n",
       "    <div>\n",
       "      \n",
       "      <progress value='748' max='748' style='width:300px; height:20px; vertical-align: middle;'></progress>\n",
       "      [748/748 00:50]\n",
       "    </div>\n",
       "    "
      ],
      "text/plain": [
       "<IPython.core.display.HTML object>"
      ]
     },
     "metadata": {},
     "output_type": "display_data"
    },
    {
     "data": {
      "application/vnd.jupyter.widget-view+json": {
       "model_id": "d6783ca2d8b74195af2796a8d790e5ce",
       "version_major": 2,
       "version_minor": 0
      },
      "text/plain": [
       "  0%|          | 0/11873 [00:00<?, ?it/s]"
      ]
     },
     "metadata": {},
     "output_type": "display_data"
    },
    {
     "name": "stdout",
     "output_type": "stream",
     "text": [
      "Stopping training: eval_f1 below threshold of 75\n",
      "Stopping training: No improvement in eval_f1 for 1 epochs\n"
     ]
    },
    {
     "name": "stderr",
     "output_type": "stream",
     "text": [
      "[I 2024-05-31 06:30:38,168] Trial 11 finished with value: 74.76637427549916 and parameters: {'no_answer_threshold': 0.02889025697096306, 'learning_rate': 2.1932010420330285e-05, 'warmup_ratio': 0, 'weight_decay': 0.007873328004520265, 'adam_beta1': 0.8005808315798295, 'adam_beta2': 0.9989500255906361, 'adam_epsilon': 9.408072279198825e-07, 'lr_scheduler_type': 'cosine_with_restarts'}. Best is trial 11 with value: 74.76637427549916.\n"
     ]
    },
    {
     "name": "stdout",
     "output_type": "stream",
     "text": [
      "Current Trial 12 parameters: {'no_answer_threshold': 0.2776497181861652, 'learning_rate': 1.7931304855728257e-06, 'warmup_ratio': 0, 'weight_decay': 0.006056493064707313, 'adam_beta1': 0.888349156981359, 'adam_beta2': 0.9988016503594634, 'adam_epsilon': 9.752286591057367e-07, 'lr_scheduler_type': 'cosine_with_restarts'}\n"
     ]
    },
    {
     "name": "stderr",
     "output_type": "stream",
     "text": [
      "Some weights of RobertaForQuestionAnswering were not initialized from the model checkpoint at FacebookAI/roberta-base and are newly initialized: ['qa_outputs.bias', 'qa_outputs.weight']\n",
      "You should probably TRAIN this model on a down-stream task to be able to use it for predictions and inference.\n"
     ]
    },
    {
     "data": {
      "text/html": [
       "\n",
       "    <div>\n",
       "      \n",
       "      <progress value='3753' max='11259' style='width:300px; height:20px; vertical-align: middle;'></progress>\n",
       "      [ 3753/11259 32:31 < 1:05:04, 1.92 it/s, Epoch 1/3]\n",
       "    </div>\n",
       "    <table border=\"1\" class=\"dataframe\">\n",
       "  <thead>\n",
       " <tr style=\"text-align: left;\">\n",
       "      <th>Epoch</th>\n",
       "      <th>Training Loss</th>\n",
       "      <th>Validation Loss</th>\n",
       "      <th>Exact</th>\n",
       "      <th>F1</th>\n",
       "      <th>Total</th>\n",
       "      <th>Hasans Exact</th>\n",
       "      <th>Hasans F1</th>\n",
       "      <th>Hasans Total</th>\n",
       "      <th>Noans Exact</th>\n",
       "      <th>Noans F1</th>\n",
       "      <th>Noans Total</th>\n",
       "      <th>Best Exact</th>\n",
       "      <th>Best Exact Thresh</th>\n",
       "      <th>Best F1</th>\n",
       "      <th>Best F1 Thresh</th>\n",
       "    </tr>\n",
       "  </thead>\n",
       "  <tbody>\n",
       "    <tr>\n",
       "      <td>1</td>\n",
       "      <td>1.626000</td>\n",
       "      <td>No log</td>\n",
       "      <td>36.696707</td>\n",
       "      <td>52.561115</td>\n",
       "      <td>11873</td>\n",
       "      <td>32.574224</td>\n",
       "      <td>64.348535</td>\n",
       "      <td>5928</td>\n",
       "      <td>40.807401</td>\n",
       "      <td>40.807401</td>\n",
       "      <td>5945</td>\n",
       "      <td>50.088436</td>\n",
       "      <td>0.000000</td>\n",
       "      <td>52.736102</td>\n",
       "      <td>0.000000</td>\n",
       "    </tr>\n",
       "  </tbody>\n",
       "</table><p>"
      ],
      "text/plain": [
       "<IPython.core.display.HTML object>"
      ]
     },
     "metadata": {},
     "output_type": "display_data"
    },
    {
     "data": {
      "application/vnd.jupyter.widget-view+json": {
       "model_id": "1b508b56632249cdb37b6d84ce111431",
       "version_major": 2,
       "version_minor": 0
      },
      "text/plain": [
       "  0%|          | 0/11873 [00:00<?, ?it/s]"
      ]
     },
     "metadata": {},
     "output_type": "display_data"
    },
    {
     "name": "stdout",
     "output_type": "stream",
     "text": [
      "Stopping training: eval_f1 below threshold of 75\n"
     ]
    },
    {
     "data": {
      "text/html": [
       "\n",
       "    <div>\n",
       "      \n",
       "      <progress value='748' max='748' style='width:300px; height:20px; vertical-align: middle;'></progress>\n",
       "      [748/748 00:50]\n",
       "    </div>\n",
       "    "
      ],
      "text/plain": [
       "<IPython.core.display.HTML object>"
      ]
     },
     "metadata": {},
     "output_type": "display_data"
    },
    {
     "data": {
      "application/vnd.jupyter.widget-view+json": {
       "model_id": "0b5bb33dbaf047f694201e52bcb833f3",
       "version_major": 2,
       "version_minor": 0
      },
      "text/plain": [
       "  0%|          | 0/11873 [00:00<?, ?it/s]"
      ]
     },
     "metadata": {},
     "output_type": "display_data"
    },
    {
     "name": "stdout",
     "output_type": "stream",
     "text": [
      "Stopping training: eval_f1 below threshold of 75\n",
      "Stopping training: No improvement in eval_f1 for 1 epochs\n"
     ]
    },
    {
     "name": "stderr",
     "output_type": "stream",
     "text": [
      "[I 2024-05-31 07:04:35,478] Trial 12 finished with value: 52.561114819231 and parameters: {'no_answer_threshold': 0.2776497181861652, 'learning_rate': 1.7931304855728257e-06, 'warmup_ratio': 0, 'weight_decay': 0.006056493064707313, 'adam_beta1': 0.888349156981359, 'adam_beta2': 0.9988016503594634, 'adam_epsilon': 9.752286591057367e-07, 'lr_scheduler_type': 'cosine_with_restarts'}. Best is trial 11 with value: 74.76637427549916.\n"
     ]
    },
    {
     "name": "stdout",
     "output_type": "stream",
     "text": [
      "Current Trial 13 parameters: {'no_answer_threshold': 0.260877150212837, 'learning_rate': 1.302670444588138e-05, 'warmup_ratio': 0, 'weight_decay': 0.23509507071044883, 'adam_beta1': 0.8027598357133672, 'adam_beta2': 0.9962052315967211, 'adam_epsilon': 7.519915627505343e-07, 'lr_scheduler_type': 'cosine_with_restarts'}\n"
     ]
    },
    {
     "name": "stderr",
     "output_type": "stream",
     "text": [
      "Some weights of RobertaForQuestionAnswering were not initialized from the model checkpoint at FacebookAI/roberta-base and are newly initialized: ['qa_outputs.bias', 'qa_outputs.weight']\n",
      "You should probably TRAIN this model on a down-stream task to be able to use it for predictions and inference.\n"
     ]
    },
    {
     "data": {
      "text/html": [
       "\n",
       "    <div>\n",
       "      \n",
       "      <progress value='3753' max='11259' style='width:300px; height:20px; vertical-align: middle;'></progress>\n",
       "      [ 3753/11259 27:50 < 55:42, 2.25 it/s, Epoch 1/3]\n",
       "    </div>\n",
       "    <table border=\"1\" class=\"dataframe\">\n",
       "  <thead>\n",
       " <tr style=\"text-align: left;\">\n",
       "      <th>Epoch</th>\n",
       "      <th>Training Loss</th>\n",
       "      <th>Validation Loss</th>\n",
       "      <th>Exact</th>\n",
       "      <th>F1</th>\n",
       "      <th>Total</th>\n",
       "      <th>Hasans Exact</th>\n",
       "      <th>Hasans F1</th>\n",
       "      <th>Hasans Total</th>\n",
       "      <th>Noans Exact</th>\n",
       "      <th>Noans F1</th>\n",
       "      <th>Noans Total</th>\n",
       "      <th>Best Exact</th>\n",
       "      <th>Best Exact Thresh</th>\n",
       "      <th>Best F1</th>\n",
       "      <th>Best F1 Thresh</th>\n",
       "    </tr>\n",
       "  </thead>\n",
       "  <tbody>\n",
       "    <tr>\n",
       "      <td>1</td>\n",
       "      <td>1.132200</td>\n",
       "      <td>No log</td>\n",
       "      <td>53.937505</td>\n",
       "      <td>70.748311</td>\n",
       "      <td>11873</td>\n",
       "      <td>40.890688</td>\n",
       "      <td>74.560509</td>\n",
       "      <td>5928</td>\n",
       "      <td>66.947014</td>\n",
       "      <td>66.947014</td>\n",
       "      <td>5945</td>\n",
       "      <td>53.937505</td>\n",
       "      <td>0.000000</td>\n",
       "      <td>70.748311</td>\n",
       "      <td>0.000000</td>\n",
       "    </tr>\n",
       "  </tbody>\n",
       "</table><p>"
      ],
      "text/plain": [
       "<IPython.core.display.HTML object>"
      ]
     },
     "metadata": {},
     "output_type": "display_data"
    },
    {
     "data": {
      "application/vnd.jupyter.widget-view+json": {
       "model_id": "0b27e14e345e4d3cac2337cb8293ec79",
       "version_major": 2,
       "version_minor": 0
      },
      "text/plain": [
       "  0%|          | 0/11873 [00:00<?, ?it/s]"
      ]
     },
     "metadata": {},
     "output_type": "display_data"
    },
    {
     "name": "stdout",
     "output_type": "stream",
     "text": [
      "Stopping training: eval_f1 below threshold of 75\n"
     ]
    },
    {
     "data": {
      "text/html": [
       "\n",
       "    <div>\n",
       "      \n",
       "      <progress value='748' max='748' style='width:300px; height:20px; vertical-align: middle;'></progress>\n",
       "      [748/748 00:53]\n",
       "    </div>\n",
       "    "
      ],
      "text/plain": [
       "<IPython.core.display.HTML object>"
      ]
     },
     "metadata": {},
     "output_type": "display_data"
    },
    {
     "data": {
      "application/vnd.jupyter.widget-view+json": {
       "model_id": "be0719fb7304427dbbde85f367d080cd",
       "version_major": 2,
       "version_minor": 0
      },
      "text/plain": [
       "  0%|          | 0/11873 [00:00<?, ?it/s]"
      ]
     },
     "metadata": {},
     "output_type": "display_data"
    },
    {
     "name": "stdout",
     "output_type": "stream",
     "text": [
      "Stopping training: eval_f1 below threshold of 75\n",
      "Stopping training: No improvement in eval_f1 for 1 epochs\n"
     ]
    },
    {
     "name": "stderr",
     "output_type": "stream",
     "text": [
      "[I 2024-05-31 07:33:57,076] Trial 13 finished with value: 70.7483109384571 and parameters: {'no_answer_threshold': 0.260877150212837, 'learning_rate': 1.302670444588138e-05, 'warmup_ratio': 0, 'weight_decay': 0.23509507071044883, 'adam_beta1': 0.8027598357133672, 'adam_beta2': 0.9962052315967211, 'adam_epsilon': 7.519915627505343e-07, 'lr_scheduler_type': 'cosine_with_restarts'}. Best is trial 11 with value: 74.76637427549916.\n"
     ]
    },
    {
     "name": "stdout",
     "output_type": "stream",
     "text": [
      "Current Trial 14 parameters: {'no_answer_threshold': 0.19202613184778528, 'learning_rate': 6.726529288020318e-05, 'warmup_ratio': 0, 'weight_decay': 0.1153804510722297, 'adam_beta1': 0.8408079922549465, 'adam_beta2': 0.9918352290126685, 'adam_epsilon': 8.008158107345258e-07, 'lr_scheduler_type': 'cosine_with_restarts'}\n"
     ]
    },
    {
     "name": "stderr",
     "output_type": "stream",
     "text": [
      "Some weights of RobertaForQuestionAnswering were not initialized from the model checkpoint at FacebookAI/roberta-base and are newly initialized: ['qa_outputs.bias', 'qa_outputs.weight']\n",
      "You should probably TRAIN this model on a down-stream task to be able to use it for predictions and inference.\n"
     ]
    },
    {
     "data": {
      "text/html": [
       "\n",
       "    <div>\n",
       "      \n",
       "      <progress value='3753' max='11259' style='width:300px; height:20px; vertical-align: middle;'></progress>\n",
       "      [ 3753/11259 23:57 < 47:55, 2.61 it/s, Epoch 1/3]\n",
       "    </div>\n",
       "    <table border=\"1\" class=\"dataframe\">\n",
       "  <thead>\n",
       " <tr style=\"text-align: left;\">\n",
       "      <th>Epoch</th>\n",
       "      <th>Training Loss</th>\n",
       "      <th>Validation Loss</th>\n",
       "      <th>Exact</th>\n",
       "      <th>F1</th>\n",
       "      <th>Total</th>\n",
       "      <th>Hasans Exact</th>\n",
       "      <th>Hasans F1</th>\n",
       "      <th>Hasans Total</th>\n",
       "      <th>Noans Exact</th>\n",
       "      <th>Noans F1</th>\n",
       "      <th>Noans Total</th>\n",
       "      <th>Best Exact</th>\n",
       "      <th>Best Exact Thresh</th>\n",
       "      <th>Best F1</th>\n",
       "      <th>Best F1 Thresh</th>\n",
       "    </tr>\n",
       "  </thead>\n",
       "  <tbody>\n",
       "    <tr>\n",
       "      <td>1</td>\n",
       "      <td>1.134600</td>\n",
       "      <td>No log</td>\n",
       "      <td>56.481092</td>\n",
       "      <td>72.040997</td>\n",
       "      <td>11873</td>\n",
       "      <td>42.560729</td>\n",
       "      <td>73.725162</td>\n",
       "      <td>5928</td>\n",
       "      <td>70.361648</td>\n",
       "      <td>70.361648</td>\n",
       "      <td>5945</td>\n",
       "      <td>56.472669</td>\n",
       "      <td>0.000000</td>\n",
       "      <td>72.032575</td>\n",
       "      <td>0.000000</td>\n",
       "    </tr>\n",
       "  </tbody>\n",
       "</table><p>"
      ],
      "text/plain": [
       "<IPython.core.display.HTML object>"
      ]
     },
     "metadata": {},
     "output_type": "display_data"
    },
    {
     "data": {
      "application/vnd.jupyter.widget-view+json": {
       "model_id": "b7cf29695ab54d8291141a3eff7857d8",
       "version_major": 2,
       "version_minor": 0
      },
      "text/plain": [
       "  0%|          | 0/11873 [00:00<?, ?it/s]"
      ]
     },
     "metadata": {},
     "output_type": "display_data"
    },
    {
     "name": "stdout",
     "output_type": "stream",
     "text": [
      "Stopping training: eval_f1 below threshold of 75\n"
     ]
    },
    {
     "data": {
      "text/html": [
       "\n",
       "    <div>\n",
       "      \n",
       "      <progress value='748' max='748' style='width:300px; height:20px; vertical-align: middle;'></progress>\n",
       "      [748/748 00:50]\n",
       "    </div>\n",
       "    "
      ],
      "text/plain": [
       "<IPython.core.display.HTML object>"
      ]
     },
     "metadata": {},
     "output_type": "display_data"
    },
    {
     "data": {
      "application/vnd.jupyter.widget-view+json": {
       "model_id": "7a26505df73e43689fa0fc1b760794b3",
       "version_major": 2,
       "version_minor": 0
      },
      "text/plain": [
       "  0%|          | 0/11873 [00:00<?, ?it/s]"
      ]
     },
     "metadata": {},
     "output_type": "display_data"
    },
    {
     "name": "stdout",
     "output_type": "stream",
     "text": [
      "Stopping training: eval_f1 below threshold of 75\n",
      "Stopping training: No improvement in eval_f1 for 1 epochs\n"
     ]
    },
    {
     "name": "stderr",
     "output_type": "stream",
     "text": [
      "[I 2024-05-31 07:59:23,768] Trial 14 finished with value: 72.04099726940419 and parameters: {'no_answer_threshold': 0.19202613184778528, 'learning_rate': 6.726529288020318e-05, 'warmup_ratio': 0, 'weight_decay': 0.1153804510722297, 'adam_beta1': 0.8408079922549465, 'adam_beta2': 0.9918352290126685, 'adam_epsilon': 8.008158107345258e-07, 'lr_scheduler_type': 'cosine_with_restarts'}. Best is trial 11 with value: 74.76637427549916.\n"
     ]
    }
   ],
   "source": [
    "# Create a study object and optimize the objective\n",
    "study = optuna.create_study(direction='maximize')\n",
    "study.optimize(objective, n_trials=15)"
   ]
  },
  {
   "cell_type": "code",
   "execution_count": 60,
   "id": "0112c81f-9646-42d5-ab56-8ac039eb8559",
   "metadata": {
    "tags": []
   },
   "outputs": [
    {
     "name": "stdout",
     "output_type": "stream",
     "text": [
      "Current Trial 15 parameters: {'no_answer_threshold': 0.4088604665366379, 'learning_rate': 1.7919353679520017e-05, 'warmup_ratio': 0, 'weight_decay': 0.02263510829303961, 'adam_beta1': 0.8857262944005789, 'adam_beta2': 0.9939730599299187, 'adam_epsilon': 3.3401342130278313e-07, 'lr_scheduler_type': 'cosine_with_restarts'}\n"
     ]
    },
    {
     "name": "stderr",
     "output_type": "stream",
     "text": [
      "Some weights of RobertaForQuestionAnswering were not initialized from the model checkpoint at FacebookAI/roberta-base and are newly initialized: ['qa_outputs.bias', 'qa_outputs.weight']\n",
      "You should probably TRAIN this model on a down-stream task to be able to use it for predictions and inference.\n"
     ]
    },
    {
     "data": {
      "text/html": [
       "\n",
       "    <div>\n",
       "      \n",
       "      <progress value='3753' max='11259' style='width:300px; height:20px; vertical-align: middle;'></progress>\n",
       "      [ 3753/11259 39:03 < 1:18:09, 1.60 it/s, Epoch 1/3]\n",
       "    </div>\n",
       "    <table border=\"1\" class=\"dataframe\">\n",
       "  <thead>\n",
       " <tr style=\"text-align: left;\">\n",
       "      <th>Epoch</th>\n",
       "      <th>Training Loss</th>\n",
       "      <th>Validation Loss</th>\n",
       "      <th>Exact</th>\n",
       "      <th>F1</th>\n",
       "      <th>Total</th>\n",
       "      <th>Hasans Exact</th>\n",
       "      <th>Hasans F1</th>\n",
       "      <th>Hasans Total</th>\n",
       "      <th>Noans Exact</th>\n",
       "      <th>Noans F1</th>\n",
       "      <th>Noans Total</th>\n",
       "      <th>Best Exact</th>\n",
       "      <th>Best Exact Thresh</th>\n",
       "      <th>Best F1</th>\n",
       "      <th>Best F1 Thresh</th>\n",
       "    </tr>\n",
       "  </thead>\n",
       "  <tbody>\n",
       "    <tr>\n",
       "      <td>1</td>\n",
       "      <td>1.083300</td>\n",
       "      <td>No log</td>\n",
       "      <td>57.803420</td>\n",
       "      <td>73.630823</td>\n",
       "      <td>11873</td>\n",
       "      <td>41.683536</td>\n",
       "      <td>73.383731</td>\n",
       "      <td>5928</td>\n",
       "      <td>73.877208</td>\n",
       "      <td>73.877208</td>\n",
       "      <td>5945</td>\n",
       "      <td>57.803420</td>\n",
       "      <td>0.000000</td>\n",
       "      <td>73.630823</td>\n",
       "      <td>0.000000</td>\n",
       "    </tr>\n",
       "  </tbody>\n",
       "</table><p>"
      ],
      "text/plain": [
       "<IPython.core.display.HTML object>"
      ]
     },
     "metadata": {},
     "output_type": "display_data"
    },
    {
     "data": {
      "application/vnd.jupyter.widget-view+json": {
       "model_id": "ecf8b2a410aa4fa4a79f06c80e3bdd2b",
       "version_major": 2,
       "version_minor": 0
      },
      "text/plain": [
       "  0%|          | 0/11873 [00:00<?, ?it/s]"
      ]
     },
     "metadata": {},
     "output_type": "display_data"
    },
    {
     "name": "stdout",
     "output_type": "stream",
     "text": [
      "Stopping training: eval_f1 below threshold of 75\n"
     ]
    },
    {
     "data": {
      "text/html": [
       "\n",
       "    <div>\n",
       "      \n",
       "      <progress value='748' max='748' style='width:300px; height:20px; vertical-align: middle;'></progress>\n",
       "      [748/748 00:49]\n",
       "    </div>\n",
       "    "
      ],
      "text/plain": [
       "<IPython.core.display.HTML object>"
      ]
     },
     "metadata": {},
     "output_type": "display_data"
    },
    {
     "data": {
      "application/vnd.jupyter.widget-view+json": {
       "model_id": "3d55ec600fed4558ba2096fe412c0626",
       "version_major": 2,
       "version_minor": 0
      },
      "text/plain": [
       "  0%|          | 0/11873 [00:00<?, ?it/s]"
      ]
     },
     "metadata": {},
     "output_type": "display_data"
    },
    {
     "name": "stdout",
     "output_type": "stream",
     "text": [
      "Stopping training: eval_f1 below threshold of 75\n",
      "Stopping training: No improvement in eval_f1 for 1 epochs\n"
     ]
    },
    {
     "name": "stderr",
     "output_type": "stream",
     "text": [
      "[I 2024-05-31 13:10:19,755] Trial 15 finished with value: 73.63082274948289 and parameters: {'no_answer_threshold': 0.4088604665366379, 'learning_rate': 1.7919353679520017e-05, 'warmup_ratio': 0, 'weight_decay': 0.02263510829303961, 'adam_beta1': 0.8857262944005789, 'adam_beta2': 0.9939730599299187, 'adam_epsilon': 3.3401342130278313e-07, 'lr_scheduler_type': 'cosine_with_restarts'}. Best is trial 11 with value: 74.76637427549916.\n"
     ]
    },
    {
     "name": "stdout",
     "output_type": "stream",
     "text": [
      "Current Trial 16 parameters: {'no_answer_threshold': 0.1592838740266431, 'learning_rate': 1.3551435406402545e-06, 'warmup_ratio': 0, 'weight_decay': 0.11189728016940112, 'adam_beta1': 0.8397047896716169, 'adam_beta2': 0.9975920075370774, 'adam_epsilon': 1.532741539536046e-07, 'lr_scheduler_type': 'cosine_with_restarts'}\n"
     ]
    },
    {
     "name": "stderr",
     "output_type": "stream",
     "text": [
      "Some weights of RobertaForQuestionAnswering were not initialized from the model checkpoint at FacebookAI/roberta-base and are newly initialized: ['qa_outputs.bias', 'qa_outputs.weight']\n",
      "You should probably TRAIN this model on a down-stream task to be able to use it for predictions and inference.\n"
     ]
    },
    {
     "data": {
      "text/html": [
       "\n",
       "    <div>\n",
       "      \n",
       "      <progress value='3753' max='11259' style='width:300px; height:20px; vertical-align: middle;'></progress>\n",
       "      [ 3753/11259 34:56 < 1:09:55, 1.79 it/s, Epoch 1/3]\n",
       "    </div>\n",
       "    <table border=\"1\" class=\"dataframe\">\n",
       "  <thead>\n",
       " <tr style=\"text-align: left;\">\n",
       "      <th>Epoch</th>\n",
       "      <th>Training Loss</th>\n",
       "      <th>Validation Loss</th>\n",
       "      <th>Exact</th>\n",
       "      <th>F1</th>\n",
       "      <th>Total</th>\n",
       "      <th>Hasans Exact</th>\n",
       "      <th>Hasans F1</th>\n",
       "      <th>Hasans Total</th>\n",
       "      <th>Noans Exact</th>\n",
       "      <th>Noans F1</th>\n",
       "      <th>Noans Total</th>\n",
       "      <th>Best Exact</th>\n",
       "      <th>Best Exact Thresh</th>\n",
       "      <th>Best F1</th>\n",
       "      <th>Best F1 Thresh</th>\n",
       "    </tr>\n",
       "  </thead>\n",
       "  <tbody>\n",
       "    <tr>\n",
       "      <td>1</td>\n",
       "      <td>1.737900</td>\n",
       "      <td>No log</td>\n",
       "      <td>33.942559</td>\n",
       "      <td>49.088375</td>\n",
       "      <td>11873</td>\n",
       "      <td>30.347503</td>\n",
       "      <td>60.682571</td>\n",
       "      <td>5928</td>\n",
       "      <td>37.527334</td>\n",
       "      <td>37.527334</td>\n",
       "      <td>5945</td>\n",
       "      <td>50.088436</td>\n",
       "      <td>0.000000</td>\n",
       "      <td>50.913655</td>\n",
       "      <td>0.000000</td>\n",
       "    </tr>\n",
       "  </tbody>\n",
       "</table><p>"
      ],
      "text/plain": [
       "<IPython.core.display.HTML object>"
      ]
     },
     "metadata": {},
     "output_type": "display_data"
    },
    {
     "data": {
      "application/vnd.jupyter.widget-view+json": {
       "model_id": "1fd81173d2c14531bbfaf21add9ac5bd",
       "version_major": 2,
       "version_minor": 0
      },
      "text/plain": [
       "  0%|          | 0/11873 [00:00<?, ?it/s]"
      ]
     },
     "metadata": {},
     "output_type": "display_data"
    },
    {
     "name": "stdout",
     "output_type": "stream",
     "text": [
      "Stopping training: eval_f1 below threshold of 75\n"
     ]
    },
    {
     "data": {
      "text/html": [
       "\n",
       "    <div>\n",
       "      \n",
       "      <progress value='748' max='748' style='width:300px; height:20px; vertical-align: middle;'></progress>\n",
       "      [748/748 00:49]\n",
       "    </div>\n",
       "    "
      ],
      "text/plain": [
       "<IPython.core.display.HTML object>"
      ]
     },
     "metadata": {},
     "output_type": "display_data"
    },
    {
     "data": {
      "application/vnd.jupyter.widget-view+json": {
       "model_id": "29f0c8c3931749e18cbaf858799e665c",
       "version_major": 2,
       "version_minor": 0
      },
      "text/plain": [
       "  0%|          | 0/11873 [00:00<?, ?it/s]"
      ]
     },
     "metadata": {},
     "output_type": "display_data"
    },
    {
     "name": "stdout",
     "output_type": "stream",
     "text": [
      "Stopping training: eval_f1 below threshold of 75\n",
      "Stopping training: No improvement in eval_f1 for 1 epochs\n"
     ]
    },
    {
     "name": "stderr",
     "output_type": "stream",
     "text": [
      "[I 2024-05-31 13:46:44,825] Trial 16 finished with value: 49.088375314209955 and parameters: {'no_answer_threshold': 0.1592838740266431, 'learning_rate': 1.3551435406402545e-06, 'warmup_ratio': 0, 'weight_decay': 0.11189728016940112, 'adam_beta1': 0.8397047896716169, 'adam_beta2': 0.9975920075370774, 'adam_epsilon': 1.532741539536046e-07, 'lr_scheduler_type': 'cosine_with_restarts'}. Best is trial 11 with value: 74.76637427549916.\n"
     ]
    },
    {
     "name": "stdout",
     "output_type": "stream",
     "text": [
      "Current Trial 17 parameters: {'no_answer_threshold': 0.8777082481646825, 'learning_rate': 6.7362660317400174e-06, 'warmup_ratio': 0, 'weight_decay': 0.04288671512079691, 'adam_beta1': 0.9431341895909194, 'adam_beta2': 0.9962254816988313, 'adam_epsilon': 6.209840138775537e-07, 'lr_scheduler_type': 'cosine_with_restarts'}\n"
     ]
    },
    {
     "name": "stderr",
     "output_type": "stream",
     "text": [
      "Some weights of RobertaForQuestionAnswering were not initialized from the model checkpoint at FacebookAI/roberta-base and are newly initialized: ['qa_outputs.bias', 'qa_outputs.weight']\n",
      "You should probably TRAIN this model on a down-stream task to be able to use it for predictions and inference.\n"
     ]
    },
    {
     "data": {
      "text/html": [
       "\n",
       "    <div>\n",
       "      \n",
       "      <progress value='3753' max='11259' style='width:300px; height:20px; vertical-align: middle;'></progress>\n",
       "      [ 3753/11259 20:31 < 41:04, 3.05 it/s, Epoch 1/3]\n",
       "    </div>\n",
       "    <table border=\"1\" class=\"dataframe\">\n",
       "  <thead>\n",
       " <tr style=\"text-align: left;\">\n",
       "      <th>Epoch</th>\n",
       "      <th>Training Loss</th>\n",
       "      <th>Validation Loss</th>\n",
       "      <th>Exact</th>\n",
       "      <th>F1</th>\n",
       "      <th>Total</th>\n",
       "      <th>Hasans Exact</th>\n",
       "      <th>Hasans F1</th>\n",
       "      <th>Hasans Total</th>\n",
       "      <th>Noans Exact</th>\n",
       "      <th>Noans F1</th>\n",
       "      <th>Noans Total</th>\n",
       "      <th>Best Exact</th>\n",
       "      <th>Best Exact Thresh</th>\n",
       "      <th>Best F1</th>\n",
       "      <th>Best F1 Thresh</th>\n",
       "    </tr>\n",
       "  </thead>\n",
       "  <tbody>\n",
       "    <tr>\n",
       "      <td>1</td>\n",
       "      <td>1.236900</td>\n",
       "      <td>No log</td>\n",
       "      <td>51.225470</td>\n",
       "      <td>67.665725</td>\n",
       "      <td>11873</td>\n",
       "      <td>39.524291</td>\n",
       "      <td>72.451949</td>\n",
       "      <td>5928</td>\n",
       "      <td>62.893188</td>\n",
       "      <td>62.893188</td>\n",
       "      <td>5945</td>\n",
       "      <td>51.402341</td>\n",
       "      <td>0.000000</td>\n",
       "      <td>67.665725</td>\n",
       "      <td>0.000000</td>\n",
       "    </tr>\n",
       "  </tbody>\n",
       "</table><p>"
      ],
      "text/plain": [
       "<IPython.core.display.HTML object>"
      ]
     },
     "metadata": {},
     "output_type": "display_data"
    },
    {
     "data": {
      "application/vnd.jupyter.widget-view+json": {
       "model_id": "f97ea8fd12dd45c8935aae4f578f9010",
       "version_major": 2,
       "version_minor": 0
      },
      "text/plain": [
       "  0%|          | 0/11873 [00:00<?, ?it/s]"
      ]
     },
     "metadata": {},
     "output_type": "display_data"
    },
    {
     "name": "stdout",
     "output_type": "stream",
     "text": [
      "Stopping training: eval_f1 below threshold of 75\n"
     ]
    },
    {
     "data": {
      "text/html": [
       "\n",
       "    <div>\n",
       "      \n",
       "      <progress value='748' max='748' style='width:300px; height:20px; vertical-align: middle;'></progress>\n",
       "      [748/748 00:51]\n",
       "    </div>\n",
       "    "
      ],
      "text/plain": [
       "<IPython.core.display.HTML object>"
      ]
     },
     "metadata": {},
     "output_type": "display_data"
    },
    {
     "data": {
      "application/vnd.jupyter.widget-view+json": {
       "model_id": "705881c1fb354031b8d95b72b785e9b4",
       "version_major": 2,
       "version_minor": 0
      },
      "text/plain": [
       "  0%|          | 0/11873 [00:00<?, ?it/s]"
      ]
     },
     "metadata": {},
     "output_type": "display_data"
    },
    {
     "name": "stdout",
     "output_type": "stream",
     "text": [
      "Stopping training: eval_f1 below threshold of 75\n",
      "Stopping training: No improvement in eval_f1 for 1 epochs\n"
     ]
    },
    {
     "name": "stderr",
     "output_type": "stream",
     "text": [
      "[I 2024-05-31 14:08:50,950] Trial 17 finished with value: 67.6657249017264 and parameters: {'no_answer_threshold': 0.8777082481646825, 'learning_rate': 6.7362660317400174e-06, 'warmup_ratio': 0, 'weight_decay': 0.04288671512079691, 'adam_beta1': 0.9431341895909194, 'adam_beta2': 0.9962254816988313, 'adam_epsilon': 6.209840138775537e-07, 'lr_scheduler_type': 'cosine_with_restarts'}. Best is trial 11 with value: 74.76637427549916.\n"
     ]
    },
    {
     "name": "stdout",
     "output_type": "stream",
     "text": [
      "Current Trial 18 parameters: {'no_answer_threshold': 0.4210909868863514, 'learning_rate': 8.250123311500925e-07, 'warmup_ratio': 0, 'weight_decay': 0.03032335742855022, 'adam_beta1': 0.8207340996207335, 'adam_beta2': 0.9915056928565731, 'adam_epsilon': 8.56976127482145e-07, 'lr_scheduler_type': 'cosine_with_restarts'}\n"
     ]
    },
    {
     "name": "stderr",
     "output_type": "stream",
     "text": [
      "Some weights of RobertaForQuestionAnswering were not initialized from the model checkpoint at FacebookAI/roberta-base and are newly initialized: ['qa_outputs.bias', 'qa_outputs.weight']\n",
      "You should probably TRAIN this model on a down-stream task to be able to use it for predictions and inference.\n"
     ]
    },
    {
     "data": {
      "text/html": [
       "\n",
       "    <div>\n",
       "      \n",
       "      <progress value='3753' max='11259' style='width:300px; height:20px; vertical-align: middle;'></progress>\n",
       "      [ 3753/11259 33:49 < 1:07:41, 1.85 it/s, Epoch 1/3]\n",
       "    </div>\n",
       "    <table border=\"1\" class=\"dataframe\">\n",
       "  <thead>\n",
       " <tr style=\"text-align: left;\">\n",
       "      <th>Epoch</th>\n",
       "      <th>Training Loss</th>\n",
       "      <th>Validation Loss</th>\n",
       "      <th>Exact</th>\n",
       "      <th>F1</th>\n",
       "      <th>Total</th>\n",
       "      <th>Hasans Exact</th>\n",
       "      <th>Hasans F1</th>\n",
       "      <th>Hasans Total</th>\n",
       "      <th>Noans Exact</th>\n",
       "      <th>Noans F1</th>\n",
       "      <th>Noans Total</th>\n",
       "      <th>Best Exact</th>\n",
       "      <th>Best Exact Thresh</th>\n",
       "      <th>Best F1</th>\n",
       "      <th>Best F1 Thresh</th>\n",
       "    </tr>\n",
       "  </thead>\n",
       "  <tbody>\n",
       "    <tr>\n",
       "      <td>1</td>\n",
       "      <td>2.016700</td>\n",
       "      <td>No log</td>\n",
       "      <td>29.807125</td>\n",
       "      <td>42.845686</td>\n",
       "      <td>11873</td>\n",
       "      <td>27.395412</td>\n",
       "      <td>53.509925</td>\n",
       "      <td>5928</td>\n",
       "      <td>32.211943</td>\n",
       "      <td>32.211943</td>\n",
       "      <td>5945</td>\n",
       "      <td>50.088436</td>\n",
       "      <td>0.000000</td>\n",
       "      <td>50.088436</td>\n",
       "      <td>0.000000</td>\n",
       "    </tr>\n",
       "  </tbody>\n",
       "</table><p>"
      ],
      "text/plain": [
       "<IPython.core.display.HTML object>"
      ]
     },
     "metadata": {},
     "output_type": "display_data"
    },
    {
     "data": {
      "application/vnd.jupyter.widget-view+json": {
       "model_id": "90c8be7626cb4d97a6962880332d527d",
       "version_major": 2,
       "version_minor": 0
      },
      "text/plain": [
       "  0%|          | 0/11873 [00:00<?, ?it/s]"
      ]
     },
     "metadata": {},
     "output_type": "display_data"
    },
    {
     "name": "stdout",
     "output_type": "stream",
     "text": [
      "Stopping training: eval_f1 below threshold of 75\n"
     ]
    },
    {
     "data": {
      "text/html": [
       "\n",
       "    <div>\n",
       "      \n",
       "      <progress value='748' max='748' style='width:300px; height:20px; vertical-align: middle;'></progress>\n",
       "      [748/748 00:50]\n",
       "    </div>\n",
       "    "
      ],
      "text/plain": [
       "<IPython.core.display.HTML object>"
      ]
     },
     "metadata": {},
     "output_type": "display_data"
    },
    {
     "data": {
      "application/vnd.jupyter.widget-view+json": {
       "model_id": "c632127c397d4ab9920533f4558f5474",
       "version_major": 2,
       "version_minor": 0
      },
      "text/plain": [
       "  0%|          | 0/11873 [00:00<?, ?it/s]"
      ]
     },
     "metadata": {},
     "output_type": "display_data"
    },
    {
     "name": "stdout",
     "output_type": "stream",
     "text": [
      "Stopping training: eval_f1 below threshold of 75\n",
      "Stopping training: No improvement in eval_f1 for 1 epochs\n"
     ]
    },
    {
     "name": "stderr",
     "output_type": "stream",
     "text": [
      "[I 2024-05-31 14:44:13,053] Trial 18 finished with value: 42.84568642479305 and parameters: {'no_answer_threshold': 0.4210909868863514, 'learning_rate': 8.250123311500925e-07, 'warmup_ratio': 0, 'weight_decay': 0.03032335742855022, 'adam_beta1': 0.8207340996207335, 'adam_beta2': 0.9915056928565731, 'adam_epsilon': 8.56976127482145e-07, 'lr_scheduler_type': 'cosine_with_restarts'}. Best is trial 11 with value: 74.76637427549916.\n"
     ]
    },
    {
     "name": "stdout",
     "output_type": "stream",
     "text": [
      "Current Trial 19 parameters: {'no_answer_threshold': 0.014272556119162404, 'learning_rate': 4.594694463293726e-06, 'warmup_ratio': 0, 'weight_decay': 0.09825720809015176, 'adam_beta1': 0.9017057358176097, 'adam_beta2': 0.994796995372801, 'adam_epsilon': 4.4922173865234555e-07, 'lr_scheduler_type': 'cosine'}\n"
     ]
    },
    {
     "name": "stderr",
     "output_type": "stream",
     "text": [
      "Some weights of RobertaForQuestionAnswering were not initialized from the model checkpoint at FacebookAI/roberta-base and are newly initialized: ['qa_outputs.bias', 'qa_outputs.weight']\n",
      "You should probably TRAIN this model on a down-stream task to be able to use it for predictions and inference.\n"
     ]
    },
    {
     "data": {
      "text/html": [
       "\n",
       "    <div>\n",
       "      \n",
       "      <progress value='3753' max='11259' style='width:300px; height:20px; vertical-align: middle;'></progress>\n",
       "      [ 3753/11259 38:13 < 1:16:29, 1.64 it/s, Epoch 1/3]\n",
       "    </div>\n",
       "    <table border=\"1\" class=\"dataframe\">\n",
       "  <thead>\n",
       " <tr style=\"text-align: left;\">\n",
       "      <th>Epoch</th>\n",
       "      <th>Training Loss</th>\n",
       "      <th>Validation Loss</th>\n",
       "      <th>Exact</th>\n",
       "      <th>F1</th>\n",
       "      <th>Total</th>\n",
       "      <th>Hasans Exact</th>\n",
       "      <th>Hasans F1</th>\n",
       "      <th>Hasans Total</th>\n",
       "      <th>Noans Exact</th>\n",
       "      <th>Noans F1</th>\n",
       "      <th>Noans Total</th>\n",
       "      <th>Best Exact</th>\n",
       "      <th>Best Exact Thresh</th>\n",
       "      <th>Best F1</th>\n",
       "      <th>Best F1 Thresh</th>\n",
       "    </tr>\n",
       "  </thead>\n",
       "  <tbody>\n",
       "    <tr>\n",
       "      <td>1</td>\n",
       "      <td>1.327200</td>\n",
       "      <td>No log</td>\n",
       "      <td>51.031753</td>\n",
       "      <td>66.870375</td>\n",
       "      <td>11873</td>\n",
       "      <td>37.314440</td>\n",
       "      <td>69.037106</td>\n",
       "      <td>5928</td>\n",
       "      <td>64.709840</td>\n",
       "      <td>64.709840</td>\n",
       "      <td>5945</td>\n",
       "      <td>51.250737</td>\n",
       "      <td>0.000000</td>\n",
       "      <td>66.870375</td>\n",
       "      <td>0.000000</td>\n",
       "    </tr>\n",
       "  </tbody>\n",
       "</table><p>"
      ],
      "text/plain": [
       "<IPython.core.display.HTML object>"
      ]
     },
     "metadata": {},
     "output_type": "display_data"
    },
    {
     "data": {
      "application/vnd.jupyter.widget-view+json": {
       "model_id": "27520a52fcd04f3d9e0f018e93155b1a",
       "version_major": 2,
       "version_minor": 0
      },
      "text/plain": [
       "  0%|          | 0/11873 [00:00<?, ?it/s]"
      ]
     },
     "metadata": {},
     "output_type": "display_data"
    },
    {
     "name": "stdout",
     "output_type": "stream",
     "text": [
      "Stopping training: eval_f1 below threshold of 75\n"
     ]
    },
    {
     "data": {
      "text/html": [
       "\n",
       "    <div>\n",
       "      \n",
       "      <progress value='748' max='748' style='width:300px; height:20px; vertical-align: middle;'></progress>\n",
       "      [748/748 00:49]\n",
       "    </div>\n",
       "    "
      ],
      "text/plain": [
       "<IPython.core.display.HTML object>"
      ]
     },
     "metadata": {},
     "output_type": "display_data"
    },
    {
     "data": {
      "application/vnd.jupyter.widget-view+json": {
       "model_id": "9d3079b955224fe094fa245b1237389c",
       "version_major": 2,
       "version_minor": 0
      },
      "text/plain": [
       "  0%|          | 0/11873 [00:00<?, ?it/s]"
      ]
     },
     "metadata": {},
     "output_type": "display_data"
    },
    {
     "name": "stdout",
     "output_type": "stream",
     "text": [
      "Stopping training: eval_f1 below threshold of 75\n",
      "Stopping training: No improvement in eval_f1 for 1 epochs\n"
     ]
    },
    {
     "name": "stderr",
     "output_type": "stream",
     "text": [
      "[I 2024-05-31 15:23:56,004] Trial 19 finished with value: 66.87037525474061 and parameters: {'no_answer_threshold': 0.014272556119162404, 'learning_rate': 4.594694463293726e-06, 'warmup_ratio': 0, 'weight_decay': 0.09825720809015176, 'adam_beta1': 0.9017057358176097, 'adam_beta2': 0.994796995372801, 'adam_epsilon': 4.4922173865234555e-07, 'lr_scheduler_type': 'cosine'}. Best is trial 11 with value: 74.76637427549916.\n"
     ]
    }
   ],
   "source": [
    "study.optimize(objective, n_trials=5)"
   ]
  },
  {
   "cell_type": "code",
   "execution_count": 62,
   "id": "b19eed5c-fa7f-4c5e-84c8-67680203bc88",
   "metadata": {
    "tags": []
   },
   "outputs": [
    {
     "name": "stdout",
     "output_type": "stream",
     "text": [
      "Current Trial 20 parameters: {'no_answer_threshold': 0.3291102525100162, 'learning_rate': 2.7852612090447016e-05, 'warmup_ratio': 1, 'weight_decay': 0.005197294914123355, 'adam_beta1': 0.856679803017277, 'adam_beta2': 0.9933620995629278, 'adam_epsilon': 6.402553919783056e-07, 'lr_scheduler_type': 'cosine_with_restarts'}\n"
     ]
    },
    {
     "name": "stderr",
     "output_type": "stream",
     "text": [
      "Some weights of RobertaForQuestionAnswering were not initialized from the model checkpoint at FacebookAI/roberta-base and are newly initialized: ['qa_outputs.bias', 'qa_outputs.weight']\n",
      "You should probably TRAIN this model on a down-stream task to be able to use it for predictions and inference.\n"
     ]
    },
    {
     "data": {
      "text/html": [
       "\n",
       "    <div>\n",
       "      \n",
       "      <progress value='3753' max='11259' style='width:300px; height:20px; vertical-align: middle;'></progress>\n",
       "      [ 3753/11259 31:08 < 1:02:19, 2.01 it/s, Epoch 1/3]\n",
       "    </div>\n",
       "    <table border=\"1\" class=\"dataframe\">\n",
       "  <thead>\n",
       " <tr style=\"text-align: left;\">\n",
       "      <th>Epoch</th>\n",
       "      <th>Training Loss</th>\n",
       "      <th>Validation Loss</th>\n",
       "      <th>Exact</th>\n",
       "      <th>F1</th>\n",
       "      <th>Total</th>\n",
       "      <th>Hasans Exact</th>\n",
       "      <th>Hasans F1</th>\n",
       "      <th>Hasans Total</th>\n",
       "      <th>Noans Exact</th>\n",
       "      <th>Noans F1</th>\n",
       "      <th>Noans Total</th>\n",
       "      <th>Best Exact</th>\n",
       "      <th>Best Exact Thresh</th>\n",
       "      <th>Best F1</th>\n",
       "      <th>Best F1 Thresh</th>\n",
       "    </tr>\n",
       "  </thead>\n",
       "  <tbody>\n",
       "    <tr>\n",
       "      <td>1</td>\n",
       "      <td>1.375300</td>\n",
       "      <td>No log</td>\n",
       "      <td>48.151268</td>\n",
       "      <td>64.229526</td>\n",
       "      <td>11873</td>\n",
       "      <td>39.136302</td>\n",
       "      <td>71.338927</td>\n",
       "      <td>5928</td>\n",
       "      <td>57.140454</td>\n",
       "      <td>57.140454</td>\n",
       "      <td>5945</td>\n",
       "      <td>50.096858</td>\n",
       "      <td>0.000000</td>\n",
       "      <td>64.237948</td>\n",
       "      <td>0.000000</td>\n",
       "    </tr>\n",
       "  </tbody>\n",
       "</table><p>"
      ],
      "text/plain": [
       "<IPython.core.display.HTML object>"
      ]
     },
     "metadata": {},
     "output_type": "display_data"
    },
    {
     "data": {
      "application/vnd.jupyter.widget-view+json": {
       "model_id": "1fbe0fa3360f48429093e8deff3c3183",
       "version_major": 2,
       "version_minor": 0
      },
      "text/plain": [
       "  0%|          | 0/11873 [00:00<?, ?it/s]"
      ]
     },
     "metadata": {},
     "output_type": "display_data"
    },
    {
     "name": "stdout",
     "output_type": "stream",
     "text": [
      "Stopping training: eval_f1 below threshold of 75\n"
     ]
    },
    {
     "data": {
      "text/html": [
       "\n",
       "    <div>\n",
       "      \n",
       "      <progress value='748' max='748' style='width:300px; height:20px; vertical-align: middle;'></progress>\n",
       "      [748/748 00:50]\n",
       "    </div>\n",
       "    "
      ],
      "text/plain": [
       "<IPython.core.display.HTML object>"
      ]
     },
     "metadata": {},
     "output_type": "display_data"
    },
    {
     "data": {
      "application/vnd.jupyter.widget-view+json": {
       "model_id": "6d4cd64747cf492aae6178b2a10dc468",
       "version_major": 2,
       "version_minor": 0
      },
      "text/plain": [
       "  0%|          | 0/11873 [00:00<?, ?it/s]"
      ]
     },
     "metadata": {},
     "output_type": "display_data"
    },
    {
     "name": "stdout",
     "output_type": "stream",
     "text": [
      "Stopping training: eval_f1 below threshold of 75\n",
      "Stopping training: No improvement in eval_f1 for 1 epochs\n"
     ]
    },
    {
     "name": "stderr",
     "output_type": "stream",
     "text": [
      "[I 2024-05-31 16:21:07,719] Trial 20 finished with value: 64.22952585587 and parameters: {'no_answer_threshold': 0.3291102525100162, 'learning_rate': 2.7852612090447016e-05, 'warmup_ratio': 1, 'weight_decay': 0.005197294914123355, 'adam_beta1': 0.856679803017277, 'adam_beta2': 0.9933620995629278, 'adam_epsilon': 6.402553919783056e-07, 'lr_scheduler_type': 'cosine_with_restarts'}. Best is trial 11 with value: 74.76637427549916.\n"
     ]
    },
    {
     "name": "stdout",
     "output_type": "stream",
     "text": [
      "Current Trial 21 parameters: {'no_answer_threshold': 0.1244779562942362, 'learning_rate': 5.2528050081748355e-05, 'warmup_ratio': 0, 'weight_decay': 0.028791768015725548, 'adam_beta1': 0.8026988901160027, 'adam_beta2': 0.9988570421428011, 'adam_epsilon': 9.991086701912547e-07, 'lr_scheduler_type': 'cosine_with_restarts'}\n"
     ]
    },
    {
     "name": "stderr",
     "output_type": "stream",
     "text": [
      "Some weights of RobertaForQuestionAnswering were not initialized from the model checkpoint at FacebookAI/roberta-base and are newly initialized: ['qa_outputs.bias', 'qa_outputs.weight']\n",
      "You should probably TRAIN this model on a down-stream task to be able to use it for predictions and inference.\n"
     ]
    },
    {
     "data": {
      "text/html": [
       "\n",
       "    <div>\n",
       "      \n",
       "      <progress value='3753' max='11259' style='width:300px; height:20px; vertical-align: middle;'></progress>\n",
       "      [ 3753/11259 27:36 < 55:15, 2.26 it/s, Epoch 1/3]\n",
       "    </div>\n",
       "    <table border=\"1\" class=\"dataframe\">\n",
       "  <thead>\n",
       " <tr style=\"text-align: left;\">\n",
       "      <th>Epoch</th>\n",
       "      <th>Training Loss</th>\n",
       "      <th>Validation Loss</th>\n",
       "      <th>Exact</th>\n",
       "      <th>F1</th>\n",
       "      <th>Total</th>\n",
       "      <th>Hasans Exact</th>\n",
       "      <th>Hasans F1</th>\n",
       "      <th>Hasans Total</th>\n",
       "      <th>Noans Exact</th>\n",
       "      <th>Noans F1</th>\n",
       "      <th>Noans Total</th>\n",
       "      <th>Best Exact</th>\n",
       "      <th>Best Exact Thresh</th>\n",
       "      <th>Best F1</th>\n",
       "      <th>Best F1 Thresh</th>\n",
       "    </tr>\n",
       "  </thead>\n",
       "  <tbody>\n",
       "    <tr>\n",
       "      <td>1</td>\n",
       "      <td>1.147200</td>\n",
       "      <td>No log</td>\n",
       "      <td>57.710772</td>\n",
       "      <td>73.286622</td>\n",
       "      <td>11873</td>\n",
       "      <td>37.381916</td>\n",
       "      <td>68.578284</td>\n",
       "      <td>5928</td>\n",
       "      <td>77.981497</td>\n",
       "      <td>77.981497</td>\n",
       "      <td>5945</td>\n",
       "      <td>57.710772</td>\n",
       "      <td>0.000000</td>\n",
       "      <td>73.286622</td>\n",
       "      <td>0.000000</td>\n",
       "    </tr>\n",
       "  </tbody>\n",
       "</table><p>"
      ],
      "text/plain": [
       "<IPython.core.display.HTML object>"
      ]
     },
     "metadata": {},
     "output_type": "display_data"
    },
    {
     "data": {
      "application/vnd.jupyter.widget-view+json": {
       "model_id": "e98e6d5050fe469094b35eb092142dc1",
       "version_major": 2,
       "version_minor": 0
      },
      "text/plain": [
       "  0%|          | 0/11873 [00:00<?, ?it/s]"
      ]
     },
     "metadata": {},
     "output_type": "display_data"
    },
    {
     "name": "stdout",
     "output_type": "stream",
     "text": [
      "Stopping training: eval_f1 below threshold of 75\n"
     ]
    },
    {
     "data": {
      "text/html": [
       "\n",
       "    <div>\n",
       "      \n",
       "      <progress value='748' max='748' style='width:300px; height:20px; vertical-align: middle;'></progress>\n",
       "      [748/748 00:50]\n",
       "    </div>\n",
       "    "
      ],
      "text/plain": [
       "<IPython.core.display.HTML object>"
      ]
     },
     "metadata": {},
     "output_type": "display_data"
    },
    {
     "data": {
      "application/vnd.jupyter.widget-view+json": {
       "model_id": "98988e4604144fafbd31caddc0259d6f",
       "version_major": 2,
       "version_minor": 0
      },
      "text/plain": [
       "  0%|          | 0/11873 [00:00<?, ?it/s]"
      ]
     },
     "metadata": {},
     "output_type": "display_data"
    },
    {
     "name": "stdout",
     "output_type": "stream",
     "text": [
      "Stopping training: eval_f1 below threshold of 75\n",
      "Stopping training: No improvement in eval_f1 for 1 epochs\n"
     ]
    },
    {
     "name": "stderr",
     "output_type": "stream",
     "text": [
      "[I 2024-05-31 16:50:22,918] Trial 21 finished with value: 73.2866222600819 and parameters: {'no_answer_threshold': 0.1244779562942362, 'learning_rate': 5.2528050081748355e-05, 'warmup_ratio': 0, 'weight_decay': 0.028791768015725548, 'adam_beta1': 0.8026988901160027, 'adam_beta2': 0.9988570421428011, 'adam_epsilon': 9.991086701912547e-07, 'lr_scheduler_type': 'cosine_with_restarts'}. Best is trial 11 with value: 74.76637427549916.\n"
     ]
    },
    {
     "name": "stdout",
     "output_type": "stream",
     "text": [
      "Current Trial 22 parameters: {'no_answer_threshold': 0.009391575790814788, 'learning_rate': 2.9606209879392414e-05, 'warmup_ratio': 0, 'weight_decay': 4.3779356331985486e-05, 'adam_beta1': 0.8185230211816519, 'adam_beta2': 0.9977653428037381, 'adam_epsilon': 9.008323298447315e-07, 'lr_scheduler_type': 'cosine_with_restarts'}\n"
     ]
    },
    {
     "name": "stderr",
     "output_type": "stream",
     "text": [
      "Some weights of RobertaForQuestionAnswering were not initialized from the model checkpoint at FacebookAI/roberta-base and are newly initialized: ['qa_outputs.bias', 'qa_outputs.weight']\n",
      "You should probably TRAIN this model on a down-stream task to be able to use it for predictions and inference.\n"
     ]
    },
    {
     "data": {
      "text/html": [
       "\n",
       "    <div>\n",
       "      \n",
       "      <progress value='3753' max='11259' style='width:300px; height:20px; vertical-align: middle;'></progress>\n",
       "      [ 3753/11259 23:36 < 47:14, 2.65 it/s, Epoch 1/3]\n",
       "    </div>\n",
       "    <table border=\"1\" class=\"dataframe\">\n",
       "  <thead>\n",
       " <tr style=\"text-align: left;\">\n",
       "      <th>Epoch</th>\n",
       "      <th>Training Loss</th>\n",
       "      <th>Validation Loss</th>\n",
       "      <th>Exact</th>\n",
       "      <th>F1</th>\n",
       "      <th>Total</th>\n",
       "      <th>Hasans Exact</th>\n",
       "      <th>Hasans F1</th>\n",
       "      <th>Hasans Total</th>\n",
       "      <th>Noans Exact</th>\n",
       "      <th>Noans F1</th>\n",
       "      <th>Noans Total</th>\n",
       "      <th>Best Exact</th>\n",
       "      <th>Best Exact Thresh</th>\n",
       "      <th>Best F1</th>\n",
       "      <th>Best F1 Thresh</th>\n",
       "    </tr>\n",
       "  </thead>\n",
       "  <tbody>\n",
       "    <tr>\n",
       "      <td>1</td>\n",
       "      <td>1.108400</td>\n",
       "      <td>No log</td>\n",
       "      <td>57.112777</td>\n",
       "      <td>73.491931</td>\n",
       "      <td>11873</td>\n",
       "      <td>37.972335</td>\n",
       "      <td>70.777615</td>\n",
       "      <td>5928</td>\n",
       "      <td>76.198486</td>\n",
       "      <td>76.198486</td>\n",
       "      <td>5945</td>\n",
       "      <td>57.112777</td>\n",
       "      <td>0.000000</td>\n",
       "      <td>73.491931</td>\n",
       "      <td>0.000000</td>\n",
       "    </tr>\n",
       "  </tbody>\n",
       "</table><p>"
      ],
      "text/plain": [
       "<IPython.core.display.HTML object>"
      ]
     },
     "metadata": {},
     "output_type": "display_data"
    },
    {
     "data": {
      "application/vnd.jupyter.widget-view+json": {
       "model_id": "0083e255ddc44bdf91b86cc821f32eed",
       "version_major": 2,
       "version_minor": 0
      },
      "text/plain": [
       "  0%|          | 0/11873 [00:00<?, ?it/s]"
      ]
     },
     "metadata": {},
     "output_type": "display_data"
    },
    {
     "name": "stdout",
     "output_type": "stream",
     "text": [
      "Stopping training: eval_f1 below threshold of 75\n"
     ]
    },
    {
     "data": {
      "text/html": [
       "\n",
       "    <div>\n",
       "      \n",
       "      <progress value='748' max='748' style='width:300px; height:20px; vertical-align: middle;'></progress>\n",
       "      [748/748 00:50]\n",
       "    </div>\n",
       "    "
      ],
      "text/plain": [
       "<IPython.core.display.HTML object>"
      ]
     },
     "metadata": {},
     "output_type": "display_data"
    },
    {
     "data": {
      "application/vnd.jupyter.widget-view+json": {
       "model_id": "8c8d6e9afc8340d49ff5b93a8af75072",
       "version_major": 2,
       "version_minor": 0
      },
      "text/plain": [
       "  0%|          | 0/11873 [00:00<?, ?it/s]"
      ]
     },
     "metadata": {},
     "output_type": "display_data"
    },
    {
     "name": "stdout",
     "output_type": "stream",
     "text": [
      "Stopping training: eval_f1 below threshold of 75\n",
      "Stopping training: No improvement in eval_f1 for 1 epochs\n"
     ]
    },
    {
     "name": "stderr",
     "output_type": "stream",
     "text": [
      "[I 2024-05-31 17:15:32,939] Trial 22 finished with value: 73.49193123288241 and parameters: {'no_answer_threshold': 0.009391575790814788, 'learning_rate': 2.9606209879392414e-05, 'warmup_ratio': 0, 'weight_decay': 4.3779356331985486e-05, 'adam_beta1': 0.8185230211816519, 'adam_beta2': 0.9977653428037381, 'adam_epsilon': 9.008323298447315e-07, 'lr_scheduler_type': 'cosine_with_restarts'}. Best is trial 11 with value: 74.76637427549916.\n"
     ]
    },
    {
     "name": "stdout",
     "output_type": "stream",
     "text": [
      "Current Trial 23 parameters: {'no_answer_threshold': 0.1082908539567574, 'learning_rate': 9.910521242085674e-05, 'warmup_ratio': 0, 'weight_decay': 0.04158251749615713, 'adam_beta1': 0.8136308278725004, 'adam_beta2': 0.9982548616680633, 'adam_epsilon': 8.962818183413934e-07, 'lr_scheduler_type': 'cosine_with_restarts'}\n"
     ]
    },
    {
     "name": "stderr",
     "output_type": "stream",
     "text": [
      "Some weights of RobertaForQuestionAnswering were not initialized from the model checkpoint at FacebookAI/roberta-base and are newly initialized: ['qa_outputs.bias', 'qa_outputs.weight']\n",
      "You should probably TRAIN this model on a down-stream task to be able to use it for predictions and inference.\n"
     ]
    },
    {
     "data": {
      "text/html": [
       "\n",
       "    <div>\n",
       "      \n",
       "      <progress value='3753' max='11259' style='width:300px; height:20px; vertical-align: middle;'></progress>\n",
       "      [ 3753/11259 22:48 < 45:38, 2.74 it/s, Epoch 1/3]\n",
       "    </div>\n",
       "    <table border=\"1\" class=\"dataframe\">\n",
       "  <thead>\n",
       " <tr style=\"text-align: left;\">\n",
       "      <th>Epoch</th>\n",
       "      <th>Training Loss</th>\n",
       "      <th>Validation Loss</th>\n",
       "      <th>Exact</th>\n",
       "      <th>F1</th>\n",
       "      <th>Total</th>\n",
       "      <th>Hasans Exact</th>\n",
       "      <th>Hasans F1</th>\n",
       "      <th>Hasans Total</th>\n",
       "      <th>Noans Exact</th>\n",
       "      <th>Noans F1</th>\n",
       "      <th>Noans Total</th>\n",
       "      <th>Best Exact</th>\n",
       "      <th>Best Exact Thresh</th>\n",
       "      <th>Best F1</th>\n",
       "      <th>Best F1 Thresh</th>\n",
       "    </tr>\n",
       "  </thead>\n",
       "  <tbody>\n",
       "    <tr>\n",
       "      <td>1</td>\n",
       "      <td>1.245200</td>\n",
       "      <td>No log</td>\n",
       "      <td>54.577613</td>\n",
       "      <td>69.326394</td>\n",
       "      <td>11873</td>\n",
       "      <td>38.815789</td>\n",
       "      <td>68.355647</td>\n",
       "      <td>5928</td>\n",
       "      <td>70.294365</td>\n",
       "      <td>70.294365</td>\n",
       "      <td>5945</td>\n",
       "      <td>54.586036</td>\n",
       "      <td>0.000000</td>\n",
       "      <td>69.334816</td>\n",
       "      <td>0.000000</td>\n",
       "    </tr>\n",
       "  </tbody>\n",
       "</table><p>"
      ],
      "text/plain": [
       "<IPython.core.display.HTML object>"
      ]
     },
     "metadata": {},
     "output_type": "display_data"
    },
    {
     "data": {
      "application/vnd.jupyter.widget-view+json": {
       "model_id": "747d76b9e96d4111b91035dc68b36133",
       "version_major": 2,
       "version_minor": 0
      },
      "text/plain": [
       "  0%|          | 0/11873 [00:00<?, ?it/s]"
      ]
     },
     "metadata": {},
     "output_type": "display_data"
    },
    {
     "name": "stdout",
     "output_type": "stream",
     "text": [
      "Stopping training: eval_f1 below threshold of 75\n"
     ]
    },
    {
     "data": {
      "text/html": [
       "\n",
       "    <div>\n",
       "      \n",
       "      <progress value='748' max='748' style='width:300px; height:20px; vertical-align: middle;'></progress>\n",
       "      [748/748 00:51]\n",
       "    </div>\n",
       "    "
      ],
      "text/plain": [
       "<IPython.core.display.HTML object>"
      ]
     },
     "metadata": {},
     "output_type": "display_data"
    },
    {
     "data": {
      "application/vnd.jupyter.widget-view+json": {
       "model_id": "4ad1006d2e9c4eae9ba04b9eb9ab48a4",
       "version_major": 2,
       "version_minor": 0
      },
      "text/plain": [
       "  0%|          | 0/11873 [00:00<?, ?it/s]"
      ]
     },
     "metadata": {},
     "output_type": "display_data"
    },
    {
     "name": "stdout",
     "output_type": "stream",
     "text": [
      "Stopping training: eval_f1 below threshold of 75\n",
      "Stopping training: No improvement in eval_f1 for 1 epochs\n"
     ]
    },
    {
     "name": "stderr",
     "output_type": "stream",
     "text": [
      "[I 2024-05-31 17:39:52,391] Trial 23 finished with value: 69.3263938348507 and parameters: {'no_answer_threshold': 0.1082908539567574, 'learning_rate': 9.910521242085674e-05, 'warmup_ratio': 0, 'weight_decay': 0.04158251749615713, 'adam_beta1': 0.8136308278725004, 'adam_beta2': 0.9982548616680633, 'adam_epsilon': 8.962818183413934e-07, 'lr_scheduler_type': 'cosine_with_restarts'}. Best is trial 11 with value: 74.76637427549916.\n"
     ]
    },
    {
     "name": "stdout",
     "output_type": "stream",
     "text": [
      "Current Trial 24 parameters: {'no_answer_threshold': 0.21994324796805112, 'learning_rate': 1.2884647654409051e-05, 'warmup_ratio': 0, 'weight_decay': 0.06507294652050945, 'adam_beta1': 0.8310556580590547, 'adam_beta2': 0.9970572388423093, 'adam_epsilon': 7.388398049919757e-07, 'lr_scheduler_type': 'cosine_with_restarts'}\n"
     ]
    },
    {
     "name": "stderr",
     "output_type": "stream",
     "text": [
      "Some weights of RobertaForQuestionAnswering were not initialized from the model checkpoint at FacebookAI/roberta-base and are newly initialized: ['qa_outputs.bias', 'qa_outputs.weight']\n",
      "You should probably TRAIN this model on a down-stream task to be able to use it for predictions and inference.\n"
     ]
    },
    {
     "data": {
      "text/html": [
       "\n",
       "    <div>\n",
       "      \n",
       "      <progress value='3753' max='11259' style='width:300px; height:20px; vertical-align: middle;'></progress>\n",
       "      [ 3753/11259 31:46 < 1:03:35, 1.97 it/s, Epoch 1/3]\n",
       "    </div>\n",
       "    <table border=\"1\" class=\"dataframe\">\n",
       "  <thead>\n",
       " <tr style=\"text-align: left;\">\n",
       "      <th>Epoch</th>\n",
       "      <th>Training Loss</th>\n",
       "      <th>Validation Loss</th>\n",
       "      <th>Exact</th>\n",
       "      <th>F1</th>\n",
       "      <th>Total</th>\n",
       "      <th>Hasans Exact</th>\n",
       "      <th>Hasans F1</th>\n",
       "      <th>Hasans Total</th>\n",
       "      <th>Noans Exact</th>\n",
       "      <th>Noans F1</th>\n",
       "      <th>Noans Total</th>\n",
       "      <th>Best Exact</th>\n",
       "      <th>Best Exact Thresh</th>\n",
       "      <th>Best F1</th>\n",
       "      <th>Best F1 Thresh</th>\n",
       "    </tr>\n",
       "  </thead>\n",
       "  <tbody>\n",
       "    <tr>\n",
       "      <td>1</td>\n",
       "      <td>1.109800</td>\n",
       "      <td>No log</td>\n",
       "      <td>55.723069</td>\n",
       "      <td>71.758119</td>\n",
       "      <td>11873</td>\n",
       "      <td>42.122132</td>\n",
       "      <td>74.238217</td>\n",
       "      <td>5928</td>\n",
       "      <td>69.285114</td>\n",
       "      <td>69.285114</td>\n",
       "      <td>5945</td>\n",
       "      <td>55.723069</td>\n",
       "      <td>0.000000</td>\n",
       "      <td>71.758119</td>\n",
       "      <td>0.000000</td>\n",
       "    </tr>\n",
       "  </tbody>\n",
       "</table><p>"
      ],
      "text/plain": [
       "<IPython.core.display.HTML object>"
      ]
     },
     "metadata": {},
     "output_type": "display_data"
    },
    {
     "data": {
      "application/vnd.jupyter.widget-view+json": {
       "model_id": "5a6c449b7214411182ccc1431db37564",
       "version_major": 2,
       "version_minor": 0
      },
      "text/plain": [
       "  0%|          | 0/11873 [00:00<?, ?it/s]"
      ]
     },
     "metadata": {},
     "output_type": "display_data"
    },
    {
     "name": "stdout",
     "output_type": "stream",
     "text": [
      "Stopping training: eval_f1 below threshold of 75\n"
     ]
    },
    {
     "data": {
      "text/html": [
       "\n",
       "    <div>\n",
       "      \n",
       "      <progress value='748' max='748' style='width:300px; height:20px; vertical-align: middle;'></progress>\n",
       "      [748/748 00:49]\n",
       "    </div>\n",
       "    "
      ],
      "text/plain": [
       "<IPython.core.display.HTML object>"
      ]
     },
     "metadata": {},
     "output_type": "display_data"
    },
    {
     "data": {
      "application/vnd.jupyter.widget-view+json": {
       "model_id": "7039d642f5e74c61b3102ae53437eb7c",
       "version_major": 2,
       "version_minor": 0
      },
      "text/plain": [
       "  0%|          | 0/11873 [00:00<?, ?it/s]"
      ]
     },
     "metadata": {},
     "output_type": "display_data"
    },
    {
     "name": "stdout",
     "output_type": "stream",
     "text": [
      "Stopping training: eval_f1 below threshold of 75\n",
      "Stopping training: No improvement in eval_f1 for 1 epochs\n"
     ]
    },
    {
     "name": "stderr",
     "output_type": "stream",
     "text": [
      "[I 2024-05-31 18:13:05,575] Trial 24 finished with value: 71.7581190782017 and parameters: {'no_answer_threshold': 0.21994324796805112, 'learning_rate': 1.2884647654409051e-05, 'warmup_ratio': 0, 'weight_decay': 0.06507294652050945, 'adam_beta1': 0.8310556580590547, 'adam_beta2': 0.9970572388423093, 'adam_epsilon': 7.388398049919757e-07, 'lr_scheduler_type': 'cosine_with_restarts'}. Best is trial 11 with value: 74.76637427549916.\n"
     ]
    }
   ],
   "source": [
    "study.optimize(objective, n_trials=5)"
   ]
  },
  {
   "cell_type": "code",
   "execution_count": 64,
   "id": "f388bed0-50be-4e84-ba00-56d17044e5ab",
   "metadata": {
    "tags": []
   },
   "outputs": [
    {
     "name": "stdout",
     "output_type": "stream",
     "text": [
      "Current Trial 25 parameters: {'no_answer_threshold': 0.08985460181677338, 'learning_rate': 4.259414610191931e-05, 'warmup_ratio': 0, 'weight_decay': 0.0897817685970829, 'adam_beta1': 0.8006925908420763, 'adam_beta2': 0.9981304761105283, 'adam_epsilon': 8.445066508061142e-07, 'lr_scheduler_type': 'cosine_with_restarts'}\n"
     ]
    },
    {
     "name": "stderr",
     "output_type": "stream",
     "text": [
      "Some weights of RobertaForQuestionAnswering were not initialized from the model checkpoint at FacebookAI/roberta-base and are newly initialized: ['qa_outputs.bias', 'qa_outputs.weight']\n",
      "You should probably TRAIN this model on a down-stream task to be able to use it for predictions and inference.\n"
     ]
    },
    {
     "data": {
      "text/html": [
       "\n",
       "    <div>\n",
       "      \n",
       "      <progress value='3753' max='11259' style='width:300px; height:20px; vertical-align: middle;'></progress>\n",
       "      [ 3753/11259 27:58 < 55:57, 2.24 it/s, Epoch 1/3]\n",
       "    </div>\n",
       "    <table border=\"1\" class=\"dataframe\">\n",
       "  <thead>\n",
       " <tr style=\"text-align: left;\">\n",
       "      <th>Epoch</th>\n",
       "      <th>Training Loss</th>\n",
       "      <th>Validation Loss</th>\n",
       "      <th>Exact</th>\n",
       "      <th>F1</th>\n",
       "      <th>Total</th>\n",
       "      <th>Hasans Exact</th>\n",
       "      <th>Hasans F1</th>\n",
       "      <th>Hasans Total</th>\n",
       "      <th>Noans Exact</th>\n",
       "      <th>Noans F1</th>\n",
       "      <th>Noans Total</th>\n",
       "      <th>Best Exact</th>\n",
       "      <th>Best Exact Thresh</th>\n",
       "      <th>Best F1</th>\n",
       "      <th>Best F1 Thresh</th>\n",
       "    </tr>\n",
       "  </thead>\n",
       "  <tbody>\n",
       "    <tr>\n",
       "      <td>1</td>\n",
       "      <td>1.047200</td>\n",
       "      <td>No log</td>\n",
       "      <td>58.603554</td>\n",
       "      <td>73.908218</td>\n",
       "      <td>11873</td>\n",
       "      <td>41.885965</td>\n",
       "      <td>72.539181</td>\n",
       "      <td>5928</td>\n",
       "      <td>75.273339</td>\n",
       "      <td>75.273339</td>\n",
       "      <td>5945</td>\n",
       "      <td>58.603554</td>\n",
       "      <td>0.000000</td>\n",
       "      <td>73.908218</td>\n",
       "      <td>0.000000</td>\n",
       "    </tr>\n",
       "  </tbody>\n",
       "</table><p>"
      ],
      "text/plain": [
       "<IPython.core.display.HTML object>"
      ]
     },
     "metadata": {},
     "output_type": "display_data"
    },
    {
     "data": {
      "application/vnd.jupyter.widget-view+json": {
       "model_id": "873d2248e93e486ab7c50644056c5fde",
       "version_major": 2,
       "version_minor": 0
      },
      "text/plain": [
       "  0%|          | 0/11873 [00:00<?, ?it/s]"
      ]
     },
     "metadata": {},
     "output_type": "display_data"
    },
    {
     "name": "stdout",
     "output_type": "stream",
     "text": [
      "Stopping training: eval_f1 below threshold of 75\n"
     ]
    },
    {
     "data": {
      "text/html": [
       "\n",
       "    <div>\n",
       "      \n",
       "      <progress value='748' max='748' style='width:300px; height:20px; vertical-align: middle;'></progress>\n",
       "      [748/748 00:50]\n",
       "    </div>\n",
       "    "
      ],
      "text/plain": [
       "<IPython.core.display.HTML object>"
      ]
     },
     "metadata": {},
     "output_type": "display_data"
    },
    {
     "data": {
      "application/vnd.jupyter.widget-view+json": {
       "model_id": "110d7e2eb03742c696b18351e0717ef6",
       "version_major": 2,
       "version_minor": 0
      },
      "text/plain": [
       "  0%|          | 0/11873 [00:00<?, ?it/s]"
      ]
     },
     "metadata": {},
     "output_type": "display_data"
    },
    {
     "name": "stdout",
     "output_type": "stream",
     "text": [
      "Stopping training: eval_f1 below threshold of 75\n",
      "Stopping training: No improvement in eval_f1 for 1 epochs\n"
     ]
    },
    {
     "name": "stderr",
     "output_type": "stream",
     "text": [
      "[I 2024-05-31 19:21:40,804] Trial 25 finished with value: 73.90821753212367 and parameters: {'no_answer_threshold': 0.08985460181677338, 'learning_rate': 4.259414610191931e-05, 'warmup_ratio': 0, 'weight_decay': 0.0897817685970829, 'adam_beta1': 0.8006925908420763, 'adam_beta2': 0.9981304761105283, 'adam_epsilon': 8.445066508061142e-07, 'lr_scheduler_type': 'cosine_with_restarts'}. Best is trial 11 with value: 74.76637427549916.\n"
     ]
    },
    {
     "name": "stdout",
     "output_type": "stream",
     "text": [
      "Current Trial 26 parameters: {'no_answer_threshold': 0.3140849242376047, 'learning_rate': 2.4095032504850742e-05, 'warmup_ratio': 0, 'weight_decay': 0.13593165948542113, 'adam_beta1': 0.8744183438692692, 'adam_beta2': 0.9967448809397914, 'adam_epsilon': 9.423456861258485e-07, 'lr_scheduler_type': 'cosine_with_restarts'}\n"
     ]
    },
    {
     "name": "stderr",
     "output_type": "stream",
     "text": [
      "Some weights of RobertaForQuestionAnswering were not initialized from the model checkpoint at FacebookAI/roberta-base and are newly initialized: ['qa_outputs.bias', 'qa_outputs.weight']\n",
      "You should probably TRAIN this model on a down-stream task to be able to use it for predictions and inference.\n"
     ]
    },
    {
     "data": {
      "text/html": [
       "\n",
       "    <div>\n",
       "      \n",
       "      <progress value='3753' max='11259' style='width:300px; height:20px; vertical-align: middle;'></progress>\n",
       "      [ 3753/11259 33:59 < 1:08:01, 1.84 it/s, Epoch 1/3]\n",
       "    </div>\n",
       "    <table border=\"1\" class=\"dataframe\">\n",
       "  <thead>\n",
       " <tr style=\"text-align: left;\">\n",
       "      <th>Epoch</th>\n",
       "      <th>Training Loss</th>\n",
       "      <th>Validation Loss</th>\n",
       "      <th>Exact</th>\n",
       "      <th>F1</th>\n",
       "      <th>Total</th>\n",
       "      <th>Hasans Exact</th>\n",
       "      <th>Hasans F1</th>\n",
       "      <th>Hasans Total</th>\n",
       "      <th>Noans Exact</th>\n",
       "      <th>Noans F1</th>\n",
       "      <th>Noans Total</th>\n",
       "      <th>Best Exact</th>\n",
       "      <th>Best Exact Thresh</th>\n",
       "      <th>Best F1</th>\n",
       "      <th>Best F1 Thresh</th>\n",
       "    </tr>\n",
       "  </thead>\n",
       "  <tbody>\n",
       "    <tr>\n",
       "      <td>1</td>\n",
       "      <td>1.087600</td>\n",
       "      <td>No log</td>\n",
       "      <td>57.794997</td>\n",
       "      <td>73.853478</td>\n",
       "      <td>11873</td>\n",
       "      <td>40.401484</td>\n",
       "      <td>72.564498</td>\n",
       "      <td>5928</td>\n",
       "      <td>75.138772</td>\n",
       "      <td>75.138772</td>\n",
       "      <td>5945</td>\n",
       "      <td>57.794997</td>\n",
       "      <td>0.000000</td>\n",
       "      <td>73.853478</td>\n",
       "      <td>0.000000</td>\n",
       "    </tr>\n",
       "  </tbody>\n",
       "</table><p>"
      ],
      "text/plain": [
       "<IPython.core.display.HTML object>"
      ]
     },
     "metadata": {},
     "output_type": "display_data"
    },
    {
     "data": {
      "application/vnd.jupyter.widget-view+json": {
       "model_id": "6cabb50367e44e0aae9756e40c9ec009",
       "version_major": 2,
       "version_minor": 0
      },
      "text/plain": [
       "  0%|          | 0/11873 [00:00<?, ?it/s]"
      ]
     },
     "metadata": {},
     "output_type": "display_data"
    },
    {
     "name": "stdout",
     "output_type": "stream",
     "text": [
      "Stopping training: eval_f1 below threshold of 75\n"
     ]
    },
    {
     "data": {
      "text/html": [
       "\n",
       "    <div>\n",
       "      \n",
       "      <progress value='748' max='748' style='width:300px; height:20px; vertical-align: middle;'></progress>\n",
       "      [748/748 00:51]\n",
       "    </div>\n",
       "    "
      ],
      "text/plain": [
       "<IPython.core.display.HTML object>"
      ]
     },
     "metadata": {},
     "output_type": "display_data"
    },
    {
     "data": {
      "application/vnd.jupyter.widget-view+json": {
       "model_id": "84344128e288436f94c454753c4e4639",
       "version_major": 2,
       "version_minor": 0
      },
      "text/plain": [
       "  0%|          | 0/11873 [00:00<?, ?it/s]"
      ]
     },
     "metadata": {},
     "output_type": "display_data"
    },
    {
     "name": "stdout",
     "output_type": "stream",
     "text": [
      "Stopping training: eval_f1 below threshold of 75\n",
      "Stopping training: No improvement in eval_f1 for 1 epochs\n"
     ]
    },
    {
     "name": "stderr",
     "output_type": "stream",
     "text": [
      "[I 2024-05-31 19:57:11,420] Trial 26 finished with value: 73.85347806691466 and parameters: {'no_answer_threshold': 0.3140849242376047, 'learning_rate': 2.4095032504850742e-05, 'warmup_ratio': 0, 'weight_decay': 0.13593165948542113, 'adam_beta1': 0.8744183438692692, 'adam_beta2': 0.9967448809397914, 'adam_epsilon': 9.423456861258485e-07, 'lr_scheduler_type': 'cosine_with_restarts'}. Best is trial 11 with value: 74.76637427549916.\n"
     ]
    },
    {
     "name": "stdout",
     "output_type": "stream",
     "text": [
      "Current Trial 27 parameters: {'no_answer_threshold': 0.19907984945487422, 'learning_rate': 7.44240171832879e-06, 'warmup_ratio': 0, 'weight_decay': 0.02874666537151307, 'adam_beta1': 0.8111996905101413, 'adam_beta2': 0.9988992610130933, 'adam_epsilon': 6.753525008104506e-07, 'lr_scheduler_type': 'cosine_with_restarts'}\n"
     ]
    },
    {
     "name": "stderr",
     "output_type": "stream",
     "text": [
      "Some weights of RobertaForQuestionAnswering were not initialized from the model checkpoint at FacebookAI/roberta-base and are newly initialized: ['qa_outputs.bias', 'qa_outputs.weight']\n",
      "You should probably TRAIN this model on a down-stream task to be able to use it for predictions and inference.\n"
     ]
    },
    {
     "data": {
      "text/html": [
       "\n",
       "    <div>\n",
       "      \n",
       "      <progress value='3753' max='11259' style='width:300px; height:20px; vertical-align: middle;'></progress>\n",
       "      [ 3753/11259 26:28 < 52:58, 2.36 it/s, Epoch 1/3]\n",
       "    </div>\n",
       "    <table border=\"1\" class=\"dataframe\">\n",
       "  <thead>\n",
       " <tr style=\"text-align: left;\">\n",
       "      <th>Epoch</th>\n",
       "      <th>Training Loss</th>\n",
       "      <th>Validation Loss</th>\n",
       "      <th>Exact</th>\n",
       "      <th>F1</th>\n",
       "      <th>Total</th>\n",
       "      <th>Hasans Exact</th>\n",
       "      <th>Hasans F1</th>\n",
       "      <th>Hasans Total</th>\n",
       "      <th>Noans Exact</th>\n",
       "      <th>Noans F1</th>\n",
       "      <th>Noans Total</th>\n",
       "      <th>Best Exact</th>\n",
       "      <th>Best Exact Thresh</th>\n",
       "      <th>Best F1</th>\n",
       "      <th>Best F1 Thresh</th>\n",
       "    </tr>\n",
       "  </thead>\n",
       "  <tbody>\n",
       "    <tr>\n",
       "      <td>1</td>\n",
       "      <td>1.207100</td>\n",
       "      <td>No log</td>\n",
       "      <td>54.114377</td>\n",
       "      <td>70.280002</td>\n",
       "      <td>11873</td>\n",
       "      <td>38.663968</td>\n",
       "      <td>71.041576</td>\n",
       "      <td>5928</td>\n",
       "      <td>69.520606</td>\n",
       "      <td>69.520606</td>\n",
       "      <td>5945</td>\n",
       "      <td>54.114377</td>\n",
       "      <td>0.000000</td>\n",
       "      <td>70.280002</td>\n",
       "      <td>0.000000</td>\n",
       "    </tr>\n",
       "  </tbody>\n",
       "</table><p>"
      ],
      "text/plain": [
       "<IPython.core.display.HTML object>"
      ]
     },
     "metadata": {},
     "output_type": "display_data"
    },
    {
     "data": {
      "application/vnd.jupyter.widget-view+json": {
       "model_id": "1f6b173ffbff436a9a894208c94ea40e",
       "version_major": 2,
       "version_minor": 0
      },
      "text/plain": [
       "  0%|          | 0/11873 [00:00<?, ?it/s]"
      ]
     },
     "metadata": {},
     "output_type": "display_data"
    },
    {
     "name": "stdout",
     "output_type": "stream",
     "text": [
      "Stopping training: eval_f1 below threshold of 75\n"
     ]
    },
    {
     "data": {
      "text/html": [
       "\n",
       "    <div>\n",
       "      \n",
       "      <progress value='748' max='748' style='width:300px; height:20px; vertical-align: middle;'></progress>\n",
       "      [748/748 00:50]\n",
       "    </div>\n",
       "    "
      ],
      "text/plain": [
       "<IPython.core.display.HTML object>"
      ]
     },
     "metadata": {},
     "output_type": "display_data"
    },
    {
     "data": {
      "application/vnd.jupyter.widget-view+json": {
       "model_id": "c82e5ecf95d74c028b29d60b8f024b6c",
       "version_major": 2,
       "version_minor": 0
      },
      "text/plain": [
       "  0%|          | 0/11873 [00:00<?, ?it/s]"
      ]
     },
     "metadata": {},
     "output_type": "display_data"
    },
    {
     "name": "stdout",
     "output_type": "stream",
     "text": [
      "Stopping training: eval_f1 below threshold of 75\n",
      "Stopping training: No improvement in eval_f1 for 1 epochs\n"
     ]
    },
    {
     "name": "stderr",
     "output_type": "stream",
     "text": [
      "[I 2024-05-31 20:25:05,992] Trial 27 finished with value: 70.28000212510818 and parameters: {'no_answer_threshold': 0.19907984945487422, 'learning_rate': 7.44240171832879e-06, 'warmup_ratio': 0, 'weight_decay': 0.02874666537151307, 'adam_beta1': 0.8111996905101413, 'adam_beta2': 0.9988992610130933, 'adam_epsilon': 6.753525008104506e-07, 'lr_scheduler_type': 'cosine_with_restarts'}. Best is trial 11 with value: 74.76637427549916.\n"
     ]
    },
    {
     "name": "stdout",
     "output_type": "stream",
     "text": [
      "Current Trial 28 parameters: {'no_answer_threshold': 0.7836059653087277, 'learning_rate': 1.5558887805503324e-05, 'warmup_ratio': 0, 'weight_decay': 0.017373879465675257, 'adam_beta1': 0.8522490917048773, 'adam_beta2': 0.9983048186262922, 'adam_epsilon': 3.998354013320954e-07, 'lr_scheduler_type': 'cosine'}\n"
     ]
    },
    {
     "name": "stderr",
     "output_type": "stream",
     "text": [
      "Some weights of RobertaForQuestionAnswering were not initialized from the model checkpoint at FacebookAI/roberta-base and are newly initialized: ['qa_outputs.bias', 'qa_outputs.weight']\n",
      "You should probably TRAIN this model on a down-stream task to be able to use it for predictions and inference.\n"
     ]
    },
    {
     "data": {
      "text/html": [
       "\n",
       "    <div>\n",
       "      \n",
       "      <progress value='3753' max='11259' style='width:300px; height:20px; vertical-align: middle;'></progress>\n",
       "      [ 3753/11259 29:37 < 59:16, 2.11 it/s, Epoch 1/3]\n",
       "    </div>\n",
       "    <table border=\"1\" class=\"dataframe\">\n",
       "  <thead>\n",
       " <tr style=\"text-align: left;\">\n",
       "      <th>Epoch</th>\n",
       "      <th>Training Loss</th>\n",
       "      <th>Validation Loss</th>\n",
       "      <th>Exact</th>\n",
       "      <th>F1</th>\n",
       "      <th>Total</th>\n",
       "      <th>Hasans Exact</th>\n",
       "      <th>Hasans F1</th>\n",
       "      <th>Hasans Total</th>\n",
       "      <th>Noans Exact</th>\n",
       "      <th>Noans F1</th>\n",
       "      <th>Noans Total</th>\n",
       "      <th>Best Exact</th>\n",
       "      <th>Best Exact Thresh</th>\n",
       "      <th>Best F1</th>\n",
       "      <th>Best F1 Thresh</th>\n",
       "    </tr>\n",
       "  </thead>\n",
       "  <tbody>\n",
       "    <tr>\n",
       "      <td>1</td>\n",
       "      <td>1.064600</td>\n",
       "      <td>No log</td>\n",
       "      <td>56.851680</td>\n",
       "      <td>72.682560</td>\n",
       "      <td>11873</td>\n",
       "      <td>42.780027</td>\n",
       "      <td>74.487184</td>\n",
       "      <td>5928</td>\n",
       "      <td>70.883095</td>\n",
       "      <td>70.883095</td>\n",
       "      <td>5945</td>\n",
       "      <td>56.851680</td>\n",
       "      <td>0.000000</td>\n",
       "      <td>72.682560</td>\n",
       "      <td>0.000000</td>\n",
       "    </tr>\n",
       "  </tbody>\n",
       "</table><p>"
      ],
      "text/plain": [
       "<IPython.core.display.HTML object>"
      ]
     },
     "metadata": {},
     "output_type": "display_data"
    },
    {
     "data": {
      "application/vnd.jupyter.widget-view+json": {
       "model_id": "66bc3a1f891048108cccc770f31414b4",
       "version_major": 2,
       "version_minor": 0
      },
      "text/plain": [
       "  0%|          | 0/11873 [00:00<?, ?it/s]"
      ]
     },
     "metadata": {},
     "output_type": "display_data"
    },
    {
     "name": "stdout",
     "output_type": "stream",
     "text": [
      "Stopping training: eval_f1 below threshold of 75\n"
     ]
    },
    {
     "data": {
      "text/html": [
       "\n",
       "    <div>\n",
       "      \n",
       "      <progress value='748' max='748' style='width:300px; height:20px; vertical-align: middle;'></progress>\n",
       "      [748/748 00:50]\n",
       "    </div>\n",
       "    "
      ],
      "text/plain": [
       "<IPython.core.display.HTML object>"
      ]
     },
     "metadata": {},
     "output_type": "display_data"
    },
    {
     "data": {
      "application/vnd.jupyter.widget-view+json": {
       "model_id": "3b3cba293ef7471f825d489565473eb3",
       "version_major": 2,
       "version_minor": 0
      },
      "text/plain": [
       "  0%|          | 0/11873 [00:00<?, ?it/s]"
      ]
     },
     "metadata": {},
     "output_type": "display_data"
    },
    {
     "name": "stdout",
     "output_type": "stream",
     "text": [
      "Stopping training: eval_f1 below threshold of 75\n",
      "Stopping training: No improvement in eval_f1 for 1 epochs\n"
     ]
    },
    {
     "name": "stderr",
     "output_type": "stream",
     "text": [
      "[I 2024-05-31 20:56:08,447] Trial 28 finished with value: 72.68255953426325 and parameters: {'no_answer_threshold': 0.7836059653087277, 'learning_rate': 1.5558887805503324e-05, 'warmup_ratio': 0, 'weight_decay': 0.017373879465675257, 'adam_beta1': 0.8522490917048773, 'adam_beta2': 0.9983048186262922, 'adam_epsilon': 3.998354013320954e-07, 'lr_scheduler_type': 'cosine'}. Best is trial 11 with value: 74.76637427549916.\n"
     ]
    },
    {
     "name": "stdout",
     "output_type": "stream",
     "text": [
      "Current Trial 29 parameters: {'no_answer_threshold': 0.37015756730215865, 'learning_rate': 6.392849127783965e-05, 'warmup_ratio': 1, 'weight_decay': 0.05218544844120233, 'adam_beta1': 0.8300236564801236, 'adam_beta2': 0.9953217559810993, 'adam_epsilon': 5.687400203578246e-07, 'lr_scheduler_type': 'linear'}\n"
     ]
    },
    {
     "name": "stderr",
     "output_type": "stream",
     "text": [
      "Some weights of RobertaForQuestionAnswering were not initialized from the model checkpoint at FacebookAI/roberta-base and are newly initialized: ['qa_outputs.bias', 'qa_outputs.weight']\n",
      "You should probably TRAIN this model on a down-stream task to be able to use it for predictions and inference.\n"
     ]
    },
    {
     "data": {
      "text/html": [
       "\n",
       "    <div>\n",
       "      \n",
       "      <progress value='3753' max='11259' style='width:300px; height:20px; vertical-align: middle;'></progress>\n",
       "      [ 3753/11259 44:05 < 1:28:14, 1.42 it/s, Epoch 1/3]\n",
       "    </div>\n",
       "    <table border=\"1\" class=\"dataframe\">\n",
       "  <thead>\n",
       " <tr style=\"text-align: left;\">\n",
       "      <th>Epoch</th>\n",
       "      <th>Training Loss</th>\n",
       "      <th>Validation Loss</th>\n",
       "      <th>Exact</th>\n",
       "      <th>F1</th>\n",
       "      <th>Total</th>\n",
       "      <th>Hasans Exact</th>\n",
       "      <th>Hasans F1</th>\n",
       "      <th>Hasans Total</th>\n",
       "      <th>Noans Exact</th>\n",
       "      <th>Noans F1</th>\n",
       "      <th>Noans Total</th>\n",
       "      <th>Best Exact</th>\n",
       "      <th>Best Exact Thresh</th>\n",
       "      <th>Best F1</th>\n",
       "      <th>Best F1 Thresh</th>\n",
       "    </tr>\n",
       "  </thead>\n",
       "  <tbody>\n",
       "    <tr>\n",
       "      <td>1</td>\n",
       "      <td>1.216400</td>\n",
       "      <td>No log</td>\n",
       "      <td>57.011707</td>\n",
       "      <td>72.208376</td>\n",
       "      <td>11873</td>\n",
       "      <td>39.979757</td>\n",
       "      <td>70.416675</td>\n",
       "      <td>5928</td>\n",
       "      <td>73.994954</td>\n",
       "      <td>73.994954</td>\n",
       "      <td>5945</td>\n",
       "      <td>57.011707</td>\n",
       "      <td>0.000000</td>\n",
       "      <td>72.208376</td>\n",
       "      <td>0.000000</td>\n",
       "    </tr>\n",
       "  </tbody>\n",
       "</table><p>"
      ],
      "text/plain": [
       "<IPython.core.display.HTML object>"
      ]
     },
     "metadata": {},
     "output_type": "display_data"
    },
    {
     "data": {
      "application/vnd.jupyter.widget-view+json": {
       "model_id": "8d749ccddb904abf9893eb1b61a53dab",
       "version_major": 2,
       "version_minor": 0
      },
      "text/plain": [
       "  0%|          | 0/11873 [00:00<?, ?it/s]"
      ]
     },
     "metadata": {},
     "output_type": "display_data"
    },
    {
     "name": "stdout",
     "output_type": "stream",
     "text": [
      "Stopping training: eval_f1 below threshold of 75\n"
     ]
    },
    {
     "data": {
      "text/html": [
       "\n",
       "    <div>\n",
       "      \n",
       "      <progress value='748' max='748' style='width:300px; height:20px; vertical-align: middle;'></progress>\n",
       "      [748/748 00:50]\n",
       "    </div>\n",
       "    "
      ],
      "text/plain": [
       "<IPython.core.display.HTML object>"
      ]
     },
     "metadata": {},
     "output_type": "display_data"
    },
    {
     "data": {
      "application/vnd.jupyter.widget-view+json": {
       "model_id": "f7c76522743a4b39bb44c732aa66b1f3",
       "version_major": 2,
       "version_minor": 0
      },
      "text/plain": [
       "  0%|          | 0/11873 [00:00<?, ?it/s]"
      ]
     },
     "metadata": {},
     "output_type": "display_data"
    },
    {
     "name": "stdout",
     "output_type": "stream",
     "text": [
      "Stopping training: eval_f1 below threshold of 75\n",
      "Stopping training: No improvement in eval_f1 for 1 epochs\n"
     ]
    },
    {
     "name": "stderr",
     "output_type": "stream",
     "text": [
      "[I 2024-05-31 21:41:42,482] Trial 29 finished with value: 72.20837608388447 and parameters: {'no_answer_threshold': 0.37015756730215865, 'learning_rate': 6.392849127783965e-05, 'warmup_ratio': 1, 'weight_decay': 0.05218544844120233, 'adam_beta1': 0.8300236564801236, 'adam_beta2': 0.9953217559810993, 'adam_epsilon': 5.687400203578246e-07, 'lr_scheduler_type': 'linear'}. Best is trial 11 with value: 74.76637427549916.\n"
     ]
    }
   ],
   "source": [
    "study.optimize(objective, n_trials=5)"
   ]
  },
  {
   "cell_type": "markdown",
   "id": "d6f8e1c1-893e-4be8-88cd-622dec5a543b",
   "metadata": {
    "jp-MarkdownHeadingCollapsed": true,
    "tags": []
   },
   "source": [
    "## 7. Summary of Hyperparameters Search\n",
    "\n",
    "Each row of the below table corresponds to a trial and shows all specified parameters along with measured performance metrics with Trial 9 acheiving the highest performance.\n",
    "\n",
    "\n",
    "\n",
    "| Trial | Learning Rate     | Batch Size | Warmup Steps | Weight Decay   | Adam Beta1 | Adam Beta2 | Adam Epsilon | LR Scheduler Type          | Exact   | F1       | Hasans Exact | Hasans F1 | Noans Exact | Noans F1 |\n",
    "|-------|-------------------|------------|--------------|----------------|------------|------------|--------------|----------------------------|---------|----------|--------------|-----------|-------------|----------|\n"
   ]
  },
  {
   "cell_type": "markdown",
   "id": "978cde17-3ef7-47ac-8663-b74fdefee34a",
   "metadata": {
    "jp-MarkdownHeadingCollapsed": true,
    "tags": []
   },
   "source": [
    "## Tuning RoBERTa Using the Best Hyperparameters"
   ]
  },
  {
   "cell_type": "code",
   "execution_count": 67,
   "id": "a3805e98-599c-4c21-9922-ae913acc6b0e",
   "metadata": {
    "tags": []
   },
   "outputs": [
    {
     "name": "stderr",
     "output_type": "stream",
     "text": [
      "Some weights of RobertaForQuestionAnswering were not initialized from the model checkpoint at FacebookAI/roberta-base and are newly initialized: ['qa_outputs.bias', 'qa_outputs.weight']\n",
      "You should probably TRAIN this model on a down-stream task to be able to use it for predictions and inference.\n"
     ]
    },
    {
     "data": {
      "text/html": [
       "\n",
       "    <div>\n",
       "      \n",
       "      <progress value='56448' max='80640' style='width:300px; height:20px; vertical-align: middle;'></progress>\n",
       "      [56448/80640 3:42:21 < 1:35:18, 4.23 it/s, Epoch 7/10]\n",
       "    </div>\n",
       "    <table border=\"1\" class=\"dataframe\">\n",
       "  <thead>\n",
       " <tr style=\"text-align: left;\">\n",
       "      <th>Epoch</th>\n",
       "      <th>Training Loss</th>\n",
       "      <th>Validation Loss</th>\n",
       "      <th>Exact</th>\n",
       "      <th>F1</th>\n",
       "      <th>Total</th>\n",
       "      <th>Hasans Exact</th>\n",
       "      <th>Hasans F1</th>\n",
       "      <th>Hasans Total</th>\n",
       "      <th>Noans Exact</th>\n",
       "      <th>Noans F1</th>\n",
       "      <th>Noans Total</th>\n",
       "      <th>Best Exact</th>\n",
       "      <th>Best Exact Thresh</th>\n",
       "      <th>Best F1</th>\n",
       "      <th>Best F1 Thresh</th>\n",
       "    </tr>\n",
       "  </thead>\n",
       "  <tbody>\n",
       "    <tr>\n",
       "      <td>1</td>\n",
       "      <td>0.919900</td>\n",
       "      <td>No log</td>\n",
       "      <td>63.783374</td>\n",
       "      <td>78.198175</td>\n",
       "      <td>11873</td>\n",
       "      <td>40.384615</td>\n",
       "      <td>69.255556</td>\n",
       "      <td>5928</td>\n",
       "      <td>87.115223</td>\n",
       "      <td>87.115223</td>\n",
       "      <td>5945</td>\n",
       "      <td>63.783374</td>\n",
       "      <td>0.000000</td>\n",
       "      <td>78.198175</td>\n",
       "      <td>0.000000</td>\n",
       "    </tr>\n",
       "    <tr>\n",
       "      <td>2</td>\n",
       "      <td>0.745600</td>\n",
       "      <td>No log</td>\n",
       "      <td>62.983239</td>\n",
       "      <td>78.092215</td>\n",
       "      <td>11873</td>\n",
       "      <td>41.143725</td>\n",
       "      <td>71.405004</td>\n",
       "      <td>5928</td>\n",
       "      <td>84.760303</td>\n",
       "      <td>84.760303</td>\n",
       "      <td>5945</td>\n",
       "      <td>62.983239</td>\n",
       "      <td>0.000000</td>\n",
       "      <td>78.092215</td>\n",
       "      <td>0.000000</td>\n",
       "    </tr>\n",
       "    <tr>\n",
       "      <td>3</td>\n",
       "      <td>0.555800</td>\n",
       "      <td>No log</td>\n",
       "      <td>63.555967</td>\n",
       "      <td>78.997628</td>\n",
       "      <td>11873</td>\n",
       "      <td>41.514845</td>\n",
       "      <td>72.442449</td>\n",
       "      <td>5928</td>\n",
       "      <td>85.534062</td>\n",
       "      <td>85.534062</td>\n",
       "      <td>5945</td>\n",
       "      <td>63.555967</td>\n",
       "      <td>0.000000</td>\n",
       "      <td>78.997628</td>\n",
       "      <td>0.000000</td>\n",
       "    </tr>\n",
       "    <tr>\n",
       "      <td>4</td>\n",
       "      <td>0.456500</td>\n",
       "      <td>No log</td>\n",
       "      <td>63.311716</td>\n",
       "      <td>79.031498</td>\n",
       "      <td>11873</td>\n",
       "      <td>42.948718</td>\n",
       "      <td>74.433362</td>\n",
       "      <td>5928</td>\n",
       "      <td>83.616484</td>\n",
       "      <td>83.616484</td>\n",
       "      <td>5945</td>\n",
       "      <td>63.311716</td>\n",
       "      <td>0.000000</td>\n",
       "      <td>79.031498</td>\n",
       "      <td>0.000000</td>\n",
       "    </tr>\n",
       "    <tr>\n",
       "      <td>5</td>\n",
       "      <td>0.333800</td>\n",
       "      <td>No log</td>\n",
       "      <td>62.376821</td>\n",
       "      <td>78.434245</td>\n",
       "      <td>11873</td>\n",
       "      <td>43.758435</td>\n",
       "      <td>75.919331</td>\n",
       "      <td>5928</td>\n",
       "      <td>80.941968</td>\n",
       "      <td>80.941968</td>\n",
       "      <td>5945</td>\n",
       "      <td>62.376821</td>\n",
       "      <td>0.000000</td>\n",
       "      <td>78.434245</td>\n",
       "      <td>0.000000</td>\n",
       "    </tr>\n",
       "    <tr>\n",
       "      <td>6</td>\n",
       "      <td>0.261200</td>\n",
       "      <td>No log</td>\n",
       "      <td>61.736714</td>\n",
       "      <td>78.058323</td>\n",
       "      <td>11873</td>\n",
       "      <td>44.163293</td>\n",
       "      <td>76.853317</td>\n",
       "      <td>5928</td>\n",
       "      <td>79.259882</td>\n",
       "      <td>79.259882</td>\n",
       "      <td>5945</td>\n",
       "      <td>61.736714</td>\n",
       "      <td>0.000000</td>\n",
       "      <td>78.058323</td>\n",
       "      <td>0.000000</td>\n",
       "    </tr>\n",
       "    <tr>\n",
       "      <td>7</td>\n",
       "      <td>0.200900</td>\n",
       "      <td>No log</td>\n",
       "      <td>61.475617</td>\n",
       "      <td>77.998413</td>\n",
       "      <td>11873</td>\n",
       "      <td>43.437922</td>\n",
       "      <td>76.530897</td>\n",
       "      <td>5928</td>\n",
       "      <td>79.461733</td>\n",
       "      <td>79.461733</td>\n",
       "      <td>5945</td>\n",
       "      <td>61.475617</td>\n",
       "      <td>0.000000</td>\n",
       "      <td>77.998413</td>\n",
       "      <td>0.000000</td>\n",
       "    </tr>\n",
       "  </tbody>\n",
       "</table><p>"
      ],
      "text/plain": [
       "<IPython.core.display.HTML object>"
      ]
     },
     "metadata": {},
     "output_type": "display_data"
    },
    {
     "data": {
      "application/vnd.jupyter.widget-view+json": {
       "model_id": "6ce8e2711bce44b6ba41e2026bab761b",
       "version_major": 2,
       "version_minor": 0
      },
      "text/plain": [
       "  0%|          | 0/11873 [00:00<?, ?it/s]"
      ]
     },
     "metadata": {},
     "output_type": "display_data"
    },
    {
     "data": {
      "application/vnd.jupyter.widget-view+json": {
       "model_id": "564b214753ca4c19b898abe8e4bd345b",
       "version_major": 2,
       "version_minor": 0
      },
      "text/plain": [
       "  0%|          | 0/11873 [00:00<?, ?it/s]"
      ]
     },
     "metadata": {},
     "output_type": "display_data"
    },
    {
     "data": {
      "application/vnd.jupyter.widget-view+json": {
       "model_id": "8a565425b7d64d21a04043d48c6c268c",
       "version_major": 2,
       "version_minor": 0
      },
      "text/plain": [
       "  0%|          | 0/11873 [00:00<?, ?it/s]"
      ]
     },
     "metadata": {},
     "output_type": "display_data"
    },
    {
     "data": {
      "application/vnd.jupyter.widget-view+json": {
       "model_id": "ecbefee49b0c4b23a8fdfc89fa84bdd7",
       "version_major": 2,
       "version_minor": 0
      },
      "text/plain": [
       "  0%|          | 0/11873 [00:00<?, ?it/s]"
      ]
     },
     "metadata": {},
     "output_type": "display_data"
    },
    {
     "data": {
      "application/vnd.jupyter.widget-view+json": {
       "model_id": "d7276cfde9e04a9f9533e92c2ae31647",
       "version_major": 2,
       "version_minor": 0
      },
      "text/plain": [
       "  0%|          | 0/11873 [00:00<?, ?it/s]"
      ]
     },
     "metadata": {},
     "output_type": "display_data"
    },
    {
     "data": {
      "application/vnd.jupyter.widget-view+json": {
       "model_id": "65fd93f244f4488e816b6a8447a4ed6d",
       "version_major": 2,
       "version_minor": 0
      },
      "text/plain": [
       "  0%|          | 0/11873 [00:00<?, ?it/s]"
      ]
     },
     "metadata": {},
     "output_type": "display_data"
    },
    {
     "data": {
      "application/vnd.jupyter.widget-view+json": {
       "model_id": "edb5a4df41974e38be878aadde6bec74",
       "version_major": 2,
       "version_minor": 0
      },
      "text/plain": [
       "  0%|          | 0/11873 [00:00<?, ?it/s]"
      ]
     },
     "metadata": {},
     "output_type": "display_data"
    },
    {
     "name": "stdout",
     "output_type": "stream",
     "text": [
      "Stopping training: No improvement in eval_f1 for 3 epochs\n"
     ]
    },
    {
     "data": {
      "text/plain": [
       "TrainOutput(global_step=56448, training_loss=0.5255873316810244, metrics={'train_runtime': 13342.2004, 'train_samples_per_second': 96.699, 'train_steps_per_second': 6.044, 'total_flos': 2.3598389472395674e+17, 'train_loss': 0.5255873316810244, 'epoch': 7.0})"
      ]
     },
     "execution_count": 67,
     "metadata": {},
     "output_type": "execute_result"
    }
   ],
   "source": [
    "no_answer_threshold = 0.02889025697096306\n",
    "\n",
    "model = AutoModelForQuestionAnswering.from_pretrained(pretrained_model_name)\n",
    "training_args = TrainingArguments(\n",
    "    output_dir=f\"./{normalized_model_name}-best_model\",\n",
    "    overwrite_output_dir = True,\n",
    "    metric_for_best_model='f1',\n",
    "    greater_is_better=True,\n",
    "    load_best_model_at_end=True,\n",
    "    save_total_limit=4, \n",
    "    eval_strategy=\"epoch\",\n",
    "    save_strategy=\"epoch\",\n",
    "    num_train_epochs=10,\n",
    "    report_to=\"wandb\",  # Enable logging to Weights & Biases\n",
    "    run_name=f\"{normalized_model_name}-best_model\",\n",
    "    learning_rate=2.1932010420330285e-05,\n",
    "    per_device_train_batch_size=16,\n",
    "    per_device_eval_batch_size=16,\n",
    "    warmup_ratio=0,\n",
    "    weight_decay=0.007873328004520265,\n",
    "    adam_beta1=0.8005808315798295,\n",
    "    adam_beta2=0.9989500255906361,\n",
    "    adam_epsilon=9.408072279198825e-07,\n",
    "    lr_scheduler_type='cosine_with_restarts',\n",
    "    fp16=True,  # Enable mixed-precision training\n",
    ")\n",
    "\n",
    "trainer = QuestionAnsweringTrainer(\n",
    "        model=model,\n",
    "        args=training_args,\n",
    "        train_dataset=train_dataset,\n",
    "        eval_dataset=eval_dataset,\n",
    "        eval_examples=eval_examples,\n",
    "        tokenizer=tokenizer,\n",
    "        data_collator=data_collator,\n",
    "        post_process_function=post_processing_function,\n",
    "        compute_metrics=compute_metrics,\n",
    "        callbacks=[AdvancedEarlyStoppingCallback(metric_name='eval_f1', patience=3, threshold=70)]\n",
    ")\n",
    "\n",
    "trainer.train()"
   ]
  },
  {
   "cell_type": "code",
   "execution_count": null,
   "id": "4b74387a-a141-4ac1-96bc-81d7ff676562",
   "metadata": {},
   "outputs": [],
   "source": []
  }
 ],
 "metadata": {
  "kernelspec": {
   "display_name": "compsci714win",
   "language": "python",
   "name": "compsci714win"
  },
  "language_info": {
   "codemirror_mode": {
    "name": "ipython",
    "version": 3
   },
   "file_extension": ".py",
   "mimetype": "text/x-python",
   "name": "python",
   "nbconvert_exporter": "python",
   "pygments_lexer": "ipython3",
   "version": "3.10.14"
  }
 },
 "nbformat": 4,
 "nbformat_minor": 5
}
