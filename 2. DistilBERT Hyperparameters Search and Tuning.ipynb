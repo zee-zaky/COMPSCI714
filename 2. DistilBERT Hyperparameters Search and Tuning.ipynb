{
 "cells": [
  {
   "cell_type": "markdown",
   "id": "be8de38f-6e25-435b-a623-a1e99239ae84",
   "metadata": {
    "tags": []
   },
   "source": [
    "## 0. Imports, libraries and rusable functions"
   ]
  },
  {
   "cell_type": "code",
   "execution_count": 18,
   "id": "a65cc85a-e4ba-49a4-8f35-5b640c44af06",
   "metadata": {
    "tags": []
   },
   "outputs": [],
   "source": [
    "# Standard Library Imports\n",
    "import ast\n",
    "import copy\n",
    "import csv\n",
    "import json\n",
    "import math\n",
    "import os\n",
    "import re\n",
    "import time\n",
    "import warnings\n",
    "import logging\n",
    "import random\n",
    "import collections\n",
    "from collections import Counter\n",
    "from typing import List, Tuple, Optional\n",
    "from IPython.display import HTML, display\n",
    "import math\n",
    "import time\n",
    "from unidecode import unidecode\n",
    "\n",
    "\n",
    "# Data Handling Libraries\n",
    "import numpy as np\n",
    "import pandas as pd\n",
    "import csv\n",
    "from torch.utils.data import random_split\n",
    "import datasets\n",
    "from datasets import ClassLabel, Sequence\n",
    "\n",
    "# Data Visualization Libraries\n",
    "import matplotlib.pyplot as plt\n",
    "import seaborn as sns\n",
    "# import scikitplot as skplt  # Uncomment if scikit-plot is installed and needed\n",
    "\n",
    "# Machine Learning: Model Preparation\n",
    "from sklearn.metrics import accuracy_score, confusion_matrix, precision_recall_fscore_support\n",
    "from sklearn.model_selection import cross_val_score, cross_validate, KFold, train_test_split\n",
    "from sklearn.preprocessing import MinMaxScaler\n",
    "\n",
    "# Machine Learning: Models and Frameworks\n",
    "import tensorflow as tf\n",
    "import torch\n",
    "import evaluate\n",
    "import xgboost\n",
    "import wandb\n",
    "from xgboost import plot_importance  # Uncomment if xgboost importance plot is required\n",
    "\n",
    "\n",
    "# NLP and Transformers\n",
    "from transformers import (AdamW, AutoModelForSequenceClassification, AutoModelForQuestionAnswering,\n",
    "                          AutoTokenizer, CamembertForSequenceClassification, DistilBertConfig,\n",
    "                          DistilBertForSequenceClassification, DistilBertModel, EarlyStoppingCallback,\n",
    "                          get_linear_schedule_with_warmup, RobertaForSequenceClassification, EvalPrediction,\n",
    "                          Trainer, TrainerCallback, TrainingArguments, XLMRobertaForSequenceClassification,\n",
    "                         DefaultDataCollator, BertForQuestionAnswering, DataCollatorWithPadding, PreTrainedTokenizerFast,\n",
    "                         default_data_collator, is_torch_xla_available)\n",
    "from datasets import Dataset, DatasetDict, load_dataset\n",
    "from transformers.trainer_utils import PredictionOutput, speed_metrics\n",
    "\n",
    "# Experiment Tracking and Optimization Utilities\n",
    "import optuna\n",
    "from optuna.trial import TrialState\n",
    "# import wandb  # Uncomment if using Weights & Biases for experiment tracking\n",
    "\n",
    "# Progress Bar Utilities\n",
    "from tqdm.notebook import tqdm\n"
   ]
  },
  {
   "cell_type": "code",
   "execution_count": 20,
   "id": "e7e79a74-41b2-4df5-9907-81609b0a4664",
   "metadata": {
    "tags": []
   },
   "outputs": [
    {
     "name": "stderr",
     "output_type": "stream",
     "text": [
      "wandb: Currently logged in as: mzak071 (COMPSCI714). Use `wandb login --relogin` to force relogin\n"
     ]
    },
    {
     "data": {
      "text/plain": [
       "True"
      ]
     },
     "execution_count": 20,
     "metadata": {},
     "output_type": "execute_result"
    }
   ],
   "source": [
    "#wandb.login(key='8f7092f0fdaf14add2b4cc07cb0e740080cdd8e7')\n",
    "wandb.login()"
   ]
  },
  {
   "cell_type": "code",
   "execution_count": 21,
   "id": "43b5ec0c-43fd-4678-90d7-23aec61145bd",
   "metadata": {
    "tags": []
   },
   "outputs": [
    {
     "name": "stdout",
     "output_type": "stream",
     "text": [
      "GPU: NVIDIA GeForce RTX 4070 Ti SUPER is available.\n",
      "cuda\n"
     ]
    }
   ],
   "source": [
    "class LoggingCallback(TrainerCallback):\n",
    "    def __init__(self, log_path):\n",
    "        self.log_path = log_path\n",
    "    def on_log(self, args, state, control, logs=None, **kwargs):\n",
    "        _ = logs.pop(\"total_flos\", None)\n",
    "        if state.is_local_process_zero:\n",
    "            with open(self.log_path, \"a\") as f:\n",
    "                f.write(json.dumps(logs) + \"\\n\")\n",
    "\n",
    "if torch.cuda.is_available():\n",
    "    print(f\"GPU: {torch.cuda.get_device_name(0)} is available.\")\n",
    "else:\n",
    "    print(\"No GPU available. Training will run on CPU.\")\n",
    "\n",
    "device = torch.device(\"cuda\" if torch.cuda.is_available() else \"cpu\")\n",
    "print(device)"
   ]
  },
  {
   "cell_type": "markdown",
   "id": "c99df6ec-d898-46f9-b70e-ae04b589fc5d",
   "metadata": {
    "tags": []
   },
   "source": [
    "## 1. Global Variables"
   ]
  },
  {
   "cell_type": "code",
   "execution_count": 23,
   "id": "48397c5d-36bd-4131-91d3-2d999fba6bf6",
   "metadata": {
    "tags": []
   },
   "outputs": [],
   "source": [
    "## Arguments and global vriables\n",
    "global_doc_stride = 128\n",
    "pretrained_model_name = \"distilbert-base-cased\"\n",
    "normalized_model_name = pretrained_model_name.replace(\"/\", \"-\")\n",
    "tokenizer = AutoTokenizer.from_pretrained(pretrained_model_name)\n",
    "assert isinstance( tokenizer, PreTrainedTokenizerFast )\n",
    "data_collator = DefaultDataCollator()\n",
    "max_seq_length = tokenizer.model_max_length\n",
    "version_2_with_negative = True\n",
    "no_answer_threshold = 0.0166\n",
    "right_padding = tokenizer.padding_side == 'right'\n",
    "global_counter = 0\n",
    "traing_answer_mismatches = []\n",
    "logger = logging.getLogger(__name__)\n",
    "global train_dataset\n",
    "global eval_dataset\n",
    "global cleaned_training_dataset"
   ]
  },
  {
   "cell_type": "markdown",
   "id": "422e5e8a-5629-4c28-9b45-5517ea8d2595",
   "metadata": {
    "tags": []
   },
   "source": [
    "## 1. Q&A Reusable Functions"
   ]
  },
  {
   "cell_type": "code",
   "execution_count": 25,
   "id": "6d9332f3-fb9e-4f2d-9fa8-1f0f93568b0a",
   "metadata": {
    "tags": []
   },
   "outputs": [],
   "source": [
    "### Compute_metrics function for Question and Answering problem is different to classification, more preocessing required.\n",
    "metric = evaluate.load(\"squad_v2\")\n",
    "\n",
    "def compute_metrics(p: EvalPrediction):\n",
    "        return metric.compute(predictions=p.predictions, references=p.label_ids)"
   ]
  },
  {
   "cell_type": "code",
   "execution_count": 28,
   "id": "0f7dfb04-f23c-4bf8-af88-4a33c6ad3c14",
   "metadata": {
    "tags": []
   },
   "outputs": [],
   "source": [
    "\"\"\"\n",
    "A subclass of `Trainer` specific to Question-Answering tasks\n",
    "\"\"\"\n",
    "\n",
    "if is_torch_xla_available():\n",
    "    import torch_xla.core.xla_model as xm\n",
    "    import torch_xla.debug.metrics as met\n",
    "\n",
    "\n",
    "class QuestionAnsweringTrainer(Trainer):\n",
    "    def __init__(self, *args, eval_examples=None, post_process_function=None, **kwargs):\n",
    "        super().__init__(*args, **kwargs)\n",
    "        self.eval_examples = eval_examples\n",
    "        self.post_process_function = post_process_function\n",
    "\n",
    "    def evaluate(self, eval_dataset=None, eval_examples=None, ignore_keys=None, metric_key_prefix: str = \"eval\"):\n",
    "        eval_dataset = self.eval_dataset if eval_dataset is None else eval_dataset\n",
    "        eval_dataloader = self.get_eval_dataloader(eval_dataset)\n",
    "        eval_examples = self.eval_examples if eval_examples is None else eval_examples\n",
    "\n",
    "        # Temporarily disable metric computation, we will do it in the loop here.\n",
    "        compute_metrics = self.compute_metrics\n",
    "        self.compute_metrics = None\n",
    "        eval_loop = self.prediction_loop if self.args.use_legacy_prediction_loop else self.evaluation_loop\n",
    "        start_time = time.time()\n",
    "        try:\n",
    "            output = eval_loop(\n",
    "                eval_dataloader,\n",
    "                description=\"Evaluation\",\n",
    "                # No point gathering the predictions if there are no metrics, otherwise we defer to\n",
    "                # self.args.prediction_loss_only\n",
    "                prediction_loss_only=True if compute_metrics is None else None,\n",
    "                ignore_keys=ignore_keys,\n",
    "                metric_key_prefix=metric_key_prefix,\n",
    "            )\n",
    "        finally:\n",
    "            self.compute_metrics = compute_metrics\n",
    "        total_batch_size = self.args.eval_batch_size * self.args.world_size\n",
    "        if f\"{metric_key_prefix}_jit_compilation_time\" in output.metrics:\n",
    "            start_time += output.metrics[f\"{metric_key_prefix}_jit_compilation_time\"]\n",
    "        output.metrics.update(\n",
    "            speed_metrics(\n",
    "                metric_key_prefix,\n",
    "                start_time,\n",
    "                num_samples=output.num_samples,\n",
    "                num_steps=math.ceil(output.num_samples / total_batch_size),\n",
    "            )\n",
    "        )\n",
    "        if self.post_process_function is not None and self.compute_metrics is not None and self.args.should_save:\n",
    "            # Only the main node write the results by default\n",
    "            eval_preds = self.post_process_function(eval_examples, eval_dataset, output.predictions)\n",
    "            metrics = self.compute_metrics(eval_preds)\n",
    "\n",
    "            # Prefix all keys with metric_key_prefix + '_'\n",
    "            for key in list(metrics.keys()):\n",
    "                if not key.startswith(f\"{metric_key_prefix}_\"):\n",
    "                    metrics[f\"{metric_key_prefix}_{key}\"] = metrics.pop(key)\n",
    "            metrics.update(output.metrics)\n",
    "        else:\n",
    "            metrics = output.metrics\n",
    "\n",
    "        if self.args.should_log:\n",
    "            # Only the main node log the results by default\n",
    "            self.log(metrics)\n",
    "\n",
    "        if self.args.tpu_metrics_debug or self.args.debug:\n",
    "            # tpu-comment: Logging debug metrics for PyTorch/XLA (compile, execute times, ops, etc.)\n",
    "            xm.master_print(met.metrics_report())\n",
    "\n",
    "        self.control = self.callback_handler.on_evaluate(self.args, self.state, self.control, metrics)\n",
    "        return metrics\n",
    "\n",
    "    def predict(self, predict_dataset, predict_examples, ignore_keys=None, metric_key_prefix: str = \"test\"):\n",
    "        predict_dataloader = self.get_test_dataloader(predict_dataset)\n",
    "\n",
    "        # Temporarily disable metric computation, we will do it in the loop here.\n",
    "        compute_metrics = self.compute_metrics\n",
    "        self.compute_metrics = None\n",
    "        eval_loop = self.prediction_loop if self.args.use_legacy_prediction_loop else self.evaluation_loop\n",
    "        start_time = time.time()\n",
    "        try:\n",
    "            output = eval_loop(\n",
    "                predict_dataloader,\n",
    "                description=\"Prediction\",\n",
    "                # No point gathering the predictions if there are no metrics, otherwise we defer to\n",
    "                # self.args.prediction_loss_only\n",
    "                prediction_loss_only=True if compute_metrics is None else None,\n",
    "                ignore_keys=ignore_keys,\n",
    "                metric_key_prefix=metric_key_prefix,\n",
    "            )\n",
    "        finally:\n",
    "            self.compute_metrics = compute_metrics\n",
    "        total_batch_size = self.args.eval_batch_size * self.args.world_size\n",
    "        if f\"{metric_key_prefix}_jit_compilation_time\" in output.metrics:\n",
    "            start_time += output.metrics[f\"{metric_key_prefix}_jit_compilation_time\"]\n",
    "        output.metrics.update(\n",
    "            speed_metrics(\n",
    "                metric_key_prefix,\n",
    "                start_time,\n",
    "                num_samples=output.num_samples,\n",
    "                num_steps=math.ceil(output.num_samples / total_batch_size),\n",
    "            )\n",
    "        )\n",
    "\n",
    "        if self.post_process_function is None or self.compute_metrics is None:\n",
    "            return output\n",
    "\n",
    "        predictions = self.post_process_function(predict_examples, predict_dataset, output.predictions, \"predict\")\n",
    "        metrics = self.compute_metrics(predictions)\n",
    "\n",
    "        # Prefix all keys with metric_key_prefix + '_'\n",
    "        for key in list(metrics.keys()):\n",
    "            if not key.startswith(f\"{metric_key_prefix}_\"):\n",
    "                metrics[f\"{metric_key_prefix}_{key}\"] = metrics.pop(key)\n",
    "        metrics.update(output.metrics)\n",
    "        return PredictionOutput(predictions=predictions.predictions, label_ids=predictions.label_ids, metrics=metrics)"
   ]
  },
  {
   "cell_type": "code",
   "execution_count": 30,
   "id": "9529d45f-9433-444c-a57d-9c8af9a2d65e",
   "metadata": {
    "tags": []
   },
   "outputs": [],
   "source": [
    "def prepare_validation_features(examples):\n",
    "  # Some of the questions have lots of whitespace on the left, which is not useful and will make the\n",
    "  # truncation of the context fail (the tokenized question will take a lots of space). So we remove that\n",
    "  # left whitespace\n",
    "    examples[\"question\"] = [q.lstrip() for q in examples[\"question\"]]\n",
    "  # Tokenize our examples with truncation and maybe padding, but keep the overflows using a stride. This results\n",
    "  # in one example possible giving several features when a context is long, each of those features having a\n",
    "  # context that overlaps a bit the context of the previous feature.\n",
    "    tokenized_examples = tokenizer(\n",
    "      examples[\"question\"],\n",
    "      examples[\"context\"],\n",
    "      truncation=\"only_second\" if right_padding else \"only_first\",\n",
    "      max_length=max_seq_length,\n",
    "      stride=global_doc_stride,\n",
    "      return_overflowing_tokens=True,\n",
    "      return_offsets_mapping=True,\n",
    "      padding=\"max_length\",\n",
    "  )\n",
    "\n",
    "  # Since one example might give us several features if it has a long context, we need a map from a feature to\n",
    "  # its corresponding example. This key gives us just that.\n",
    "    sample_mapping = tokenized_examples.pop(\"overflow_to_sample_mapping\")\n",
    "\n",
    "  # For evaluation, we will need to convert our predictions to substrings of the context, so we keep the\n",
    "  # corresponding example_id and we will store the offset mappings.\n",
    "    tokenized_examples[\"example_id\"] = []\n",
    "\n",
    "    for i in range(len(tokenized_examples[\"input_ids\"])):\n",
    "      # Grab the sequence corresponding to that example (to know what is the context and what is the question).\n",
    "        sequence_ids = tokenized_examples.sequence_ids(i)\n",
    "        context_index = 0\n",
    "\n",
    "      # One example can give several spans, this is the index of the example containing this span of text.\n",
    "        sample_index = sample_mapping[i]\n",
    "        tokenized_examples[\"example_id\"].append(examples[\"id\"][sample_index])\n",
    "\n",
    "      # Set to None the offset_mapping that are not part of the context so it's easy to determine if a token\n",
    "      # position is part of the context or not.\n",
    "        tokenized_examples[\"offset_mapping\"][i] = [\n",
    "            (o if sequence_ids[k] == context_index else None)\n",
    "            for k, o in enumerate(tokenized_examples[\"offset_mapping\"][i])\n",
    "      ]\n",
    "\n",
    "    return tokenized_examples"
   ]
  },
  {
   "cell_type": "code",
   "execution_count": 31,
   "id": "ee8955f9-eee2-4b36-aa63-6b1f7da7334d",
   "metadata": {},
   "outputs": [],
   "source": [
    "# Validation preprocessing\n",
    "def prepare_validation_features(examples):\n",
    "    # Some of the questions have lots of whitespace on the left, which is not useful and will make the\n",
    "    # truncation of the context fail (the tokenized question will take a lots of space). So we remove that\n",
    "    # left whitespace\n",
    "    examples[\"question\"] = [q.lstrip() for q in examples[\"question\"]]\n",
    "\n",
    "    # Tokenize our examples with truncation and maybe padding, but keep the overflows using a stride. This results\n",
    "    # in one example possible giving several features when a context is long, each of those features having a\n",
    "    # context that overlaps a bit the context of the previous feature.\n",
    "    tokenized_examples = tokenizer(\n",
    "        examples[\"question\" if right_padding else \"context\"],\n",
    "        examples[\"context\" if right_padding else \"question\"],\n",
    "        truncation=\"only_second\" if right_padding else \"only_first\",\n",
    "        max_length=max_seq_length,\n",
    "        stride=global_doc_stride,\n",
    "        return_overflowing_tokens=True,\n",
    "        return_offsets_mapping=True,\n",
    "        padding=\"max_length\",\n",
    "    )\n",
    "\n",
    "    # Since one example might give us several features if it has a long context, we need a map from a feature to\n",
    "    # its corresponding example. This key gives us just that.\n",
    "    sample_mapping = tokenized_examples.pop(\"overflow_to_sample_mapping\")\n",
    "\n",
    "    # For evaluation, we will need to convert our predictions to substrings of the context, so we keep the\n",
    "    # corresponding example_id and we will store the offset mappings.\n",
    "    tokenized_examples[\"example_id\"] = []\n",
    "\n",
    "    for i in range(len(tokenized_examples[\"input_ids\"])):\n",
    "        # Grab the sequence corresponding to that example (to know what is the context and what is the question).\n",
    "        sequence_ids = tokenized_examples.sequence_ids(i)\n",
    "        context_index = 1 if right_padding else 0\n",
    "\n",
    "        # One example can give several spans, this is the index of the example containing this span of text.\n",
    "        sample_index = sample_mapping[i]\n",
    "        tokenized_examples[\"example_id\"].append(examples[\"id\"][sample_index])\n",
    "\n",
    "        # Set to None the offset_mapping that are not part of the context so it's easy to determine if a token\n",
    "        # position is part of the context or not.\n",
    "        tokenized_examples[\"offset_mapping\"][i] = [\n",
    "            (o if sequence_ids[k] == context_index else None)\n",
    "            for k, o in enumerate(tokenized_examples[\"offset_mapping\"][i])\n",
    "        ]\n",
    "\n",
    "    return tokenized_examples"
   ]
  },
  {
   "cell_type": "code",
   "execution_count": 32,
   "id": "46fd26da-ec5a-4d8c-88bd-b75f41388a74",
   "metadata": {},
   "outputs": [],
   "source": [
    "# Post-processing:\n",
    "def post_processing_function(examples, features, predictions, stage=\"eval\"):\n",
    "    # Post-processing: we match the start logits and end logits to answers in the original context.\n",
    "    predictions = postprocess_qa_predictions(\n",
    "        examples=examples,\n",
    "        features=features,\n",
    "        predictions=predictions,\n",
    "        version_2_with_negative=version_2_with_negative, #If true, some of the examples do not have an answer.\n",
    "        n_best_size=20, #The total number of n-best predictions to generate when looking for an answer.\n",
    "        max_answer_length=30, #The maximum length of an answer that can be generated. This is needed because the start and end predictions are not conditioned on one another.\n",
    "        null_score_diff_threshold=no_answer_threshold, #The threshold used to select the null answer: if the best answer has a score that is less than the score of the null answer minus this threshold, the null answer is selected for this example. Only useful when `version_2_with_negative=True`.\n",
    "        output_dir= None,\n",
    "        log_level=logging.WARNING,\n",
    "        prefix=stage,\n",
    "    )\n",
    "    # Format the result to the format the metric expects.\n",
    "    if version_2_with_negative:\n",
    "        formatted_predictions = [\n",
    "                {\"id\": str(k), \"prediction_text\": v, \"no_answer_probability\": 0.0} for k, v in predictions.items()\n",
    "            ]\n",
    "    else:\n",
    "        formatted_predictions = [{\"id\": str(k), \"prediction_text\": v} for k, v in predictions.items()]\n",
    "    \n",
    "    \n",
    "    references = [{\"id\": str(ex[\"id\"]), \"answers\": ex[\"answers\"]} for ex in examples]\n",
    "    return EvalPrediction(predictions=formatted_predictions, label_ids=references)"
   ]
  },
  {
   "cell_type": "code",
   "execution_count": 33,
   "id": "2d015b7f-512d-4a66-87e4-8b2949701bef",
   "metadata": {},
   "outputs": [],
   "source": [
    "def postprocess_qa_predictions(\n",
    "    examples,\n",
    "    features,\n",
    "    predictions: Tuple[np.ndarray, np.ndarray],\n",
    "    version_2_with_negative: bool = False,\n",
    "    n_best_size: int = 20,\n",
    "    max_answer_length: int = 30,\n",
    "    null_score_diff_threshold: float = 0.0,\n",
    "    output_dir: Optional[str] = None,\n",
    "    prefix: Optional[str] = None,\n",
    "    log_level: Optional[int] = logging.WARNING,\n",
    "):\n",
    "    \"\"\"\n",
    "    Post-processes the predictions of a question-answering model to convert them to answers that are substrings of the\n",
    "    original contexts. This is the base postprocessing functions for models that only return start and end logits.\n",
    "\n",
    "    Args:\n",
    "        examples: The non-preprocessed dataset (see the main script for more information).\n",
    "        features: The processed dataset (see the main script for more information).\n",
    "        predictions (:obj:`Tuple[np.ndarray, np.ndarray]`):\n",
    "            The predictions of the model: two arrays containing the start logits and the end logits respectively. Its\n",
    "            first dimension must match the number of elements of :obj:`features`.\n",
    "        version_2_with_negative (:obj:`bool`, `optional`, defaults to :obj:`False`):\n",
    "            Whether or not the underlying dataset contains examples with no answers.\n",
    "        n_best_size (:obj:`int`, `optional`, defaults to 20):\n",
    "            The total number of n-best predictions to generate when looking for an answer.\n",
    "        max_answer_length (:obj:`int`, `optional`, defaults to 30):\n",
    "            The maximum length of an answer that can be generated. This is needed because the start and end predictions\n",
    "            are not conditioned on one another.\n",
    "        null_score_diff_threshold (:obj:`float`, `optional`, defaults to 0):\n",
    "            The threshold used to select the null answer: if the best answer has a score that is less than the score of\n",
    "            the null answer minus this threshold, the null answer is selected for this example (note that the score of\n",
    "            the null answer for an example giving several features is the minimum of the scores for the null answer on\n",
    "            each feature: all features must be aligned on the fact they `want` to predict a null answer).\n",
    "\n",
    "            Only useful when :obj:`version_2_with_negative` is :obj:`True`.\n",
    "        output_dir (:obj:`str`, `optional`):\n",
    "            If provided, the dictionaries of predictions, n_best predictions (with their scores and logits) and, if\n",
    "            :obj:`version_2_with_negative=True`, the dictionary of the scores differences between best and null\n",
    "            answers, are saved in `output_dir`.\n",
    "        prefix (:obj:`str`, `optional`):\n",
    "            If provided, the dictionaries mentioned above are saved with `prefix` added to their names.\n",
    "        log_level (:obj:`int`, `optional`, defaults to ``logging.WARNING``):\n",
    "            ``logging`` log level (e.g., ``logging.WARNING``)\n",
    "    \"\"\"\n",
    "    if len(predictions) != 2:\n",
    "        raise ValueError(\"`predictions` should be a tuple with two elements (start_logits, end_logits).\")\n",
    "    all_start_logits, all_end_logits = predictions\n",
    "\n",
    "    if len(predictions[0]) != len(features):\n",
    "        raise ValueError(f\"Got {len(predictions[0])} predictions and {len(features)} features.\")\n",
    "\n",
    "    # Build a map example to its corresponding features.\n",
    "    example_id_to_index = {k: i for i, k in enumerate(examples[\"id\"])}\n",
    "    features_per_example = collections.defaultdict(list)\n",
    "    for i, feature in enumerate(features):\n",
    "        features_per_example[example_id_to_index[feature[\"example_id\"]]].append(i)\n",
    "\n",
    "    # The dictionaries we have to fill.\n",
    "    all_predictions = collections.OrderedDict()\n",
    "    all_nbest_json = collections.OrderedDict()\n",
    "    if version_2_with_negative:\n",
    "        scores_diff_json = collections.OrderedDict()\n",
    "\n",
    "    # Logging.\n",
    "    logger.setLevel(log_level)\n",
    "    logger.info(f\"Post-processing {len(examples)} example predictions split into {len(features)} features.\")\n",
    "\n",
    "    # Let's loop over all the examples!\n",
    "    for example_index, example in enumerate(tqdm(examples)):\n",
    "        # Those are the indices of the features associated to the current example.\n",
    "        feature_indices = features_per_example[example_index]\n",
    "\n",
    "        min_null_prediction = None\n",
    "        prelim_predictions = []\n",
    "\n",
    "        # Looping through all the features associated to the current example.\n",
    "        for feature_index in feature_indices:\n",
    "            # We grab the predictions of the model for this feature.\n",
    "            start_logits = all_start_logits[feature_index]\n",
    "            end_logits = all_end_logits[feature_index]\n",
    "            # This is what will allow us to map some the positions in our logits to span of texts in the original\n",
    "            # context.\n",
    "            offset_mapping = features[feature_index][\"offset_mapping\"]\n",
    "            # Optional `token_is_max_context`, if provided we will remove answers that do not have the maximum context\n",
    "            # available in the current feature.\n",
    "            token_is_max_context = features[feature_index].get(\"token_is_max_context\", None)\n",
    "\n",
    "            # Update minimum null prediction.\n",
    "            feature_null_score = start_logits[0] + end_logits[0]\n",
    "            if min_null_prediction is None or min_null_prediction[\"score\"] > feature_null_score:\n",
    "                min_null_prediction = {\n",
    "                    \"offsets\": (0, 0),\n",
    "                    \"score\": feature_null_score,\n",
    "                    \"start_logit\": start_logits[0],\n",
    "                    \"end_logit\": end_logits[0],\n",
    "                }\n",
    "\n",
    "            # Go through all possibilities for the `n_best_size` greater start and end logits.\n",
    "            start_indexes = np.argsort(start_logits)[-1 : -n_best_size - 1 : -1].tolist()\n",
    "            end_indexes = np.argsort(end_logits)[-1 : -n_best_size - 1 : -1].tolist()\n",
    "            for start_index in start_indexes:\n",
    "                for end_index in end_indexes:\n",
    "                    # Don't consider out-of-scope answers, either because the indices are out of bounds or correspond\n",
    "                    # to part of the input_ids that are not in the context.\n",
    "                    if (\n",
    "                        start_index >= len(offset_mapping)\n",
    "                        or end_index >= len(offset_mapping)\n",
    "                        or offset_mapping[start_index] is None\n",
    "                        or len(offset_mapping[start_index]) < 2\n",
    "                        or offset_mapping[end_index] is None\n",
    "                        or len(offset_mapping[end_index]) < 2\n",
    "                    ):\n",
    "                        continue\n",
    "                    # Don't consider answers with a length that is either < 0 or > max_answer_length.\n",
    "                    if end_index < start_index or end_index - start_index + 1 > max_answer_length:\n",
    "                        continue\n",
    "                    # Don't consider answer that don't have the maximum context available (if such information is\n",
    "                    # provided).\n",
    "                    if token_is_max_context is not None and not token_is_max_context.get(str(start_index), False):\n",
    "                        continue\n",
    "\n",
    "                    prelim_predictions.append(\n",
    "                        {\n",
    "                            \"offsets\": (offset_mapping[start_index][0], offset_mapping[end_index][1]),\n",
    "                            \"score\": start_logits[start_index] + end_logits[end_index],\n",
    "                            \"start_logit\": start_logits[start_index],\n",
    "                            \"end_logit\": end_logits[end_index],\n",
    "                        }\n",
    "                    )\n",
    "        if version_2_with_negative and min_null_prediction is not None:\n",
    "            # Add the minimum null prediction\n",
    "            prelim_predictions.append(min_null_prediction)\n",
    "            null_score = min_null_prediction[\"score\"]\n",
    "\n",
    "        # Only keep the best `n_best_size` predictions.\n",
    "        predictions = sorted(prelim_predictions, key=lambda x: x[\"score\"], reverse=True)[:n_best_size]\n",
    "\n",
    "        # Add back the minimum null prediction if it was removed because of its low score.\n",
    "        if (\n",
    "            version_2_with_negative\n",
    "            and min_null_prediction is not None\n",
    "            and not any(p[\"offsets\"] == (0, 0) for p in predictions)\n",
    "        ):\n",
    "            predictions.append(min_null_prediction)\n",
    "\n",
    "        # Use the offsets to gather the answer text in the original context.\n",
    "        context = example[\"context\"]\n",
    "        for pred in predictions:\n",
    "            offsets = pred.pop(\"offsets\")\n",
    "            pred[\"text\"] = context[offsets[0] : offsets[1]]\n",
    "\n",
    "        # In the very rare edge case we have not a single non-null prediction, we create a fake prediction to avoid\n",
    "        # failure.\n",
    "        if len(predictions) == 0 or (len(predictions) == 1 and predictions[0][\"text\"] == \"\"):\n",
    "            predictions.insert(0, {\"text\": \"empty\", \"start_logit\": 0.0, \"end_logit\": 0.0, \"score\": 0.0})\n",
    "\n",
    "        # Compute the softmax of all scores (we do it with numpy to stay independent from torch/tf in this file, using\n",
    "        # the LogSumExp trick).\n",
    "        scores = np.array([pred.pop(\"score\") for pred in predictions])\n",
    "        exp_scores = np.exp(scores - np.max(scores))\n",
    "        probs = exp_scores / exp_scores.sum()\n",
    "\n",
    "        # Include the probabilities in our predictions.\n",
    "        for prob, pred in zip(probs, predictions):\n",
    "            pred[\"probability\"] = prob\n",
    "\n",
    "        # Pick the best prediction. If the null answer is not possible, this is easy.\n",
    "        if not version_2_with_negative:\n",
    "            all_predictions[example[\"id\"]] = predictions[0][\"text\"]\n",
    "        else:\n",
    "            # Otherwise we first need to find the best non-empty prediction.\n",
    "            i = 0\n",
    "            while predictions[i][\"text\"] == \"\":\n",
    "                i += 1\n",
    "            best_non_null_pred = predictions[i]\n",
    "\n",
    "            # Then we compare to the null prediction using the threshold.\n",
    "            score_diff = null_score - best_non_null_pred[\"start_logit\"] - best_non_null_pred[\"end_logit\"]\n",
    "            scores_diff_json[example[\"id\"]] = float(score_diff)  # To be JSON-serializable.\n",
    "            if score_diff > null_score_diff_threshold:\n",
    "                all_predictions[example[\"id\"]] = \"\"\n",
    "            else:\n",
    "                all_predictions[example[\"id\"]] = best_non_null_pred[\"text\"]\n",
    "\n",
    "        # Make `predictions` JSON-serializable by casting np.float back to float.\n",
    "        all_nbest_json[example[\"id\"]] = [\n",
    "            {k: (float(v) if isinstance(v, (np.float16, np.float32, np.float64)) else v) for k, v in pred.items()}\n",
    "            for pred in predictions\n",
    "        ]\n",
    "\n",
    "    # If we have an output_dir, let's save all those dicts.\n",
    "    if output_dir is not None:\n",
    "        if not os.path.isdir(output_dir):\n",
    "            raise EnvironmentError(f\"{output_dir} is not a directory.\")\n",
    "\n",
    "        prediction_file = os.path.join(\n",
    "            output_dir, \"predictions.json\" if prefix is None else f\"{prefix}_predictions.json\"\n",
    "        )\n",
    "        nbest_file = os.path.join(\n",
    "            output_dir, \"nbest_predictions.json\" if prefix is None else f\"{prefix}_nbest_predictions.json\"\n",
    "        )\n",
    "        if version_2_with_negative:\n",
    "            null_odds_file = os.path.join(\n",
    "                output_dir, \"null_odds.json\" if prefix is None else f\"{prefix}_null_odds.json\"\n",
    "            )\n",
    "\n",
    "        logger.info(f\"Saving predictions to {prediction_file}.\")\n",
    "        with open(prediction_file, \"w\") as writer:\n",
    "            writer.write(json.dumps(all_predictions, indent=4) + \"\\n\")\n",
    "        logger.info(f\"Saving nbest_preds to {nbest_file}.\")\n",
    "        with open(nbest_file, \"w\") as writer:\n",
    "            writer.write(json.dumps(all_nbest_json, indent=4) + \"\\n\")\n",
    "        if version_2_with_negative:\n",
    "            logger.info(f\"Saving null_odds to {null_odds_file}.\")\n",
    "            with open(null_odds_file, \"w\") as writer:\n",
    "                writer.write(json.dumps(scores_diff_json, indent=4) + \"\\n\")\n",
    "\n",
    "    return all_predictions"
   ]
  },
  {
   "cell_type": "code",
   "execution_count": 34,
   "id": "aa993870-b078-4b43-ad6b-c11aa40c47ef",
   "metadata": {},
   "outputs": [],
   "source": [
    "# List of questions to debug\n",
    "debug_questions = [\n",
    "    \"What ideology was sponsored at the Ming court?\",\n",
    "    \"Who stopped their trips to Ming China?\",\n",
    "    \"Another question of interest\"\n",
    "]\n",
    "\n",
    "# Training preprocessing\n",
    "def preprocess_function(examples):\n",
    "    # Some of the questions have lots of whitespace on the left, which is not useful and will make the\n",
    "    # truncation of the context fail (the tokenized question will take a lots of space). So we remove that\n",
    "    # left whitespace\n",
    "    examples[\"question\"] = [q.lstrip() for q in examples[\"question\"]]\n",
    "\n",
    "    # Tokenize our examples with truncation and padding, but keep the overflows using a stride. This results\n",
    "    # in one example possible giving several features when a context is long, each of those features having a\n",
    "    # context that overlaps a bit the context of the previous feature.\n",
    "    tokenized_examples = tokenizer(\n",
    "        examples[\"question\" if right_padding else \"context\"],\n",
    "        examples[\"context\" if right_padding else \"question\"],\n",
    "        truncation=\"only_second\" if right_padding else \"only_first\",\n",
    "        max_length=max_seq_length,\n",
    "        stride=global_doc_stride,\n",
    "        return_overflowing_tokens=True,\n",
    "        return_offsets_mapping=True,\n",
    "        padding=\"max_length\",\n",
    "    )\n",
    "\n",
    "    # Since one example might give us several features if it has a long context, we need a map from a feature to\n",
    "    # its corresponding example. This key gives us just that.\n",
    "    sample_mapping = tokenized_examples.pop(\"overflow_to_sample_mapping\")\n",
    "    # The offset mappings will give us a map from token to character position in the original context. This will\n",
    "    # help us compute the start_positions and end_positions.\n",
    "    offset_mapping = tokenized_examples.pop(\"offset_mapping\")\n",
    "\n",
    "    # Let's label those examples!\n",
    "    tokenized_examples[\"start_positions\"] = []\n",
    "    tokenized_examples[\"end_positions\"] = []\n",
    "\n",
    "    for i, offsets in enumerate(offset_mapping):\n",
    "        # We will label impossible answers with the index of the CLS token.\n",
    "        input_ids = tokenized_examples[\"input_ids\"][i]\n",
    "        cls_index = input_ids.index(tokenizer.cls_token_id)\n",
    "        \n",
    "        # Grab the sequence corresponding to that example (to know what is the context and what is the question).\n",
    "        sequence_ids = tokenized_examples.sequence_ids(i)\n",
    "\n",
    "        # One example can give several spans, this is the index of the example containing this span of text.\n",
    "        sample_index = sample_mapping[i]\n",
    "        answers = examples[\"answers\"][sample_index]        \n",
    "        question = examples[\"question\"][sample_index]\n",
    "        example_id = examples[\"id\"][sample_index]\n",
    "        \n",
    "        # If no answers are given, set the cls_index as answer.\n",
    "        if len(answers[\"answer_start\"]) == 0:\n",
    "            tokenized_examples[\"start_positions\"].append(cls_index)\n",
    "            tokenized_examples[\"end_positions\"].append(cls_index)\n",
    "        else:\n",
    "            # Start/end character index of the answer in the text.\n",
    "            start_char = answers[\"answer_start\"][0]\n",
    "            end_char = start_char + len(answers[\"text\"][0])\n",
    "\n",
    "            # Start token index of the current span in the text.\n",
    "            token_start_index = 0\n",
    "            while sequence_ids[token_start_index] != (1 if right_padding else 0):\n",
    "                token_start_index += 1\n",
    "\n",
    "            # End token index of the current span in the text.\n",
    "            token_end_index = len(input_ids) - 1\n",
    "            while sequence_ids[token_end_index] != (1 if right_padding else 0):\n",
    "                token_end_index -= 1\n",
    "            \n",
    "            # Detect if the answer is out of the span (in which case this feature is labeled with the CLS index).\n",
    "            if not (offsets[token_start_index][0] <= start_char and offsets[token_end_index][1] >= end_char):\n",
    "                tokenized_examples[\"start_positions\"].append(cls_index)\n",
    "                tokenized_examples[\"end_positions\"].append(cls_index)\n",
    "            else:\n",
    "                # Increase the end index here to make sure it includes the last character\n",
    "                while token_start_index < len(offsets) and offsets[token_start_index][0] <= start_char:\n",
    "                    token_start_index += 1\n",
    "                safe_start_index = max(0, token_start_index - 1)\n",
    "                tokenized_examples[\"start_positions\"].append(safe_start_index)\n",
    "\n",
    "                # Adjust this line to ensure that the end character is included\n",
    "                # Decrement token_end_index to point exactly one past the end of the answer text\n",
    "                while token_end_index >= 0 and offsets[token_end_index][1] > end_char:\n",
    "                    token_end_index -= 1\n",
    "                safe_end_index = min(len(input_ids) - 1, token_end_index + 1)\n",
    "                tokenized_examples[\"end_positions\"].append(safe_end_index)  # Adjust to +2 if needed\n",
    "                \n",
    "        # Debugging code\n",
    "        global global_counter\n",
    "        global traing_answer_mismatches\n",
    "        #if question in debug_questions:\n",
    "        if len(answers[\"answer_start\"]) > 0:\n",
    "            # Ensure indices are within bounds\n",
    "            #safe_start_index = max(0, token_start_index - 1)\n",
    "            #safe_end_index = min(len(input_ids) - 1, token_end_index + 1)\n",
    "\n",
    "            # Decode the answer using safe indices\n",
    "            decoded_answer = tokenizer.decode(input_ids[safe_start_index:safe_end_index])\n",
    "            actual_answer = answers[\"text\"][0] if answers[\"text\"] else \"No answer provided\"\n",
    "            normalized_actual_answer = actual_answer.lower().replace(\" \", \"\")\n",
    "            normalized_decoded_answer = decoded_answer.lower().replace(\" \", \"\")\n",
    "            if normalized_decoded_answer != normalized_actual_answer:\n",
    "                if global_counter == 0: print('Mismatch Found')\n",
    "                global_counter += 1 \n",
    "                traing_answer_mismatches.append({\n",
    "                    'TokenizedId': i,\n",
    "                    'ID': example_id,\n",
    "                    'Question': question,\n",
    "                    'Offsets': offsets,\n",
    "                    'Input IDs':input_ids,\n",
    "                    'Tokenized Text': tokenizer.decode(input_ids),\n",
    "                    'Char start/end index': f\"{start_char} / {end_char}\",\n",
    "                    'Token start/end index':f\"{token_start_index} / {token_end_index}\",\n",
    "                    'Decoded Answer': decoded_answer,\n",
    "                    'Actual Answer': actual_answer,                    \n",
    "                })    \n",
    "    return tokenized_examples"
   ]
  },
  {
   "cell_type": "markdown",
   "id": "baaa50d9-d80b-4bcc-a9d4-66f8cb4084e9",
   "metadata": {
    "tags": []
   },
   "source": [
    "## 2. Data Preparation"
   ]
  },
  {
   "cell_type": "code",
   "execution_count": 43,
   "id": "5b9fbac7-2668-43cb-addf-9c86174fd242",
   "metadata": {},
   "outputs": [],
   "source": [
    "# Load the full dataset\n",
    "full_squad_dataset = load_dataset(\"squad_v2\")"
   ]
  },
  {
   "cell_type": "code",
   "execution_count": 44,
   "id": "c7e21665-e500-4146-9cc7-749dab1a5a3c",
   "metadata": {
    "tags": []
   },
   "outputs": [
    {
     "data": {
      "text/plain": [
       "['id', 'title', 'context', 'question', 'answers']"
      ]
     },
     "execution_count": 44,
     "metadata": {},
     "output_type": "execute_result"
    }
   ],
   "source": [
    "full_squad_dataset['train'].column_names"
   ]
  },
  {
   "cell_type": "code",
   "execution_count": 45,
   "id": "64dd9170-8c12-44d1-b09a-7555ca7b87ce",
   "metadata": {
    "tags": []
   },
   "outputs": [
    {
     "data": {
      "text/plain": [
       "['id', 'title', 'context', 'question', 'answers']"
      ]
     },
     "execution_count": 45,
     "metadata": {},
     "output_type": "execute_result"
    }
   ],
   "source": [
    "full_squad_dataset['validation'].column_names"
   ]
  },
  {
   "cell_type": "code",
   "execution_count": 46,
   "id": "94f41120-057b-4dd8-9bbd-a5165dc726fe",
   "metadata": {
    "tags": []
   },
   "outputs": [
    {
     "name": "stdout",
     "output_type": "stream",
     "text": [
      "Train set size: 130319\n",
      "Validation set size: 11873\n"
     ]
    },
    {
     "data": {
      "text/plain": [
       "DatasetDict({\n",
       "    train: Dataset({\n",
       "        features: ['id', 'title', 'context', 'question', 'answers'],\n",
       "        num_rows: 130319\n",
       "    })\n",
       "    validation: Dataset({\n",
       "        features: ['id', 'title', 'context', 'question', 'answers'],\n",
       "        num_rows: 11873\n",
       "    })\n",
       "})"
      ]
     },
     "execution_count": 46,
     "metadata": {},
     "output_type": "execute_result"
    }
   ],
   "source": [
    "Use_Only_Sample = False\n",
    "Sample_Size = 10000\n",
    "\n",
    "if Use_Only_Sample:\n",
    "    # Load a sample portion of the dataset\n",
    "    squad_raw = datasets.DatasetDict({\n",
    "        'train': full_squad_dataset['train'].select(range(0, Sample_Size)),\n",
    "        'validation': full_squad_dataset['validation'].select(range(0, int(Sample_Size * 0.2)))\n",
    "    })\n",
    "else:\n",
    "    # Load the full dataset\n",
    "    squad_raw = datasets.DatasetDict({\n",
    "        'train': full_squad_dataset['train'],\n",
    "        'validation': full_squad_dataset['validation'],    \n",
    "    })\n",
    "    \n",
    "# Display the sizes of the splits to confirm\n",
    "print(\"Train set size:\", len(squad_raw['train']))\n",
    "print(\"Validation set size:\", len(squad_raw['validation']))\n",
    "squad_raw"
   ]
  },
  {
   "cell_type": "code",
   "execution_count": 47,
   "id": "af519485-cf11-4690-ba77-61eaace04e94",
   "metadata": {
    "tags": []
   },
   "outputs": [
    {
     "data": {
      "application/vnd.jupyter.widget-view+json": {
       "model_id": "85fb2d435a084c3cad40cb60f750ee91",
       "version_major": 2,
       "version_minor": 0
      },
      "text/plain": [
       "Running tokenizer on train dataset:   0%|          | 0/130319 [00:00<?, ? examples/s]"
      ]
     },
     "metadata": {},
     "output_type": "display_data"
    },
    {
     "name": "stdout",
     "output_type": "stream",
     "text": [
      "Mismatch Found\n"
     ]
    }
   ],
   "source": [
    "## Preprocess the Training Dataset To find Missmatches\n",
    "global_counter = 0\n",
    "traing_answer_mismatches = []\n",
    "\n",
    "train_dataset = squad_raw['train'].map(\n",
    "                preprocess_function,\n",
    "                batched=True,\n",
    "                remove_columns=squad_raw[\"train\"].column_names,\n",
    "                desc=\"Running tokenizer on train dataset\",\n",
    "                load_from_cache_file=False,  # Disable caching\n",
    "            )\n"
   ]
  },
  {
   "cell_type": "code",
   "execution_count": 48,
   "id": "441d9c6a-242b-453d-b75e-3f6ca0a15c0e",
   "metadata": {
    "tags": []
   },
   "outputs": [
    {
     "name": "stdout",
     "output_type": "stream",
     "text": [
      "Total number of miss matches: 376\n"
     ]
    },
    {
     "data": {
      "text/html": [
       "<div>\n",
       "<style scoped>\n",
       "    .dataframe tbody tr th:only-of-type {\n",
       "        vertical-align: middle;\n",
       "    }\n",
       "\n",
       "    .dataframe tbody tr th {\n",
       "        vertical-align: top;\n",
       "    }\n",
       "\n",
       "    .dataframe thead th {\n",
       "        text-align: right;\n",
       "    }\n",
       "</style>\n",
       "<table border=\"1\" class=\"dataframe\">\n",
       "  <thead>\n",
       "    <tr style=\"text-align: right;\">\n",
       "      <th></th>\n",
       "      <th>TokenizedId</th>\n",
       "      <th>ID</th>\n",
       "      <th>Question</th>\n",
       "      <th>Offsets</th>\n",
       "      <th>Input IDs</th>\n",
       "      <th>Tokenized Text</th>\n",
       "      <th>Char start/end index</th>\n",
       "      <th>Token start/end index</th>\n",
       "      <th>Decoded Answer</th>\n",
       "      <th>Actual Answer</th>\n",
       "    </tr>\n",
       "  </thead>\n",
       "  <tbody>\n",
       "    <tr>\n",
       "      <th>0</th>\n",
       "      <td>92</td>\n",
       "      <td>56bf7e603aeaaa14008c9681</td>\n",
       "      <td>What event caused Beyonce's depression?</td>\n",
       "      <td>[(0, 0), (0, 4), (5, 10), (11, 17), (18, 21), ...</td>\n",
       "      <td>[101, 1327, 1856, 2416, 24896, 1320, 2093, 112...</td>\n",
       "      <td>[CLS] What event caused Beyonce's depression? ...</td>\n",
       "      <td>194 / 222</td>\n",
       "      <td>49 / 53</td>\n",
       "      <td>split with Luckett and Rob</td>\n",
       "      <td>split with Luckett and Rober</td>\n",
       "    </tr>\n",
       "    <tr>\n",
       "      <th>1</th>\n",
       "      <td>203</td>\n",
       "      <td>56be973d3aeaaa14008c9123</td>\n",
       "      <td>How many number one singles did Beyonce now ha...</td>\n",
       "      <td>[(0, 0), (0, 3), (4, 8), (9, 15), (16, 19), (2...</td>\n",
       "      <td>[101, 1731, 1242, 1295, 1141, 3896, 1225, 2489...</td>\n",
       "      <td>[CLS] How many number one singles did Beyonce ...</td>\n",
       "      <td>457 / 460</td>\n",
       "      <td>131 / 129</td>\n",
       "      <td></td>\n",
       "      <td>six</td>\n",
       "    </tr>\n",
       "    <tr>\n",
       "      <th>2</th>\n",
       "      <td>860</td>\n",
       "      <td>56cbdea66d243a140015edae</td>\n",
       "      <td>At what age did Frédéric start giving public c...</td>\n",
       "      <td>[(0, 0), (0, 2), (3, 7), (8, 11), (12, 15), (1...</td>\n",
       "      <td>[101, 1335, 1184, 1425, 1225, 13359, 2744, 118...</td>\n",
       "      <td>[CLS] At what age did Frédéric start giving pu...</td>\n",
       "      <td>391 / 392</td>\n",
       "      <td>110 / 109</td>\n",
       "      <td>1817</td>\n",
       "      <td>7</td>\n",
       "    </tr>\n",
       "    <tr>\n",
       "      <th>3</th>\n",
       "      <td>865</td>\n",
       "      <td>56cf609aaab44d1400b89187</td>\n",
       "      <td>At what age did Chopin start playing publicly?</td>\n",
       "      <td>[(0, 0), (0, 2), (3, 7), (8, 11), (12, 15), (1...</td>\n",
       "      <td>[101, 1335, 1184, 1425, 1225, 22964, 6709, 183...</td>\n",
       "      <td>[CLS] At what age did Chopin start playing pub...</td>\n",
       "      <td>391 / 392</td>\n",
       "      <td>106 / 105</td>\n",
       "      <td>1817</td>\n",
       "      <td>7</td>\n",
       "    </tr>\n",
       "    <tr>\n",
       "      <th>4</th>\n",
       "      <td>870</td>\n",
       "      <td>56d20a6ae7d4791d0090261a</td>\n",
       "      <td>How old was Chopin when he began to perform fo...</td>\n",
       "      <td>[(0, 0), (0, 3), (4, 7), (8, 11), (12, 15), (1...</td>\n",
       "      <td>[101, 1731, 1385, 1108, 22964, 6709, 1165, 111...</td>\n",
       "      <td>[CLS] How old was Chopin when he began to perf...</td>\n",
       "      <td>391 / 392</td>\n",
       "      <td>110 / 109</td>\n",
       "      <td>1817</td>\n",
       "      <td>7</td>\n",
       "    </tr>\n",
       "    <tr>\n",
       "      <th>5</th>\n",
       "      <td>192</td>\n",
       "      <td>56d3ac8e2ccc5a1400d82e1b</td>\n",
       "      <td>What style is the fictionalized \"Chopin\" in?</td>\n",
       "      <td>[(0, 0), (0, 4), (5, 10), (11, 13), (14, 17), ...</td>\n",
       "      <td>[101, 1327, 1947, 1110, 1103, 6725, 2200, 107,...</td>\n",
       "      <td>[CLS] What style is the fictionalized \" Chopin...</td>\n",
       "      <td>85 / 90</td>\n",
       "      <td>35 / 33</td>\n",
       "      <td></td>\n",
       "      <td>opera</td>\n",
       "    </tr>\n",
       "    <tr>\n",
       "      <th>6</th>\n",
       "      <td>513</td>\n",
       "      <td>56ccde7862d2951400fa64d9</td>\n",
       "      <td>Who had a large amount of contacts with china ...</td>\n",
       "      <td>[(0, 0), (0, 3), (4, 7), (8, 9), (10, 15), (16...</td>\n",
       "      <td>[101, 2627, 1125, 170, 1415, 2971, 1104, 10492...</td>\n",
       "      <td>[CLS] Who had a large amount of contacts with ...</td>\n",
       "      <td>193 / 198</td>\n",
       "      <td>64 / 62</td>\n",
       "      <td></td>\n",
       "      <td>Tibet</td>\n",
       "    </tr>\n",
       "    <tr>\n",
       "      <th>7</th>\n",
       "      <td>574</td>\n",
       "      <td>56cd682162d2951400fa658e</td>\n",
       "      <td>What does Yiu Yung-chin claim the Ming did not...</td>\n",
       "      <td>[(0, 0), (0, 4), (5, 9), (10, 12), (12, 13), (...</td>\n",
       "      <td>[101, 1327, 1674, 14141, 1358, 27413, 1403, 11...</td>\n",
       "      <td>[CLS] What does Yiu Yung - chin claim the Ming...</td>\n",
       "      <td>55 / 60</td>\n",
       "      <td>28 / 26</td>\n",
       "      <td></td>\n",
       "      <td>Tibet</td>\n",
       "    </tr>\n",
       "    <tr>\n",
       "      <th>8</th>\n",
       "      <td>719</td>\n",
       "      <td>56ce4a58aab44d1400b88668</td>\n",
       "      <td>When were the Rinbung princes overthrown?</td>\n",
       "      <td>[(0, 0), (0, 4), (5, 9), (10, 13), (14, 15), (...</td>\n",
       "      <td>[101, 1332, 1127, 1103, 155, 1394, 7925, 2118,...</td>\n",
       "      <td>[CLS] When were the Rinbung princes overthrown...</td>\n",
       "      <td>3 / 7</td>\n",
       "      <td>13 / 179</td>\n",
       "      <td>##tymie</td>\n",
       "      <td>1565</td>\n",
       "    </tr>\n",
       "    <tr>\n",
       "      <th>9</th>\n",
       "      <td>721</td>\n",
       "      <td>56ce4a58aab44d1400b88669</td>\n",
       "      <td>Who took control of the whole of Central Tibet?</td>\n",
       "      <td>[(0, 0), (0, 3), (4, 8), (9, 16), (17, 19), (2...</td>\n",
       "      <td>[101, 2627, 1261, 1654, 1104, 1103, 2006, 1104...</td>\n",
       "      <td>[CLS] Who took control of the whole of Central...</td>\n",
       "      <td>247 / 269</td>\n",
       "      <td>12 / 177</td>\n",
       "      <td>, the Dalai Lama's chief</td>\n",
       "      <td>Karma Phuntsok Namgyal</td>\n",
       "    </tr>\n",
       "  </tbody>\n",
       "</table>\n",
       "</div>"
      ],
      "text/plain": [
       "   TokenizedId                        ID  \\\n",
       "0           92  56bf7e603aeaaa14008c9681   \n",
       "1          203  56be973d3aeaaa14008c9123   \n",
       "2          860  56cbdea66d243a140015edae   \n",
       "3          865  56cf609aaab44d1400b89187   \n",
       "4          870  56d20a6ae7d4791d0090261a   \n",
       "5          192  56d3ac8e2ccc5a1400d82e1b   \n",
       "6          513  56ccde7862d2951400fa64d9   \n",
       "7          574  56cd682162d2951400fa658e   \n",
       "8          719  56ce4a58aab44d1400b88668   \n",
       "9          721  56ce4a58aab44d1400b88669   \n",
       "\n",
       "                                            Question  \\\n",
       "0            What event caused Beyonce's depression?   \n",
       "1  How many number one singles did Beyonce now ha...   \n",
       "2  At what age did Frédéric start giving public c...   \n",
       "3     At what age did Chopin start playing publicly?   \n",
       "4  How old was Chopin when he began to perform fo...   \n",
       "5       What style is the fictionalized \"Chopin\" in?   \n",
       "6  Who had a large amount of contacts with china ...   \n",
       "7  What does Yiu Yung-chin claim the Ming did not...   \n",
       "8          When were the Rinbung princes overthrown?   \n",
       "9    Who took control of the whole of Central Tibet?   \n",
       "\n",
       "                                             Offsets  \\\n",
       "0  [(0, 0), (0, 4), (5, 10), (11, 17), (18, 21), ...   \n",
       "1  [(0, 0), (0, 3), (4, 8), (9, 15), (16, 19), (2...   \n",
       "2  [(0, 0), (0, 2), (3, 7), (8, 11), (12, 15), (1...   \n",
       "3  [(0, 0), (0, 2), (3, 7), (8, 11), (12, 15), (1...   \n",
       "4  [(0, 0), (0, 3), (4, 7), (8, 11), (12, 15), (1...   \n",
       "5  [(0, 0), (0, 4), (5, 10), (11, 13), (14, 17), ...   \n",
       "6  [(0, 0), (0, 3), (4, 7), (8, 9), (10, 15), (16...   \n",
       "7  [(0, 0), (0, 4), (5, 9), (10, 12), (12, 13), (...   \n",
       "8  [(0, 0), (0, 4), (5, 9), (10, 13), (14, 15), (...   \n",
       "9  [(0, 0), (0, 3), (4, 8), (9, 16), (17, 19), (2...   \n",
       "\n",
       "                                           Input IDs  \\\n",
       "0  [101, 1327, 1856, 2416, 24896, 1320, 2093, 112...   \n",
       "1  [101, 1731, 1242, 1295, 1141, 3896, 1225, 2489...   \n",
       "2  [101, 1335, 1184, 1425, 1225, 13359, 2744, 118...   \n",
       "3  [101, 1335, 1184, 1425, 1225, 22964, 6709, 183...   \n",
       "4  [101, 1731, 1385, 1108, 22964, 6709, 1165, 111...   \n",
       "5  [101, 1327, 1947, 1110, 1103, 6725, 2200, 107,...   \n",
       "6  [101, 2627, 1125, 170, 1415, 2971, 1104, 10492...   \n",
       "7  [101, 1327, 1674, 14141, 1358, 27413, 1403, 11...   \n",
       "8  [101, 1332, 1127, 1103, 155, 1394, 7925, 2118,...   \n",
       "9  [101, 2627, 1261, 1654, 1104, 1103, 2006, 1104...   \n",
       "\n",
       "                                      Tokenized Text Char start/end index  \\\n",
       "0  [CLS] What event caused Beyonce's depression? ...            194 / 222   \n",
       "1  [CLS] How many number one singles did Beyonce ...            457 / 460   \n",
       "2  [CLS] At what age did Frédéric start giving pu...            391 / 392   \n",
       "3  [CLS] At what age did Chopin start playing pub...            391 / 392   \n",
       "4  [CLS] How old was Chopin when he began to perf...            391 / 392   \n",
       "5  [CLS] What style is the fictionalized \" Chopin...              85 / 90   \n",
       "6  [CLS] Who had a large amount of contacts with ...            193 / 198   \n",
       "7  [CLS] What does Yiu Yung - chin claim the Ming...              55 / 60   \n",
       "8  [CLS] When were the Rinbung princes overthrown...                3 / 7   \n",
       "9  [CLS] Who took control of the whole of Central...            247 / 269   \n",
       "\n",
       "  Token start/end index              Decoded Answer  \\\n",
       "0               49 / 53  split with Luckett and Rob   \n",
       "1             131 / 129                               \n",
       "2             110 / 109                        1817   \n",
       "3             106 / 105                        1817   \n",
       "4             110 / 109                        1817   \n",
       "5               35 / 33                               \n",
       "6               64 / 62                               \n",
       "7               28 / 26                               \n",
       "8              13 / 179                     ##tymie   \n",
       "9              12 / 177    , the Dalai Lama's chief   \n",
       "\n",
       "                  Actual Answer  \n",
       "0  split with Luckett and Rober  \n",
       "1                           six  \n",
       "2                             7  \n",
       "3                             7  \n",
       "4                             7  \n",
       "5                         opera  \n",
       "6                         Tibet  \n",
       "7                         Tibet  \n",
       "8                          1565  \n",
       "9        Karma Phuntsok Namgyal  "
      ]
     },
     "metadata": {},
     "output_type": "display_data"
    }
   ],
   "source": [
    "# Analyse Missmatches\n",
    "mismatches_df = pd.DataFrame(traing_answer_mismatches)\n",
    "print('Total number of miss matches:',global_counter)\n",
    "display(mismatches_df.head(10))  "
   ]
  },
  {
   "cell_type": "code",
   "execution_count": 49,
   "id": "ef820445-4d72-4e2c-95b6-1474bd671825",
   "metadata": {
    "tags": []
   },
   "outputs": [
    {
     "name": "stdout",
     "output_type": "stream",
     "text": [
      "{'id': '56be8c8a3aeaaa14008c90ab', 'title': 'Beyoncé', 'context': 'The group changed their name to Destiny\\'s Child in 1996, based upon a passage in the Book of Isaiah. In 1997, Destiny\\'s Child released their major label debut song \"Killing Time\" on the soundtrack to the 1997 film, Men in Black. The following year, the group released their self-titled debut album, scoring their first major hit \"No, No, No\". The album established the group as a viable act in the music industry, with moderate sales and winning the group three Soul Train Lady of Soul Awards for Best R&B/Soul Album of the Year, Best R&B/Soul or Rap New Artist, and Best R&B/Soul Single for \"No, No, No\". The group released their multi-platinum second album The Writing\\'s on the Wall in 1999. The record features some of the group\\'s most widely known songs such as \"Bills, Bills, Bills\", the group\\'s first number-one single, \"Jumpin\\' Jumpin\\'\" and \"Say My Name\", which became their most successful song at the time, and would remain one of their signature songs. \"Say My Name\" won the Best R&B Performance by a Duo or Group with Vocals and the Best R&B Song at the 43rd Annual Grammy Awards. The Writing\\'s on the Wall sold more than eight million copies worldwide. During this time, Beyoncé recorded a duet with Marc Nelson, an original member of Boyz II Men, on the song \"After All Is Said and Done\" for the soundtrack to the 1999 film, The Best Man.', 'question': \"For which song, did Destiny's Child take home the grammy award for best R&B performance?\", 'answers': {'text': ['\"Say My Name\"'], 'answer_start': [848]}}\n"
     ]
    }
   ],
   "source": [
    "# List of specific IDs to inspect\n",
    "debug_ids = [\n",
    "    \"56be8c8a3aeaaa14008c90ab\",       \n",
    "]\n",
    "\n",
    "# Define a function to filter examples by ID and stop processing when all have been found\n",
    "def print_specific_records(dataset):\n",
    "    found_ids = set()  # To track IDs that have been printed\n",
    "    for example in dataset:\n",
    "        if example['id'] in debug_ids:\n",
    "            print(example)\n",
    "            found_ids.add(example['id'])\n",
    "            if found_ids == set(debug_ids):\n",
    "                break  # Stop processing as all requested records have been printed\n",
    "\n",
    "# Apply the function to the full dataset (assuming the dataset is loaded and named full_squad_dataset)\n",
    "print_specific_records(full_squad_dataset['train'])\n"
   ]
  },
  {
   "cell_type": "code",
   "execution_count": 50,
   "id": "fc968279-8568-4118-b11d-f0ecb31141fd",
   "metadata": {
    "tags": []
   },
   "outputs": [
    {
     "name": "stdout",
     "output_type": "stream",
     "text": [
      "Total number of mismatches: 376\n",
      "Original dataset size: 130319\n",
      "Cleaned dataset size: 129944\n"
     ]
    }
   ],
   "source": [
    "# Ensure the mismatches DataFrame is created from non-empty data\n",
    "if traing_answer_mismatches:\n",
    "    mismatches_df = pd.DataFrame(traing_answer_mismatches)\n",
    "    print('Total number of mismatches:', len(mismatches_df))\n",
    "else:\n",
    "    print(\"No mismatches to display. The list is empty.\")\n",
    "\n",
    "def remove_mismatches(dataset, mismatch_ids):\n",
    "    \"\"\"\n",
    "    Filters the dataset to exclude mismatched entries.\n",
    "\n",
    "    Args:\n",
    "        dataset (Dataset): The dataset from which to remove mismatched examples.\n",
    "        mismatch_ids (set): A set of example IDs that have mismatches.\n",
    "\n",
    "    Returns:\n",
    "        Dataset: A dataset with mismatched examples removed.\n",
    "    \"\"\"\n",
    "    # Use a set for faster look-up times\n",
    "    filtered_dataset = dataset.filter(lambda example: example['id'] not in mismatch_ids)\n",
    "    return filtered_dataset\n",
    "\n",
    "# Check if mismatches DataFrame exists and is not empty before removing mismatches\n",
    "if 'traing_answer_mismatches' in locals() and not mismatches_df.empty:\n",
    "    mismatch_ids = set(mismatches_df['ID'])\n",
    "    cleaned_training_dataset = remove_mismatches(squad_raw['train'], mismatch_ids)\n",
    "    print(\"Original dataset size:\", len(squad_raw['train']))\n",
    "    print(\"Cleaned dataset size:\", len(cleaned_training_dataset))\n",
    "else:\n",
    "    print(\"No mismatches found or mismatch data is empty. No filtering applied.\")\n",
    "    cleaned_training_dataset = squad_raw['train']\n"
   ]
  },
  {
   "cell_type": "code",
   "execution_count": 51,
   "id": "eece467f-8f30-45e0-bf0b-5cb27e623f25",
   "metadata": {
    "tags": []
   },
   "outputs": [
    {
     "data": {
      "application/vnd.jupyter.widget-view+json": {
       "model_id": "cb121329a016415fbf3c19b83be1930a",
       "version_major": 2,
       "version_minor": 0
      },
      "text/plain": [
       "Running tokenizer on train dataset:   0%|          | 0/129944 [00:00<?, ? examples/s]"
      ]
     },
     "metadata": {},
     "output_type": "display_data"
    },
    {
     "data": {
      "application/vnd.jupyter.widget-view+json": {
       "model_id": "caab092e0fd74c8cb04fc8d3c407bf4f",
       "version_major": 2,
       "version_minor": 0
      },
      "text/plain": [
       "Running tokenizer on validation dataset:   0%|          | 0/11873 [00:00<?, ? examples/s]"
      ]
     },
     "metadata": {},
     "output_type": "display_data"
    }
   ],
   "source": [
    "\n",
    "# Preprocessing the datasets\n",
    "train_dataset = cleaned_training_dataset.map(\n",
    "                preprocess_function,\n",
    "                batched=True,\n",
    "                remove_columns=squad_raw[\"train\"].column_names,\n",
    "                desc=\"Running tokenizer on train dataset\",\n",
    "                load_from_cache_file=False,  # Disable caching\n",
    "            )\n",
    "eval_dataset = squad_raw['validation'].map(\n",
    "                prepare_validation_features,\n",
    "                batched=True,\n",
    "                remove_columns=squad_raw[\"train\"].column_names,\n",
    "                desc=\"Running tokenizer on validation dataset\",\n",
    "                load_from_cache_file=False,  # Disable caching\n",
    "            )\n",
    "eval_examples =  squad_raw[\"validation\"]\n"
   ]
  },
  {
   "cell_type": "code",
   "execution_count": 52,
   "id": "7a7c6b2a-acdc-4768-b777-f581812c70ec",
   "metadata": {
    "tags": []
   },
   "outputs": [
    {
     "name": "stdout",
     "output_type": "stream",
     "text": [
      "Train set size: 130049\n",
      "Validation set size: 11974\n",
      "Validation Examples size: 11873\n"
     ]
    }
   ],
   "source": [
    "# Display the sizes of the splits to confirm\n",
    "print(\"Train set size:\", len(train_dataset))\n",
    "print(\"Validation set size:\", len(eval_dataset))\n",
    "print(\"Validation Examples size:\", len(eval_examples))"
   ]
  },
  {
   "cell_type": "markdown",
   "id": "fc279453-3f28-4aca-996b-f49ee605ce12",
   "metadata": {
    "jp-MarkdownHeadingCollapsed": true,
    "tags": []
   },
   "source": [
    "## 3. Initial Tuning of DistilBERT Model\n"
   ]
  },
  {
   "cell_type": "markdown",
   "id": "698ef06f-7ed0-4680-95b3-a1fa8cff9294",
   "metadata": {},
   "source": [
    "For Intial training we used the fine-tuned parameters of the model https://huggingface.co/deepset/roberta-base-squad2"
   ]
  },
  {
   "cell_type": "code",
   "execution_count": 81,
   "id": "727b1cf0-8ec9-4abd-9c43-256e8c6f7299",
   "metadata": {
    "tags": []
   },
   "outputs": [
    {
     "name": "stderr",
     "output_type": "stream",
     "text": [
      "Some weights of DistilBertForQuestionAnswering were not initialized from the model checkpoint at distilbert-base-cased and are newly initialized: ['qa_outputs.bias', 'qa_outputs.weight']\n",
      "You should probably TRAIN this model on a down-stream task to be able to use it for predictions and inference.\n"
     ]
    },
    {
     "data": {
      "text/html": [
       "\n",
       "    <div>\n",
       "      \n",
       "      <progress value='8130' max='8130' style='width:300px; height:20px; vertical-align: middle;'></progress>\n",
       "      [8130/8130 32:03, Epoch 2/2]\n",
       "    </div>\n",
       "    <table border=\"1\" class=\"dataframe\">\n",
       "  <thead>\n",
       " <tr style=\"text-align: left;\">\n",
       "      <th>Epoch</th>\n",
       "      <th>Training Loss</th>\n",
       "      <th>Validation Loss</th>\n",
       "      <th>Exact</th>\n",
       "      <th>F1</th>\n",
       "      <th>Total</th>\n",
       "      <th>Hasans Exact</th>\n",
       "      <th>Hasans F1</th>\n",
       "      <th>Hasans Total</th>\n",
       "      <th>Noans Exact</th>\n",
       "      <th>Noans F1</th>\n",
       "      <th>Noans Total</th>\n",
       "      <th>Best Exact</th>\n",
       "      <th>Best Exact Thresh</th>\n",
       "      <th>Best F1</th>\n",
       "      <th>Best F1 Thresh</th>\n",
       "    </tr>\n",
       "  </thead>\n",
       "  <tbody>\n",
       "    <tr>\n",
       "      <td>1</td>\n",
       "      <td>1.349600</td>\n",
       "      <td>No log</td>\n",
       "      <td>51.975069</td>\n",
       "      <td>60.428407</td>\n",
       "      <td>11873</td>\n",
       "      <td>24.358974</td>\n",
       "      <td>41.289892</td>\n",
       "      <td>5928</td>\n",
       "      <td>79.512195</td>\n",
       "      <td>79.512195</td>\n",
       "      <td>5945</td>\n",
       "      <td>53.154215</td>\n",
       "      <td>0.000000</td>\n",
       "      <td>60.634282</td>\n",
       "      <td>0.000000</td>\n",
       "    </tr>\n",
       "    <tr>\n",
       "      <td>2</td>\n",
       "      <td>1.013600</td>\n",
       "      <td>No log</td>\n",
       "      <td>49.473596</td>\n",
       "      <td>62.655210</td>\n",
       "      <td>11873</td>\n",
       "      <td>35.779352</td>\n",
       "      <td>62.180382</td>\n",
       "      <td>5928</td>\n",
       "      <td>63.128680</td>\n",
       "      <td>63.128680</td>\n",
       "      <td>5945</td>\n",
       "      <td>50.678009</td>\n",
       "      <td>0.000000</td>\n",
       "      <td>62.719799</td>\n",
       "      <td>0.000000</td>\n",
       "    </tr>\n",
       "  </tbody>\n",
       "</table><p>"
      ],
      "text/plain": [
       "<IPython.core.display.HTML object>"
      ]
     },
     "metadata": {},
     "output_type": "display_data"
    },
    {
     "data": {
      "application/vnd.jupyter.widget-view+json": {
       "model_id": "b064279da10e465597fd45e21bc8ab3d",
       "version_major": 2,
       "version_minor": 0
      },
      "text/plain": [
       "  0%|          | 0/11873 [00:00<?, ?it/s]"
      ]
     },
     "metadata": {},
     "output_type": "display_data"
    },
    {
     "data": {
      "application/vnd.jupyter.widget-view+json": {
       "model_id": "bc4bf125c01846e08ec92878d23093e8",
       "version_major": 2,
       "version_minor": 0
      },
      "text/plain": [
       "  0%|          | 0/11873 [00:00<?, ?it/s]"
      ]
     },
     "metadata": {},
     "output_type": "display_data"
    },
    {
     "data": {
      "text/plain": [
       "TrainOutput(global_step=8130, training_loss=1.5238689802669512, metrics={'train_runtime': 1923.7479, 'train_samples_per_second': 135.204, 'train_steps_per_second': 4.226, 'total_flos': 3.3982610012123136e+16, 'train_loss': 1.5238689802669512, 'epoch': 2.0})"
      ]
     },
     "execution_count": 81,
     "metadata": {},
     "output_type": "execute_result"
    }
   ],
   "source": [
    "no_answer_threshold = 0.0\n",
    "model = AutoModelForQuestionAnswering.from_pretrained(pretrained_model_name)\n",
    "training_args = TrainingArguments(\n",
    "    output_dir=f'{pretrained_model_name}-finetuned-manual',\n",
    "    overwrite_output_dir = True,\n",
    "    metric_for_best_model='f1',\n",
    "    greater_is_better=True,\n",
    "    load_best_model_at_end=True,\n",
    "    save_total_limit=4, \n",
    "    eval_strategy=\"epoch\",\n",
    "    save_strategy=\"epoch\",\n",
    "    report_to=\"wandb\",  # Enable logging to Weights & Biases\n",
    "    run_name=f\"{pretrained_model_name}-finetune-manual\",  # Optionally set a specific run name    \n",
    "    learning_rate=3e-5,\n",
    "    per_device_train_batch_size=32,\n",
    "    per_device_eval_batch_size=32,\n",
    "    warmup_ratio=0.2,\n",
    "    num_train_epochs=2,\n",
    "    lr_scheduler_type = 'linear',\n",
    ")\n",
    "\n",
    "trainer = QuestionAnsweringTrainer(\n",
    "        model=model,\n",
    "        args=training_args,\n",
    "        train_dataset=train_dataset,\n",
    "        eval_dataset=eval_dataset,\n",
    "        eval_examples=eval_examples,\n",
    "        tokenizer=tokenizer,\n",
    "        data_collator=data_collator,\n",
    "        post_process_function=post_processing_function,\n",
    "        compute_metrics=compute_metrics,\n",
    "        callbacks=[EarlyStoppingCallback(early_stopping_patience=3)],\n",
    ")\n",
    "\n",
    "trainer.train()"
   ]
  },
  {
   "cell_type": "markdown",
   "id": "b873b0a9-025a-410d-8903-62b01e708aed",
   "metadata": {
    "tags": []
   },
   "source": [
    "## 5. Models Tuning Reusable Functions"
   ]
  },
  {
   "cell_type": "code",
   "execution_count": 53,
   "id": "cc958752-42e2-4fe6-ac48-51d1522f6028",
   "metadata": {
    "tags": []
   },
   "outputs": [
    {
     "name": "stdout",
     "output_type": "stream",
     "text": [
      "Train set size: 60000\n",
      "Validation set size: 11873\n"
     ]
    }
   ],
   "source": [
    "Sample_Size = 60000\n",
    "\n",
    "# Load a sample portion of the dataset\n",
    "subset_squad_raw = datasets.DatasetDict({\n",
    "    'train': cleaned_training_dataset.shuffle(seed=42).select(range(Sample_Size)),\n",
    "    'validation': full_squad_dataset['validation']\n",
    "})\n",
    "    \n",
    "# Display the sizes of the splits to confirm\n",
    "print(\"Train set size:\", len(subset_squad_raw['train']))\n",
    "print(\"Validation set size:\", len(subset_squad_raw['validation']))\n",
    "squad_raw\n",
    "\n",
    "# Preprocessing the datasets\n",
    "eval_examples =  subset_squad_raw[\"validation\"]\n"
   ]
  },
  {
   "cell_type": "code",
   "execution_count": 54,
   "id": "b030f563-13a3-447d-be0d-15562b8a15c1",
   "metadata": {},
   "outputs": [],
   "source": [
    "class AdvancedEarlyStoppingCallback(TrainerCallback):\n",
    "    \"\"\"\n",
    "    A callback to stop training when either the performance falls below a certain threshold\n",
    "    or if there is no improvement over a set number of epochs.\n",
    "    \"\"\"\n",
    "    def __init__(self, metric_name, patience, threshold):\n",
    "        self.metric_name = metric_name\n",
    "        self.patience = patience\n",
    "        self.threshold = threshold\n",
    "        self.best_score = None\n",
    "        self.no_improve_epochs = 0\n",
    "\n",
    "    def on_evaluate(self, args, state, control, **kwargs):\n",
    "        metric_value = kwargs['metrics'].get(self.metric_name)\n",
    "\n",
    "        if self.best_score is None or metric_value > self.best_score:\n",
    "            self.best_score = metric_value\n",
    "            self.no_improve_epochs = 0\n",
    "        else:\n",
    "            self.no_improve_epochs += 1\n",
    "\n",
    "        # Check if performance is below the threshold\n",
    "        if metric_value < self.threshold:\n",
    "            control.should_training_stop = True\n",
    "            print(f\"Stopping training: {self.metric_name} below threshold of {self.threshold}\")\n",
    "\n",
    "        # Check if no improvement has been seen over the allowed patience\n",
    "        if self.no_improve_epochs >= self.patience:\n",
    "            control.should_training_stop = True\n",
    "            print(f\"Stopping training: No improvement in {self.metric_name} for {self.patience} epochs\")\n"
   ]
  },
  {
   "cell_type": "code",
   "execution_count": 55,
   "id": "581d57f6-426f-4727-b25a-92a91cb0d877",
   "metadata": {},
   "outputs": [],
   "source": [
    "# Define model initialization function\n",
    "def model_init():\n",
    "    return AutoModelForQuestionAnswering.from_pretrained(pretrained_model_name)\n",
    "\n",
    "# Define train dataset initialization function\n",
    "def train_dataset_init():\n",
    "    return subset_squad_raw['train'].map(\n",
    "                preprocess_function,\n",
    "                batched=True,\n",
    "                remove_columns=subset_squad_raw[\"train\"].column_names,\n",
    "                desc=\"Running tokenizer on train dataset\",\n",
    "            )\n",
    "\n",
    "# Define validation dataset initialization function\n",
    "def vald_dataset_init():\n",
    "    return subset_squad_raw['validation'].map(\n",
    "                prepare_validation_features,\n",
    "                batched=True,\n",
    "                remove_columns=subset_squad_raw[\"train\"].column_names,\n",
    "                desc=\"Running tokenizer on validation dataset\",\n",
    "            )\n",
    "\n",
    "# Optuna objective function for hyperparameter tuning\n",
    "def objective(trial):\n",
    "    # Hyperparameters to tune \n",
    "    global no_answer_threshold\n",
    "    no_answer_threshold = trial.suggest_float('no_answer_threshold', 0.0, 1.0)\n",
    "    #global global_doc_stride\n",
    "    #global_doc_stride=trial.suggest_int('doc_stride', 128, 256, step=64)\n",
    "\n",
    "    learning_rate = trial.suggest_float('learning_rate', 1e-7, 1e-4, log=True)\n",
    "    batch_size = trial.suggest_categorical('batch_size', [16, 32, 64])\n",
    "    #warmup_steps = trial.suggest_int('warmup_steps', 0, 1000)\n",
    "    warmup_ratio= trial.suggest_int('warmup_ratio', 0.0, 1.0)\n",
    "    weight_decay = trial.suggest_float('weight_decay', 0.0, 0.25)\n",
    "    adam_beta1 = trial.suggest_float('adam_beta1', 0.8, 0.95)\n",
    "    adam_beta2 = trial.suggest_float('adam_beta2', 0.990, 0.999)\n",
    "    adam_epsilon = trial.suggest_float('adam_epsilon', 1e-8, 1e-6)\n",
    "    lr_scheduler_type = trial.suggest_categorical('lr_scheduler_type', ['linear', 'cosine', 'cosine_with_restarts','constant_with_warmup'])\n",
    "    output_dir = f\"./{normalized_model_name}-finetuned-squadv2/trial_{trial.number}\"\n",
    "    \n",
    "    # Print trial parameters\n",
    "    print(f\"Current Trial {trial.number} parameters: {trial.params}\")\n",
    "    \n",
    "    # Training arguments\n",
    "    training_args = TrainingArguments(\n",
    "        output_dir=output_dir,\n",
    "        overwrite_output_dir = True,\n",
    "        metric_for_best_model='f1',\n",
    "        greater_is_better=True,\n",
    "        load_best_model_at_end=True,\n",
    "        save_total_limit=2, # Save only the best model unless you specify a different number\n",
    "        eval_strategy=\"epoch\",\n",
    "        save_strategy=\"epoch\",\n",
    "        num_train_epochs=3,  # Adjust based on computation limits\n",
    "        report_to=\"wandb\",  # Enable logging to Weights & Biases        \n",
    "        run_name=f\"{normalized_model_name}-finetune-squadv2\",  # Optionally set a specific run name    \n",
    "        learning_rate=learning_rate,\n",
    "        per_device_train_batch_size=batch_size,\n",
    "        per_device_eval_batch_size=batch_size,\n",
    "        #warmup_steps=warmup_steps,\n",
    "        warmup_ratio=warmup_ratio,\n",
    "        weight_decay=weight_decay,\n",
    "        adam_beta1=adam_beta1,\n",
    "        adam_beta2=adam_beta2,\n",
    "        adam_epsilon=adam_epsilon,\n",
    "        lr_scheduler_type=lr_scheduler_type,\n",
    "        fp16=True,  # Enable mixed-precision training\n",
    "    )    \n",
    "\n",
    "    trainer = QuestionAnsweringTrainer(\n",
    "        model=model_init(),\n",
    "        tokenizer=tokenizer,\n",
    "        args=training_args,\n",
    "        train_dataset=train_dataset_init(),\n",
    "        eval_dataset=vald_dataset_init(),\n",
    "        eval_examples=eval_examples,        \n",
    "        data_collator=data_collator,\n",
    "        post_process_function=post_processing_function,\n",
    "        compute_metrics=compute_metrics,\n",
    "        callbacks=[AdvancedEarlyStoppingCallback(metric_name='eval_f1', patience=1, threshold=60)]\n",
    "    )  \n",
    "    \n",
    "\n",
    "    # Train the model\n",
    "    trainer.train()\n",
    "\n",
    "    # Evaluate the model\n",
    "    eval_results = trainer.evaluate()\n",
    "    #print(\"Evaluation results:\", eval_results)  # Debug print\n",
    "    return eval_results['eval_f1']\n"
   ]
  },
  {
   "cell_type": "markdown",
   "id": "60deff21-c846-44f7-8129-8ed3e78d39d4",
   "metadata": {
    "jp-MarkdownHeadingCollapsed": true,
    "tags": []
   },
   "source": [
    "## 6. Hyperparameters Search for DistilBERT Model\n"
   ]
  },
  {
   "cell_type": "code",
   "execution_count": 90,
   "id": "473be192-e1e9-4931-b591-35f9e4a20dfc",
   "metadata": {},
   "outputs": [
    {
     "name": "stderr",
     "output_type": "stream",
     "text": [
      "[I 2024-05-28 13:10:08,274] A new study created in memory with name: no-name-4ccd1933-c04e-441c-8dc0-0b8436ab8c8f\n"
     ]
    },
    {
     "name": "stdout",
     "output_type": "stream",
     "text": [
      "Current Trial 0 parameters: {'no_answer_threshold': 0.4432355436688049, 'learning_rate': 1.9504510196346785e-06, 'batch_size': 64, 'warmup_ratio': 1, 'weight_decay': 0.22591500798452963, 'adam_beta1': 0.8295132212584269, 'adam_beta2': 0.9959028739768075, 'adam_epsilon': 6.79080552716296e-07, 'lr_scheduler_type': 'cosine_with_restarts'}\n"
     ]
    },
    {
     "name": "stderr",
     "output_type": "stream",
     "text": [
      "Some weights of DistilBertForQuestionAnswering were not initialized from the model checkpoint at distilbert-base-cased and are newly initialized: ['qa_outputs.bias', 'qa_outputs.weight']\n",
      "You should probably TRAIN this model on a down-stream task to be able to use it for predictions and inference.\n"
     ]
    },
    {
     "data": {
      "text/html": [
       "\n",
       "    <div>\n",
       "      \n",
       "      <progress value='939' max='2817' style='width:300px; height:20px; vertical-align: middle;'></progress>\n",
       "      [ 939/2817 33:30 < 1:07:09, 0.47 it/s, Epoch 1/3]\n",
       "    </div>\n",
       "    <table border=\"1\" class=\"dataframe\">\n",
       "  <thead>\n",
       " <tr style=\"text-align: left;\">\n",
       "      <th>Epoch</th>\n",
       "      <th>Training Loss</th>\n",
       "      <th>Validation Loss</th>\n",
       "      <th>Exact</th>\n",
       "      <th>F1</th>\n",
       "      <th>Total</th>\n",
       "      <th>Hasans Exact</th>\n",
       "      <th>Hasans F1</th>\n",
       "      <th>Hasans Total</th>\n",
       "      <th>Noans Exact</th>\n",
       "      <th>Noans F1</th>\n",
       "      <th>Noans Total</th>\n",
       "      <th>Best Exact</th>\n",
       "      <th>Best Exact Thresh</th>\n",
       "      <th>Best F1</th>\n",
       "      <th>Best F1 Thresh</th>\n",
       "    </tr>\n",
       "  </thead>\n",
       "  <tbody>\n",
       "    <tr>\n",
       "      <td>1</td>\n",
       "      <td>6.226400</td>\n",
       "      <td>No log</td>\n",
       "      <td>0.732755</td>\n",
       "      <td>5.314734</td>\n",
       "      <td>11873</td>\n",
       "      <td>1.467611</td>\n",
       "      <td>10.644709</td>\n",
       "      <td>5928</td>\n",
       "      <td>0.000000</td>\n",
       "      <td>0.000000</td>\n",
       "      <td>5945</td>\n",
       "      <td>50.071591</td>\n",
       "      <td>0.000000</td>\n",
       "      <td>50.074654</td>\n",
       "      <td>0.000000</td>\n",
       "    </tr>\n",
       "  </tbody>\n",
       "</table><p>"
      ],
      "text/plain": [
       "<IPython.core.display.HTML object>"
      ]
     },
     "metadata": {},
     "output_type": "display_data"
    },
    {
     "data": {
      "application/vnd.jupyter.widget-view+json": {
       "model_id": "ba321690272146508a309ae90d9d1ed1",
       "version_major": 2,
       "version_minor": 0
      },
      "text/plain": [
       "  0%|          | 0/11873 [00:00<?, ?it/s]"
      ]
     },
     "metadata": {},
     "output_type": "display_data"
    },
    {
     "name": "stdout",
     "output_type": "stream",
     "text": [
      "Stopping training: eval_f1 below threshold of 60\n"
     ]
    },
    {
     "data": {
      "text/html": [
       "\n",
       "    <div>\n",
       "      \n",
       "      <progress value='188' max='188' style='width:300px; height:20px; vertical-align: middle;'></progress>\n",
       "      [188/188 00:26]\n",
       "    </div>\n",
       "    "
      ],
      "text/plain": [
       "<IPython.core.display.HTML object>"
      ]
     },
     "metadata": {},
     "output_type": "display_data"
    },
    {
     "data": {
      "application/vnd.jupyter.widget-view+json": {
       "model_id": "a3d1f5f98fb04ad0812caa8b55fc0074",
       "version_major": 2,
       "version_minor": 0
      },
      "text/plain": [
       "  0%|          | 0/11873 [00:00<?, ?it/s]"
      ]
     },
     "metadata": {},
     "output_type": "display_data"
    },
    {
     "name": "stdout",
     "output_type": "stream",
     "text": [
      "Stopping training: eval_f1 below threshold of 60\n",
      "Stopping training: No improvement in eval_f1 for 1 epochs\n"
     ]
    },
    {
     "name": "stderr",
     "output_type": "stream",
     "text": [
      "[I 2024-05-28 13:44:39,662] Trial 0 finished with value: 5.314733916627 and parameters: {'no_answer_threshold': 0.4432355436688049, 'learning_rate': 1.9504510196346785e-06, 'batch_size': 64, 'warmup_ratio': 1, 'weight_decay': 0.22591500798452963, 'adam_beta1': 0.8295132212584269, 'adam_beta2': 0.9959028739768075, 'adam_epsilon': 6.79080552716296e-07, 'lr_scheduler_type': 'cosine_with_restarts'}. Best is trial 0 with value: 5.314733916627.\n"
     ]
    },
    {
     "name": "stdout",
     "output_type": "stream",
     "text": [
      "Current Trial 1 parameters: {'no_answer_threshold': 0.9755753139423355, 'learning_rate': 2.4870992763236745e-05, 'batch_size': 16, 'warmup_ratio': 1, 'weight_decay': 0.14020159222664497, 'adam_beta1': 0.8580510179693907, 'adam_beta2': 0.9972318054285672, 'adam_epsilon': 6.761861933342418e-07, 'lr_scheduler_type': 'constant_with_warmup'}\n"
     ]
    },
    {
     "name": "stderr",
     "output_type": "stream",
     "text": [
      "Some weights of DistilBertForQuestionAnswering were not initialized from the model checkpoint at distilbert-base-cased and are newly initialized: ['qa_outputs.bias', 'qa_outputs.weight']\n",
      "You should probably TRAIN this model on a down-stream task to be able to use it for predictions and inference.\n"
     ]
    },
    {
     "data": {
      "text/html": [
       "\n",
       "    <div>\n",
       "      \n",
       "      <progress value='3753' max='11259' style='width:300px; height:20px; vertical-align: middle;'></progress>\n",
       "      [ 3753/11259 08:09 < 16:19, 7.67 it/s, Epoch 1/3]\n",
       "    </div>\n",
       "    <table border=\"1\" class=\"dataframe\">\n",
       "  <thead>\n",
       " <tr style=\"text-align: left;\">\n",
       "      <th>Epoch</th>\n",
       "      <th>Training Loss</th>\n",
       "      <th>Validation Loss</th>\n",
       "      <th>Exact</th>\n",
       "      <th>F1</th>\n",
       "      <th>Total</th>\n",
       "      <th>Hasans Exact</th>\n",
       "      <th>Hasans F1</th>\n",
       "      <th>Hasans Total</th>\n",
       "      <th>Noans Exact</th>\n",
       "      <th>Noans F1</th>\n",
       "      <th>Noans Total</th>\n",
       "      <th>Best Exact</th>\n",
       "      <th>Best Exact Thresh</th>\n",
       "      <th>Best F1</th>\n",
       "      <th>Best F1 Thresh</th>\n",
       "    </tr>\n",
       "  </thead>\n",
       "  <tbody>\n",
       "    <tr>\n",
       "      <td>1</td>\n",
       "      <td>2.206100</td>\n",
       "      <td>No log</td>\n",
       "      <td>36.949381</td>\n",
       "      <td>44.912036</td>\n",
       "      <td>11873</td>\n",
       "      <td>20.715250</td>\n",
       "      <td>36.663394</td>\n",
       "      <td>5928</td>\n",
       "      <td>53.137090</td>\n",
       "      <td>53.137090</td>\n",
       "      <td>5945</td>\n",
       "      <td>50.088436</td>\n",
       "      <td>0.000000</td>\n",
       "      <td>50.090542</td>\n",
       "      <td>0.000000</td>\n",
       "    </tr>\n",
       "  </tbody>\n",
       "</table><p>"
      ],
      "text/plain": [
       "<IPython.core.display.HTML object>"
      ]
     },
     "metadata": {},
     "output_type": "display_data"
    },
    {
     "data": {
      "application/vnd.jupyter.widget-view+json": {
       "model_id": "5961c031764a471693a7a30d20d10b63",
       "version_major": 2,
       "version_minor": 0
      },
      "text/plain": [
       "  0%|          | 0/11873 [00:00<?, ?it/s]"
      ]
     },
     "metadata": {},
     "output_type": "display_data"
    },
    {
     "name": "stdout",
     "output_type": "stream",
     "text": [
      "Stopping training: eval_f1 below threshold of 60\n"
     ]
    },
    {
     "data": {
      "text/html": [
       "\n",
       "    <div>\n",
       "      \n",
       "      <progress value='749' max='749' style='width:300px; height:20px; vertical-align: middle;'></progress>\n",
       "      [749/749 00:26]\n",
       "    </div>\n",
       "    "
      ],
      "text/plain": [
       "<IPython.core.display.HTML object>"
      ]
     },
     "metadata": {},
     "output_type": "display_data"
    },
    {
     "data": {
      "application/vnd.jupyter.widget-view+json": {
       "model_id": "f405150db5c74a7c97908a1a3b1fcac5",
       "version_major": 2,
       "version_minor": 0
      },
      "text/plain": [
       "  0%|          | 0/11873 [00:00<?, ?it/s]"
      ]
     },
     "metadata": {},
     "output_type": "display_data"
    },
    {
     "name": "stdout",
     "output_type": "stream",
     "text": [
      "Stopping training: eval_f1 below threshold of 60\n",
      "Stopping training: No improvement in eval_f1 for 1 epochs\n"
     ]
    },
    {
     "name": "stderr",
     "output_type": "stream",
     "text": [
      "[I 2024-05-28 13:53:46,785] Trial 1 finished with value: 44.91203561684871 and parameters: {'no_answer_threshold': 0.9755753139423355, 'learning_rate': 2.4870992763236745e-05, 'batch_size': 16, 'warmup_ratio': 1, 'weight_decay': 0.14020159222664497, 'adam_beta1': 0.8580510179693907, 'adam_beta2': 0.9972318054285672, 'adam_epsilon': 6.761861933342418e-07, 'lr_scheduler_type': 'constant_with_warmup'}. Best is trial 1 with value: 44.91203561684871.\n"
     ]
    },
    {
     "name": "stdout",
     "output_type": "stream",
     "text": [
      "Current Trial 2 parameters: {'no_answer_threshold': 0.8078380357491378, 'learning_rate': 2.2326553984713517e-05, 'batch_size': 16, 'warmup_ratio': 1, 'weight_decay': 0.04289155231541966, 'adam_beta1': 0.8122949963900629, 'adam_beta2': 0.9948563779025696, 'adam_epsilon': 4.984692379126788e-07, 'lr_scheduler_type': 'cosine'}\n"
     ]
    },
    {
     "name": "stderr",
     "output_type": "stream",
     "text": [
      "Some weights of DistilBertForQuestionAnswering were not initialized from the model checkpoint at distilbert-base-cased and are newly initialized: ['qa_outputs.bias', 'qa_outputs.weight']\n",
      "You should probably TRAIN this model on a down-stream task to be able to use it for predictions and inference.\n"
     ]
    },
    {
     "data": {
      "text/html": [
       "\n",
       "    <div>\n",
       "      \n",
       "      <progress value='3753' max='11259' style='width:300px; height:20px; vertical-align: middle;'></progress>\n",
       "      [ 3753/11259 07:48 < 15:36, 8.01 it/s, Epoch 1/3]\n",
       "    </div>\n",
       "    <table border=\"1\" class=\"dataframe\">\n",
       "  <thead>\n",
       " <tr style=\"text-align: left;\">\n",
       "      <th>Epoch</th>\n",
       "      <th>Training Loss</th>\n",
       "      <th>Validation Loss</th>\n",
       "      <th>Exact</th>\n",
       "      <th>F1</th>\n",
       "      <th>Total</th>\n",
       "      <th>Hasans Exact</th>\n",
       "      <th>Hasans F1</th>\n",
       "      <th>Hasans Total</th>\n",
       "      <th>Noans Exact</th>\n",
       "      <th>Noans F1</th>\n",
       "      <th>Noans Total</th>\n",
       "      <th>Best Exact</th>\n",
       "      <th>Best Exact Thresh</th>\n",
       "      <th>Best F1</th>\n",
       "      <th>Best F1 Thresh</th>\n",
       "    </tr>\n",
       "  </thead>\n",
       "  <tbody>\n",
       "    <tr>\n",
       "      <td>1</td>\n",
       "      <td>2.251100</td>\n",
       "      <td>No log</td>\n",
       "      <td>35.475448</td>\n",
       "      <td>43.650935</td>\n",
       "      <td>11873</td>\n",
       "      <td>20.293522</td>\n",
       "      <td>36.667940</td>\n",
       "      <td>5928</td>\n",
       "      <td>50.613961</td>\n",
       "      <td>50.613961</td>\n",
       "      <td>5945</td>\n",
       "      <td>50.080013</td>\n",
       "      <td>0.000000</td>\n",
       "      <td>50.082119</td>\n",
       "      <td>0.000000</td>\n",
       "    </tr>\n",
       "  </tbody>\n",
       "</table><p>"
      ],
      "text/plain": [
       "<IPython.core.display.HTML object>"
      ]
     },
     "metadata": {},
     "output_type": "display_data"
    },
    {
     "data": {
      "application/vnd.jupyter.widget-view+json": {
       "model_id": "906942102d094778994c7e82fc56dcd0",
       "version_major": 2,
       "version_minor": 0
      },
      "text/plain": [
       "  0%|          | 0/11873 [00:00<?, ?it/s]"
      ]
     },
     "metadata": {},
     "output_type": "display_data"
    },
    {
     "name": "stdout",
     "output_type": "stream",
     "text": [
      "Stopping training: eval_f1 below threshold of 60\n"
     ]
    },
    {
     "data": {
      "text/html": [
       "\n",
       "    <div>\n",
       "      \n",
       "      <progress value='749' max='749' style='width:300px; height:20px; vertical-align: middle;'></progress>\n",
       "      [749/749 00:25]\n",
       "    </div>\n",
       "    "
      ],
      "text/plain": [
       "<IPython.core.display.HTML object>"
      ]
     },
     "metadata": {},
     "output_type": "display_data"
    },
    {
     "data": {
      "application/vnd.jupyter.widget-view+json": {
       "model_id": "9f13dd6374884fa1804ff18b83847a83",
       "version_major": 2,
       "version_minor": 0
      },
      "text/plain": [
       "  0%|          | 0/11873 [00:00<?, ?it/s]"
      ]
     },
     "metadata": {},
     "output_type": "display_data"
    },
    {
     "name": "stdout",
     "output_type": "stream",
     "text": [
      "Stopping training: eval_f1 below threshold of 60\n",
      "Stopping training: No improvement in eval_f1 for 1 epochs\n"
     ]
    },
    {
     "name": "stderr",
     "output_type": "stream",
     "text": [
      "[I 2024-05-28 14:02:30,836] Trial 2 finished with value: 43.65093488647768 and parameters: {'no_answer_threshold': 0.8078380357491378, 'learning_rate': 2.2326553984713517e-05, 'batch_size': 16, 'warmup_ratio': 1, 'weight_decay': 0.04289155231541966, 'adam_beta1': 0.8122949963900629, 'adam_beta2': 0.9948563779025696, 'adam_epsilon': 4.984692379126788e-07, 'lr_scheduler_type': 'cosine'}. Best is trial 1 with value: 44.91203561684871.\n"
     ]
    },
    {
     "name": "stdout",
     "output_type": "stream",
     "text": [
      "Current Trial 3 parameters: {'no_answer_threshold': 0.8821087542357894, 'learning_rate': 1.8662634351349289e-07, 'batch_size': 32, 'warmup_ratio': 1, 'weight_decay': 0.17440510434542683, 'adam_beta1': 0.8944896535849868, 'adam_beta2': 0.9926549233700063, 'adam_epsilon': 7.439290288046299e-07, 'lr_scheduler_type': 'cosine_with_restarts'}\n"
     ]
    },
    {
     "name": "stderr",
     "output_type": "stream",
     "text": [
      "Some weights of DistilBertForQuestionAnswering were not initialized from the model checkpoint at distilbert-base-cased and are newly initialized: ['qa_outputs.bias', 'qa_outputs.weight']\n",
      "You should probably TRAIN this model on a down-stream task to be able to use it for predictions and inference.\n"
     ]
    },
    {
     "data": {
      "text/html": [
       "\n",
       "    <div>\n",
       "      \n",
       "      <progress value='1877' max='5631' style='width:300px; height:20px; vertical-align: middle;'></progress>\n",
       "      [1877/5631 07:21 < 14:43, 4.25 it/s, Epoch 1/3]\n",
       "    </div>\n",
       "    <table border=\"1\" class=\"dataframe\">\n",
       "  <thead>\n",
       " <tr style=\"text-align: left;\">\n",
       "      <th>Epoch</th>\n",
       "      <th>Training Loss</th>\n",
       "      <th>Validation Loss</th>\n",
       "      <th>Exact</th>\n",
       "      <th>F1</th>\n",
       "      <th>Total</th>\n",
       "      <th>Hasans Exact</th>\n",
       "      <th>Hasans F1</th>\n",
       "      <th>Hasans Total</th>\n",
       "      <th>Noans Exact</th>\n",
       "      <th>Noans F1</th>\n",
       "      <th>Noans Total</th>\n",
       "      <th>Best Exact</th>\n",
       "      <th>Best Exact Thresh</th>\n",
       "      <th>Best F1</th>\n",
       "      <th>Best F1 Thresh</th>\n",
       "    </tr>\n",
       "  </thead>\n",
       "  <tbody>\n",
       "    <tr>\n",
       "      <td>1</td>\n",
       "      <td>6.241300</td>\n",
       "      <td>No log</td>\n",
       "      <td>2.029816</td>\n",
       "      <td>6.073089</td>\n",
       "      <td>11873</td>\n",
       "      <td>0.320513</td>\n",
       "      <td>8.418654</td>\n",
       "      <td>5928</td>\n",
       "      <td>3.734230</td>\n",
       "      <td>3.734230</td>\n",
       "      <td>5945</td>\n",
       "      <td>50.071591</td>\n",
       "      <td>0.000000</td>\n",
       "      <td>50.078794</td>\n",
       "      <td>0.000000</td>\n",
       "    </tr>\n",
       "  </tbody>\n",
       "</table><p>"
      ],
      "text/plain": [
       "<IPython.core.display.HTML object>"
      ]
     },
     "metadata": {},
     "output_type": "display_data"
    },
    {
     "data": {
      "application/vnd.jupyter.widget-view+json": {
       "model_id": "af55f7e371cb42078ae9444ef3443766",
       "version_major": 2,
       "version_minor": 0
      },
      "text/plain": [
       "  0%|          | 0/11873 [00:00<?, ?it/s]"
      ]
     },
     "metadata": {},
     "output_type": "display_data"
    },
    {
     "name": "stdout",
     "output_type": "stream",
     "text": [
      "Stopping training: eval_f1 below threshold of 60\n"
     ]
    },
    {
     "data": {
      "text/html": [
       "\n",
       "    <div>\n",
       "      \n",
       "      <progress value='375' max='375' style='width:300px; height:20px; vertical-align: middle;'></progress>\n",
       "      [375/375 00:25]\n",
       "    </div>\n",
       "    "
      ],
      "text/plain": [
       "<IPython.core.display.HTML object>"
      ]
     },
     "metadata": {},
     "output_type": "display_data"
    },
    {
     "data": {
      "application/vnd.jupyter.widget-view+json": {
       "model_id": "53b62dad78e2494aa1435f927b6d7682",
       "version_major": 2,
       "version_minor": 0
      },
      "text/plain": [
       "  0%|          | 0/11873 [00:00<?, ?it/s]"
      ]
     },
     "metadata": {},
     "output_type": "display_data"
    },
    {
     "name": "stdout",
     "output_type": "stream",
     "text": [
      "Stopping training: eval_f1 below threshold of 60\n",
      "Stopping training: No improvement in eval_f1 for 1 epochs\n"
     ]
    },
    {
     "name": "stderr",
     "output_type": "stream",
     "text": [
      "[I 2024-05-28 14:10:48,049] Trial 3 finished with value: 6.073088605647667 and parameters: {'no_answer_threshold': 0.8821087542357894, 'learning_rate': 1.8662634351349289e-07, 'batch_size': 32, 'warmup_ratio': 1, 'weight_decay': 0.17440510434542683, 'adam_beta1': 0.8944896535849868, 'adam_beta2': 0.9926549233700063, 'adam_epsilon': 7.439290288046299e-07, 'lr_scheduler_type': 'cosine_with_restarts'}. Best is trial 1 with value: 44.91203561684871.\n"
     ]
    },
    {
     "name": "stdout",
     "output_type": "stream",
     "text": [
      "Current Trial 4 parameters: {'no_answer_threshold': 0.3231791553521697, 'learning_rate': 2.4948789349742794e-06, 'batch_size': 16, 'warmup_ratio': 0, 'weight_decay': 0.02527800427875046, 'adam_beta1': 0.9361456853264649, 'adam_beta2': 0.9931962165396129, 'adam_epsilon': 1.277980490531531e-07, 'lr_scheduler_type': 'cosine'}\n"
     ]
    },
    {
     "name": "stderr",
     "output_type": "stream",
     "text": [
      "Some weights of DistilBertForQuestionAnswering were not initialized from the model checkpoint at distilbert-base-cased and are newly initialized: ['qa_outputs.bias', 'qa_outputs.weight']\n",
      "You should probably TRAIN this model on a down-stream task to be able to use it for predictions and inference.\n"
     ]
    },
    {
     "data": {
      "text/html": [
       "\n",
       "    <div>\n",
       "      \n",
       "      <progress value='3753' max='11259' style='width:300px; height:20px; vertical-align: middle;'></progress>\n",
       "      [ 3753/11259 07:43 < 15:27, 8.10 it/s, Epoch 1/3]\n",
       "    </div>\n",
       "    <table border=\"1\" class=\"dataframe\">\n",
       "  <thead>\n",
       " <tr style=\"text-align: left;\">\n",
       "      <th>Epoch</th>\n",
       "      <th>Training Loss</th>\n",
       "      <th>Validation Loss</th>\n",
       "      <th>Exact</th>\n",
       "      <th>F1</th>\n",
       "      <th>Total</th>\n",
       "      <th>Hasans Exact</th>\n",
       "      <th>Hasans F1</th>\n",
       "      <th>Hasans Total</th>\n",
       "      <th>Noans Exact</th>\n",
       "      <th>Noans F1</th>\n",
       "      <th>Noans Total</th>\n",
       "      <th>Best Exact</th>\n",
       "      <th>Best Exact Thresh</th>\n",
       "      <th>Best F1</th>\n",
       "      <th>Best F1 Thresh</th>\n",
       "    </tr>\n",
       "  </thead>\n",
       "  <tbody>\n",
       "    <tr>\n",
       "      <td>1</td>\n",
       "      <td>2.380000</td>\n",
       "      <td>No log</td>\n",
       "      <td>37.833740</td>\n",
       "      <td>43.785912</td>\n",
       "      <td>11873</td>\n",
       "      <td>14.574899</td>\n",
       "      <td>26.496311</td>\n",
       "      <td>5928</td>\n",
       "      <td>61.026072</td>\n",
       "      <td>61.026072</td>\n",
       "      <td>5945</td>\n",
       "      <td>50.071591</td>\n",
       "      <td>0.000000</td>\n",
       "      <td>50.071591</td>\n",
       "      <td>0.000000</td>\n",
       "    </tr>\n",
       "  </tbody>\n",
       "</table><p>"
      ],
      "text/plain": [
       "<IPython.core.display.HTML object>"
      ]
     },
     "metadata": {},
     "output_type": "display_data"
    },
    {
     "data": {
      "application/vnd.jupyter.widget-view+json": {
       "model_id": "71e86c968cf447bb8189aef31503ef9e",
       "version_major": 2,
       "version_minor": 0
      },
      "text/plain": [
       "  0%|          | 0/11873 [00:00<?, ?it/s]"
      ]
     },
     "metadata": {},
     "output_type": "display_data"
    },
    {
     "name": "stdout",
     "output_type": "stream",
     "text": [
      "Stopping training: eval_f1 below threshold of 60\n"
     ]
    },
    {
     "data": {
      "text/html": [
       "\n",
       "    <div>\n",
       "      \n",
       "      <progress value='749' max='749' style='width:300px; height:20px; vertical-align: middle;'></progress>\n",
       "      [749/749 00:25]\n",
       "    </div>\n",
       "    "
      ],
      "text/plain": [
       "<IPython.core.display.HTML object>"
      ]
     },
     "metadata": {},
     "output_type": "display_data"
    },
    {
     "data": {
      "application/vnd.jupyter.widget-view+json": {
       "model_id": "6677ecd4445a4bcf97da6533f95b99a6",
       "version_major": 2,
       "version_minor": 0
      },
      "text/plain": [
       "  0%|          | 0/11873 [00:00<?, ?it/s]"
      ]
     },
     "metadata": {},
     "output_type": "display_data"
    },
    {
     "name": "stdout",
     "output_type": "stream",
     "text": [
      "Stopping training: eval_f1 below threshold of 60\n",
      "Stopping training: No improvement in eval_f1 for 1 epochs\n"
     ]
    },
    {
     "name": "stderr",
     "output_type": "stream",
     "text": [
      "[I 2024-05-28 14:19:26,804] Trial 4 finished with value: 43.78591188618502 and parameters: {'no_answer_threshold': 0.3231791553521697, 'learning_rate': 2.4948789349742794e-06, 'batch_size': 16, 'warmup_ratio': 0, 'weight_decay': 0.02527800427875046, 'adam_beta1': 0.9361456853264649, 'adam_beta2': 0.9931962165396129, 'adam_epsilon': 1.277980490531531e-07, 'lr_scheduler_type': 'cosine'}. Best is trial 1 with value: 44.91203561684871.\n"
     ]
    },
    {
     "name": "stdout",
     "output_type": "stream",
     "text": [
      "Current Trial 5 parameters: {'no_answer_threshold': 0.659377379209957, 'learning_rate': 6.7470098546713646e-06, 'batch_size': 16, 'warmup_ratio': 0, 'weight_decay': 0.12144609685719168, 'adam_beta1': 0.8193829834774644, 'adam_beta2': 0.9960597149334708, 'adam_epsilon': 5.570285445033886e-08, 'lr_scheduler_type': 'constant_with_warmup'}\n"
     ]
    },
    {
     "name": "stderr",
     "output_type": "stream",
     "text": [
      "Some weights of DistilBertForQuestionAnswering were not initialized from the model checkpoint at distilbert-base-cased and are newly initialized: ['qa_outputs.bias', 'qa_outputs.weight']\n",
      "You should probably TRAIN this model on a down-stream task to be able to use it for predictions and inference.\n"
     ]
    },
    {
     "data": {
      "text/html": [
       "\n",
       "    <div>\n",
       "      \n",
       "      <progress value='3753' max='11259' style='width:300px; height:20px; vertical-align: middle;'></progress>\n",
       "      [ 3753/11259 07:43 < 15:27, 8.09 it/s, Epoch 1/3]\n",
       "    </div>\n",
       "    <table border=\"1\" class=\"dataframe\">\n",
       "  <thead>\n",
       " <tr style=\"text-align: left;\">\n",
       "      <th>Epoch</th>\n",
       "      <th>Training Loss</th>\n",
       "      <th>Validation Loss</th>\n",
       "      <th>Exact</th>\n",
       "      <th>F1</th>\n",
       "      <th>Total</th>\n",
       "      <th>Hasans Exact</th>\n",
       "      <th>Hasans F1</th>\n",
       "      <th>Hasans Total</th>\n",
       "      <th>Noans Exact</th>\n",
       "      <th>Noans F1</th>\n",
       "      <th>Noans Total</th>\n",
       "      <th>Best Exact</th>\n",
       "      <th>Best Exact Thresh</th>\n",
       "      <th>Best F1</th>\n",
       "      <th>Best F1 Thresh</th>\n",
       "    </tr>\n",
       "  </thead>\n",
       "  <tbody>\n",
       "    <tr>\n",
       "      <td>1</td>\n",
       "      <td>1.905700</td>\n",
       "      <td>No log</td>\n",
       "      <td>40.133075</td>\n",
       "      <td>50.238842</td>\n",
       "      <td>11873</td>\n",
       "      <td>27.058030</td>\n",
       "      <td>47.298545</td>\n",
       "      <td>5928</td>\n",
       "      <td>53.170732</td>\n",
       "      <td>53.170732</td>\n",
       "      <td>5945</td>\n",
       "      <td>50.088436</td>\n",
       "      <td>0.000000</td>\n",
       "      <td>51.558135</td>\n",
       "      <td>0.000000</td>\n",
       "    </tr>\n",
       "  </tbody>\n",
       "</table><p>"
      ],
      "text/plain": [
       "<IPython.core.display.HTML object>"
      ]
     },
     "metadata": {},
     "output_type": "display_data"
    },
    {
     "data": {
      "application/vnd.jupyter.widget-view+json": {
       "model_id": "04d92139049e4187acee942fc4c15daa",
       "version_major": 2,
       "version_minor": 0
      },
      "text/plain": [
       "  0%|          | 0/11873 [00:00<?, ?it/s]"
      ]
     },
     "metadata": {},
     "output_type": "display_data"
    },
    {
     "name": "stdout",
     "output_type": "stream",
     "text": [
      "Stopping training: eval_f1 below threshold of 60\n"
     ]
    },
    {
     "data": {
      "text/html": [
       "\n",
       "    <div>\n",
       "      \n",
       "      <progress value='749' max='749' style='width:300px; height:20px; vertical-align: middle;'></progress>\n",
       "      [749/749 00:25]\n",
       "    </div>\n",
       "    "
      ],
      "text/plain": [
       "<IPython.core.display.HTML object>"
      ]
     },
     "metadata": {},
     "output_type": "display_data"
    },
    {
     "data": {
      "application/vnd.jupyter.widget-view+json": {
       "model_id": "2f9717277f7b4baab1896409ffe0ee4b",
       "version_major": 2,
       "version_minor": 0
      },
      "text/plain": [
       "  0%|          | 0/11873 [00:00<?, ?it/s]"
      ]
     },
     "metadata": {},
     "output_type": "display_data"
    },
    {
     "name": "stdout",
     "output_type": "stream",
     "text": [
      "Stopping training: eval_f1 below threshold of 60\n",
      "Stopping training: No improvement in eval_f1 for 1 epochs\n"
     ]
    },
    {
     "name": "stderr",
     "output_type": "stream",
     "text": [
      "[I 2024-05-28 14:28:05,645] Trial 5 finished with value: 50.2388423003562 and parameters: {'no_answer_threshold': 0.659377379209957, 'learning_rate': 6.7470098546713646e-06, 'batch_size': 16, 'warmup_ratio': 0, 'weight_decay': 0.12144609685719168, 'adam_beta1': 0.8193829834774644, 'adam_beta2': 0.9960597149334708, 'adam_epsilon': 5.570285445033886e-08, 'lr_scheduler_type': 'constant_with_warmup'}. Best is trial 5 with value: 50.2388423003562.\n"
     ]
    },
    {
     "name": "stdout",
     "output_type": "stream",
     "text": [
      "Current Trial 6 parameters: {'no_answer_threshold': 0.4369182691568473, 'learning_rate': 9.315730427044576e-06, 'batch_size': 32, 'warmup_ratio': 0, 'weight_decay': 0.06378335147338626, 'adam_beta1': 0.846373248970358, 'adam_beta2': 0.9975684576757333, 'adam_epsilon': 4.635020728127243e-07, 'lr_scheduler_type': 'cosine_with_restarts'}\n"
     ]
    },
    {
     "name": "stderr",
     "output_type": "stream",
     "text": [
      "Some weights of DistilBertForQuestionAnswering were not initialized from the model checkpoint at distilbert-base-cased and are newly initialized: ['qa_outputs.bias', 'qa_outputs.weight']\n",
      "You should probably TRAIN this model on a down-stream task to be able to use it for predictions and inference.\n"
     ]
    },
    {
     "data": {
      "text/html": [
       "\n",
       "    <div>\n",
       "      \n",
       "      <progress value='1877' max='5631' style='width:300px; height:20px; vertical-align: middle;'></progress>\n",
       "      [1877/5631 07:19 < 14:39, 4.27 it/s, Epoch 1/3]\n",
       "    </div>\n",
       "    <table border=\"1\" class=\"dataframe\">\n",
       "  <thead>\n",
       " <tr style=\"text-align: left;\">\n",
       "      <th>Epoch</th>\n",
       "      <th>Training Loss</th>\n",
       "      <th>Validation Loss</th>\n",
       "      <th>Exact</th>\n",
       "      <th>F1</th>\n",
       "      <th>Total</th>\n",
       "      <th>Hasans Exact</th>\n",
       "      <th>Hasans F1</th>\n",
       "      <th>Hasans Total</th>\n",
       "      <th>Noans Exact</th>\n",
       "      <th>Noans F1</th>\n",
       "      <th>Noans Total</th>\n",
       "      <th>Best Exact</th>\n",
       "      <th>Best Exact Thresh</th>\n",
       "      <th>Best F1</th>\n",
       "      <th>Best F1 Thresh</th>\n",
       "    </tr>\n",
       "  </thead>\n",
       "  <tbody>\n",
       "    <tr>\n",
       "      <td>1</td>\n",
       "      <td>2.044500</td>\n",
       "      <td>No log</td>\n",
       "      <td>39.897246</td>\n",
       "      <td>49.804591</td>\n",
       "      <td>11873</td>\n",
       "      <td>25.590418</td>\n",
       "      <td>45.433521</td>\n",
       "      <td>5928</td>\n",
       "      <td>54.163162</td>\n",
       "      <td>54.163162</td>\n",
       "      <td>5945</td>\n",
       "      <td>50.096858</td>\n",
       "      <td>0.000000</td>\n",
       "      <td>51.278131</td>\n",
       "      <td>0.000000</td>\n",
       "    </tr>\n",
       "  </tbody>\n",
       "</table><p>"
      ],
      "text/plain": [
       "<IPython.core.display.HTML object>"
      ]
     },
     "metadata": {},
     "output_type": "display_data"
    },
    {
     "data": {
      "application/vnd.jupyter.widget-view+json": {
       "model_id": "df73119db69b46d4af05e8aa62de6c1c",
       "version_major": 2,
       "version_minor": 0
      },
      "text/plain": [
       "  0%|          | 0/11873 [00:00<?, ?it/s]"
      ]
     },
     "metadata": {},
     "output_type": "display_data"
    },
    {
     "name": "stdout",
     "output_type": "stream",
     "text": [
      "Stopping training: eval_f1 below threshold of 60\n"
     ]
    },
    {
     "data": {
      "text/html": [
       "\n",
       "    <div>\n",
       "      \n",
       "      <progress value='375' max='375' style='width:300px; height:20px; vertical-align: middle;'></progress>\n",
       "      [375/375 00:25]\n",
       "    </div>\n",
       "    "
      ],
      "text/plain": [
       "<IPython.core.display.HTML object>"
      ]
     },
     "metadata": {},
     "output_type": "display_data"
    },
    {
     "data": {
      "application/vnd.jupyter.widget-view+json": {
       "model_id": "4d33cad6b4a44f00945e70b8e193b235",
       "version_major": 2,
       "version_minor": 0
      },
      "text/plain": [
       "  0%|          | 0/11873 [00:00<?, ?it/s]"
      ]
     },
     "metadata": {},
     "output_type": "display_data"
    },
    {
     "name": "stdout",
     "output_type": "stream",
     "text": [
      "Stopping training: eval_f1 below threshold of 60\n",
      "Stopping training: No improvement in eval_f1 for 1 epochs\n"
     ]
    },
    {
     "name": "stderr",
     "output_type": "stream",
     "text": [
      "[I 2024-05-28 14:36:20,176] Trial 6 finished with value: 49.804591141620136 and parameters: {'no_answer_threshold': 0.4369182691568473, 'learning_rate': 9.315730427044576e-06, 'batch_size': 32, 'warmup_ratio': 0, 'weight_decay': 0.06378335147338626, 'adam_beta1': 0.846373248970358, 'adam_beta2': 0.9975684576757333, 'adam_epsilon': 4.635020728127243e-07, 'lr_scheduler_type': 'cosine_with_restarts'}. Best is trial 5 with value: 50.2388423003562.\n"
     ]
    },
    {
     "name": "stdout",
     "output_type": "stream",
     "text": [
      "Current Trial 7 parameters: {'no_answer_threshold': 0.9740812213786011, 'learning_rate': 9.967234534268113e-06, 'batch_size': 64, 'warmup_ratio': 1, 'weight_decay': 0.11870661895193244, 'adam_beta1': 0.8231841261405713, 'adam_beta2': 0.998296879379391, 'adam_epsilon': 8.545134868588801e-07, 'lr_scheduler_type': 'constant_with_warmup'}\n"
     ]
    },
    {
     "name": "stderr",
     "output_type": "stream",
     "text": [
      "Some weights of DistilBertForQuestionAnswering were not initialized from the model checkpoint at distilbert-base-cased and are newly initialized: ['qa_outputs.bias', 'qa_outputs.weight']\n",
      "You should probably TRAIN this model on a down-stream task to be able to use it for predictions and inference.\n"
     ]
    },
    {
     "data": {
      "text/html": [
       "\n",
       "    <div>\n",
       "      \n",
       "      <progress value='939' max='2817' style='width:300px; height:20px; vertical-align: middle;'></progress>\n",
       "      [ 939/2817 27:22 < 54:51, 0.57 it/s, Epoch 1/3]\n",
       "    </div>\n",
       "    <table border=\"1\" class=\"dataframe\">\n",
       "  <thead>\n",
       " <tr style=\"text-align: left;\">\n",
       "      <th>Epoch</th>\n",
       "      <th>Training Loss</th>\n",
       "      <th>Validation Loss</th>\n",
       "      <th>Exact</th>\n",
       "      <th>F1</th>\n",
       "      <th>Total</th>\n",
       "      <th>Hasans Exact</th>\n",
       "      <th>Hasans F1</th>\n",
       "      <th>Hasans Total</th>\n",
       "      <th>Noans Exact</th>\n",
       "      <th>Noans F1</th>\n",
       "      <th>Noans Total</th>\n",
       "      <th>Best Exact</th>\n",
       "      <th>Best Exact Thresh</th>\n",
       "      <th>Best F1</th>\n",
       "      <th>Best F1 Thresh</th>\n",
       "    </tr>\n",
       "  </thead>\n",
       "  <tbody>\n",
       "    <tr>\n",
       "      <td>1</td>\n",
       "      <td>5.339800</td>\n",
       "      <td>No log</td>\n",
       "      <td>49.229344</td>\n",
       "      <td>49.408377</td>\n",
       "      <td>11873</td>\n",
       "      <td>0.607287</td>\n",
       "      <td>0.965867</td>\n",
       "      <td>5928</td>\n",
       "      <td>97.712363</td>\n",
       "      <td>97.712363</td>\n",
       "      <td>5945</td>\n",
       "      <td>50.071591</td>\n",
       "      <td>0.000000</td>\n",
       "      <td>50.078329</td>\n",
       "      <td>0.000000</td>\n",
       "    </tr>\n",
       "  </tbody>\n",
       "</table><p>"
      ],
      "text/plain": [
       "<IPython.core.display.HTML object>"
      ]
     },
     "metadata": {},
     "output_type": "display_data"
    },
    {
     "data": {
      "application/vnd.jupyter.widget-view+json": {
       "model_id": "a5e5a1a12022417490ca1b12c9070d30",
       "version_major": 2,
       "version_minor": 0
      },
      "text/plain": [
       "  0%|          | 0/11873 [00:00<?, ?it/s]"
      ]
     },
     "metadata": {},
     "output_type": "display_data"
    },
    {
     "name": "stdout",
     "output_type": "stream",
     "text": [
      "Stopping training: eval_f1 below threshold of 60\n"
     ]
    },
    {
     "data": {
      "text/html": [
       "\n",
       "    <div>\n",
       "      \n",
       "      <progress value='188' max='188' style='width:300px; height:20px; vertical-align: middle;'></progress>\n",
       "      [188/188 00:25]\n",
       "    </div>\n",
       "    "
      ],
      "text/plain": [
       "<IPython.core.display.HTML object>"
      ]
     },
     "metadata": {},
     "output_type": "display_data"
    },
    {
     "data": {
      "application/vnd.jupyter.widget-view+json": {
       "model_id": "39c404f19233405184e6058733469761",
       "version_major": 2,
       "version_minor": 0
      },
      "text/plain": [
       "  0%|          | 0/11873 [00:00<?, ?it/s]"
      ]
     },
     "metadata": {},
     "output_type": "display_data"
    },
    {
     "name": "stdout",
     "output_type": "stream",
     "text": [
      "Stopping training: eval_f1 below threshold of 60\n",
      "Stopping training: No improvement in eval_f1 for 1 epochs\n"
     ]
    },
    {
     "name": "stderr",
     "output_type": "stream",
     "text": [
      "[I 2024-05-28 15:04:44,930] Trial 7 finished with value: 49.40837711029721 and parameters: {'no_answer_threshold': 0.9740812213786011, 'learning_rate': 9.967234534268113e-06, 'batch_size': 64, 'warmup_ratio': 1, 'weight_decay': 0.11870661895193244, 'adam_beta1': 0.8231841261405713, 'adam_beta2': 0.998296879379391, 'adam_epsilon': 8.545134868588801e-07, 'lr_scheduler_type': 'constant_with_warmup'}. Best is trial 5 with value: 50.2388423003562.\n"
     ]
    },
    {
     "name": "stdout",
     "output_type": "stream",
     "text": [
      "Current Trial 8 parameters: {'no_answer_threshold': 0.0392068448070132, 'learning_rate': 5.297962728573748e-07, 'batch_size': 64, 'warmup_ratio': 1, 'weight_decay': 0.06175700333724787, 'adam_beta1': 0.8988609198510531, 'adam_beta2': 0.9966205247607586, 'adam_epsilon': 7.087787308035341e-07, 'lr_scheduler_type': 'cosine_with_restarts'}\n"
     ]
    },
    {
     "name": "stderr",
     "output_type": "stream",
     "text": [
      "Some weights of DistilBertForQuestionAnswering were not initialized from the model checkpoint at distilbert-base-cased and are newly initialized: ['qa_outputs.bias', 'qa_outputs.weight']\n",
      "You should probably TRAIN this model on a down-stream task to be able to use it for predictions and inference.\n"
     ]
    },
    {
     "data": {
      "text/html": [
       "\n",
       "    <div>\n",
       "      \n",
       "      <progress value='939' max='2817' style='width:300px; height:20px; vertical-align: middle;'></progress>\n",
       "      [ 939/2817 50:54 < 1:42:01, 0.31 it/s, Epoch 1/3]\n",
       "    </div>\n",
       "    <table border=\"1\" class=\"dataframe\">\n",
       "  <thead>\n",
       " <tr style=\"text-align: left;\">\n",
       "      <th>Epoch</th>\n",
       "      <th>Training Loss</th>\n",
       "      <th>Validation Loss</th>\n",
       "      <th>Exact</th>\n",
       "      <th>F1</th>\n",
       "      <th>Total</th>\n",
       "      <th>Hasans Exact</th>\n",
       "      <th>Hasans F1</th>\n",
       "      <th>Hasans Total</th>\n",
       "      <th>Noans Exact</th>\n",
       "      <th>Noans F1</th>\n",
       "      <th>Noans Total</th>\n",
       "      <th>Best Exact</th>\n",
       "      <th>Best Exact Thresh</th>\n",
       "      <th>Best F1</th>\n",
       "      <th>Best F1 Thresh</th>\n",
       "    </tr>\n",
       "  </thead>\n",
       "  <tbody>\n",
       "    <tr>\n",
       "      <td>1</td>\n",
       "      <td>6.286600</td>\n",
       "      <td>No log</td>\n",
       "      <td>1.254948</td>\n",
       "      <td>5.503964</td>\n",
       "      <td>11873</td>\n",
       "      <td>0.387989</td>\n",
       "      <td>8.898206</td>\n",
       "      <td>5928</td>\n",
       "      <td>2.119428</td>\n",
       "      <td>2.119428</td>\n",
       "      <td>5945</td>\n",
       "      <td>50.071591</td>\n",
       "      <td>0.000000</td>\n",
       "      <td>50.078794</td>\n",
       "      <td>0.000000</td>\n",
       "    </tr>\n",
       "  </tbody>\n",
       "</table><p>"
      ],
      "text/plain": [
       "<IPython.core.display.HTML object>"
      ]
     },
     "metadata": {},
     "output_type": "display_data"
    },
    {
     "data": {
      "application/vnd.jupyter.widget-view+json": {
       "model_id": "e8e919646f6542a1bf3d8464bad2fbe6",
       "version_major": 2,
       "version_minor": 0
      },
      "text/plain": [
       "  0%|          | 0/11873 [00:00<?, ?it/s]"
      ]
     },
     "metadata": {},
     "output_type": "display_data"
    },
    {
     "name": "stdout",
     "output_type": "stream",
     "text": [
      "Stopping training: eval_f1 below threshold of 60\n"
     ]
    },
    {
     "data": {
      "text/html": [
       "\n",
       "    <div>\n",
       "      \n",
       "      <progress value='188' max='188' style='width:300px; height:20px; vertical-align: middle;'></progress>\n",
       "      [188/188 00:25]\n",
       "    </div>\n",
       "    "
      ],
      "text/plain": [
       "<IPython.core.display.HTML object>"
      ]
     },
     "metadata": {},
     "output_type": "display_data"
    },
    {
     "data": {
      "application/vnd.jupyter.widget-view+json": {
       "model_id": "f30e989f24e94892b48ebe2abb2f8cb8",
       "version_major": 2,
       "version_minor": 0
      },
      "text/plain": [
       "  0%|          | 0/11873 [00:00<?, ?it/s]"
      ]
     },
     "metadata": {},
     "output_type": "display_data"
    },
    {
     "name": "stdout",
     "output_type": "stream",
     "text": [
      "Stopping training: eval_f1 below threshold of 60\n",
      "Stopping training: No improvement in eval_f1 for 1 epochs\n"
     ]
    },
    {
     "name": "stderr",
     "output_type": "stream",
     "text": [
      "[I 2024-05-28 15:56:37,611] Trial 8 finished with value: 5.5039640565967 and parameters: {'no_answer_threshold': 0.0392068448070132, 'learning_rate': 5.297962728573748e-07, 'batch_size': 64, 'warmup_ratio': 1, 'weight_decay': 0.06175700333724787, 'adam_beta1': 0.8988609198510531, 'adam_beta2': 0.9966205247607586, 'adam_epsilon': 7.087787308035341e-07, 'lr_scheduler_type': 'cosine_with_restarts'}. Best is trial 5 with value: 50.2388423003562.\n"
     ]
    },
    {
     "name": "stdout",
     "output_type": "stream",
     "text": [
      "Current Trial 9 parameters: {'no_answer_threshold': 0.9413902275449526, 'learning_rate': 2.2923373650280526e-07, 'batch_size': 16, 'warmup_ratio': 1, 'weight_decay': 0.0003391764074970327, 'adam_beta1': 0.9273040433586859, 'adam_beta2': 0.9975387907070428, 'adam_epsilon': 6.082192257763895e-07, 'lr_scheduler_type': 'linear'}\n"
     ]
    },
    {
     "name": "stderr",
     "output_type": "stream",
     "text": [
      "Some weights of DistilBertForQuestionAnswering were not initialized from the model checkpoint at distilbert-base-cased and are newly initialized: ['qa_outputs.bias', 'qa_outputs.weight']\n",
      "You should probably TRAIN this model on a down-stream task to be able to use it for predictions and inference.\n"
     ]
    },
    {
     "data": {
      "text/html": [
       "\n",
       "    <div>\n",
       "      \n",
       "      <progress value='3753' max='11259' style='width:300px; height:20px; vertical-align: middle;'></progress>\n",
       "      [ 3753/11259 07:44 < 15:29, 8.08 it/s, Epoch 1/3]\n",
       "    </div>\n",
       "    <table border=\"1\" class=\"dataframe\">\n",
       "  <thead>\n",
       " <tr style=\"text-align: left;\">\n",
       "      <th>Epoch</th>\n",
       "      <th>Training Loss</th>\n",
       "      <th>Validation Loss</th>\n",
       "      <th>Exact</th>\n",
       "      <th>F1</th>\n",
       "      <th>Total</th>\n",
       "      <th>Hasans Exact</th>\n",
       "      <th>Hasans F1</th>\n",
       "      <th>Hasans Total</th>\n",
       "      <th>Noans Exact</th>\n",
       "      <th>Noans F1</th>\n",
       "      <th>Noans Total</th>\n",
       "      <th>Best Exact</th>\n",
       "      <th>Best Exact Thresh</th>\n",
       "      <th>Best F1</th>\n",
       "      <th>Best F1 Thresh</th>\n",
       "    </tr>\n",
       "  </thead>\n",
       "  <tbody>\n",
       "    <tr>\n",
       "      <td>1</td>\n",
       "      <td>6.007700</td>\n",
       "      <td>No log</td>\n",
       "      <td>0.707488</td>\n",
       "      <td>5.108760</td>\n",
       "      <td>11873</td>\n",
       "      <td>0.421727</td>\n",
       "      <td>9.236893</td>\n",
       "      <td>5928</td>\n",
       "      <td>0.992431</td>\n",
       "      <td>0.992431</td>\n",
       "      <td>5945</td>\n",
       "      <td>50.071591</td>\n",
       "      <td>0.000000</td>\n",
       "      <td>50.078794</td>\n",
       "      <td>0.000000</td>\n",
       "    </tr>\n",
       "  </tbody>\n",
       "</table><p>"
      ],
      "text/plain": [
       "<IPython.core.display.HTML object>"
      ]
     },
     "metadata": {},
     "output_type": "display_data"
    },
    {
     "data": {
      "application/vnd.jupyter.widget-view+json": {
       "model_id": "10c22bd571964ff0b9f67da99e7abb44",
       "version_major": 2,
       "version_minor": 0
      },
      "text/plain": [
       "  0%|          | 0/11873 [00:00<?, ?it/s]"
      ]
     },
     "metadata": {},
     "output_type": "display_data"
    },
    {
     "name": "stdout",
     "output_type": "stream",
     "text": [
      "Stopping training: eval_f1 below threshold of 60\n"
     ]
    },
    {
     "data": {
      "text/html": [
       "\n",
       "    <div>\n",
       "      \n",
       "      <progress value='749' max='749' style='width:300px; height:20px; vertical-align: middle;'></progress>\n",
       "      [749/749 00:25]\n",
       "    </div>\n",
       "    "
      ],
      "text/plain": [
       "<IPython.core.display.HTML object>"
      ]
     },
     "metadata": {},
     "output_type": "display_data"
    },
    {
     "data": {
      "application/vnd.jupyter.widget-view+json": {
       "model_id": "e6407e8de152437c98f84f102cfe1e8e",
       "version_major": 2,
       "version_minor": 0
      },
      "text/plain": [
       "  0%|          | 0/11873 [00:00<?, ?it/s]"
      ]
     },
     "metadata": {},
     "output_type": "display_data"
    },
    {
     "name": "stdout",
     "output_type": "stream",
     "text": [
      "Stopping training: eval_f1 below threshold of 60\n",
      "Stopping training: No improvement in eval_f1 for 1 epochs\n"
     ]
    },
    {
     "name": "stderr",
     "output_type": "stream",
     "text": [
      "[I 2024-05-28 16:05:17,490] Trial 9 finished with value: 5.108759761763431 and parameters: {'no_answer_threshold': 0.9413902275449526, 'learning_rate': 2.2923373650280526e-07, 'batch_size': 16, 'warmup_ratio': 1, 'weight_decay': 0.0003391764074970327, 'adam_beta1': 0.9273040433586859, 'adam_beta2': 0.9975387907070428, 'adam_epsilon': 6.082192257763895e-07, 'lr_scheduler_type': 'linear'}. Best is trial 5 with value: 50.2388423003562.\n"
     ]
    },
    {
     "name": "stdout",
     "output_type": "stream",
     "text": [
      "Current Trial 10 parameters: {'no_answer_threshold': 0.682882337760189, 'learning_rate': 6.844634422462527e-05, 'batch_size': 16, 'warmup_ratio': 0, 'weight_decay': 0.24403466535059673, 'adam_beta1': 0.8036797755895402, 'adam_beta2': 0.9900878627741766, 'adam_epsilon': 2.996460070503431e-08, 'lr_scheduler_type': 'constant_with_warmup'}\n"
     ]
    },
    {
     "name": "stderr",
     "output_type": "stream",
     "text": [
      "Some weights of DistilBertForQuestionAnswering were not initialized from the model checkpoint at distilbert-base-cased and are newly initialized: ['qa_outputs.bias', 'qa_outputs.weight']\n",
      "You should probably TRAIN this model on a down-stream task to be able to use it for predictions and inference.\n"
     ]
    },
    {
     "data": {
      "text/html": [
       "\n",
       "    <div>\n",
       "      \n",
       "      <progress value='3753' max='11259' style='width:300px; height:20px; vertical-align: middle;'></progress>\n",
       "      [ 3753/11259 07:45 < 15:31, 8.06 it/s, Epoch 1/3]\n",
       "    </div>\n",
       "    <table border=\"1\" class=\"dataframe\">\n",
       "  <thead>\n",
       " <tr style=\"text-align: left;\">\n",
       "      <th>Epoch</th>\n",
       "      <th>Training Loss</th>\n",
       "      <th>Validation Loss</th>\n",
       "      <th>Exact</th>\n",
       "      <th>F1</th>\n",
       "      <th>Total</th>\n",
       "      <th>Hasans Exact</th>\n",
       "      <th>Hasans F1</th>\n",
       "      <th>Hasans Total</th>\n",
       "      <th>Noans Exact</th>\n",
       "      <th>Noans F1</th>\n",
       "      <th>Noans Total</th>\n",
       "      <th>Best Exact</th>\n",
       "      <th>Best Exact Thresh</th>\n",
       "      <th>Best F1</th>\n",
       "      <th>Best F1 Thresh</th>\n",
       "    </tr>\n",
       "  </thead>\n",
       "  <tbody>\n",
       "    <tr>\n",
       "      <td>1</td>\n",
       "      <td>1.479400</td>\n",
       "      <td>No log</td>\n",
       "      <td>39.425587</td>\n",
       "      <td>53.043994</td>\n",
       "      <td>11873</td>\n",
       "      <td>36.116734</td>\n",
       "      <td>63.392601</td>\n",
       "      <td>5928</td>\n",
       "      <td>42.724979</td>\n",
       "      <td>42.724979</td>\n",
       "      <td>5945</td>\n",
       "      <td>50.096858</td>\n",
       "      <td>0.000000</td>\n",
       "      <td>53.447996</td>\n",
       "      <td>0.000000</td>\n",
       "    </tr>\n",
       "  </tbody>\n",
       "</table><p>"
      ],
      "text/plain": [
       "<IPython.core.display.HTML object>"
      ]
     },
     "metadata": {},
     "output_type": "display_data"
    },
    {
     "data": {
      "application/vnd.jupyter.widget-view+json": {
       "model_id": "e21949be0dfa4389964bad59dac3c1d2",
       "version_major": 2,
       "version_minor": 0
      },
      "text/plain": [
       "  0%|          | 0/11873 [00:00<?, ?it/s]"
      ]
     },
     "metadata": {},
     "output_type": "display_data"
    },
    {
     "name": "stdout",
     "output_type": "stream",
     "text": [
      "Stopping training: eval_f1 below threshold of 60\n"
     ]
    },
    {
     "data": {
      "text/html": [
       "\n",
       "    <div>\n",
       "      \n",
       "      <progress value='749' max='749' style='width:300px; height:20px; vertical-align: middle;'></progress>\n",
       "      [749/749 00:25]\n",
       "    </div>\n",
       "    "
      ],
      "text/plain": [
       "<IPython.core.display.HTML object>"
      ]
     },
     "metadata": {},
     "output_type": "display_data"
    },
    {
     "data": {
      "application/vnd.jupyter.widget-view+json": {
       "model_id": "793014a3d820428482a1073d8d1223e7",
       "version_major": 2,
       "version_minor": 0
      },
      "text/plain": [
       "  0%|          | 0/11873 [00:00<?, ?it/s]"
      ]
     },
     "metadata": {},
     "output_type": "display_data"
    },
    {
     "name": "stdout",
     "output_type": "stream",
     "text": [
      "Stopping training: eval_f1 below threshold of 60\n",
      "Stopping training: No improvement in eval_f1 for 1 epochs\n"
     ]
    },
    {
     "name": "stderr",
     "output_type": "stream",
     "text": [
      "[I 2024-05-28 16:13:58,542] Trial 10 finished with value: 53.04399363663488 and parameters: {'no_answer_threshold': 0.682882337760189, 'learning_rate': 6.844634422462527e-05, 'batch_size': 16, 'warmup_ratio': 0, 'weight_decay': 0.24403466535059673, 'adam_beta1': 0.8036797755895402, 'adam_beta2': 0.9900878627741766, 'adam_epsilon': 2.996460070503431e-08, 'lr_scheduler_type': 'constant_with_warmup'}. Best is trial 10 with value: 53.04399363663488.\n"
     ]
    },
    {
     "name": "stdout",
     "output_type": "stream",
     "text": [
      "Current Trial 11 parameters: {'no_answer_threshold': 0.6517464760463882, 'learning_rate': 9.643329803261763e-05, 'batch_size': 16, 'warmup_ratio': 0, 'weight_decay': 0.24502309417965254, 'adam_beta1': 0.8012138459144734, 'adam_beta2': 0.9901948960147567, 'adam_epsilon': 2.9957770895001226e-08, 'lr_scheduler_type': 'constant_with_warmup'}\n"
     ]
    },
    {
     "name": "stderr",
     "output_type": "stream",
     "text": [
      "Some weights of DistilBertForQuestionAnswering were not initialized from the model checkpoint at distilbert-base-cased and are newly initialized: ['qa_outputs.bias', 'qa_outputs.weight']\n",
      "You should probably TRAIN this model on a down-stream task to be able to use it for predictions and inference.\n"
     ]
    },
    {
     "data": {
      "text/html": [
       "\n",
       "    <div>\n",
       "      \n",
       "      <progress value='3753' max='11259' style='width:300px; height:20px; vertical-align: middle;'></progress>\n",
       "      [ 3753/11259 07:44 < 15:29, 8.08 it/s, Epoch 1/3]\n",
       "    </div>\n",
       "    <table border=\"1\" class=\"dataframe\">\n",
       "  <thead>\n",
       " <tr style=\"text-align: left;\">\n",
       "      <th>Epoch</th>\n",
       "      <th>Training Loss</th>\n",
       "      <th>Validation Loss</th>\n",
       "      <th>Exact</th>\n",
       "      <th>F1</th>\n",
       "      <th>Total</th>\n",
       "      <th>Hasans Exact</th>\n",
       "      <th>Hasans F1</th>\n",
       "      <th>Hasans Total</th>\n",
       "      <th>Noans Exact</th>\n",
       "      <th>Noans F1</th>\n",
       "      <th>Noans Total</th>\n",
       "      <th>Best Exact</th>\n",
       "      <th>Best Exact Thresh</th>\n",
       "      <th>Best F1</th>\n",
       "      <th>Best F1 Thresh</th>\n",
       "    </tr>\n",
       "  </thead>\n",
       "  <tbody>\n",
       "    <tr>\n",
       "      <td>1</td>\n",
       "      <td>1.532500</td>\n",
       "      <td>No log</td>\n",
       "      <td>33.664617</td>\n",
       "      <td>47.861251</td>\n",
       "      <td>11873</td>\n",
       "      <td>37.567476</td>\n",
       "      <td>66.001456</td>\n",
       "      <td>5928</td>\n",
       "      <td>29.772918</td>\n",
       "      <td>29.772918</td>\n",
       "      <td>5945</td>\n",
       "      <td>50.096858</td>\n",
       "      <td>0.000000</td>\n",
       "      <td>50.325370</td>\n",
       "      <td>0.000000</td>\n",
       "    </tr>\n",
       "  </tbody>\n",
       "</table><p>"
      ],
      "text/plain": [
       "<IPython.core.display.HTML object>"
      ]
     },
     "metadata": {},
     "output_type": "display_data"
    },
    {
     "data": {
      "application/vnd.jupyter.widget-view+json": {
       "model_id": "91c3e2650ebd40d49d78c2b58477e8b3",
       "version_major": 2,
       "version_minor": 0
      },
      "text/plain": [
       "  0%|          | 0/11873 [00:00<?, ?it/s]"
      ]
     },
     "metadata": {},
     "output_type": "display_data"
    },
    {
     "name": "stdout",
     "output_type": "stream",
     "text": [
      "Stopping training: eval_f1 below threshold of 60\n"
     ]
    },
    {
     "data": {
      "text/html": [
       "\n",
       "    <div>\n",
       "      \n",
       "      <progress value='749' max='749' style='width:300px; height:20px; vertical-align: middle;'></progress>\n",
       "      [749/749 00:25]\n",
       "    </div>\n",
       "    "
      ],
      "text/plain": [
       "<IPython.core.display.HTML object>"
      ]
     },
     "metadata": {},
     "output_type": "display_data"
    },
    {
     "data": {
      "application/vnd.jupyter.widget-view+json": {
       "model_id": "0cd623066eef43d7a1380b1fdd9eec41",
       "version_major": 2,
       "version_minor": 0
      },
      "text/plain": [
       "  0%|          | 0/11873 [00:00<?, ?it/s]"
      ]
     },
     "metadata": {},
     "output_type": "display_data"
    },
    {
     "name": "stdout",
     "output_type": "stream",
     "text": [
      "Stopping training: eval_f1 below threshold of 60\n",
      "Stopping training: No improvement in eval_f1 for 1 epochs\n"
     ]
    },
    {
     "name": "stderr",
     "output_type": "stream",
     "text": [
      "[I 2024-05-28 16:22:38,772] Trial 11 finished with value: 47.861250770658316 and parameters: {'no_answer_threshold': 0.6517464760463882, 'learning_rate': 9.643329803261763e-05, 'batch_size': 16, 'warmup_ratio': 0, 'weight_decay': 0.24502309417965254, 'adam_beta1': 0.8012138459144734, 'adam_beta2': 0.9901948960147567, 'adam_epsilon': 2.9957770895001226e-08, 'lr_scheduler_type': 'constant_with_warmup'}. Best is trial 10 with value: 53.04399363663488.\n"
     ]
    },
    {
     "name": "stdout",
     "output_type": "stream",
     "text": [
      "Current Trial 12 parameters: {'no_answer_threshold': 0.6793253908883286, 'learning_rate': 7.840491816198331e-05, 'batch_size': 16, 'warmup_ratio': 0, 'weight_decay': 0.17981484714003648, 'adam_beta1': 0.8437314563076856, 'adam_beta2': 0.9903977650217831, 'adam_epsilon': 2.590308384852307e-07, 'lr_scheduler_type': 'constant_with_warmup'}\n"
     ]
    },
    {
     "name": "stderr",
     "output_type": "stream",
     "text": [
      "Some weights of DistilBertForQuestionAnswering were not initialized from the model checkpoint at distilbert-base-cased and are newly initialized: ['qa_outputs.bias', 'qa_outputs.weight']\n",
      "You should probably TRAIN this model on a down-stream task to be able to use it for predictions and inference.\n"
     ]
    },
    {
     "data": {
      "text/html": [
       "\n",
       "    <div>\n",
       "      \n",
       "      <progress value='3753' max='11259' style='width:300px; height:20px; vertical-align: middle;'></progress>\n",
       "      [ 3753/11259 07:52 < 15:44, 7.95 it/s, Epoch 1/3]\n",
       "    </div>\n",
       "    <table border=\"1\" class=\"dataframe\">\n",
       "  <thead>\n",
       " <tr style=\"text-align: left;\">\n",
       "      <th>Epoch</th>\n",
       "      <th>Training Loss</th>\n",
       "      <th>Validation Loss</th>\n",
       "      <th>Exact</th>\n",
       "      <th>F1</th>\n",
       "      <th>Total</th>\n",
       "      <th>Hasans Exact</th>\n",
       "      <th>Hasans F1</th>\n",
       "      <th>Hasans Total</th>\n",
       "      <th>Noans Exact</th>\n",
       "      <th>Noans F1</th>\n",
       "      <th>Noans Total</th>\n",
       "      <th>Best Exact</th>\n",
       "      <th>Best Exact Thresh</th>\n",
       "      <th>Best F1</th>\n",
       "      <th>Best F1 Thresh</th>\n",
       "    </tr>\n",
       "  </thead>\n",
       "  <tbody>\n",
       "    <tr>\n",
       "      <td>1</td>\n",
       "      <td>1.497300</td>\n",
       "      <td>No log</td>\n",
       "      <td>40.225722</td>\n",
       "      <td>53.663205</td>\n",
       "      <td>11873</td>\n",
       "      <td>35.408232</td>\n",
       "      <td>62.321733</td>\n",
       "      <td>5928</td>\n",
       "      <td>45.029437</td>\n",
       "      <td>45.029437</td>\n",
       "      <td>5945</td>\n",
       "      <td>50.096858</td>\n",
       "      <td>0.000000</td>\n",
       "      <td>54.276264</td>\n",
       "      <td>0.000000</td>\n",
       "    </tr>\n",
       "  </tbody>\n",
       "</table><p>"
      ],
      "text/plain": [
       "<IPython.core.display.HTML object>"
      ]
     },
     "metadata": {},
     "output_type": "display_data"
    },
    {
     "data": {
      "application/vnd.jupyter.widget-view+json": {
       "model_id": "b3f1fc478a754cd8885666e4d112ae8e",
       "version_major": 2,
       "version_minor": 0
      },
      "text/plain": [
       "  0%|          | 0/11873 [00:00<?, ?it/s]"
      ]
     },
     "metadata": {},
     "output_type": "display_data"
    },
    {
     "name": "stdout",
     "output_type": "stream",
     "text": [
      "Stopping training: eval_f1 below threshold of 60\n"
     ]
    },
    {
     "data": {
      "text/html": [
       "\n",
       "    <div>\n",
       "      \n",
       "      <progress value='749' max='749' style='width:300px; height:20px; vertical-align: middle;'></progress>\n",
       "      [749/749 00:26]\n",
       "    </div>\n",
       "    "
      ],
      "text/plain": [
       "<IPython.core.display.HTML object>"
      ]
     },
     "metadata": {},
     "output_type": "display_data"
    },
    {
     "data": {
      "application/vnd.jupyter.widget-view+json": {
       "model_id": "9c4fc6c1b48e44dc96f2f8701056e6a2",
       "version_major": 2,
       "version_minor": 0
      },
      "text/plain": [
       "  0%|          | 0/11873 [00:00<?, ?it/s]"
      ]
     },
     "metadata": {},
     "output_type": "display_data"
    },
    {
     "name": "stdout",
     "output_type": "stream",
     "text": [
      "Stopping training: eval_f1 below threshold of 60\n",
      "Stopping training: No improvement in eval_f1 for 1 epochs\n"
     ]
    },
    {
     "name": "stderr",
     "output_type": "stream",
     "text": [
      "[I 2024-05-28 16:31:28,017] Trial 12 finished with value: 53.66320484982334 and parameters: {'no_answer_threshold': 0.6793253908883286, 'learning_rate': 7.840491816198331e-05, 'batch_size': 16, 'warmup_ratio': 0, 'weight_decay': 0.17981484714003648, 'adam_beta1': 0.8437314563076856, 'adam_beta2': 0.9903977650217831, 'adam_epsilon': 2.590308384852307e-07, 'lr_scheduler_type': 'constant_with_warmup'}. Best is trial 12 with value: 53.66320484982334.\n"
     ]
    },
    {
     "name": "stdout",
     "output_type": "stream",
     "text": [
      "Current Trial 13 parameters: {'no_answer_threshold': 0.6680643764210701, 'learning_rate': 8.603126160772094e-05, 'batch_size': 16, 'warmup_ratio': 0, 'weight_decay': 0.19840514574174997, 'adam_beta1': 0.848683722408515, 'adam_beta2': 0.9900245113645748, 'adam_epsilon': 2.701113717700853e-07, 'lr_scheduler_type': 'constant_with_warmup'}\n"
     ]
    },
    {
     "name": "stderr",
     "output_type": "stream",
     "text": [
      "Some weights of DistilBertForQuestionAnswering were not initialized from the model checkpoint at distilbert-base-cased and are newly initialized: ['qa_outputs.bias', 'qa_outputs.weight']\n",
      "You should probably TRAIN this model on a down-stream task to be able to use it for predictions and inference.\n"
     ]
    },
    {
     "data": {
      "text/html": [
       "\n",
       "    <div>\n",
       "      \n",
       "      <progress value='3753' max='11259' style='width:300px; height:20px; vertical-align: middle;'></progress>\n",
       "      [ 3753/11259 07:47 < 15:34, 8.03 it/s, Epoch 1/3]\n",
       "    </div>\n",
       "    <table border=\"1\" class=\"dataframe\">\n",
       "  <thead>\n",
       " <tr style=\"text-align: left;\">\n",
       "      <th>Epoch</th>\n",
       "      <th>Training Loss</th>\n",
       "      <th>Validation Loss</th>\n",
       "      <th>Exact</th>\n",
       "      <th>F1</th>\n",
       "      <th>Total</th>\n",
       "      <th>Hasans Exact</th>\n",
       "      <th>Hasans F1</th>\n",
       "      <th>Hasans Total</th>\n",
       "      <th>Noans Exact</th>\n",
       "      <th>Noans F1</th>\n",
       "      <th>Noans Total</th>\n",
       "      <th>Best Exact</th>\n",
       "      <th>Best Exact Thresh</th>\n",
       "      <th>Best F1</th>\n",
       "      <th>Best F1 Thresh</th>\n",
       "    </tr>\n",
       "  </thead>\n",
       "  <tbody>\n",
       "    <tr>\n",
       "      <td>1</td>\n",
       "      <td>1.516200</td>\n",
       "      <td>No log</td>\n",
       "      <td>40.781605</td>\n",
       "      <td>53.635521</td>\n",
       "      <td>11873</td>\n",
       "      <td>34.800945</td>\n",
       "      <td>60.545638</td>\n",
       "      <td>5928</td>\n",
       "      <td>46.745164</td>\n",
       "      <td>46.745164</td>\n",
       "      <td>5945</td>\n",
       "      <td>50.096858</td>\n",
       "      <td>0.000000</td>\n",
       "      <td>54.091249</td>\n",
       "      <td>0.000000</td>\n",
       "    </tr>\n",
       "  </tbody>\n",
       "</table><p>"
      ],
      "text/plain": [
       "<IPython.core.display.HTML object>"
      ]
     },
     "metadata": {},
     "output_type": "display_data"
    },
    {
     "data": {
      "application/vnd.jupyter.widget-view+json": {
       "model_id": "f67355b53db94a029675874bc0e8869a",
       "version_major": 2,
       "version_minor": 0
      },
      "text/plain": [
       "  0%|          | 0/11873 [00:00<?, ?it/s]"
      ]
     },
     "metadata": {},
     "output_type": "display_data"
    },
    {
     "name": "stdout",
     "output_type": "stream",
     "text": [
      "Stopping training: eval_f1 below threshold of 60\n"
     ]
    },
    {
     "data": {
      "text/html": [
       "\n",
       "    <div>\n",
       "      \n",
       "      <progress value='749' max='749' style='width:300px; height:20px; vertical-align: middle;'></progress>\n",
       "      [749/749 00:25]\n",
       "    </div>\n",
       "    "
      ],
      "text/plain": [
       "<IPython.core.display.HTML object>"
      ]
     },
     "metadata": {},
     "output_type": "display_data"
    },
    {
     "data": {
      "application/vnd.jupyter.widget-view+json": {
       "model_id": "e19394ee58fe43edb929af0d10213225",
       "version_major": 2,
       "version_minor": 0
      },
      "text/plain": [
       "  0%|          | 0/11873 [00:00<?, ?it/s]"
      ]
     },
     "metadata": {},
     "output_type": "display_data"
    },
    {
     "name": "stdout",
     "output_type": "stream",
     "text": [
      "Stopping training: eval_f1 below threshold of 60\n",
      "Stopping training: No improvement in eval_f1 for 1 epochs\n"
     ]
    },
    {
     "name": "stderr",
     "output_type": "stream",
     "text": [
      "[I 2024-05-28 16:40:11,022] Trial 13 finished with value: 53.635521104431945 and parameters: {'no_answer_threshold': 0.6680643764210701, 'learning_rate': 8.603126160772094e-05, 'batch_size': 16, 'warmup_ratio': 0, 'weight_decay': 0.19840514574174997, 'adam_beta1': 0.848683722408515, 'adam_beta2': 0.9900245113645748, 'adam_epsilon': 2.701113717700853e-07, 'lr_scheduler_type': 'constant_with_warmup'}. Best is trial 12 with value: 53.66320484982334.\n"
     ]
    },
    {
     "name": "stdout",
     "output_type": "stream",
     "text": [
      "Current Trial 14 parameters: {'no_answer_threshold': 0.5568397750775433, 'learning_rate': 3.563088736549061e-05, 'batch_size': 16, 'warmup_ratio': 0, 'weight_decay': 0.18921280424651332, 'adam_beta1': 0.8675478426420776, 'adam_beta2': 0.991610615720988, 'adam_epsilon': 2.7304170337838216e-07, 'lr_scheduler_type': 'linear'}\n"
     ]
    },
    {
     "name": "stderr",
     "output_type": "stream",
     "text": [
      "Some weights of DistilBertForQuestionAnswering were not initialized from the model checkpoint at distilbert-base-cased and are newly initialized: ['qa_outputs.bias', 'qa_outputs.weight']\n",
      "You should probably TRAIN this model on a down-stream task to be able to use it for predictions and inference.\n"
     ]
    },
    {
     "data": {
      "text/html": [
       "\n",
       "    <div>\n",
       "      \n",
       "      <progress value='3753' max='11259' style='width:300px; height:20px; vertical-align: middle;'></progress>\n",
       "      [ 3753/11259 07:43 < 15:28, 8.09 it/s, Epoch 1/3]\n",
       "    </div>\n",
       "    <table border=\"1\" class=\"dataframe\">\n",
       "  <thead>\n",
       " <tr style=\"text-align: left;\">\n",
       "      <th>Epoch</th>\n",
       "      <th>Training Loss</th>\n",
       "      <th>Validation Loss</th>\n",
       "      <th>Exact</th>\n",
       "      <th>F1</th>\n",
       "      <th>Total</th>\n",
       "      <th>Hasans Exact</th>\n",
       "      <th>Hasans F1</th>\n",
       "      <th>Hasans Total</th>\n",
       "      <th>Noans Exact</th>\n",
       "      <th>Noans F1</th>\n",
       "      <th>Noans Total</th>\n",
       "      <th>Best Exact</th>\n",
       "      <th>Best Exact Thresh</th>\n",
       "      <th>Best F1</th>\n",
       "      <th>Best F1 Thresh</th>\n",
       "    </tr>\n",
       "  </thead>\n",
       "  <tbody>\n",
       "    <tr>\n",
       "      <td>1</td>\n",
       "      <td>1.448600</td>\n",
       "      <td>No log</td>\n",
       "      <td>41.884949</td>\n",
       "      <td>55.601288</td>\n",
       "      <td>11873</td>\n",
       "      <td>36.352901</td>\n",
       "      <td>63.824915</td>\n",
       "      <td>5928</td>\n",
       "      <td>47.401177</td>\n",
       "      <td>47.401177</td>\n",
       "      <td>5945</td>\n",
       "      <td>50.096858</td>\n",
       "      <td>0.000000</td>\n",
       "      <td>56.050184</td>\n",
       "      <td>0.000000</td>\n",
       "    </tr>\n",
       "  </tbody>\n",
       "</table><p>"
      ],
      "text/plain": [
       "<IPython.core.display.HTML object>"
      ]
     },
     "metadata": {},
     "output_type": "display_data"
    },
    {
     "data": {
      "application/vnd.jupyter.widget-view+json": {
       "model_id": "af7ca1392b0543f6b60505ef88e420a7",
       "version_major": 2,
       "version_minor": 0
      },
      "text/plain": [
       "  0%|          | 0/11873 [00:00<?, ?it/s]"
      ]
     },
     "metadata": {},
     "output_type": "display_data"
    },
    {
     "name": "stdout",
     "output_type": "stream",
     "text": [
      "Stopping training: eval_f1 below threshold of 60\n"
     ]
    },
    {
     "data": {
      "text/html": [
       "\n",
       "    <div>\n",
       "      \n",
       "      <progress value='749' max='749' style='width:300px; height:20px; vertical-align: middle;'></progress>\n",
       "      [749/749 00:25]\n",
       "    </div>\n",
       "    "
      ],
      "text/plain": [
       "<IPython.core.display.HTML object>"
      ]
     },
     "metadata": {},
     "output_type": "display_data"
    },
    {
     "data": {
      "application/vnd.jupyter.widget-view+json": {
       "model_id": "9af1c97dba3e41799088199a6d9fa5ac",
       "version_major": 2,
       "version_minor": 0
      },
      "text/plain": [
       "  0%|          | 0/11873 [00:00<?, ?it/s]"
      ]
     },
     "metadata": {},
     "output_type": "display_data"
    },
    {
     "name": "stdout",
     "output_type": "stream",
     "text": [
      "Stopping training: eval_f1 below threshold of 60\n",
      "Stopping training: No improvement in eval_f1 for 1 epochs\n"
     ]
    },
    {
     "name": "stderr",
     "output_type": "stream",
     "text": [
      "[I 2024-05-28 16:48:50,871] Trial 14 finished with value: 55.6012883577199 and parameters: {'no_answer_threshold': 0.5568397750775433, 'learning_rate': 3.563088736549061e-05, 'batch_size': 16, 'warmup_ratio': 0, 'weight_decay': 0.18921280424651332, 'adam_beta1': 0.8675478426420776, 'adam_beta2': 0.991610615720988, 'adam_epsilon': 2.7304170337838216e-07, 'lr_scheduler_type': 'linear'}. Best is trial 14 with value: 55.6012883577199.\n"
     ]
    },
    {
     "name": "stdout",
     "output_type": "stream",
     "text": [
      "Current Trial 15 parameters: {'no_answer_threshold': 0.19426358203643446, 'learning_rate': 3.0744017909830624e-05, 'batch_size': 32, 'warmup_ratio': 0, 'weight_decay': 0.1703590104979265, 'adam_beta1': 0.8740529666171606, 'adam_beta2': 0.9920407782162932, 'adam_epsilon': 3.0992986874003105e-07, 'lr_scheduler_type': 'linear'}\n"
     ]
    },
    {
     "name": "stderr",
     "output_type": "stream",
     "text": [
      "Some weights of DistilBertForQuestionAnswering were not initialized from the model checkpoint at distilbert-base-cased and are newly initialized: ['qa_outputs.bias', 'qa_outputs.weight']\n",
      "You should probably TRAIN this model on a down-stream task to be able to use it for predictions and inference.\n"
     ]
    },
    {
     "data": {
      "text/html": [
       "\n",
       "    <div>\n",
       "      \n",
       "      <progress value='1877' max='5631' style='width:300px; height:20px; vertical-align: middle;'></progress>\n",
       "      [1877/5631 07:25 < 14:51, 4.21 it/s, Epoch 1/3]\n",
       "    </div>\n",
       "    <table border=\"1\" class=\"dataframe\">\n",
       "  <thead>\n",
       " <tr style=\"text-align: left;\">\n",
       "      <th>Epoch</th>\n",
       "      <th>Training Loss</th>\n",
       "      <th>Validation Loss</th>\n",
       "      <th>Exact</th>\n",
       "      <th>F1</th>\n",
       "      <th>Total</th>\n",
       "      <th>Hasans Exact</th>\n",
       "      <th>Hasans F1</th>\n",
       "      <th>Hasans Total</th>\n",
       "      <th>Noans Exact</th>\n",
       "      <th>Noans F1</th>\n",
       "      <th>Noans Total</th>\n",
       "      <th>Best Exact</th>\n",
       "      <th>Best Exact Thresh</th>\n",
       "      <th>Best F1</th>\n",
       "      <th>Best F1 Thresh</th>\n",
       "    </tr>\n",
       "  </thead>\n",
       "  <tbody>\n",
       "    <tr>\n",
       "      <td>1</td>\n",
       "      <td>1.642600</td>\n",
       "      <td>No log</td>\n",
       "      <td>42.474522</td>\n",
       "      <td>55.435501</td>\n",
       "      <td>11873</td>\n",
       "      <td>33.012821</td>\n",
       "      <td>58.971947</td>\n",
       "      <td>5928</td>\n",
       "      <td>51.909167</td>\n",
       "      <td>51.909167</td>\n",
       "      <td>5945</td>\n",
       "      <td>50.096858</td>\n",
       "      <td>0.000000</td>\n",
       "      <td>56.042632</td>\n",
       "      <td>0.000000</td>\n",
       "    </tr>\n",
       "  </tbody>\n",
       "</table><p>"
      ],
      "text/plain": [
       "<IPython.core.display.HTML object>"
      ]
     },
     "metadata": {},
     "output_type": "display_data"
    },
    {
     "data": {
      "application/vnd.jupyter.widget-view+json": {
       "model_id": "62797daf47f64c548560a3377ff2206c",
       "version_major": 2,
       "version_minor": 0
      },
      "text/plain": [
       "  0%|          | 0/11873 [00:00<?, ?it/s]"
      ]
     },
     "metadata": {},
     "output_type": "display_data"
    },
    {
     "name": "stdout",
     "output_type": "stream",
     "text": [
      "Stopping training: eval_f1 below threshold of 60\n"
     ]
    },
    {
     "data": {
      "text/html": [
       "\n",
       "    <div>\n",
       "      \n",
       "      <progress value='375' max='375' style='width:300px; height:20px; vertical-align: middle;'></progress>\n",
       "      [375/375 00:25]\n",
       "    </div>\n",
       "    "
      ],
      "text/plain": [
       "<IPython.core.display.HTML object>"
      ]
     },
     "metadata": {},
     "output_type": "display_data"
    },
    {
     "data": {
      "application/vnd.jupyter.widget-view+json": {
       "model_id": "f430b117f475458ca1258de97d375fde",
       "version_major": 2,
       "version_minor": 0
      },
      "text/plain": [
       "  0%|          | 0/11873 [00:00<?, ?it/s]"
      ]
     },
     "metadata": {},
     "output_type": "display_data"
    },
    {
     "name": "stdout",
     "output_type": "stream",
     "text": [
      "Stopping training: eval_f1 below threshold of 60\n",
      "Stopping training: No improvement in eval_f1 for 1 epochs\n"
     ]
    },
    {
     "name": "stderr",
     "output_type": "stream",
     "text": [
      "[I 2024-05-28 16:57:12,833] Trial 15 finished with value: 55.43550093922991 and parameters: {'no_answer_threshold': 0.19426358203643446, 'learning_rate': 3.0744017909830624e-05, 'batch_size': 32, 'warmup_ratio': 0, 'weight_decay': 0.1703590104979265, 'adam_beta1': 0.8740529666171606, 'adam_beta2': 0.9920407782162932, 'adam_epsilon': 3.0992986874003105e-07, 'lr_scheduler_type': 'linear'}. Best is trial 14 with value: 55.6012883577199.\n"
     ]
    },
    {
     "name": "stdout",
     "output_type": "stream",
     "text": [
      "Current Trial 16 parameters: {'no_answer_threshold': 0.2173313943054646, 'learning_rate': 2.808592899365593e-05, 'batch_size': 32, 'warmup_ratio': 0, 'weight_decay': 0.1439455325201957, 'adam_beta1': 0.8752682868650474, 'adam_beta2': 0.9918430136223599, 'adam_epsilon': 3.690291582660841e-07, 'lr_scheduler_type': 'linear'}\n"
     ]
    },
    {
     "name": "stderr",
     "output_type": "stream",
     "text": [
      "Some weights of DistilBertForQuestionAnswering were not initialized from the model checkpoint at distilbert-base-cased and are newly initialized: ['qa_outputs.bias', 'qa_outputs.weight']\n",
      "You should probably TRAIN this model on a down-stream task to be able to use it for predictions and inference.\n"
     ]
    },
    {
     "data": {
      "text/html": [
       "\n",
       "    <div>\n",
       "      \n",
       "      <progress value='1877' max='5631' style='width:300px; height:20px; vertical-align: middle;'></progress>\n",
       "      [1877/5631 07:27 < 14:56, 4.19 it/s, Epoch 1/3]\n",
       "    </div>\n",
       "    <table border=\"1\" class=\"dataframe\">\n",
       "  <thead>\n",
       " <tr style=\"text-align: left;\">\n",
       "      <th>Epoch</th>\n",
       "      <th>Training Loss</th>\n",
       "      <th>Validation Loss</th>\n",
       "      <th>Exact</th>\n",
       "      <th>F1</th>\n",
       "      <th>Total</th>\n",
       "      <th>Hasans Exact</th>\n",
       "      <th>Hasans F1</th>\n",
       "      <th>Hasans Total</th>\n",
       "      <th>Noans Exact</th>\n",
       "      <th>Noans F1</th>\n",
       "      <th>Noans Total</th>\n",
       "      <th>Best Exact</th>\n",
       "      <th>Best Exact Thresh</th>\n",
       "      <th>Best F1</th>\n",
       "      <th>Best F1 Thresh</th>\n",
       "    </tr>\n",
       "  </thead>\n",
       "  <tbody>\n",
       "    <tr>\n",
       "      <td>1</td>\n",
       "      <td>1.670300</td>\n",
       "      <td>No log</td>\n",
       "      <td>42.508212</td>\n",
       "      <td>55.190288</td>\n",
       "      <td>11873</td>\n",
       "      <td>32.709177</td>\n",
       "      <td>58.109698</td>\n",
       "      <td>5928</td>\n",
       "      <td>52.279226</td>\n",
       "      <td>52.279226</td>\n",
       "      <td>5945</td>\n",
       "      <td>50.096858</td>\n",
       "      <td>0.000000</td>\n",
       "      <td>55.900711</td>\n",
       "      <td>0.000000</td>\n",
       "    </tr>\n",
       "  </tbody>\n",
       "</table><p>"
      ],
      "text/plain": [
       "<IPython.core.display.HTML object>"
      ]
     },
     "metadata": {},
     "output_type": "display_data"
    },
    {
     "data": {
      "application/vnd.jupyter.widget-view+json": {
       "model_id": "3a2389f8f16346d290d03298e9255bde",
       "version_major": 2,
       "version_minor": 0
      },
      "text/plain": [
       "  0%|          | 0/11873 [00:00<?, ?it/s]"
      ]
     },
     "metadata": {},
     "output_type": "display_data"
    },
    {
     "name": "stdout",
     "output_type": "stream",
     "text": [
      "Stopping training: eval_f1 below threshold of 60\n"
     ]
    },
    {
     "data": {
      "text/html": [
       "\n",
       "    <div>\n",
       "      \n",
       "      <progress value='375' max='375' style='width:300px; height:20px; vertical-align: middle;'></progress>\n",
       "      [375/375 00:25]\n",
       "    </div>\n",
       "    "
      ],
      "text/plain": [
       "<IPython.core.display.HTML object>"
      ]
     },
     "metadata": {},
     "output_type": "display_data"
    },
    {
     "data": {
      "application/vnd.jupyter.widget-view+json": {
       "model_id": "d171c8e654e64eda8734643ac21c82b4",
       "version_major": 2,
       "version_minor": 0
      },
      "text/plain": [
       "  0%|          | 0/11873 [00:00<?, ?it/s]"
      ]
     },
     "metadata": {},
     "output_type": "display_data"
    },
    {
     "name": "stdout",
     "output_type": "stream",
     "text": [
      "Stopping training: eval_f1 below threshold of 60\n",
      "Stopping training: No improvement in eval_f1 for 1 epochs\n"
     ]
    },
    {
     "name": "stderr",
     "output_type": "stream",
     "text": [
      "[I 2024-05-28 17:05:36,573] Trial 16 finished with value: 55.190288141999766 and parameters: {'no_answer_threshold': 0.2173313943054646, 'learning_rate': 2.808592899365593e-05, 'batch_size': 32, 'warmup_ratio': 0, 'weight_decay': 0.1439455325201957, 'adam_beta1': 0.8752682868650474, 'adam_beta2': 0.9918430136223599, 'adam_epsilon': 3.690291582660841e-07, 'lr_scheduler_type': 'linear'}. Best is trial 14 with value: 55.6012883577199.\n"
     ]
    },
    {
     "name": "stdout",
     "output_type": "stream",
     "text": [
      "Current Trial 17 parameters: {'no_answer_threshold': 0.04956141005740633, 'learning_rate': 1.3291992670100434e-06, 'batch_size': 32, 'warmup_ratio': 0, 'weight_decay': 0.09938483930725772, 'adam_beta1': 0.8748408359700532, 'adam_beta2': 0.9922298623940472, 'adam_epsilon': 2.0605609043115807e-07, 'lr_scheduler_type': 'linear'}\n"
     ]
    },
    {
     "name": "stderr",
     "output_type": "stream",
     "text": [
      "Some weights of DistilBertForQuestionAnswering were not initialized from the model checkpoint at distilbert-base-cased and are newly initialized: ['qa_outputs.bias', 'qa_outputs.weight']\n",
      "You should probably TRAIN this model on a down-stream task to be able to use it for predictions and inference.\n"
     ]
    },
    {
     "data": {
      "text/html": [
       "\n",
       "    <div>\n",
       "      \n",
       "      <progress value='1877' max='5631' style='width:300px; height:20px; vertical-align: middle;'></progress>\n",
       "      [1877/5631 07:25 < 14:51, 4.21 it/s, Epoch 1/3]\n",
       "    </div>\n",
       "    <table border=\"1\" class=\"dataframe\">\n",
       "  <thead>\n",
       " <tr style=\"text-align: left;\">\n",
       "      <th>Epoch</th>\n",
       "      <th>Training Loss</th>\n",
       "      <th>Validation Loss</th>\n",
       "      <th>Exact</th>\n",
       "      <th>F1</th>\n",
       "      <th>Total</th>\n",
       "      <th>Hasans Exact</th>\n",
       "      <th>Hasans F1</th>\n",
       "      <th>Hasans Total</th>\n",
       "      <th>Noans Exact</th>\n",
       "      <th>Noans F1</th>\n",
       "      <th>Noans Total</th>\n",
       "      <th>Best Exact</th>\n",
       "      <th>Best Exact Thresh</th>\n",
       "      <th>Best F1</th>\n",
       "      <th>Best F1 Thresh</th>\n",
       "    </tr>\n",
       "  </thead>\n",
       "  <tbody>\n",
       "    <tr>\n",
       "      <td>1</td>\n",
       "      <td>3.110000</td>\n",
       "      <td>No log</td>\n",
       "      <td>50.071591</td>\n",
       "      <td>50.071591</td>\n",
       "      <td>11873</td>\n",
       "      <td>0.000000</td>\n",
       "      <td>0.000000</td>\n",
       "      <td>5928</td>\n",
       "      <td>100.000000</td>\n",
       "      <td>100.000000</td>\n",
       "      <td>5945</td>\n",
       "      <td>50.071591</td>\n",
       "      <td>0.000000</td>\n",
       "      <td>50.071591</td>\n",
       "      <td>0.000000</td>\n",
       "    </tr>\n",
       "  </tbody>\n",
       "</table><p>"
      ],
      "text/plain": [
       "<IPython.core.display.HTML object>"
      ]
     },
     "metadata": {},
     "output_type": "display_data"
    },
    {
     "data": {
      "application/vnd.jupyter.widget-view+json": {
       "model_id": "fefd6f56af2244e4a3b89d25f912c853",
       "version_major": 2,
       "version_minor": 0
      },
      "text/plain": [
       "  0%|          | 0/11873 [00:00<?, ?it/s]"
      ]
     },
     "metadata": {},
     "output_type": "display_data"
    },
    {
     "name": "stdout",
     "output_type": "stream",
     "text": [
      "Stopping training: eval_f1 below threshold of 60\n"
     ]
    },
    {
     "data": {
      "text/html": [
       "\n",
       "    <div>\n",
       "      \n",
       "      <progress value='375' max='375' style='width:300px; height:20px; vertical-align: middle;'></progress>\n",
       "      [375/375 00:25]\n",
       "    </div>\n",
       "    "
      ],
      "text/plain": [
       "<IPython.core.display.HTML object>"
      ]
     },
     "metadata": {},
     "output_type": "display_data"
    },
    {
     "data": {
      "application/vnd.jupyter.widget-view+json": {
       "model_id": "14ab204506b146a1b140eb55cd4a45c3",
       "version_major": 2,
       "version_minor": 0
      },
      "text/plain": [
       "  0%|          | 0/11873 [00:00<?, ?it/s]"
      ]
     },
     "metadata": {},
     "output_type": "display_data"
    },
    {
     "name": "stdout",
     "output_type": "stream",
     "text": [
      "Stopping training: eval_f1 below threshold of 60\n",
      "Stopping training: No improvement in eval_f1 for 1 epochs\n"
     ]
    },
    {
     "name": "stderr",
     "output_type": "stream",
     "text": [
      "[I 2024-05-28 17:13:57,280] Trial 17 finished with value: 50.07159100480081 and parameters: {'no_answer_threshold': 0.04956141005740633, 'learning_rate': 1.3291992670100434e-06, 'batch_size': 32, 'warmup_ratio': 0, 'weight_decay': 0.09938483930725772, 'adam_beta1': 0.8748408359700532, 'adam_beta2': 0.9922298623940472, 'adam_epsilon': 2.0605609043115807e-07, 'lr_scheduler_type': 'linear'}. Best is trial 14 with value: 55.6012883577199.\n"
     ]
    },
    {
     "name": "stdout",
     "output_type": "stream",
     "text": [
      "Current Trial 18 parameters: {'no_answer_threshold': 0.2172356484191931, 'learning_rate': 5.1571264022237946e-06, 'batch_size': 32, 'warmup_ratio': 0, 'weight_decay': 0.20813691303785764, 'adam_beta1': 0.9090112915407588, 'adam_beta2': 0.9938302609172757, 'adam_epsilon': 3.7479433484886707e-07, 'lr_scheduler_type': 'linear'}\n"
     ]
    },
    {
     "name": "stderr",
     "output_type": "stream",
     "text": [
      "Some weights of DistilBertForQuestionAnswering were not initialized from the model checkpoint at distilbert-base-cased and are newly initialized: ['qa_outputs.bias', 'qa_outputs.weight']\n",
      "You should probably TRAIN this model on a down-stream task to be able to use it for predictions and inference.\n"
     ]
    },
    {
     "data": {
      "text/html": [
       "\n",
       "    <div>\n",
       "      \n",
       "      <progress value='1877' max='5631' style='width:300px; height:20px; vertical-align: middle;'></progress>\n",
       "      [1877/5631 07:23 < 14:48, 4.23 it/s, Epoch 1/3]\n",
       "    </div>\n",
       "    <table border=\"1\" class=\"dataframe\">\n",
       "  <thead>\n",
       " <tr style=\"text-align: left;\">\n",
       "      <th>Epoch</th>\n",
       "      <th>Training Loss</th>\n",
       "      <th>Validation Loss</th>\n",
       "      <th>Exact</th>\n",
       "      <th>F1</th>\n",
       "      <th>Total</th>\n",
       "      <th>Hasans Exact</th>\n",
       "      <th>Hasans F1</th>\n",
       "      <th>Hasans Total</th>\n",
       "      <th>Noans Exact</th>\n",
       "      <th>Noans F1</th>\n",
       "      <th>Noans Total</th>\n",
       "      <th>Best Exact</th>\n",
       "      <th>Best Exact Thresh</th>\n",
       "      <th>Best F1</th>\n",
       "      <th>Best F1 Thresh</th>\n",
       "    </tr>\n",
       "  </thead>\n",
       "  <tbody>\n",
       "    <tr>\n",
       "      <td>1</td>\n",
       "      <td>2.341000</td>\n",
       "      <td>No log</td>\n",
       "      <td>38.684410</td>\n",
       "      <td>45.320688</td>\n",
       "      <td>11873</td>\n",
       "      <td>17.105263</td>\n",
       "      <td>30.396851</td>\n",
       "      <td>5928</td>\n",
       "      <td>60.201850</td>\n",
       "      <td>60.201850</td>\n",
       "      <td>5945</td>\n",
       "      <td>50.071591</td>\n",
       "      <td>0.000000</td>\n",
       "      <td>50.071591</td>\n",
       "      <td>0.000000</td>\n",
       "    </tr>\n",
       "  </tbody>\n",
       "</table><p>"
      ],
      "text/plain": [
       "<IPython.core.display.HTML object>"
      ]
     },
     "metadata": {},
     "output_type": "display_data"
    },
    {
     "data": {
      "application/vnd.jupyter.widget-view+json": {
       "model_id": "9e0e2da81c55487c833f069e7edca20a",
       "version_major": 2,
       "version_minor": 0
      },
      "text/plain": [
       "  0%|          | 0/11873 [00:00<?, ?it/s]"
      ]
     },
     "metadata": {},
     "output_type": "display_data"
    },
    {
     "name": "stdout",
     "output_type": "stream",
     "text": [
      "Stopping training: eval_f1 below threshold of 60\n"
     ]
    },
    {
     "data": {
      "text/html": [
       "\n",
       "    <div>\n",
       "      \n",
       "      <progress value='375' max='375' style='width:300px; height:20px; vertical-align: middle;'></progress>\n",
       "      [375/375 00:25]\n",
       "    </div>\n",
       "    "
      ],
      "text/plain": [
       "<IPython.core.display.HTML object>"
      ]
     },
     "metadata": {},
     "output_type": "display_data"
    },
    {
     "data": {
      "application/vnd.jupyter.widget-view+json": {
       "model_id": "046595fe19d44badad92794d90c518c4",
       "version_major": 2,
       "version_minor": 0
      },
      "text/plain": [
       "  0%|          | 0/11873 [00:00<?, ?it/s]"
      ]
     },
     "metadata": {},
     "output_type": "display_data"
    },
    {
     "name": "stdout",
     "output_type": "stream",
     "text": [
      "Stopping training: eval_f1 below threshold of 60\n",
      "Stopping training: No improvement in eval_f1 for 1 epochs\n"
     ]
    },
    {
     "name": "stderr",
     "output_type": "stream",
     "text": [
      "[I 2024-05-28 17:22:17,161] Trial 18 finished with value: 45.32068841470192 and parameters: {'no_answer_threshold': 0.2172356484191931, 'learning_rate': 5.1571264022237946e-06, 'batch_size': 32, 'warmup_ratio': 0, 'weight_decay': 0.20813691303785764, 'adam_beta1': 0.9090112915407588, 'adam_beta2': 0.9938302609172757, 'adam_epsilon': 3.7479433484886707e-07, 'lr_scheduler_type': 'linear'}. Best is trial 14 with value: 55.6012883577199.\n"
     ]
    },
    {
     "name": "stdout",
     "output_type": "stream",
     "text": [
      "Current Trial 19 parameters: {'no_answer_threshold': 0.5481869225649895, 'learning_rate': 3.4187100043230674e-05, 'batch_size': 32, 'warmup_ratio': 0, 'weight_decay': 0.16531819100151934, 'adam_beta1': 0.8739210589706451, 'adam_beta2': 0.9910858068337787, 'adam_epsilon': 3.558108625151874e-07, 'lr_scheduler_type': 'linear'}\n"
     ]
    },
    {
     "name": "stderr",
     "output_type": "stream",
     "text": [
      "Some weights of DistilBertForQuestionAnswering were not initialized from the model checkpoint at distilbert-base-cased and are newly initialized: ['qa_outputs.bias', 'qa_outputs.weight']\n",
      "You should probably TRAIN this model on a down-stream task to be able to use it for predictions and inference.\n"
     ]
    },
    {
     "data": {
      "text/html": [
       "\n",
       "    <div>\n",
       "      \n",
       "      <progress value='1877' max='5631' style='width:300px; height:20px; vertical-align: middle;'></progress>\n",
       "      [1877/5631 07:28 < 14:58, 4.18 it/s, Epoch 1/3]\n",
       "    </div>\n",
       "    <table border=\"1\" class=\"dataframe\">\n",
       "  <thead>\n",
       " <tr style=\"text-align: left;\">\n",
       "      <th>Epoch</th>\n",
       "      <th>Training Loss</th>\n",
       "      <th>Validation Loss</th>\n",
       "      <th>Exact</th>\n",
       "      <th>F1</th>\n",
       "      <th>Total</th>\n",
       "      <th>Hasans Exact</th>\n",
       "      <th>Hasans F1</th>\n",
       "      <th>Hasans Total</th>\n",
       "      <th>Noans Exact</th>\n",
       "      <th>Noans F1</th>\n",
       "      <th>Noans Total</th>\n",
       "      <th>Best Exact</th>\n",
       "      <th>Best Exact Thresh</th>\n",
       "      <th>Best F1</th>\n",
       "      <th>Best F1 Thresh</th>\n",
       "    </tr>\n",
       "  </thead>\n",
       "  <tbody>\n",
       "    <tr>\n",
       "      <td>1</td>\n",
       "      <td>1.613500</td>\n",
       "      <td>No log</td>\n",
       "      <td>40.436284</td>\n",
       "      <td>54.071796</td>\n",
       "      <td>11873</td>\n",
       "      <td>34.109312</td>\n",
       "      <td>61.419440</td>\n",
       "      <td>5928</td>\n",
       "      <td>46.745164</td>\n",
       "      <td>46.745164</td>\n",
       "      <td>5945</td>\n",
       "      <td>50.096858</td>\n",
       "      <td>0.000000</td>\n",
       "      <td>54.743472</td>\n",
       "      <td>0.000000</td>\n",
       "    </tr>\n",
       "  </tbody>\n",
       "</table><p>"
      ],
      "text/plain": [
       "<IPython.core.display.HTML object>"
      ]
     },
     "metadata": {},
     "output_type": "display_data"
    },
    {
     "data": {
      "application/vnd.jupyter.widget-view+json": {
       "model_id": "ea26c658422a4383b4f122774aa9dc43",
       "version_major": 2,
       "version_minor": 0
      },
      "text/plain": [
       "  0%|          | 0/11873 [00:00<?, ?it/s]"
      ]
     },
     "metadata": {},
     "output_type": "display_data"
    },
    {
     "name": "stdout",
     "output_type": "stream",
     "text": [
      "Stopping training: eval_f1 below threshold of 60\n"
     ]
    },
    {
     "data": {
      "text/html": [
       "\n",
       "    <div>\n",
       "      \n",
       "      <progress value='375' max='375' style='width:300px; height:20px; vertical-align: middle;'></progress>\n",
       "      [375/375 00:25]\n",
       "    </div>\n",
       "    "
      ],
      "text/plain": [
       "<IPython.core.display.HTML object>"
      ]
     },
     "metadata": {},
     "output_type": "display_data"
    },
    {
     "data": {
      "application/vnd.jupyter.widget-view+json": {
       "model_id": "6391126ee7794d35a74af91669c4d2fa",
       "version_major": 2,
       "version_minor": 0
      },
      "text/plain": [
       "  0%|          | 0/11873 [00:00<?, ?it/s]"
      ]
     },
     "metadata": {},
     "output_type": "display_data"
    },
    {
     "name": "stdout",
     "output_type": "stream",
     "text": [
      "Stopping training: eval_f1 below threshold of 60\n",
      "Stopping training: No improvement in eval_f1 for 1 epochs\n"
     ]
    },
    {
     "name": "stderr",
     "output_type": "stream",
     "text": [
      "[I 2024-05-28 17:30:42,075] Trial 19 finished with value: 54.07179634499088 and parameters: {'no_answer_threshold': 0.5481869225649895, 'learning_rate': 3.4187100043230674e-05, 'batch_size': 32, 'warmup_ratio': 0, 'weight_decay': 0.16531819100151934, 'adam_beta1': 0.8739210589706451, 'adam_beta2': 0.9910858068337787, 'adam_epsilon': 3.558108625151874e-07, 'lr_scheduler_type': 'linear'}. Best is trial 14 with value: 55.6012883577199.\n"
     ]
    }
   ],
   "source": [
    "# Create a study object and optimize the objective\n",
    "study = optuna.create_study(direction='maximize')\n",
    "study.optimize(objective, n_trials=20)"
   ]
  },
  {
   "cell_type": "code",
   "execution_count": 97,
   "id": "953eb5e2-ee76-4228-bc1b-b82a112b48c2",
   "metadata": {
    "tags": []
   },
   "outputs": [
    {
     "name": "stdout",
     "output_type": "stream",
     "text": [
      "Current Trial 20 parameters: {'no_answer_threshold': 0.32828806396895294, 'learning_rate': 1.5375571315885884e-05, 'batch_size': 32, 'warmup_ratio': 0, 'weight_decay': 0.09230451414867091, 'adam_beta1': 0.8878529212131444, 'adam_beta2': 0.9914305059519523, 'adam_epsilon': 1.658544618504578e-07, 'lr_scheduler_type': 'linear'}\n"
     ]
    },
    {
     "name": "stderr",
     "output_type": "stream",
     "text": [
      "Some weights of DistilBertForQuestionAnswering were not initialized from the model checkpoint at distilbert-base-cased and are newly initialized: ['qa_outputs.bias', 'qa_outputs.weight']\n",
      "You should probably TRAIN this model on a down-stream task to be able to use it for predictions and inference.\n"
     ]
    },
    {
     "data": {
      "text/html": [
       "\n",
       "    <div>\n",
       "      \n",
       "      <progress value='1877' max='5631' style='width:300px; height:20px; vertical-align: middle;'></progress>\n",
       "      [1877/5631 07:28 < 14:58, 4.18 it/s, Epoch 1/3]\n",
       "    </div>\n",
       "    <table border=\"1\" class=\"dataframe\">\n",
       "  <thead>\n",
       " <tr style=\"text-align: left;\">\n",
       "      <th>Epoch</th>\n",
       "      <th>Training Loss</th>\n",
       "      <th>Validation Loss</th>\n",
       "      <th>Exact</th>\n",
       "      <th>F1</th>\n",
       "      <th>Total</th>\n",
       "      <th>Hasans Exact</th>\n",
       "      <th>Hasans F1</th>\n",
       "      <th>Hasans Total</th>\n",
       "      <th>Noans Exact</th>\n",
       "      <th>Noans F1</th>\n",
       "      <th>Noans Total</th>\n",
       "      <th>Best Exact</th>\n",
       "      <th>Best Exact Thresh</th>\n",
       "      <th>Best F1</th>\n",
       "      <th>Best F1 Thresh</th>\n",
       "    </tr>\n",
       "  </thead>\n",
       "  <tbody>\n",
       "    <tr>\n",
       "      <td>1</td>\n",
       "      <td>1.875100</td>\n",
       "      <td>No log</td>\n",
       "      <td>42.491367</td>\n",
       "      <td>53.342933</td>\n",
       "      <td>11873</td>\n",
       "      <td>28.812416</td>\n",
       "      <td>50.546667</td>\n",
       "      <td>5928</td>\n",
       "      <td>56.131203</td>\n",
       "      <td>56.131203</td>\n",
       "      <td>5945</td>\n",
       "      <td>50.096858</td>\n",
       "      <td>0.000000</td>\n",
       "      <td>54.173886</td>\n",
       "      <td>0.000000</td>\n",
       "    </tr>\n",
       "  </tbody>\n",
       "</table><p>"
      ],
      "text/plain": [
       "<IPython.core.display.HTML object>"
      ]
     },
     "metadata": {},
     "output_type": "display_data"
    },
    {
     "data": {
      "application/vnd.jupyter.widget-view+json": {
       "model_id": "3f005b26b4fe46a28d174f8280bf1117",
       "version_major": 2,
       "version_minor": 0
      },
      "text/plain": [
       "  0%|          | 0/11873 [00:00<?, ?it/s]"
      ]
     },
     "metadata": {},
     "output_type": "display_data"
    },
    {
     "name": "stdout",
     "output_type": "stream",
     "text": [
      "Stopping training: eval_f1 below threshold of 60\n"
     ]
    },
    {
     "data": {
      "text/html": [
       "\n",
       "    <div>\n",
       "      \n",
       "      <progress value='375' max='375' style='width:300px; height:20px; vertical-align: middle;'></progress>\n",
       "      [375/375 00:26]\n",
       "    </div>\n",
       "    "
      ],
      "text/plain": [
       "<IPython.core.display.HTML object>"
      ]
     },
     "metadata": {},
     "output_type": "display_data"
    },
    {
     "data": {
      "application/vnd.jupyter.widget-view+json": {
       "model_id": "c1501e198bd2420b89c3505520618a99",
       "version_major": 2,
       "version_minor": 0
      },
      "text/plain": [
       "  0%|          | 0/11873 [00:00<?, ?it/s]"
      ]
     },
     "metadata": {},
     "output_type": "display_data"
    },
    {
     "name": "stdout",
     "output_type": "stream",
     "text": [
      "Stopping training: eval_f1 below threshold of 60\n",
      "Stopping training: No improvement in eval_f1 for 1 epochs\n"
     ]
    },
    {
     "name": "stderr",
     "output_type": "stream",
     "text": [
      "[I 2024-05-28 17:40:07,444] Trial 20 finished with value: 53.34293306272697 and parameters: {'no_answer_threshold': 0.32828806396895294, 'learning_rate': 1.5375571315885884e-05, 'batch_size': 32, 'warmup_ratio': 0, 'weight_decay': 0.09230451414867091, 'adam_beta1': 0.8878529212131444, 'adam_beta2': 0.9914305059519523, 'adam_epsilon': 1.658544618504578e-07, 'lr_scheduler_type': 'linear'}. Best is trial 14 with value: 55.6012883577199.\n"
     ]
    },
    {
     "name": "stdout",
     "output_type": "stream",
     "text": [
      "Current Trial 21 parameters: {'no_answer_threshold': 0.15097356785976435, 'learning_rate': 4.158026983049915e-05, 'batch_size': 32, 'warmup_ratio': 0, 'weight_decay': 0.14727988835242417, 'adam_beta1': 0.8664981705032844, 'adam_beta2': 0.9916080889074518, 'adam_epsilon': 3.766184469290532e-07, 'lr_scheduler_type': 'linear'}\n"
     ]
    },
    {
     "name": "stderr",
     "output_type": "stream",
     "text": [
      "Some weights of DistilBertForQuestionAnswering were not initialized from the model checkpoint at distilbert-base-cased and are newly initialized: ['qa_outputs.bias', 'qa_outputs.weight']\n",
      "You should probably TRAIN this model on a down-stream task to be able to use it for predictions and inference.\n"
     ]
    },
    {
     "data": {
      "text/html": [
       "\n",
       "    <div>\n",
       "      \n",
       "      <progress value='1877' max='5631' style='width:300px; height:20px; vertical-align: middle;'></progress>\n",
       "      [1877/5631 07:27 < 14:56, 4.19 it/s, Epoch 1/3]\n",
       "    </div>\n",
       "    <table border=\"1\" class=\"dataframe\">\n",
       "  <thead>\n",
       " <tr style=\"text-align: left;\">\n",
       "      <th>Epoch</th>\n",
       "      <th>Training Loss</th>\n",
       "      <th>Validation Loss</th>\n",
       "      <th>Exact</th>\n",
       "      <th>F1</th>\n",
       "      <th>Total</th>\n",
       "      <th>Hasans Exact</th>\n",
       "      <th>Hasans F1</th>\n",
       "      <th>Hasans Total</th>\n",
       "      <th>Noans Exact</th>\n",
       "      <th>Noans F1</th>\n",
       "      <th>Noans Total</th>\n",
       "      <th>Best Exact</th>\n",
       "      <th>Best Exact Thresh</th>\n",
       "      <th>Best F1</th>\n",
       "      <th>Best F1 Thresh</th>\n",
       "    </tr>\n",
       "  </thead>\n",
       "  <tbody>\n",
       "    <tr>\n",
       "      <td>1</td>\n",
       "      <td>1.570600</td>\n",
       "      <td>No log</td>\n",
       "      <td>41.531205</td>\n",
       "      <td>54.959690</td>\n",
       "      <td>11873</td>\n",
       "      <td>34.497301</td>\n",
       "      <td>61.392781</td>\n",
       "      <td>5928</td>\n",
       "      <td>48.544996</td>\n",
       "      <td>48.544996</td>\n",
       "      <td>5945</td>\n",
       "      <td>50.096858</td>\n",
       "      <td>0.000000</td>\n",
       "      <td>55.481423</td>\n",
       "      <td>0.000000</td>\n",
       "    </tr>\n",
       "  </tbody>\n",
       "</table><p>"
      ],
      "text/plain": [
       "<IPython.core.display.HTML object>"
      ]
     },
     "metadata": {},
     "output_type": "display_data"
    },
    {
     "data": {
      "application/vnd.jupyter.widget-view+json": {
       "model_id": "b3822f75d91c47cbbde6956c930cf73d",
       "version_major": 2,
       "version_minor": 0
      },
      "text/plain": [
       "  0%|          | 0/11873 [00:00<?, ?it/s]"
      ]
     },
     "metadata": {},
     "output_type": "display_data"
    },
    {
     "name": "stdout",
     "output_type": "stream",
     "text": [
      "Stopping training: eval_f1 below threshold of 60\n"
     ]
    },
    {
     "data": {
      "text/html": [
       "\n",
       "    <div>\n",
       "      \n",
       "      <progress value='375' max='375' style='width:300px; height:20px; vertical-align: middle;'></progress>\n",
       "      [375/375 00:25]\n",
       "    </div>\n",
       "    "
      ],
      "text/plain": [
       "<IPython.core.display.HTML object>"
      ]
     },
     "metadata": {},
     "output_type": "display_data"
    },
    {
     "data": {
      "application/vnd.jupyter.widget-view+json": {
       "model_id": "4c888462368d4c769f744a0d242935c2",
       "version_major": 2,
       "version_minor": 0
      },
      "text/plain": [
       "  0%|          | 0/11873 [00:00<?, ?it/s]"
      ]
     },
     "metadata": {},
     "output_type": "display_data"
    },
    {
     "name": "stdout",
     "output_type": "stream",
     "text": [
      "Stopping training: eval_f1 below threshold of 60\n",
      "Stopping training: No improvement in eval_f1 for 1 epochs\n"
     ]
    },
    {
     "name": "stderr",
     "output_type": "stream",
     "text": [
      "[I 2024-05-28 17:48:31,144] Trial 21 finished with value: 54.959690353397185 and parameters: {'no_answer_threshold': 0.15097356785976435, 'learning_rate': 4.158026983049915e-05, 'batch_size': 32, 'warmup_ratio': 0, 'weight_decay': 0.14727988835242417, 'adam_beta1': 0.8664981705032844, 'adam_beta2': 0.9916080889074518, 'adam_epsilon': 3.766184469290532e-07, 'lr_scheduler_type': 'linear'}. Best is trial 14 with value: 55.6012883577199.\n"
     ]
    },
    {
     "name": "stdout",
     "output_type": "stream",
     "text": [
      "Current Trial 22 parameters: {'no_answer_threshold': 0.2454696390842321, 'learning_rate': 4.172965871217986e-05, 'batch_size': 32, 'warmup_ratio': 0, 'weight_decay': 0.15746219126176345, 'adam_beta1': 0.88710275048344, 'adam_beta2': 0.9943352566581286, 'adam_epsilon': 3.2170171785159603e-07, 'lr_scheduler_type': 'linear'}\n"
     ]
    },
    {
     "name": "stderr",
     "output_type": "stream",
     "text": [
      "Some weights of DistilBertForQuestionAnswering were not initialized from the model checkpoint at distilbert-base-cased and are newly initialized: ['qa_outputs.bias', 'qa_outputs.weight']\n",
      "You should probably TRAIN this model on a down-stream task to be able to use it for predictions and inference.\n"
     ]
    },
    {
     "data": {
      "text/html": [
       "\n",
       "    <div>\n",
       "      \n",
       "      <progress value='1877' max='5631' style='width:300px; height:20px; vertical-align: middle;'></progress>\n",
       "      [1877/5631 07:36 < 15:14, 4.10 it/s, Epoch 1/3]\n",
       "    </div>\n",
       "    <table border=\"1\" class=\"dataframe\">\n",
       "  <thead>\n",
       " <tr style=\"text-align: left;\">\n",
       "      <th>Epoch</th>\n",
       "      <th>Training Loss</th>\n",
       "      <th>Validation Loss</th>\n",
       "      <th>Exact</th>\n",
       "      <th>F1</th>\n",
       "      <th>Total</th>\n",
       "      <th>Hasans Exact</th>\n",
       "      <th>Hasans F1</th>\n",
       "      <th>Hasans Total</th>\n",
       "      <th>Noans Exact</th>\n",
       "      <th>Noans F1</th>\n",
       "      <th>Noans Total</th>\n",
       "      <th>Best Exact</th>\n",
       "      <th>Best Exact Thresh</th>\n",
       "      <th>Best F1</th>\n",
       "      <th>Best F1 Thresh</th>\n",
       "    </tr>\n",
       "  </thead>\n",
       "  <tbody>\n",
       "    <tr>\n",
       "      <td>1</td>\n",
       "      <td>1.575100</td>\n",
       "      <td>No log</td>\n",
       "      <td>43.662090</td>\n",
       "      <td>56.296833</td>\n",
       "      <td>11873</td>\n",
       "      <td>33.181511</td>\n",
       "      <td>58.487229</td>\n",
       "      <td>5928</td>\n",
       "      <td>54.112700</td>\n",
       "      <td>54.112700</td>\n",
       "      <td>5945</td>\n",
       "      <td>50.096858</td>\n",
       "      <td>0.000000</td>\n",
       "      <td>56.892901</td>\n",
       "      <td>0.000000</td>\n",
       "    </tr>\n",
       "  </tbody>\n",
       "</table><p>"
      ],
      "text/plain": [
       "<IPython.core.display.HTML object>"
      ]
     },
     "metadata": {},
     "output_type": "display_data"
    },
    {
     "data": {
      "application/vnd.jupyter.widget-view+json": {
       "model_id": "f32f1be5192b4c2ca0034b7e4d83b992",
       "version_major": 2,
       "version_minor": 0
      },
      "text/plain": [
       "  0%|          | 0/11873 [00:00<?, ?it/s]"
      ]
     },
     "metadata": {},
     "output_type": "display_data"
    },
    {
     "name": "stdout",
     "output_type": "stream",
     "text": [
      "Stopping training: eval_f1 below threshold of 60\n"
     ]
    },
    {
     "data": {
      "text/html": [
       "\n",
       "    <div>\n",
       "      \n",
       "      <progress value='375' max='375' style='width:300px; height:20px; vertical-align: middle;'></progress>\n",
       "      [375/375 00:27]\n",
       "    </div>\n",
       "    "
      ],
      "text/plain": [
       "<IPython.core.display.HTML object>"
      ]
     },
     "metadata": {},
     "output_type": "display_data"
    },
    {
     "data": {
      "application/vnd.jupyter.widget-view+json": {
       "model_id": "4ba26362831840909c254af6610dc32a",
       "version_major": 2,
       "version_minor": 0
      },
      "text/plain": [
       "  0%|          | 0/11873 [00:00<?, ?it/s]"
      ]
     },
     "metadata": {},
     "output_type": "display_data"
    },
    {
     "name": "stdout",
     "output_type": "stream",
     "text": [
      "Stopping training: eval_f1 below threshold of 60\n",
      "Stopping training: No improvement in eval_f1 for 1 epochs\n"
     ]
    },
    {
     "name": "stderr",
     "output_type": "stream",
     "text": [
      "[I 2024-05-28 17:57:06,994] Trial 22 finished with value: 56.29683255982589 and parameters: {'no_answer_threshold': 0.2454696390842321, 'learning_rate': 4.172965871217986e-05, 'batch_size': 32, 'warmup_ratio': 0, 'weight_decay': 0.15746219126176345, 'adam_beta1': 0.88710275048344, 'adam_beta2': 0.9943352566581286, 'adam_epsilon': 3.2170171785159603e-07, 'lr_scheduler_type': 'linear'}. Best is trial 22 with value: 56.29683255982589.\n"
     ]
    },
    {
     "name": "stdout",
     "output_type": "stream",
     "text": [
      "Current Trial 23 parameters: {'no_answer_threshold': 0.36938737287059176, 'learning_rate': 4.4608000465819275e-05, 'batch_size': 32, 'warmup_ratio': 0, 'weight_decay': 0.19653083057173176, 'adam_beta1': 0.9133062549095184, 'adam_beta2': 0.9949340898545502, 'adam_epsilon': 2.7768980187473713e-07, 'lr_scheduler_type': 'linear'}\n"
     ]
    },
    {
     "name": "stderr",
     "output_type": "stream",
     "text": [
      "Some weights of DistilBertForQuestionAnswering were not initialized from the model checkpoint at distilbert-base-cased and are newly initialized: ['qa_outputs.bias', 'qa_outputs.weight']\n",
      "You should probably TRAIN this model on a down-stream task to be able to use it for predictions and inference.\n"
     ]
    },
    {
     "data": {
      "text/html": [
       "\n",
       "    <div>\n",
       "      \n",
       "      <progress value='1877' max='5631' style='width:300px; height:20px; vertical-align: middle;'></progress>\n",
       "      [1877/5631 07:49 < 15:40, 3.99 it/s, Epoch 1/3]\n",
       "    </div>\n",
       "    <table border=\"1\" class=\"dataframe\">\n",
       "  <thead>\n",
       " <tr style=\"text-align: left;\">\n",
       "      <th>Epoch</th>\n",
       "      <th>Training Loss</th>\n",
       "      <th>Validation Loss</th>\n",
       "      <th>Exact</th>\n",
       "      <th>F1</th>\n",
       "      <th>Total</th>\n",
       "      <th>Hasans Exact</th>\n",
       "      <th>Hasans F1</th>\n",
       "      <th>Hasans Total</th>\n",
       "      <th>Noans Exact</th>\n",
       "      <th>Noans F1</th>\n",
       "      <th>Noans Total</th>\n",
       "      <th>Best Exact</th>\n",
       "      <th>Best Exact Thresh</th>\n",
       "      <th>Best F1</th>\n",
       "      <th>Best F1 Thresh</th>\n",
       "    </tr>\n",
       "  </thead>\n",
       "  <tbody>\n",
       "    <tr>\n",
       "      <td>1</td>\n",
       "      <td>1.561800</td>\n",
       "      <td>No log</td>\n",
       "      <td>44.024257</td>\n",
       "      <td>56.832416</td>\n",
       "      <td>11873</td>\n",
       "      <td>33.771930</td>\n",
       "      <td>59.424979</td>\n",
       "      <td>5928</td>\n",
       "      <td>54.247267</td>\n",
       "      <td>54.247267</td>\n",
       "      <td>5945</td>\n",
       "      <td>50.096858</td>\n",
       "      <td>0.000000</td>\n",
       "      <td>57.301264</td>\n",
       "      <td>0.000000</td>\n",
       "    </tr>\n",
       "  </tbody>\n",
       "</table><p>"
      ],
      "text/plain": [
       "<IPython.core.display.HTML object>"
      ]
     },
     "metadata": {},
     "output_type": "display_data"
    },
    {
     "data": {
      "application/vnd.jupyter.widget-view+json": {
       "model_id": "0e7bb04db9374295bf9db4fa73fbc90e",
       "version_major": 2,
       "version_minor": 0
      },
      "text/plain": [
       "  0%|          | 0/11873 [00:00<?, ?it/s]"
      ]
     },
     "metadata": {},
     "output_type": "display_data"
    },
    {
     "name": "stdout",
     "output_type": "stream",
     "text": [
      "Stopping training: eval_f1 below threshold of 60\n"
     ]
    },
    {
     "data": {
      "text/html": [
       "\n",
       "    <div>\n",
       "      \n",
       "      <progress value='375' max='375' style='width:300px; height:20px; vertical-align: middle;'></progress>\n",
       "      [375/375 00:26]\n",
       "    </div>\n",
       "    "
      ],
      "text/plain": [
       "<IPython.core.display.HTML object>"
      ]
     },
     "metadata": {},
     "output_type": "display_data"
    },
    {
     "data": {
      "application/vnd.jupyter.widget-view+json": {
       "model_id": "63e8d4c90a94427caeac7722d3c497ac",
       "version_major": 2,
       "version_minor": 0
      },
      "text/plain": [
       "  0%|          | 0/11873 [00:00<?, ?it/s]"
      ]
     },
     "metadata": {},
     "output_type": "display_data"
    },
    {
     "name": "stdout",
     "output_type": "stream",
     "text": [
      "Stopping training: eval_f1 below threshold of 60\n",
      "Stopping training: No improvement in eval_f1 for 1 epochs\n"
     ]
    },
    {
     "name": "stderr",
     "output_type": "stream",
     "text": [
      "[I 2024-05-28 18:05:54,721] Trial 23 finished with value: 56.832416017930534 and parameters: {'no_answer_threshold': 0.36938737287059176, 'learning_rate': 4.4608000465819275e-05, 'batch_size': 32, 'warmup_ratio': 0, 'weight_decay': 0.19653083057173176, 'adam_beta1': 0.9133062549095184, 'adam_beta2': 0.9949340898545502, 'adam_epsilon': 2.7768980187473713e-07, 'lr_scheduler_type': 'linear'}. Best is trial 23 with value: 56.832416017930534.\n"
     ]
    },
    {
     "name": "stdout",
     "output_type": "stream",
     "text": [
      "Current Trial 24 parameters: {'no_answer_threshold': 0.5348322812842748, 'learning_rate': 5.3930827109666226e-05, 'batch_size': 32, 'warmup_ratio': 0, 'weight_decay': 0.220721938547819, 'adam_beta1': 0.9171076206148331, 'adam_beta2': 0.9946127382910206, 'adam_epsilon': 4.517836581754784e-07, 'lr_scheduler_type': 'linear'}\n"
     ]
    },
    {
     "name": "stderr",
     "output_type": "stream",
     "text": [
      "Some weights of DistilBertForQuestionAnswering were not initialized from the model checkpoint at distilbert-base-cased and are newly initialized: ['qa_outputs.bias', 'qa_outputs.weight']\n",
      "You should probably TRAIN this model on a down-stream task to be able to use it for predictions and inference.\n"
     ]
    },
    {
     "data": {
      "text/html": [
       "\n",
       "    <div>\n",
       "      \n",
       "      <progress value='1877' max='5631' style='width:300px; height:20px; vertical-align: middle;'></progress>\n",
       "      [1877/5631 07:48 < 15:38, 4.00 it/s, Epoch 1/3]\n",
       "    </div>\n",
       "    <table border=\"1\" class=\"dataframe\">\n",
       "  <thead>\n",
       " <tr style=\"text-align: left;\">\n",
       "      <th>Epoch</th>\n",
       "      <th>Training Loss</th>\n",
       "      <th>Validation Loss</th>\n",
       "      <th>Exact</th>\n",
       "      <th>F1</th>\n",
       "      <th>Total</th>\n",
       "      <th>Hasans Exact</th>\n",
       "      <th>Hasans F1</th>\n",
       "      <th>Hasans Total</th>\n",
       "      <th>Noans Exact</th>\n",
       "      <th>Noans F1</th>\n",
       "      <th>Noans Total</th>\n",
       "      <th>Best Exact</th>\n",
       "      <th>Best Exact Thresh</th>\n",
       "      <th>Best F1</th>\n",
       "      <th>Best F1 Thresh</th>\n",
       "    </tr>\n",
       "  </thead>\n",
       "  <tbody>\n",
       "    <tr>\n",
       "      <td>1</td>\n",
       "      <td>1.550500</td>\n",
       "      <td>No log</td>\n",
       "      <td>45.127600</td>\n",
       "      <td>57.624593</td>\n",
       "      <td>11873</td>\n",
       "      <td>32.236842</td>\n",
       "      <td>57.266665</td>\n",
       "      <td>5928</td>\n",
       "      <td>57.981497</td>\n",
       "      <td>57.981497</td>\n",
       "      <td>5945</td>\n",
       "      <td>50.096858</td>\n",
       "      <td>0.000000</td>\n",
       "      <td>58.140444</td>\n",
       "      <td>0.000000</td>\n",
       "    </tr>\n",
       "  </tbody>\n",
       "</table><p>"
      ],
      "text/plain": [
       "<IPython.core.display.HTML object>"
      ]
     },
     "metadata": {},
     "output_type": "display_data"
    },
    {
     "data": {
      "application/vnd.jupyter.widget-view+json": {
       "model_id": "a0661ff0eaa74bceb2e7d55e57e4194f",
       "version_major": 2,
       "version_minor": 0
      },
      "text/plain": [
       "  0%|          | 0/11873 [00:00<?, ?it/s]"
      ]
     },
     "metadata": {},
     "output_type": "display_data"
    },
    {
     "name": "stdout",
     "output_type": "stream",
     "text": [
      "Stopping training: eval_f1 below threshold of 60\n"
     ]
    },
    {
     "data": {
      "text/html": [
       "\n",
       "    <div>\n",
       "      \n",
       "      <progress value='375' max='375' style='width:300px; height:20px; vertical-align: middle;'></progress>\n",
       "      [375/375 00:27]\n",
       "    </div>\n",
       "    "
      ],
      "text/plain": [
       "<IPython.core.display.HTML object>"
      ]
     },
     "metadata": {},
     "output_type": "display_data"
    },
    {
     "data": {
      "application/vnd.jupyter.widget-view+json": {
       "model_id": "bba1d9aaa0784725a2655c9d6082c76f",
       "version_major": 2,
       "version_minor": 0
      },
      "text/plain": [
       "  0%|          | 0/11873 [00:00<?, ?it/s]"
      ]
     },
     "metadata": {},
     "output_type": "display_data"
    },
    {
     "name": "stdout",
     "output_type": "stream",
     "text": [
      "Stopping training: eval_f1 below threshold of 60\n",
      "Stopping training: No improvement in eval_f1 for 1 epochs\n"
     ]
    },
    {
     "name": "stderr",
     "output_type": "stream",
     "text": [
      "[I 2024-05-28 18:14:41,200] Trial 24 finished with value: 57.62459280679871 and parameters: {'no_answer_threshold': 0.5348322812842748, 'learning_rate': 5.3930827109666226e-05, 'batch_size': 32, 'warmup_ratio': 0, 'weight_decay': 0.220721938547819, 'adam_beta1': 0.9171076206148331, 'adam_beta2': 0.9946127382910206, 'adam_epsilon': 4.517836581754784e-07, 'lr_scheduler_type': 'linear'}. Best is trial 24 with value: 57.62459280679871.\n"
     ]
    }
   ],
   "source": [
    "study.optimize(objective, n_trials=5)"
   ]
  },
  {
   "cell_type": "code",
   "execution_count": 99,
   "id": "aaaf29d2-6c51-431d-9283-3e3ae60f4823",
   "metadata": {
    "tags": []
   },
   "outputs": [
    {
     "name": "stdout",
     "output_type": "stream",
     "text": [
      "Current Trial 25 parameters: {'no_answer_threshold': 0.33385240306636493, 'learning_rate': 1.29424009940198e-05, 'batch_size': 32, 'warmup_ratio': 0, 'weight_decay': 0.21686724890909415, 'adam_beta1': 0.9184527601580457, 'adam_beta2': 0.9948430917566237, 'adam_epsilon': 4.5372239250548926e-07, 'lr_scheduler_type': 'linear'}\n"
     ]
    },
    {
     "name": "stderr",
     "output_type": "stream",
     "text": [
      "Some weights of DistilBertForQuestionAnswering were not initialized from the model checkpoint at distilbert-base-cased and are newly initialized: ['qa_outputs.bias', 'qa_outputs.weight']\n",
      "You should probably TRAIN this model on a down-stream task to be able to use it for predictions and inference.\n"
     ]
    },
    {
     "data": {
      "text/html": [
       "\n",
       "    <div>\n",
       "      \n",
       "      <progress value='1877' max='5631' style='width:300px; height:20px; vertical-align: middle;'></progress>\n",
       "      [1877/5631 07:26 < 14:53, 4.20 it/s, Epoch 1/3]\n",
       "    </div>\n",
       "    <table border=\"1\" class=\"dataframe\">\n",
       "  <thead>\n",
       " <tr style=\"text-align: left;\">\n",
       "      <th>Epoch</th>\n",
       "      <th>Training Loss</th>\n",
       "      <th>Validation Loss</th>\n",
       "      <th>Exact</th>\n",
       "      <th>F1</th>\n",
       "      <th>Total</th>\n",
       "      <th>Hasans Exact</th>\n",
       "      <th>Hasans F1</th>\n",
       "      <th>Hasans Total</th>\n",
       "      <th>Noans Exact</th>\n",
       "      <th>Noans F1</th>\n",
       "      <th>Noans Total</th>\n",
       "      <th>Best Exact</th>\n",
       "      <th>Best Exact Thresh</th>\n",
       "      <th>Best F1</th>\n",
       "      <th>Best F1 Thresh</th>\n",
       "    </tr>\n",
       "  </thead>\n",
       "  <tbody>\n",
       "    <tr>\n",
       "      <td>1</td>\n",
       "      <td>1.950000</td>\n",
       "      <td>No log</td>\n",
       "      <td>39.400320</td>\n",
       "      <td>50.502679</td>\n",
       "      <td>11873</td>\n",
       "      <td>29.065452</td>\n",
       "      <td>51.302009</td>\n",
       "      <td>5928</td>\n",
       "      <td>49.705635</td>\n",
       "      <td>49.705635</td>\n",
       "      <td>5945</td>\n",
       "      <td>50.096858</td>\n",
       "      <td>0.000000</td>\n",
       "      <td>51.557021</td>\n",
       "      <td>0.000000</td>\n",
       "    </tr>\n",
       "  </tbody>\n",
       "</table><p>"
      ],
      "text/plain": [
       "<IPython.core.display.HTML object>"
      ]
     },
     "metadata": {},
     "output_type": "display_data"
    },
    {
     "data": {
      "application/vnd.jupyter.widget-view+json": {
       "model_id": "e4a4a72bd9fa496980e02f6157b0afb3",
       "version_major": 2,
       "version_minor": 0
      },
      "text/plain": [
       "  0%|          | 0/11873 [00:00<?, ?it/s]"
      ]
     },
     "metadata": {},
     "output_type": "display_data"
    },
    {
     "name": "stdout",
     "output_type": "stream",
     "text": [
      "Stopping training: eval_f1 below threshold of 60\n"
     ]
    },
    {
     "data": {
      "text/html": [
       "\n",
       "    <div>\n",
       "      \n",
       "      <progress value='375' max='375' style='width:300px; height:20px; vertical-align: middle;'></progress>\n",
       "      [375/375 00:25]\n",
       "    </div>\n",
       "    "
      ],
      "text/plain": [
       "<IPython.core.display.HTML object>"
      ]
     },
     "metadata": {},
     "output_type": "display_data"
    },
    {
     "data": {
      "application/vnd.jupyter.widget-view+json": {
       "model_id": "677e568f770241bfa235bab8dd71e369",
       "version_major": 2,
       "version_minor": 0
      },
      "text/plain": [
       "  0%|          | 0/11873 [00:00<?, ?it/s]"
      ]
     },
     "metadata": {},
     "output_type": "display_data"
    },
    {
     "name": "stdout",
     "output_type": "stream",
     "text": [
      "Stopping training: eval_f1 below threshold of 60\n",
      "Stopping training: No improvement in eval_f1 for 1 epochs\n"
     ]
    },
    {
     "name": "stderr",
     "output_type": "stream",
     "text": [
      "[I 2024-05-28 19:02:06,672] Trial 25 finished with value: 50.50267921532405 and parameters: {'no_answer_threshold': 0.33385240306636493, 'learning_rate': 1.29424009940198e-05, 'batch_size': 32, 'warmup_ratio': 0, 'weight_decay': 0.21686724890909415, 'adam_beta1': 0.9184527601580457, 'adam_beta2': 0.9948430917566237, 'adam_epsilon': 4.5372239250548926e-07, 'lr_scheduler_type': 'linear'}. Best is trial 24 with value: 57.62459280679871.\n"
     ]
    },
    {
     "name": "stdout",
     "output_type": "stream",
     "text": [
      "Current Trial 26 parameters: {'no_answer_threshold': 0.41202054089587065, 'learning_rate': 5.207569956787098e-05, 'batch_size': 32, 'warmup_ratio': 0, 'weight_decay': 0.21473206270632714, 'adam_beta1': 0.9488564810831586, 'adam_beta2': 0.9939969332289136, 'adam_epsilon': 5.997108325848908e-07, 'lr_scheduler_type': 'cosine'}\n"
     ]
    },
    {
     "name": "stderr",
     "output_type": "stream",
     "text": [
      "Some weights of DistilBertForQuestionAnswering were not initialized from the model checkpoint at distilbert-base-cased and are newly initialized: ['qa_outputs.bias', 'qa_outputs.weight']\n",
      "You should probably TRAIN this model on a down-stream task to be able to use it for predictions and inference.\n"
     ]
    },
    {
     "data": {
      "text/html": [
       "\n",
       "    <div>\n",
       "      \n",
       "      <progress value='1877' max='5631' style='width:300px; height:20px; vertical-align: middle;'></progress>\n",
       "      [1877/5631 07:27 < 14:56, 4.19 it/s, Epoch 1/3]\n",
       "    </div>\n",
       "    <table border=\"1\" class=\"dataframe\">\n",
       "  <thead>\n",
       " <tr style=\"text-align: left;\">\n",
       "      <th>Epoch</th>\n",
       "      <th>Training Loss</th>\n",
       "      <th>Validation Loss</th>\n",
       "      <th>Exact</th>\n",
       "      <th>F1</th>\n",
       "      <th>Total</th>\n",
       "      <th>Hasans Exact</th>\n",
       "      <th>Hasans F1</th>\n",
       "      <th>Hasans Total</th>\n",
       "      <th>Noans Exact</th>\n",
       "      <th>Noans F1</th>\n",
       "      <th>Noans Total</th>\n",
       "      <th>Best Exact</th>\n",
       "      <th>Best Exact Thresh</th>\n",
       "      <th>Best F1</th>\n",
       "      <th>Best F1 Thresh</th>\n",
       "    </tr>\n",
       "  </thead>\n",
       "  <tbody>\n",
       "    <tr>\n",
       "      <td>1</td>\n",
       "      <td>1.566900</td>\n",
       "      <td>No log</td>\n",
       "      <td>42.567169</td>\n",
       "      <td>55.976922</td>\n",
       "      <td>11873</td>\n",
       "      <td>34.716599</td>\n",
       "      <td>61.574561</td>\n",
       "      <td>5928</td>\n",
       "      <td>50.395290</td>\n",
       "      <td>50.395290</td>\n",
       "      <td>5945</td>\n",
       "      <td>50.096858</td>\n",
       "      <td>0.000000</td>\n",
       "      <td>56.396872</td>\n",
       "      <td>0.000000</td>\n",
       "    </tr>\n",
       "  </tbody>\n",
       "</table><p>"
      ],
      "text/plain": [
       "<IPython.core.display.HTML object>"
      ]
     },
     "metadata": {},
     "output_type": "display_data"
    },
    {
     "data": {
      "application/vnd.jupyter.widget-view+json": {
       "model_id": "f148a1c4f145429cb2cb006f6c066ae0",
       "version_major": 2,
       "version_minor": 0
      },
      "text/plain": [
       "  0%|          | 0/11873 [00:00<?, ?it/s]"
      ]
     },
     "metadata": {},
     "output_type": "display_data"
    },
    {
     "name": "stdout",
     "output_type": "stream",
     "text": [
      "Stopping training: eval_f1 below threshold of 60\n"
     ]
    },
    {
     "data": {
      "text/html": [
       "\n",
       "    <div>\n",
       "      \n",
       "      <progress value='375' max='375' style='width:300px; height:20px; vertical-align: middle;'></progress>\n",
       "      [375/375 00:25]\n",
       "    </div>\n",
       "    "
      ],
      "text/plain": [
       "<IPython.core.display.HTML object>"
      ]
     },
     "metadata": {},
     "output_type": "display_data"
    },
    {
     "data": {
      "application/vnd.jupyter.widget-view+json": {
       "model_id": "16001948ec7341b68b63388d41cc1843",
       "version_major": 2,
       "version_minor": 0
      },
      "text/plain": [
       "  0%|          | 0/11873 [00:00<?, ?it/s]"
      ]
     },
     "metadata": {},
     "output_type": "display_data"
    },
    {
     "name": "stdout",
     "output_type": "stream",
     "text": [
      "Stopping training: eval_f1 below threshold of 60\n",
      "Stopping training: No improvement in eval_f1 for 1 epochs\n"
     ]
    },
    {
     "name": "stderr",
     "output_type": "stream",
     "text": [
      "[I 2024-05-28 19:10:30,655] Trial 26 finished with value: 55.9769221168609 and parameters: {'no_answer_threshold': 0.41202054089587065, 'learning_rate': 5.207569956787098e-05, 'batch_size': 32, 'warmup_ratio': 0, 'weight_decay': 0.21473206270632714, 'adam_beta1': 0.9488564810831586, 'adam_beta2': 0.9939969332289136, 'adam_epsilon': 5.997108325848908e-07, 'lr_scheduler_type': 'cosine'}. Best is trial 24 with value: 57.62459280679871.\n"
     ]
    },
    {
     "name": "stdout",
     "output_type": "stream",
     "text": [
      "Current Trial 27 parameters: {'no_answer_threshold': 0.5103388277196832, 'learning_rate': 4.011842565299055e-06, 'batch_size': 32, 'warmup_ratio': 0, 'weight_decay': 0.22819998190056537, 'adam_beta1': 0.9164619874547185, 'adam_beta2': 0.9953727007424085, 'adam_epsilon': 5.59933481284012e-07, 'lr_scheduler_type': 'linear'}\n"
     ]
    },
    {
     "name": "stderr",
     "output_type": "stream",
     "text": [
      "Some weights of DistilBertForQuestionAnswering were not initialized from the model checkpoint at distilbert-base-cased and are newly initialized: ['qa_outputs.bias', 'qa_outputs.weight']\n",
      "You should probably TRAIN this model on a down-stream task to be able to use it for predictions and inference.\n"
     ]
    },
    {
     "data": {
      "text/html": [
       "\n",
       "    <div>\n",
       "      \n",
       "      <progress value='1877' max='5631' style='width:300px; height:20px; vertical-align: middle;'></progress>\n",
       "      [1877/5631 07:27 < 14:56, 4.19 it/s, Epoch 1/3]\n",
       "    </div>\n",
       "    <table border=\"1\" class=\"dataframe\">\n",
       "  <thead>\n",
       " <tr style=\"text-align: left;\">\n",
       "      <th>Epoch</th>\n",
       "      <th>Training Loss</th>\n",
       "      <th>Validation Loss</th>\n",
       "      <th>Exact</th>\n",
       "      <th>F1</th>\n",
       "      <th>Total</th>\n",
       "      <th>Hasans Exact</th>\n",
       "      <th>Hasans F1</th>\n",
       "      <th>Hasans Total</th>\n",
       "      <th>Noans Exact</th>\n",
       "      <th>Noans F1</th>\n",
       "      <th>Noans Total</th>\n",
       "      <th>Best Exact</th>\n",
       "      <th>Best Exact Thresh</th>\n",
       "      <th>Best F1</th>\n",
       "      <th>Best F1 Thresh</th>\n",
       "    </tr>\n",
       "  </thead>\n",
       "  <tbody>\n",
       "    <tr>\n",
       "      <td>1</td>\n",
       "      <td>2.467900</td>\n",
       "      <td>No log</td>\n",
       "      <td>36.014487</td>\n",
       "      <td>42.497332</td>\n",
       "      <td>11873</td>\n",
       "      <td>15.991903</td>\n",
       "      <td>28.976184</td>\n",
       "      <td>5928</td>\n",
       "      <td>55.979815</td>\n",
       "      <td>55.979815</td>\n",
       "      <td>5945</td>\n",
       "      <td>50.071591</td>\n",
       "      <td>0.000000</td>\n",
       "      <td>50.071591</td>\n",
       "      <td>0.000000</td>\n",
       "    </tr>\n",
       "  </tbody>\n",
       "</table><p>"
      ],
      "text/plain": [
       "<IPython.core.display.HTML object>"
      ]
     },
     "metadata": {},
     "output_type": "display_data"
    },
    {
     "data": {
      "application/vnd.jupyter.widget-view+json": {
       "model_id": "7f1be38d71c049649e3d9082f15060d6",
       "version_major": 2,
       "version_minor": 0
      },
      "text/plain": [
       "  0%|          | 0/11873 [00:00<?, ?it/s]"
      ]
     },
     "metadata": {},
     "output_type": "display_data"
    },
    {
     "name": "stdout",
     "output_type": "stream",
     "text": [
      "Stopping training: eval_f1 below threshold of 60\n"
     ]
    },
    {
     "data": {
      "text/html": [
       "\n",
       "    <div>\n",
       "      \n",
       "      <progress value='375' max='375' style='width:300px; height:20px; vertical-align: middle;'></progress>\n",
       "      [375/375 00:25]\n",
       "    </div>\n",
       "    "
      ],
      "text/plain": [
       "<IPython.core.display.HTML object>"
      ]
     },
     "metadata": {},
     "output_type": "display_data"
    },
    {
     "data": {
      "application/vnd.jupyter.widget-view+json": {
       "model_id": "cba09c5f6ad84f26a9c9fae90014a1bf",
       "version_major": 2,
       "version_minor": 0
      },
      "text/plain": [
       "  0%|          | 0/11873 [00:00<?, ?it/s]"
      ]
     },
     "metadata": {},
     "output_type": "display_data"
    },
    {
     "name": "stdout",
     "output_type": "stream",
     "text": [
      "Stopping training: eval_f1 below threshold of 60\n",
      "Stopping training: No improvement in eval_f1 for 1 epochs\n"
     ]
    },
    {
     "name": "stderr",
     "output_type": "stream",
     "text": [
      "[I 2024-05-28 19:18:54,645] Trial 27 finished with value: 42.497331799310146 and parameters: {'no_answer_threshold': 0.5103388277196832, 'learning_rate': 4.011842565299055e-06, 'batch_size': 32, 'warmup_ratio': 0, 'weight_decay': 0.22819998190056537, 'adam_beta1': 0.9164619874547185, 'adam_beta2': 0.9953727007424085, 'adam_epsilon': 5.59933481284012e-07, 'lr_scheduler_type': 'linear'}. Best is trial 24 with value: 57.62459280679871.\n"
     ]
    },
    {
     "name": "stdout",
     "output_type": "stream",
     "text": [
      "Current Trial 28 parameters: {'no_answer_threshold': 0.2707908534271213, 'learning_rate': 1.779203132148805e-05, 'batch_size': 32, 'warmup_ratio': 0, 'weight_decay': 0.1973135510725933, 'adam_beta1': 0.9048131309040638, 'adam_beta2': 0.9939353981900423, 'adam_epsilon': 9.67220112344158e-07, 'lr_scheduler_type': 'linear'}\n"
     ]
    },
    {
     "name": "stderr",
     "output_type": "stream",
     "text": [
      "Some weights of DistilBertForQuestionAnswering were not initialized from the model checkpoint at distilbert-base-cased and are newly initialized: ['qa_outputs.bias', 'qa_outputs.weight']\n",
      "You should probably TRAIN this model on a down-stream task to be able to use it for predictions and inference.\n"
     ]
    },
    {
     "data": {
      "text/html": [
       "\n",
       "    <div>\n",
       "      \n",
       "      <progress value='1877' max='5631' style='width:300px; height:20px; vertical-align: middle;'></progress>\n",
       "      [1877/5631 07:26 < 14:53, 4.20 it/s, Epoch 1/3]\n",
       "    </div>\n",
       "    <table border=\"1\" class=\"dataframe\">\n",
       "  <thead>\n",
       " <tr style=\"text-align: left;\">\n",
       "      <th>Epoch</th>\n",
       "      <th>Training Loss</th>\n",
       "      <th>Validation Loss</th>\n",
       "      <th>Exact</th>\n",
       "      <th>F1</th>\n",
       "      <th>Total</th>\n",
       "      <th>Hasans Exact</th>\n",
       "      <th>Hasans F1</th>\n",
       "      <th>Hasans Total</th>\n",
       "      <th>Noans Exact</th>\n",
       "      <th>Noans F1</th>\n",
       "      <th>Noans Total</th>\n",
       "      <th>Best Exact</th>\n",
       "      <th>Best Exact Thresh</th>\n",
       "      <th>Best F1</th>\n",
       "      <th>Best F1 Thresh</th>\n",
       "    </tr>\n",
       "  </thead>\n",
       "  <tbody>\n",
       "    <tr>\n",
       "      <td>1</td>\n",
       "      <td>1.818700</td>\n",
       "      <td>No log</td>\n",
       "      <td>42.853533</td>\n",
       "      <td>54.208111</td>\n",
       "      <td>11873</td>\n",
       "      <td>30.077598</td>\n",
       "      <td>52.819316</td>\n",
       "      <td>5928</td>\n",
       "      <td>55.592935</td>\n",
       "      <td>55.592935</td>\n",
       "      <td>5945</td>\n",
       "      <td>50.096858</td>\n",
       "      <td>0.000000</td>\n",
       "      <td>54.922989</td>\n",
       "      <td>0.000000</td>\n",
       "    </tr>\n",
       "  </tbody>\n",
       "</table><p>"
      ],
      "text/plain": [
       "<IPython.core.display.HTML object>"
      ]
     },
     "metadata": {},
     "output_type": "display_data"
    },
    {
     "data": {
      "application/vnd.jupyter.widget-view+json": {
       "model_id": "6b7eb7ccc0b44900a5f1ed0267bc983d",
       "version_major": 2,
       "version_minor": 0
      },
      "text/plain": [
       "  0%|          | 0/11873 [00:00<?, ?it/s]"
      ]
     },
     "metadata": {},
     "output_type": "display_data"
    },
    {
     "name": "stdout",
     "output_type": "stream",
     "text": [
      "Stopping training: eval_f1 below threshold of 60\n"
     ]
    },
    {
     "data": {
      "text/html": [
       "\n",
       "    <div>\n",
       "      \n",
       "      <progress value='375' max='375' style='width:300px; height:20px; vertical-align: middle;'></progress>\n",
       "      [375/375 00:25]\n",
       "    </div>\n",
       "    "
      ],
      "text/plain": [
       "<IPython.core.display.HTML object>"
      ]
     },
     "metadata": {},
     "output_type": "display_data"
    },
    {
     "data": {
      "application/vnd.jupyter.widget-view+json": {
       "model_id": "f00838a563d142d5b099b42ba888eadf",
       "version_major": 2,
       "version_minor": 0
      },
      "text/plain": [
       "  0%|          | 0/11873 [00:00<?, ?it/s]"
      ]
     },
     "metadata": {},
     "output_type": "display_data"
    },
    {
     "name": "stdout",
     "output_type": "stream",
     "text": [
      "Stopping training: eval_f1 below threshold of 60\n",
      "Stopping training: No improvement in eval_f1 for 1 epochs\n"
     ]
    },
    {
     "name": "stderr",
     "output_type": "stream",
     "text": [
      "[I 2024-05-28 19:27:17,237] Trial 28 finished with value: 54.20811141289693 and parameters: {'no_answer_threshold': 0.2707908534271213, 'learning_rate': 1.779203132148805e-05, 'batch_size': 32, 'warmup_ratio': 0, 'weight_decay': 0.1973135510725933, 'adam_beta1': 0.9048131309040638, 'adam_beta2': 0.9939353981900423, 'adam_epsilon': 9.67220112344158e-07, 'lr_scheduler_type': 'linear'}. Best is trial 24 with value: 57.62459280679871.\n"
     ]
    },
    {
     "name": "stdout",
     "output_type": "stream",
     "text": [
      "Current Trial 29 parameters: {'no_answer_threshold': 0.40133773868646083, 'learning_rate': 1.4027443018268331e-06, 'batch_size': 64, 'warmup_ratio': 0, 'weight_decay': 0.22949744991020696, 'adam_beta1': 0.8861148162582255, 'adam_beta2': 0.9957144331116927, 'adam_epsilon': 1.7765035688797953e-07, 'lr_scheduler_type': 'linear'}\n"
     ]
    },
    {
     "name": "stderr",
     "output_type": "stream",
     "text": [
      "Some weights of DistilBertForQuestionAnswering were not initialized from the model checkpoint at distilbert-base-cased and are newly initialized: ['qa_outputs.bias', 'qa_outputs.weight']\n",
      "You should probably TRAIN this model on a down-stream task to be able to use it for predictions and inference.\n"
     ]
    },
    {
     "data": {
      "text/html": [
       "\n",
       "    <div>\n",
       "      \n",
       "      <progress value='939' max='2817' style='width:300px; height:20px; vertical-align: middle;'></progress>\n",
       "      [ 939/2817 21:37 < 43:21, 0.72 it/s, Epoch 1/3]\n",
       "    </div>\n",
       "    <table border=\"1\" class=\"dataframe\">\n",
       "  <thead>\n",
       " <tr style=\"text-align: left;\">\n",
       "      <th>Epoch</th>\n",
       "      <th>Training Loss</th>\n",
       "      <th>Validation Loss</th>\n",
       "      <th>Exact</th>\n",
       "      <th>F1</th>\n",
       "      <th>Total</th>\n",
       "      <th>Hasans Exact</th>\n",
       "      <th>Hasans F1</th>\n",
       "      <th>Hasans Total</th>\n",
       "      <th>Noans Exact</th>\n",
       "      <th>Noans F1</th>\n",
       "      <th>Noans Total</th>\n",
       "      <th>Best Exact</th>\n",
       "      <th>Best Exact Thresh</th>\n",
       "      <th>Best F1</th>\n",
       "      <th>Best F1 Thresh</th>\n",
       "    </tr>\n",
       "  </thead>\n",
       "  <tbody>\n",
       "    <tr>\n",
       "      <td>1</td>\n",
       "      <td>4.452700</td>\n",
       "      <td>No log</td>\n",
       "      <td>50.071591</td>\n",
       "      <td>50.071591</td>\n",
       "      <td>11873</td>\n",
       "      <td>0.000000</td>\n",
       "      <td>0.000000</td>\n",
       "      <td>5928</td>\n",
       "      <td>100.000000</td>\n",
       "      <td>100.000000</td>\n",
       "      <td>5945</td>\n",
       "      <td>50.071591</td>\n",
       "      <td>0.000000</td>\n",
       "      <td>50.071591</td>\n",
       "      <td>0.000000</td>\n",
       "    </tr>\n",
       "  </tbody>\n",
       "</table><p>"
      ],
      "text/plain": [
       "<IPython.core.display.HTML object>"
      ]
     },
     "metadata": {},
     "output_type": "display_data"
    },
    {
     "data": {
      "application/vnd.jupyter.widget-view+json": {
       "model_id": "240b0a0f04d143a286c8bc840f3c76bd",
       "version_major": 2,
       "version_minor": 0
      },
      "text/plain": [
       "  0%|          | 0/11873 [00:00<?, ?it/s]"
      ]
     },
     "metadata": {},
     "output_type": "display_data"
    },
    {
     "name": "stdout",
     "output_type": "stream",
     "text": [
      "Stopping training: eval_f1 below threshold of 60\n"
     ]
    },
    {
     "data": {
      "text/html": [
       "\n",
       "    <div>\n",
       "      \n",
       "      <progress value='188' max='188' style='width:300px; height:20px; vertical-align: middle;'></progress>\n",
       "      [188/188 00:25]\n",
       "    </div>\n",
       "    "
      ],
      "text/plain": [
       "<IPython.core.display.HTML object>"
      ]
     },
     "metadata": {},
     "output_type": "display_data"
    },
    {
     "data": {
      "application/vnd.jupyter.widget-view+json": {
       "model_id": "79e32541d8f644aba719877f80778813",
       "version_major": 2,
       "version_minor": 0
      },
      "text/plain": [
       "  0%|          | 0/11873 [00:00<?, ?it/s]"
      ]
     },
     "metadata": {},
     "output_type": "display_data"
    },
    {
     "name": "stdout",
     "output_type": "stream",
     "text": [
      "Stopping training: eval_f1 below threshold of 60\n",
      "Stopping training: No improvement in eval_f1 for 1 epochs\n"
     ]
    },
    {
     "name": "stderr",
     "output_type": "stream",
     "text": [
      "[I 2024-05-28 19:50:02,319] Trial 29 finished with value: 50.07159100480081 and parameters: {'no_answer_threshold': 0.40133773868646083, 'learning_rate': 1.4027443018268331e-06, 'batch_size': 64, 'warmup_ratio': 0, 'weight_decay': 0.22949744991020696, 'adam_beta1': 0.8861148162582255, 'adam_beta2': 0.9957144331116927, 'adam_epsilon': 1.7765035688797953e-07, 'lr_scheduler_type': 'linear'}. Best is trial 24 with value: 57.62459280679871.\n"
     ]
    }
   ],
   "source": [
    "study.optimize(objective, n_trials=5)"
   ]
  },
  {
   "cell_type": "code",
   "execution_count": 101,
   "id": "c2decc7b-f922-471f-8a8c-398a16ddcaa3",
   "metadata": {
    "tags": []
   },
   "outputs": [
    {
     "name": "stdout",
     "output_type": "stream",
     "text": [
      "Current Trial 30 parameters: {'no_answer_threshold': 0.1176376945719293, 'learning_rate': 5.139828322033379e-05, 'batch_size': 64, 'warmup_ratio': 0, 'weight_decay': 0.16115642901725802, 'adam_beta1': 0.9337762788645813, 'adam_beta2': 0.9931344908814995, 'adam_epsilon': 4.318766340760206e-07, 'lr_scheduler_type': 'linear'}\n"
     ]
    },
    {
     "name": "stderr",
     "output_type": "stream",
     "text": [
      "Some weights of DistilBertForQuestionAnswering were not initialized from the model checkpoint at distilbert-base-cased and are newly initialized: ['qa_outputs.bias', 'qa_outputs.weight']\n",
      "You should probably TRAIN this model on a down-stream task to be able to use it for predictions and inference.\n"
     ]
    },
    {
     "data": {
      "text/html": [
       "\n",
       "    <div>\n",
       "      \n",
       "      <progress value='939' max='2817' style='width:300px; height:20px; vertical-align: middle;'></progress>\n",
       "      [ 939/2817 33:21 < 1:06:52, 0.47 it/s, Epoch 1/3]\n",
       "    </div>\n",
       "    <table border=\"1\" class=\"dataframe\">\n",
       "  <thead>\n",
       " <tr style=\"text-align: left;\">\n",
       "      <th>Epoch</th>\n",
       "      <th>Training Loss</th>\n",
       "      <th>Validation Loss</th>\n",
       "      <th>Exact</th>\n",
       "      <th>F1</th>\n",
       "      <th>Total</th>\n",
       "      <th>Hasans Exact</th>\n",
       "      <th>Hasans F1</th>\n",
       "      <th>Hasans Total</th>\n",
       "      <th>Noans Exact</th>\n",
       "      <th>Noans F1</th>\n",
       "      <th>Noans Total</th>\n",
       "      <th>Best Exact</th>\n",
       "      <th>Best Exact Thresh</th>\n",
       "      <th>Best F1</th>\n",
       "      <th>Best F1 Thresh</th>\n",
       "    </tr>\n",
       "  </thead>\n",
       "  <tbody>\n",
       "    <tr>\n",
       "      <td>1</td>\n",
       "      <td>2.270600</td>\n",
       "      <td>No log</td>\n",
       "      <td>46.668913</td>\n",
       "      <td>58.470220</td>\n",
       "      <td>11873</td>\n",
       "      <td>31.578947</td>\n",
       "      <td>55.215404</td>\n",
       "      <td>5928</td>\n",
       "      <td>61.715728</td>\n",
       "      <td>61.715728</td>\n",
       "      <td>5945</td>\n",
       "      <td>50.096858</td>\n",
       "      <td>0.000000</td>\n",
       "      <td>58.991977</td>\n",
       "      <td>0.000000</td>\n",
       "    </tr>\n",
       "  </tbody>\n",
       "</table><p>"
      ],
      "text/plain": [
       "<IPython.core.display.HTML object>"
      ]
     },
     "metadata": {},
     "output_type": "display_data"
    },
    {
     "data": {
      "application/vnd.jupyter.widget-view+json": {
       "model_id": "6b8f925c6a464f90b992447a4c518988",
       "version_major": 2,
       "version_minor": 0
      },
      "text/plain": [
       "  0%|          | 0/11873 [00:00<?, ?it/s]"
      ]
     },
     "metadata": {},
     "output_type": "display_data"
    },
    {
     "name": "stdout",
     "output_type": "stream",
     "text": [
      "Stopping training: eval_f1 below threshold of 60\n"
     ]
    },
    {
     "data": {
      "text/html": [
       "\n",
       "    <div>\n",
       "      \n",
       "      <progress value='188' max='188' style='width:300px; height:20px; vertical-align: middle;'></progress>\n",
       "      [188/188 00:25]\n",
       "    </div>\n",
       "    "
      ],
      "text/plain": [
       "<IPython.core.display.HTML object>"
      ]
     },
     "metadata": {},
     "output_type": "display_data"
    },
    {
     "data": {
      "application/vnd.jupyter.widget-view+json": {
       "model_id": "5723d1ca2a534d29a9b18dbe546765d2",
       "version_major": 2,
       "version_minor": 0
      },
      "text/plain": [
       "  0%|          | 0/11873 [00:00<?, ?it/s]"
      ]
     },
     "metadata": {},
     "output_type": "display_data"
    },
    {
     "name": "stdout",
     "output_type": "stream",
     "text": [
      "Stopping training: eval_f1 below threshold of 60\n",
      "Stopping training: No improvement in eval_f1 for 1 epochs\n"
     ]
    },
    {
     "name": "stderr",
     "output_type": "stream",
     "text": [
      "[I 2024-05-28 20:32:51,071] Trial 30 finished with value: 58.47021961070583 and parameters: {'no_answer_threshold': 0.1176376945719293, 'learning_rate': 5.139828322033379e-05, 'batch_size': 64, 'warmup_ratio': 0, 'weight_decay': 0.16115642901725802, 'adam_beta1': 0.9337762788645813, 'adam_beta2': 0.9931344908814995, 'adam_epsilon': 4.318766340760206e-07, 'lr_scheduler_type': 'linear'}. Best is trial 30 with value: 58.47021961070583.\n"
     ]
    },
    {
     "name": "stdout",
     "output_type": "stream",
     "text": [
      "Current Trial 31 parameters: {'no_answer_threshold': 0.1239712322247114, 'learning_rate': 5.4202112786022716e-05, 'batch_size': 64, 'warmup_ratio': 0, 'weight_decay': 0.15799616788676238, 'adam_beta1': 0.9364474473581986, 'adam_beta2': 0.9932038008541233, 'adam_epsilon': 4.4079511675983964e-07, 'lr_scheduler_type': 'linear'}\n"
     ]
    },
    {
     "name": "stderr",
     "output_type": "stream",
     "text": [
      "Some weights of DistilBertForQuestionAnswering were not initialized from the model checkpoint at distilbert-base-cased and are newly initialized: ['qa_outputs.bias', 'qa_outputs.weight']\n",
      "You should probably TRAIN this model on a down-stream task to be able to use it for predictions and inference.\n"
     ]
    },
    {
     "data": {
      "text/html": [
       "\n",
       "    <div>\n",
       "      \n",
       "      <progress value='939' max='2817' style='width:300px; height:20px; vertical-align: middle;'></progress>\n",
       "      [ 939/2817 51:55 < 1:44:04, 0.30 it/s, Epoch 1/3]\n",
       "    </div>\n",
       "    <table border=\"1\" class=\"dataframe\">\n",
       "  <thead>\n",
       " <tr style=\"text-align: left;\">\n",
       "      <th>Epoch</th>\n",
       "      <th>Training Loss</th>\n",
       "      <th>Validation Loss</th>\n",
       "      <th>Exact</th>\n",
       "      <th>F1</th>\n",
       "      <th>Total</th>\n",
       "      <th>Hasans Exact</th>\n",
       "      <th>Hasans F1</th>\n",
       "      <th>Hasans Total</th>\n",
       "      <th>Noans Exact</th>\n",
       "      <th>Noans F1</th>\n",
       "      <th>Noans Total</th>\n",
       "      <th>Best Exact</th>\n",
       "      <th>Best Exact Thresh</th>\n",
       "      <th>Best F1</th>\n",
       "      <th>Best F1 Thresh</th>\n",
       "    </tr>\n",
       "  </thead>\n",
       "  <tbody>\n",
       "    <tr>\n",
       "      <td>1</td>\n",
       "      <td>2.252800</td>\n",
       "      <td>No log</td>\n",
       "      <td>46.011960</td>\n",
       "      <td>57.854463</td>\n",
       "      <td>11873</td>\n",
       "      <td>31.983806</td>\n",
       "      <td>55.702773</td>\n",
       "      <td>5928</td>\n",
       "      <td>60.000000</td>\n",
       "      <td>60.000000</td>\n",
       "      <td>5945</td>\n",
       "      <td>50.096858</td>\n",
       "      <td>0.000000</td>\n",
       "      <td>58.423753</td>\n",
       "      <td>0.000000</td>\n",
       "    </tr>\n",
       "  </tbody>\n",
       "</table><p>"
      ],
      "text/plain": [
       "<IPython.core.display.HTML object>"
      ]
     },
     "metadata": {},
     "output_type": "display_data"
    },
    {
     "data": {
      "application/vnd.jupyter.widget-view+json": {
       "model_id": "d534732d0736440faf4e884eddd424e3",
       "version_major": 2,
       "version_minor": 0
      },
      "text/plain": [
       "  0%|          | 0/11873 [00:00<?, ?it/s]"
      ]
     },
     "metadata": {},
     "output_type": "display_data"
    },
    {
     "name": "stdout",
     "output_type": "stream",
     "text": [
      "Stopping training: eval_f1 below threshold of 60\n"
     ]
    },
    {
     "data": {
      "text/html": [
       "\n",
       "    <div>\n",
       "      \n",
       "      <progress value='188' max='188' style='width:300px; height:20px; vertical-align: middle;'></progress>\n",
       "      [188/188 00:26]\n",
       "    </div>\n",
       "    "
      ],
      "text/plain": [
       "<IPython.core.display.HTML object>"
      ]
     },
     "metadata": {},
     "output_type": "display_data"
    },
    {
     "data": {
      "application/vnd.jupyter.widget-view+json": {
       "model_id": "1983a23cb4064836a4ab2f8eb431de7d",
       "version_major": 2,
       "version_minor": 0
      },
      "text/plain": [
       "  0%|          | 0/11873 [00:00<?, ?it/s]"
      ]
     },
     "metadata": {},
     "output_type": "display_data"
    },
    {
     "name": "stdout",
     "output_type": "stream",
     "text": [
      "Stopping training: eval_f1 below threshold of 60\n",
      "Stopping training: No improvement in eval_f1 for 1 epochs\n"
     ]
    },
    {
     "name": "stderr",
     "output_type": "stream",
     "text": [
      "[I 2024-05-28 21:25:45,438] Trial 31 finished with value: 57.854462866332746 and parameters: {'no_answer_threshold': 0.1239712322247114, 'learning_rate': 5.4202112786022716e-05, 'batch_size': 64, 'warmup_ratio': 0, 'weight_decay': 0.15799616788676238, 'adam_beta1': 0.9364474473581986, 'adam_beta2': 0.9932038008541233, 'adam_epsilon': 4.4079511675983964e-07, 'lr_scheduler_type': 'linear'}. Best is trial 30 with value: 58.47021961070583.\n"
     ]
    },
    {
     "name": "stdout",
     "output_type": "stream",
     "text": [
      "Current Trial 32 parameters: {'no_answer_threshold': 0.12789998414292053, 'learning_rate': 5.1396872717889526e-05, 'batch_size': 64, 'warmup_ratio': 0, 'weight_decay': 0.18973281554376498, 'adam_beta1': 0.9416521538729946, 'adam_beta2': 0.9932686276693526, 'adam_epsilon': 4.256864144833896e-07, 'lr_scheduler_type': 'linear'}\n"
     ]
    },
    {
     "name": "stderr",
     "output_type": "stream",
     "text": [
      "Some weights of DistilBertForQuestionAnswering were not initialized from the model checkpoint at distilbert-base-cased and are newly initialized: ['qa_outputs.bias', 'qa_outputs.weight']\n",
      "You should probably TRAIN this model on a down-stream task to be able to use it for predictions and inference.\n"
     ]
    },
    {
     "data": {
      "text/html": [
       "\n",
       "    <div>\n",
       "      \n",
       "      <progress value='939' max='2817' style='width:300px; height:20px; vertical-align: middle;'></progress>\n",
       "      [ 939/2817 27:10 < 54:27, 0.57 it/s, Epoch 1/3]\n",
       "    </div>\n",
       "    <table border=\"1\" class=\"dataframe\">\n",
       "  <thead>\n",
       " <tr style=\"text-align: left;\">\n",
       "      <th>Epoch</th>\n",
       "      <th>Training Loss</th>\n",
       "      <th>Validation Loss</th>\n",
       "      <th>Exact</th>\n",
       "      <th>F1</th>\n",
       "      <th>Total</th>\n",
       "      <th>Hasans Exact</th>\n",
       "      <th>Hasans F1</th>\n",
       "      <th>Hasans Total</th>\n",
       "      <th>Noans Exact</th>\n",
       "      <th>Noans F1</th>\n",
       "      <th>Noans Total</th>\n",
       "      <th>Best Exact</th>\n",
       "      <th>Best Exact Thresh</th>\n",
       "      <th>Best F1</th>\n",
       "      <th>Best F1 Thresh</th>\n",
       "    </tr>\n",
       "  </thead>\n",
       "  <tbody>\n",
       "    <tr>\n",
       "      <td>1</td>\n",
       "      <td>2.278200</td>\n",
       "      <td>No log</td>\n",
       "      <td>46.500463</td>\n",
       "      <td>58.018882</td>\n",
       "      <td>11873</td>\n",
       "      <td>31.410256</td>\n",
       "      <td>54.480125</td>\n",
       "      <td>5928</td>\n",
       "      <td>61.547519</td>\n",
       "      <td>61.547519</td>\n",
       "      <td>5945</td>\n",
       "      <td>50.096858</td>\n",
       "      <td>0.000000</td>\n",
       "      <td>58.682520</td>\n",
       "      <td>0.000000</td>\n",
       "    </tr>\n",
       "  </tbody>\n",
       "</table><p>"
      ],
      "text/plain": [
       "<IPython.core.display.HTML object>"
      ]
     },
     "metadata": {},
     "output_type": "display_data"
    },
    {
     "data": {
      "application/vnd.jupyter.widget-view+json": {
       "model_id": "92a4966ff4c94e42b6ac94b28f47a726",
       "version_major": 2,
       "version_minor": 0
      },
      "text/plain": [
       "  0%|          | 0/11873 [00:00<?, ?it/s]"
      ]
     },
     "metadata": {},
     "output_type": "display_data"
    },
    {
     "name": "stdout",
     "output_type": "stream",
     "text": [
      "Stopping training: eval_f1 below threshold of 60\n"
     ]
    },
    {
     "data": {
      "text/html": [
       "\n",
       "    <div>\n",
       "      \n",
       "      <progress value='188' max='188' style='width:300px; height:20px; vertical-align: middle;'></progress>\n",
       "      [188/188 00:25]\n",
       "    </div>\n",
       "    "
      ],
      "text/plain": [
       "<IPython.core.display.HTML object>"
      ]
     },
     "metadata": {},
     "output_type": "display_data"
    },
    {
     "data": {
      "application/vnd.jupyter.widget-view+json": {
       "model_id": "e17d04e6ccbf46b596be2d9c72a7b05f",
       "version_major": 2,
       "version_minor": 0
      },
      "text/plain": [
       "  0%|          | 0/11873 [00:00<?, ?it/s]"
      ]
     },
     "metadata": {},
     "output_type": "display_data"
    },
    {
     "name": "stdout",
     "output_type": "stream",
     "text": [
      "Stopping training: eval_f1 below threshold of 60\n",
      "Stopping training: No improvement in eval_f1 for 1 epochs\n"
     ]
    },
    {
     "name": "stderr",
     "output_type": "stream",
     "text": [
      "[I 2024-05-28 21:53:55,276] Trial 32 finished with value: 58.018881646907914 and parameters: {'no_answer_threshold': 0.12789998414292053, 'learning_rate': 5.1396872717889526e-05, 'batch_size': 64, 'warmup_ratio': 0, 'weight_decay': 0.18973281554376498, 'adam_beta1': 0.9416521538729946, 'adam_beta2': 0.9932686276693526, 'adam_epsilon': 4.256864144833896e-07, 'lr_scheduler_type': 'linear'}. Best is trial 30 with value: 58.47021961070583.\n"
     ]
    },
    {
     "name": "stdout",
     "output_type": "stream",
     "text": [
      "Current Trial 33 parameters: {'no_answer_threshold': 0.13372307650712983, 'learning_rate': 5.490950309081707e-05, 'batch_size': 64, 'warmup_ratio': 0, 'weight_decay': 0.13221370436126553, 'adam_beta1': 0.9489823318056421, 'adam_beta2': 0.9931051790430672, 'adam_epsilon': 5.272716881594311e-07, 'lr_scheduler_type': 'linear'}\n"
     ]
    },
    {
     "name": "stderr",
     "output_type": "stream",
     "text": [
      "Some weights of DistilBertForQuestionAnswering were not initialized from the model checkpoint at distilbert-base-cased and are newly initialized: ['qa_outputs.bias', 'qa_outputs.weight']\n",
      "You should probably TRAIN this model on a down-stream task to be able to use it for predictions and inference.\n"
     ]
    },
    {
     "data": {
      "text/html": [
       "\n",
       "    <div>\n",
       "      \n",
       "      <progress value='939' max='2817' style='width:300px; height:20px; vertical-align: middle;'></progress>\n",
       "      [ 939/2817 31:19 < 1:02:48, 0.50 it/s, Epoch 1/3]\n",
       "    </div>\n",
       "    <table border=\"1\" class=\"dataframe\">\n",
       "  <thead>\n",
       " <tr style=\"text-align: left;\">\n",
       "      <th>Epoch</th>\n",
       "      <th>Training Loss</th>\n",
       "      <th>Validation Loss</th>\n",
       "      <th>Exact</th>\n",
       "      <th>F1</th>\n",
       "      <th>Total</th>\n",
       "      <th>Hasans Exact</th>\n",
       "      <th>Hasans F1</th>\n",
       "      <th>Hasans Total</th>\n",
       "      <th>Noans Exact</th>\n",
       "      <th>Noans F1</th>\n",
       "      <th>Noans Total</th>\n",
       "      <th>Best Exact</th>\n",
       "      <th>Best Exact Thresh</th>\n",
       "      <th>Best F1</th>\n",
       "      <th>Best F1 Thresh</th>\n",
       "    </tr>\n",
       "  </thead>\n",
       "  <tbody>\n",
       "    <tr>\n",
       "      <td>1</td>\n",
       "      <td>2.266100</td>\n",
       "      <td>No log</td>\n",
       "      <td>45.953003</td>\n",
       "      <td>57.745014</td>\n",
       "      <td>11873</td>\n",
       "      <td>31.966937</td>\n",
       "      <td>55.584776</td>\n",
       "      <td>5928</td>\n",
       "      <td>59.899075</td>\n",
       "      <td>59.899075</td>\n",
       "      <td>5945</td>\n",
       "      <td>50.096858</td>\n",
       "      <td>0.000000</td>\n",
       "      <td>58.411178</td>\n",
       "      <td>0.000000</td>\n",
       "    </tr>\n",
       "  </tbody>\n",
       "</table><p>"
      ],
      "text/plain": [
       "<IPython.core.display.HTML object>"
      ]
     },
     "metadata": {},
     "output_type": "display_data"
    },
    {
     "data": {
      "application/vnd.jupyter.widget-view+json": {
       "model_id": "b0d40aa490724af1a8fbd75568c2abf8",
       "version_major": 2,
       "version_minor": 0
      },
      "text/plain": [
       "  0%|          | 0/11873 [00:00<?, ?it/s]"
      ]
     },
     "metadata": {},
     "output_type": "display_data"
    },
    {
     "name": "stdout",
     "output_type": "stream",
     "text": [
      "Stopping training: eval_f1 below threshold of 60\n"
     ]
    },
    {
     "data": {
      "text/html": [
       "\n",
       "    <div>\n",
       "      \n",
       "      <progress value='188' max='188' style='width:300px; height:20px; vertical-align: middle;'></progress>\n",
       "      [188/188 00:25]\n",
       "    </div>\n",
       "    "
      ],
      "text/plain": [
       "<IPython.core.display.HTML object>"
      ]
     },
     "metadata": {},
     "output_type": "display_data"
    },
    {
     "data": {
      "application/vnd.jupyter.widget-view+json": {
       "model_id": "f5d3a209ef324dc095bb33530b7f8f6c",
       "version_major": 2,
       "version_minor": 0
      },
      "text/plain": [
       "  0%|          | 0/11873 [00:00<?, ?it/s]"
      ]
     },
     "metadata": {},
     "output_type": "display_data"
    },
    {
     "name": "stdout",
     "output_type": "stream",
     "text": [
      "Stopping training: eval_f1 below threshold of 60\n",
      "Stopping training: No improvement in eval_f1 for 1 epochs\n"
     ]
    },
    {
     "name": "stderr",
     "output_type": "stream",
     "text": [
      "[I 2024-05-28 22:26:14,260] Trial 33 finished with value: 57.74501387823425 and parameters: {'no_answer_threshold': 0.13372307650712983, 'learning_rate': 5.490950309081707e-05, 'batch_size': 64, 'warmup_ratio': 0, 'weight_decay': 0.13221370436126553, 'adam_beta1': 0.9489823318056421, 'adam_beta2': 0.9931051790430672, 'adam_epsilon': 5.272716881594311e-07, 'lr_scheduler_type': 'linear'}. Best is trial 30 with value: 58.47021961070583.\n"
     ]
    },
    {
     "name": "stdout",
     "output_type": "stream",
     "text": [
      "Current Trial 34 parameters: {'no_answer_threshold': 0.0840898747658837, 'learning_rate': 2.157833848624328e-05, 'batch_size': 64, 'warmup_ratio': 1, 'weight_decay': 0.13303340459210167, 'adam_beta1': 0.9497676255380477, 'adam_beta2': 0.9929853840179018, 'adam_epsilon': 5.436707707276962e-07, 'lr_scheduler_type': 'cosine'}\n"
     ]
    },
    {
     "name": "stderr",
     "output_type": "stream",
     "text": [
      "Some weights of DistilBertForQuestionAnswering were not initialized from the model checkpoint at distilbert-base-cased and are newly initialized: ['qa_outputs.bias', 'qa_outputs.weight']\n",
      "You should probably TRAIN this model on a down-stream task to be able to use it for predictions and inference.\n"
     ]
    },
    {
     "data": {
      "text/html": [
       "\n",
       "    <div>\n",
       "      \n",
       "      <progress value='939' max='2817' style='width:300px; height:20px; vertical-align: middle;'></progress>\n",
       "      [ 939/2817 25:43 < 51:33, 0.61 it/s, Epoch 1/3]\n",
       "    </div>\n",
       "    <table border=\"1\" class=\"dataframe\">\n",
       "  <thead>\n",
       " <tr style=\"text-align: left;\">\n",
       "      <th>Epoch</th>\n",
       "      <th>Training Loss</th>\n",
       "      <th>Validation Loss</th>\n",
       "      <th>Exact</th>\n",
       "      <th>F1</th>\n",
       "      <th>Total</th>\n",
       "      <th>Hasans Exact</th>\n",
       "      <th>Hasans F1</th>\n",
       "      <th>Hasans Total</th>\n",
       "      <th>Noans Exact</th>\n",
       "      <th>Noans F1</th>\n",
       "      <th>Noans Total</th>\n",
       "      <th>Best Exact</th>\n",
       "      <th>Best Exact Thresh</th>\n",
       "      <th>Best F1</th>\n",
       "      <th>Best F1 Thresh</th>\n",
       "    </tr>\n",
       "  </thead>\n",
       "  <tbody>\n",
       "    <tr>\n",
       "      <td>1</td>\n",
       "      <td>4.848200</td>\n",
       "      <td>No log</td>\n",
       "      <td>43.754738</td>\n",
       "      <td>46.893566</td>\n",
       "      <td>11873</td>\n",
       "      <td>7.439271</td>\n",
       "      <td>13.725930</td>\n",
       "      <td>5928</td>\n",
       "      <td>79.966358</td>\n",
       "      <td>79.966358</td>\n",
       "      <td>5945</td>\n",
       "      <td>50.071591</td>\n",
       "      <td>0.000000</td>\n",
       "      <td>50.071591</td>\n",
       "      <td>0.000000</td>\n",
       "    </tr>\n",
       "  </tbody>\n",
       "</table><p>"
      ],
      "text/plain": [
       "<IPython.core.display.HTML object>"
      ]
     },
     "metadata": {},
     "output_type": "display_data"
    },
    {
     "data": {
      "application/vnd.jupyter.widget-view+json": {
       "model_id": "aa7c32201e8f4f66886ff04878999104",
       "version_major": 2,
       "version_minor": 0
      },
      "text/plain": [
       "  0%|          | 0/11873 [00:00<?, ?it/s]"
      ]
     },
     "metadata": {},
     "output_type": "display_data"
    },
    {
     "name": "stdout",
     "output_type": "stream",
     "text": [
      "Stopping training: eval_f1 below threshold of 60\n"
     ]
    },
    {
     "data": {
      "text/html": [
       "\n",
       "    <div>\n",
       "      \n",
       "      <progress value='188' max='188' style='width:300px; height:20px; vertical-align: middle;'></progress>\n",
       "      [188/188 00:25]\n",
       "    </div>\n",
       "    "
      ],
      "text/plain": [
       "<IPython.core.display.HTML object>"
      ]
     },
     "metadata": {},
     "output_type": "display_data"
    },
    {
     "data": {
      "application/vnd.jupyter.widget-view+json": {
       "model_id": "cbb1d130c58549e8a884af171f20d235",
       "version_major": 2,
       "version_minor": 0
      },
      "text/plain": [
       "  0%|          | 0/11873 [00:00<?, ?it/s]"
      ]
     },
     "metadata": {},
     "output_type": "display_data"
    },
    {
     "name": "stdout",
     "output_type": "stream",
     "text": [
      "Stopping training: eval_f1 below threshold of 60\n",
      "Stopping training: No improvement in eval_f1 for 1 epochs\n"
     ]
    },
    {
     "name": "stderr",
     "output_type": "stream",
     "text": [
      "[I 2024-05-28 22:52:55,644] Trial 34 finished with value: 46.893566098021374 and parameters: {'no_answer_threshold': 0.0840898747658837, 'learning_rate': 2.157833848624328e-05, 'batch_size': 64, 'warmup_ratio': 1, 'weight_decay': 0.13303340459210167, 'adam_beta1': 0.9497676255380477, 'adam_beta2': 0.9929853840179018, 'adam_epsilon': 5.436707707276962e-07, 'lr_scheduler_type': 'cosine'}. Best is trial 30 with value: 58.47021961070583.\n"
     ]
    }
   ],
   "source": [
    "study.optimize(objective, n_trials=5)"
   ]
  },
  {
   "cell_type": "markdown",
   "id": "d6f8e1c1-893e-4be8-88cd-622dec5a543b",
   "metadata": {
    "jp-MarkdownHeadingCollapsed": true,
    "tags": []
   },
   "source": [
    "## 7. Summary of Hyperparameters Search\n",
    "\n",
    "Each row of the below table corresponds to a trial and shows all specified parameters along with measured performance metrics with Trial 9 acheiving the highest performance.\n",
    "\n",
    "\n",
    "\n",
    "| Trial | Learning Rate     | Batch Size | Warmup Steps | Weight Decay   | Adam Beta1 | Adam Beta2 | Adam Epsilon | LR Scheduler Type          | Exact   | F1       | Hasans Exact | Hasans F1 | Noans Exact | Noans F1 |\n",
    "|-------|-------------------|------------|--------------|----------------|------------|------------|--------------|----------------------------|---------|----------|--------------|-----------|-------------|----------|\n"
   ]
  },
  {
   "cell_type": "markdown",
   "id": "978cde17-3ef7-47ac-8663-b74fdefee34a",
   "metadata": {
    "tags": []
   },
   "source": [
    "## Tuning DistilBERT Using the Best Hyperparameters"
   ]
  },
  {
   "cell_type": "code",
   "execution_count": null,
   "id": "a3805e98-599c-4c21-9922-ae913acc6b0e",
   "metadata": {
    "tags": []
   },
   "outputs": [
    {
     "name": "stderr",
     "output_type": "stream",
     "text": [
      "Some weights of DistilBertForQuestionAnswering were not initialized from the model checkpoint at distilbert-base-cased and are newly initialized: ['qa_outputs.bias', 'qa_outputs.weight']\n",
      "You should probably TRAIN this model on a down-stream task to be able to use it for predictions and inference.\n"
     ]
    },
    {
     "data": {
      "text/html": [
       "Tracking run with wandb version 0.17.0"
      ],
      "text/plain": [
       "<IPython.core.display.HTML object>"
      ]
     },
     "metadata": {},
     "output_type": "display_data"
    },
    {
     "data": {
      "text/html": [
       "Run data is saved locally in <code>C:\\Users\\OEM\\COMPSCI-714\\COMPSCI714 Project\\wandb\\run-20240602_230120-i0te0p5y</code>"
      ],
      "text/plain": [
       "<IPython.core.display.HTML object>"
      ]
     },
     "metadata": {},
     "output_type": "display_data"
    },
    {
     "data": {
      "text/html": [
       "Syncing run <strong><a href='https://wandb.ai/COMPSCI714/huggingface/runs/i0te0p5y' target=\"_blank\">distilbert-base-cased-best_model</a></strong> to <a href='https://wandb.ai/COMPSCI714/huggingface' target=\"_blank\">Weights & Biases</a> (<a href='https://wandb.me/run' target=\"_blank\">docs</a>)<br/>"
      ],
      "text/plain": [
       "<IPython.core.display.HTML object>"
      ]
     },
     "metadata": {},
     "output_type": "display_data"
    },
    {
     "data": {
      "text/html": [
       " View project at <a href='https://wandb.ai/COMPSCI714/huggingface' target=\"_blank\">https://wandb.ai/COMPSCI714/huggingface</a>"
      ],
      "text/plain": [
       "<IPython.core.display.HTML object>"
      ]
     },
     "metadata": {},
     "output_type": "display_data"
    },
    {
     "data": {
      "text/html": [
       " View run at <a href='https://wandb.ai/COMPSCI714/huggingface/runs/i0te0p5y' target=\"_blank\">https://wandb.ai/COMPSCI714/huggingface/runs/i0te0p5y</a>"
      ],
      "text/plain": [
       "<IPython.core.display.HTML object>"
      ]
     },
     "metadata": {},
     "output_type": "display_data"
    },
    {
     "data": {
      "text/html": [
       "\n",
       "    <div>\n",
       "      \n",
       "      <progress value='16370' max='40650' style='width:300px; height:20px; vertical-align: middle;'></progress>\n",
       "      [16370/40650 1:04:11 < 1:35:13, 4.25 it/s, Epoch 4.03/10]\n",
       "    </div>\n",
       "    <table border=\"1\" class=\"dataframe\">\n",
       "  <thead>\n",
       " <tr style=\"text-align: left;\">\n",
       "      <th>Epoch</th>\n",
       "      <th>Training Loss</th>\n",
       "      <th>Validation Loss</th>\n",
       "      <th>Exact</th>\n",
       "      <th>F1</th>\n",
       "      <th>Total</th>\n",
       "      <th>Hasans Exact</th>\n",
       "      <th>Hasans F1</th>\n",
       "      <th>Hasans Total</th>\n",
       "      <th>Noans Exact</th>\n",
       "      <th>Noans F1</th>\n",
       "      <th>Noans Total</th>\n",
       "      <th>Best Exact</th>\n",
       "      <th>Best Exact Thresh</th>\n",
       "      <th>Best F1</th>\n",
       "      <th>Best F1 Thresh</th>\n",
       "    </tr>\n",
       "  </thead>\n",
       "  <tbody>\n",
       "    <tr>\n",
       "      <td>1</td>\n",
       "      <td>1.262600</td>\n",
       "      <td>No log</td>\n",
       "      <td>52.690980</td>\n",
       "      <td>63.392637</td>\n",
       "      <td>11873</td>\n",
       "      <td>30.364372</td>\n",
       "      <td>51.798377</td>\n",
       "      <td>5928</td>\n",
       "      <td>74.953743</td>\n",
       "      <td>74.953743</td>\n",
       "      <td>5945</td>\n",
       "      <td>53.373200</td>\n",
       "      <td>0.000000</td>\n",
       "      <td>63.405070</td>\n",
       "      <td>0.000000</td>\n",
       "    </tr>\n",
       "    <tr>\n",
       "      <td>2</td>\n",
       "      <td>0.962700</td>\n",
       "      <td>No log</td>\n",
       "      <td>51.217047</td>\n",
       "      <td>65.262790</td>\n",
       "      <td>11873</td>\n",
       "      <td>37.348178</td>\n",
       "      <td>65.479943</td>\n",
       "      <td>5928</td>\n",
       "      <td>65.046257</td>\n",
       "      <td>65.046257</td>\n",
       "      <td>5945</td>\n",
       "      <td>51.486566</td>\n",
       "      <td>0.000000</td>\n",
       "      <td>65.262790</td>\n",
       "      <td>0.000000</td>\n",
       "    </tr>\n",
       "    <tr>\n",
       "      <td>3</td>\n",
       "      <td>0.713500</td>\n",
       "      <td>No log</td>\n",
       "      <td>49.953676</td>\n",
       "      <td>64.202782</td>\n",
       "      <td>11873</td>\n",
       "      <td>37.736167</td>\n",
       "      <td>66.275242</td>\n",
       "      <td>5928</td>\n",
       "      <td>62.136249</td>\n",
       "      <td>62.136249</td>\n",
       "      <td>5945</td>\n",
       "      <td>50.509560</td>\n",
       "      <td>0.000000</td>\n",
       "      <td>64.211205</td>\n",
       "      <td>0.000000</td>\n",
       "    </tr>\n",
       "    <tr>\n",
       "      <td>4</td>\n",
       "      <td>0.526100</td>\n",
       "      <td>No log</td>\n",
       "      <td>48.825065</td>\n",
       "      <td>63.751619</td>\n",
       "      <td>11873</td>\n",
       "      <td>38.107287</td>\n",
       "      <td>68.003201</td>\n",
       "      <td>5928</td>\n",
       "      <td>59.512195</td>\n",
       "      <td>59.512195</td>\n",
       "      <td>5945</td>\n",
       "      <td>50.290575</td>\n",
       "      <td>0.000000</td>\n",
       "      <td>63.760042</td>\n",
       "      <td>0.000000</td>\n",
       "    </tr>\n",
       "  </tbody>\n",
       "</table><p>"
      ],
      "text/plain": [
       "<IPython.core.display.HTML object>"
      ]
     },
     "metadata": {},
     "output_type": "display_data"
    },
    {
     "data": {
      "application/vnd.jupyter.widget-view+json": {
       "model_id": "8a5cb41d7075410a877770325389afff",
       "version_major": 2,
       "version_minor": 0
      },
      "text/plain": [
       "  0%|          | 0/11873 [00:00<?, ?it/s]"
      ]
     },
     "metadata": {},
     "output_type": "display_data"
    },
    {
     "data": {
      "application/vnd.jupyter.widget-view+json": {
       "model_id": "179655b3c2b1492da44472dbbce39eb7",
       "version_major": 2,
       "version_minor": 0
      },
      "text/plain": [
       "  0%|          | 0/11873 [00:00<?, ?it/s]"
      ]
     },
     "metadata": {},
     "output_type": "display_data"
    },
    {
     "data": {
      "application/vnd.jupyter.widget-view+json": {
       "model_id": "32dbb51c2400404bb847836a9a9110b5",
       "version_major": 2,
       "version_minor": 0
      },
      "text/plain": [
       "  0%|          | 0/11873 [00:00<?, ?it/s]"
      ]
     },
     "metadata": {},
     "output_type": "display_data"
    },
    {
     "data": {
      "application/vnd.jupyter.widget-view+json": {
       "model_id": "6b59946f1f79437fa514f2bdb80b8d17",
       "version_major": 2,
       "version_minor": 0
      },
      "text/plain": [
       "  0%|          | 0/11873 [00:00<?, ?it/s]"
      ]
     },
     "metadata": {},
     "output_type": "display_data"
    }
   ],
   "source": [
    "model = AutoModelForQuestionAnswering.from_pretrained(pretrained_model_name)\n",
    "training_args = TrainingArguments(\n",
    "    output_dir=f\"./{normalized_model_name}-best_model\",\n",
    "    overwrite_output_dir = True,\n",
    "    metric_for_best_model='f1',\n",
    "    greater_is_better=True,\n",
    "    load_best_model_at_end=True,\n",
    "    save_total_limit=4, \n",
    "    eval_strategy=\"epoch\",\n",
    "    save_strategy=\"epoch\",\n",
    "    num_train_epochs=10,\n",
    "    report_to=\"wandb\",  # Enable logging to Weights & Biases\n",
    "    run_name=f\"{normalized_model_name}-best_model\",\n",
    "    learning_rate=4.91978224351371e-05,\n",
    "    per_device_train_batch_size=32,\n",
    "    per_device_eval_batch_size=32,\n",
    "    warmup_steps=398,\n",
    "    weight_decay=0.19404494917360213,\n",
    "    adam_beta1=0.8368183686077211,\n",
    "    adam_beta2=0.9969107098230887,\n",
    "    adam_epsilon=5.874878468800929e-07,\n",
    "    lr_scheduler_type='cosine',\n",
    "    fp16=True,  # Enable mixed-precision training\n",
    ")\n",
    "\n",
    "trainer = QuestionAnsweringTrainer(\n",
    "        model=model,\n",
    "        args=training_args,\n",
    "        train_dataset=train_dataset,\n",
    "        eval_dataset=eval_dataset,\n",
    "        eval_examples=eval_examples,\n",
    "        tokenizer=tokenizer,\n",
    "        data_collator=data_collator,\n",
    "        post_process_function=post_processing_function,\n",
    "        compute_metrics=compute_metrics,\n",
    "        callbacks=[AdvancedEarlyStoppingCallback(metric_name='eval_f1', patience=3, threshold=40)]\n",
    ")\n",
    "\n",
    "trainer.train()"
   ]
  },
  {
   "cell_type": "code",
   "execution_count": null,
   "id": "ecdacb8d-9492-4950-8019-2f5900bd0807",
   "metadata": {},
   "outputs": [],
   "source": []
  }
 ],
 "metadata": {
  "kernelspec": {
   "display_name": "compsci714win",
   "language": "python",
   "name": "compsci714win"
  },
  "language_info": {
   "codemirror_mode": {
    "name": "ipython",
    "version": 3
   },
   "file_extension": ".py",
   "mimetype": "text/x-python",
   "name": "python",
   "nbconvert_exporter": "python",
   "pygments_lexer": "ipython3",
   "version": "3.10.14"
  }
 },
 "nbformat": 4,
 "nbformat_minor": 5
}
