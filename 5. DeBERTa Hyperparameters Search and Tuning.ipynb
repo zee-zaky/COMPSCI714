{
 "cells": [
  {
   "cell_type": "markdown",
   "id": "be8de38f-6e25-435b-a623-a1e99239ae84",
   "metadata": {
    "jp-MarkdownHeadingCollapsed": true,
    "tags": []
   },
   "source": [
    "## 0. Imports, libraries and rusable functions"
   ]
  },
  {
   "cell_type": "code",
   "execution_count": 2,
   "id": "a65cc85a-e4ba-49a4-8f35-5b640c44af06",
   "metadata": {
    "tags": []
   },
   "outputs": [],
   "source": [
    "# Standard Library Imports\n",
    "import ast\n",
    "import copy\n",
    "import csv\n",
    "import json\n",
    "import math\n",
    "import os\n",
    "import re\n",
    "import time\n",
    "import warnings\n",
    "import logging\n",
    "import random\n",
    "import collections\n",
    "from collections import Counter\n",
    "from typing import List, Tuple, Optional\n",
    "from IPython.display import HTML, display\n",
    "import math\n",
    "import time\n",
    "from unidecode import unidecode\n",
    "\n",
    "\n",
    "# Data Handling Libraries\n",
    "import numpy as np\n",
    "import pandas as pd\n",
    "import csv\n",
    "from torch.utils.data import random_split\n",
    "import datasets\n",
    "from datasets import ClassLabel, Sequence\n",
    "\n",
    "# Data Visualization Libraries\n",
    "import matplotlib.pyplot as plt\n",
    "import seaborn as sns\n",
    "# import scikitplot as skplt  # Uncomment if scikit-plot is installed and needed\n",
    "\n",
    "# Machine Learning: Model Preparation\n",
    "from sklearn.metrics import accuracy_score, confusion_matrix, precision_recall_fscore_support\n",
    "from sklearn.model_selection import cross_val_score, cross_validate, KFold, train_test_split\n",
    "from sklearn.preprocessing import MinMaxScaler\n",
    "\n",
    "# Machine Learning: Models and Frameworks\n",
    "import tensorflow as tf\n",
    "import torch\n",
    "import evaluate\n",
    "import xgboost\n",
    "import wandb\n",
    "from xgboost import plot_importance  # Uncomment if xgboost importance plot is required\n",
    "\n",
    "\n",
    "# NLP and Transformers\n",
    "from transformers import (AdamW, AutoModelForSequenceClassification, AutoModelForQuestionAnswering,\n",
    "                          AutoTokenizer, CamembertForSequenceClassification, DistilBertConfig,\n",
    "                          DistilBertForSequenceClassification, DistilBertModel, EarlyStoppingCallback,\n",
    "                          get_linear_schedule_with_warmup, RobertaForSequenceClassification, EvalPrediction,\n",
    "                          Trainer, TrainerCallback, TrainingArguments, XLMRobertaForSequenceClassification,\n",
    "                         DefaultDataCollator, BertForQuestionAnswering, DataCollatorWithPadding, PreTrainedTokenizerFast,\n",
    "                         default_data_collator, is_torch_xla_available)\n",
    "from datasets import Dataset, DatasetDict, load_dataset\n",
    "from transformers.trainer_utils import PredictionOutput, speed_metrics\n",
    "\n",
    "# Experiment Tracking and Optimization Utilities\n",
    "import optuna\n",
    "from optuna.trial import TrialState\n",
    "# import wandb  # Uncomment if using Weights & Biases for experiment tracking\n",
    "\n",
    "# Progress Bar Utilities\n",
    "from tqdm.notebook import tqdm\n"
   ]
  },
  {
   "cell_type": "code",
   "execution_count": 3,
   "id": "e7e79a74-41b2-4df5-9907-81609b0a4664",
   "metadata": {
    "tags": []
   },
   "outputs": [
    {
     "name": "stderr",
     "output_type": "stream",
     "text": [
      "wandb: Currently logged in as: mzak071 (COMPSCI714). Use `wandb login --relogin` to force relogin\n"
     ]
    },
    {
     "data": {
      "text/plain": [
       "True"
      ]
     },
     "execution_count": 3,
     "metadata": {},
     "output_type": "execute_result"
    }
   ],
   "source": [
    "#wandb.login(key='8f7092f0fdaf14add2b4cc07cb0e740080cdd8e7')\n",
    "wandb.login()"
   ]
  },
  {
   "cell_type": "code",
   "execution_count": 4,
   "id": "43b5ec0c-43fd-4678-90d7-23aec61145bd",
   "metadata": {
    "tags": []
   },
   "outputs": [
    {
     "name": "stdout",
     "output_type": "stream",
     "text": [
      "GPU: NVIDIA GeForce RTX 4070 Ti SUPER is available.\n",
      "cuda\n"
     ]
    }
   ],
   "source": [
    "class LoggingCallback(TrainerCallback):\n",
    "    def __init__(self, log_path):\n",
    "        self.log_path = log_path\n",
    "    def on_log(self, args, state, control, logs=None, **kwargs):\n",
    "        _ = logs.pop(\"total_flos\", None)\n",
    "        if state.is_local_process_zero:\n",
    "            with open(self.log_path, \"a\") as f:\n",
    "                f.write(json.dumps(logs) + \"\\n\")\n",
    "\n",
    "if torch.cuda.is_available():\n",
    "    print(f\"GPU: {torch.cuda.get_device_name(0)} is available.\")\n",
    "else:\n",
    "    print(\"No GPU available. Training will run on CPU.\")\n",
    "\n",
    "device = torch.device(\"cuda\" if torch.cuda.is_available() else \"cpu\")\n",
    "print(device)"
   ]
  },
  {
   "cell_type": "markdown",
   "id": "c99df6ec-d898-46f9-b70e-ae04b589fc5d",
   "metadata": {
    "jp-MarkdownHeadingCollapsed": true,
    "tags": []
   },
   "source": [
    "## 1. Global Variables"
   ]
  },
  {
   "cell_type": "code",
   "execution_count": 6,
   "id": "48397c5d-36bd-4131-91d3-2d999fba6bf6",
   "metadata": {
    "tags": []
   },
   "outputs": [
    {
     "name": "stderr",
     "output_type": "stream",
     "text": [
      "C:\\Users\\OEM\\anaconda3\\envs\\compsci714win\\lib\\site-packages\\transformers\\convert_slow_tokenizer.py:560: UserWarning: The sentencepiece tokenizer that you are converting to a fast tokenizer uses the byte fallback option which is not implemented in the fast tokenizers. In practice this means that the fast version of the tokenizer can produce unknown tokens whereas the sentencepiece version would have converted these unknown tokens into a sequence of byte tokens matching the original piece of text.\n",
      "  warnings.warn(\n"
     ]
    }
   ],
   "source": [
    "## Arguments and global vriables\n",
    "global_doc_stride = 128\n",
    "pretrained_model_name = \"microsoft/deberta-v3-base\"\n",
    "normalized_model_name = pretrained_model_name.replace(\"/\", \"-\")\n",
    "tokenizer = AutoTokenizer.from_pretrained(pretrained_model_name)\n",
    "assert isinstance( tokenizer, PreTrainedTokenizerFast )\n",
    "data_collator = DefaultDataCollator()\n",
    "max_seq_length = 512 #tokenizer.model_max_length\n",
    "version_2_with_negative = True\n",
    "no_answer_threshold = 0.0166\n",
    "right_padding = tokenizer.padding_side == 'right'\n",
    "global_counter = 0\n",
    "traing_answer_mismatches = []\n",
    "logger = logging.getLogger(__name__)\n",
    "global train_dataset\n",
    "global eval_dataset\n",
    "global cleaned_training_dataset"
   ]
  },
  {
   "cell_type": "code",
   "execution_count": 7,
   "id": "f042caed-7a27-484b-84e2-536d94181898",
   "metadata": {
    "tags": []
   },
   "outputs": [
    {
     "name": "stdout",
     "output_type": "stream",
     "text": [
      "512\n"
     ]
    }
   ],
   "source": [
    "print(max_seq_length)"
   ]
  },
  {
   "cell_type": "markdown",
   "id": "422e5e8a-5629-4c28-9b45-5517ea8d2595",
   "metadata": {
    "jp-MarkdownHeadingCollapsed": true,
    "tags": []
   },
   "source": [
    "## 1. Q&A Reusable Functions"
   ]
  },
  {
   "cell_type": "code",
   "execution_count": 14,
   "id": "6d9332f3-fb9e-4f2d-9fa8-1f0f93568b0a",
   "metadata": {
    "tags": []
   },
   "outputs": [],
   "source": [
    "### Compute_metrics function for Question and Answering problem is different to classification, more preocessing required.\n",
    "metric = evaluate.load(\"squad_v2\")\n",
    "\n",
    "def compute_metrics(p: EvalPrediction):\n",
    "        return metric.compute(predictions=p.predictions, references=p.label_ids)"
   ]
  },
  {
   "cell_type": "code",
   "execution_count": 15,
   "id": "0f7dfb04-f23c-4bf8-af88-4a33c6ad3c14",
   "metadata": {
    "tags": []
   },
   "outputs": [],
   "source": [
    "\"\"\"\n",
    "A subclass of `Trainer` specific to Question-Answering tasks\n",
    "\"\"\"\n",
    "\n",
    "if is_torch_xla_available():\n",
    "    import torch_xla.core.xla_model as xm\n",
    "    import torch_xla.debug.metrics as met\n",
    "\n",
    "\n",
    "class QuestionAnsweringTrainer(Trainer):\n",
    "    def __init__(self, *args, eval_examples=None, post_process_function=None, **kwargs):\n",
    "        super().__init__(*args, **kwargs)\n",
    "        self.eval_examples = eval_examples\n",
    "        self.post_process_function = post_process_function\n",
    "\n",
    "    def evaluate(self, eval_dataset=None, eval_examples=None, ignore_keys=None, metric_key_prefix: str = \"eval\"):\n",
    "        eval_dataset = self.eval_dataset if eval_dataset is None else eval_dataset\n",
    "        eval_dataloader = self.get_eval_dataloader(eval_dataset)\n",
    "        eval_examples = self.eval_examples if eval_examples is None else eval_examples\n",
    "\n",
    "        # Temporarily disable metric computation, we will do it in the loop here.\n",
    "        compute_metrics = self.compute_metrics\n",
    "        self.compute_metrics = None\n",
    "        eval_loop = self.prediction_loop if self.args.use_legacy_prediction_loop else self.evaluation_loop\n",
    "        start_time = time.time()\n",
    "        try:\n",
    "            output = eval_loop(\n",
    "                eval_dataloader,\n",
    "                description=\"Evaluation\",\n",
    "                # No point gathering the predictions if there are no metrics, otherwise we defer to\n",
    "                # self.args.prediction_loss_only\n",
    "                prediction_loss_only=True if compute_metrics is None else None,\n",
    "                ignore_keys=ignore_keys,\n",
    "                metric_key_prefix=metric_key_prefix,\n",
    "            )\n",
    "        finally:\n",
    "            self.compute_metrics = compute_metrics\n",
    "        total_batch_size = self.args.eval_batch_size * self.args.world_size\n",
    "        if f\"{metric_key_prefix}_jit_compilation_time\" in output.metrics:\n",
    "            start_time += output.metrics[f\"{metric_key_prefix}_jit_compilation_time\"]\n",
    "        output.metrics.update(\n",
    "            speed_metrics(\n",
    "                metric_key_prefix,\n",
    "                start_time,\n",
    "                num_samples=output.num_samples,\n",
    "                num_steps=math.ceil(output.num_samples / total_batch_size),\n",
    "            )\n",
    "        )\n",
    "        if self.post_process_function is not None and self.compute_metrics is not None and self.args.should_save:\n",
    "            # Only the main node write the results by default\n",
    "            eval_preds = self.post_process_function(eval_examples, eval_dataset, output.predictions)\n",
    "            metrics = self.compute_metrics(eval_preds)\n",
    "\n",
    "            # Prefix all keys with metric_key_prefix + '_'\n",
    "            for key in list(metrics.keys()):\n",
    "                if not key.startswith(f\"{metric_key_prefix}_\"):\n",
    "                    metrics[f\"{metric_key_prefix}_{key}\"] = metrics.pop(key)\n",
    "            metrics.update(output.metrics)\n",
    "        else:\n",
    "            metrics = output.metrics\n",
    "\n",
    "        if self.args.should_log:\n",
    "            # Only the main node log the results by default\n",
    "            self.log(metrics)\n",
    "\n",
    "        if self.args.tpu_metrics_debug or self.args.debug:\n",
    "            # tpu-comment: Logging debug metrics for PyTorch/XLA (compile, execute times, ops, etc.)\n",
    "            xm.master_print(met.metrics_report())\n",
    "\n",
    "        self.control = self.callback_handler.on_evaluate(self.args, self.state, self.control, metrics)\n",
    "        return metrics\n",
    "\n",
    "    def predict(self, predict_dataset, predict_examples, ignore_keys=None, metric_key_prefix: str = \"test\"):\n",
    "        predict_dataloader = self.get_test_dataloader(predict_dataset)\n",
    "\n",
    "        # Temporarily disable metric computation, we will do it in the loop here.\n",
    "        compute_metrics = self.compute_metrics\n",
    "        self.compute_metrics = None\n",
    "        eval_loop = self.prediction_loop if self.args.use_legacy_prediction_loop else self.evaluation_loop\n",
    "        start_time = time.time()\n",
    "        try:\n",
    "            output = eval_loop(\n",
    "                predict_dataloader,\n",
    "                description=\"Prediction\",\n",
    "                # No point gathering the predictions if there are no metrics, otherwise we defer to\n",
    "                # self.args.prediction_loss_only\n",
    "                prediction_loss_only=True if compute_metrics is None else None,\n",
    "                ignore_keys=ignore_keys,\n",
    "                metric_key_prefix=metric_key_prefix,\n",
    "            )\n",
    "        finally:\n",
    "            self.compute_metrics = compute_metrics\n",
    "        total_batch_size = self.args.eval_batch_size * self.args.world_size\n",
    "        if f\"{metric_key_prefix}_jit_compilation_time\" in output.metrics:\n",
    "            start_time += output.metrics[f\"{metric_key_prefix}_jit_compilation_time\"]\n",
    "        output.metrics.update(\n",
    "            speed_metrics(\n",
    "                metric_key_prefix,\n",
    "                start_time,\n",
    "                num_samples=output.num_samples,\n",
    "                num_steps=math.ceil(output.num_samples / total_batch_size),\n",
    "            )\n",
    "        )\n",
    "\n",
    "        if self.post_process_function is None or self.compute_metrics is None:\n",
    "            return output\n",
    "\n",
    "        predictions = self.post_process_function(predict_examples, predict_dataset, output.predictions, \"predict\")\n",
    "        metrics = self.compute_metrics(predictions)\n",
    "\n",
    "        # Prefix all keys with metric_key_prefix + '_'\n",
    "        for key in list(metrics.keys()):\n",
    "            if not key.startswith(f\"{metric_key_prefix}_\"):\n",
    "                metrics[f\"{metric_key_prefix}_{key}\"] = metrics.pop(key)\n",
    "        metrics.update(output.metrics)\n",
    "        return PredictionOutput(predictions=predictions.predictions, label_ids=predictions.label_ids, metrics=metrics)"
   ]
  },
  {
   "cell_type": "code",
   "execution_count": 16,
   "id": "9529d45f-9433-444c-a57d-9c8af9a2d65e",
   "metadata": {
    "tags": []
   },
   "outputs": [],
   "source": [
    "def prepare_validation_features(examples):\n",
    "  # Some of the questions have lots of whitespace on the left, which is not useful and will make the\n",
    "  # truncation of the context fail (the tokenized question will take a lots of space). So we remove that\n",
    "  # left whitespace\n",
    "    examples[\"question\"] = [q.lstrip() for q in examples[\"question\"]]\n",
    "  # Tokenize our examples with truncation and maybe padding, but keep the overflows using a stride. This results\n",
    "  # in one example possible giving several features when a context is long, each of those features having a\n",
    "  # context that overlaps a bit the context of the previous feature.\n",
    "    tokenized_examples = tokenizer(\n",
    "      examples[\"question\"],\n",
    "      examples[\"context\"],\n",
    "      truncation=\"only_second\" if right_padding else \"only_first\",\n",
    "      max_length=max_seq_length,\n",
    "      stride=global_doc_stride,\n",
    "      return_overflowing_tokens=True,\n",
    "      return_offsets_mapping=True,\n",
    "      padding=\"max_length\",\n",
    "  )\n",
    "\n",
    "  # Since one example might give us several features if it has a long context, we need a map from a feature to\n",
    "  # its corresponding example. This key gives us just that.\n",
    "    sample_mapping = tokenized_examples.pop(\"overflow_to_sample_mapping\")\n",
    "\n",
    "  # For evaluation, we will need to convert our predictions to substrings of the context, so we keep the\n",
    "  # corresponding example_id and we will store the offset mappings.\n",
    "    tokenized_examples[\"example_id\"] = []\n",
    "\n",
    "    for i in range(len(tokenized_examples[\"input_ids\"])):\n",
    "      # Grab the sequence corresponding to that example (to know what is the context and what is the question).\n",
    "        sequence_ids = tokenized_examples.sequence_ids(i)\n",
    "        context_index = 0\n",
    "\n",
    "      # One example can give several spans, this is the index of the example containing this span of text.\n",
    "        sample_index = sample_mapping[i]\n",
    "        tokenized_examples[\"example_id\"].append(examples[\"id\"][sample_index])\n",
    "\n",
    "      # Set to None the offset_mapping that are not part of the context so it's easy to determine if a token\n",
    "      # position is part of the context or not.\n",
    "        tokenized_examples[\"offset_mapping\"][i] = [\n",
    "            (o if sequence_ids[k] == context_index else None)\n",
    "            for k, o in enumerate(tokenized_examples[\"offset_mapping\"][i])\n",
    "      ]\n",
    "\n",
    "    return tokenized_examples"
   ]
  },
  {
   "cell_type": "code",
   "execution_count": 17,
   "id": "ee8955f9-eee2-4b36-aa63-6b1f7da7334d",
   "metadata": {},
   "outputs": [],
   "source": [
    "# Validation preprocessing\n",
    "def prepare_validation_features(examples):\n",
    "    # Some of the questions have lots of whitespace on the left, which is not useful and will make the\n",
    "    # truncation of the context fail (the tokenized question will take a lots of space). So we remove that\n",
    "    # left whitespace\n",
    "    examples[\"question\"] = [q.lstrip() for q in examples[\"question\"]]\n",
    "\n",
    "    # Tokenize our examples with truncation and maybe padding, but keep the overflows using a stride. This results\n",
    "    # in one example possible giving several features when a context is long, each of those features having a\n",
    "    # context that overlaps a bit the context of the previous feature.\n",
    "    tokenized_examples = tokenizer(\n",
    "        examples[\"question\" if right_padding else \"context\"],\n",
    "        examples[\"context\" if right_padding else \"question\"],\n",
    "        truncation=\"only_second\" if right_padding else \"only_first\",\n",
    "        max_length=max_seq_length,\n",
    "        stride=global_doc_stride,\n",
    "        return_overflowing_tokens=True,\n",
    "        return_offsets_mapping=True,\n",
    "        padding=\"max_length\",\n",
    "    )\n",
    "\n",
    "    # Since one example might give us several features if it has a long context, we need a map from a feature to\n",
    "    # its corresponding example. This key gives us just that.\n",
    "    sample_mapping = tokenized_examples.pop(\"overflow_to_sample_mapping\")\n",
    "\n",
    "    # For evaluation, we will need to convert our predictions to substrings of the context, so we keep the\n",
    "    # corresponding example_id and we will store the offset mappings.\n",
    "    tokenized_examples[\"example_id\"] = []\n",
    "\n",
    "    for i in range(len(tokenized_examples[\"input_ids\"])):\n",
    "        # Grab the sequence corresponding to that example (to know what is the context and what is the question).\n",
    "        sequence_ids = tokenized_examples.sequence_ids(i)\n",
    "        context_index = 1 if right_padding else 0\n",
    "\n",
    "        # One example can give several spans, this is the index of the example containing this span of text.\n",
    "        sample_index = sample_mapping[i]\n",
    "        tokenized_examples[\"example_id\"].append(examples[\"id\"][sample_index])\n",
    "\n",
    "        # Set to None the offset_mapping that are not part of the context so it's easy to determine if a token\n",
    "        # position is part of the context or not.\n",
    "        tokenized_examples[\"offset_mapping\"][i] = [\n",
    "            (o if sequence_ids[k] == context_index else None)\n",
    "            for k, o in enumerate(tokenized_examples[\"offset_mapping\"][i])\n",
    "        ]\n",
    "\n",
    "    return tokenized_examples"
   ]
  },
  {
   "cell_type": "code",
   "execution_count": 22,
   "id": "46fd26da-ec5a-4d8c-88bd-b75f41388a74",
   "metadata": {},
   "outputs": [],
   "source": [
    "# Post-processing:\n",
    "def post_processing_function(examples, features, predictions, stage=\"eval\"):\n",
    "    # Post-processing: we match the start logits and end logits to answers in the original context.\n",
    "    predictions = postprocess_qa_predictions(\n",
    "        examples=examples,\n",
    "        features=features,\n",
    "        predictions=predictions,\n",
    "        version_2_with_negative=version_2_with_negative, #If true, some of the examples do not have an answer.\n",
    "        n_best_size=20, #The total number of n-best predictions to generate when looking for an answer.\n",
    "        max_answer_length=30, #The maximum length of an answer that can be generated. This is needed because the start and end predictions are not conditioned on one another.\n",
    "        null_score_diff_threshold=no_answer_threshold, #The threshold used to select the null answer: if the best answer has a score that is less than the score of the null answer minus this threshold, the null answer is selected for this example. Only useful when `version_2_with_negative=True`.\n",
    "        output_dir= None,\n",
    "        log_level=logging.WARNING,\n",
    "        prefix=stage,\n",
    "    )\n",
    "    # Format the result to the format the metric expects.\n",
    "    if version_2_with_negative:\n",
    "        formatted_predictions = [\n",
    "                {\"id\": str(k), \"prediction_text\": v, \"no_answer_probability\": 0.0} for k, v in predictions.items()\n",
    "            ]\n",
    "    else:\n",
    "        formatted_predictions = [{\"id\": str(k), \"prediction_text\": v} for k, v in predictions.items()]\n",
    "    \n",
    "    \n",
    "    references = [{\"id\": str(ex[\"id\"]), \"answers\": ex[\"answers\"]} for ex in examples]\n",
    "    return EvalPrediction(predictions=formatted_predictions, label_ids=references)"
   ]
  },
  {
   "cell_type": "code",
   "execution_count": 24,
   "id": "2d015b7f-512d-4a66-87e4-8b2949701bef",
   "metadata": {},
   "outputs": [],
   "source": [
    "def postprocess_qa_predictions(\n",
    "    examples,\n",
    "    features,\n",
    "    predictions: Tuple[np.ndarray, np.ndarray],\n",
    "    version_2_with_negative: bool = False,\n",
    "    n_best_size: int = 20,\n",
    "    max_answer_length: int = 30,\n",
    "    null_score_diff_threshold: float = 0.0,\n",
    "    output_dir: Optional[str] = None,\n",
    "    prefix: Optional[str] = None,\n",
    "    log_level: Optional[int] = logging.WARNING,\n",
    "):\n",
    "    \"\"\"\n",
    "    Post-processes the predictions of a question-answering model to convert them to answers that are substrings of the\n",
    "    original contexts. This is the base postprocessing functions for models that only return start and end logits.\n",
    "\n",
    "    Args:\n",
    "        examples: The non-preprocessed dataset (see the main script for more information).\n",
    "        features: The processed dataset (see the main script for more information).\n",
    "        predictions (:obj:`Tuple[np.ndarray, np.ndarray]`):\n",
    "            The predictions of the model: two arrays containing the start logits and the end logits respectively. Its\n",
    "            first dimension must match the number of elements of :obj:`features`.\n",
    "        version_2_with_negative (:obj:`bool`, `optional`, defaults to :obj:`False`):\n",
    "            Whether or not the underlying dataset contains examples with no answers.\n",
    "        n_best_size (:obj:`int`, `optional`, defaults to 20):\n",
    "            The total number of n-best predictions to generate when looking for an answer.\n",
    "        max_answer_length (:obj:`int`, `optional`, defaults to 30):\n",
    "            The maximum length of an answer that can be generated. This is needed because the start and end predictions\n",
    "            are not conditioned on one another.\n",
    "        null_score_diff_threshold (:obj:`float`, `optional`, defaults to 0):\n",
    "            The threshold used to select the null answer: if the best answer has a score that is less than the score of\n",
    "            the null answer minus this threshold, the null answer is selected for this example (note that the score of\n",
    "            the null answer for an example giving several features is the minimum of the scores for the null answer on\n",
    "            each feature: all features must be aligned on the fact they `want` to predict a null answer).\n",
    "\n",
    "            Only useful when :obj:`version_2_with_negative` is :obj:`True`.\n",
    "        output_dir (:obj:`str`, `optional`):\n",
    "            If provided, the dictionaries of predictions, n_best predictions (with their scores and logits) and, if\n",
    "            :obj:`version_2_with_negative=True`, the dictionary of the scores differences between best and null\n",
    "            answers, are saved in `output_dir`.\n",
    "        prefix (:obj:`str`, `optional`):\n",
    "            If provided, the dictionaries mentioned above are saved with `prefix` added to their names.\n",
    "        log_level (:obj:`int`, `optional`, defaults to ``logging.WARNING``):\n",
    "            ``logging`` log level (e.g., ``logging.WARNING``)\n",
    "    \"\"\"\n",
    "    if len(predictions) != 2:\n",
    "        raise ValueError(\"`predictions` should be a tuple with two elements (start_logits, end_logits).\")\n",
    "    all_start_logits, all_end_logits = predictions\n",
    "\n",
    "    if len(predictions[0]) != len(features):\n",
    "        raise ValueError(f\"Got {len(predictions[0])} predictions and {len(features)} features.\")\n",
    "\n",
    "    # Build a map example to its corresponding features.\n",
    "    example_id_to_index = {k: i for i, k in enumerate(examples[\"id\"])}\n",
    "    features_per_example = collections.defaultdict(list)\n",
    "    for i, feature in enumerate(features):\n",
    "        features_per_example[example_id_to_index[feature[\"example_id\"]]].append(i)\n",
    "\n",
    "    # The dictionaries we have to fill.\n",
    "    all_predictions = collections.OrderedDict()\n",
    "    all_nbest_json = collections.OrderedDict()\n",
    "    if version_2_with_negative:\n",
    "        scores_diff_json = collections.OrderedDict()\n",
    "\n",
    "    # Logging.\n",
    "    logger.setLevel(log_level)\n",
    "    logger.info(f\"Post-processing {len(examples)} example predictions split into {len(features)} features.\")\n",
    "\n",
    "    # Let's loop over all the examples!\n",
    "    for example_index, example in enumerate(tqdm(examples)):\n",
    "        # Those are the indices of the features associated to the current example.\n",
    "        feature_indices = features_per_example[example_index]\n",
    "\n",
    "        min_null_prediction = None\n",
    "        prelim_predictions = []\n",
    "\n",
    "        # Looping through all the features associated to the current example.\n",
    "        for feature_index in feature_indices:\n",
    "            # We grab the predictions of the model for this feature.\n",
    "            start_logits = all_start_logits[feature_index]\n",
    "            end_logits = all_end_logits[feature_index]\n",
    "            # This is what will allow us to map some the positions in our logits to span of texts in the original\n",
    "            # context.\n",
    "            offset_mapping = features[feature_index][\"offset_mapping\"]\n",
    "            # Optional `token_is_max_context`, if provided we will remove answers that do not have the maximum context\n",
    "            # available in the current feature.\n",
    "            token_is_max_context = features[feature_index].get(\"token_is_max_context\", None)\n",
    "\n",
    "            # Update minimum null prediction.\n",
    "            feature_null_score = start_logits[0] + end_logits[0]\n",
    "            if min_null_prediction is None or min_null_prediction[\"score\"] > feature_null_score:\n",
    "                min_null_prediction = {\n",
    "                    \"offsets\": (0, 0),\n",
    "                    \"score\": feature_null_score,\n",
    "                    \"start_logit\": start_logits[0],\n",
    "                    \"end_logit\": end_logits[0],\n",
    "                }\n",
    "\n",
    "            # Go through all possibilities for the `n_best_size` greater start and end logits.\n",
    "            start_indexes = np.argsort(start_logits)[-1 : -n_best_size - 1 : -1].tolist()\n",
    "            end_indexes = np.argsort(end_logits)[-1 : -n_best_size - 1 : -1].tolist()\n",
    "            for start_index in start_indexes:\n",
    "                for end_index in end_indexes:\n",
    "                    # Don't consider out-of-scope answers, either because the indices are out of bounds or correspond\n",
    "                    # to part of the input_ids that are not in the context.\n",
    "                    if (\n",
    "                        start_index >= len(offset_mapping)\n",
    "                        or end_index >= len(offset_mapping)\n",
    "                        or offset_mapping[start_index] is None\n",
    "                        or len(offset_mapping[start_index]) < 2\n",
    "                        or offset_mapping[end_index] is None\n",
    "                        or len(offset_mapping[end_index]) < 2\n",
    "                    ):\n",
    "                        continue\n",
    "                    # Don't consider answers with a length that is either < 0 or > max_answer_length.\n",
    "                    if end_index < start_index or end_index - start_index + 1 > max_answer_length:\n",
    "                        continue\n",
    "                    # Don't consider answer that don't have the maximum context available (if such information is\n",
    "                    # provided).\n",
    "                    if token_is_max_context is not None and not token_is_max_context.get(str(start_index), False):\n",
    "                        continue\n",
    "\n",
    "                    prelim_predictions.append(\n",
    "                        {\n",
    "                            \"offsets\": (offset_mapping[start_index][0], offset_mapping[end_index][1]),\n",
    "                            \"score\": start_logits[start_index] + end_logits[end_index],\n",
    "                            \"start_logit\": start_logits[start_index],\n",
    "                            \"end_logit\": end_logits[end_index],\n",
    "                        }\n",
    "                    )\n",
    "        if version_2_with_negative and min_null_prediction is not None:\n",
    "            # Add the minimum null prediction\n",
    "            prelim_predictions.append(min_null_prediction)\n",
    "            null_score = min_null_prediction[\"score\"]\n",
    "\n",
    "        # Only keep the best `n_best_size` predictions.\n",
    "        predictions = sorted(prelim_predictions, key=lambda x: x[\"score\"], reverse=True)[:n_best_size]\n",
    "\n",
    "        # Add back the minimum null prediction if it was removed because of its low score.\n",
    "        if (\n",
    "            version_2_with_negative\n",
    "            and min_null_prediction is not None\n",
    "            and not any(p[\"offsets\"] == (0, 0) for p in predictions)\n",
    "        ):\n",
    "            predictions.append(min_null_prediction)\n",
    "\n",
    "        # Use the offsets to gather the answer text in the original context.\n",
    "        context = example[\"context\"]\n",
    "        for pred in predictions:\n",
    "            offsets = pred.pop(\"offsets\")\n",
    "            pred[\"text\"] = context[offsets[0] : offsets[1]]\n",
    "\n",
    "        # In the very rare edge case we have not a single non-null prediction, we create a fake prediction to avoid\n",
    "        # failure.\n",
    "        if len(predictions) == 0 or (len(predictions) == 1 and predictions[0][\"text\"] == \"\"):\n",
    "            predictions.insert(0, {\"text\": \"empty\", \"start_logit\": 0.0, \"end_logit\": 0.0, \"score\": 0.0})\n",
    "\n",
    "        # Compute the softmax of all scores (we do it with numpy to stay independent from torch/tf in this file, using\n",
    "        # the LogSumExp trick).\n",
    "        scores = np.array([pred.pop(\"score\") for pred in predictions])\n",
    "        exp_scores = np.exp(scores - np.max(scores))\n",
    "        probs = exp_scores / exp_scores.sum()\n",
    "\n",
    "        # Include the probabilities in our predictions.\n",
    "        for prob, pred in zip(probs, predictions):\n",
    "            pred[\"probability\"] = prob\n",
    "\n",
    "        # Pick the best prediction. If the null answer is not possible, this is easy.\n",
    "        if not version_2_with_negative:\n",
    "            all_predictions[example[\"id\"]] = predictions[0][\"text\"]\n",
    "        else:\n",
    "            # Otherwise we first need to find the best non-empty prediction.\n",
    "            i = 0\n",
    "            while predictions[i][\"text\"] == \"\":\n",
    "                i += 1\n",
    "            best_non_null_pred = predictions[i]\n",
    "\n",
    "            # Then we compare to the null prediction using the threshold.\n",
    "            score_diff = null_score - best_non_null_pred[\"start_logit\"] - best_non_null_pred[\"end_logit\"]\n",
    "            scores_diff_json[example[\"id\"]] = float(score_diff)  # To be JSON-serializable.\n",
    "            if score_diff > null_score_diff_threshold:\n",
    "                all_predictions[example[\"id\"]] = \"\"\n",
    "            else:\n",
    "                all_predictions[example[\"id\"]] = best_non_null_pred[\"text\"]\n",
    "\n",
    "        # Make `predictions` JSON-serializable by casting np.float back to float.\n",
    "        all_nbest_json[example[\"id\"]] = [\n",
    "            {k: (float(v) if isinstance(v, (np.float16, np.float32, np.float64)) else v) for k, v in pred.items()}\n",
    "            for pred in predictions\n",
    "        ]\n",
    "\n",
    "    # If we have an output_dir, let's save all those dicts.\n",
    "    if output_dir is not None:\n",
    "        if not os.path.isdir(output_dir):\n",
    "            raise EnvironmentError(f\"{output_dir} is not a directory.\")\n",
    "\n",
    "        prediction_file = os.path.join(\n",
    "            output_dir, \"predictions.json\" if prefix is None else f\"{prefix}_predictions.json\"\n",
    "        )\n",
    "        nbest_file = os.path.join(\n",
    "            output_dir, \"nbest_predictions.json\" if prefix is None else f\"{prefix}_nbest_predictions.json\"\n",
    "        )\n",
    "        if version_2_with_negative:\n",
    "            null_odds_file = os.path.join(\n",
    "                output_dir, \"null_odds.json\" if prefix is None else f\"{prefix}_null_odds.json\"\n",
    "            )\n",
    "\n",
    "        logger.info(f\"Saving predictions to {prediction_file}.\")\n",
    "        with open(prediction_file, \"w\") as writer:\n",
    "            writer.write(json.dumps(all_predictions, indent=4) + \"\\n\")\n",
    "        logger.info(f\"Saving nbest_preds to {nbest_file}.\")\n",
    "        with open(nbest_file, \"w\") as writer:\n",
    "            writer.write(json.dumps(all_nbest_json, indent=4) + \"\\n\")\n",
    "        if version_2_with_negative:\n",
    "            logger.info(f\"Saving null_odds to {null_odds_file}.\")\n",
    "            with open(null_odds_file, \"w\") as writer:\n",
    "                writer.write(json.dumps(scores_diff_json, indent=4) + \"\\n\")\n",
    "\n",
    "    return all_predictions"
   ]
  },
  {
   "cell_type": "code",
   "execution_count": 26,
   "id": "aa993870-b078-4b43-ad6b-c11aa40c47ef",
   "metadata": {},
   "outputs": [],
   "source": [
    "# List of questions to debug\n",
    "debug_questions = [\n",
    "    \"What ideology was sponsored at the Ming court?\",\n",
    "    \"Who stopped their trips to Ming China?\",\n",
    "    \"Another question of interest\"\n",
    "]\n",
    "\n",
    "# Training preprocessing\n",
    "def preprocess_function(examples):\n",
    "    # Some of the questions have lots of whitespace on the left, which is not useful and will make the\n",
    "    # truncation of the context fail (the tokenized question will take a lots of space). So we remove that\n",
    "    # left whitespace\n",
    "    examples[\"question\"] = [q.lstrip() for q in examples[\"question\"]]\n",
    "\n",
    "    # Tokenize our examples with truncation and padding, but keep the overflows using a stride. This results\n",
    "    # in one example possible giving several features when a context is long, each of those features having a\n",
    "    # context that overlaps a bit the context of the previous feature.\n",
    "    tokenized_examples = tokenizer(\n",
    "        examples[\"question\" if right_padding else \"context\"],\n",
    "        examples[\"context\" if right_padding else \"question\"],\n",
    "        truncation=\"only_second\" if right_padding else \"only_first\",\n",
    "        max_length=max_seq_length,\n",
    "        stride=global_doc_stride,\n",
    "        return_overflowing_tokens=True,\n",
    "        return_offsets_mapping=True,\n",
    "        padding=\"max_length\",\n",
    "    )\n",
    "\n",
    "    # Since one example might give us several features if it has a long context, we need a map from a feature to\n",
    "    # its corresponding example. This key gives us just that.\n",
    "    sample_mapping = tokenized_examples.pop(\"overflow_to_sample_mapping\")\n",
    "    # The offset mappings will give us a map from token to character position in the original context. This will\n",
    "    # help us compute the start_positions and end_positions.\n",
    "    offset_mapping = tokenized_examples.pop(\"offset_mapping\")\n",
    "\n",
    "    # Let's label those examples!\n",
    "    tokenized_examples[\"start_positions\"] = []\n",
    "    tokenized_examples[\"end_positions\"] = []\n",
    "\n",
    "    for i, offsets in enumerate(offset_mapping):\n",
    "        # We will label impossible answers with the index of the CLS token.\n",
    "        input_ids = tokenized_examples[\"input_ids\"][i]\n",
    "        cls_index = input_ids.index(tokenizer.cls_token_id)\n",
    "        \n",
    "        # Grab the sequence corresponding to that example (to know what is the context and what is the question).\n",
    "        sequence_ids = tokenized_examples.sequence_ids(i)\n",
    "\n",
    "        # One example can give several spans, this is the index of the example containing this span of text.\n",
    "        sample_index = sample_mapping[i]\n",
    "        answers = examples[\"answers\"][sample_index]        \n",
    "        question = examples[\"question\"][sample_index]\n",
    "        example_id = examples[\"id\"][sample_index]\n",
    "        \n",
    "        # If no answers are given, set the cls_index as answer.\n",
    "        if len(answers[\"answer_start\"]) == 0:\n",
    "            tokenized_examples[\"start_positions\"].append(cls_index)\n",
    "            tokenized_examples[\"end_positions\"].append(cls_index)\n",
    "        else:\n",
    "            # Start/end character index of the answer in the text.\n",
    "            start_char = answers[\"answer_start\"][0]\n",
    "            end_char = start_char + len(answers[\"text\"][0])\n",
    "\n",
    "            # Start token index of the current span in the text.\n",
    "            token_start_index = 0\n",
    "            while sequence_ids[token_start_index] != (1 if right_padding else 0):\n",
    "                token_start_index += 1\n",
    "\n",
    "            # End token index of the current span in the text.\n",
    "            token_end_index = len(input_ids) - 1\n",
    "            while sequence_ids[token_end_index] != (1 if right_padding else 0):\n",
    "                token_end_index -= 1\n",
    "            \n",
    "            # Detect if the answer is out of the span (in which case this feature is labeled with the CLS index).\n",
    "            if not (offsets[token_start_index][0] <= start_char and offsets[token_end_index][1] >= end_char):\n",
    "                tokenized_examples[\"start_positions\"].append(cls_index)\n",
    "                tokenized_examples[\"end_positions\"].append(cls_index)\n",
    "            else:\n",
    "                # Increase the end index here to make sure it includes the last character\n",
    "                while token_start_index < len(offsets) and offsets[token_start_index][0] <= start_char:\n",
    "                    token_start_index += 1\n",
    "                safe_start_index = max(0, token_start_index - 1)\n",
    "                tokenized_examples[\"start_positions\"].append(safe_start_index)\n",
    "\n",
    "                # Adjust this line to ensure that the end character is included\n",
    "                # Decrement token_end_index to point exactly one past the end of the answer text\n",
    "                while token_end_index >= 0 and offsets[token_end_index][1] > end_char:\n",
    "                    token_end_index -= 1\n",
    "                safe_end_index = min(len(input_ids) - 1, token_end_index + 1)\n",
    "                tokenized_examples[\"end_positions\"].append(safe_end_index)  # Adjust to +2 if needed\n",
    "                \n",
    "        # Debugging code\n",
    "        global global_counter\n",
    "        global traing_answer_mismatches\n",
    "        #if question in debug_questions:\n",
    "        if len(answers[\"answer_start\"]) > 0:\n",
    "            # Ensure indices are within bounds\n",
    "            #safe_start_index = max(0, token_start_index - 1)\n",
    "            #safe_end_index = min(len(input_ids) - 1, token_end_index + 1)\n",
    "\n",
    "            # Decode the answer using safe indices\n",
    "            decoded_answer = tokenizer.decode(input_ids[safe_start_index:safe_end_index])\n",
    "            actual_answer = answers[\"text\"][0] if answers[\"text\"] else \"No answer provided\"\n",
    "            normalized_actual_answer = actual_answer.lower().replace(\" \", \"\")\n",
    "            normalized_decoded_answer = decoded_answer.lower().replace(\" \", \"\")\n",
    "            if normalized_decoded_answer != normalized_actual_answer:\n",
    "                if global_counter == 0: print('Mismatch Found')\n",
    "                global_counter += 1 \n",
    "                traing_answer_mismatches.append({\n",
    "                    'TokenizedId': i,\n",
    "                    'ID': example_id,\n",
    "                    'Question': question,\n",
    "                    'Offsets': offsets,\n",
    "                    'Input IDs':input_ids,\n",
    "                    'Tokenized Text': tokenizer.decode(input_ids),\n",
    "                    'Char start/end index': f\"{start_char} / {end_char}\",\n",
    "                    'Token start/end index':f\"{token_start_index} / {token_end_index}\",\n",
    "                    'Decoded Answer': decoded_answer,\n",
    "                    'Actual Answer': actual_answer,                    \n",
    "                })    \n",
    "    return tokenized_examples"
   ]
  },
  {
   "cell_type": "markdown",
   "id": "baaa50d9-d80b-4bcc-a9d4-66f8cb4084e9",
   "metadata": {
    "jp-MarkdownHeadingCollapsed": true,
    "tags": []
   },
   "source": [
    "## 2. Data Preparation"
   ]
  },
  {
   "cell_type": "code",
   "execution_count": 29,
   "id": "5b9fbac7-2668-43cb-addf-9c86174fd242",
   "metadata": {},
   "outputs": [],
   "source": [
    "# Load the full dataset\n",
    "full_squad_dataset = load_dataset(\"squad_v2\")"
   ]
  },
  {
   "cell_type": "code",
   "execution_count": 30,
   "id": "94f41120-057b-4dd8-9bbd-a5165dc726fe",
   "metadata": {
    "tags": []
   },
   "outputs": [
    {
     "name": "stdout",
     "output_type": "stream",
     "text": [
      "Train set size: 130319\n",
      "Validation set size: 11873\n"
     ]
    },
    {
     "data": {
      "text/plain": [
       "DatasetDict({\n",
       "    train: Dataset({\n",
       "        features: ['id', 'title', 'context', 'question', 'answers'],\n",
       "        num_rows: 130319\n",
       "    })\n",
       "    validation: Dataset({\n",
       "        features: ['id', 'title', 'context', 'question', 'answers'],\n",
       "        num_rows: 11873\n",
       "    })\n",
       "})"
      ]
     },
     "execution_count": 30,
     "metadata": {},
     "output_type": "execute_result"
    }
   ],
   "source": [
    "Use_Only_Sample = False\n",
    "Sample_Size = 10000\n",
    "\n",
    "if Use_Only_Sample:\n",
    "    # Load a sample portion of the dataset\n",
    "    squad_raw = datasets.DatasetDict({\n",
    "        'train': full_squad_dataset['train'].select(range(0, Sample_Size)),\n",
    "        'validation': full_squad_dataset['validation'].select(range(0, int(Sample_Size * 0.2)))\n",
    "    })\n",
    "else:\n",
    "    # Load the full dataset\n",
    "    squad_raw = datasets.DatasetDict({\n",
    "        'train': full_squad_dataset['train'],\n",
    "        'validation': full_squad_dataset['validation'],    \n",
    "    })\n",
    "    \n",
    "# Display the sizes of the splits to confirm\n",
    "print(\"Train set size:\", len(squad_raw['train']))\n",
    "print(\"Validation set size:\", len(squad_raw['validation']))\n",
    "squad_raw"
   ]
  },
  {
   "cell_type": "code",
   "execution_count": 31,
   "id": "af519485-cf11-4690-ba77-61eaace04e94",
   "metadata": {
    "tags": []
   },
   "outputs": [
    {
     "data": {
      "application/vnd.jupyter.widget-view+json": {
       "model_id": "4fb2963f40754ca8be57b5d87b986223",
       "version_major": 2,
       "version_minor": 0
      },
      "text/plain": [
       "Running tokenizer on train dataset:   0%|          | 0/130319 [00:00<?, ? examples/s]"
      ]
     },
     "metadata": {},
     "output_type": "display_data"
    },
    {
     "name": "stdout",
     "output_type": "stream",
     "text": [
      "Mismatch Found\n"
     ]
    }
   ],
   "source": [
    "## Preprocess the Training Dataset To find Missmatches\n",
    "global_counter = 0\n",
    "traing_answer_mismatches = []\n",
    "\n",
    "train_dataset = squad_raw['train'].map(\n",
    "                preprocess_function,\n",
    "                batched=True,\n",
    "                remove_columns=squad_raw[\"train\"].column_names,\n",
    "                desc=\"Running tokenizer on train dataset\",\n",
    "                load_from_cache_file=False,  # Disable caching\n",
    "            )\n"
   ]
  },
  {
   "cell_type": "code",
   "execution_count": 32,
   "id": "441d9c6a-242b-453d-b75e-3f6ca0a15c0e",
   "metadata": {
    "tags": []
   },
   "outputs": [
    {
     "name": "stdout",
     "output_type": "stream",
     "text": [
      "Total number of miss matches: 334\n"
     ]
    },
    {
     "data": {
      "text/html": [
       "<div>\n",
       "<style scoped>\n",
       "    .dataframe tbody tr th:only-of-type {\n",
       "        vertical-align: middle;\n",
       "    }\n",
       "\n",
       "    .dataframe tbody tr th {\n",
       "        vertical-align: top;\n",
       "    }\n",
       "\n",
       "    .dataframe thead th {\n",
       "        text-align: right;\n",
       "    }\n",
       "</style>\n",
       "<table border=\"1\" class=\"dataframe\">\n",
       "  <thead>\n",
       "    <tr style=\"text-align: right;\">\n",
       "      <th></th>\n",
       "      <th>TokenizedId</th>\n",
       "      <th>ID</th>\n",
       "      <th>Question</th>\n",
       "      <th>Offsets</th>\n",
       "      <th>Input IDs</th>\n",
       "      <th>Tokenized Text</th>\n",
       "      <th>Char start/end index</th>\n",
       "      <th>Token start/end index</th>\n",
       "      <th>Decoded Answer</th>\n",
       "      <th>Actual Answer</th>\n",
       "    </tr>\n",
       "  </thead>\n",
       "  <tbody>\n",
       "    <tr>\n",
       "      <th>0</th>\n",
       "      <td>92</td>\n",
       "      <td>56bf7e603aeaaa14008c9681</td>\n",
       "      <td>What event caused Beyonce's depression?</td>\n",
       "      <td>[(0, 0), (0, 4), (4, 10), (10, 17), (17, 25), ...</td>\n",
       "      <td>[1, 458, 720, 2044, 33714, 280, 268, 4399, 302...</td>\n",
       "      <td>[CLS] What event caused Beyonce's depression?[...</td>\n",
       "      <td>194 / 222</td>\n",
       "      <td>44 / 47</td>\n",
       "      <td>split with Luckett and</td>\n",
       "      <td>split with Luckett and Rober</td>\n",
       "    </tr>\n",
       "    <tr>\n",
       "      <th>1</th>\n",
       "      <td>203</td>\n",
       "      <td>56be973d3aeaaa14008c9123</td>\n",
       "      <td>How many number one singles did Beyonce now ha...</td>\n",
       "      <td>[(0, 0), (0, 3), (3, 8), (8, 15), (15, 19), (1...</td>\n",
       "      <td>[1, 577, 386, 496, 311, 7968, 464, 33714, 394,...</td>\n",
       "      <td>[CLS] How many number one singles did Beyonce ...</td>\n",
       "      <td>457 / 460</td>\n",
       "      <td>127 / 125</td>\n",
       "      <td></td>\n",
       "      <td>six</td>\n",
       "    </tr>\n",
       "    <tr>\n",
       "      <th>2</th>\n",
       "      <td>860</td>\n",
       "      <td>56cbdea66d243a140015edae</td>\n",
       "      <td>At what age did Frédéric start giving public c...</td>\n",
       "      <td>[(0, 0), (0, 2), (2, 7), (7, 11), (11, 15), (1...</td>\n",
       "      <td>[1, 620, 339, 905, 464, 95945, 564, 1175, 613,...</td>\n",
       "      <td>[CLS] At what age did Frédéric start giving pu...</td>\n",
       "      <td>391 / 392</td>\n",
       "      <td>96 / 95</td>\n",
       "      <td>1817</td>\n",
       "      <td>7</td>\n",
       "    </tr>\n",
       "    <tr>\n",
       "      <th>3</th>\n",
       "      <td>865</td>\n",
       "      <td>56cf609aaab44d1400b89187</td>\n",
       "      <td>At what age did Chopin start playing publicly?</td>\n",
       "      <td>[(0, 0), (0, 2), (2, 7), (7, 11), (11, 15), (1...</td>\n",
       "      <td>[1, 620, 339, 905, 464, 53473, 564, 1185, 5434...</td>\n",
       "      <td>[CLS] At what age did Chopin start playing pub...</td>\n",
       "      <td>391 / 392</td>\n",
       "      <td>95 / 94</td>\n",
       "      <td>1817</td>\n",
       "      <td>7</td>\n",
       "    </tr>\n",
       "    <tr>\n",
       "      <th>4</th>\n",
       "      <td>870</td>\n",
       "      <td>56d20a6ae7d4791d0090261a</td>\n",
       "      <td>How old was Chopin when he began to perform fo...</td>\n",
       "      <td>[(0, 0), (0, 3), (3, 7), (7, 11), (11, 18), (1...</td>\n",
       "      <td>[1, 577, 597, 284, 53473, 335, 313, 1196, 264,...</td>\n",
       "      <td>[CLS] How old was Chopin when he began to perf...</td>\n",
       "      <td>391 / 392</td>\n",
       "      <td>99 / 98</td>\n",
       "      <td>1817</td>\n",
       "      <td>7</td>\n",
       "    </tr>\n",
       "    <tr>\n",
       "      <th>5</th>\n",
       "      <td>192</td>\n",
       "      <td>56d3ac8e2ccc5a1400d82e1b</td>\n",
       "      <td>What style is the fictionalized \"Chopin\" in?</td>\n",
       "      <td>[(0, 0), (0, 4), (4, 10), (10, 13), (13, 17), ...</td>\n",
       "      <td>[1, 458, 1009, 269, 262, 92297, 307, 44413, 10...</td>\n",
       "      <td>[CLS] What style is the fictionalized \"Chopin\"...</td>\n",
       "      <td>85 / 90</td>\n",
       "      <td>29 / 27</td>\n",
       "      <td></td>\n",
       "      <td>opera</td>\n",
       "    </tr>\n",
       "    <tr>\n",
       "      <th>6</th>\n",
       "      <td>369</td>\n",
       "      <td>56d39a6a59d6e414001467f5</td>\n",
       "      <td>What type of bass do Chopin's mazurkas exhibit?</td>\n",
       "      <td>[(0, 0), (0, 4), (4, 9), (9, 12), (12, 17), (1...</td>\n",
       "      <td>[1, 458, 810, 265, 5839, 333, 53473, 280, 268,...</td>\n",
       "      <td>[CLS] What type of bass do Chopin's mazurkas e...</td>\n",
       "      <td>241 / 251</td>\n",
       "      <td>65 / 64</td>\n",
       "      <td>drone</td>\n",
       "      <td>drone bass</td>\n",
       "    </tr>\n",
       "    <tr>\n",
       "      <th>7</th>\n",
       "      <td>431</td>\n",
       "      <td>56cffba5234ae51400d9c1f1</td>\n",
       "      <td>William Atwood suggested that Chopin's music w...</td>\n",
       "      <td>[(0, 0), (0, 7), (7, 14), (14, 24), (24, 29), ...</td>\n",
       "      <td>[1, 2833, 49521, 3018, 272, 53473, 280, 268, 7...</td>\n",
       "      <td>[CLS] William Atwood suggested that Chopin's m...</td>\n",
       "      <td>443 / 452</td>\n",
       "      <td>107 / 105</td>\n",
       "      <td></td>\n",
       "      <td>intuitive</td>\n",
       "    </tr>\n",
       "    <tr>\n",
       "      <th>8</th>\n",
       "      <td>513</td>\n",
       "      <td>56ccde7862d2951400fa64d9</td>\n",
       "      <td>Who had a large amount of contacts with china ...</td>\n",
       "      <td>[(0, 0), (0, 3), (3, 7), (7, 9), (9, 15), (15,...</td>\n",
       "      <td>[1, 1876, 330, 266, 614, 906, 265, 6689, 275, ...</td>\n",
       "      <td>[CLS] Who had a large amount of contacts with ...</td>\n",
       "      <td>193 / 198</td>\n",
       "      <td>58 / 56</td>\n",
       "      <td></td>\n",
       "      <td>Tibet</td>\n",
       "    </tr>\n",
       "    <tr>\n",
       "      <th>9</th>\n",
       "      <td>574</td>\n",
       "      <td>56cd682162d2951400fa658e</td>\n",
       "      <td>What does Yiu Yung-chin claim the Ming did not...</td>\n",
       "      <td>[(0, 0), (0, 4), (4, 9), (9, 12), (12, 13), (1...</td>\n",
       "      <td>[1, 458, 490, 16138, 1964, 69552, 271, 20896, ...</td>\n",
       "      <td>[CLS] What does Yiu Yung-chin claim the Ming d...</td>\n",
       "      <td>55 / 60</td>\n",
       "      <td>26 / 24</td>\n",
       "      <td></td>\n",
       "      <td>Tibet</td>\n",
       "    </tr>\n",
       "  </tbody>\n",
       "</table>\n",
       "</div>"
      ],
      "text/plain": [
       "   TokenizedId                        ID  \\\n",
       "0           92  56bf7e603aeaaa14008c9681   \n",
       "1          203  56be973d3aeaaa14008c9123   \n",
       "2          860  56cbdea66d243a140015edae   \n",
       "3          865  56cf609aaab44d1400b89187   \n",
       "4          870  56d20a6ae7d4791d0090261a   \n",
       "5          192  56d3ac8e2ccc5a1400d82e1b   \n",
       "6          369  56d39a6a59d6e414001467f5   \n",
       "7          431  56cffba5234ae51400d9c1f1   \n",
       "8          513  56ccde7862d2951400fa64d9   \n",
       "9          574  56cd682162d2951400fa658e   \n",
       "\n",
       "                                            Question  \\\n",
       "0            What event caused Beyonce's depression?   \n",
       "1  How many number one singles did Beyonce now ha...   \n",
       "2  At what age did Frédéric start giving public c...   \n",
       "3     At what age did Chopin start playing publicly?   \n",
       "4  How old was Chopin when he began to perform fo...   \n",
       "5       What style is the fictionalized \"Chopin\" in?   \n",
       "6    What type of bass do Chopin's mazurkas exhibit?   \n",
       "7  William Atwood suggested that Chopin's music w...   \n",
       "8  Who had a large amount of contacts with china ...   \n",
       "9  What does Yiu Yung-chin claim the Ming did not...   \n",
       "\n",
       "                                             Offsets  \\\n",
       "0  [(0, 0), (0, 4), (4, 10), (10, 17), (17, 25), ...   \n",
       "1  [(0, 0), (0, 3), (3, 8), (8, 15), (15, 19), (1...   \n",
       "2  [(0, 0), (0, 2), (2, 7), (7, 11), (11, 15), (1...   \n",
       "3  [(0, 0), (0, 2), (2, 7), (7, 11), (11, 15), (1...   \n",
       "4  [(0, 0), (0, 3), (3, 7), (7, 11), (11, 18), (1...   \n",
       "5  [(0, 0), (0, 4), (4, 10), (10, 13), (13, 17), ...   \n",
       "6  [(0, 0), (0, 4), (4, 9), (9, 12), (12, 17), (1...   \n",
       "7  [(0, 0), (0, 7), (7, 14), (14, 24), (24, 29), ...   \n",
       "8  [(0, 0), (0, 3), (3, 7), (7, 9), (9, 15), (15,...   \n",
       "9  [(0, 0), (0, 4), (4, 9), (9, 12), (12, 13), (1...   \n",
       "\n",
       "                                           Input IDs  \\\n",
       "0  [1, 458, 720, 2044, 33714, 280, 268, 4399, 302...   \n",
       "1  [1, 577, 386, 496, 311, 7968, 464, 33714, 394,...   \n",
       "2  [1, 620, 339, 905, 464, 95945, 564, 1175, 613,...   \n",
       "3  [1, 620, 339, 905, 464, 53473, 564, 1185, 5434...   \n",
       "4  [1, 577, 597, 284, 53473, 335, 313, 1196, 264,...   \n",
       "5  [1, 458, 1009, 269, 262, 92297, 307, 44413, 10...   \n",
       "6  [1, 458, 810, 265, 5839, 333, 53473, 280, 268,...   \n",
       "7  [1, 2833, 49521, 3018, 272, 53473, 280, 268, 7...   \n",
       "8  [1, 1876, 330, 266, 614, 906, 265, 6689, 275, ...   \n",
       "9  [1, 458, 490, 16138, 1964, 69552, 271, 20896, ...   \n",
       "\n",
       "                                      Tokenized Text Char start/end index  \\\n",
       "0  [CLS] What event caused Beyonce's depression?[...            194 / 222   \n",
       "1  [CLS] How many number one singles did Beyonce ...            457 / 460   \n",
       "2  [CLS] At what age did Frédéric start giving pu...            391 / 392   \n",
       "3  [CLS] At what age did Chopin start playing pub...            391 / 392   \n",
       "4  [CLS] How old was Chopin when he began to perf...            391 / 392   \n",
       "5  [CLS] What style is the fictionalized \"Chopin\"...              85 / 90   \n",
       "6  [CLS] What type of bass do Chopin's mazurkas e...            241 / 251   \n",
       "7  [CLS] William Atwood suggested that Chopin's m...            443 / 452   \n",
       "8  [CLS] Who had a large amount of contacts with ...            193 / 198   \n",
       "9  [CLS] What does Yiu Yung-chin claim the Ming d...              55 / 60   \n",
       "\n",
       "  Token start/end index          Decoded Answer                 Actual Answer  \n",
       "0               44 / 47  split with Luckett and  split with Luckett and Rober  \n",
       "1             127 / 125                                                   six  \n",
       "2               96 / 95                    1817                             7  \n",
       "3               95 / 94                    1817                             7  \n",
       "4               99 / 98                    1817                             7  \n",
       "5               29 / 27                                                 opera  \n",
       "6               65 / 64                   drone                    drone bass  \n",
       "7             107 / 105                                             intuitive  \n",
       "8               58 / 56                                                 Tibet  \n",
       "9               26 / 24                                                 Tibet  "
      ]
     },
     "metadata": {},
     "output_type": "display_data"
    }
   ],
   "source": [
    "# Analyse Missmatches\n",
    "mismatches_df = pd.DataFrame(traing_answer_mismatches)\n",
    "print('Total number of miss matches:',global_counter)\n",
    "display(mismatches_df.head(10))  "
   ]
  },
  {
   "cell_type": "code",
   "execution_count": 33,
   "id": "ef820445-4d72-4e2c-95b6-1474bd671825",
   "metadata": {
    "tags": []
   },
   "outputs": [
    {
     "name": "stdout",
     "output_type": "stream",
     "text": [
      "{'id': '56be8c8a3aeaaa14008c90ab', 'title': 'Beyoncé', 'context': 'The group changed their name to Destiny\\'s Child in 1996, based upon a passage in the Book of Isaiah. In 1997, Destiny\\'s Child released their major label debut song \"Killing Time\" on the soundtrack to the 1997 film, Men in Black. The following year, the group released their self-titled debut album, scoring their first major hit \"No, No, No\". The album established the group as a viable act in the music industry, with moderate sales and winning the group three Soul Train Lady of Soul Awards for Best R&B/Soul Album of the Year, Best R&B/Soul or Rap New Artist, and Best R&B/Soul Single for \"No, No, No\". The group released their multi-platinum second album The Writing\\'s on the Wall in 1999. The record features some of the group\\'s most widely known songs such as \"Bills, Bills, Bills\", the group\\'s first number-one single, \"Jumpin\\' Jumpin\\'\" and \"Say My Name\", which became their most successful song at the time, and would remain one of their signature songs. \"Say My Name\" won the Best R&B Performance by a Duo or Group with Vocals and the Best R&B Song at the 43rd Annual Grammy Awards. The Writing\\'s on the Wall sold more than eight million copies worldwide. During this time, Beyoncé recorded a duet with Marc Nelson, an original member of Boyz II Men, on the song \"After All Is Said and Done\" for the soundtrack to the 1999 film, The Best Man.', 'question': \"For which song, did Destiny's Child take home the grammy award for best R&B performance?\", 'answers': {'text': ['\"Say My Name\"'], 'answer_start': [848]}}\n"
     ]
    }
   ],
   "source": [
    "# List of specific IDs to inspect\n",
    "debug_ids = [\n",
    "    \"56be8c8a3aeaaa14008c90ab\",       \n",
    "]\n",
    "\n",
    "# Define a function to filter examples by ID and stop processing when all have been found\n",
    "def print_specific_records(dataset):\n",
    "    found_ids = set()  # To track IDs that have been printed\n",
    "    for example in dataset:\n",
    "        if example['id'] in debug_ids:\n",
    "            print(example)\n",
    "            found_ids.add(example['id'])\n",
    "            if found_ids == set(debug_ids):\n",
    "                break  # Stop processing as all requested records have been printed\n",
    "\n",
    "# Apply the function to the full dataset (assuming the dataset is loaded and named full_squad_dataset)\n",
    "print_specific_records(full_squad_dataset['train'])\n"
   ]
  },
  {
   "cell_type": "code",
   "execution_count": 36,
   "id": "fc968279-8568-4118-b11d-f0ecb31141fd",
   "metadata": {
    "tags": []
   },
   "outputs": [
    {
     "name": "stdout",
     "output_type": "stream",
     "text": [
      "Total number of mismatches: 334\n",
      "Original dataset size: 130319\n",
      "Cleaned dataset size: 129990\n"
     ]
    }
   ],
   "source": [
    "# Ensure the mismatches DataFrame is created from non-empty data\n",
    "if traing_answer_mismatches:\n",
    "    mismatches_df = pd.DataFrame(traing_answer_mismatches)\n",
    "    print('Total number of mismatches:', len(mismatches_df))\n",
    "else:\n",
    "    print(\"No mismatches to display. The list is empty.\")\n",
    "\n",
    "def remove_mismatches(dataset, mismatch_ids):\n",
    "    \"\"\"\n",
    "    Filters the dataset to exclude mismatched entries.\n",
    "\n",
    "    Args:\n",
    "        dataset (Dataset): The dataset from which to remove mismatched examples.\n",
    "        mismatch_ids (set): A set of example IDs that have mismatches.\n",
    "\n",
    "    Returns:\n",
    "        Dataset: A dataset with mismatched examples removed.\n",
    "    \"\"\"\n",
    "    # Use a set for faster look-up times\n",
    "    filtered_dataset = dataset.filter(lambda example: example['id'] not in mismatch_ids)\n",
    "    return filtered_dataset\n",
    "\n",
    "# Check if mismatches DataFrame exists and is not empty before removing mismatches\n",
    "if 'traing_answer_mismatches' in locals() and not mismatches_df.empty:\n",
    "    mismatch_ids = set(mismatches_df['ID'])\n",
    "    cleaned_training_dataset = remove_mismatches(squad_raw['train'], mismatch_ids)\n",
    "    print(\"Original dataset size:\", len(squad_raw['train']))\n",
    "    print(\"Cleaned dataset size:\", len(cleaned_training_dataset))\n",
    "else:\n",
    "    print(\"No mismatches found or mismatch data is empty. No filtering applied.\")\n",
    "    cleaned_training_dataset = squad_raw['train']\n"
   ]
  },
  {
   "cell_type": "code",
   "execution_count": 37,
   "id": "eece467f-8f30-45e0-bf0b-5cb27e623f25",
   "metadata": {
    "tags": []
   },
   "outputs": [
    {
     "data": {
      "application/vnd.jupyter.widget-view+json": {
       "model_id": "0bb9da94791a4f0ea98d6799d9ccdc15",
       "version_major": 2,
       "version_minor": 0
      },
      "text/plain": [
       "Running tokenizer on train dataset:   0%|          | 0/129990 [00:00<?, ? examples/s]"
      ]
     },
     "metadata": {},
     "output_type": "display_data"
    },
    {
     "data": {
      "application/vnd.jupyter.widget-view+json": {
       "model_id": "454f8b8b6736422fbc2d66bb49088cd5",
       "version_major": 2,
       "version_minor": 0
      },
      "text/plain": [
       "Running tokenizer on validation dataset:   0%|          | 0/11873 [00:00<?, ? examples/s]"
      ]
     },
     "metadata": {},
     "output_type": "display_data"
    }
   ],
   "source": [
    "\n",
    "# Preprocessing the datasets\n",
    "train_dataset = cleaned_training_dataset.map(\n",
    "                preprocess_function,\n",
    "                batched=True,\n",
    "                remove_columns=squad_raw[\"train\"].column_names,\n",
    "                desc=\"Running tokenizer on train dataset\",\n",
    "                load_from_cache_file=False,  # Disable caching\n",
    "            )\n",
    "eval_dataset = squad_raw['validation'].map(\n",
    "                prepare_validation_features,\n",
    "                batched=True,\n",
    "                remove_columns=squad_raw[\"train\"].column_names,\n",
    "                desc=\"Running tokenizer on validation dataset\",\n",
    "                load_from_cache_file=False,  # Disable caching\n",
    "            )\n",
    "eval_examples =  squad_raw[\"validation\"]\n"
   ]
  },
  {
   "cell_type": "code",
   "execution_count": 38,
   "id": "7a7c6b2a-acdc-4768-b777-f581812c70ec",
   "metadata": {
    "tags": []
   },
   "outputs": [
    {
     "name": "stdout",
     "output_type": "stream",
     "text": [
      "Train set size: 130075\n",
      "Validation set size: 11951\n",
      "Validation Examples size: 11873\n"
     ]
    }
   ],
   "source": [
    "# Display the sizes of the splits to confirm\n",
    "print(\"Train set size:\", len(train_dataset))\n",
    "print(\"Validation set size:\", len(eval_dataset))\n",
    "print(\"Validation Examples size:\", len(eval_examples))"
   ]
  },
  {
   "cell_type": "markdown",
   "id": "fc279453-3f28-4aca-996b-f49ee605ce12",
   "metadata": {
    "jp-MarkdownHeadingCollapsed": true,
    "tags": []
   },
   "source": [
    "## 3. Initial Tuning of DeBERTa Model\n"
   ]
  },
  {
   "cell_type": "markdown",
   "id": "698ef06f-7ed0-4680-95b3-a1fa8cff9294",
   "metadata": {},
   "source": [
    "For Intial training we used the fine-tuned parameters of the model https://huggingface.co/microsoft/deberta-v3-base"
   ]
  },
  {
   "cell_type": "code",
   "execution_count": 48,
   "id": "727b1cf0-8ec9-4abd-9c43-256e8c6f7299",
   "metadata": {
    "tags": []
   },
   "outputs": [
    {
     "name": "stderr",
     "output_type": "stream",
     "text": [
      "Some weights of DebertaV2ForQuestionAnswering were not initialized from the model checkpoint at microsoft/deberta-v3-base and are newly initialized: ['qa_outputs.bias', 'qa_outputs.weight']\n",
      "You should probably TRAIN this model on a down-stream task to be able to use it for predictions and inference.\n"
     ]
    },
    {
     "data": {
      "text/html": [
       "Tracking run with wandb version 0.17.0"
      ],
      "text/plain": [
       "<IPython.core.display.HTML object>"
      ]
     },
     "metadata": {},
     "output_type": "display_data"
    },
    {
     "data": {
      "text/html": [
       "Run data is saved locally in <code>C:\\Users\\OEM\\COMPSCI-714\\COMPSCI714 Project\\wandb\\run-20240601_082104-pf9187qv</code>"
      ],
      "text/plain": [
       "<IPython.core.display.HTML object>"
      ]
     },
     "metadata": {},
     "output_type": "display_data"
    },
    {
     "data": {
      "text/html": [
       "Syncing run <strong><a href='https://wandb.ai/COMPSCI714/huggingface/runs/pf9187qv' target=\"_blank\">microsoft-deberta-v3-base-finetune-manual</a></strong> to <a href='https://wandb.ai/COMPSCI714/huggingface' target=\"_blank\">Weights & Biases</a> (<a href='https://wandb.me/run' target=\"_blank\">docs</a>)<br/>"
      ],
      "text/plain": [
       "<IPython.core.display.HTML object>"
      ]
     },
     "metadata": {},
     "output_type": "display_data"
    },
    {
     "data": {
      "text/html": [
       " View project at <a href='https://wandb.ai/COMPSCI714/huggingface' target=\"_blank\">https://wandb.ai/COMPSCI714/huggingface</a>"
      ],
      "text/plain": [
       "<IPython.core.display.HTML object>"
      ]
     },
     "metadata": {},
     "output_type": "display_data"
    },
    {
     "data": {
      "text/html": [
       " View run at <a href='https://wandb.ai/COMPSCI714/huggingface/runs/pf9187qv' target=\"_blank\">https://wandb.ai/COMPSCI714/huggingface/runs/pf9187qv</a>"
      ],
      "text/plain": [
       "<IPython.core.display.HTML object>"
      ]
     },
     "metadata": {},
     "output_type": "display_data"
    },
    {
     "data": {
      "text/html": [
       "\n",
       "    <div>\n",
       "      \n",
       "      <progress value='49194' max='49194' style='width:300px; height:20px; vertical-align: middle;'></progress>\n",
       "      [49194/49194 1:53:07, Epoch 3/3]\n",
       "    </div>\n",
       "    <table border=\"1\" class=\"dataframe\">\n",
       "  <thead>\n",
       " <tr style=\"text-align: left;\">\n",
       "      <th>Epoch</th>\n",
       "      <th>Training Loss</th>\n",
       "      <th>Validation Loss</th>\n",
       "      <th>Exact</th>\n",
       "      <th>F1</th>\n",
       "      <th>Total</th>\n",
       "      <th>Hasans Exact</th>\n",
       "      <th>Hasans F1</th>\n",
       "      <th>Hasans Total</th>\n",
       "      <th>Noans Exact</th>\n",
       "      <th>Noans F1</th>\n",
       "      <th>Noans Total</th>\n",
       "      <th>Best Exact</th>\n",
       "      <th>Best Exact Thresh</th>\n",
       "      <th>Best F1</th>\n",
       "      <th>Best F1 Thresh</th>\n",
       "    </tr>\n",
       "  </thead>\n",
       "  <tbody>\n",
       "    <tr>\n",
       "      <td>1</td>\n",
       "      <td>0.756000</td>\n",
       "      <td>No log</td>\n",
       "      <td>68.003032</td>\n",
       "      <td>83.372117</td>\n",
       "      <td>11873</td>\n",
       "      <td>46.086370</td>\n",
       "      <td>76.868614</td>\n",
       "      <td>5928</td>\n",
       "      <td>89.857023</td>\n",
       "      <td>89.857023</td>\n",
       "      <td>5945</td>\n",
       "      <td>68.003032</td>\n",
       "      <td>0.000000</td>\n",
       "      <td>83.372117</td>\n",
       "      <td>0.000000</td>\n",
       "    </tr>\n",
       "    <tr>\n",
       "      <td>2</td>\n",
       "      <td>0.536100</td>\n",
       "      <td>No log</td>\n",
       "      <td>66.360650</td>\n",
       "      <td>82.742412</td>\n",
       "      <td>11873</td>\n",
       "      <td>48.026316</td>\n",
       "      <td>80.836818</td>\n",
       "      <td>5928</td>\n",
       "      <td>84.642557</td>\n",
       "      <td>84.642557</td>\n",
       "      <td>5945</td>\n",
       "      <td>66.360650</td>\n",
       "      <td>0.000000</td>\n",
       "      <td>82.742412</td>\n",
       "      <td>0.000000</td>\n",
       "    </tr>\n",
       "    <tr>\n",
       "      <td>3</td>\n",
       "      <td>0.358700</td>\n",
       "      <td>No log</td>\n",
       "      <td>67.076560</td>\n",
       "      <td>83.562824</td>\n",
       "      <td>11873</td>\n",
       "      <td>47.031039</td>\n",
       "      <td>80.050846</td>\n",
       "      <td>5928</td>\n",
       "      <td>87.064760</td>\n",
       "      <td>87.064760</td>\n",
       "      <td>5945</td>\n",
       "      <td>67.076560</td>\n",
       "      <td>0.000000</td>\n",
       "      <td>83.562824</td>\n",
       "      <td>0.000000</td>\n",
       "    </tr>\n",
       "  </tbody>\n",
       "</table><p>"
      ],
      "text/plain": [
       "<IPython.core.display.HTML object>"
      ]
     },
     "metadata": {},
     "output_type": "display_data"
    },
    {
     "data": {
      "application/vnd.jupyter.widget-view+json": {
       "model_id": "5e38cd279fe54f9dab0650e11818401e",
       "version_major": 2,
       "version_minor": 0
      },
      "text/plain": [
       "  0%|          | 0/11873 [00:00<?, ?it/s]"
      ]
     },
     "metadata": {},
     "output_type": "display_data"
    },
    {
     "data": {
      "application/vnd.jupyter.widget-view+json": {
       "model_id": "41f24432f6ad4931b18f465f47ef392c",
       "version_major": 2,
       "version_minor": 0
      },
      "text/plain": [
       "  0%|          | 0/11873 [00:00<?, ?it/s]"
      ]
     },
     "metadata": {},
     "output_type": "display_data"
    },
    {
     "data": {
      "application/vnd.jupyter.widget-view+json": {
       "model_id": "43fc5b1ac2a54da1a442feef60a6ec5d",
       "version_major": 2,
       "version_minor": 0
      },
      "text/plain": [
       "  0%|          | 0/11873 [00:00<?, ?it/s]"
      ]
     },
     "metadata": {},
     "output_type": "display_data"
    },
    {
     "data": {
      "text/plain": [
       "TrainOutput(global_step=49194, training_loss=0.6130748331127561, metrics={'train_runtime': 6795.0389, 'train_samples_per_second': 57.918, 'train_steps_per_second': 7.24, 'total_flos': 5.141785910914253e+16, 'train_loss': 0.6130748331127561, 'epoch': 3.0})"
      ]
     },
     "execution_count": 48,
     "metadata": {},
     "output_type": "execute_result"
    }
   ],
   "source": [
    "no_answer_threshold = 0.0\n",
    "model = AutoModelForQuestionAnswering.from_pretrained(pretrained_model_name)\n",
    "training_args = TrainingArguments(\n",
    "    output_dir=f'{normalized_model_name}-finetuned-manual',\n",
    "    overwrite_output_dir = True,\n",
    "    metric_for_best_model='f1',\n",
    "    greater_is_better=True,\n",
    "    load_best_model_at_end=True,\n",
    "    save_total_limit=4, \n",
    "    eval_strategy=\"epoch\",\n",
    "    save_strategy=\"epoch\",\n",
    "    report_to=\"wandb\",  # Enable logging to Weights & Biases\n",
    "    run_name=f\"{normalized_model_name}-finetune-manual\",  # Optionally set a specific run name    \n",
    "    learning_rate=2e-5,\n",
    "    per_device_train_batch_size=8,\n",
    "    per_device_eval_batch_size=8,\n",
    "    warmup_steps=500,\n",
    "    num_train_epochs=3,\n",
    "    lr_scheduler_type = 'linear',\n",
    ")\n",
    "\n",
    "trainer = QuestionAnsweringTrainer(\n",
    "        model=model,\n",
    "        args=training_args,\n",
    "        train_dataset=train_dataset,\n",
    "        eval_dataset=eval_dataset,\n",
    "        eval_examples=eval_examples,\n",
    "        tokenizer=tokenizer,\n",
    "        data_collator=data_collator,\n",
    "        post_process_function=post_processing_function,\n",
    "        compute_metrics=compute_metrics,\n",
    "        callbacks=[EarlyStoppingCallback(early_stopping_patience=3)],\n",
    ")\n",
    "\n",
    "trainer.train()"
   ]
  },
  {
   "cell_type": "code",
   "execution_count": null,
   "id": "04a3d4e3-3075-45c7-93d0-3ba88bbda146",
   "metadata": {},
   "outputs": [],
   "source": []
  },
  {
   "cell_type": "markdown",
   "id": "b873b0a9-025a-410d-8903-62b01e708aed",
   "metadata": {
    "jp-MarkdownHeadingCollapsed": true,
    "tags": []
   },
   "source": [
    "## 5. Models Tuning Reusable Functions"
   ]
  },
  {
   "cell_type": "code",
   "execution_count": 44,
   "id": "cc958752-42e2-4fe6-ac48-51d1522f6028",
   "metadata": {
    "tags": []
   },
   "outputs": [
    {
     "name": "stdout",
     "output_type": "stream",
     "text": [
      "Train set size: 60000\n",
      "Validation set size: 11873\n"
     ]
    }
   ],
   "source": [
    "Sample_Size = 60000\n",
    "\n",
    "# Load a sample portion of the dataset\n",
    "subset_squad_raw = datasets.DatasetDict({\n",
    "    'train': cleaned_training_dataset.shuffle(seed=42).select(range(Sample_Size)),\n",
    "    'validation': full_squad_dataset['validation']\n",
    "})\n",
    "    \n",
    "# Display the sizes of the splits to confirm\n",
    "print(\"Train set size:\", len(subset_squad_raw['train']))\n",
    "print(\"Validation set size:\", len(subset_squad_raw['validation']))\n",
    "squad_raw\n",
    "\n",
    "# Preprocessing the datasets\n",
    "eval_examples =  subset_squad_raw[\"validation\"]\n"
   ]
  },
  {
   "cell_type": "code",
   "execution_count": 50,
   "id": "b030f563-13a3-447d-be0d-15562b8a15c1",
   "metadata": {},
   "outputs": [],
   "source": [
    "class AdvancedEarlyStoppingCallback(TrainerCallback):\n",
    "    \"\"\"\n",
    "    A callback to stop training when either the performance falls below a certain threshold\n",
    "    or if there is no improvement over a set number of epochs.\n",
    "    \"\"\"\n",
    "    def __init__(self, metric_name, patience, threshold):\n",
    "        self.metric_name = metric_name\n",
    "        self.patience = patience\n",
    "        self.threshold = threshold\n",
    "        self.best_score = None\n",
    "        self.no_improve_epochs = 0\n",
    "\n",
    "    def on_evaluate(self, args, state, control, **kwargs):\n",
    "        metric_value = kwargs['metrics'].get(self.metric_name)\n",
    "\n",
    "        if self.best_score is None or metric_value > self.best_score:\n",
    "            self.best_score = metric_value\n",
    "            self.no_improve_epochs = 0\n",
    "        else:\n",
    "            self.no_improve_epochs += 1\n",
    "\n",
    "        # Check if performance is below the threshold\n",
    "        if metric_value < self.threshold:\n",
    "            control.should_training_stop = True\n",
    "            print(f\"Stopping training: {self.metric_name} below threshold of {self.threshold}\")\n",
    "\n",
    "        # Check if no improvement has been seen over the allowed patience\n",
    "        if self.no_improve_epochs >= self.patience:\n",
    "            control.should_training_stop = True\n",
    "            print(f\"Stopping training: No improvement in {self.metric_name} for {self.patience} epochs\")\n"
   ]
  },
  {
   "cell_type": "code",
   "execution_count": 52,
   "id": "581d57f6-426f-4727-b25a-92a91cb0d877",
   "metadata": {},
   "outputs": [],
   "source": [
    "# Define model initialization function\n",
    "def model_init():\n",
    "    return AutoModelForQuestionAnswering.from_pretrained(pretrained_model_name)\n",
    "\n",
    "# Define train dataset initialization function\n",
    "def train_dataset_init():\n",
    "    return subset_squad_raw['train'].map(\n",
    "                preprocess_function,\n",
    "                batched=True,\n",
    "                remove_columns=subset_squad_raw[\"train\"].column_names,\n",
    "                desc=\"Running tokenizer on train dataset\",\n",
    "            )\n",
    "\n",
    "# Define validation dataset initialization function\n",
    "def vald_dataset_init():\n",
    "    return subset_squad_raw['validation'].map(\n",
    "                prepare_validation_features,\n",
    "                batched=True,\n",
    "                remove_columns=subset_squad_raw[\"train\"].column_names,\n",
    "                desc=\"Running tokenizer on validation dataset\",\n",
    "            )\n",
    "\n",
    "# Optuna objective function for hyperparameter tuning\n",
    "def objective(trial):\n",
    "    # Hyperparameters to tune \n",
    "    global no_answer_threshold\n",
    "    no_answer_threshold = trial.suggest_float('no_answer_threshold', 0.0, 1.0)\n",
    "    #global global_doc_stride\n",
    "    #global_doc_stride=trial.suggest_int('doc_stride', 128, 256, step=64)\n",
    "\n",
    "    learning_rate = trial.suggest_float('learning_rate', 1e-7, 1e-4, log=True)\n",
    "    #batch_size = trial.suggest_categorical('batch_size', [16, 32, 64])\n",
    "    #warmup_steps = trial.suggest_int('warmup_steps', 0, 1000)\n",
    "    warmup_ratio= trial.suggest_int('warmup_ratio', 0.0, 1.0)\n",
    "    weight_decay = trial.suggest_float('weight_decay', 0.0, 0.25)\n",
    "    adam_beta1 = trial.suggest_float('adam_beta1', 0.8, 0.95)\n",
    "    adam_beta2 = trial.suggest_float('adam_beta2', 0.990, 0.999)\n",
    "    adam_epsilon = trial.suggest_float('adam_epsilon', 1e-8, 1e-6)\n",
    "    lr_scheduler_type = trial.suggest_categorical('lr_scheduler_type', ['linear', 'cosine', 'cosine_with_restarts']) #,'constant_with_warmup'\n",
    "    output_dir = f\"./{normalized_model_name}-finetuned-squadv2/trial_{trial.number}\"\n",
    "    \n",
    "    # Print trial parameters\n",
    "    print(f\"Current Trial {trial.number} parameters: {trial.params}\")\n",
    "    \n",
    "    # Training arguments\n",
    "    training_args = TrainingArguments(\n",
    "        output_dir=output_dir,\n",
    "        overwrite_output_dir = True,\n",
    "        metric_for_best_model='f1',\n",
    "        greater_is_better=True,\n",
    "        load_best_model_at_end=True,\n",
    "        save_total_limit=2, # Save only the best model unless you specify a different number\n",
    "        eval_strategy=\"epoch\",\n",
    "        save_strategy=\"epoch\",\n",
    "        num_train_epochs=3,  # Adjust based on computation limits\n",
    "        report_to=\"wandb\",  # Enable logging to Weights & Biases        \n",
    "        run_name=f\"{normalized_model_name}-finetune-squadv2\",  # Optionally set a specific run name    \n",
    "        learning_rate=learning_rate,\n",
    "        per_device_train_batch_size=16,\n",
    "        per_device_eval_batch_size=16,\n",
    "        #warmup_steps=warmup_steps,\n",
    "        warmup_ratio=warmup_ratio,\n",
    "        weight_decay=weight_decay,\n",
    "        adam_beta1=adam_beta1,\n",
    "        adam_beta2=adam_beta2,\n",
    "        adam_epsilon=adam_epsilon,\n",
    "        lr_scheduler_type=lr_scheduler_type,\n",
    "        fp16=True,  # Enable mixed-precision training\n",
    "    )    \n",
    "\n",
    "    trainer = QuestionAnsweringTrainer(\n",
    "        model=model_init(),\n",
    "        tokenizer=tokenizer,\n",
    "        args=training_args,\n",
    "        train_dataset=train_dataset_init(),\n",
    "        eval_dataset=vald_dataset_init(),\n",
    "        eval_examples=eval_examples,        \n",
    "        data_collator=data_collator,\n",
    "        post_process_function=post_processing_function,\n",
    "        compute_metrics=compute_metrics,\n",
    "        callbacks=[AdvancedEarlyStoppingCallback(metric_name='eval_f1', patience=1, threshold=75)]\n",
    "    )  \n",
    "    \n",
    "\n",
    "    # Train the model\n",
    "    trainer.train()\n",
    "\n",
    "    # Evaluate the model\n",
    "    eval_results = trainer.evaluate()\n",
    "    #print(\"Evaluation results:\", eval_results)  # Debug print\n",
    "    return eval_results['eval_f1']\n"
   ]
  },
  {
   "cell_type": "markdown",
   "id": "60deff21-c846-44f7-8129-8ed3e78d39d4",
   "metadata": {
    "tags": []
   },
   "source": [
    "## 6. Hyperparameters Search for DeBERTa Model\n"
   ]
  },
  {
   "cell_type": "code",
   "execution_count": 56,
   "id": "473be192-e1e9-4931-b591-35f9e4a20dfc",
   "metadata": {},
   "outputs": [
    {
     "name": "stderr",
     "output_type": "stream",
     "text": [
      "[I 2024-06-01 11:08:58,590] A new study created in memory with name: no-name-e98d63bc-7620-40ad-a67d-2f70d61059e6\n"
     ]
    },
    {
     "name": "stdout",
     "output_type": "stream",
     "text": [
      "Current Trial 0 parameters: {'no_answer_threshold': 0.229683530365979, 'learning_rate': 1.3867520367460077e-07, 'warmup_ratio': 0, 'weight_decay': 0.15996179014105685, 'adam_beta1': 0.8775536227971908, 'adam_beta2': 0.9973260003559349, 'adam_epsilon': 6.280826120023782e-08, 'lr_scheduler_type': 'cosine'}\n"
     ]
    },
    {
     "name": "stderr",
     "output_type": "stream",
     "text": [
      "Some weights of DebertaV2ForQuestionAnswering were not initialized from the model checkpoint at microsoft/deberta-v3-base and are newly initialized: ['qa_outputs.bias', 'qa_outputs.weight']\n",
      "You should probably TRAIN this model on a down-stream task to be able to use it for predictions and inference.\n"
     ]
    },
    {
     "data": {
      "text/html": [
       "\n",
       "    <div>\n",
       "      \n",
       "      <progress value='3934' max='11802' style='width:300px; height:20px; vertical-align: middle;'></progress>\n",
       "      [ 3934/11802 11:13 < 22:27, 5.84 it/s, Epoch 1/3]\n",
       "    </div>\n",
       "    <table border=\"1\" class=\"dataframe\">\n",
       "  <thead>\n",
       " <tr style=\"text-align: left;\">\n",
       "      <th>Epoch</th>\n",
       "      <th>Training Loss</th>\n",
       "      <th>Validation Loss</th>\n",
       "      <th>Exact</th>\n",
       "      <th>F1</th>\n",
       "      <th>Total</th>\n",
       "      <th>Hasans Exact</th>\n",
       "      <th>Hasans F1</th>\n",
       "      <th>Hasans Total</th>\n",
       "      <th>Noans Exact</th>\n",
       "      <th>Noans F1</th>\n",
       "      <th>Noans Total</th>\n",
       "      <th>Best Exact</th>\n",
       "      <th>Best Exact Thresh</th>\n",
       "      <th>Best F1</th>\n",
       "      <th>Best F1 Thresh</th>\n",
       "    </tr>\n",
       "  </thead>\n",
       "  <tbody>\n",
       "    <tr>\n",
       "      <td>1</td>\n",
       "      <td>4.074500</td>\n",
       "      <td>No log</td>\n",
       "      <td>49.145119</td>\n",
       "      <td>49.178999</td>\n",
       "      <td>11873</td>\n",
       "      <td>0.084345</td>\n",
       "      <td>0.152202</td>\n",
       "      <td>5928</td>\n",
       "      <td>98.065601</td>\n",
       "      <td>98.065601</td>\n",
       "      <td>5945</td>\n",
       "      <td>50.080013</td>\n",
       "      <td>0.000000</td>\n",
       "      <td>50.080013</td>\n",
       "      <td>0.000000</td>\n",
       "    </tr>\n",
       "  </tbody>\n",
       "</table><p>"
      ],
      "text/plain": [
       "<IPython.core.display.HTML object>"
      ]
     },
     "metadata": {},
     "output_type": "display_data"
    },
    {
     "data": {
      "application/vnd.jupyter.widget-view+json": {
       "model_id": "dc02bd7f4df74671935d6ca0540e254d",
       "version_major": 2,
       "version_minor": 0
      },
      "text/plain": [
       "  0%|          | 0/11873 [00:00<?, ?it/s]"
      ]
     },
     "metadata": {},
     "output_type": "display_data"
    },
    {
     "name": "stdout",
     "output_type": "stream",
     "text": [
      "Stopping training: eval_f1 below threshold of 75\n"
     ]
    },
    {
     "data": {
      "text/html": [
       "\n",
       "    <div>\n",
       "      \n",
       "      <progress value='839' max='839' style='width:300px; height:20px; vertical-align: middle;'></progress>\n",
       "      [839/839 00:33]\n",
       "    </div>\n",
       "    "
      ],
      "text/plain": [
       "<IPython.core.display.HTML object>"
      ]
     },
     "metadata": {},
     "output_type": "display_data"
    },
    {
     "data": {
      "application/vnd.jupyter.widget-view+json": {
       "model_id": "e44b22733fd647e3979ae58b240e8335",
       "version_major": 2,
       "version_minor": 0
      },
      "text/plain": [
       "  0%|          | 0/11873 [00:00<?, ?it/s]"
      ]
     },
     "metadata": {},
     "output_type": "display_data"
    },
    {
     "name": "stdout",
     "output_type": "stream",
     "text": [
      "Stopping training: eval_f1 below threshold of 75\n",
      "Stopping training: No improvement in eval_f1 for 1 epochs\n"
     ]
    },
    {
     "name": "stderr",
     "output_type": "stream",
     "text": [
      "[I 2024-06-01 11:21:23,069] Trial 0 finished with value: 49.17899862411473 and parameters: {'no_answer_threshold': 0.229683530365979, 'learning_rate': 1.3867520367460077e-07, 'warmup_ratio': 0, 'weight_decay': 0.15996179014105685, 'adam_beta1': 0.8775536227971908, 'adam_beta2': 0.9973260003559349, 'adam_epsilon': 6.280826120023782e-08, 'lr_scheduler_type': 'cosine'}. Best is trial 0 with value: 49.17899862411473.\n"
     ]
    },
    {
     "name": "stdout",
     "output_type": "stream",
     "text": [
      "Current Trial 1 parameters: {'no_answer_threshold': 0.26461690330414167, 'learning_rate': 1.1153462318300031e-07, 'warmup_ratio': 1, 'weight_decay': 0.03263922762850907, 'adam_beta1': 0.8594288399239166, 'adam_beta2': 0.9928816108655873, 'adam_epsilon': 2.964755320454655e-07, 'lr_scheduler_type': 'cosine'}\n"
     ]
    },
    {
     "name": "stderr",
     "output_type": "stream",
     "text": [
      "Some weights of DebertaV2ForQuestionAnswering were not initialized from the model checkpoint at microsoft/deberta-v3-base and are newly initialized: ['qa_outputs.bias', 'qa_outputs.weight']\n",
      "You should probably TRAIN this model on a down-stream task to be able to use it for predictions and inference.\n"
     ]
    },
    {
     "data": {
      "text/html": [
       "\n",
       "    <div>\n",
       "      \n",
       "      <progress value='3934' max='11802' style='width:300px; height:20px; vertical-align: middle;'></progress>\n",
       "      [ 3934/11802 11:16 < 22:34, 5.81 it/s, Epoch 1/3]\n",
       "    </div>\n",
       "    <table border=\"1\" class=\"dataframe\">\n",
       "  <thead>\n",
       " <tr style=\"text-align: left;\">\n",
       "      <th>Epoch</th>\n",
       "      <th>Training Loss</th>\n",
       "      <th>Validation Loss</th>\n",
       "      <th>Exact</th>\n",
       "      <th>F1</th>\n",
       "      <th>Total</th>\n",
       "      <th>Hasans Exact</th>\n",
       "      <th>Hasans F1</th>\n",
       "      <th>Hasans Total</th>\n",
       "      <th>Noans Exact</th>\n",
       "      <th>Noans F1</th>\n",
       "      <th>Noans Total</th>\n",
       "      <th>Best Exact</th>\n",
       "      <th>Best Exact Thresh</th>\n",
       "      <th>Best F1</th>\n",
       "      <th>Best F1 Thresh</th>\n",
       "    </tr>\n",
       "  </thead>\n",
       "  <tbody>\n",
       "    <tr>\n",
       "      <td>1</td>\n",
       "      <td>5.236800</td>\n",
       "      <td>No log</td>\n",
       "      <td>0.336899</td>\n",
       "      <td>4.538977</td>\n",
       "      <td>11873</td>\n",
       "      <td>0.506073</td>\n",
       "      <td>8.922279</td>\n",
       "      <td>5928</td>\n",
       "      <td>0.168209</td>\n",
       "      <td>0.168209</td>\n",
       "      <td>5945</td>\n",
       "      <td>50.071591</td>\n",
       "      <td>0.000000</td>\n",
       "      <td>50.077607</td>\n",
       "      <td>0.000000</td>\n",
       "    </tr>\n",
       "  </tbody>\n",
       "</table><p>"
      ],
      "text/plain": [
       "<IPython.core.display.HTML object>"
      ]
     },
     "metadata": {},
     "output_type": "display_data"
    },
    {
     "data": {
      "application/vnd.jupyter.widget-view+json": {
       "model_id": "82a84b57fa31444b9131cf8d9708eb51",
       "version_major": 2,
       "version_minor": 0
      },
      "text/plain": [
       "  0%|          | 0/11873 [00:00<?, ?it/s]"
      ]
     },
     "metadata": {},
     "output_type": "display_data"
    },
    {
     "name": "stdout",
     "output_type": "stream",
     "text": [
      "Stopping training: eval_f1 below threshold of 75\n"
     ]
    },
    {
     "data": {
      "text/html": [
       "\n",
       "    <div>\n",
       "      \n",
       "      <progress value='839' max='839' style='width:300px; height:20px; vertical-align: middle;'></progress>\n",
       "      [839/839 00:33]\n",
       "    </div>\n",
       "    "
      ],
      "text/plain": [
       "<IPython.core.display.HTML object>"
      ]
     },
     "metadata": {},
     "output_type": "display_data"
    },
    {
     "data": {
      "application/vnd.jupyter.widget-view+json": {
       "model_id": "6ed463d3dca547f48ec98b4b900257d0",
       "version_major": 2,
       "version_minor": 0
      },
      "text/plain": [
       "  0%|          | 0/11873 [00:00<?, ?it/s]"
      ]
     },
     "metadata": {},
     "output_type": "display_data"
    },
    {
     "name": "stdout",
     "output_type": "stream",
     "text": [
      "Stopping training: eval_f1 below threshold of 75\n",
      "Stopping training: No improvement in eval_f1 for 1 epochs\n"
     ]
    },
    {
     "name": "stderr",
     "output_type": "stream",
     "text": [
      "[I 2024-06-01 11:33:52,099] Trial 1 finished with value: 4.538976551727517 and parameters: {'no_answer_threshold': 0.26461690330414167, 'learning_rate': 1.1153462318300031e-07, 'warmup_ratio': 1, 'weight_decay': 0.03263922762850907, 'adam_beta1': 0.8594288399239166, 'adam_beta2': 0.9928816108655873, 'adam_epsilon': 2.964755320454655e-07, 'lr_scheduler_type': 'cosine'}. Best is trial 0 with value: 49.17899862411473.\n"
     ]
    },
    {
     "name": "stdout",
     "output_type": "stream",
     "text": [
      "Current Trial 2 parameters: {'no_answer_threshold': 0.2388637823646964, 'learning_rate': 1.869174527312148e-05, 'warmup_ratio': 1, 'weight_decay': 0.10428465808314341, 'adam_beta1': 0.8012202830107452, 'adam_beta2': 0.9906099220097011, 'adam_epsilon': 4.173295349856758e-07, 'lr_scheduler_type': 'cosine'}\n"
     ]
    },
    {
     "name": "stderr",
     "output_type": "stream",
     "text": [
      "Some weights of DebertaV2ForQuestionAnswering were not initialized from the model checkpoint at microsoft/deberta-v3-base and are newly initialized: ['qa_outputs.bias', 'qa_outputs.weight']\n",
      "You should probably TRAIN this model on a down-stream task to be able to use it for predictions and inference.\n"
     ]
    },
    {
     "data": {
      "text/html": [
       "\n",
       "    <div>\n",
       "      \n",
       "      <progress value='3934' max='11802' style='width:300px; height:20px; vertical-align: middle;'></progress>\n",
       "      [ 3934/11802 11:12 < 22:26, 5.84 it/s, Epoch 1/3]\n",
       "    </div>\n",
       "    <table border=\"1\" class=\"dataframe\">\n",
       "  <thead>\n",
       " <tr style=\"text-align: left;\">\n",
       "      <th>Epoch</th>\n",
       "      <th>Training Loss</th>\n",
       "      <th>Validation Loss</th>\n",
       "      <th>Exact</th>\n",
       "      <th>F1</th>\n",
       "      <th>Total</th>\n",
       "      <th>Hasans Exact</th>\n",
       "      <th>Hasans F1</th>\n",
       "      <th>Hasans Total</th>\n",
       "      <th>Noans Exact</th>\n",
       "      <th>Noans F1</th>\n",
       "      <th>Noans Total</th>\n",
       "      <th>Best Exact</th>\n",
       "      <th>Best Exact Thresh</th>\n",
       "      <th>Best F1</th>\n",
       "      <th>Best F1 Thresh</th>\n",
       "    </tr>\n",
       "  </thead>\n",
       "  <tbody>\n",
       "    <tr>\n",
       "      <td>1</td>\n",
       "      <td>1.190300</td>\n",
       "      <td>No log</td>\n",
       "      <td>50.172661</td>\n",
       "      <td>66.947550</td>\n",
       "      <td>11873</td>\n",
       "      <td>43.471660</td>\n",
       "      <td>77.069546</td>\n",
       "      <td>5928</td>\n",
       "      <td>56.854500</td>\n",
       "      <td>56.854500</td>\n",
       "      <td>5945</td>\n",
       "      <td>50.172661</td>\n",
       "      <td>0.000000</td>\n",
       "      <td>66.947550</td>\n",
       "      <td>0.000000</td>\n",
       "    </tr>\n",
       "  </tbody>\n",
       "</table><p>"
      ],
      "text/plain": [
       "<IPython.core.display.HTML object>"
      ]
     },
     "metadata": {},
     "output_type": "display_data"
    },
    {
     "data": {
      "application/vnd.jupyter.widget-view+json": {
       "model_id": "293145c560e049d793d6b5774bf71fac",
       "version_major": 2,
       "version_minor": 0
      },
      "text/plain": [
       "  0%|          | 0/11873 [00:00<?, ?it/s]"
      ]
     },
     "metadata": {},
     "output_type": "display_data"
    },
    {
     "name": "stdout",
     "output_type": "stream",
     "text": [
      "Stopping training: eval_f1 below threshold of 75\n"
     ]
    },
    {
     "data": {
      "text/html": [
       "\n",
       "    <div>\n",
       "      \n",
       "      <progress value='839' max='839' style='width:300px; height:20px; vertical-align: middle;'></progress>\n",
       "      [839/839 00:33]\n",
       "    </div>\n",
       "    "
      ],
      "text/plain": [
       "<IPython.core.display.HTML object>"
      ]
     },
     "metadata": {},
     "output_type": "display_data"
    },
    {
     "data": {
      "application/vnd.jupyter.widget-view+json": {
       "model_id": "827de01624b14c15bd3021e48dc326d8",
       "version_major": 2,
       "version_minor": 0
      },
      "text/plain": [
       "  0%|          | 0/11873 [00:00<?, ?it/s]"
      ]
     },
     "metadata": {},
     "output_type": "display_data"
    },
    {
     "name": "stdout",
     "output_type": "stream",
     "text": [
      "Stopping training: eval_f1 below threshold of 75\n",
      "Stopping training: No improvement in eval_f1 for 1 epochs\n"
     ]
    },
    {
     "name": "stderr",
     "output_type": "stream",
     "text": [
      "[I 2024-06-01 11:46:18,108] Trial 2 finished with value: 66.94755049156453 and parameters: {'no_answer_threshold': 0.2388637823646964, 'learning_rate': 1.869174527312148e-05, 'warmup_ratio': 1, 'weight_decay': 0.10428465808314341, 'adam_beta1': 0.8012202830107452, 'adam_beta2': 0.9906099220097011, 'adam_epsilon': 4.173295349856758e-07, 'lr_scheduler_type': 'cosine'}. Best is trial 2 with value: 66.94755049156453.\n"
     ]
    },
    {
     "name": "stdout",
     "output_type": "stream",
     "text": [
      "Current Trial 3 parameters: {'no_answer_threshold': 0.049455123103406606, 'learning_rate': 1.959878741875816e-06, 'warmup_ratio': 1, 'weight_decay': 0.18770418078249568, 'adam_beta1': 0.9314235295356796, 'adam_beta2': 0.9938933649381345, 'adam_epsilon': 1.5674774586164024e-07, 'lr_scheduler_type': 'cosine'}\n"
     ]
    },
    {
     "name": "stderr",
     "output_type": "stream",
     "text": [
      "Some weights of DebertaV2ForQuestionAnswering were not initialized from the model checkpoint at microsoft/deberta-v3-base and are newly initialized: ['qa_outputs.bias', 'qa_outputs.weight']\n",
      "You should probably TRAIN this model on a down-stream task to be able to use it for predictions and inference.\n"
     ]
    },
    {
     "data": {
      "text/html": [
       "\n",
       "    <div>\n",
       "      \n",
       "      <progress value='3934' max='11802' style='width:300px; height:20px; vertical-align: middle;'></progress>\n",
       "      [ 3934/11802 11:11 < 22:24, 5.85 it/s, Epoch 1/3]\n",
       "    </div>\n",
       "    <table border=\"1\" class=\"dataframe\">\n",
       "  <thead>\n",
       " <tr style=\"text-align: left;\">\n",
       "      <th>Epoch</th>\n",
       "      <th>Training Loss</th>\n",
       "      <th>Validation Loss</th>\n",
       "      <th>Exact</th>\n",
       "      <th>F1</th>\n",
       "      <th>Total</th>\n",
       "      <th>Hasans Exact</th>\n",
       "      <th>Hasans F1</th>\n",
       "      <th>Hasans Total</th>\n",
       "      <th>Noans Exact</th>\n",
       "      <th>Noans F1</th>\n",
       "      <th>Noans Total</th>\n",
       "      <th>Best Exact</th>\n",
       "      <th>Best Exact Thresh</th>\n",
       "      <th>Best F1</th>\n",
       "      <th>Best F1 Thresh</th>\n",
       "    </tr>\n",
       "  </thead>\n",
       "  <tbody>\n",
       "    <tr>\n",
       "      <td>1</td>\n",
       "      <td>3.286000</td>\n",
       "      <td>No log</td>\n",
       "      <td>48.370252</td>\n",
       "      <td>50.906412</td>\n",
       "      <td>11873</td>\n",
       "      <td>8.890013</td>\n",
       "      <td>13.969607</td>\n",
       "      <td>5928</td>\n",
       "      <td>87.737595</td>\n",
       "      <td>87.737595</td>\n",
       "      <td>5945</td>\n",
       "      <td>50.088436</td>\n",
       "      <td>0.000000</td>\n",
       "      <td>51.436591</td>\n",
       "      <td>0.000000</td>\n",
       "    </tr>\n",
       "  </tbody>\n",
       "</table><p>"
      ],
      "text/plain": [
       "<IPython.core.display.HTML object>"
      ]
     },
     "metadata": {},
     "output_type": "display_data"
    },
    {
     "data": {
      "application/vnd.jupyter.widget-view+json": {
       "model_id": "c4f6ae625f314e09acb68b8569acd9d3",
       "version_major": 2,
       "version_minor": 0
      },
      "text/plain": [
       "  0%|          | 0/11873 [00:00<?, ?it/s]"
      ]
     },
     "metadata": {},
     "output_type": "display_data"
    },
    {
     "name": "stdout",
     "output_type": "stream",
     "text": [
      "Stopping training: eval_f1 below threshold of 75\n"
     ]
    },
    {
     "data": {
      "text/html": [
       "\n",
       "    <div>\n",
       "      \n",
       "      <progress value='839' max='839' style='width:300px; height:20px; vertical-align: middle;'></progress>\n",
       "      [839/839 00:33]\n",
       "    </div>\n",
       "    "
      ],
      "text/plain": [
       "<IPython.core.display.HTML object>"
      ]
     },
     "metadata": {},
     "output_type": "display_data"
    },
    {
     "data": {
      "application/vnd.jupyter.widget-view+json": {
       "model_id": "2500bdd3b02b45a2a5aae8827b9fe3c9",
       "version_major": 2,
       "version_minor": 0
      },
      "text/plain": [
       "  0%|          | 0/11873 [00:00<?, ?it/s]"
      ]
     },
     "metadata": {},
     "output_type": "display_data"
    },
    {
     "name": "stdout",
     "output_type": "stream",
     "text": [
      "Stopping training: eval_f1 below threshold of 75\n",
      "Stopping training: No improvement in eval_f1 for 1 epochs\n"
     ]
    },
    {
     "name": "stderr",
     "output_type": "stream",
     "text": [
      "[I 2024-06-01 11:58:42,752] Trial 3 finished with value: 50.90641199933872 and parameters: {'no_answer_threshold': 0.049455123103406606, 'learning_rate': 1.959878741875816e-06, 'warmup_ratio': 1, 'weight_decay': 0.18770418078249568, 'adam_beta1': 0.9314235295356796, 'adam_beta2': 0.9938933649381345, 'adam_epsilon': 1.5674774586164024e-07, 'lr_scheduler_type': 'cosine'}. Best is trial 2 with value: 66.94755049156453.\n"
     ]
    },
    {
     "name": "stdout",
     "output_type": "stream",
     "text": [
      "Current Trial 4 parameters: {'no_answer_threshold': 0.6352559912612388, 'learning_rate': 2.5577734626679673e-07, 'warmup_ratio': 1, 'weight_decay': 0.10057567130338044, 'adam_beta1': 0.8666935238574727, 'adam_beta2': 0.9980640815457084, 'adam_epsilon': 8.155342731586576e-07, 'lr_scheduler_type': 'cosine_with_restarts'}\n"
     ]
    },
    {
     "name": "stderr",
     "output_type": "stream",
     "text": [
      "Some weights of DebertaV2ForQuestionAnswering were not initialized from the model checkpoint at microsoft/deberta-v3-base and are newly initialized: ['qa_outputs.bias', 'qa_outputs.weight']\n",
      "You should probably TRAIN this model on a down-stream task to be able to use it for predictions and inference.\n"
     ]
    },
    {
     "data": {
      "text/html": [
       "\n",
       "    <div>\n",
       "      \n",
       "      <progress value='3934' max='11802' style='width:300px; height:20px; vertical-align: middle;'></progress>\n",
       "      [ 3934/11802 11:14 < 22:28, 5.83 it/s, Epoch 1/3]\n",
       "    </div>\n",
       "    <table border=\"1\" class=\"dataframe\">\n",
       "  <thead>\n",
       " <tr style=\"text-align: left;\">\n",
       "      <th>Epoch</th>\n",
       "      <th>Training Loss</th>\n",
       "      <th>Validation Loss</th>\n",
       "      <th>Exact</th>\n",
       "      <th>F1</th>\n",
       "      <th>Total</th>\n",
       "      <th>Hasans Exact</th>\n",
       "      <th>Hasans F1</th>\n",
       "      <th>Hasans Total</th>\n",
       "      <th>Noans Exact</th>\n",
       "      <th>Noans F1</th>\n",
       "      <th>Noans Total</th>\n",
       "      <th>Best Exact</th>\n",
       "      <th>Best Exact Thresh</th>\n",
       "      <th>Best F1</th>\n",
       "      <th>Best F1 Thresh</th>\n",
       "    </tr>\n",
       "  </thead>\n",
       "  <tbody>\n",
       "    <tr>\n",
       "      <td>1</td>\n",
       "      <td>4.951400</td>\n",
       "      <td>No log</td>\n",
       "      <td>0.682220</td>\n",
       "      <td>5.092531</td>\n",
       "      <td>11873</td>\n",
       "      <td>1.197706</td>\n",
       "      <td>10.030976</td>\n",
       "      <td>5928</td>\n",
       "      <td>0.168209</td>\n",
       "      <td>0.168209</td>\n",
       "      <td>5945</td>\n",
       "      <td>50.071591</td>\n",
       "      <td>0.000000</td>\n",
       "      <td>50.077607</td>\n",
       "      <td>0.000000</td>\n",
       "    </tr>\n",
       "  </tbody>\n",
       "</table><p>"
      ],
      "text/plain": [
       "<IPython.core.display.HTML object>"
      ]
     },
     "metadata": {},
     "output_type": "display_data"
    },
    {
     "data": {
      "application/vnd.jupyter.widget-view+json": {
       "model_id": "423a75a7a9f04ec683300324c644a94a",
       "version_major": 2,
       "version_minor": 0
      },
      "text/plain": [
       "  0%|          | 0/11873 [00:00<?, ?it/s]"
      ]
     },
     "metadata": {},
     "output_type": "display_data"
    },
    {
     "name": "stdout",
     "output_type": "stream",
     "text": [
      "Stopping training: eval_f1 below threshold of 75\n"
     ]
    },
    {
     "data": {
      "text/html": [
       "\n",
       "    <div>\n",
       "      \n",
       "      <progress value='839' max='839' style='width:300px; height:20px; vertical-align: middle;'></progress>\n",
       "      [839/839 00:33]\n",
       "    </div>\n",
       "    "
      ],
      "text/plain": [
       "<IPython.core.display.HTML object>"
      ]
     },
     "metadata": {},
     "output_type": "display_data"
    },
    {
     "data": {
      "application/vnd.jupyter.widget-view+json": {
       "model_id": "8abba0df210441c0b343adc0adbe3534",
       "version_major": 2,
       "version_minor": 0
      },
      "text/plain": [
       "  0%|          | 0/11873 [00:00<?, ?it/s]"
      ]
     },
     "metadata": {},
     "output_type": "display_data"
    },
    {
     "name": "stdout",
     "output_type": "stream",
     "text": [
      "Stopping training: eval_f1 below threshold of 75\n",
      "Stopping training: No improvement in eval_f1 for 1 epochs\n"
     ]
    },
    {
     "name": "stderr",
     "output_type": "stream",
     "text": [
      "[I 2024-06-01 12:11:07,597] Trial 4 finished with value: 5.092531429461413 and parameters: {'no_answer_threshold': 0.6352559912612388, 'learning_rate': 2.5577734626679673e-07, 'warmup_ratio': 1, 'weight_decay': 0.10057567130338044, 'adam_beta1': 0.8666935238574727, 'adam_beta2': 0.9980640815457084, 'adam_epsilon': 8.155342731586576e-07, 'lr_scheduler_type': 'cosine_with_restarts'}. Best is trial 2 with value: 66.94755049156453.\n"
     ]
    },
    {
     "name": "stdout",
     "output_type": "stream",
     "text": [
      "Current Trial 5 parameters: {'no_answer_threshold': 0.958978492966006, 'learning_rate': 2.1045621493736562e-07, 'warmup_ratio': 0, 'weight_decay': 0.1697730044993315, 'adam_beta1': 0.832070411106032, 'adam_beta2': 0.9916344466720993, 'adam_epsilon': 5.6187517031615447e-08, 'lr_scheduler_type': 'linear'}\n"
     ]
    },
    {
     "name": "stderr",
     "output_type": "stream",
     "text": [
      "Some weights of DebertaV2ForQuestionAnswering were not initialized from the model checkpoint at microsoft/deberta-v3-base and are newly initialized: ['qa_outputs.bias', 'qa_outputs.weight']\n",
      "You should probably TRAIN this model on a down-stream task to be able to use it for predictions and inference.\n"
     ]
    },
    {
     "data": {
      "text/html": [
       "\n",
       "    <div>\n",
       "      \n",
       "      <progress value='3934' max='11802' style='width:300px; height:20px; vertical-align: middle;'></progress>\n",
       "      [ 3934/11802 11:05 < 22:11, 5.91 it/s, Epoch 1/3]\n",
       "    </div>\n",
       "    <table border=\"1\" class=\"dataframe\">\n",
       "  <thead>\n",
       " <tr style=\"text-align: left;\">\n",
       "      <th>Epoch</th>\n",
       "      <th>Training Loss</th>\n",
       "      <th>Validation Loss</th>\n",
       "      <th>Exact</th>\n",
       "      <th>F1</th>\n",
       "      <th>Total</th>\n",
       "      <th>Hasans Exact</th>\n",
       "      <th>Hasans F1</th>\n",
       "      <th>Hasans Total</th>\n",
       "      <th>Noans Exact</th>\n",
       "      <th>Noans F1</th>\n",
       "      <th>Noans Total</th>\n",
       "      <th>Best Exact</th>\n",
       "      <th>Best Exact Thresh</th>\n",
       "      <th>Best F1</th>\n",
       "      <th>Best F1 Thresh</th>\n",
       "    </tr>\n",
       "  </thead>\n",
       "  <tbody>\n",
       "    <tr>\n",
       "      <td>1</td>\n",
       "      <td>3.765800</td>\n",
       "      <td>No log</td>\n",
       "      <td>49.380948</td>\n",
       "      <td>49.451356</td>\n",
       "      <td>11873</td>\n",
       "      <td>0.168691</td>\n",
       "      <td>0.309708</td>\n",
       "      <td>5928</td>\n",
       "      <td>98.452481</td>\n",
       "      <td>98.452481</td>\n",
       "      <td>5945</td>\n",
       "      <td>50.071591</td>\n",
       "      <td>0.000000</td>\n",
       "      <td>50.077746</td>\n",
       "      <td>0.000000</td>\n",
       "    </tr>\n",
       "  </tbody>\n",
       "</table><p>"
      ],
      "text/plain": [
       "<IPython.core.display.HTML object>"
      ]
     },
     "metadata": {},
     "output_type": "display_data"
    },
    {
     "data": {
      "application/vnd.jupyter.widget-view+json": {
       "model_id": "478cb4a7941a4160ace2606ede73af1d",
       "version_major": 2,
       "version_minor": 0
      },
      "text/plain": [
       "  0%|          | 0/11873 [00:00<?, ?it/s]"
      ]
     },
     "metadata": {},
     "output_type": "display_data"
    },
    {
     "name": "stdout",
     "output_type": "stream",
     "text": [
      "Stopping training: eval_f1 below threshold of 75\n"
     ]
    },
    {
     "data": {
      "text/html": [
       "\n",
       "    <div>\n",
       "      \n",
       "      <progress value='839' max='839' style='width:300px; height:20px; vertical-align: middle;'></progress>\n",
       "      [839/839 00:32]\n",
       "    </div>\n",
       "    "
      ],
      "text/plain": [
       "<IPython.core.display.HTML object>"
      ]
     },
     "metadata": {},
     "output_type": "display_data"
    },
    {
     "data": {
      "application/vnd.jupyter.widget-view+json": {
       "model_id": "cd457fcf98c84b77a708c68c9aa9779a",
       "version_major": 2,
       "version_minor": 0
      },
      "text/plain": [
       "  0%|          | 0/11873 [00:00<?, ?it/s]"
      ]
     },
     "metadata": {},
     "output_type": "display_data"
    },
    {
     "name": "stdout",
     "output_type": "stream",
     "text": [
      "Stopping training: eval_f1 below threshold of 75\n",
      "Stopping training: No improvement in eval_f1 for 1 epochs\n"
     ]
    },
    {
     "name": "stderr",
     "output_type": "stream",
     "text": [
      "[I 2024-06-01 12:23:23,596] Trial 5 finished with value: 49.45135580762109 and parameters: {'no_answer_threshold': 0.958978492966006, 'learning_rate': 2.1045621493736562e-07, 'warmup_ratio': 0, 'weight_decay': 0.1697730044993315, 'adam_beta1': 0.832070411106032, 'adam_beta2': 0.9916344466720993, 'adam_epsilon': 5.6187517031615447e-08, 'lr_scheduler_type': 'linear'}. Best is trial 2 with value: 66.94755049156453.\n"
     ]
    },
    {
     "name": "stdout",
     "output_type": "stream",
     "text": [
      "Current Trial 6 parameters: {'no_answer_threshold': 0.42300392023300915, 'learning_rate': 4.886186283019311e-06, 'warmup_ratio': 1, 'weight_decay': 0.2238859161552496, 'adam_beta1': 0.8955513838227536, 'adam_beta2': 0.9981871263531469, 'adam_epsilon': 4.999327454624602e-08, 'lr_scheduler_type': 'cosine'}\n"
     ]
    },
    {
     "name": "stderr",
     "output_type": "stream",
     "text": [
      "Some weights of DebertaV2ForQuestionAnswering were not initialized from the model checkpoint at microsoft/deberta-v3-base and are newly initialized: ['qa_outputs.bias', 'qa_outputs.weight']\n",
      "You should probably TRAIN this model on a down-stream task to be able to use it for predictions and inference.\n"
     ]
    },
    {
     "data": {
      "text/html": [
       "\n",
       "    <div>\n",
       "      \n",
       "      <progress value='3934' max='11802' style='width:300px; height:20px; vertical-align: middle;'></progress>\n",
       "      [ 3934/11802 11:03 < 22:07, 5.93 it/s, Epoch 1/3]\n",
       "    </div>\n",
       "    <table border=\"1\" class=\"dataframe\">\n",
       "  <thead>\n",
       " <tr style=\"text-align: left;\">\n",
       "      <th>Epoch</th>\n",
       "      <th>Training Loss</th>\n",
       "      <th>Validation Loss</th>\n",
       "      <th>Exact</th>\n",
       "      <th>F1</th>\n",
       "      <th>Total</th>\n",
       "      <th>Hasans Exact</th>\n",
       "      <th>Hasans F1</th>\n",
       "      <th>Hasans Total</th>\n",
       "      <th>Noans Exact</th>\n",
       "      <th>Noans F1</th>\n",
       "      <th>Noans Total</th>\n",
       "      <th>Best Exact</th>\n",
       "      <th>Best Exact Thresh</th>\n",
       "      <th>Best F1</th>\n",
       "      <th>Best F1 Thresh</th>\n",
       "    </tr>\n",
       "  </thead>\n",
       "  <tbody>\n",
       "    <tr>\n",
       "      <td>1</td>\n",
       "      <td>1.724200</td>\n",
       "      <td>No log</td>\n",
       "      <td>40.427862</td>\n",
       "      <td>55.501388</td>\n",
       "      <td>11873</td>\n",
       "      <td>37.078273</td>\n",
       "      <td>67.268552</td>\n",
       "      <td>5928</td>\n",
       "      <td>43.767872</td>\n",
       "      <td>43.767872</td>\n",
       "      <td>5945</td>\n",
       "      <td>50.105281</td>\n",
       "      <td>0.000000</td>\n",
       "      <td>55.565761</td>\n",
       "      <td>0.000000</td>\n",
       "    </tr>\n",
       "  </tbody>\n",
       "</table><p>"
      ],
      "text/plain": [
       "<IPython.core.display.HTML object>"
      ]
     },
     "metadata": {},
     "output_type": "display_data"
    },
    {
     "data": {
      "application/vnd.jupyter.widget-view+json": {
       "model_id": "de32375df4c04a9381afc45c9ae4c1dc",
       "version_major": 2,
       "version_minor": 0
      },
      "text/plain": [
       "  0%|          | 0/11873 [00:00<?, ?it/s]"
      ]
     },
     "metadata": {},
     "output_type": "display_data"
    },
    {
     "name": "stdout",
     "output_type": "stream",
     "text": [
      "Stopping training: eval_f1 below threshold of 75\n"
     ]
    },
    {
     "data": {
      "text/html": [
       "\n",
       "    <div>\n",
       "      \n",
       "      <progress value='839' max='839' style='width:300px; height:20px; vertical-align: middle;'></progress>\n",
       "      [839/839 00:32]\n",
       "    </div>\n",
       "    "
      ],
      "text/plain": [
       "<IPython.core.display.HTML object>"
      ]
     },
     "metadata": {},
     "output_type": "display_data"
    },
    {
     "data": {
      "application/vnd.jupyter.widget-view+json": {
       "model_id": "2c937a6981724603b6658e97cef1000b",
       "version_major": 2,
       "version_minor": 0
      },
      "text/plain": [
       "  0%|          | 0/11873 [00:00<?, ?it/s]"
      ]
     },
     "metadata": {},
     "output_type": "display_data"
    },
    {
     "name": "stdout",
     "output_type": "stream",
     "text": [
      "Stopping training: eval_f1 below threshold of 75\n",
      "Stopping training: No improvement in eval_f1 for 1 epochs\n"
     ]
    },
    {
     "name": "stderr",
     "output_type": "stream",
     "text": [
      "[I 2024-06-01 12:35:35,966] Trial 6 finished with value: 55.5013876345767 and parameters: {'no_answer_threshold': 0.42300392023300915, 'learning_rate': 4.886186283019311e-06, 'warmup_ratio': 1, 'weight_decay': 0.2238859161552496, 'adam_beta1': 0.8955513838227536, 'adam_beta2': 0.9981871263531469, 'adam_epsilon': 4.999327454624602e-08, 'lr_scheduler_type': 'cosine'}. Best is trial 2 with value: 66.94755049156453.\n"
     ]
    },
    {
     "name": "stdout",
     "output_type": "stream",
     "text": [
      "Current Trial 7 parameters: {'no_answer_threshold': 0.8868613429715304, 'learning_rate': 4.6389177137963985e-05, 'warmup_ratio': 0, 'weight_decay': 0.08253638097979887, 'adam_beta1': 0.8900081663131222, 'adam_beta2': 0.9927912469793062, 'adam_epsilon': 6.928278773789859e-07, 'lr_scheduler_type': 'cosine'}\n"
     ]
    },
    {
     "name": "stderr",
     "output_type": "stream",
     "text": [
      "Some weights of DebertaV2ForQuestionAnswering were not initialized from the model checkpoint at microsoft/deberta-v3-base and are newly initialized: ['qa_outputs.bias', 'qa_outputs.weight']\n",
      "You should probably TRAIN this model on a down-stream task to be able to use it for predictions and inference.\n"
     ]
    },
    {
     "data": {
      "text/html": [
       "\n",
       "    <div>\n",
       "      \n",
       "      <progress value='11802' max='11802' style='width:300px; height:20px; vertical-align: middle;'></progress>\n",
       "      [11802/11802 33:16, Epoch 3/3]\n",
       "    </div>\n",
       "    <table border=\"1\" class=\"dataframe\">\n",
       "  <thead>\n",
       " <tr style=\"text-align: left;\">\n",
       "      <th>Epoch</th>\n",
       "      <th>Training Loss</th>\n",
       "      <th>Validation Loss</th>\n",
       "      <th>Exact</th>\n",
       "      <th>F1</th>\n",
       "      <th>Total</th>\n",
       "      <th>Hasans Exact</th>\n",
       "      <th>Hasans F1</th>\n",
       "      <th>Hasans Total</th>\n",
       "      <th>Noans Exact</th>\n",
       "      <th>Noans F1</th>\n",
       "      <th>Noans Total</th>\n",
       "      <th>Best Exact</th>\n",
       "      <th>Best Exact Thresh</th>\n",
       "      <th>Best F1</th>\n",
       "      <th>Best F1 Thresh</th>\n",
       "    </tr>\n",
       "  </thead>\n",
       "  <tbody>\n",
       "    <tr>\n",
       "      <td>1</td>\n",
       "      <td>0.845300</td>\n",
       "      <td>No log</td>\n",
       "      <td>64.911985</td>\n",
       "      <td>80.891743</td>\n",
       "      <td>11873</td>\n",
       "      <td>46.541835</td>\n",
       "      <td>78.547178</td>\n",
       "      <td>5928</td>\n",
       "      <td>83.229605</td>\n",
       "      <td>83.229605</td>\n",
       "      <td>5945</td>\n",
       "      <td>64.911985</td>\n",
       "      <td>0.000000</td>\n",
       "      <td>80.891743</td>\n",
       "      <td>0.000000</td>\n",
       "    </tr>\n",
       "    <tr>\n",
       "      <td>2</td>\n",
       "      <td>0.505200</td>\n",
       "      <td>No log</td>\n",
       "      <td>66.790196</td>\n",
       "      <td>82.719724</td>\n",
       "      <td>11873</td>\n",
       "      <td>46.659919</td>\n",
       "      <td>78.564656</td>\n",
       "      <td>5928</td>\n",
       "      <td>86.862910</td>\n",
       "      <td>86.862910</td>\n",
       "      <td>5945</td>\n",
       "      <td>66.790196</td>\n",
       "      <td>0.000000</td>\n",
       "      <td>82.719724</td>\n",
       "      <td>0.000000</td>\n",
       "    </tr>\n",
       "    <tr>\n",
       "      <td>3</td>\n",
       "      <td>0.302000</td>\n",
       "      <td>No log</td>\n",
       "      <td>66.259581</td>\n",
       "      <td>82.707443</td>\n",
       "      <td>11873</td>\n",
       "      <td>45.951417</td>\n",
       "      <td>78.894311</td>\n",
       "      <td>5928</td>\n",
       "      <td>86.509672</td>\n",
       "      <td>86.509672</td>\n",
       "      <td>5945</td>\n",
       "      <td>66.259581</td>\n",
       "      <td>0.000000</td>\n",
       "      <td>82.707443</td>\n",
       "      <td>0.000000</td>\n",
       "    </tr>\n",
       "  </tbody>\n",
       "</table><p>"
      ],
      "text/plain": [
       "<IPython.core.display.HTML object>"
      ]
     },
     "metadata": {},
     "output_type": "display_data"
    },
    {
     "data": {
      "application/vnd.jupyter.widget-view+json": {
       "model_id": "ee571225420140549efeeb3d1bfd08f4",
       "version_major": 2,
       "version_minor": 0
      },
      "text/plain": [
       "  0%|          | 0/11873 [00:00<?, ?it/s]"
      ]
     },
     "metadata": {},
     "output_type": "display_data"
    },
    {
     "data": {
      "application/vnd.jupyter.widget-view+json": {
       "model_id": "0665a1f5e8ac486a967b0079087ff9fe",
       "version_major": 2,
       "version_minor": 0
      },
      "text/plain": [
       "  0%|          | 0/11873 [00:00<?, ?it/s]"
      ]
     },
     "metadata": {},
     "output_type": "display_data"
    },
    {
     "data": {
      "application/vnd.jupyter.widget-view+json": {
       "model_id": "ed6b6e61617948b7847671bb9e9de15d",
       "version_major": 2,
       "version_minor": 0
      },
      "text/plain": [
       "  0%|          | 0/11873 [00:00<?, ?it/s]"
      ]
     },
     "metadata": {},
     "output_type": "display_data"
    },
    {
     "name": "stdout",
     "output_type": "stream",
     "text": [
      "Stopping training: No improvement in eval_f1 for 1 epochs\n"
     ]
    },
    {
     "data": {
      "text/html": [
       "\n",
       "    <div>\n",
       "      \n",
       "      <progress value='839' max='839' style='width:300px; height:20px; vertical-align: middle;'></progress>\n",
       "      [839/839 00:32]\n",
       "    </div>\n",
       "    "
      ],
      "text/plain": [
       "<IPython.core.display.HTML object>"
      ]
     },
     "metadata": {},
     "output_type": "display_data"
    },
    {
     "data": {
      "application/vnd.jupyter.widget-view+json": {
       "model_id": "d9882a38c54f4b08900f5d6342a41637",
       "version_major": 2,
       "version_minor": 0
      },
      "text/plain": [
       "  0%|          | 0/11873 [00:00<?, ?it/s]"
      ]
     },
     "metadata": {},
     "output_type": "display_data"
    },
    {
     "name": "stdout",
     "output_type": "stream",
     "text": [
      "Stopping training: No improvement in eval_f1 for 1 epochs\n"
     ]
    },
    {
     "name": "stderr",
     "output_type": "stream",
     "text": [
      "[I 2024-06-01 13:10:02,011] Trial 7 finished with value: 82.71972389509783 and parameters: {'no_answer_threshold': 0.8868613429715304, 'learning_rate': 4.6389177137963985e-05, 'warmup_ratio': 0, 'weight_decay': 0.08253638097979887, 'adam_beta1': 0.8900081663131222, 'adam_beta2': 0.9927912469793062, 'adam_epsilon': 6.928278773789859e-07, 'lr_scheduler_type': 'cosine'}. Best is trial 7 with value: 82.71972389509783.\n"
     ]
    },
    {
     "name": "stdout",
     "output_type": "stream",
     "text": [
      "Current Trial 8 parameters: {'no_answer_threshold': 0.04967106608610794, 'learning_rate': 1.9506015634887336e-06, 'warmup_ratio': 0, 'weight_decay': 0.023904907869766845, 'adam_beta1': 0.8477789770174142, 'adam_beta2': 0.9928497015680966, 'adam_epsilon': 9.495655276811682e-07, 'lr_scheduler_type': 'cosine'}\n"
     ]
    },
    {
     "name": "stderr",
     "output_type": "stream",
     "text": [
      "Some weights of DebertaV2ForQuestionAnswering were not initialized from the model checkpoint at microsoft/deberta-v3-base and are newly initialized: ['qa_outputs.bias', 'qa_outputs.weight']\n",
      "You should probably TRAIN this model on a down-stream task to be able to use it for predictions and inference.\n"
     ]
    },
    {
     "data": {
      "text/html": [
       "\n",
       "    <div>\n",
       "      \n",
       "      <progress value='3934' max='11802' style='width:300px; height:20px; vertical-align: middle;'></progress>\n",
       "      [ 3934/11802 11:04 < 22:09, 5.92 it/s, Epoch 1/3]\n",
       "    </div>\n",
       "    <table border=\"1\" class=\"dataframe\">\n",
       "  <thead>\n",
       " <tr style=\"text-align: left;\">\n",
       "      <th>Epoch</th>\n",
       "      <th>Training Loss</th>\n",
       "      <th>Validation Loss</th>\n",
       "      <th>Exact</th>\n",
       "      <th>F1</th>\n",
       "      <th>Total</th>\n",
       "      <th>Hasans Exact</th>\n",
       "      <th>Hasans F1</th>\n",
       "      <th>Hasans Total</th>\n",
       "      <th>Noans Exact</th>\n",
       "      <th>Noans F1</th>\n",
       "      <th>Noans Total</th>\n",
       "      <th>Best Exact</th>\n",
       "      <th>Best Exact Thresh</th>\n",
       "      <th>Best F1</th>\n",
       "      <th>Best F1 Thresh</th>\n",
       "    </tr>\n",
       "  </thead>\n",
       "  <tbody>\n",
       "    <tr>\n",
       "      <td>1</td>\n",
       "      <td>1.249400</td>\n",
       "      <td>No log</td>\n",
       "      <td>52.354081</td>\n",
       "      <td>68.409959</td>\n",
       "      <td>11873</td>\n",
       "      <td>41.649798</td>\n",
       "      <td>73.807599</td>\n",
       "      <td>5928</td>\n",
       "      <td>63.027754</td>\n",
       "      <td>63.027754</td>\n",
       "      <td>5945</td>\n",
       "      <td>52.354081</td>\n",
       "      <td>0.000000</td>\n",
       "      <td>68.409959</td>\n",
       "      <td>0.000000</td>\n",
       "    </tr>\n",
       "  </tbody>\n",
       "</table><p>"
      ],
      "text/plain": [
       "<IPython.core.display.HTML object>"
      ]
     },
     "metadata": {},
     "output_type": "display_data"
    },
    {
     "data": {
      "application/vnd.jupyter.widget-view+json": {
       "model_id": "596dbda2e491407f93fbd82d42bd5817",
       "version_major": 2,
       "version_minor": 0
      },
      "text/plain": [
       "  0%|          | 0/11873 [00:00<?, ?it/s]"
      ]
     },
     "metadata": {},
     "output_type": "display_data"
    },
    {
     "name": "stdout",
     "output_type": "stream",
     "text": [
      "Stopping training: eval_f1 below threshold of 75\n"
     ]
    },
    {
     "data": {
      "text/html": [
       "\n",
       "    <div>\n",
       "      \n",
       "      <progress value='839' max='839' style='width:300px; height:20px; vertical-align: middle;'></progress>\n",
       "      [839/839 00:32]\n",
       "    </div>\n",
       "    "
      ],
      "text/plain": [
       "<IPython.core.display.HTML object>"
      ]
     },
     "metadata": {},
     "output_type": "display_data"
    },
    {
     "data": {
      "application/vnd.jupyter.widget-view+json": {
       "model_id": "d090f4d224f247a0b7aa9f3bd42f2d26",
       "version_major": 2,
       "version_minor": 0
      },
      "text/plain": [
       "  0%|          | 0/11873 [00:00<?, ?it/s]"
      ]
     },
     "metadata": {},
     "output_type": "display_data"
    },
    {
     "name": "stdout",
     "output_type": "stream",
     "text": [
      "Stopping training: eval_f1 below threshold of 75\n",
      "Stopping training: No improvement in eval_f1 for 1 epochs\n"
     ]
    },
    {
     "name": "stderr",
     "output_type": "stream",
     "text": [
      "[I 2024-06-01 13:22:17,403] Trial 8 finished with value: 68.40995915060796 and parameters: {'no_answer_threshold': 0.04967106608610794, 'learning_rate': 1.9506015634887336e-06, 'warmup_ratio': 0, 'weight_decay': 0.023904907869766845, 'adam_beta1': 0.8477789770174142, 'adam_beta2': 0.9928497015680966, 'adam_epsilon': 9.495655276811682e-07, 'lr_scheduler_type': 'cosine'}. Best is trial 7 with value: 82.71972389509783.\n"
     ]
    },
    {
     "name": "stdout",
     "output_type": "stream",
     "text": [
      "Current Trial 9 parameters: {'no_answer_threshold': 0.3246450250738333, 'learning_rate': 4.330297699292793e-07, 'warmup_ratio': 0, 'weight_decay': 0.014728971776818062, 'adam_beta1': 0.8195573792815666, 'adam_beta2': 0.9915251127517226, 'adam_epsilon': 8.4490024134365e-07, 'lr_scheduler_type': 'cosine'}\n"
     ]
    },
    {
     "name": "stderr",
     "output_type": "stream",
     "text": [
      "Some weights of DebertaV2ForQuestionAnswering were not initialized from the model checkpoint at microsoft/deberta-v3-base and are newly initialized: ['qa_outputs.bias', 'qa_outputs.weight']\n",
      "You should probably TRAIN this model on a down-stream task to be able to use it for predictions and inference.\n"
     ]
    },
    {
     "data": {
      "text/html": [
       "\n",
       "    <div>\n",
       "      \n",
       "      <progress value='3934' max='11802' style='width:300px; height:20px; vertical-align: middle;'></progress>\n",
       "      [ 3934/11802 11:03 < 22:08, 5.92 it/s, Epoch 1/3]\n",
       "    </div>\n",
       "    <table border=\"1\" class=\"dataframe\">\n",
       "  <thead>\n",
       " <tr style=\"text-align: left;\">\n",
       "      <th>Epoch</th>\n",
       "      <th>Training Loss</th>\n",
       "      <th>Validation Loss</th>\n",
       "      <th>Exact</th>\n",
       "      <th>F1</th>\n",
       "      <th>Total</th>\n",
       "      <th>Hasans Exact</th>\n",
       "      <th>Hasans F1</th>\n",
       "      <th>Hasans Total</th>\n",
       "      <th>Noans Exact</th>\n",
       "      <th>Noans F1</th>\n",
       "      <th>Noans Total</th>\n",
       "      <th>Best Exact</th>\n",
       "      <th>Best Exact Thresh</th>\n",
       "      <th>Best F1</th>\n",
       "      <th>Best F1 Thresh</th>\n",
       "    </tr>\n",
       "  </thead>\n",
       "  <tbody>\n",
       "    <tr>\n",
       "      <td>1</td>\n",
       "      <td>2.426000</td>\n",
       "      <td>No log</td>\n",
       "      <td>41.615430</td>\n",
       "      <td>49.273940</td>\n",
       "      <td>11873</td>\n",
       "      <td>22.722672</td>\n",
       "      <td>38.061655</td>\n",
       "      <td>5928</td>\n",
       "      <td>60.454163</td>\n",
       "      <td>60.454163</td>\n",
       "      <td>5945</td>\n",
       "      <td>50.088436</td>\n",
       "      <td>0.000000</td>\n",
       "      <td>50.308819</td>\n",
       "      <td>0.000000</td>\n",
       "    </tr>\n",
       "  </tbody>\n",
       "</table><p>"
      ],
      "text/plain": [
       "<IPython.core.display.HTML object>"
      ]
     },
     "metadata": {},
     "output_type": "display_data"
    },
    {
     "data": {
      "application/vnd.jupyter.widget-view+json": {
       "model_id": "86278e2c69924556b7055006d0528549",
       "version_major": 2,
       "version_minor": 0
      },
      "text/plain": [
       "  0%|          | 0/11873 [00:00<?, ?it/s]"
      ]
     },
     "metadata": {},
     "output_type": "display_data"
    },
    {
     "name": "stdout",
     "output_type": "stream",
     "text": [
      "Stopping training: eval_f1 below threshold of 75\n"
     ]
    },
    {
     "data": {
      "text/html": [
       "\n",
       "    <div>\n",
       "      \n",
       "      <progress value='839' max='839' style='width:300px; height:20px; vertical-align: middle;'></progress>\n",
       "      [839/839 00:32]\n",
       "    </div>\n",
       "    "
      ],
      "text/plain": [
       "<IPython.core.display.HTML object>"
      ]
     },
     "metadata": {},
     "output_type": "display_data"
    },
    {
     "data": {
      "application/vnd.jupyter.widget-view+json": {
       "model_id": "7c64789b13a043efacab9245e5f71c50",
       "version_major": 2,
       "version_minor": 0
      },
      "text/plain": [
       "  0%|          | 0/11873 [00:00<?, ?it/s]"
      ]
     },
     "metadata": {},
     "output_type": "display_data"
    },
    {
     "name": "stdout",
     "output_type": "stream",
     "text": [
      "Stopping training: eval_f1 below threshold of 75\n",
      "Stopping training: No improvement in eval_f1 for 1 epochs\n"
     ]
    },
    {
     "name": "stderr",
     "output_type": "stream",
     "text": [
      "[I 2024-06-01 13:34:32,853] Trial 9 finished with value: 49.27394006603281 and parameters: {'no_answer_threshold': 0.3246450250738333, 'learning_rate': 4.330297699292793e-07, 'warmup_ratio': 0, 'weight_decay': 0.014728971776818062, 'adam_beta1': 0.8195573792815666, 'adam_beta2': 0.9915251127517226, 'adam_epsilon': 8.4490024134365e-07, 'lr_scheduler_type': 'cosine'}. Best is trial 7 with value: 82.71972389509783.\n"
     ]
    }
   ],
   "source": [
    "# Create a study object and optimize the objective\n",
    "study = optuna.create_study(direction='maximize')\n",
    "study.optimize(objective, n_trials=10)"
   ]
  },
  {
   "cell_type": "code",
   "execution_count": 58,
   "id": "0112c81f-9646-42d5-ab56-8ac039eb8559",
   "metadata": {
    "tags": []
   },
   "outputs": [
    {
     "name": "stdout",
     "output_type": "stream",
     "text": [
      "Current Trial 10 parameters: {'no_answer_threshold': 0.9906946003180076, 'learning_rate': 9.003422689899536e-05, 'warmup_ratio': 0, 'weight_decay': 0.08554404776413711, 'adam_beta1': 0.9214195799215867, 'adam_beta2': 0.9952437466150929, 'adam_epsilon': 6.101763152223576e-07, 'lr_scheduler_type': 'linear'}\n"
     ]
    },
    {
     "name": "stderr",
     "output_type": "stream",
     "text": [
      "Some weights of DebertaV2ForQuestionAnswering were not initialized from the model checkpoint at microsoft/deberta-v3-base and are newly initialized: ['qa_outputs.bias', 'qa_outputs.weight']\n",
      "You should probably TRAIN this model on a down-stream task to be able to use it for predictions and inference.\n"
     ]
    },
    {
     "data": {
      "text/html": [
       "\n",
       "    <div>\n",
       "      \n",
       "      <progress value='11802' max='11802' style='width:300px; height:20px; vertical-align: middle;'></progress>\n",
       "      [11802/11802 33:12, Epoch 3/3]\n",
       "    </div>\n",
       "    <table border=\"1\" class=\"dataframe\">\n",
       "  <thead>\n",
       " <tr style=\"text-align: left;\">\n",
       "      <th>Epoch</th>\n",
       "      <th>Training Loss</th>\n",
       "      <th>Validation Loss</th>\n",
       "      <th>Exact</th>\n",
       "      <th>F1</th>\n",
       "      <th>Total</th>\n",
       "      <th>Hasans Exact</th>\n",
       "      <th>Hasans F1</th>\n",
       "      <th>Hasans Total</th>\n",
       "      <th>Noans Exact</th>\n",
       "      <th>Noans F1</th>\n",
       "      <th>Noans Total</th>\n",
       "      <th>Best Exact</th>\n",
       "      <th>Best Exact Thresh</th>\n",
       "      <th>Best F1</th>\n",
       "      <th>Best F1 Thresh</th>\n",
       "    </tr>\n",
       "  </thead>\n",
       "  <tbody>\n",
       "    <tr>\n",
       "      <td>1</td>\n",
       "      <td>0.906900</td>\n",
       "      <td>No log</td>\n",
       "      <td>62.090457</td>\n",
       "      <td>77.861147</td>\n",
       "      <td>11873</td>\n",
       "      <td>44.399460</td>\n",
       "      <td>75.986065</td>\n",
       "      <td>5928</td>\n",
       "      <td>79.730866</td>\n",
       "      <td>79.730866</td>\n",
       "      <td>5945</td>\n",
       "      <td>62.098880</td>\n",
       "      <td>0.000000</td>\n",
       "      <td>77.869569</td>\n",
       "      <td>0.000000</td>\n",
       "    </tr>\n",
       "    <tr>\n",
       "      <td>2</td>\n",
       "      <td>0.559900</td>\n",
       "      <td>No log</td>\n",
       "      <td>63.648615</td>\n",
       "      <td>79.381137</td>\n",
       "      <td>11873</td>\n",
       "      <td>44.450067</td>\n",
       "      <td>75.960229</td>\n",
       "      <td>5928</td>\n",
       "      <td>82.792262</td>\n",
       "      <td>82.792262</td>\n",
       "      <td>5945</td>\n",
       "      <td>63.657037</td>\n",
       "      <td>0.000000</td>\n",
       "      <td>79.389559</td>\n",
       "      <td>0.000000</td>\n",
       "    </tr>\n",
       "    <tr>\n",
       "      <td>3</td>\n",
       "      <td>0.290300</td>\n",
       "      <td>No log</td>\n",
       "      <td>63.732839</td>\n",
       "      <td>79.947713</td>\n",
       "      <td>11873</td>\n",
       "      <td>45.293522</td>\n",
       "      <td>77.769769</td>\n",
       "      <td>5928</td>\n",
       "      <td>82.119428</td>\n",
       "      <td>82.119428</td>\n",
       "      <td>5945</td>\n",
       "      <td>63.741262</td>\n",
       "      <td>0.000000</td>\n",
       "      <td>79.956135</td>\n",
       "      <td>0.000000</td>\n",
       "    </tr>\n",
       "  </tbody>\n",
       "</table><p>"
      ],
      "text/plain": [
       "<IPython.core.display.HTML object>"
      ]
     },
     "metadata": {},
     "output_type": "display_data"
    },
    {
     "data": {
      "application/vnd.jupyter.widget-view+json": {
       "model_id": "50cb9ee3233d49dc96e270030947b5dc",
       "version_major": 2,
       "version_minor": 0
      },
      "text/plain": [
       "  0%|          | 0/11873 [00:00<?, ?it/s]"
      ]
     },
     "metadata": {},
     "output_type": "display_data"
    },
    {
     "data": {
      "application/vnd.jupyter.widget-view+json": {
       "model_id": "7bd0a81ce3ef4e2cb86e98844be57dc5",
       "version_major": 2,
       "version_minor": 0
      },
      "text/plain": [
       "  0%|          | 0/11873 [00:00<?, ?it/s]"
      ]
     },
     "metadata": {},
     "output_type": "display_data"
    },
    {
     "data": {
      "application/vnd.jupyter.widget-view+json": {
       "model_id": "a3527f7aa7d146adb5075703c8e77295",
       "version_major": 2,
       "version_minor": 0
      },
      "text/plain": [
       "  0%|          | 0/11873 [00:00<?, ?it/s]"
      ]
     },
     "metadata": {},
     "output_type": "display_data"
    },
    {
     "data": {
      "text/html": [
       "\n",
       "    <div>\n",
       "      \n",
       "      <progress value='839' max='839' style='width:300px; height:20px; vertical-align: middle;'></progress>\n",
       "      [839/839 00:34]\n",
       "    </div>\n",
       "    "
      ],
      "text/plain": [
       "<IPython.core.display.HTML object>"
      ]
     },
     "metadata": {},
     "output_type": "display_data"
    },
    {
     "data": {
      "application/vnd.jupyter.widget-view+json": {
       "model_id": "7f9dea824f1b41958f5e4faface3bb7e",
       "version_major": 2,
       "version_minor": 0
      },
      "text/plain": [
       "  0%|          | 0/11873 [00:00<?, ?it/s]"
      ]
     },
     "metadata": {},
     "output_type": "display_data"
    },
    {
     "name": "stdout",
     "output_type": "stream",
     "text": [
      "Stopping training: No improvement in eval_f1 for 1 epochs\n"
     ]
    },
    {
     "name": "stderr",
     "output_type": "stream",
     "text": [
      "[I 2024-06-01 14:45:29,264] Trial 10 finished with value: 79.94771269798221 and parameters: {'no_answer_threshold': 0.9906946003180076, 'learning_rate': 9.003422689899536e-05, 'warmup_ratio': 0, 'weight_decay': 0.08554404776413711, 'adam_beta1': 0.9214195799215867, 'adam_beta2': 0.9952437466150929, 'adam_epsilon': 6.101763152223576e-07, 'lr_scheduler_type': 'linear'}. Best is trial 7 with value: 82.71972389509783.\n"
     ]
    },
    {
     "name": "stdout",
     "output_type": "stream",
     "text": [
      "Current Trial 11 parameters: {'no_answer_threshold': 0.998084950392893, 'learning_rate': 6.763965673979129e-05, 'warmup_ratio': 0, 'weight_decay': 0.07365375231601667, 'adam_beta1': 0.9276993853644699, 'adam_beta2': 0.995814993364783, 'adam_epsilon': 5.999533220967936e-07, 'lr_scheduler_type': 'linear'}\n"
     ]
    },
    {
     "name": "stderr",
     "output_type": "stream",
     "text": [
      "Some weights of DebertaV2ForQuestionAnswering were not initialized from the model checkpoint at microsoft/deberta-v3-base and are newly initialized: ['qa_outputs.bias', 'qa_outputs.weight']\n",
      "You should probably TRAIN this model on a down-stream task to be able to use it for predictions and inference.\n"
     ]
    },
    {
     "data": {
      "text/html": [
       "\n",
       "    <div>\n",
       "      \n",
       "      <progress value='11802' max='11802' style='width:300px; height:20px; vertical-align: middle;'></progress>\n",
       "      [11802/11802 33:33, Epoch 3/3]\n",
       "    </div>\n",
       "    <table border=\"1\" class=\"dataframe\">\n",
       "  <thead>\n",
       " <tr style=\"text-align: left;\">\n",
       "      <th>Epoch</th>\n",
       "      <th>Training Loss</th>\n",
       "      <th>Validation Loss</th>\n",
       "      <th>Exact</th>\n",
       "      <th>F1</th>\n",
       "      <th>Total</th>\n",
       "      <th>Hasans Exact</th>\n",
       "      <th>Hasans F1</th>\n",
       "      <th>Hasans Total</th>\n",
       "      <th>Noans Exact</th>\n",
       "      <th>Noans F1</th>\n",
       "      <th>Noans Total</th>\n",
       "      <th>Best Exact</th>\n",
       "      <th>Best Exact Thresh</th>\n",
       "      <th>Best F1</th>\n",
       "      <th>Best F1 Thresh</th>\n",
       "    </tr>\n",
       "  </thead>\n",
       "  <tbody>\n",
       "    <tr>\n",
       "      <td>1</td>\n",
       "      <td>0.863700</td>\n",
       "      <td>No log</td>\n",
       "      <td>64.406637</td>\n",
       "      <td>80.149405</td>\n",
       "      <td>11873</td>\n",
       "      <td>45.344130</td>\n",
       "      <td>76.874811</td>\n",
       "      <td>5928</td>\n",
       "      <td>83.414634</td>\n",
       "      <td>83.414634</td>\n",
       "      <td>5945</td>\n",
       "      <td>64.406637</td>\n",
       "      <td>0.000000</td>\n",
       "      <td>80.149405</td>\n",
       "      <td>0.000000</td>\n",
       "    </tr>\n",
       "    <tr>\n",
       "      <td>2</td>\n",
       "      <td>0.525700</td>\n",
       "      <td>No log</td>\n",
       "      <td>66.074286</td>\n",
       "      <td>81.628326</td>\n",
       "      <td>11873</td>\n",
       "      <td>43.690958</td>\n",
       "      <td>74.843644</td>\n",
       "      <td>5928</td>\n",
       "      <td>88.393608</td>\n",
       "      <td>88.393608</td>\n",
       "      <td>5945</td>\n",
       "      <td>66.074286</td>\n",
       "      <td>0.000000</td>\n",
       "      <td>81.628326</td>\n",
       "      <td>0.000000</td>\n",
       "    </tr>\n",
       "    <tr>\n",
       "      <td>3</td>\n",
       "      <td>0.286600</td>\n",
       "      <td>No log</td>\n",
       "      <td>65.189927</td>\n",
       "      <td>81.556860</td>\n",
       "      <td>11873</td>\n",
       "      <td>45.647773</td>\n",
       "      <td>78.428576</td>\n",
       "      <td>5928</td>\n",
       "      <td>84.676198</td>\n",
       "      <td>84.676198</td>\n",
       "      <td>5945</td>\n",
       "      <td>65.189927</td>\n",
       "      <td>0.000000</td>\n",
       "      <td>81.556860</td>\n",
       "      <td>0.000000</td>\n",
       "    </tr>\n",
       "  </tbody>\n",
       "</table><p>"
      ],
      "text/plain": [
       "<IPython.core.display.HTML object>"
      ]
     },
     "metadata": {},
     "output_type": "display_data"
    },
    {
     "data": {
      "application/vnd.jupyter.widget-view+json": {
       "model_id": "81b57a4c5ac940ceb1c570f2a9e83e0d",
       "version_major": 2,
       "version_minor": 0
      },
      "text/plain": [
       "  0%|          | 0/11873 [00:00<?, ?it/s]"
      ]
     },
     "metadata": {},
     "output_type": "display_data"
    },
    {
     "data": {
      "application/vnd.jupyter.widget-view+json": {
       "model_id": "f501398d49574da79b9cb3bc3b37d361",
       "version_major": 2,
       "version_minor": 0
      },
      "text/plain": [
       "  0%|          | 0/11873 [00:00<?, ?it/s]"
      ]
     },
     "metadata": {},
     "output_type": "display_data"
    },
    {
     "data": {
      "application/vnd.jupyter.widget-view+json": {
       "model_id": "21f14353513f425abeca5cd4a76bfa39",
       "version_major": 2,
       "version_minor": 0
      },
      "text/plain": [
       "  0%|          | 0/11873 [00:00<?, ?it/s]"
      ]
     },
     "metadata": {},
     "output_type": "display_data"
    },
    {
     "name": "stdout",
     "output_type": "stream",
     "text": [
      "Stopping training: No improvement in eval_f1 for 1 epochs\n"
     ]
    },
    {
     "data": {
      "text/html": [
       "\n",
       "    <div>\n",
       "      \n",
       "      <progress value='839' max='839' style='width:300px; height:20px; vertical-align: middle;'></progress>\n",
       "      [839/839 00:33]\n",
       "    </div>\n",
       "    "
      ],
      "text/plain": [
       "<IPython.core.display.HTML object>"
      ]
     },
     "metadata": {},
     "output_type": "display_data"
    },
    {
     "data": {
      "application/vnd.jupyter.widget-view+json": {
       "model_id": "70b80dbc1432488db392ff91925d2ee1",
       "version_major": 2,
       "version_minor": 0
      },
      "text/plain": [
       "  0%|          | 0/11873 [00:00<?, ?it/s]"
      ]
     },
     "metadata": {},
     "output_type": "display_data"
    },
    {
     "name": "stdout",
     "output_type": "stream",
     "text": [
      "Stopping training: No improvement in eval_f1 for 1 epochs\n"
     ]
    },
    {
     "name": "stderr",
     "output_type": "stream",
     "text": [
      "[I 2024-06-01 15:20:16,240] Trial 11 finished with value: 81.6283263862729 and parameters: {'no_answer_threshold': 0.998084950392893, 'learning_rate': 6.763965673979129e-05, 'warmup_ratio': 0, 'weight_decay': 0.07365375231601667, 'adam_beta1': 0.9276993853644699, 'adam_beta2': 0.995814993364783, 'adam_epsilon': 5.999533220967936e-07, 'lr_scheduler_type': 'linear'}. Best is trial 7 with value: 82.71972389509783.\n"
     ]
    },
    {
     "name": "stdout",
     "output_type": "stream",
     "text": [
      "Current Trial 12 parameters: {'no_answer_threshold': 0.8015402173568396, 'learning_rate': 9.05899148527925e-05, 'warmup_ratio': 0, 'weight_decay': 0.06944897891685765, 'adam_beta1': 0.9477018519654296, 'adam_beta2': 0.9957091358864453, 'adam_epsilon': 6.06699206340358e-07, 'lr_scheduler_type': 'linear'}\n"
     ]
    },
    {
     "name": "stderr",
     "output_type": "stream",
     "text": [
      "Some weights of DebertaV2ForQuestionAnswering were not initialized from the model checkpoint at microsoft/deberta-v3-base and are newly initialized: ['qa_outputs.bias', 'qa_outputs.weight']\n",
      "You should probably TRAIN this model on a down-stream task to be able to use it for predictions and inference.\n"
     ]
    },
    {
     "data": {
      "text/html": [
       "\n",
       "    <div>\n",
       "      \n",
       "      <progress value='11802' max='11802' style='width:300px; height:20px; vertical-align: middle;'></progress>\n",
       "      [11802/11802 33:44, Epoch 3/3]\n",
       "    </div>\n",
       "    <table border=\"1\" class=\"dataframe\">\n",
       "  <thead>\n",
       " <tr style=\"text-align: left;\">\n",
       "      <th>Epoch</th>\n",
       "      <th>Training Loss</th>\n",
       "      <th>Validation Loss</th>\n",
       "      <th>Exact</th>\n",
       "      <th>F1</th>\n",
       "      <th>Total</th>\n",
       "      <th>Hasans Exact</th>\n",
       "      <th>Hasans F1</th>\n",
       "      <th>Hasans Total</th>\n",
       "      <th>Noans Exact</th>\n",
       "      <th>Noans F1</th>\n",
       "      <th>Noans Total</th>\n",
       "      <th>Best Exact</th>\n",
       "      <th>Best Exact Thresh</th>\n",
       "      <th>Best F1</th>\n",
       "      <th>Best F1 Thresh</th>\n",
       "    </tr>\n",
       "  </thead>\n",
       "  <tbody>\n",
       "    <tr>\n",
       "      <td>1</td>\n",
       "      <td>0.905500</td>\n",
       "      <td>No log</td>\n",
       "      <td>62.688453</td>\n",
       "      <td>78.264508</td>\n",
       "      <td>11873</td>\n",
       "      <td>45.226046</td>\n",
       "      <td>76.422825</td>\n",
       "      <td>5928</td>\n",
       "      <td>80.100925</td>\n",
       "      <td>80.100925</td>\n",
       "      <td>5945</td>\n",
       "      <td>62.696875</td>\n",
       "      <td>0.000000</td>\n",
       "      <td>78.272931</td>\n",
       "      <td>0.000000</td>\n",
       "    </tr>\n",
       "    <tr>\n",
       "      <td>2</td>\n",
       "      <td>0.558300</td>\n",
       "      <td>No log</td>\n",
       "      <td>65.189927</td>\n",
       "      <td>80.530253</td>\n",
       "      <td>11873</td>\n",
       "      <td>44.618758</td>\n",
       "      <td>75.343404</td>\n",
       "      <td>5928</td>\n",
       "      <td>85.702271</td>\n",
       "      <td>85.702271</td>\n",
       "      <td>5945</td>\n",
       "      <td>65.189927</td>\n",
       "      <td>0.000000</td>\n",
       "      <td>80.530253</td>\n",
       "      <td>0.000000</td>\n",
       "    </tr>\n",
       "    <tr>\n",
       "      <td>3</td>\n",
       "      <td>0.294200</td>\n",
       "      <td>No log</td>\n",
       "      <td>64.642466</td>\n",
       "      <td>80.863596</td>\n",
       "      <td>11873</td>\n",
       "      <td>45.479082</td>\n",
       "      <td>77.967860</td>\n",
       "      <td>5928</td>\n",
       "      <td>83.751051</td>\n",
       "      <td>83.751051</td>\n",
       "      <td>5945</td>\n",
       "      <td>64.642466</td>\n",
       "      <td>0.000000</td>\n",
       "      <td>80.863596</td>\n",
       "      <td>0.000000</td>\n",
       "    </tr>\n",
       "  </tbody>\n",
       "</table><p>"
      ],
      "text/plain": [
       "<IPython.core.display.HTML object>"
      ]
     },
     "metadata": {},
     "output_type": "display_data"
    },
    {
     "data": {
      "application/vnd.jupyter.widget-view+json": {
       "model_id": "7c2c7024ba62457ebff9031085e3a4d4",
       "version_major": 2,
       "version_minor": 0
      },
      "text/plain": [
       "  0%|          | 0/11873 [00:00<?, ?it/s]"
      ]
     },
     "metadata": {},
     "output_type": "display_data"
    },
    {
     "data": {
      "application/vnd.jupyter.widget-view+json": {
       "model_id": "f7ad38f24fbc467e972c75fc67067e55",
       "version_major": 2,
       "version_minor": 0
      },
      "text/plain": [
       "  0%|          | 0/11873 [00:00<?, ?it/s]"
      ]
     },
     "metadata": {},
     "output_type": "display_data"
    },
    {
     "data": {
      "application/vnd.jupyter.widget-view+json": {
       "model_id": "4978621420c84543913beb54a9e60903",
       "version_major": 2,
       "version_minor": 0
      },
      "text/plain": [
       "  0%|          | 0/11873 [00:00<?, ?it/s]"
      ]
     },
     "metadata": {},
     "output_type": "display_data"
    },
    {
     "data": {
      "text/html": [
       "\n",
       "    <div>\n",
       "      \n",
       "      <progress value='839' max='839' style='width:300px; height:20px; vertical-align: middle;'></progress>\n",
       "      [839/839 00:33]\n",
       "    </div>\n",
       "    "
      ],
      "text/plain": [
       "<IPython.core.display.HTML object>"
      ]
     },
     "metadata": {},
     "output_type": "display_data"
    },
    {
     "data": {
      "application/vnd.jupyter.widget-view+json": {
       "model_id": "ba2acaa6676449d888110f7f146e5caa",
       "version_major": 2,
       "version_minor": 0
      },
      "text/plain": [
       "  0%|          | 0/11873 [00:00<?, ?it/s]"
      ]
     },
     "metadata": {},
     "output_type": "display_data"
    },
    {
     "name": "stdout",
     "output_type": "stream",
     "text": [
      "Stopping training: No improvement in eval_f1 for 1 epochs\n"
     ]
    },
    {
     "name": "stderr",
     "output_type": "stream",
     "text": [
      "[I 2024-06-01 15:55:12,945] Trial 12 finished with value: 80.86359595130789 and parameters: {'no_answer_threshold': 0.8015402173568396, 'learning_rate': 9.05899148527925e-05, 'warmup_ratio': 0, 'weight_decay': 0.06944897891685765, 'adam_beta1': 0.9477018519654296, 'adam_beta2': 0.9957091358864453, 'adam_epsilon': 6.06699206340358e-07, 'lr_scheduler_type': 'linear'}. Best is trial 7 with value: 82.71972389509783.\n"
     ]
    },
    {
     "name": "stdout",
     "output_type": "stream",
     "text": [
      "Current Trial 13 parameters: {'no_answer_threshold': 0.765799982685518, 'learning_rate': 2.1678242400428056e-05, 'warmup_ratio': 0, 'weight_decay': 0.059025803798619145, 'adam_beta1': 0.9011234975323856, 'adam_beta2': 0.9960053691426408, 'adam_epsilon': 6.739175065904733e-07, 'lr_scheduler_type': 'cosine_with_restarts'}\n"
     ]
    },
    {
     "name": "stderr",
     "output_type": "stream",
     "text": [
      "Some weights of DebertaV2ForQuestionAnswering were not initialized from the model checkpoint at microsoft/deberta-v3-base and are newly initialized: ['qa_outputs.bias', 'qa_outputs.weight']\n",
      "You should probably TRAIN this model on a down-stream task to be able to use it for predictions and inference.\n"
     ]
    },
    {
     "data": {
      "text/html": [
       "\n",
       "    <div>\n",
       "      \n",
       "      <progress value='11802' max='11802' style='width:300px; height:20px; vertical-align: middle;'></progress>\n",
       "      [11802/11802 33:23, Epoch 3/3]\n",
       "    </div>\n",
       "    <table border=\"1\" class=\"dataframe\">\n",
       "  <thead>\n",
       " <tr style=\"text-align: left;\">\n",
       "      <th>Epoch</th>\n",
       "      <th>Training Loss</th>\n",
       "      <th>Validation Loss</th>\n",
       "      <th>Exact</th>\n",
       "      <th>F1</th>\n",
       "      <th>Total</th>\n",
       "      <th>Hasans Exact</th>\n",
       "      <th>Hasans F1</th>\n",
       "      <th>Hasans Total</th>\n",
       "      <th>Noans Exact</th>\n",
       "      <th>Noans F1</th>\n",
       "      <th>Noans Total</th>\n",
       "      <th>Best Exact</th>\n",
       "      <th>Best Exact Thresh</th>\n",
       "      <th>Best F1</th>\n",
       "      <th>Best F1 Thresh</th>\n",
       "    </tr>\n",
       "  </thead>\n",
       "  <tbody>\n",
       "    <tr>\n",
       "      <td>1</td>\n",
       "      <td>0.849000</td>\n",
       "      <td>No log</td>\n",
       "      <td>65.451023</td>\n",
       "      <td>81.567032</td>\n",
       "      <td>11873</td>\n",
       "      <td>46.406883</td>\n",
       "      <td>78.685117</td>\n",
       "      <td>5928</td>\n",
       "      <td>84.440706</td>\n",
       "      <td>84.440706</td>\n",
       "      <td>5945</td>\n",
       "      <td>65.451023</td>\n",
       "      <td>0.000000</td>\n",
       "      <td>81.567032</td>\n",
       "      <td>0.000000</td>\n",
       "    </tr>\n",
       "    <tr>\n",
       "      <td>2</td>\n",
       "      <td>0.552000</td>\n",
       "      <td>No log</td>\n",
       "      <td>66.369073</td>\n",
       "      <td>82.603197</td>\n",
       "      <td>11873</td>\n",
       "      <td>46.693657</td>\n",
       "      <td>79.208461</td>\n",
       "      <td>5928</td>\n",
       "      <td>85.988225</td>\n",
       "      <td>85.988225</td>\n",
       "      <td>5945</td>\n",
       "      <td>66.369073</td>\n",
       "      <td>0.000000</td>\n",
       "      <td>82.603197</td>\n",
       "      <td>0.000000</td>\n",
       "    </tr>\n",
       "    <tr>\n",
       "      <td>3</td>\n",
       "      <td>0.399300</td>\n",
       "      <td>No log</td>\n",
       "      <td>65.897414</td>\n",
       "      <td>82.362705</td>\n",
       "      <td>11873</td>\n",
       "      <td>46.474359</td>\n",
       "      <td>79.452159</td>\n",
       "      <td>5928</td>\n",
       "      <td>85.264929</td>\n",
       "      <td>85.264929</td>\n",
       "      <td>5945</td>\n",
       "      <td>65.897414</td>\n",
       "      <td>0.000000</td>\n",
       "      <td>82.362705</td>\n",
       "      <td>0.000000</td>\n",
       "    </tr>\n",
       "  </tbody>\n",
       "</table><p>"
      ],
      "text/plain": [
       "<IPython.core.display.HTML object>"
      ]
     },
     "metadata": {},
     "output_type": "display_data"
    },
    {
     "data": {
      "application/vnd.jupyter.widget-view+json": {
       "model_id": "990f635b14804e08988d790094383bac",
       "version_major": 2,
       "version_minor": 0
      },
      "text/plain": [
       "  0%|          | 0/11873 [00:00<?, ?it/s]"
      ]
     },
     "metadata": {},
     "output_type": "display_data"
    },
    {
     "data": {
      "application/vnd.jupyter.widget-view+json": {
       "model_id": "d71ed7561cd6475a976ebb7378774f68",
       "version_major": 2,
       "version_minor": 0
      },
      "text/plain": [
       "  0%|          | 0/11873 [00:00<?, ?it/s]"
      ]
     },
     "metadata": {},
     "output_type": "display_data"
    },
    {
     "data": {
      "application/vnd.jupyter.widget-view+json": {
       "model_id": "b92b1f2968b841a2a66e067528f9fb87",
       "version_major": 2,
       "version_minor": 0
      },
      "text/plain": [
       "  0%|          | 0/11873 [00:00<?, ?it/s]"
      ]
     },
     "metadata": {},
     "output_type": "display_data"
    },
    {
     "name": "stdout",
     "output_type": "stream",
     "text": [
      "Stopping training: No improvement in eval_f1 for 1 epochs\n"
     ]
    },
    {
     "data": {
      "text/html": [
       "\n",
       "    <div>\n",
       "      \n",
       "      <progress value='839' max='839' style='width:300px; height:20px; vertical-align: middle;'></progress>\n",
       "      [839/839 00:33]\n",
       "    </div>\n",
       "    "
      ],
      "text/plain": [
       "<IPython.core.display.HTML object>"
      ]
     },
     "metadata": {},
     "output_type": "display_data"
    },
    {
     "data": {
      "application/vnd.jupyter.widget-view+json": {
       "model_id": "1b784848c9714332aefa79aaa9aa963b",
       "version_major": 2,
       "version_minor": 0
      },
      "text/plain": [
       "  0%|          | 0/11873 [00:00<?, ?it/s]"
      ]
     },
     "metadata": {},
     "output_type": "display_data"
    },
    {
     "name": "stdout",
     "output_type": "stream",
     "text": [
      "Stopping training: No improvement in eval_f1 for 1 epochs\n"
     ]
    },
    {
     "name": "stderr",
     "output_type": "stream",
     "text": [
      "[I 2024-06-01 16:29:46,049] Trial 13 finished with value: 82.6031970399873 and parameters: {'no_answer_threshold': 0.765799982685518, 'learning_rate': 2.1678242400428056e-05, 'warmup_ratio': 0, 'weight_decay': 0.059025803798619145, 'adam_beta1': 0.9011234975323856, 'adam_beta2': 0.9960053691426408, 'adam_epsilon': 6.739175065904733e-07, 'lr_scheduler_type': 'cosine_with_restarts'}. Best is trial 7 with value: 82.71972389509783.\n"
     ]
    },
    {
     "name": "stdout",
     "output_type": "stream",
     "text": [
      "Current Trial 14 parameters: {'no_answer_threshold': 0.6928630663409341, 'learning_rate': 2.0514368578346284e-05, 'warmup_ratio': 0, 'weight_decay': 0.1342321880815297, 'adam_beta1': 0.900659731813995, 'adam_beta2': 0.9941137707575819, 'adam_epsilon': 7.477430765077506e-07, 'lr_scheduler_type': 'cosine_with_restarts'}\n"
     ]
    },
    {
     "name": "stderr",
     "output_type": "stream",
     "text": [
      "Some weights of DebertaV2ForQuestionAnswering were not initialized from the model checkpoint at microsoft/deberta-v3-base and are newly initialized: ['qa_outputs.bias', 'qa_outputs.weight']\n",
      "You should probably TRAIN this model on a down-stream task to be able to use it for predictions and inference.\n"
     ]
    },
    {
     "data": {
      "text/html": [
       "\n",
       "    <div>\n",
       "      \n",
       "      <progress value='11802' max='11802' style='width:300px; height:20px; vertical-align: middle;'></progress>\n",
       "      [11802/11802 33:11, Epoch 3/3]\n",
       "    </div>\n",
       "    <table border=\"1\" class=\"dataframe\">\n",
       "  <thead>\n",
       " <tr style=\"text-align: left;\">\n",
       "      <th>Epoch</th>\n",
       "      <th>Training Loss</th>\n",
       "      <th>Validation Loss</th>\n",
       "      <th>Exact</th>\n",
       "      <th>F1</th>\n",
       "      <th>Total</th>\n",
       "      <th>Hasans Exact</th>\n",
       "      <th>Hasans F1</th>\n",
       "      <th>Hasans Total</th>\n",
       "      <th>Noans Exact</th>\n",
       "      <th>Noans F1</th>\n",
       "      <th>Noans Total</th>\n",
       "      <th>Best Exact</th>\n",
       "      <th>Best Exact Thresh</th>\n",
       "      <th>Best F1</th>\n",
       "      <th>Best F1 Thresh</th>\n",
       "    </tr>\n",
       "  </thead>\n",
       "  <tbody>\n",
       "    <tr>\n",
       "      <td>1</td>\n",
       "      <td>0.850100</td>\n",
       "      <td>No log</td>\n",
       "      <td>65.560515</td>\n",
       "      <td>81.662380</td>\n",
       "      <td>11873</td>\n",
       "      <td>46.221323</td>\n",
       "      <td>78.471227</td>\n",
       "      <td>5928</td>\n",
       "      <td>84.844407</td>\n",
       "      <td>84.844407</td>\n",
       "      <td>5945</td>\n",
       "      <td>65.560515</td>\n",
       "      <td>0.000000</td>\n",
       "      <td>81.662380</td>\n",
       "      <td>0.000000</td>\n",
       "    </tr>\n",
       "    <tr>\n",
       "      <td>2</td>\n",
       "      <td>0.555700</td>\n",
       "      <td>No log</td>\n",
       "      <td>66.638592</td>\n",
       "      <td>82.789816</td>\n",
       "      <td>11873</td>\n",
       "      <td>46.727395</td>\n",
       "      <td>79.076162</td>\n",
       "      <td>5928</td>\n",
       "      <td>86.492851</td>\n",
       "      <td>86.492851</td>\n",
       "      <td>5945</td>\n",
       "      <td>66.638592</td>\n",
       "      <td>0.000000</td>\n",
       "      <td>82.789816</td>\n",
       "      <td>0.000000</td>\n",
       "    </tr>\n",
       "    <tr>\n",
       "      <td>3</td>\n",
       "      <td>0.407300</td>\n",
       "      <td>No log</td>\n",
       "      <td>65.922682</td>\n",
       "      <td>82.364888</td>\n",
       "      <td>11873</td>\n",
       "      <td>46.845479</td>\n",
       "      <td>79.777044</td>\n",
       "      <td>5928</td>\n",
       "      <td>84.945332</td>\n",
       "      <td>84.945332</td>\n",
       "      <td>5945</td>\n",
       "      <td>65.922682</td>\n",
       "      <td>0.000000</td>\n",
       "      <td>82.364888</td>\n",
       "      <td>0.000000</td>\n",
       "    </tr>\n",
       "  </tbody>\n",
       "</table><p>"
      ],
      "text/plain": [
       "<IPython.core.display.HTML object>"
      ]
     },
     "metadata": {},
     "output_type": "display_data"
    },
    {
     "data": {
      "application/vnd.jupyter.widget-view+json": {
       "model_id": "bd2318b852254c9fb04fa3e885c70bbd",
       "version_major": 2,
       "version_minor": 0
      },
      "text/plain": [
       "  0%|          | 0/11873 [00:00<?, ?it/s]"
      ]
     },
     "metadata": {},
     "output_type": "display_data"
    },
    {
     "data": {
      "application/vnd.jupyter.widget-view+json": {
       "model_id": "b14f12b477d94b5387c37383d2648e48",
       "version_major": 2,
       "version_minor": 0
      },
      "text/plain": [
       "  0%|          | 0/11873 [00:00<?, ?it/s]"
      ]
     },
     "metadata": {},
     "output_type": "display_data"
    },
    {
     "data": {
      "application/vnd.jupyter.widget-view+json": {
       "model_id": "6ecf527199a0406ab4849a06e6716dab",
       "version_major": 2,
       "version_minor": 0
      },
      "text/plain": [
       "  0%|          | 0/11873 [00:00<?, ?it/s]"
      ]
     },
     "metadata": {},
     "output_type": "display_data"
    },
    {
     "name": "stdout",
     "output_type": "stream",
     "text": [
      "Stopping training: No improvement in eval_f1 for 1 epochs\n"
     ]
    },
    {
     "data": {
      "text/html": [
       "\n",
       "    <div>\n",
       "      \n",
       "      <progress value='839' max='839' style='width:300px; height:20px; vertical-align: middle;'></progress>\n",
       "      [839/839 00:32]\n",
       "    </div>\n",
       "    "
      ],
      "text/plain": [
       "<IPython.core.display.HTML object>"
      ]
     },
     "metadata": {},
     "output_type": "display_data"
    },
    {
     "data": {
      "application/vnd.jupyter.widget-view+json": {
       "model_id": "0b8c6d65063d4de7b18ca04f85ef9e6f",
       "version_major": 2,
       "version_minor": 0
      },
      "text/plain": [
       "  0%|          | 0/11873 [00:00<?, ?it/s]"
      ]
     },
     "metadata": {},
     "output_type": "display_data"
    },
    {
     "name": "stdout",
     "output_type": "stream",
     "text": [
      "Stopping training: No improvement in eval_f1 for 1 epochs\n"
     ]
    },
    {
     "name": "stderr",
     "output_type": "stream",
     "text": [
      "[I 2024-06-01 17:04:05,302] Trial 14 finished with value: 82.78981614414474 and parameters: {'no_answer_threshold': 0.6928630663409341, 'learning_rate': 2.0514368578346284e-05, 'warmup_ratio': 0, 'weight_decay': 0.1342321880815297, 'adam_beta1': 0.900659731813995, 'adam_beta2': 0.9941137707575819, 'adam_epsilon': 7.477430765077506e-07, 'lr_scheduler_type': 'cosine_with_restarts'}. Best is trial 14 with value: 82.78981614414474.\n"
     ]
    }
   ],
   "source": [
    "study.optimize(objective, n_trials=5)"
   ]
  },
  {
   "cell_type": "code",
   "execution_count": 59,
   "id": "b19eed5c-fa7f-4c5e-84c8-67680203bc88",
   "metadata": {
    "tags": []
   },
   "outputs": [
    {
     "name": "stdout",
     "output_type": "stream",
     "text": [
      "Current Trial 15 parameters: {'no_answer_threshold': 0.617006943109343, 'learning_rate': 2.3357644013738568e-05, 'warmup_ratio': 0, 'weight_decay': 0.13858361731094596, 'adam_beta1': 0.901477727220373, 'adam_beta2': 0.9939204674108216, 'adam_epsilon': 7.85744768681602e-07, 'lr_scheduler_type': 'cosine_with_restarts'}\n"
     ]
    },
    {
     "name": "stderr",
     "output_type": "stream",
     "text": [
      "Some weights of DebertaV2ForQuestionAnswering were not initialized from the model checkpoint at microsoft/deberta-v3-base and are newly initialized: ['qa_outputs.bias', 'qa_outputs.weight']\n",
      "You should probably TRAIN this model on a down-stream task to be able to use it for predictions and inference.\n"
     ]
    },
    {
     "data": {
      "text/html": [
       "\n",
       "    <div>\n",
       "      \n",
       "      <progress value='11802' max='11802' style='width:300px; height:20px; vertical-align: middle;'></progress>\n",
       "      [11802/11802 33:10, Epoch 3/3]\n",
       "    </div>\n",
       "    <table border=\"1\" class=\"dataframe\">\n",
       "  <thead>\n",
       " <tr style=\"text-align: left;\">\n",
       "      <th>Epoch</th>\n",
       "      <th>Training Loss</th>\n",
       "      <th>Validation Loss</th>\n",
       "      <th>Exact</th>\n",
       "      <th>F1</th>\n",
       "      <th>Total</th>\n",
       "      <th>Hasans Exact</th>\n",
       "      <th>Hasans F1</th>\n",
       "      <th>Hasans Total</th>\n",
       "      <th>Noans Exact</th>\n",
       "      <th>Noans F1</th>\n",
       "      <th>Noans Total</th>\n",
       "      <th>Best Exact</th>\n",
       "      <th>Best Exact Thresh</th>\n",
       "      <th>Best F1</th>\n",
       "      <th>Best F1 Thresh</th>\n",
       "    </tr>\n",
       "  </thead>\n",
       "  <tbody>\n",
       "    <tr>\n",
       "      <td>1</td>\n",
       "      <td>0.843000</td>\n",
       "      <td>No log</td>\n",
       "      <td>65.762655</td>\n",
       "      <td>81.891151</td>\n",
       "      <td>11873</td>\n",
       "      <td>46.508097</td>\n",
       "      <td>78.811341</td>\n",
       "      <td>5928</td>\n",
       "      <td>84.962153</td>\n",
       "      <td>84.962153</td>\n",
       "      <td>5945</td>\n",
       "      <td>65.762655</td>\n",
       "      <td>0.000000</td>\n",
       "      <td>81.891151</td>\n",
       "      <td>0.000000</td>\n",
       "    </tr>\n",
       "    <tr>\n",
       "      <td>2</td>\n",
       "      <td>0.541400</td>\n",
       "      <td>No log</td>\n",
       "      <td>66.756506</td>\n",
       "      <td>83.100389</td>\n",
       "      <td>11873</td>\n",
       "      <td>46.018893</td>\n",
       "      <td>78.753528</td>\n",
       "      <td>5928</td>\n",
       "      <td>87.434819</td>\n",
       "      <td>87.434819</td>\n",
       "      <td>5945</td>\n",
       "      <td>66.756506</td>\n",
       "      <td>0.000000</td>\n",
       "      <td>83.100389</td>\n",
       "      <td>0.000000</td>\n",
       "    </tr>\n",
       "    <tr>\n",
       "      <td>3</td>\n",
       "      <td>0.384400</td>\n",
       "      <td>No log</td>\n",
       "      <td>66.225891</td>\n",
       "      <td>82.635928</td>\n",
       "      <td>11873</td>\n",
       "      <td>46.474359</td>\n",
       "      <td>79.341494</td>\n",
       "      <td>5928</td>\n",
       "      <td>85.920942</td>\n",
       "      <td>85.920942</td>\n",
       "      <td>5945</td>\n",
       "      <td>66.225891</td>\n",
       "      <td>0.000000</td>\n",
       "      <td>82.635928</td>\n",
       "      <td>0.000000</td>\n",
       "    </tr>\n",
       "  </tbody>\n",
       "</table><p>"
      ],
      "text/plain": [
       "<IPython.core.display.HTML object>"
      ]
     },
     "metadata": {},
     "output_type": "display_data"
    },
    {
     "data": {
      "application/vnd.jupyter.widget-view+json": {
       "model_id": "8f40fb9d94194b608c87f41a6fc2c1ac",
       "version_major": 2,
       "version_minor": 0
      },
      "text/plain": [
       "  0%|          | 0/11873 [00:00<?, ?it/s]"
      ]
     },
     "metadata": {},
     "output_type": "display_data"
    },
    {
     "data": {
      "application/vnd.jupyter.widget-view+json": {
       "model_id": "4093655cbf5c40a0959faefb7bf6987a",
       "version_major": 2,
       "version_minor": 0
      },
      "text/plain": [
       "  0%|          | 0/11873 [00:00<?, ?it/s]"
      ]
     },
     "metadata": {},
     "output_type": "display_data"
    },
    {
     "data": {
      "application/vnd.jupyter.widget-view+json": {
       "model_id": "1cb0042c47b247ef80c8fad9ff55fa5d",
       "version_major": 2,
       "version_minor": 0
      },
      "text/plain": [
       "  0%|          | 0/11873 [00:00<?, ?it/s]"
      ]
     },
     "metadata": {},
     "output_type": "display_data"
    },
    {
     "name": "stdout",
     "output_type": "stream",
     "text": [
      "Stopping training: No improvement in eval_f1 for 1 epochs\n"
     ]
    },
    {
     "data": {
      "text/html": [
       "\n",
       "    <div>\n",
       "      \n",
       "      <progress value='839' max='839' style='width:300px; height:20px; vertical-align: middle;'></progress>\n",
       "      [839/839 00:32]\n",
       "    </div>\n",
       "    "
      ],
      "text/plain": [
       "<IPython.core.display.HTML object>"
      ]
     },
     "metadata": {},
     "output_type": "display_data"
    },
    {
     "data": {
      "application/vnd.jupyter.widget-view+json": {
       "model_id": "561e4bc16ee3423188166a1c475eecdd",
       "version_major": 2,
       "version_minor": 0
      },
      "text/plain": [
       "  0%|          | 0/11873 [00:00<?, ?it/s]"
      ]
     },
     "metadata": {},
     "output_type": "display_data"
    },
    {
     "name": "stdout",
     "output_type": "stream",
     "text": [
      "Stopping training: No improvement in eval_f1 for 1 epochs\n"
     ]
    },
    {
     "name": "stderr",
     "output_type": "stream",
     "text": [
      "[I 2024-06-01 17:38:24,018] Trial 15 finished with value: 83.10038870266908 and parameters: {'no_answer_threshold': 0.617006943109343, 'learning_rate': 2.3357644013738568e-05, 'warmup_ratio': 0, 'weight_decay': 0.13858361731094596, 'adam_beta1': 0.901477727220373, 'adam_beta2': 0.9939204674108216, 'adam_epsilon': 7.85744768681602e-07, 'lr_scheduler_type': 'cosine_with_restarts'}. Best is trial 15 with value: 83.10038870266908.\n"
     ]
    },
    {
     "name": "stdout",
     "output_type": "stream",
     "text": [
      "Current Trial 16 parameters: {'no_answer_threshold': 0.5991588753084078, 'learning_rate': 8.019665854932339e-06, 'warmup_ratio': 0, 'weight_decay': 0.1334934902021748, 'adam_beta1': 0.9102934020499901, 'adam_beta2': 0.9945150271184439, 'adam_epsilon': 9.68408699368353e-07, 'lr_scheduler_type': 'cosine_with_restarts'}\n"
     ]
    },
    {
     "name": "stderr",
     "output_type": "stream",
     "text": [
      "Some weights of DebertaV2ForQuestionAnswering were not initialized from the model checkpoint at microsoft/deberta-v3-base and are newly initialized: ['qa_outputs.bias', 'qa_outputs.weight']\n",
      "You should probably TRAIN this model on a down-stream task to be able to use it for predictions and inference.\n"
     ]
    },
    {
     "data": {
      "text/html": [
       "\n",
       "    <div>\n",
       "      \n",
       "      <progress value='11802' max='11802' style='width:300px; height:20px; vertical-align: middle;'></progress>\n",
       "      [11802/11802 33:51, Epoch 3/3]\n",
       "    </div>\n",
       "    <table border=\"1\" class=\"dataframe\">\n",
       "  <thead>\n",
       " <tr style=\"text-align: left;\">\n",
       "      <th>Epoch</th>\n",
       "      <th>Training Loss</th>\n",
       "      <th>Validation Loss</th>\n",
       "      <th>Exact</th>\n",
       "      <th>F1</th>\n",
       "      <th>Total</th>\n",
       "      <th>Hasans Exact</th>\n",
       "      <th>Hasans F1</th>\n",
       "      <th>Hasans Total</th>\n",
       "      <th>Noans Exact</th>\n",
       "      <th>Noans F1</th>\n",
       "      <th>Noans Total</th>\n",
       "      <th>Best Exact</th>\n",
       "      <th>Best Exact Thresh</th>\n",
       "      <th>Best F1</th>\n",
       "      <th>Best F1 Thresh</th>\n",
       "    </tr>\n",
       "  </thead>\n",
       "  <tbody>\n",
       "    <tr>\n",
       "      <td>1</td>\n",
       "      <td>0.949200</td>\n",
       "      <td>No log</td>\n",
       "      <td>61.576687</td>\n",
       "      <td>77.842575</td>\n",
       "      <td>11873</td>\n",
       "      <td>46.305668</td>\n",
       "      <td>78.884091</td>\n",
       "      <td>5928</td>\n",
       "      <td>76.804037</td>\n",
       "      <td>76.804037</td>\n",
       "      <td>5945</td>\n",
       "      <td>61.576687</td>\n",
       "      <td>0.000000</td>\n",
       "      <td>77.842575</td>\n",
       "      <td>0.000000</td>\n",
       "    </tr>\n",
       "    <tr>\n",
       "      <td>2</td>\n",
       "      <td>0.711000</td>\n",
       "      <td>No log</td>\n",
       "      <td>65.130969</td>\n",
       "      <td>80.969908</td>\n",
       "      <td>11873</td>\n",
       "      <td>46.271930</td>\n",
       "      <td>77.995229</td>\n",
       "      <td>5928</td>\n",
       "      <td>83.936081</td>\n",
       "      <td>83.936081</td>\n",
       "      <td>5945</td>\n",
       "      <td>65.130969</td>\n",
       "      <td>0.000000</td>\n",
       "      <td>80.969908</td>\n",
       "      <td>0.000000</td>\n",
       "    </tr>\n",
       "    <tr>\n",
       "      <td>3</td>\n",
       "      <td>0.614500</td>\n",
       "      <td>No log</td>\n",
       "      <td>63.951823</td>\n",
       "      <td>80.212764</td>\n",
       "      <td>11873</td>\n",
       "      <td>47.098516</td>\n",
       "      <td>79.667030</td>\n",
       "      <td>5928</td>\n",
       "      <td>80.756939</td>\n",
       "      <td>80.756939</td>\n",
       "      <td>5945</td>\n",
       "      <td>63.943401</td>\n",
       "      <td>0.000000</td>\n",
       "      <td>80.204342</td>\n",
       "      <td>0.000000</td>\n",
       "    </tr>\n",
       "  </tbody>\n",
       "</table><p>"
      ],
      "text/plain": [
       "<IPython.core.display.HTML object>"
      ]
     },
     "metadata": {},
     "output_type": "display_data"
    },
    {
     "data": {
      "application/vnd.jupyter.widget-view+json": {
       "model_id": "be000a264fe64084a1fc71136e9d0cb2",
       "version_major": 2,
       "version_minor": 0
      },
      "text/plain": [
       "  0%|          | 0/11873 [00:00<?, ?it/s]"
      ]
     },
     "metadata": {},
     "output_type": "display_data"
    },
    {
     "data": {
      "application/vnd.jupyter.widget-view+json": {
       "model_id": "669398f27a46445b9557e62c72d4a08a",
       "version_major": 2,
       "version_minor": 0
      },
      "text/plain": [
       "  0%|          | 0/11873 [00:00<?, ?it/s]"
      ]
     },
     "metadata": {},
     "output_type": "display_data"
    },
    {
     "data": {
      "application/vnd.jupyter.widget-view+json": {
       "model_id": "84786630d81e4ff9bdd59509171f4f70",
       "version_major": 2,
       "version_minor": 0
      },
      "text/plain": [
       "  0%|          | 0/11873 [00:00<?, ?it/s]"
      ]
     },
     "metadata": {},
     "output_type": "display_data"
    },
    {
     "name": "stdout",
     "output_type": "stream",
     "text": [
      "Stopping training: No improvement in eval_f1 for 1 epochs\n"
     ]
    },
    {
     "data": {
      "text/html": [
       "\n",
       "    <div>\n",
       "      \n",
       "      <progress value='839' max='839' style='width:300px; height:20px; vertical-align: middle;'></progress>\n",
       "      [839/839 00:34]\n",
       "    </div>\n",
       "    "
      ],
      "text/plain": [
       "<IPython.core.display.HTML object>"
      ]
     },
     "metadata": {},
     "output_type": "display_data"
    },
    {
     "data": {
      "application/vnd.jupyter.widget-view+json": {
       "model_id": "9ba66180801a45e58c50ca20acedc6e8",
       "version_major": 2,
       "version_minor": 0
      },
      "text/plain": [
       "  0%|          | 0/11873 [00:00<?, ?it/s]"
      ]
     },
     "metadata": {},
     "output_type": "display_data"
    },
    {
     "name": "stdout",
     "output_type": "stream",
     "text": [
      "Stopping training: No improvement in eval_f1 for 1 epochs\n"
     ]
    },
    {
     "name": "stderr",
     "output_type": "stream",
     "text": [
      "[I 2024-06-01 18:13:28,979] Trial 16 finished with value: 80.96990789478613 and parameters: {'no_answer_threshold': 0.5991588753084078, 'learning_rate': 8.019665854932339e-06, 'warmup_ratio': 0, 'weight_decay': 0.1334934902021748, 'adam_beta1': 0.9102934020499901, 'adam_beta2': 0.9945150271184439, 'adam_epsilon': 9.68408699368353e-07, 'lr_scheduler_type': 'cosine_with_restarts'}. Best is trial 15 with value: 83.10038870266908.\n"
     ]
    },
    {
     "name": "stdout",
     "output_type": "stream",
     "text": [
      "Current Trial 17 parameters: {'no_answer_threshold': 0.586993422938494, 'learning_rate': 1.5934394053201185e-05, 'warmup_ratio': 0, 'weight_decay': 0.13715485558155746, 'adam_beta1': 0.8814663602539836, 'adam_beta2': 0.993951866019348, 'adam_epsilon': 7.979230218151979e-07, 'lr_scheduler_type': 'cosine_with_restarts'}\n"
     ]
    },
    {
     "name": "stderr",
     "output_type": "stream",
     "text": [
      "Some weights of DebertaV2ForQuestionAnswering were not initialized from the model checkpoint at microsoft/deberta-v3-base and are newly initialized: ['qa_outputs.bias', 'qa_outputs.weight']\n",
      "You should probably TRAIN this model on a down-stream task to be able to use it for predictions and inference.\n"
     ]
    },
    {
     "data": {
      "text/html": [
       "\n",
       "    <div>\n",
       "      \n",
       "      <progress value='11802' max='11802' style='width:300px; height:20px; vertical-align: middle;'></progress>\n",
       "      [11802/11802 33:34, Epoch 3/3]\n",
       "    </div>\n",
       "    <table border=\"1\" class=\"dataframe\">\n",
       "  <thead>\n",
       " <tr style=\"text-align: left;\">\n",
       "      <th>Epoch</th>\n",
       "      <th>Training Loss</th>\n",
       "      <th>Validation Loss</th>\n",
       "      <th>Exact</th>\n",
       "      <th>F1</th>\n",
       "      <th>Total</th>\n",
       "      <th>Hasans Exact</th>\n",
       "      <th>Hasans F1</th>\n",
       "      <th>Hasans Total</th>\n",
       "      <th>Noans Exact</th>\n",
       "      <th>Noans F1</th>\n",
       "      <th>Noans Total</th>\n",
       "      <th>Best Exact</th>\n",
       "      <th>Best Exact Thresh</th>\n",
       "      <th>Best F1</th>\n",
       "      <th>Best F1 Thresh</th>\n",
       "    </tr>\n",
       "  </thead>\n",
       "  <tbody>\n",
       "    <tr>\n",
       "      <td>1</td>\n",
       "      <td>0.867300</td>\n",
       "      <td>No log</td>\n",
       "      <td>64.474017</td>\n",
       "      <td>80.731496</td>\n",
       "      <td>11873</td>\n",
       "      <td>47.149123</td>\n",
       "      <td>79.710704</td>\n",
       "      <td>5928</td>\n",
       "      <td>81.749369</td>\n",
       "      <td>81.749369</td>\n",
       "      <td>5945</td>\n",
       "      <td>64.474017</td>\n",
       "      <td>0.000000</td>\n",
       "      <td>80.731496</td>\n",
       "      <td>0.000000</td>\n",
       "    </tr>\n",
       "    <tr>\n",
       "      <td>2</td>\n",
       "      <td>0.591300</td>\n",
       "      <td>No log</td>\n",
       "      <td>66.672282</td>\n",
       "      <td>82.663936</td>\n",
       "      <td>11873</td>\n",
       "      <td>46.356275</td>\n",
       "      <td>78.385443</td>\n",
       "      <td>5928</td>\n",
       "      <td>86.930193</td>\n",
       "      <td>86.930193</td>\n",
       "      <td>5945</td>\n",
       "      <td>66.663859</td>\n",
       "      <td>0.000000</td>\n",
       "      <td>82.655513</td>\n",
       "      <td>0.000000</td>\n",
       "    </tr>\n",
       "    <tr>\n",
       "      <td>3</td>\n",
       "      <td>0.457600</td>\n",
       "      <td>No log</td>\n",
       "      <td>65.577360</td>\n",
       "      <td>82.014723</td>\n",
       "      <td>11873</td>\n",
       "      <td>46.845479</td>\n",
       "      <td>79.767342</td>\n",
       "      <td>5928</td>\n",
       "      <td>84.255677</td>\n",
       "      <td>84.255677</td>\n",
       "      <td>5945</td>\n",
       "      <td>65.568938</td>\n",
       "      <td>0.000000</td>\n",
       "      <td>82.006301</td>\n",
       "      <td>0.000000</td>\n",
       "    </tr>\n",
       "  </tbody>\n",
       "</table><p>"
      ],
      "text/plain": [
       "<IPython.core.display.HTML object>"
      ]
     },
     "metadata": {},
     "output_type": "display_data"
    },
    {
     "data": {
      "application/vnd.jupyter.widget-view+json": {
       "model_id": "da4d0fd504044ebaa4ed5350b98a6317",
       "version_major": 2,
       "version_minor": 0
      },
      "text/plain": [
       "  0%|          | 0/11873 [00:00<?, ?it/s]"
      ]
     },
     "metadata": {},
     "output_type": "display_data"
    },
    {
     "data": {
      "application/vnd.jupyter.widget-view+json": {
       "model_id": "0b1b7fbd6df642e4bfb868ad082d3efa",
       "version_major": 2,
       "version_minor": 0
      },
      "text/plain": [
       "  0%|          | 0/11873 [00:00<?, ?it/s]"
      ]
     },
     "metadata": {},
     "output_type": "display_data"
    },
    {
     "data": {
      "application/vnd.jupyter.widget-view+json": {
       "model_id": "db9cac902aad41369b478fb671fdf695",
       "version_major": 2,
       "version_minor": 0
      },
      "text/plain": [
       "  0%|          | 0/11873 [00:00<?, ?it/s]"
      ]
     },
     "metadata": {},
     "output_type": "display_data"
    },
    {
     "name": "stdout",
     "output_type": "stream",
     "text": [
      "Stopping training: No improvement in eval_f1 for 1 epochs\n"
     ]
    },
    {
     "data": {
      "text/html": [
       "\n",
       "    <div>\n",
       "      \n",
       "      <progress value='839' max='839' style='width:300px; height:20px; vertical-align: middle;'></progress>\n",
       "      [839/839 00:32]\n",
       "    </div>\n",
       "    "
      ],
      "text/plain": [
       "<IPython.core.display.HTML object>"
      ]
     },
     "metadata": {},
     "output_type": "display_data"
    },
    {
     "data": {
      "application/vnd.jupyter.widget-view+json": {
       "model_id": "69319f6d497b41efb909f33aedd706ca",
       "version_major": 2,
       "version_minor": 0
      },
      "text/plain": [
       "  0%|          | 0/11873 [00:00<?, ?it/s]"
      ]
     },
     "metadata": {},
     "output_type": "display_data"
    },
    {
     "name": "stdout",
     "output_type": "stream",
     "text": [
      "Stopping training: No improvement in eval_f1 for 1 epochs\n"
     ]
    },
    {
     "name": "stderr",
     "output_type": "stream",
     "text": [
      "[I 2024-06-01 18:48:11,875] Trial 17 finished with value: 82.6639356018771 and parameters: {'no_answer_threshold': 0.586993422938494, 'learning_rate': 1.5934394053201185e-05, 'warmup_ratio': 0, 'weight_decay': 0.13715485558155746, 'adam_beta1': 0.8814663602539836, 'adam_beta2': 0.993951866019348, 'adam_epsilon': 7.979230218151979e-07, 'lr_scheduler_type': 'cosine_with_restarts'}. Best is trial 15 with value: 83.10038870266908.\n"
     ]
    },
    {
     "name": "stdout",
     "output_type": "stream",
     "text": [
      "Current Trial 18 parameters: {'no_answer_threshold': 0.71336606195961, 'learning_rate': 3.727109388814589e-05, 'warmup_ratio': 0, 'weight_decay': 0.21563473923491527, 'adam_beta1': 0.9495603151660064, 'adam_beta2': 0.9970836188703207, 'adam_epsilon': 4.841027925656544e-07, 'lr_scheduler_type': 'cosine_with_restarts'}\n"
     ]
    },
    {
     "name": "stderr",
     "output_type": "stream",
     "text": [
      "Some weights of DebertaV2ForQuestionAnswering were not initialized from the model checkpoint at microsoft/deberta-v3-base and are newly initialized: ['qa_outputs.bias', 'qa_outputs.weight']\n",
      "You should probably TRAIN this model on a down-stream task to be able to use it for predictions and inference.\n"
     ]
    },
    {
     "data": {
      "text/html": [
       "\n",
       "    <div>\n",
       "      \n",
       "      <progress value='11802' max='11802' style='width:300px; height:20px; vertical-align: middle;'></progress>\n",
       "      [11802/11802 33:39, Epoch 3/3]\n",
       "    </div>\n",
       "    <table border=\"1\" class=\"dataframe\">\n",
       "  <thead>\n",
       " <tr style=\"text-align: left;\">\n",
       "      <th>Epoch</th>\n",
       "      <th>Training Loss</th>\n",
       "      <th>Validation Loss</th>\n",
       "      <th>Exact</th>\n",
       "      <th>F1</th>\n",
       "      <th>Total</th>\n",
       "      <th>Hasans Exact</th>\n",
       "      <th>Hasans F1</th>\n",
       "      <th>Hasans Total</th>\n",
       "      <th>Noans Exact</th>\n",
       "      <th>Noans F1</th>\n",
       "      <th>Noans Total</th>\n",
       "      <th>Best Exact</th>\n",
       "      <th>Best Exact Thresh</th>\n",
       "      <th>Best F1</th>\n",
       "      <th>Best F1 Thresh</th>\n",
       "    </tr>\n",
       "  </thead>\n",
       "  <tbody>\n",
       "    <tr>\n",
       "      <td>1</td>\n",
       "      <td>0.823700</td>\n",
       "      <td>No log</td>\n",
       "      <td>66.444875</td>\n",
       "      <td>82.055314</td>\n",
       "      <td>11873</td>\n",
       "      <td>45.411606</td>\n",
       "      <td>76.677251</td>\n",
       "      <td>5928</td>\n",
       "      <td>87.417998</td>\n",
       "      <td>87.417998</td>\n",
       "      <td>5945</td>\n",
       "      <td>66.444875</td>\n",
       "      <td>0.000000</td>\n",
       "      <td>82.055314</td>\n",
       "      <td>0.000000</td>\n",
       "    </tr>\n",
       "    <tr>\n",
       "      <td>2</td>\n",
       "      <td>0.514000</td>\n",
       "      <td>No log</td>\n",
       "      <td>66.242736</td>\n",
       "      <td>82.543921</td>\n",
       "      <td>11873</td>\n",
       "      <td>46.457490</td>\n",
       "      <td>79.106609</td>\n",
       "      <td>5928</td>\n",
       "      <td>85.971405</td>\n",
       "      <td>85.971405</td>\n",
       "      <td>5945</td>\n",
       "      <td>66.242736</td>\n",
       "      <td>0.000000</td>\n",
       "      <td>82.543921</td>\n",
       "      <td>0.000000</td>\n",
       "    </tr>\n",
       "    <tr>\n",
       "      <td>3</td>\n",
       "      <td>0.314900</td>\n",
       "      <td>No log</td>\n",
       "      <td>66.301693</td>\n",
       "      <td>82.927348</td>\n",
       "      <td>11873</td>\n",
       "      <td>46.271930</td>\n",
       "      <td>79.570919</td>\n",
       "      <td>5928</td>\n",
       "      <td>86.274180</td>\n",
       "      <td>86.274180</td>\n",
       "      <td>5945</td>\n",
       "      <td>66.301693</td>\n",
       "      <td>0.000000</td>\n",
       "      <td>82.927348</td>\n",
       "      <td>0.000000</td>\n",
       "    </tr>\n",
       "  </tbody>\n",
       "</table><p>"
      ],
      "text/plain": [
       "<IPython.core.display.HTML object>"
      ]
     },
     "metadata": {},
     "output_type": "display_data"
    },
    {
     "data": {
      "application/vnd.jupyter.widget-view+json": {
       "model_id": "4b8e7e9266cc4ac3a4befeb066e66d15",
       "version_major": 2,
       "version_minor": 0
      },
      "text/plain": [
       "  0%|          | 0/11873 [00:00<?, ?it/s]"
      ]
     },
     "metadata": {},
     "output_type": "display_data"
    },
    {
     "data": {
      "application/vnd.jupyter.widget-view+json": {
       "model_id": "05399e339dc94eeeb6e6130fa8322601",
       "version_major": 2,
       "version_minor": 0
      },
      "text/plain": [
       "  0%|          | 0/11873 [00:00<?, ?it/s]"
      ]
     },
     "metadata": {},
     "output_type": "display_data"
    },
    {
     "data": {
      "application/vnd.jupyter.widget-view+json": {
       "model_id": "bea2ac1ecbce40cfaa95fe8486dae540",
       "version_major": 2,
       "version_minor": 0
      },
      "text/plain": [
       "  0%|          | 0/11873 [00:00<?, ?it/s]"
      ]
     },
     "metadata": {},
     "output_type": "display_data"
    },
    {
     "data": {
      "text/html": [
       "\n",
       "    <div>\n",
       "      \n",
       "      <progress value='839' max='839' style='width:300px; height:20px; vertical-align: middle;'></progress>\n",
       "      [839/839 00:33]\n",
       "    </div>\n",
       "    "
      ],
      "text/plain": [
       "<IPython.core.display.HTML object>"
      ]
     },
     "metadata": {},
     "output_type": "display_data"
    },
    {
     "data": {
      "application/vnd.jupyter.widget-view+json": {
       "model_id": "30ee8f0276564e4d9c42b5d143e3b2a6",
       "version_major": 2,
       "version_minor": 0
      },
      "text/plain": [
       "  0%|          | 0/11873 [00:00<?, ?it/s]"
      ]
     },
     "metadata": {},
     "output_type": "display_data"
    },
    {
     "name": "stdout",
     "output_type": "stream",
     "text": [
      "Stopping training: No improvement in eval_f1 for 1 epochs\n"
     ]
    },
    {
     "name": "stderr",
     "output_type": "stream",
     "text": [
      "[I 2024-06-01 19:23:02,573] Trial 18 finished with value: 82.92734820427988 and parameters: {'no_answer_threshold': 0.71336606195961, 'learning_rate': 3.727109388814589e-05, 'warmup_ratio': 0, 'weight_decay': 0.21563473923491527, 'adam_beta1': 0.9495603151660064, 'adam_beta2': 0.9970836188703207, 'adam_epsilon': 4.841027925656544e-07, 'lr_scheduler_type': 'cosine_with_restarts'}. Best is trial 15 with value: 83.10038870266908.\n"
     ]
    },
    {
     "name": "stdout",
     "output_type": "stream",
     "text": [
      "Current Trial 19 parameters: {'no_answer_threshold': 0.47799964924610555, 'learning_rate': 3.6719816930251594e-05, 'warmup_ratio': 0, 'weight_decay': 0.24619591029044996, 'adam_beta1': 0.9447090816206611, 'adam_beta2': 0.9969043273745111, 'adam_epsilon': 4.4765229541139874e-07, 'lr_scheduler_type': 'cosine_with_restarts'}\n"
     ]
    },
    {
     "name": "stderr",
     "output_type": "stream",
     "text": [
      "Some weights of DebertaV2ForQuestionAnswering were not initialized from the model checkpoint at microsoft/deberta-v3-base and are newly initialized: ['qa_outputs.bias', 'qa_outputs.weight']\n",
      "You should probably TRAIN this model on a down-stream task to be able to use it for predictions and inference.\n"
     ]
    },
    {
     "data": {
      "text/html": [
       "\n",
       "    <div>\n",
       "      \n",
       "      <progress value='11802' max='11802' style='width:300px; height:20px; vertical-align: middle;'></progress>\n",
       "      [11802/11802 33:47, Epoch 3/3]\n",
       "    </div>\n",
       "    <table border=\"1\" class=\"dataframe\">\n",
       "  <thead>\n",
       " <tr style=\"text-align: left;\">\n",
       "      <th>Epoch</th>\n",
       "      <th>Training Loss</th>\n",
       "      <th>Validation Loss</th>\n",
       "      <th>Exact</th>\n",
       "      <th>F1</th>\n",
       "      <th>Total</th>\n",
       "      <th>Hasans Exact</th>\n",
       "      <th>Hasans F1</th>\n",
       "      <th>Hasans Total</th>\n",
       "      <th>Noans Exact</th>\n",
       "      <th>Noans F1</th>\n",
       "      <th>Noans Total</th>\n",
       "      <th>Best Exact</th>\n",
       "      <th>Best Exact Thresh</th>\n",
       "      <th>Best F1</th>\n",
       "      <th>Best F1 Thresh</th>\n",
       "    </tr>\n",
       "  </thead>\n",
       "  <tbody>\n",
       "    <tr>\n",
       "      <td>1</td>\n",
       "      <td>0.821800</td>\n",
       "      <td>No log</td>\n",
       "      <td>66.225891</td>\n",
       "      <td>81.931053</td>\n",
       "      <td>11873</td>\n",
       "      <td>44.905533</td>\n",
       "      <td>76.360895</td>\n",
       "      <td>5928</td>\n",
       "      <td>87.485282</td>\n",
       "      <td>87.485282</td>\n",
       "      <td>5945</td>\n",
       "      <td>66.225891</td>\n",
       "      <td>0.000000</td>\n",
       "      <td>81.931053</td>\n",
       "      <td>0.000000</td>\n",
       "    </tr>\n",
       "    <tr>\n",
       "      <td>2</td>\n",
       "      <td>0.508500</td>\n",
       "      <td>No log</td>\n",
       "      <td>66.032174</td>\n",
       "      <td>82.240696</td>\n",
       "      <td>11873</td>\n",
       "      <td>46.170715</td>\n",
       "      <td>78.634242</td>\n",
       "      <td>5928</td>\n",
       "      <td>85.836838</td>\n",
       "      <td>85.836838</td>\n",
       "      <td>5945</td>\n",
       "      <td>66.032174</td>\n",
       "      <td>0.000000</td>\n",
       "      <td>82.240696</td>\n",
       "      <td>0.000000</td>\n",
       "    </tr>\n",
       "    <tr>\n",
       "      <td>3</td>\n",
       "      <td>0.315000</td>\n",
       "      <td>No log</td>\n",
       "      <td>66.259581</td>\n",
       "      <td>82.727034</td>\n",
       "      <td>11873</td>\n",
       "      <td>46.120108</td>\n",
       "      <td>79.102239</td>\n",
       "      <td>5928</td>\n",
       "      <td>86.341463</td>\n",
       "      <td>86.341463</td>\n",
       "      <td>5945</td>\n",
       "      <td>66.259581</td>\n",
       "      <td>0.000000</td>\n",
       "      <td>82.727034</td>\n",
       "      <td>0.000000</td>\n",
       "    </tr>\n",
       "  </tbody>\n",
       "</table><p>"
      ],
      "text/plain": [
       "<IPython.core.display.HTML object>"
      ]
     },
     "metadata": {},
     "output_type": "display_data"
    },
    {
     "data": {
      "application/vnd.jupyter.widget-view+json": {
       "model_id": "8fd215f294b54bffad6ea6b414942c1a",
       "version_major": 2,
       "version_minor": 0
      },
      "text/plain": [
       "  0%|          | 0/11873 [00:00<?, ?it/s]"
      ]
     },
     "metadata": {},
     "output_type": "display_data"
    },
    {
     "data": {
      "application/vnd.jupyter.widget-view+json": {
       "model_id": "40cc219274c24317893ca49c8d47b336",
       "version_major": 2,
       "version_minor": 0
      },
      "text/plain": [
       "  0%|          | 0/11873 [00:00<?, ?it/s]"
      ]
     },
     "metadata": {},
     "output_type": "display_data"
    },
    {
     "data": {
      "application/vnd.jupyter.widget-view+json": {
       "model_id": "e570435645e14a8ab8db6d998a2672ee",
       "version_major": 2,
       "version_minor": 0
      },
      "text/plain": [
       "  0%|          | 0/11873 [00:00<?, ?it/s]"
      ]
     },
     "metadata": {},
     "output_type": "display_data"
    },
    {
     "data": {
      "text/html": [
       "\n",
       "    <div>\n",
       "      \n",
       "      <progress value='839' max='839' style='width:300px; height:20px; vertical-align: middle;'></progress>\n",
       "      [839/839 00:33]\n",
       "    </div>\n",
       "    "
      ],
      "text/plain": [
       "<IPython.core.display.HTML object>"
      ]
     },
     "metadata": {},
     "output_type": "display_data"
    },
    {
     "data": {
      "application/vnd.jupyter.widget-view+json": {
       "model_id": "d5c7e3e8d4b142f69353930e0267e35c",
       "version_major": 2,
       "version_minor": 0
      },
      "text/plain": [
       "  0%|          | 0/11873 [00:00<?, ?it/s]"
      ]
     },
     "metadata": {},
     "output_type": "display_data"
    },
    {
     "name": "stdout",
     "output_type": "stream",
     "text": [
      "Stopping training: No improvement in eval_f1 for 1 epochs\n"
     ]
    },
    {
     "name": "stderr",
     "output_type": "stream",
     "text": [
      "[I 2024-06-01 19:58:01,217] Trial 19 finished with value: 82.72703363216264 and parameters: {'no_answer_threshold': 0.47799964924610555, 'learning_rate': 3.6719816930251594e-05, 'warmup_ratio': 0, 'weight_decay': 0.24619591029044996, 'adam_beta1': 0.9447090816206611, 'adam_beta2': 0.9969043273745111, 'adam_epsilon': 4.4765229541139874e-07, 'lr_scheduler_type': 'cosine_with_restarts'}. Best is trial 15 with value: 83.10038870266908.\n"
     ]
    }
   ],
   "source": [
    "study.optimize(objective, n_trials=5)"
   ]
  },
  {
   "cell_type": "code",
   "execution_count": 60,
   "id": "f388bed0-50be-4e84-ba00-56d17044e5ab",
   "metadata": {
    "tags": []
   },
   "outputs": [
    {
     "name": "stdout",
     "output_type": "stream",
     "text": [
      "Current Trial 20 parameters: {'no_answer_threshold': 0.7668712376081148, 'learning_rate': 8.246565734844268e-06, 'warmup_ratio': 1, 'weight_decay': 0.20681680215956225, 'adam_beta1': 0.9226371237256864, 'adam_beta2': 0.9988391171905854, 'adam_epsilon': 3.1485398674222945e-07, 'lr_scheduler_type': 'cosine_with_restarts'}\n"
     ]
    },
    {
     "name": "stderr",
     "output_type": "stream",
     "text": [
      "Some weights of DebertaV2ForQuestionAnswering were not initialized from the model checkpoint at microsoft/deberta-v3-base and are newly initialized: ['qa_outputs.bias', 'qa_outputs.weight']\n",
      "You should probably TRAIN this model on a down-stream task to be able to use it for predictions and inference.\n"
     ]
    },
    {
     "data": {
      "text/html": [
       "\n",
       "    <div>\n",
       "      \n",
       "      <progress value='3934' max='11802' style='width:300px; height:20px; vertical-align: middle;'></progress>\n",
       "      [ 3934/11802 11:12 < 22:24, 5.85 it/s, Epoch 1/3]\n",
       "    </div>\n",
       "    <table border=\"1\" class=\"dataframe\">\n",
       "  <thead>\n",
       " <tr style=\"text-align: left;\">\n",
       "      <th>Epoch</th>\n",
       "      <th>Training Loss</th>\n",
       "      <th>Validation Loss</th>\n",
       "      <th>Exact</th>\n",
       "      <th>F1</th>\n",
       "      <th>Total</th>\n",
       "      <th>Hasans Exact</th>\n",
       "      <th>Hasans F1</th>\n",
       "      <th>Hasans Total</th>\n",
       "      <th>Noans Exact</th>\n",
       "      <th>Noans F1</th>\n",
       "      <th>Noans Total</th>\n",
       "      <th>Best Exact</th>\n",
       "      <th>Best Exact Thresh</th>\n",
       "      <th>Best F1</th>\n",
       "      <th>Best F1 Thresh</th>\n",
       "    </tr>\n",
       "  </thead>\n",
       "  <tbody>\n",
       "    <tr>\n",
       "      <td>1</td>\n",
       "      <td>1.383000</td>\n",
       "      <td>No log</td>\n",
       "      <td>50.332688</td>\n",
       "      <td>66.267022</td>\n",
       "      <td>11873</td>\n",
       "      <td>40.975034</td>\n",
       "      <td>72.889397</td>\n",
       "      <td>5928</td>\n",
       "      <td>59.663583</td>\n",
       "      <td>59.663583</td>\n",
       "      <td>5945</td>\n",
       "      <td>50.501137</td>\n",
       "      <td>0.000000</td>\n",
       "      <td>66.267022</td>\n",
       "      <td>0.000000</td>\n",
       "    </tr>\n",
       "  </tbody>\n",
       "</table><p>"
      ],
      "text/plain": [
       "<IPython.core.display.HTML object>"
      ]
     },
     "metadata": {},
     "output_type": "display_data"
    },
    {
     "data": {
      "application/vnd.jupyter.widget-view+json": {
       "model_id": "af39512caa0549c29ba75288a5c7abf5",
       "version_major": 2,
       "version_minor": 0
      },
      "text/plain": [
       "  0%|          | 0/11873 [00:00<?, ?it/s]"
      ]
     },
     "metadata": {},
     "output_type": "display_data"
    },
    {
     "name": "stdout",
     "output_type": "stream",
     "text": [
      "Stopping training: eval_f1 below threshold of 75\n"
     ]
    },
    {
     "data": {
      "text/html": [
       "\n",
       "    <div>\n",
       "      \n",
       "      <progress value='839' max='839' style='width:300px; height:20px; vertical-align: middle;'></progress>\n",
       "      [839/839 00:33]\n",
       "    </div>\n",
       "    "
      ],
      "text/plain": [
       "<IPython.core.display.HTML object>"
      ]
     },
     "metadata": {},
     "output_type": "display_data"
    },
    {
     "data": {
      "application/vnd.jupyter.widget-view+json": {
       "model_id": "13ae8be6ad814a0aa6934cc63e029a2d",
       "version_major": 2,
       "version_minor": 0
      },
      "text/plain": [
       "  0%|          | 0/11873 [00:00<?, ?it/s]"
      ]
     },
     "metadata": {},
     "output_type": "display_data"
    },
    {
     "name": "stdout",
     "output_type": "stream",
     "text": [
      "Stopping training: eval_f1 below threshold of 75\n",
      "Stopping training: No improvement in eval_f1 for 1 epochs\n"
     ]
    },
    {
     "name": "stderr",
     "output_type": "stream",
     "text": [
      "[I 2024-06-01 20:10:24,302] Trial 20 finished with value: 66.26702154361685 and parameters: {'no_answer_threshold': 0.7668712376081148, 'learning_rate': 8.246565734844268e-06, 'warmup_ratio': 1, 'weight_decay': 0.20681680215956225, 'adam_beta1': 0.9226371237256864, 'adam_beta2': 0.9988391171905854, 'adam_epsilon': 3.1485398674222945e-07, 'lr_scheduler_type': 'cosine_with_restarts'}. Best is trial 15 with value: 83.10038870266908.\n"
     ]
    },
    {
     "name": "stdout",
     "output_type": "stream",
     "text": [
      "Current Trial 21 parameters: {'no_answer_threshold': 0.6567043655087456, 'learning_rate': 3.122073782423194e-05, 'warmup_ratio': 0, 'weight_decay': 0.16161227024075456, 'adam_beta1': 0.9088188963769817, 'adam_beta2': 0.9948715674286943, 'adam_epsilon': 5.290616176741046e-07, 'lr_scheduler_type': 'cosine_with_restarts'}\n"
     ]
    },
    {
     "name": "stderr",
     "output_type": "stream",
     "text": [
      "Some weights of DebertaV2ForQuestionAnswering were not initialized from the model checkpoint at microsoft/deberta-v3-base and are newly initialized: ['qa_outputs.bias', 'qa_outputs.weight']\n",
      "You should probably TRAIN this model on a down-stream task to be able to use it for predictions and inference.\n"
     ]
    },
    {
     "data": {
      "text/html": [
       "\n",
       "    <div>\n",
       "      \n",
       "      <progress value='11802' max='11802' style='width:300px; height:20px; vertical-align: middle;'></progress>\n",
       "      [11802/11802 33:43, Epoch 3/3]\n",
       "    </div>\n",
       "    <table border=\"1\" class=\"dataframe\">\n",
       "  <thead>\n",
       " <tr style=\"text-align: left;\">\n",
       "      <th>Epoch</th>\n",
       "      <th>Training Loss</th>\n",
       "      <th>Validation Loss</th>\n",
       "      <th>Exact</th>\n",
       "      <th>F1</th>\n",
       "      <th>Total</th>\n",
       "      <th>Hasans Exact</th>\n",
       "      <th>Hasans F1</th>\n",
       "      <th>Hasans Total</th>\n",
       "      <th>Noans Exact</th>\n",
       "      <th>Noans F1</th>\n",
       "      <th>Noans Total</th>\n",
       "      <th>Best Exact</th>\n",
       "      <th>Best Exact Thresh</th>\n",
       "      <th>Best F1</th>\n",
       "      <th>Best F1 Thresh</th>\n",
       "    </tr>\n",
       "  </thead>\n",
       "  <tbody>\n",
       "    <tr>\n",
       "      <td>1</td>\n",
       "      <td>0.829100</td>\n",
       "      <td>No log</td>\n",
       "      <td>65.476291</td>\n",
       "      <td>81.583366</td>\n",
       "      <td>11873</td>\n",
       "      <td>46.187584</td>\n",
       "      <td>78.447926</td>\n",
       "      <td>5928</td>\n",
       "      <td>84.709840</td>\n",
       "      <td>84.709840</td>\n",
       "      <td>5945</td>\n",
       "      <td>65.476291</td>\n",
       "      <td>0.000000</td>\n",
       "      <td>81.583366</td>\n",
       "      <td>0.000000</td>\n",
       "    </tr>\n",
       "    <tr>\n",
       "      <td>2</td>\n",
       "      <td>0.519400</td>\n",
       "      <td>No log</td>\n",
       "      <td>66.865998</td>\n",
       "      <td>83.133649</td>\n",
       "      <td>11873</td>\n",
       "      <td>46.778003</td>\n",
       "      <td>79.359955</td>\n",
       "      <td>5928</td>\n",
       "      <td>86.896552</td>\n",
       "      <td>86.896552</td>\n",
       "      <td>5945</td>\n",
       "      <td>66.865998</td>\n",
       "      <td>0.000000</td>\n",
       "      <td>83.133649</td>\n",
       "      <td>0.000000</td>\n",
       "    </tr>\n",
       "    <tr>\n",
       "      <td>3</td>\n",
       "      <td>0.341600</td>\n",
       "      <td>No log</td>\n",
       "      <td>66.512255</td>\n",
       "      <td>83.077365</td>\n",
       "      <td>11873</td>\n",
       "      <td>46.541835</td>\n",
       "      <td>79.719561</td>\n",
       "      <td>5928</td>\n",
       "      <td>86.425568</td>\n",
       "      <td>86.425568</td>\n",
       "      <td>5945</td>\n",
       "      <td>66.512255</td>\n",
       "      <td>0.000000</td>\n",
       "      <td>83.077365</td>\n",
       "      <td>0.000000</td>\n",
       "    </tr>\n",
       "  </tbody>\n",
       "</table><p>"
      ],
      "text/plain": [
       "<IPython.core.display.HTML object>"
      ]
     },
     "metadata": {},
     "output_type": "display_data"
    },
    {
     "data": {
      "application/vnd.jupyter.widget-view+json": {
       "model_id": "dd24fa0337004f8e912284ea2c3e14fc",
       "version_major": 2,
       "version_minor": 0
      },
      "text/plain": [
       "  0%|          | 0/11873 [00:00<?, ?it/s]"
      ]
     },
     "metadata": {},
     "output_type": "display_data"
    },
    {
     "data": {
      "application/vnd.jupyter.widget-view+json": {
       "model_id": "eea8f02f01574354a33a95498f4061d4",
       "version_major": 2,
       "version_minor": 0
      },
      "text/plain": [
       "  0%|          | 0/11873 [00:00<?, ?it/s]"
      ]
     },
     "metadata": {},
     "output_type": "display_data"
    },
    {
     "data": {
      "application/vnd.jupyter.widget-view+json": {
       "model_id": "fb882ac020cc49268ed5725e8267ff2f",
       "version_major": 2,
       "version_minor": 0
      },
      "text/plain": [
       "  0%|          | 0/11873 [00:00<?, ?it/s]"
      ]
     },
     "metadata": {},
     "output_type": "display_data"
    },
    {
     "name": "stdout",
     "output_type": "stream",
     "text": [
      "Stopping training: No improvement in eval_f1 for 1 epochs\n"
     ]
    },
    {
     "data": {
      "text/html": [
       "\n",
       "    <div>\n",
       "      \n",
       "      <progress value='839' max='839' style='width:300px; height:20px; vertical-align: middle;'></progress>\n",
       "      [839/839 00:33]\n",
       "    </div>\n",
       "    "
      ],
      "text/plain": [
       "<IPython.core.display.HTML object>"
      ]
     },
     "metadata": {},
     "output_type": "display_data"
    },
    {
     "data": {
      "application/vnd.jupyter.widget-view+json": {
       "model_id": "a9084e6939694c2590331fe5f871051a",
       "version_major": 2,
       "version_minor": 0
      },
      "text/plain": [
       "  0%|          | 0/11873 [00:00<?, ?it/s]"
      ]
     },
     "metadata": {},
     "output_type": "display_data"
    },
    {
     "name": "stdout",
     "output_type": "stream",
     "text": [
      "Stopping training: No improvement in eval_f1 for 1 epochs\n"
     ]
    },
    {
     "name": "stderr",
     "output_type": "stream",
     "text": [
      "[I 2024-06-01 20:45:23,357] Trial 21 finished with value: 83.1336486656983 and parameters: {'no_answer_threshold': 0.6567043655087456, 'learning_rate': 3.122073782423194e-05, 'warmup_ratio': 0, 'weight_decay': 0.16161227024075456, 'adam_beta1': 0.9088188963769817, 'adam_beta2': 0.9948715674286943, 'adam_epsilon': 5.290616176741046e-07, 'lr_scheduler_type': 'cosine_with_restarts'}. Best is trial 21 with value: 83.1336486656983.\n"
     ]
    },
    {
     "name": "stdout",
     "output_type": "stream",
     "text": [
      "Current Trial 22 parameters: {'no_answer_threshold': 0.506373092631583, 'learning_rate': 3.772846657801149e-05, 'warmup_ratio': 0, 'weight_decay': 0.16583526608421914, 'adam_beta1': 0.9110611390854816, 'adam_beta2': 0.9968061187180448, 'adam_epsilon': 5.109863672037466e-07, 'lr_scheduler_type': 'cosine_with_restarts'}\n"
     ]
    },
    {
     "name": "stderr",
     "output_type": "stream",
     "text": [
      "Some weights of DebertaV2ForQuestionAnswering were not initialized from the model checkpoint at microsoft/deberta-v3-base and are newly initialized: ['qa_outputs.bias', 'qa_outputs.weight']\n",
      "You should probably TRAIN this model on a down-stream task to be able to use it for predictions and inference.\n"
     ]
    },
    {
     "data": {
      "text/html": [
       "\n",
       "    <div>\n",
       "      \n",
       "      <progress value='11802' max='11802' style='width:300px; height:20px; vertical-align: middle;'></progress>\n",
       "      [11802/11802 33:54, Epoch 3/3]\n",
       "    </div>\n",
       "    <table border=\"1\" class=\"dataframe\">\n",
       "  <thead>\n",
       " <tr style=\"text-align: left;\">\n",
       "      <th>Epoch</th>\n",
       "      <th>Training Loss</th>\n",
       "      <th>Validation Loss</th>\n",
       "      <th>Exact</th>\n",
       "      <th>F1</th>\n",
       "      <th>Total</th>\n",
       "      <th>Hasans Exact</th>\n",
       "      <th>Hasans F1</th>\n",
       "      <th>Hasans Total</th>\n",
       "      <th>Noans Exact</th>\n",
       "      <th>Noans F1</th>\n",
       "      <th>Noans Total</th>\n",
       "      <th>Best Exact</th>\n",
       "      <th>Best Exact Thresh</th>\n",
       "      <th>Best F1</th>\n",
       "      <th>Best F1 Thresh</th>\n",
       "    </tr>\n",
       "  </thead>\n",
       "  <tbody>\n",
       "    <tr>\n",
       "      <td>1</td>\n",
       "      <td>0.827500</td>\n",
       "      <td>No log</td>\n",
       "      <td>66.200623</td>\n",
       "      <td>82.071993</td>\n",
       "      <td>11873</td>\n",
       "      <td>45.968286</td>\n",
       "      <td>77.756540</td>\n",
       "      <td>5928</td>\n",
       "      <td>86.375105</td>\n",
       "      <td>86.375105</td>\n",
       "      <td>5945</td>\n",
       "      <td>66.200623</td>\n",
       "      <td>0.000000</td>\n",
       "      <td>82.071993</td>\n",
       "      <td>0.000000</td>\n",
       "    </tr>\n",
       "    <tr>\n",
       "      <td>2</td>\n",
       "      <td>0.504600</td>\n",
       "      <td>No log</td>\n",
       "      <td>66.722816</td>\n",
       "      <td>82.865260</td>\n",
       "      <td>11873</td>\n",
       "      <td>46.170715</td>\n",
       "      <td>78.501895</td>\n",
       "      <td>5928</td>\n",
       "      <td>87.216148</td>\n",
       "      <td>87.216148</td>\n",
       "      <td>5945</td>\n",
       "      <td>66.722816</td>\n",
       "      <td>0.000000</td>\n",
       "      <td>82.865260</td>\n",
       "      <td>0.000000</td>\n",
       "    </tr>\n",
       "    <tr>\n",
       "      <td>3</td>\n",
       "      <td>0.313100</td>\n",
       "      <td>No log</td>\n",
       "      <td>66.369073</td>\n",
       "      <td>82.788642</td>\n",
       "      <td>11873</td>\n",
       "      <td>46.052632</td>\n",
       "      <td>78.938856</td>\n",
       "      <td>5928</td>\n",
       "      <td>86.627418</td>\n",
       "      <td>86.627418</td>\n",
       "      <td>5945</td>\n",
       "      <td>66.369073</td>\n",
       "      <td>0.000000</td>\n",
       "      <td>82.788642</td>\n",
       "      <td>0.000000</td>\n",
       "    </tr>\n",
       "  </tbody>\n",
       "</table><p>"
      ],
      "text/plain": [
       "<IPython.core.display.HTML object>"
      ]
     },
     "metadata": {},
     "output_type": "display_data"
    },
    {
     "data": {
      "application/vnd.jupyter.widget-view+json": {
       "model_id": "e93a85f0f0f1416d9b8c48ee7b653623",
       "version_major": 2,
       "version_minor": 0
      },
      "text/plain": [
       "  0%|          | 0/11873 [00:00<?, ?it/s]"
      ]
     },
     "metadata": {},
     "output_type": "display_data"
    },
    {
     "data": {
      "application/vnd.jupyter.widget-view+json": {
       "model_id": "643cc84514fc49fe81a1d805a8bdbea6",
       "version_major": 2,
       "version_minor": 0
      },
      "text/plain": [
       "  0%|          | 0/11873 [00:00<?, ?it/s]"
      ]
     },
     "metadata": {},
     "output_type": "display_data"
    },
    {
     "data": {
      "application/vnd.jupyter.widget-view+json": {
       "model_id": "e723394360cd4952a1f6e60003d55691",
       "version_major": 2,
       "version_minor": 0
      },
      "text/plain": [
       "  0%|          | 0/11873 [00:00<?, ?it/s]"
      ]
     },
     "metadata": {},
     "output_type": "display_data"
    },
    {
     "name": "stdout",
     "output_type": "stream",
     "text": [
      "Stopping training: No improvement in eval_f1 for 1 epochs\n"
     ]
    },
    {
     "data": {
      "text/html": [
       "\n",
       "    <div>\n",
       "      \n",
       "      <progress value='839' max='839' style='width:300px; height:20px; vertical-align: middle;'></progress>\n",
       "      [839/839 00:34]\n",
       "    </div>\n",
       "    "
      ],
      "text/plain": [
       "<IPython.core.display.HTML object>"
      ]
     },
     "metadata": {},
     "output_type": "display_data"
    },
    {
     "data": {
      "application/vnd.jupyter.widget-view+json": {
       "model_id": "f836153d91644212b0caafde8a41bb0f",
       "version_major": 2,
       "version_minor": 0
      },
      "text/plain": [
       "  0%|          | 0/11873 [00:00<?, ?it/s]"
      ]
     },
     "metadata": {},
     "output_type": "display_data"
    },
    {
     "name": "stdout",
     "output_type": "stream",
     "text": [
      "Stopping training: No improvement in eval_f1 for 1 epochs\n"
     ]
    },
    {
     "name": "stderr",
     "output_type": "stream",
     "text": [
      "[I 2024-06-01 21:20:28,671] Trial 22 finished with value: 82.86526006047907 and parameters: {'no_answer_threshold': 0.506373092631583, 'learning_rate': 3.772846657801149e-05, 'warmup_ratio': 0, 'weight_decay': 0.16583526608421914, 'adam_beta1': 0.9110611390854816, 'adam_beta2': 0.9968061187180448, 'adam_epsilon': 5.109863672037466e-07, 'lr_scheduler_type': 'cosine_with_restarts'}. Best is trial 21 with value: 83.1336486656983.\n"
     ]
    },
    {
     "name": "stdout",
     "output_type": "stream",
     "text": [
      "Current Trial 23 parameters: {'no_answer_threshold': 0.7056629497036715, 'learning_rate': 7.558864240507437e-06, 'warmup_ratio': 0, 'weight_decay': 0.19786581903899791, 'adam_beta1': 0.9383536626249476, 'adam_beta2': 0.9949084630849327, 'adam_epsilon': 5.234950109128499e-07, 'lr_scheduler_type': 'cosine_with_restarts'}\n"
     ]
    },
    {
     "name": "stderr",
     "output_type": "stream",
     "text": [
      "Some weights of DebertaV2ForQuestionAnswering were not initialized from the model checkpoint at microsoft/deberta-v3-base and are newly initialized: ['qa_outputs.bias', 'qa_outputs.weight']\n",
      "You should probably TRAIN this model on a down-stream task to be able to use it for predictions and inference.\n"
     ]
    },
    {
     "data": {
      "text/html": [
       "\n",
       "    <div>\n",
       "      \n",
       "      <progress value='11802' max='11802' style='width:300px; height:20px; vertical-align: middle;'></progress>\n",
       "      [11802/11802 33:59, Epoch 3/3]\n",
       "    </div>\n",
       "    <table border=\"1\" class=\"dataframe\">\n",
       "  <thead>\n",
       " <tr style=\"text-align: left;\">\n",
       "      <th>Epoch</th>\n",
       "      <th>Training Loss</th>\n",
       "      <th>Validation Loss</th>\n",
       "      <th>Exact</th>\n",
       "      <th>F1</th>\n",
       "      <th>Total</th>\n",
       "      <th>Hasans Exact</th>\n",
       "      <th>Hasans F1</th>\n",
       "      <th>Hasans Total</th>\n",
       "      <th>Noans Exact</th>\n",
       "      <th>Noans F1</th>\n",
       "      <th>Noans Total</th>\n",
       "      <th>Best Exact</th>\n",
       "      <th>Best Exact Thresh</th>\n",
       "      <th>Best F1</th>\n",
       "      <th>Best F1 Thresh</th>\n",
       "    </tr>\n",
       "  </thead>\n",
       "  <tbody>\n",
       "    <tr>\n",
       "      <td>1</td>\n",
       "      <td>0.953300</td>\n",
       "      <td>No log</td>\n",
       "      <td>62.090457</td>\n",
       "      <td>78.216518</td>\n",
       "      <td>11873</td>\n",
       "      <td>46.136977</td>\n",
       "      <td>78.435343</td>\n",
       "      <td>5928</td>\n",
       "      <td>77.998318</td>\n",
       "      <td>77.998318</td>\n",
       "      <td>5945</td>\n",
       "      <td>62.090457</td>\n",
       "      <td>0.000000</td>\n",
       "      <td>78.216518</td>\n",
       "      <td>0.000000</td>\n",
       "    </tr>\n",
       "    <tr>\n",
       "      <td>2</td>\n",
       "      <td>0.720400</td>\n",
       "      <td>No log</td>\n",
       "      <td>64.549819</td>\n",
       "      <td>80.493925</td>\n",
       "      <td>11873</td>\n",
       "      <td>46.356275</td>\n",
       "      <td>78.290211</td>\n",
       "      <td>5928</td>\n",
       "      <td>82.691337</td>\n",
       "      <td>82.691337</td>\n",
       "      <td>5945</td>\n",
       "      <td>64.549819</td>\n",
       "      <td>0.000000</td>\n",
       "      <td>80.493925</td>\n",
       "      <td>0.000000</td>\n",
       "    </tr>\n",
       "    <tr>\n",
       "      <td>3</td>\n",
       "      <td>0.625900</td>\n",
       "      <td>No log</td>\n",
       "      <td>63.353828</td>\n",
       "      <td>79.618037</td>\n",
       "      <td>11873</td>\n",
       "      <td>47.014170</td>\n",
       "      <td>79.589229</td>\n",
       "      <td>5928</td>\n",
       "      <td>79.646762</td>\n",
       "      <td>79.646762</td>\n",
       "      <td>5945</td>\n",
       "      <td>63.353828</td>\n",
       "      <td>0.000000</td>\n",
       "      <td>79.618037</td>\n",
       "      <td>0.000000</td>\n",
       "    </tr>\n",
       "  </tbody>\n",
       "</table><p>"
      ],
      "text/plain": [
       "<IPython.core.display.HTML object>"
      ]
     },
     "metadata": {},
     "output_type": "display_data"
    },
    {
     "data": {
      "application/vnd.jupyter.widget-view+json": {
       "model_id": "197c7d57351241c58a7bbba88a7c4d62",
       "version_major": 2,
       "version_minor": 0
      },
      "text/plain": [
       "  0%|          | 0/11873 [00:00<?, ?it/s]"
      ]
     },
     "metadata": {},
     "output_type": "display_data"
    },
    {
     "data": {
      "application/vnd.jupyter.widget-view+json": {
       "model_id": "3a26b54c34054553bdda54de43a6a5f1",
       "version_major": 2,
       "version_minor": 0
      },
      "text/plain": [
       "  0%|          | 0/11873 [00:00<?, ?it/s]"
      ]
     },
     "metadata": {},
     "output_type": "display_data"
    },
    {
     "data": {
      "application/vnd.jupyter.widget-view+json": {
       "model_id": "14280624033b4df286f2e097cab6c5d0",
       "version_major": 2,
       "version_minor": 0
      },
      "text/plain": [
       "  0%|          | 0/11873 [00:00<?, ?it/s]"
      ]
     },
     "metadata": {},
     "output_type": "display_data"
    },
    {
     "name": "stdout",
     "output_type": "stream",
     "text": [
      "Stopping training: No improvement in eval_f1 for 1 epochs\n"
     ]
    },
    {
     "data": {
      "text/html": [
       "\n",
       "    <div>\n",
       "      \n",
       "      <progress value='839' max='839' style='width:300px; height:20px; vertical-align: middle;'></progress>\n",
       "      [839/839 00:33]\n",
       "    </div>\n",
       "    "
      ],
      "text/plain": [
       "<IPython.core.display.HTML object>"
      ]
     },
     "metadata": {},
     "output_type": "display_data"
    },
    {
     "data": {
      "application/vnd.jupyter.widget-view+json": {
       "model_id": "9b27c30fb52641c8834768c69ce3fa98",
       "version_major": 2,
       "version_minor": 0
      },
      "text/plain": [
       "  0%|          | 0/11873 [00:00<?, ?it/s]"
      ]
     },
     "metadata": {},
     "output_type": "display_data"
    },
    {
     "name": "stdout",
     "output_type": "stream",
     "text": [
      "Stopping training: No improvement in eval_f1 for 1 epochs\n"
     ]
    },
    {
     "name": "stderr",
     "output_type": "stream",
     "text": [
      "[I 2024-06-01 21:55:42,803] Trial 23 finished with value: 80.49392509164515 and parameters: {'no_answer_threshold': 0.7056629497036715, 'learning_rate': 7.558864240507437e-06, 'warmup_ratio': 0, 'weight_decay': 0.19786581903899791, 'adam_beta1': 0.9383536626249476, 'adam_beta2': 0.9949084630849327, 'adam_epsilon': 5.234950109128499e-07, 'lr_scheduler_type': 'cosine_with_restarts'}. Best is trial 21 with value: 83.1336486656983.\n"
     ]
    },
    {
     "name": "stdout",
     "output_type": "stream",
     "text": [
      "Current Trial 24 parameters: {'no_answer_threshold': 0.8777360210442833, 'learning_rate': 9.43330553791252e-07, 'warmup_ratio': 0, 'weight_decay': 0.2299132664391123, 'adam_beta1': 0.9142851510015738, 'adam_beta2': 0.996427723669075, 'adam_epsilon': 3.2303223261017135e-07, 'lr_scheduler_type': 'cosine_with_restarts'}\n"
     ]
    },
    {
     "name": "stderr",
     "output_type": "stream",
     "text": [
      "Some weights of DebertaV2ForQuestionAnswering were not initialized from the model checkpoint at microsoft/deberta-v3-base and are newly initialized: ['qa_outputs.bias', 'qa_outputs.weight']\n",
      "You should probably TRAIN this model on a down-stream task to be able to use it for predictions and inference.\n"
     ]
    },
    {
     "data": {
      "text/html": [
       "\n",
       "    <div>\n",
       "      \n",
       "      <progress value='3934' max='11802' style='width:300px; height:20px; vertical-align: middle;'></progress>\n",
       "      [ 3934/11802 11:10 < 22:22, 5.86 it/s, Epoch 1/3]\n",
       "    </div>\n",
       "    <table border=\"1\" class=\"dataframe\">\n",
       "  <thead>\n",
       " <tr style=\"text-align: left;\">\n",
       "      <th>Epoch</th>\n",
       "      <th>Training Loss</th>\n",
       "      <th>Validation Loss</th>\n",
       "      <th>Exact</th>\n",
       "      <th>F1</th>\n",
       "      <th>Total</th>\n",
       "      <th>Hasans Exact</th>\n",
       "      <th>Hasans F1</th>\n",
       "      <th>Hasans Total</th>\n",
       "      <th>Noans Exact</th>\n",
       "      <th>Noans F1</th>\n",
       "      <th>Noans Total</th>\n",
       "      <th>Best Exact</th>\n",
       "      <th>Best Exact Thresh</th>\n",
       "      <th>Best F1</th>\n",
       "      <th>Best F1 Thresh</th>\n",
       "    </tr>\n",
       "  </thead>\n",
       "  <tbody>\n",
       "    <tr>\n",
       "      <td>1</td>\n",
       "      <td>1.516100</td>\n",
       "      <td>No log</td>\n",
       "      <td>39.408743</td>\n",
       "      <td>55.257836</td>\n",
       "      <td>11873</td>\n",
       "      <td>39.170040</td>\n",
       "      <td>70.913679</td>\n",
       "      <td>5928</td>\n",
       "      <td>39.646762</td>\n",
       "      <td>39.646762</td>\n",
       "      <td>5945</td>\n",
       "      <td>50.096858</td>\n",
       "      <td>0.000000</td>\n",
       "      <td>55.303053</td>\n",
       "      <td>0.000000</td>\n",
       "    </tr>\n",
       "  </tbody>\n",
       "</table><p>"
      ],
      "text/plain": [
       "<IPython.core.display.HTML object>"
      ]
     },
     "metadata": {},
     "output_type": "display_data"
    },
    {
     "data": {
      "application/vnd.jupyter.widget-view+json": {
       "model_id": "fea4c55a444644ba83e1debbc5b090c8",
       "version_major": 2,
       "version_minor": 0
      },
      "text/plain": [
       "  0%|          | 0/11873 [00:00<?, ?it/s]"
      ]
     },
     "metadata": {},
     "output_type": "display_data"
    },
    {
     "name": "stdout",
     "output_type": "stream",
     "text": [
      "Stopping training: eval_f1 below threshold of 75\n"
     ]
    },
    {
     "data": {
      "text/html": [
       "\n",
       "    <div>\n",
       "      \n",
       "      <progress value='839' max='839' style='width:300px; height:20px; vertical-align: middle;'></progress>\n",
       "      [839/839 00:33]\n",
       "    </div>\n",
       "    "
      ],
      "text/plain": [
       "<IPython.core.display.HTML object>"
      ]
     },
     "metadata": {},
     "output_type": "display_data"
    },
    {
     "data": {
      "application/vnd.jupyter.widget-view+json": {
       "model_id": "a71e1c58552a4371bf6cb08b24bf952b",
       "version_major": 2,
       "version_minor": 0
      },
      "text/plain": [
       "  0%|          | 0/11873 [00:00<?, ?it/s]"
      ]
     },
     "metadata": {},
     "output_type": "display_data"
    },
    {
     "name": "stdout",
     "output_type": "stream",
     "text": [
      "Stopping training: eval_f1 below threshold of 75\n",
      "Stopping training: No improvement in eval_f1 for 1 epochs\n"
     ]
    },
    {
     "name": "stderr",
     "output_type": "stream",
     "text": [
      "[I 2024-06-01 22:08:06,584] Trial 24 finished with value: 55.25783622039774 and parameters: {'no_answer_threshold': 0.8777360210442833, 'learning_rate': 9.43330553791252e-07, 'warmup_ratio': 0, 'weight_decay': 0.2299132664391123, 'adam_beta1': 0.9142851510015738, 'adam_beta2': 0.996427723669075, 'adam_epsilon': 3.2303223261017135e-07, 'lr_scheduler_type': 'cosine_with_restarts'}. Best is trial 21 with value: 83.1336486656983.\n"
     ]
    }
   ],
   "source": [
    "study.optimize(objective, n_trials=5)"
   ]
  },
  {
   "cell_type": "code",
   "execution_count": 61,
   "id": "e399c916-9dfd-4c8c-8352-da42dfe43b6f",
   "metadata": {
    "tags": []
   },
   "outputs": [
    {
     "name": "stdout",
     "output_type": "stream",
     "text": [
      "Current Trial 25 parameters: {'no_answer_threshold': 0.535650842227107, 'learning_rate': 1.1784237199524666e-05, 'warmup_ratio': 0, 'weight_decay': 0.15232913271352974, 'adam_beta1': 0.8871360411667181, 'adam_beta2': 0.9935375213636032, 'adam_epsilon': 3.8314073345229853e-07, 'lr_scheduler_type': 'cosine_with_restarts'}\n"
     ]
    },
    {
     "name": "stderr",
     "output_type": "stream",
     "text": [
      "Some weights of DebertaV2ForQuestionAnswering were not initialized from the model checkpoint at microsoft/deberta-v3-base and are newly initialized: ['qa_outputs.bias', 'qa_outputs.weight']\n",
      "You should probably TRAIN this model on a down-stream task to be able to use it for predictions and inference.\n"
     ]
    },
    {
     "data": {
      "text/html": [
       "\n",
       "    <div>\n",
       "      \n",
       "      <progress value='11802' max='11802' style='width:300px; height:20px; vertical-align: middle;'></progress>\n",
       "      [11802/11802 33:38, Epoch 3/3]\n",
       "    </div>\n",
       "    <table border=\"1\" class=\"dataframe\">\n",
       "  <thead>\n",
       " <tr style=\"text-align: left;\">\n",
       "      <th>Epoch</th>\n",
       "      <th>Training Loss</th>\n",
       "      <th>Validation Loss</th>\n",
       "      <th>Exact</th>\n",
       "      <th>F1</th>\n",
       "      <th>Total</th>\n",
       "      <th>Hasans Exact</th>\n",
       "      <th>Hasans F1</th>\n",
       "      <th>Hasans Total</th>\n",
       "      <th>Noans Exact</th>\n",
       "      <th>Noans F1</th>\n",
       "      <th>Noans Total</th>\n",
       "      <th>Best Exact</th>\n",
       "      <th>Best Exact Thresh</th>\n",
       "      <th>Best F1</th>\n",
       "      <th>Best F1 Thresh</th>\n",
       "    </tr>\n",
       "  </thead>\n",
       "  <tbody>\n",
       "    <tr>\n",
       "      <td>1</td>\n",
       "      <td>0.902200</td>\n",
       "      <td>No log</td>\n",
       "      <td>62.722143</td>\n",
       "      <td>79.017300</td>\n",
       "      <td>11873</td>\n",
       "      <td>46.710526</td>\n",
       "      <td>79.347572</td>\n",
       "      <td>5928</td>\n",
       "      <td>78.687973</td>\n",
       "      <td>78.687973</td>\n",
       "      <td>5945</td>\n",
       "      <td>62.722143</td>\n",
       "      <td>0.000000</td>\n",
       "      <td>79.017300</td>\n",
       "      <td>0.000000</td>\n",
       "    </tr>\n",
       "    <tr>\n",
       "      <td>2</td>\n",
       "      <td>0.645000</td>\n",
       "      <td>No log</td>\n",
       "      <td>66.335383</td>\n",
       "      <td>82.229331</td>\n",
       "      <td>11873</td>\n",
       "      <td>46.575574</td>\n",
       "      <td>78.409050</td>\n",
       "      <td>5928</td>\n",
       "      <td>86.038688</td>\n",
       "      <td>86.038688</td>\n",
       "      <td>5945</td>\n",
       "      <td>66.335383</td>\n",
       "      <td>0.000000</td>\n",
       "      <td>82.229331</td>\n",
       "      <td>0.000000</td>\n",
       "    </tr>\n",
       "    <tr>\n",
       "      <td>3</td>\n",
       "      <td>0.523900</td>\n",
       "      <td>No log</td>\n",
       "      <td>65.130969</td>\n",
       "      <td>81.502792</td>\n",
       "      <td>11873</td>\n",
       "      <td>47.300945</td>\n",
       "      <td>80.091540</td>\n",
       "      <td>5928</td>\n",
       "      <td>82.910008</td>\n",
       "      <td>82.910008</td>\n",
       "      <td>5945</td>\n",
       "      <td>65.130969</td>\n",
       "      <td>0.000000</td>\n",
       "      <td>81.502792</td>\n",
       "      <td>0.000000</td>\n",
       "    </tr>\n",
       "  </tbody>\n",
       "</table><p>"
      ],
      "text/plain": [
       "<IPython.core.display.HTML object>"
      ]
     },
     "metadata": {},
     "output_type": "display_data"
    },
    {
     "data": {
      "application/vnd.jupyter.widget-view+json": {
       "model_id": "2a2e6150b7994f2194c52ab50ec31def",
       "version_major": 2,
       "version_minor": 0
      },
      "text/plain": [
       "  0%|          | 0/11873 [00:00<?, ?it/s]"
      ]
     },
     "metadata": {},
     "output_type": "display_data"
    },
    {
     "data": {
      "application/vnd.jupyter.widget-view+json": {
       "model_id": "b79b2004cc7c4c149792501de247747b",
       "version_major": 2,
       "version_minor": 0
      },
      "text/plain": [
       "  0%|          | 0/11873 [00:00<?, ?it/s]"
      ]
     },
     "metadata": {},
     "output_type": "display_data"
    },
    {
     "data": {
      "application/vnd.jupyter.widget-view+json": {
       "model_id": "f3445fe718fa4e099ab140a1ff98a548",
       "version_major": 2,
       "version_minor": 0
      },
      "text/plain": [
       "  0%|          | 0/11873 [00:00<?, ?it/s]"
      ]
     },
     "metadata": {},
     "output_type": "display_data"
    },
    {
     "name": "stdout",
     "output_type": "stream",
     "text": [
      "Stopping training: No improvement in eval_f1 for 1 epochs\n"
     ]
    },
    {
     "data": {
      "text/html": [
       "\n",
       "    <div>\n",
       "      \n",
       "      <progress value='839' max='839' style='width:300px; height:20px; vertical-align: middle;'></progress>\n",
       "      [839/839 00:33]\n",
       "    </div>\n",
       "    "
      ],
      "text/plain": [
       "<IPython.core.display.HTML object>"
      ]
     },
     "metadata": {},
     "output_type": "display_data"
    },
    {
     "data": {
      "application/vnd.jupyter.widget-view+json": {
       "model_id": "d7396e9ac23d4f8c9dbf979a98b48cf5",
       "version_major": 2,
       "version_minor": 0
      },
      "text/plain": [
       "  0%|          | 0/11873 [00:00<?, ?it/s]"
      ]
     },
     "metadata": {},
     "output_type": "display_data"
    },
    {
     "name": "stdout",
     "output_type": "stream",
     "text": [
      "Stopping training: No improvement in eval_f1 for 1 epochs\n"
     ]
    },
    {
     "name": "stderr",
     "output_type": "stream",
     "text": [
      "[I 2024-06-01 22:42:59,739] Trial 25 finished with value: 82.22933134090658 and parameters: {'no_answer_threshold': 0.535650842227107, 'learning_rate': 1.1784237199524666e-05, 'warmup_ratio': 0, 'weight_decay': 0.15232913271352974, 'adam_beta1': 0.8871360411667181, 'adam_beta2': 0.9935375213636032, 'adam_epsilon': 3.8314073345229853e-07, 'lr_scheduler_type': 'cosine_with_restarts'}. Best is trial 21 with value: 83.1336486656983.\n"
     ]
    },
    {
     "name": "stdout",
     "output_type": "stream",
     "text": [
      "Current Trial 26 parameters: {'no_answer_threshold': 0.6741294754835376, 'learning_rate': 3.120029326587576e-05, 'warmup_ratio': 0, 'weight_decay': 0.18223032889539567, 'adam_beta1': 0.9380261907821438, 'adam_beta2': 0.9948461316283067, 'adam_epsilon': 2.2991478523591833e-07, 'lr_scheduler_type': 'cosine_with_restarts'}\n"
     ]
    },
    {
     "name": "stderr",
     "output_type": "stream",
     "text": [
      "Some weights of DebertaV2ForQuestionAnswering were not initialized from the model checkpoint at microsoft/deberta-v3-base and are newly initialized: ['qa_outputs.bias', 'qa_outputs.weight']\n",
      "You should probably TRAIN this model on a down-stream task to be able to use it for predictions and inference.\n"
     ]
    },
    {
     "data": {
      "text/html": [
       "\n",
       "    <div>\n",
       "      \n",
       "      <progress value='11802' max='11802' style='width:300px; height:20px; vertical-align: middle;'></progress>\n",
       "      [11802/11802 33:21, Epoch 3/3]\n",
       "    </div>\n",
       "    <table border=\"1\" class=\"dataframe\">\n",
       "  <thead>\n",
       " <tr style=\"text-align: left;\">\n",
       "      <th>Epoch</th>\n",
       "      <th>Training Loss</th>\n",
       "      <th>Validation Loss</th>\n",
       "      <th>Exact</th>\n",
       "      <th>F1</th>\n",
       "      <th>Total</th>\n",
       "      <th>Hasans Exact</th>\n",
       "      <th>Hasans F1</th>\n",
       "      <th>Hasans Total</th>\n",
       "      <th>Noans Exact</th>\n",
       "      <th>Noans F1</th>\n",
       "      <th>Noans Total</th>\n",
       "      <th>Best Exact</th>\n",
       "      <th>Best Exact Thresh</th>\n",
       "      <th>Best F1</th>\n",
       "      <th>Best F1 Thresh</th>\n",
       "    </tr>\n",
       "  </thead>\n",
       "  <tbody>\n",
       "    <tr>\n",
       "      <td>1</td>\n",
       "      <td>0.814400</td>\n",
       "      <td>No log</td>\n",
       "      <td>65.846879</td>\n",
       "      <td>82.058291</td>\n",
       "      <td>11873</td>\n",
       "      <td>45.614035</td>\n",
       "      <td>78.083349</td>\n",
       "      <td>5928</td>\n",
       "      <td>86.021867</td>\n",
       "      <td>86.021867</td>\n",
       "      <td>5945</td>\n",
       "      <td>65.846879</td>\n",
       "      <td>0.000000</td>\n",
       "      <td>82.058291</td>\n",
       "      <td>0.000000</td>\n",
       "    </tr>\n",
       "    <tr>\n",
       "      <td>2</td>\n",
       "      <td>0.518000</td>\n",
       "      <td>No log</td>\n",
       "      <td>66.579634</td>\n",
       "      <td>82.805392</td>\n",
       "      <td>11873</td>\n",
       "      <td>46.710526</td>\n",
       "      <td>79.208574</td>\n",
       "      <td>5928</td>\n",
       "      <td>86.391926</td>\n",
       "      <td>86.391926</td>\n",
       "      <td>5945</td>\n",
       "      <td>66.579634</td>\n",
       "      <td>0.000000</td>\n",
       "      <td>82.805392</td>\n",
       "      <td>0.000000</td>\n",
       "    </tr>\n",
       "    <tr>\n",
       "      <td>3</td>\n",
       "      <td>0.335300</td>\n",
       "      <td>No log</td>\n",
       "      <td>66.284848</td>\n",
       "      <td>82.635909</td>\n",
       "      <td>11873</td>\n",
       "      <td>46.474359</td>\n",
       "      <td>79.223372</td>\n",
       "      <td>5928</td>\n",
       "      <td>86.038688</td>\n",
       "      <td>86.038688</td>\n",
       "      <td>5945</td>\n",
       "      <td>66.284848</td>\n",
       "      <td>0.000000</td>\n",
       "      <td>82.635909</td>\n",
       "      <td>0.000000</td>\n",
       "    </tr>\n",
       "  </tbody>\n",
       "</table><p>"
      ],
      "text/plain": [
       "<IPython.core.display.HTML object>"
      ]
     },
     "metadata": {},
     "output_type": "display_data"
    },
    {
     "data": {
      "application/vnd.jupyter.widget-view+json": {
       "model_id": "fb903743975349d7b3dcdffe870ca05b",
       "version_major": 2,
       "version_minor": 0
      },
      "text/plain": [
       "  0%|          | 0/11873 [00:00<?, ?it/s]"
      ]
     },
     "metadata": {},
     "output_type": "display_data"
    },
    {
     "data": {
      "application/vnd.jupyter.widget-view+json": {
       "model_id": "1543944d10bb4041be225b9bfddfe155",
       "version_major": 2,
       "version_minor": 0
      },
      "text/plain": [
       "  0%|          | 0/11873 [00:00<?, ?it/s]"
      ]
     },
     "metadata": {},
     "output_type": "display_data"
    },
    {
     "data": {
      "application/vnd.jupyter.widget-view+json": {
       "model_id": "29356ee57a7a4786947d4175d0e28159",
       "version_major": 2,
       "version_minor": 0
      },
      "text/plain": [
       "  0%|          | 0/11873 [00:00<?, ?it/s]"
      ]
     },
     "metadata": {},
     "output_type": "display_data"
    },
    {
     "name": "stdout",
     "output_type": "stream",
     "text": [
      "Stopping training: No improvement in eval_f1 for 1 epochs\n"
     ]
    },
    {
     "data": {
      "text/html": [
       "\n",
       "    <div>\n",
       "      \n",
       "      <progress value='839' max='839' style='width:300px; height:20px; vertical-align: middle;'></progress>\n",
       "      [839/839 00:33]\n",
       "    </div>\n",
       "    "
      ],
      "text/plain": [
       "<IPython.core.display.HTML object>"
      ]
     },
     "metadata": {},
     "output_type": "display_data"
    },
    {
     "data": {
      "application/vnd.jupyter.widget-view+json": {
       "model_id": "1f9c779505d94e53a208e90607af097b",
       "version_major": 2,
       "version_minor": 0
      },
      "text/plain": [
       "  0%|          | 0/11873 [00:00<?, ?it/s]"
      ]
     },
     "metadata": {},
     "output_type": "display_data"
    },
    {
     "name": "stdout",
     "output_type": "stream",
     "text": [
      "Stopping training: No improvement in eval_f1 for 1 epochs\n"
     ]
    },
    {
     "name": "stderr",
     "output_type": "stream",
     "text": [
      "[I 2024-06-01 23:17:33,146] Trial 26 finished with value: 82.80539241758284 and parameters: {'no_answer_threshold': 0.6741294754835376, 'learning_rate': 3.120029326587576e-05, 'warmup_ratio': 0, 'weight_decay': 0.18223032889539567, 'adam_beta1': 0.9380261907821438, 'adam_beta2': 0.9948461316283067, 'adam_epsilon': 2.2991478523591833e-07, 'lr_scheduler_type': 'cosine_with_restarts'}. Best is trial 21 with value: 83.1336486656983.\n"
     ]
    },
    {
     "name": "stdout",
     "output_type": "stream",
     "text": [
      "Current Trial 27 parameters: {'no_answer_threshold': 0.3865680400449969, 'learning_rate': 5.4196978146118004e-05, 'warmup_ratio': 0, 'weight_decay': 0.11856369257769583, 'adam_beta1': 0.8669285050322983, 'adam_beta2': 0.9974447610574465, 'adam_epsilon': 4.719300706309132e-07, 'lr_scheduler_type': 'cosine_with_restarts'}\n"
     ]
    },
    {
     "name": "stderr",
     "output_type": "stream",
     "text": [
      "Some weights of DebertaV2ForQuestionAnswering were not initialized from the model checkpoint at microsoft/deberta-v3-base and are newly initialized: ['qa_outputs.bias', 'qa_outputs.weight']\n",
      "You should probably TRAIN this model on a down-stream task to be able to use it for predictions and inference.\n"
     ]
    },
    {
     "data": {
      "text/html": [
       "\n",
       "    <div>\n",
       "      \n",
       "      <progress value='11802' max='11802' style='width:300px; height:20px; vertical-align: middle;'></progress>\n",
       "      [11802/11802 33:21, Epoch 3/3]\n",
       "    </div>\n",
       "    <table border=\"1\" class=\"dataframe\">\n",
       "  <thead>\n",
       " <tr style=\"text-align: left;\">\n",
       "      <th>Epoch</th>\n",
       "      <th>Training Loss</th>\n",
       "      <th>Validation Loss</th>\n",
       "      <th>Exact</th>\n",
       "      <th>F1</th>\n",
       "      <th>Total</th>\n",
       "      <th>Hasans Exact</th>\n",
       "      <th>Hasans F1</th>\n",
       "      <th>Hasans Total</th>\n",
       "      <th>Noans Exact</th>\n",
       "      <th>Noans F1</th>\n",
       "      <th>Noans Total</th>\n",
       "      <th>Best Exact</th>\n",
       "      <th>Best Exact Thresh</th>\n",
       "      <th>Best F1</th>\n",
       "      <th>Best F1 Thresh</th>\n",
       "    </tr>\n",
       "  </thead>\n",
       "  <tbody>\n",
       "    <tr>\n",
       "      <td>1</td>\n",
       "      <td>0.844200</td>\n",
       "      <td>No log</td>\n",
       "      <td>65.130969</td>\n",
       "      <td>80.803008</td>\n",
       "      <td>11873</td>\n",
       "      <td>45.293522</td>\n",
       "      <td>76.682543</td>\n",
       "      <td>5928</td>\n",
       "      <td>84.911690</td>\n",
       "      <td>84.911690</td>\n",
       "      <td>5945</td>\n",
       "      <td>65.130969</td>\n",
       "      <td>0.000000</td>\n",
       "      <td>80.803008</td>\n",
       "      <td>0.000000</td>\n",
       "    </tr>\n",
       "    <tr>\n",
       "      <td>2</td>\n",
       "      <td>0.507900</td>\n",
       "      <td>No log</td>\n",
       "      <td>67.118673</td>\n",
       "      <td>83.005592</td>\n",
       "      <td>11873</td>\n",
       "      <td>44.939271</td>\n",
       "      <td>76.758669</td>\n",
       "      <td>5928</td>\n",
       "      <td>89.234651</td>\n",
       "      <td>89.234651</td>\n",
       "      <td>5945</td>\n",
       "      <td>67.118673</td>\n",
       "      <td>0.000000</td>\n",
       "      <td>83.005592</td>\n",
       "      <td>0.000000</td>\n",
       "    </tr>\n",
       "    <tr>\n",
       "      <td>3</td>\n",
       "      <td>0.284000</td>\n",
       "      <td>No log</td>\n",
       "      <td>66.537522</td>\n",
       "      <td>82.768449</td>\n",
       "      <td>11873</td>\n",
       "      <td>46.238192</td>\n",
       "      <td>78.746591</td>\n",
       "      <td>5928</td>\n",
       "      <td>86.778806</td>\n",
       "      <td>86.778806</td>\n",
       "      <td>5945</td>\n",
       "      <td>66.537522</td>\n",
       "      <td>0.000000</td>\n",
       "      <td>82.768449</td>\n",
       "      <td>0.000000</td>\n",
       "    </tr>\n",
       "  </tbody>\n",
       "</table><p>"
      ],
      "text/plain": [
       "<IPython.core.display.HTML object>"
      ]
     },
     "metadata": {},
     "output_type": "display_data"
    },
    {
     "data": {
      "application/vnd.jupyter.widget-view+json": {
       "model_id": "eeca4c68df7240aeb1a7253254445e16",
       "version_major": 2,
       "version_minor": 0
      },
      "text/plain": [
       "  0%|          | 0/11873 [00:00<?, ?it/s]"
      ]
     },
     "metadata": {},
     "output_type": "display_data"
    },
    {
     "data": {
      "application/vnd.jupyter.widget-view+json": {
       "model_id": "bac8720633274bdfac2e1838495a23fc",
       "version_major": 2,
       "version_minor": 0
      },
      "text/plain": [
       "  0%|          | 0/11873 [00:00<?, ?it/s]"
      ]
     },
     "metadata": {},
     "output_type": "display_data"
    },
    {
     "data": {
      "application/vnd.jupyter.widget-view+json": {
       "model_id": "0a02a971ea434e7db9372d9fe9093b26",
       "version_major": 2,
       "version_minor": 0
      },
      "text/plain": [
       "  0%|          | 0/11873 [00:00<?, ?it/s]"
      ]
     },
     "metadata": {},
     "output_type": "display_data"
    },
    {
     "name": "stdout",
     "output_type": "stream",
     "text": [
      "Stopping training: No improvement in eval_f1 for 1 epochs\n"
     ]
    },
    {
     "data": {
      "text/html": [
       "\n",
       "    <div>\n",
       "      \n",
       "      <progress value='839' max='839' style='width:300px; height:20px; vertical-align: middle;'></progress>\n",
       "      [839/839 00:33]\n",
       "    </div>\n",
       "    "
      ],
      "text/plain": [
       "<IPython.core.display.HTML object>"
      ]
     },
     "metadata": {},
     "output_type": "display_data"
    },
    {
     "data": {
      "application/vnd.jupyter.widget-view+json": {
       "model_id": "253f9359150e42a8835fdb7736f3436a",
       "version_major": 2,
       "version_minor": 0
      },
      "text/plain": [
       "  0%|          | 0/11873 [00:00<?, ?it/s]"
      ]
     },
     "metadata": {},
     "output_type": "display_data"
    },
    {
     "name": "stdout",
     "output_type": "stream",
     "text": [
      "Stopping training: No improvement in eval_f1 for 1 epochs\n"
     ]
    },
    {
     "name": "stderr",
     "output_type": "stream",
     "text": [
      "[I 2024-06-01 23:52:08,506] Trial 27 finished with value: 83.00559166752122 and parameters: {'no_answer_threshold': 0.3865680400449969, 'learning_rate': 5.4196978146118004e-05, 'warmup_ratio': 0, 'weight_decay': 0.11856369257769583, 'adam_beta1': 0.8669285050322983, 'adam_beta2': 0.9974447610574465, 'adam_epsilon': 4.719300706309132e-07, 'lr_scheduler_type': 'cosine_with_restarts'}. Best is trial 21 with value: 83.1336486656983.\n"
     ]
    },
    {
     "name": "stdout",
     "output_type": "stream",
     "text": [
      "Current Trial 28 parameters: {'no_answer_threshold': 0.3529553832736568, 'learning_rate': 5.0664730289548935e-05, 'warmup_ratio': 0, 'weight_decay': 0.11038026130825125, 'adam_beta1': 0.8663525240980434, 'adam_beta2': 0.9916917787500338, 'adam_epsilon': 9.000569828434742e-07, 'lr_scheduler_type': 'cosine_with_restarts'}\n"
     ]
    },
    {
     "name": "stderr",
     "output_type": "stream",
     "text": [
      "Some weights of DebertaV2ForQuestionAnswering were not initialized from the model checkpoint at microsoft/deberta-v3-base and are newly initialized: ['qa_outputs.bias', 'qa_outputs.weight']\n",
      "You should probably TRAIN this model on a down-stream task to be able to use it for predictions and inference.\n"
     ]
    },
    {
     "data": {
      "text/html": [
       "\n",
       "    <div>\n",
       "      \n",
       "      <progress value='11802' max='11802' style='width:300px; height:20px; vertical-align: middle;'></progress>\n",
       "      [11802/11802 33:28, Epoch 3/3]\n",
       "    </div>\n",
       "    <table border=\"1\" class=\"dataframe\">\n",
       "  <thead>\n",
       " <tr style=\"text-align: left;\">\n",
       "      <th>Epoch</th>\n",
       "      <th>Training Loss</th>\n",
       "      <th>Validation Loss</th>\n",
       "      <th>Exact</th>\n",
       "      <th>F1</th>\n",
       "      <th>Total</th>\n",
       "      <th>Hasans Exact</th>\n",
       "      <th>Hasans F1</th>\n",
       "      <th>Hasans Total</th>\n",
       "      <th>Noans Exact</th>\n",
       "      <th>Noans F1</th>\n",
       "      <th>Noans Total</th>\n",
       "      <th>Best Exact</th>\n",
       "      <th>Best Exact Thresh</th>\n",
       "      <th>Best F1</th>\n",
       "      <th>Best F1 Thresh</th>\n",
       "    </tr>\n",
       "  </thead>\n",
       "  <tbody>\n",
       "    <tr>\n",
       "      <td>1</td>\n",
       "      <td>0.846700</td>\n",
       "      <td>No log</td>\n",
       "      <td>64.516129</td>\n",
       "      <td>80.580808</td>\n",
       "      <td>11873</td>\n",
       "      <td>45.141700</td>\n",
       "      <td>77.317129</td>\n",
       "      <td>5928</td>\n",
       "      <td>83.835156</td>\n",
       "      <td>83.835156</td>\n",
       "      <td>5945</td>\n",
       "      <td>64.516129</td>\n",
       "      <td>0.000000</td>\n",
       "      <td>80.580808</td>\n",
       "      <td>0.000000</td>\n",
       "    </tr>\n",
       "    <tr>\n",
       "      <td>2</td>\n",
       "      <td>0.507800</td>\n",
       "      <td>No log</td>\n",
       "      <td>66.554367</td>\n",
       "      <td>82.520928</td>\n",
       "      <td>11873</td>\n",
       "      <td>45.276653</td>\n",
       "      <td>77.255563</td>\n",
       "      <td>5928</td>\n",
       "      <td>87.771236</td>\n",
       "      <td>87.771236</td>\n",
       "      <td>5945</td>\n",
       "      <td>66.554367</td>\n",
       "      <td>0.000000</td>\n",
       "      <td>82.520928</td>\n",
       "      <td>0.000000</td>\n",
       "    </tr>\n",
       "    <tr>\n",
       "      <td>3</td>\n",
       "      <td>0.292700</td>\n",
       "      <td>No log</td>\n",
       "      <td>66.124821</td>\n",
       "      <td>82.573673</td>\n",
       "      <td>11873</td>\n",
       "      <td>45.732119</td>\n",
       "      <td>78.676995</td>\n",
       "      <td>5928</td>\n",
       "      <td>86.459209</td>\n",
       "      <td>86.459209</td>\n",
       "      <td>5945</td>\n",
       "      <td>66.124821</td>\n",
       "      <td>0.000000</td>\n",
       "      <td>82.573673</td>\n",
       "      <td>0.000000</td>\n",
       "    </tr>\n",
       "  </tbody>\n",
       "</table><p>"
      ],
      "text/plain": [
       "<IPython.core.display.HTML object>"
      ]
     },
     "metadata": {},
     "output_type": "display_data"
    },
    {
     "data": {
      "application/vnd.jupyter.widget-view+json": {
       "model_id": "067870cd0ed04c06801e16f93302bdfe",
       "version_major": 2,
       "version_minor": 0
      },
      "text/plain": [
       "  0%|          | 0/11873 [00:00<?, ?it/s]"
      ]
     },
     "metadata": {},
     "output_type": "display_data"
    },
    {
     "data": {
      "application/vnd.jupyter.widget-view+json": {
       "model_id": "ff59ec05169d4cb79203cc270d402e75",
       "version_major": 2,
       "version_minor": 0
      },
      "text/plain": [
       "  0%|          | 0/11873 [00:00<?, ?it/s]"
      ]
     },
     "metadata": {},
     "output_type": "display_data"
    },
    {
     "data": {
      "application/vnd.jupyter.widget-view+json": {
       "model_id": "96daf221159f47538fdcb914a0218bdc",
       "version_major": 2,
       "version_minor": 0
      },
      "text/plain": [
       "  0%|          | 0/11873 [00:00<?, ?it/s]"
      ]
     },
     "metadata": {},
     "output_type": "display_data"
    },
    {
     "data": {
      "text/html": [
       "\n",
       "    <div>\n",
       "      \n",
       "      <progress value='839' max='839' style='width:300px; height:20px; vertical-align: middle;'></progress>\n",
       "      [839/839 00:33]\n",
       "    </div>\n",
       "    "
      ],
      "text/plain": [
       "<IPython.core.display.HTML object>"
      ]
     },
     "metadata": {},
     "output_type": "display_data"
    },
    {
     "data": {
      "application/vnd.jupyter.widget-view+json": {
       "model_id": "01c7fa4a0a2b41538211763da363493c",
       "version_major": 2,
       "version_minor": 0
      },
      "text/plain": [
       "  0%|          | 0/11873 [00:00<?, ?it/s]"
      ]
     },
     "metadata": {},
     "output_type": "display_data"
    },
    {
     "name": "stdout",
     "output_type": "stream",
     "text": [
      "Stopping training: No improvement in eval_f1 for 1 epochs\n"
     ]
    },
    {
     "name": "stderr",
     "output_type": "stream",
     "text": [
      "[I 2024-06-02 00:26:51,115] Trial 28 finished with value: 82.57367343754812 and parameters: {'no_answer_threshold': 0.3529553832736568, 'learning_rate': 5.0664730289548935e-05, 'warmup_ratio': 0, 'weight_decay': 0.11038026130825125, 'adam_beta1': 0.8663525240980434, 'adam_beta2': 0.9916917787500338, 'adam_epsilon': 9.000569828434742e-07, 'lr_scheduler_type': 'cosine_with_restarts'}. Best is trial 21 with value: 83.1336486656983.\n"
     ]
    },
    {
     "name": "stdout",
     "output_type": "stream",
     "text": [
      "Current Trial 29 parameters: {'no_answer_threshold': 0.14064827719773343, 'learning_rate': 3.339427280398926e-06, 'warmup_ratio': 0, 'weight_decay': 0.1526010595243115, 'adam_beta1': 0.8748277796508991, 'adam_beta2': 0.9975850645360472, 'adam_epsilon': 1.6265660001755841e-07, 'lr_scheduler_type': 'cosine_with_restarts'}\n"
     ]
    },
    {
     "name": "stderr",
     "output_type": "stream",
     "text": [
      "Some weights of DebertaV2ForQuestionAnswering were not initialized from the model checkpoint at microsoft/deberta-v3-base and are newly initialized: ['qa_outputs.bias', 'qa_outputs.weight']\n",
      "You should probably TRAIN this model on a down-stream task to be able to use it for predictions and inference.\n"
     ]
    },
    {
     "data": {
      "text/html": [
       "\n",
       "    <div>\n",
       "      \n",
       "      <progress value='3934' max='11802' style='width:300px; height:20px; vertical-align: middle;'></progress>\n",
       "      [ 3934/11802 11:17 < 22:35, 5.80 it/s, Epoch 1/3]\n",
       "    </div>\n",
       "    <table border=\"1\" class=\"dataframe\">\n",
       "  <thead>\n",
       " <tr style=\"text-align: left;\">\n",
       "      <th>Epoch</th>\n",
       "      <th>Training Loss</th>\n",
       "      <th>Validation Loss</th>\n",
       "      <th>Exact</th>\n",
       "      <th>F1</th>\n",
       "      <th>Total</th>\n",
       "      <th>Hasans Exact</th>\n",
       "      <th>Hasans F1</th>\n",
       "      <th>Hasans Total</th>\n",
       "      <th>Noans Exact</th>\n",
       "      <th>Noans F1</th>\n",
       "      <th>Noans Total</th>\n",
       "      <th>Best Exact</th>\n",
       "      <th>Best Exact Thresh</th>\n",
       "      <th>Best F1</th>\n",
       "      <th>Best F1 Thresh</th>\n",
       "    </tr>\n",
       "  </thead>\n",
       "  <tbody>\n",
       "    <tr>\n",
       "      <td>1</td>\n",
       "      <td>1.098300</td>\n",
       "      <td>No log</td>\n",
       "      <td>56.944327</td>\n",
       "      <td>73.090313</td>\n",
       "      <td>11873</td>\n",
       "      <td>44.230769</td>\n",
       "      <td>76.569043</td>\n",
       "      <td>5928</td>\n",
       "      <td>69.621531</td>\n",
       "      <td>69.621531</td>\n",
       "      <td>5945</td>\n",
       "      <td>56.944327</td>\n",
       "      <td>0.000000</td>\n",
       "      <td>73.090313</td>\n",
       "      <td>0.000000</td>\n",
       "    </tr>\n",
       "  </tbody>\n",
       "</table><p>"
      ],
      "text/plain": [
       "<IPython.core.display.HTML object>"
      ]
     },
     "metadata": {},
     "output_type": "display_data"
    },
    {
     "data": {
      "application/vnd.jupyter.widget-view+json": {
       "model_id": "416cd51b185945a9a14666454a436689",
       "version_major": 2,
       "version_minor": 0
      },
      "text/plain": [
       "  0%|          | 0/11873 [00:00<?, ?it/s]"
      ]
     },
     "metadata": {},
     "output_type": "display_data"
    },
    {
     "name": "stdout",
     "output_type": "stream",
     "text": [
      "Stopping training: eval_f1 below threshold of 75\n"
     ]
    },
    {
     "data": {
      "text/html": [
       "\n",
       "    <div>\n",
       "      \n",
       "      <progress value='839' max='839' style='width:300px; height:20px; vertical-align: middle;'></progress>\n",
       "      [839/839 00:33]\n",
       "    </div>\n",
       "    "
      ],
      "text/plain": [
       "<IPython.core.display.HTML object>"
      ]
     },
     "metadata": {},
     "output_type": "display_data"
    },
    {
     "data": {
      "application/vnd.jupyter.widget-view+json": {
       "model_id": "76355bae070948048f74fd0382738da9",
       "version_major": 2,
       "version_minor": 0
      },
      "text/plain": [
       "  0%|          | 0/11873 [00:00<?, ?it/s]"
      ]
     },
     "metadata": {},
     "output_type": "display_data"
    },
    {
     "name": "stdout",
     "output_type": "stream",
     "text": [
      "Stopping training: eval_f1 below threshold of 75\n",
      "Stopping training: No improvement in eval_f1 for 1 epochs\n"
     ]
    },
    {
     "name": "stderr",
     "output_type": "stream",
     "text": [
      "[I 2024-06-02 00:39:21,646] Trial 29 finished with value: 73.09031313481157 and parameters: {'no_answer_threshold': 0.14064827719773343, 'learning_rate': 3.339427280398926e-06, 'warmup_ratio': 0, 'weight_decay': 0.1526010595243115, 'adam_beta1': 0.8748277796508991, 'adam_beta2': 0.9975850645360472, 'adam_epsilon': 1.6265660001755841e-07, 'lr_scheduler_type': 'cosine_with_restarts'}. Best is trial 21 with value: 83.1336486656983.\n"
     ]
    }
   ],
   "source": [
    "study.optimize(objective, n_trials=5)"
   ]
  },
  {
   "cell_type": "markdown",
   "id": "d6f8e1c1-893e-4be8-88cd-622dec5a543b",
   "metadata": {
    "tags": []
   },
   "source": [
    "## 7. Summary of Hyperparameters Search\n",
    "\n",
    "Each row of the below table corresponds to a trial and shows all specified parameters along with measured performance metrics with Trial 9 acheiving the highest performance.\n",
    "\n",
    "\n",
    "\n",
    "| Trial | Learning Rate     | Batch Size | Warmup Steps | Weight Decay   | Adam Beta1 | Adam Beta2 | Adam Epsilon | LR Scheduler Type          | Exact   | F1       | Hasans Exact | Hasans F1 | Noans Exact | Noans F1 |\n",
    "|-------|-------------------|------------|--------------|----------------|------------|------------|--------------|----------------------------|---------|----------|--------------|-----------|-------------|----------|\n"
   ]
  },
  {
   "cell_type": "markdown",
   "id": "978cde17-3ef7-47ac-8663-b74fdefee34a",
   "metadata": {
    "jp-MarkdownHeadingCollapsed": true,
    "tags": []
   },
   "source": [
    "## Tuning DeBERTa Using the Best Hyperparameters"
   ]
  },
  {
   "cell_type": "code",
   "execution_count": 54,
   "id": "a3805e98-599c-4c21-9922-ae913acc6b0e",
   "metadata": {
    "tags": []
   },
   "outputs": [
    {
     "name": "stderr",
     "output_type": "stream",
     "text": [
      "Some weights of DebertaV2ForQuestionAnswering were not initialized from the model checkpoint at microsoft/deberta-v3-base and are newly initialized: ['qa_outputs.bias', 'qa_outputs.weight']\n",
      "You should probably TRAIN this model on a down-stream task to be able to use it for predictions and inference.\n"
     ]
    },
    {
     "data": {
      "text/html": [
       "Tracking run with wandb version 0.17.0"
      ],
      "text/plain": [
       "<IPython.core.display.HTML object>"
      ]
     },
     "metadata": {},
     "output_type": "display_data"
    },
    {
     "data": {
      "text/html": [
       "Run data is saved locally in <code>C:\\Users\\OEM\\COMPSCI-714\\COMPSCI714 Project\\wandb\\run-20240602_124823-ldg2qaab</code>"
      ],
      "text/plain": [
       "<IPython.core.display.HTML object>"
      ]
     },
     "metadata": {},
     "output_type": "display_data"
    },
    {
     "data": {
      "text/html": [
       "Syncing run <strong><a href='https://wandb.ai/COMPSCI714/huggingface/runs/ldg2qaab' target=\"_blank\">microsoft-deberta-v3-base-best_model</a></strong> to <a href='https://wandb.ai/COMPSCI714/huggingface' target=\"_blank\">Weights & Biases</a> (<a href='https://wandb.me/run' target=\"_blank\">docs</a>)<br/>"
      ],
      "text/plain": [
       "<IPython.core.display.HTML object>"
      ]
     },
     "metadata": {},
     "output_type": "display_data"
    },
    {
     "data": {
      "text/html": [
       " View project at <a href='https://wandb.ai/COMPSCI714/huggingface' target=\"_blank\">https://wandb.ai/COMPSCI714/huggingface</a>"
      ],
      "text/plain": [
       "<IPython.core.display.HTML object>"
      ]
     },
     "metadata": {},
     "output_type": "display_data"
    },
    {
     "data": {
      "text/html": [
       " View run at <a href='https://wandb.ai/COMPSCI714/huggingface/runs/ldg2qaab' target=\"_blank\">https://wandb.ai/COMPSCI714/huggingface/runs/ldg2qaab</a>"
      ],
      "text/plain": [
       "<IPython.core.display.HTML object>"
      ]
     },
     "metadata": {},
     "output_type": "display_data"
    },
    {
     "data": {
      "text/html": [
       "\n",
       "    <div>\n",
       "      \n",
       "      <progress value='48780' max='48780' style='width:300px; height:20px; vertical-align: middle;'></progress>\n",
       "      [48780/48780 3:00:37, Epoch 3/3]\n",
       "    </div>\n",
       "    <table border=\"1\" class=\"dataframe\">\n",
       "  <thead>\n",
       " <tr style=\"text-align: left;\">\n",
       "      <th>Epoch</th>\n",
       "      <th>Training Loss</th>\n",
       "      <th>Validation Loss</th>\n",
       "      <th>Exact</th>\n",
       "      <th>F1</th>\n",
       "      <th>Total</th>\n",
       "      <th>Hasans Exact</th>\n",
       "      <th>Hasans F1</th>\n",
       "      <th>Hasans Total</th>\n",
       "      <th>Noans Exact</th>\n",
       "      <th>Noans F1</th>\n",
       "      <th>Noans Total</th>\n",
       "      <th>Best Exact</th>\n",
       "      <th>Best Exact Thresh</th>\n",
       "      <th>Best F1</th>\n",
       "      <th>Best F1 Thresh</th>\n",
       "    </tr>\n",
       "  </thead>\n",
       "  <tbody>\n",
       "    <tr>\n",
       "      <td>1</td>\n",
       "      <td>0.723200</td>\n",
       "      <td>No log</td>\n",
       "      <td>65.762655</td>\n",
       "      <td>82.312228</td>\n",
       "      <td>11873</td>\n",
       "      <td>47.047908</td>\n",
       "      <td>80.194514</td>\n",
       "      <td>5928</td>\n",
       "      <td>84.423886</td>\n",
       "      <td>84.423886</td>\n",
       "      <td>5945</td>\n",
       "      <td>65.762655</td>\n",
       "      <td>0.000000</td>\n",
       "      <td>82.312228</td>\n",
       "      <td>0.000000</td>\n",
       "    </tr>\n",
       "    <tr>\n",
       "      <td>2</td>\n",
       "      <td>0.543700</td>\n",
       "      <td>No log</td>\n",
       "      <td>67.059715</td>\n",
       "      <td>83.484553</td>\n",
       "      <td>11873</td>\n",
       "      <td>47.098516</td>\n",
       "      <td>79.995293</td>\n",
       "      <td>5928</td>\n",
       "      <td>86.963835</td>\n",
       "      <td>86.963835</td>\n",
       "      <td>5945</td>\n",
       "      <td>67.059715</td>\n",
       "      <td>0.000000</td>\n",
       "      <td>83.484553</td>\n",
       "      <td>0.000000</td>\n",
       "    </tr>\n",
       "    <tr>\n",
       "      <td>3</td>\n",
       "      <td>0.396200</td>\n",
       "      <td>No log</td>\n",
       "      <td>67.101828</td>\n",
       "      <td>83.711192</td>\n",
       "      <td>11873</td>\n",
       "      <td>47.284076</td>\n",
       "      <td>80.550435</td>\n",
       "      <td>5928</td>\n",
       "      <td>86.862910</td>\n",
       "      <td>86.862910</td>\n",
       "      <td>5945</td>\n",
       "      <td>67.101828</td>\n",
       "      <td>0.000000</td>\n",
       "      <td>83.711192</td>\n",
       "      <td>0.000000</td>\n",
       "    </tr>\n",
       "  </tbody>\n",
       "</table><p>"
      ],
      "text/plain": [
       "<IPython.core.display.HTML object>"
      ]
     },
     "metadata": {},
     "output_type": "display_data"
    },
    {
     "data": {
      "application/vnd.jupyter.widget-view+json": {
       "model_id": "2cedfae62a4e42788c1610b58e6e55f0",
       "version_major": 2,
       "version_minor": 0
      },
      "text/plain": [
       "  0%|          | 0/11873 [00:00<?, ?it/s]"
      ]
     },
     "metadata": {},
     "output_type": "display_data"
    },
    {
     "data": {
      "application/vnd.jupyter.widget-view+json": {
       "model_id": "78e9577a3bdc43659ccbf65a1584af02",
       "version_major": 2,
       "version_minor": 0
      },
      "text/plain": [
       "  0%|          | 0/11873 [00:00<?, ?it/s]"
      ]
     },
     "metadata": {},
     "output_type": "display_data"
    },
    {
     "data": {
      "application/vnd.jupyter.widget-view+json": {
       "model_id": "e7d7ec8a92514507b8e54f79eed9efc4",
       "version_major": 2,
       "version_minor": 0
      },
      "text/plain": [
       "  0%|          | 0/11873 [00:00<?, ?it/s]"
      ]
     },
     "metadata": {},
     "output_type": "display_data"
    },
    {
     "data": {
      "text/plain": [
       "TrainOutput(global_step=48780, training_loss=0.6374866088329157, metrics={'train_runtime': 10845.4602, 'train_samples_per_second': 35.98, 'train_steps_per_second': 4.498, 'total_flos': 1.019663682098688e+17, 'train_loss': 0.6374866088329157, 'epoch': 3.0})"
      ]
     },
     "execution_count": 54,
     "metadata": {},
     "output_type": "execute_result"
    }
   ],
   "source": [
    "no_answer_threshold = 0.6567043655087456\n",
    "\n",
    "model = AutoModelForQuestionAnswering.from_pretrained(pretrained_model_name)\n",
    "training_args = TrainingArguments(\n",
    "    output_dir=f\"./{normalized_model_name}-best_model\",\n",
    "    overwrite_output_dir = True,\n",
    "    metric_for_best_model='f1',\n",
    "    greater_is_better=True,\n",
    "    load_best_model_at_end=True,\n",
    "    save_total_limit=4, \n",
    "    eval_strategy=\"epoch\",\n",
    "    save_strategy=\"epoch\",\n",
    "    report_to=\"wandb\",  # Enable logging to Weights & Biases\n",
    "    run_name=f\"{normalized_model_name}-best_model\",\n",
    "    learning_rate=2e-5,\n",
    "    per_device_train_batch_size=8,\n",
    "    per_device_eval_batch_size=8,\n",
    "    warmup_steps=500,\n",
    "    num_train_epochs=3,\n",
    "    lr_scheduler_type = 'linear',\n",
    "    fp16=True,  # Enable mixed-precision training\n",
    ")\n",
    "\n",
    "trainer = QuestionAnsweringTrainer(\n",
    "        model=model,\n",
    "        args=training_args,\n",
    "        train_dataset=train_dataset,\n",
    "        eval_dataset=eval_dataset,\n",
    "        eval_examples=eval_examples,\n",
    "        tokenizer=tokenizer,\n",
    "        data_collator=data_collator,\n",
    "        post_process_function=post_processing_function,\n",
    "        compute_metrics=compute_metrics,\n",
    "        callbacks=[AdvancedEarlyStoppingCallback(metric_name='eval_f1', patience=1, threshold=80)]\n",
    ")\n",
    "\n",
    "trainer.train()"
   ]
  },
  {
   "cell_type": "code",
   "execution_count": null,
   "id": "4b74387a-a141-4ac1-96bc-81d7ff676562",
   "metadata": {},
   "outputs": [],
   "source": []
  }
 ],
 "metadata": {
  "kernelspec": {
   "display_name": "compsci714win",
   "language": "python",
   "name": "compsci714win"
  },
  "language_info": {
   "codemirror_mode": {
    "name": "ipython",
    "version": 3
   },
   "file_extension": ".py",
   "mimetype": "text/x-python",
   "name": "python",
   "nbconvert_exporter": "python",
   "pygments_lexer": "ipython3",
   "version": "3.10.14"
  }
 },
 "nbformat": 4,
 "nbformat_minor": 5
}
