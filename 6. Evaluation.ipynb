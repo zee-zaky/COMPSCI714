{
 "cells": [
  {
   "cell_type": "markdown",
   "id": "32d1e2d5-8f6a-42a6-b922-9d801bba49d9",
   "metadata": {
    "tags": []
   },
   "source": [
    "# 1. Preparations"
   ]
  },
  {
   "cell_type": "markdown",
   "id": "cf2c1659-9a30-4dc6-96fc-9efcb9fd7233",
   "metadata": {
    "jp-MarkdownHeadingCollapsed": true,
    "tags": []
   },
   "source": [
    "## Imports"
   ]
  },
  {
   "cell_type": "code",
   "execution_count": 109,
   "id": "e4228ce7-d7f1-437b-93bb-49bcf4035cf6",
   "metadata": {
    "tags": []
   },
   "outputs": [],
   "source": [
    "# Standard Library Imports\n",
    "import ast\n",
    "import copy\n",
    "import csv\n",
    "import json\n",
    "import math\n",
    "import os\n",
    "import re\n",
    "import time\n",
    "import warnings\n",
    "import logging\n",
    "import random\n",
    "import collections\n",
    "from collections import Counter\n",
    "from typing import List, Tuple, Optional\n",
    "from IPython.display import HTML, display\n",
    "import math\n",
    "import time\n",
    "from unidecode import unidecode\n",
    "from pathlib import Path\n",
    "import subprocess\n",
    "from collections import Counter, defaultdict\n",
    "\n",
    "# Data Handling Libraries\n",
    "import numpy as np\n",
    "import pandas as pd\n",
    "import csv\n",
    "from torch.utils.data import random_split\n",
    "import datasets\n",
    "from datasets import ClassLabel, Sequence\n",
    "\n",
    "# Data Visualization Libraries\n",
    "import matplotlib.pyplot as plt\n",
    "import seaborn as sns\n",
    "# import scikitplot as skplt  # Uncomment if scikit-plot is installed and needed\n",
    "\n",
    "# Machine Learning: Model Preparation\n",
    "from sklearn.metrics import accuracy_score, confusion_matrix, precision_recall_fscore_support\n",
    "from sklearn.model_selection import cross_val_score, cross_validate, KFold, train_test_split\n",
    "from sklearn.preprocessing import MinMaxScaler\n",
    "\n",
    "# Machine Learning: Models and Frameworks\n",
    "import tensorflow as tf\n",
    "import torch\n",
    "import evaluate\n",
    "import xgboost\n",
    "import wandb\n",
    "from xgboost import plot_importance  # Uncomment if xgboost importance plot is required\n",
    "\n",
    "\n",
    "# NLP and Transformers\n",
    "from transformers import (AdamW, AutoModelForSequenceClassification, AutoModelForQuestionAnswering,\n",
    "                          AutoTokenizer, CamembertForSequenceClassification, DistilBertConfig,\n",
    "                          DistilBertForSequenceClassification, DistilBertModel, EarlyStoppingCallback,\n",
    "                          get_linear_schedule_with_warmup, RobertaForSequenceClassification, EvalPrediction,\n",
    "                          Trainer, TrainerCallback, TrainingArguments, XLMRobertaForSequenceClassification,\n",
    "                         DefaultDataCollator, BertForQuestionAnswering, DataCollatorWithPadding, PreTrainedTokenizerFast,\n",
    "                         default_data_collator, is_torch_xla_available)\n",
    "from datasets import Dataset, DatasetDict, load_dataset\n",
    "from transformers.trainer_utils import PredictionOutput, speed_metrics\n",
    "\n",
    "# Experiment Tracking and Optimization Utilities\n",
    "import optuna\n",
    "from optuna.trial import TrialState\n",
    "# import wandb  # Uncomment if using Weights & Biases for experiment tracking\n",
    "\n",
    "# Progress Bar Utilities\n",
    "from tqdm.notebook import tqdm\n"
   ]
  },
  {
   "cell_type": "markdown",
   "id": "0f054b4d-2865-4d96-8aee-1cd9924326ee",
   "metadata": {
    "jp-MarkdownHeadingCollapsed": true,
    "tags": []
   },
   "source": [
    "## Global Variables"
   ]
  },
  {
   "cell_type": "code",
   "execution_count": 4,
   "id": "4672306d-fbc6-4611-b773-8ed62f6c8d30",
   "metadata": {
    "tags": []
   },
   "outputs": [],
   "source": [
    "## Arguments and global vriables\n",
    "global_doc_stride = 128\n",
    "data_collator = DefaultDataCollator()\n",
    "version_2_with_negative = True\n",
    "no_answer_threshold = 0.5\n",
    "global_counter = 0\n",
    "traing_answer_mismatches = []\n",
    "logger = logging.getLogger(__name__)\n",
    "global train_dataset\n",
    "global eval_dataset\n",
    "global cleaned_training_dataset"
   ]
  },
  {
   "cell_type": "markdown",
   "id": "9b9edb1c-d860-493a-8700-beb6ecd3e93e",
   "metadata": {
    "jp-MarkdownHeadingCollapsed": true,
    "tags": []
   },
   "source": [
    "## Reusable Functions"
   ]
  },
  {
   "cell_type": "code",
   "execution_count": 72,
   "id": "febd7663-fbd2-440d-abd1-126119edbbb4",
   "metadata": {
    "tags": []
   },
   "outputs": [],
   "source": [
    "# Function to generate predictions and format them\n",
    "def generate_and_save_predictions(trainer, dataset, examples, filename=\"predictions.json\"):\n",
    "    # Predicting using the trainer\n",
    "    predictions_output = trainer.predict(predict_dataset=dataset, predict_examples=examples)\n",
    "    \n",
    "    # Transform the list of predictions to the desired format\n",
    "    formatted_predictions = {pred['id']: pred['prediction_text'] for pred in predictions_output.predictions}\n",
    "        \n",
    "    # Saving the predictions in the required format\n",
    "    with open(filename, \"w\") as writer:\n",
    "        json.dump(formatted_predictions, writer, indent=4)\n",
    "        \n",
    "    return predictions_output\n"
   ]
  },
  {
   "cell_type": "code",
   "execution_count": 6,
   "id": "dd9a15cc-2127-4e6c-8ae3-e6759af969fe",
   "metadata": {},
   "outputs": [],
   "source": [
    "### Compute_metrics function for Question and Answering problem is different to classification, more preocessing required.\n",
    "metric = evaluate.load(\"squad_v2\")\n",
    "\n",
    "def compute_metrics(p: EvalPrediction):\n",
    "        return metric.compute(predictions=p.predictions, references=p.label_ids)"
   ]
  },
  {
   "cell_type": "code",
   "execution_count": 7,
   "id": "9fc0defd-7e1b-4cf6-98c4-16c53f5fd1bb",
   "metadata": {},
   "outputs": [],
   "source": [
    "\"\"\"\n",
    "A subclass of `Trainer` specific to Question-Answering tasks\n",
    "\"\"\"\n",
    "\n",
    "if is_torch_xla_available():\n",
    "    import torch_xla.core.xla_model as xm\n",
    "    import torch_xla.debug.metrics as met\n",
    "\n",
    "\n",
    "class QuestionAnsweringTrainer(Trainer):\n",
    "    def __init__(self, *args, eval_examples=None, post_process_function=None, **kwargs):\n",
    "        super().__init__(*args, **kwargs)\n",
    "        self.eval_examples = eval_examples\n",
    "        self.post_process_function = post_process_function\n",
    "\n",
    "    def evaluate(self, eval_dataset=None, eval_examples=None, ignore_keys=None, metric_key_prefix: str = \"eval\"):\n",
    "        eval_dataset = self.eval_dataset if eval_dataset is None else eval_dataset\n",
    "        eval_dataloader = self.get_eval_dataloader(eval_dataset)\n",
    "        eval_examples = self.eval_examples if eval_examples is None else eval_examples\n",
    "\n",
    "        # Temporarily disable metric computation, we will do it in the loop here.\n",
    "        compute_metrics = self.compute_metrics\n",
    "        self.compute_metrics = None\n",
    "        eval_loop = self.prediction_loop if self.args.use_legacy_prediction_loop else self.evaluation_loop\n",
    "        start_time = time.time()\n",
    "        try:\n",
    "            output = eval_loop(\n",
    "                eval_dataloader,\n",
    "                description=\"Evaluation\",\n",
    "                # No point gathering the predictions if there are no metrics, otherwise we defer to\n",
    "                # self.args.prediction_loss_only\n",
    "                prediction_loss_only=True if compute_metrics is None else None,\n",
    "                ignore_keys=ignore_keys,\n",
    "                metric_key_prefix=metric_key_prefix,\n",
    "            )\n",
    "        finally:\n",
    "            self.compute_metrics = compute_metrics\n",
    "        total_batch_size = self.args.eval_batch_size * self.args.world_size\n",
    "        if f\"{metric_key_prefix}_jit_compilation_time\" in output.metrics:\n",
    "            start_time += output.metrics[f\"{metric_key_prefix}_jit_compilation_time\"]\n",
    "        output.metrics.update(\n",
    "            speed_metrics(\n",
    "                metric_key_prefix,\n",
    "                start_time,\n",
    "                num_samples=output.num_samples,\n",
    "                num_steps=math.ceil(output.num_samples / total_batch_size),\n",
    "            )\n",
    "        )\n",
    "        if self.post_process_function is not None and self.compute_metrics is not None and self.args.should_save:\n",
    "            # Only the main node write the results by default\n",
    "            eval_preds = self.post_process_function(eval_examples, eval_dataset, output.predictions)\n",
    "            metrics = self.compute_metrics(eval_preds)\n",
    "\n",
    "            # Prefix all keys with metric_key_prefix + '_'\n",
    "            for key in list(metrics.keys()):\n",
    "                if not key.startswith(f\"{metric_key_prefix}_\"):\n",
    "                    metrics[f\"{metric_key_prefix}_{key}\"] = metrics.pop(key)\n",
    "            metrics.update(output.metrics)\n",
    "        else:\n",
    "            metrics = output.metrics\n",
    "\n",
    "        if self.args.should_log:\n",
    "            # Only the main node log the results by default\n",
    "            self.log(metrics)\n",
    "\n",
    "        if self.args.tpu_metrics_debug or self.args.debug:\n",
    "            # tpu-comment: Logging debug metrics for PyTorch/XLA (compile, execute times, ops, etc.)\n",
    "            xm.master_print(met.metrics_report())\n",
    "\n",
    "        self.control = self.callback_handler.on_evaluate(self.args, self.state, self.control, metrics)\n",
    "        return metrics\n",
    "\n",
    "    def predict(self, predict_dataset, predict_examples, ignore_keys=None, metric_key_prefix: str = \"test\"):\n",
    "        predict_dataloader = self.get_test_dataloader(predict_dataset)\n",
    "\n",
    "        # Temporarily disable metric computation, we will do it in the loop here.\n",
    "        compute_metrics = self.compute_metrics\n",
    "        self.compute_metrics = None\n",
    "        eval_loop = self.prediction_loop if self.args.use_legacy_prediction_loop else self.evaluation_loop\n",
    "        start_time = time.time()\n",
    "        try:\n",
    "            output = eval_loop(\n",
    "                predict_dataloader,\n",
    "                description=\"Prediction\",\n",
    "                # No point gathering the predictions if there are no metrics, otherwise we defer to\n",
    "                # self.args.prediction_loss_only\n",
    "                prediction_loss_only=True if compute_metrics is None else None,\n",
    "                ignore_keys=ignore_keys,\n",
    "                metric_key_prefix=metric_key_prefix,\n",
    "            )\n",
    "        finally:\n",
    "            self.compute_metrics = compute_metrics\n",
    "        total_batch_size = self.args.eval_batch_size * self.args.world_size\n",
    "        if f\"{metric_key_prefix}_jit_compilation_time\" in output.metrics:\n",
    "            start_time += output.metrics[f\"{metric_key_prefix}_jit_compilation_time\"]\n",
    "        output.metrics.update(\n",
    "            speed_metrics(\n",
    "                metric_key_prefix,\n",
    "                start_time,\n",
    "                num_samples=output.num_samples,\n",
    "                num_steps=math.ceil(output.num_samples / total_batch_size),\n",
    "            )\n",
    "        )\n",
    "\n",
    "        if self.post_process_function is None or self.compute_metrics is None:\n",
    "            return output\n",
    "\n",
    "        predictions = self.post_process_function(predict_examples, predict_dataset, output.predictions, \"predict\")\n",
    "        metrics = self.compute_metrics(predictions)\n",
    "\n",
    "        # Prefix all keys with metric_key_prefix + '_'\n",
    "        for key in list(metrics.keys()):\n",
    "            if not key.startswith(f\"{metric_key_prefix}_\"):\n",
    "                metrics[f\"{metric_key_prefix}_{key}\"] = metrics.pop(key)\n",
    "        metrics.update(output.metrics)\n",
    "        return PredictionOutput(predictions=predictions.predictions, label_ids=predictions.label_ids, metrics=metrics)"
   ]
  },
  {
   "cell_type": "code",
   "execution_count": 8,
   "id": "d27b1105-2dd4-4ba0-b593-d97bb9c7306a",
   "metadata": {},
   "outputs": [],
   "source": [
    "# Validation preprocessing\n",
    "def prepare_validation_features(examples):\n",
    "    # Some of the questions have lots of whitespace on the left, which is not useful and will make the\n",
    "    # truncation of the context fail (the tokenized question will take a lots of space). So we remove that\n",
    "    # left whitespace\n",
    "    examples[\"question\"] = [q.lstrip() for q in examples[\"question\"]]\n",
    "\n",
    "    # Tokenize our examples with truncation and maybe padding, but keep the overflows using a stride. This results\n",
    "    # in one example possible giving several features when a context is long, each of those features having a\n",
    "    # context that overlaps a bit the context of the previous feature.\n",
    "    tokenized_examples = tokenizer(\n",
    "        examples[\"question\" if right_padding else \"context\"],\n",
    "        examples[\"context\" if right_padding else \"question\"],\n",
    "        truncation=\"only_second\" if right_padding else \"only_first\",\n",
    "        max_length=max_seq_length,\n",
    "        stride=global_doc_stride,\n",
    "        return_overflowing_tokens=True,\n",
    "        return_offsets_mapping=True,\n",
    "        padding=\"max_length\",\n",
    "    )\n",
    "\n",
    "    # Since one example might give us several features if it has a long context, we need a map from a feature to\n",
    "    # its corresponding example. This key gives us just that.\n",
    "    sample_mapping = tokenized_examples.pop(\"overflow_to_sample_mapping\")\n",
    "\n",
    "    # For evaluation, we will need to convert our predictions to substrings of the context, so we keep the\n",
    "    # corresponding example_id and we will store the offset mappings.\n",
    "    tokenized_examples[\"example_id\"] = []\n",
    "\n",
    "    for i in range(len(tokenized_examples[\"input_ids\"])):\n",
    "        # Grab the sequence corresponding to that example (to know what is the context and what is the question).\n",
    "        sequence_ids = tokenized_examples.sequence_ids(i)\n",
    "        context_index = 1 if right_padding else 0\n",
    "\n",
    "        # One example can give several spans, this is the index of the example containing this span of text.\n",
    "        sample_index = sample_mapping[i]\n",
    "        tokenized_examples[\"example_id\"].append(examples[\"id\"][sample_index])\n",
    "\n",
    "        # Set to None the offset_mapping that are not part of the context so it's easy to determine if a token\n",
    "        # position is part of the context or not.\n",
    "        tokenized_examples[\"offset_mapping\"][i] = [\n",
    "            (o if sequence_ids[k] == context_index else None)\n",
    "            for k, o in enumerate(tokenized_examples[\"offset_mapping\"][i])\n",
    "        ]\n",
    "\n",
    "    return tokenized_examples"
   ]
  },
  {
   "cell_type": "code",
   "execution_count": 9,
   "id": "a2f64259-d9df-404d-be6e-87801c28da9e",
   "metadata": {},
   "outputs": [],
   "source": [
    "# Post-processing:\n",
    "def post_processing_function(examples, features, predictions, stage=\"eval\"):\n",
    "    # Post-processing: we match the start logits and end logits to answers in the original context.\n",
    "    predictions = postprocess_qa_predictions(\n",
    "        examples=examples,\n",
    "        features=features,\n",
    "        predictions=predictions,\n",
    "        version_2_with_negative=version_2_with_negative, #If true, some of the examples do not have an answer.\n",
    "        n_best_size=20, #The total number of n-best predictions to generate when looking for an answer.\n",
    "        max_answer_length=30, #The maximum length of an answer that can be generated. This is needed because the start and end predictions are not conditioned on one another.\n",
    "        null_score_diff_threshold=no_answer_threshold, #The threshold used to select the null answer: if the best answer has a score that is less than the score of the null answer minus this threshold, the null answer is selected for this example. Only useful when `version_2_with_negative=True`.\n",
    "        output_dir= None,\n",
    "        log_level=logging.WARNING,\n",
    "        prefix=stage,\n",
    "    )\n",
    "    # Format the result to the format the metric expects.\n",
    "    if version_2_with_negative:\n",
    "        formatted_predictions = [\n",
    "                {\"id\": str(k), \"prediction_text\": v, \"no_answer_probability\": 0.0} for k, v in predictions.items()\n",
    "            ]\n",
    "    else:\n",
    "        formatted_predictions = [{\"id\": str(k), \"prediction_text\": v} for k, v in predictions.items()]\n",
    "    \n",
    "    \n",
    "    references = [{\"id\": str(ex[\"id\"]), \"answers\": ex[\"answers\"]} for ex in examples]\n",
    "    return EvalPrediction(predictions=formatted_predictions, label_ids=references)"
   ]
  },
  {
   "cell_type": "code",
   "execution_count": 66,
   "id": "1e5ec5f1-11e3-424a-a199-d994b28819cd",
   "metadata": {},
   "outputs": [],
   "source": [
    "def postprocess_qa_predictions(\n",
    "    examples,\n",
    "    features,\n",
    "    predictions: Tuple[np.ndarray, np.ndarray],\n",
    "    version_2_with_negative: bool = False,\n",
    "    n_best_size: int = 20,\n",
    "    max_answer_length: int = 30,\n",
    "    null_score_diff_threshold: float = 0.0,\n",
    "    output_dir: Optional[str] = None,\n",
    "    prefix: Optional[str] = None,\n",
    "    log_level: Optional[int] = logging.WARNING,\n",
    "):\n",
    "    \"\"\"\n",
    "    Post-processes the predictions of a question-answering model to convert them to answers that are substrings of the\n",
    "    original contexts. This is the base postprocessing functions for models that only return start and end logits.\n",
    "\n",
    "    Args:\n",
    "        examples: The non-preprocessed dataset (see the main script for more information).\n",
    "        features: The processed dataset (see the main script for more information).\n",
    "        predictions (:obj:`Tuple[np.ndarray, np.ndarray]`):\n",
    "            The predictions of the model: two arrays containing the start logits and the end logits respectively. Its\n",
    "            first dimension must match the number of elements of :obj:`features`.\n",
    "        version_2_with_negative (:obj:`bool`, `optional`, defaults to :obj:`False`):\n",
    "            Whether or not the underlying dataset contains examples with no answers.\n",
    "        n_best_size (:obj:`int`, `optional`, defaults to 20):\n",
    "            The total number of n-best predictions to generate when looking for an answer.\n",
    "        max_answer_length (:obj:`int`, `optional`, defaults to 30):\n",
    "            The maximum length of an answer that can be generated. This is needed because the start and end predictions\n",
    "            are not conditioned on one another.\n",
    "        null_score_diff_threshold (:obj:`float`, `optional`, defaults to 0):\n",
    "            The threshold used to select the null answer: if the best answer has a score that is less than the score of\n",
    "            the null answer minus this threshold, the null answer is selected for this example (note that the score of\n",
    "            the null answer for an example giving several features is the minimum of the scores for the null answer on\n",
    "            each feature: all features must be aligned on the fact they `want` to predict a null answer).\n",
    "\n",
    "            Only useful when :obj:`version_2_with_negative` is :obj:`True`.\n",
    "        output_dir (:obj:`str`, `optional`):\n",
    "            If provided, the dictionaries of predictions, n_best predictions (with their scores and logits) and, if\n",
    "            :obj:`version_2_with_negative=True`, the dictionary of the scores differences between best and null\n",
    "            answers, are saved in `output_dir`.\n",
    "        prefix (:obj:`str`, `optional`):\n",
    "            If provided, the dictionaries mentioned above are saved with `prefix` added to their names.\n",
    "        log_level (:obj:`int`, `optional`, defaults to ``logging.WARNING``):\n",
    "            ``logging`` log level (e.g., ``logging.WARNING``)\n",
    "    \"\"\"\n",
    "    if len(predictions) != 2:\n",
    "        raise ValueError(\"`predictions` should be a tuple with two elements (start_logits, end_logits).\")\n",
    "    all_start_logits, all_end_logits = predictions\n",
    "\n",
    "    if len(predictions[0]) != len(features):\n",
    "        raise ValueError(f\"Got {len(predictions[0])} predictions and {len(features)} features.\")\n",
    "\n",
    "    # Build a map example to its corresponding features.\n",
    "    example_id_to_index = {k: i for i, k in enumerate(examples[\"id\"])}\n",
    "    features_per_example = collections.defaultdict(list)\n",
    "    for i, feature in enumerate(features):\n",
    "        features_per_example[example_id_to_index[feature[\"example_id\"]]].append(i)\n",
    "\n",
    "    # The dictionaries we have to fill.\n",
    "    all_predictions = collections.OrderedDict()\n",
    "    all_nbest_json = collections.OrderedDict()\n",
    "    if version_2_with_negative:\n",
    "        scores_diff_json = collections.OrderedDict()\n",
    "\n",
    "    # Logging.\n",
    "    logger.setLevel(log_level)\n",
    "    logger.info(f\"Post-processing {len(examples)} example predictions split into {len(features)} features.\")\n",
    "\n",
    "    # Let's loop over all the examples!\n",
    "    for example_index, example in enumerate(tqdm(examples)):\n",
    "        # Those are the indices of the features associated to the current example.\n",
    "        feature_indices = features_per_example[example_index]\n",
    "\n",
    "        min_null_prediction = None\n",
    "        prelim_predictions = []\n",
    "\n",
    "        # Looping through all the features associated to the current example.\n",
    "        for feature_index in feature_indices:\n",
    "            # We grab the predictions of the model for this feature.\n",
    "            start_logits = all_start_logits[feature_index]\n",
    "            end_logits = all_end_logits[feature_index]\n",
    "            # This is what will allow us to map some the positions in our logits to span of texts in the original\n",
    "            # context.\n",
    "            offset_mapping = features[feature_index][\"offset_mapping\"]\n",
    "            # Optional `token_is_max_context`, if provided we will remove answers that do not have the maximum context\n",
    "            # available in the current feature.\n",
    "            token_is_max_context = features[feature_index].get(\"token_is_max_context\", None)\n",
    "\n",
    "            # Update minimum null prediction.\n",
    "            feature_null_score = start_logits[0] + end_logits[0]\n",
    "            if min_null_prediction is None or min_null_prediction[\"score\"] > feature_null_score:\n",
    "                min_null_prediction = {\n",
    "                    \"offsets\": (0, 0),\n",
    "                    \"score\": feature_null_score,\n",
    "                    \"start_logit\": start_logits[0],\n",
    "                    \"end_logit\": end_logits[0],\n",
    "                }\n",
    "\n",
    "            # Go through all possibilities for the `n_best_size` greater start and end logits.\n",
    "            start_indexes = np.argsort(start_logits)[-1 : -n_best_size - 1 : -1].tolist()\n",
    "            end_indexes = np.argsort(end_logits)[-1 : -n_best_size - 1 : -1].tolist()\n",
    "            for start_index in start_indexes:\n",
    "                for end_index in end_indexes:\n",
    "                    # Don't consider out-of-scope answers, either because the indices are out of bounds or correspond\n",
    "                    # to part of the input_ids that are not in the context.\n",
    "                    if (\n",
    "                        start_index >= len(offset_mapping)\n",
    "                        or end_index >= len(offset_mapping)\n",
    "                        or offset_mapping[start_index] is None\n",
    "                        or len(offset_mapping[start_index]) < 2\n",
    "                        or offset_mapping[end_index] is None\n",
    "                        or len(offset_mapping[end_index]) < 2\n",
    "                    ):\n",
    "                        continue\n",
    "                    # Don't consider answers with a length that is either < 0 or > max_answer_length.\n",
    "                    if end_index < start_index or end_index - start_index + 1 > max_answer_length:\n",
    "                        continue\n",
    "                    # Don't consider answer that don't have the maximum context available (if such information is\n",
    "                    # provided).\n",
    "                    if token_is_max_context is not None and not token_is_max_context.get(str(start_index), False):\n",
    "                        continue\n",
    "\n",
    "                    prelim_predictions.append(\n",
    "                        {\n",
    "                            \"offsets\": (offset_mapping[start_index][0], offset_mapping[end_index][1]),\n",
    "                            \"score\": start_logits[start_index] + end_logits[end_index],\n",
    "                            \"start_logit\": start_logits[start_index],\n",
    "                            \"end_logit\": end_logits[end_index],\n",
    "                        }\n",
    "                    )\n",
    "        if version_2_with_negative and min_null_prediction is not None:\n",
    "            # Add the minimum null prediction\n",
    "            prelim_predictions.append(min_null_prediction)\n",
    "            null_score = min_null_prediction[\"score\"]\n",
    "\n",
    "        # Only keep the best `n_best_size` predictions.\n",
    "        predictions = sorted(prelim_predictions, key=lambda x: x[\"score\"], reverse=True)[:n_best_size]\n",
    "\n",
    "        # Add back the minimum null prediction if it was removed because of its low score.\n",
    "        if (\n",
    "            version_2_with_negative\n",
    "            and min_null_prediction is not None\n",
    "            and not any(p[\"offsets\"] == (0, 0) for p in predictions)\n",
    "        ):\n",
    "            predictions.append(min_null_prediction)\n",
    "\n",
    "        # Use the offsets to gather the answer text in the original context.\n",
    "        context = example[\"context\"]\n",
    "        for pred in predictions:\n",
    "            offsets = pred.pop(\"offsets\")\n",
    "            pred[\"text\"] = context[offsets[0] : offsets[1]]\n",
    "\n",
    "        # In the very rare edge case we have not a single non-null prediction, we create a fake prediction to avoid\n",
    "        # failure.\n",
    "        if len(predictions) == 0 or (len(predictions) == 1 and predictions[0][\"text\"] == \"\"):\n",
    "            predictions.insert(0, {\"text\": \"empty\", \"start_logit\": 0.0, \"end_logit\": 0.0, \"score\": 0.0})\n",
    "\n",
    "        # Compute the softmax of all scores (we do it with numpy to stay independent from torch/tf in this file, using\n",
    "        # the LogSumExp trick).\n",
    "        scores = np.array([pred.pop(\"score\") for pred in predictions])\n",
    "        exp_scores = np.exp(scores - np.max(scores))\n",
    "        probs = exp_scores / exp_scores.sum()\n",
    "\n",
    "        # Include the probabilities in our predictions.\n",
    "        for prob, pred in zip(probs, predictions):\n",
    "            pred[\"probability\"] = prob\n",
    "\n",
    "        # Pick the best prediction. If the null answer is not possible, this is easy.\n",
    "        if not version_2_with_negative:\n",
    "            all_predictions[example[\"id\"]] = predictions[0][\"text\"]\n",
    "        else:\n",
    "            # Otherwise we first need to find the best non-empty prediction.\n",
    "            i = 0\n",
    "            while predictions[i][\"text\"] == \"\":\n",
    "                i += 1\n",
    "            best_non_null_pred = predictions[i]\n",
    "\n",
    "            # Then we compare to the null prediction using the threshold.\n",
    "            score_diff = null_score - best_non_null_pred[\"start_logit\"] - best_non_null_pred[\"end_logit\"]\n",
    "            scores_diff_json[example[\"id\"]] = float(score_diff)  # To be JSON-serializable.\n",
    "            if score_diff > null_score_diff_threshold:\n",
    "                all_predictions[example[\"id\"]] = \"\"\n",
    "            else:\n",
    "                all_predictions[example[\"id\"]] = best_non_null_pred[\"text\"]\n",
    "\n",
    "        # Make `predictions` JSON-serializable by casting np.float back to float.\n",
    "        all_nbest_json[example[\"id\"]] = [\n",
    "            {k: (float(v) if isinstance(v, (np.float16, np.float32, np.float64)) else v) for k, v in pred.items()}\n",
    "            for pred in predictions\n",
    "        ]\n",
    "\n",
    "    # If we have an output_dir, let's save all those dicts.\n",
    "    if output_dir is not None:\n",
    "        if not os.path.isdir(output_dir):\n",
    "            raise EnvironmentError(f\"{output_dir} is not a directory.\")\n",
    "\n",
    "        prediction_file = os.path.join(\n",
    "            output_dir, \"predictions.json\" if prefix is None else f\"{prefix}_predictions.json\"\n",
    "        )\n",
    "        nbest_file = os.path.join(\n",
    "            output_dir, \"nbest_predictions.json\" if prefix is None else f\"{prefix}_nbest_predictions.json\"\n",
    "        )\n",
    "        if version_2_with_negative:\n",
    "            null_odds_file = os.path.join(\n",
    "                output_dir, \"null_odds.json\" if prefix is None else f\"{prefix}_null_odds.json\"\n",
    "            )\n",
    "\n",
    "        logger.info(f\"Saving predictions to {prediction_file}.\")\n",
    "        with open(prediction_file, \"w\") as writer:\n",
    "            writer.write(json.dumps(all_predictions, indent=4) + \"\\n\")\n",
    "        logger.info(f\"Saving nbest_preds to {nbest_file}.\")\n",
    "        with open(nbest_file, \"w\") as writer:\n",
    "            writer.write(json.dumps(all_nbest_json, indent=4) + \"\\n\")\n",
    "        if version_2_with_negative:\n",
    "            logger.info(f\"Saving null_odds to {null_odds_file}.\")\n",
    "            with open(null_odds_file, \"w\") as writer:\n",
    "                writer.write(json.dumps(scores_diff_json, indent=4) + \"\\n\")\n",
    "\n",
    "    return all_predictions"
   ]
  },
  {
   "cell_type": "code",
   "execution_count": 11,
   "id": "789ceec5-1a4f-492f-ae8a-ca14810aacce",
   "metadata": {},
   "outputs": [],
   "source": [
    "# List of questions to debug\n",
    "debug_questions = [\n",
    "    \"What ideology was sponsored at the Ming court?\",\n",
    "    \"Who stopped their trips to Ming China?\",\n",
    "    \"Another question of interest\"\n",
    "]\n",
    "\n",
    "# Training preprocessing\n",
    "def preprocess_function(examples):\n",
    "    # Some of the questions have lots of whitespace on the left, which is not useful and will make the\n",
    "    # truncation of the context fail (the tokenized question will take a lots of space). So we remove that\n",
    "    # left whitespace\n",
    "    examples[\"question\"] = [q.lstrip() for q in examples[\"question\"]]\n",
    "\n",
    "    # Tokenize our examples with truncation and padding, but keep the overflows using a stride. This results\n",
    "    # in one example possible giving several features when a context is long, each of those features having a\n",
    "    # context that overlaps a bit the context of the previous feature.\n",
    "    tokenized_examples = tokenizer(\n",
    "        examples[\"question\" if right_padding else \"context\"],\n",
    "        examples[\"context\" if right_padding else \"question\"],\n",
    "        truncation=\"only_second\" if right_padding else \"only_first\",\n",
    "        max_length=max_seq_length,\n",
    "        stride=global_doc_stride,\n",
    "        return_overflowing_tokens=True,\n",
    "        return_offsets_mapping=True,\n",
    "        padding=\"max_length\",\n",
    "    )\n",
    "\n",
    "    # Since one example might give us several features if it has a long context, we need a map from a feature to\n",
    "    # its corresponding example. This key gives us just that.\n",
    "    sample_mapping = tokenized_examples.pop(\"overflow_to_sample_mapping\")\n",
    "    # The offset mappings will give us a map from token to character position in the original context. This will\n",
    "    # help us compute the start_positions and end_positions.\n",
    "    offset_mapping = tokenized_examples.pop(\"offset_mapping\")\n",
    "\n",
    "    # Let's label those examples!\n",
    "    tokenized_examples[\"start_positions\"] = []\n",
    "    tokenized_examples[\"end_positions\"] = []\n",
    "\n",
    "    for i, offsets in enumerate(offset_mapping):\n",
    "        # We will label impossible answers with the index of the CLS token.\n",
    "        input_ids = tokenized_examples[\"input_ids\"][i]\n",
    "        cls_index = input_ids.index(tokenizer.cls_token_id)\n",
    "        \n",
    "        # Grab the sequence corresponding to that example (to know what is the context and what is the question).\n",
    "        sequence_ids = tokenized_examples.sequence_ids(i)\n",
    "\n",
    "        # One example can give several spans, this is the index of the example containing this span of text.\n",
    "        sample_index = sample_mapping[i]\n",
    "        answers = examples[\"answers\"][sample_index]        \n",
    "        question = examples[\"question\"][sample_index]\n",
    "        example_id = examples[\"id\"][sample_index]\n",
    "        \n",
    "        # If no answers are given, set the cls_index as answer.\n",
    "        if not answers or ('answer_start' not in answers and 'text' not in answers):\n",
    "            tokenized_examples[\"start_positions\"].append(cls_index)\n",
    "            tokenized_examples[\"end_positions\"].append(cls_index)\n",
    "        else:\n",
    "            print(answers)\n",
    "        \n",
    "        if len(answers[\"answer_start\"]) == 0:\n",
    "            tokenized_examples[\"start_positions\"].append(cls_index)\n",
    "            tokenized_examples[\"end_positions\"].append(cls_index)\n",
    "        else:\n",
    "            # Start/end character index of the answer in the text.\n",
    "            start_char = answers[\"answer_start\"][0]\n",
    "            end_char = start_char + len(answers[\"text\"][0])\n",
    "\n",
    "            # Start token index of the current span in the text.\n",
    "            token_start_index = 0\n",
    "            while sequence_ids[token_start_index] != (1 if right_padding else 0):\n",
    "                token_start_index += 1\n",
    "\n",
    "            # End token index of the current span in the text.\n",
    "            token_end_index = len(input_ids) - 1\n",
    "            while sequence_ids[token_end_index] != (1 if right_padding else 0):\n",
    "                token_end_index -= 1\n",
    "            \n",
    "            # Detect if the answer is out of the span (in which case this feature is labeled with the CLS index).\n",
    "            if not (offsets[token_start_index][0] <= start_char and offsets[token_end_index][1] >= end_char):\n",
    "                tokenized_examples[\"start_positions\"].append(cls_index)\n",
    "                tokenized_examples[\"end_positions\"].append(cls_index)\n",
    "            else:\n",
    "                # Increase the end index here to make sure it includes the last character\n",
    "                while token_start_index < len(offsets) and offsets[token_start_index][0] <= start_char:\n",
    "                    token_start_index += 1\n",
    "                safe_start_index = max(0, token_start_index - 1)\n",
    "                tokenized_examples[\"start_positions\"].append(safe_start_index)\n",
    "\n",
    "                # Adjust this line to ensure that the end character is included\n",
    "                # Decrement token_end_index to point exactly one past the end of the answer text\n",
    "                while token_end_index >= 0 and offsets[token_end_index][1] > end_char:\n",
    "                    token_end_index -= 1\n",
    "                safe_end_index = min(len(input_ids) - 1, token_end_index + 1)\n",
    "                tokenized_examples[\"end_positions\"].append(safe_end_index)  # Adjust to +2 if needed\n",
    "                \n",
    "        # Debugging code\n",
    "        global global_counter\n",
    "        global traing_answer_mismatches\n",
    "        #if question in debug_questions:\n",
    "        if len(answers[\"answer_start\"]) > 0:\n",
    "            # Ensure indices are within bounds\n",
    "            #safe_start_index = max(0, token_start_index - 1)\n",
    "            #safe_end_index = min(len(input_ids) - 1, token_end_index + 1)\n",
    "\n",
    "            # Decode the answer using safe indices\n",
    "            decoded_answer = tokenizer.decode(input_ids[safe_start_index:safe_end_index])\n",
    "            actual_answer = answers[\"text\"][0] if answers[\"text\"] else \"No answer provided\"\n",
    "            normalized_actual_answer = actual_answer.lower().replace(\" \", \"\")\n",
    "            normalized_decoded_answer = decoded_answer.lower().replace(\" \", \"\")\n",
    "            if normalized_decoded_answer != normalized_actual_answer:\n",
    "                if global_counter == 0: print('Mismatch Found')\n",
    "                global_counter += 1 \n",
    "                traing_answer_mismatches.append({\n",
    "                    'ID': example_id,\n",
    "                    'Question': question,\n",
    "                    'Offsets': offsets,\n",
    "                    'Input IDs':input_ids,\n",
    "                    'Tokenized Text': tokenizer.decode(input_ids),\n",
    "                    'Char start/end index': f\"{start_char} / {end_char}\",\n",
    "                    'Token start/end index':f\"{token_start_index} / {token_end_index}\",\n",
    "                    'Decoded Answer': decoded_answer,\n",
    "                    'Actual Answer': actual_answer,                    \n",
    "                })    \n",
    "    return tokenized_examples"
   ]
  },
  {
   "cell_type": "markdown",
   "id": "58fdf2cf-5902-4231-8d6b-4d509bd90959",
   "metadata": {
    "jp-MarkdownHeadingCollapsed": true,
    "tags": []
   },
   "source": [
    "## Data Load"
   ]
  },
  {
   "cell_type": "code",
   "execution_count": 14,
   "id": "1f9096e4-1d36-4923-b983-4a46f6643a22",
   "metadata": {
    "tags": []
   },
   "outputs": [
    {
     "name": "stdout",
     "output_type": "stream",
     "text": [
      "{'id': '56ddde6b9a695914005b9628', 'title': 'Normans', 'context': 'The Normans (Norman: Nourmands; French: Normands; Latin: Normanni) were the people who in the 10th and 11th centuries gave their name to Normandy, a region in France. They were descended from Norse (\"Norman\" comes from \"Norseman\") raiders and pirates from Denmark, Iceland and Norway who, under their leader Rollo, agreed to swear fealty to King Charles III of West Francia. Through generations of assimilation and mixing with the native Frankish and Roman-Gaulish populations, their descendants would gradually merge with the Carolingian-based cultures of West Francia. The distinct cultural and ethnic identity of the Normans emerged initially in the first half of the 10th century, and it continued to evolve over the succeeding centuries.', 'question': 'In what country is Normandy located?', 'answers': {'answer_start': [159, 159, 159, 159], 'text': ['France', 'France', 'France', 'France']}}\n"
     ]
    }
   ],
   "source": [
    "import json\n",
    "from pathlib import Path\n",
    "\n",
    "def load_squad_data(path):\n",
    "    with open(path, 'rb') as file:\n",
    "        squad_dict = json.load(file)\n",
    "    return squad_dict\n",
    "\n",
    "def extract_data(squad_dict):   \n",
    "    # Initialize lists to store the flattened data components\n",
    "    ids, titles, contexts, questions, answers = [], [], [], [], []\n",
    "\n",
    "    # Iterate through the data and flatten the structure\n",
    "    for article in squad_dict['data']:\n",
    "        title = article['title']\n",
    "        for paragraph in article['paragraphs']:\n",
    "            context = paragraph['context']\n",
    "            for qa in paragraph['qas']:\n",
    "                question_id = qa['id']\n",
    "                question = qa['question']\n",
    "                # Ensure each answer contains 'text' and 'answer_start' keys\n",
    "                if 'answers' in qa and qa['answers']:\n",
    "                    answer_texts = [answer['text'] for answer in qa['answers']]\n",
    "                    answer_starts = [answer['answer_start'] for answer in qa['answers']]\n",
    "                else:\n",
    "                    # Handle the case where no answers are provided (as in SQuAD 2.0 for unanswerable questions)\n",
    "                    answer_texts = [\"\"]\n",
    "                    answer_starts = [-1]\n",
    "\n",
    "                # Append each component to the corresponding list\n",
    "                ids.append(question_id)\n",
    "                titles.append(title)\n",
    "                contexts.append(context)\n",
    "                questions.append(question)\n",
    "                # Store answers as a dictionary\n",
    "                answers.append({'text': answer_texts, 'answer_start': answer_starts})\n",
    "                    \n",
    "    return {\n",
    "        'id': ids,\n",
    "        'title': titles,\n",
    "        'context': contexts,\n",
    "        'question': questions,\n",
    "        'answers': answers\n",
    "    }\n",
    "\n",
    "val_path = Path('Datasets/dev-v2.0.json')\n",
    "val_squad_dict = load_squad_data(val_path)\n",
    "flattened_data = extract_data(val_squad_dict)\n",
    "\n",
    "# Create a Dataset from the flattened data\n",
    "eval_examples = Dataset.from_dict(flattened_data)\n",
    "\n",
    "# This dataset can now be used directly in your processing pipeline\n",
    "print(eval_examples[0])"
   ]
  },
  {
   "cell_type": "code",
   "execution_count": 15,
   "id": "a767bb55-7c47-4c2c-b632-db2ee3bebe99",
   "metadata": {
    "tags": []
   },
   "outputs": [
    {
     "name": "stdout",
     "output_type": "stream",
     "text": [
      "['id', 'title', 'context', 'question', 'answers']\n"
     ]
    }
   ],
   "source": [
    "print(eval_examples.column_names)\n"
   ]
  },
  {
   "cell_type": "code",
   "execution_count": 16,
   "id": "54801de9-a8d0-4fd5-8b03-8c6da643320b",
   "metadata": {
    "tags": []
   },
   "outputs": [
    {
     "data": {
      "text/plain": [
       "11873"
      ]
     },
     "execution_count": 16,
     "metadata": {},
     "output_type": "execute_result"
    }
   ],
   "source": [
    "len(eval_examples)"
   ]
  },
  {
   "cell_type": "raw",
   "id": "f476e34d-d742-4ae3-8a88-933d4cbecde0",
   "metadata": {
    "tags": []
   },
   "source": [
    "# Load the full dataset\n",
    "full_squad_dataset = load_dataset(\"squad_v2\")"
   ]
  },
  {
   "cell_type": "raw",
   "id": "9deec8b3-6be3-40f1-b70d-580cea10857b",
   "metadata": {
    "tags": []
   },
   "source": [
    " # Load the full dataset\n",
    "squad_raw = datasets.DatasetDict({\n",
    "    'train': full_squad_dataset['train'],\n",
    "    'validation': full_squad_dataset['validation'],    \n",
    "})"
   ]
  },
  {
   "cell_type": "raw",
   "id": "d739dc4e-94c7-4133-8b7f-f1c316fdb084",
   "metadata": {
    "tags": []
   },
   "source": [
    "squad_raw['validation'][0]"
   ]
  },
  {
   "cell_type": "markdown",
   "id": "4bd02275-c64f-42b1-a996-a8a084306d35",
   "metadata": {
    "jp-MarkdownHeadingCollapsed": true,
    "tags": []
   },
   "source": [
    "# 2. BERT Model Evaluation"
   ]
  },
  {
   "cell_type": "code",
   "execution_count": 32,
   "id": "c6d4d42c-a59e-4616-b26f-0ff80a553626",
   "metadata": {
    "tags": []
   },
   "outputs": [],
   "source": [
    "path = \"./best_models/bert-base-cased-best_model/checkpoint-8130\"\n",
    "tokenizer = AutoTokenizer.from_pretrained(path)\n",
    "max_seq_length = 512\n",
    "assert isinstance( tokenizer, PreTrainedTokenizerFast )\n",
    "right_padding = tokenizer.padding_side == 'right'"
   ]
  },
  {
   "cell_type": "code",
   "execution_count": 40,
   "id": "68973214-6b1f-4b48-90c7-997f5b2277fa",
   "metadata": {
    "tags": []
   },
   "outputs": [
    {
     "data": {
      "application/vnd.jupyter.widget-view+json": {
       "model_id": "df28a9d79620438ab9b704f913f268fb",
       "version_major": 2,
       "version_minor": 0
      },
      "text/plain": [
       "Running tokenizer on validation dataset:   0%|          | 0/11873 [00:00<?, ? examples/s]"
      ]
     },
     "metadata": {},
     "output_type": "display_data"
    }
   ],
   "source": [
    "eval_dataset = eval_examples.map(\n",
    "                prepare_validation_features,\n",
    "                batched=True,\n",
    "                remove_columns=eval_examples.column_names,\n",
    "                desc=\"Running tokenizer on validation dataset\",\n",
    "                load_from_cache_file=False,  # Disable caching\n",
    "            )\n"
   ]
  },
  {
   "cell_type": "code",
   "execution_count": 74,
   "id": "07f9a255-5138-4ec1-bdc8-1f2f51709034",
   "metadata": {
    "tags": []
   },
   "outputs": [],
   "source": [
    "BERT_model = AutoModelForQuestionAnswering.from_pretrained(path)\n",
    "\n",
    "BERT_training_args = TrainingArguments(\n",
    "    output_dir=f\"./Results\",\n",
    "    overwrite_output_dir = True,\n",
    "    metric_for_best_model='f1',\n",
    "    greater_is_better=True,\n",
    "    load_best_model_at_end=True,\n",
    "    save_total_limit=4, \n",
    "    eval_strategy=\"epoch\",\n",
    "    save_strategy=\"epoch\",\n",
    "    num_train_epochs=10,    \n",
    "    learning_rate=4.91978224351371e-05,\n",
    "    per_device_train_batch_size=32,\n",
    "    per_device_eval_batch_size=32,\n",
    "    warmup_steps=398,\n",
    "    weight_decay=0.19404494917360213,\n",
    "    adam_beta1=0.8368183686077211,\n",
    "    adam_beta2=0.9969107098230887,\n",
    "    adam_epsilon=5.874878468800929e-07,\n",
    "    lr_scheduler_type='cosine',\n",
    "    fp16=True,  # Enable mixed-precision training\n",
    ")\n",
    "\n",
    "\n",
    "BERT_trainer = QuestionAnsweringTrainer(\n",
    "    model=BERT_model,\n",
    "    args=BERT_training_args,\n",
    "    train_dataset=eval_dataset,\n",
    "    eval_dataset=eval_dataset,\n",
    "    eval_examples=eval_examples,\n",
    "    tokenizer=tokenizer,\n",
    "    data_collator=data_collator,\n",
    "    post_process_function=post_processing_function,\n",
    "    compute_metrics=compute_metrics,\n",
    "    callbacks=[EarlyStoppingCallback(early_stopping_patience=3)],\n",
    ")\n"
   ]
  },
  {
   "cell_type": "code",
   "execution_count": 68,
   "id": "741b8819-8935-406a-94fb-d86eb7e3d8f9",
   "metadata": {
    "tags": []
   },
   "outputs": [
    {
     "data": {
      "application/vnd.jupyter.widget-view+json": {
       "model_id": "48586c6cd32445e7b2d079f6cea0b437",
       "version_major": 2,
       "version_minor": 0
      },
      "text/plain": [
       "  0%|          | 0/11873 [00:00<?, ?it/s]"
      ]
     },
     "metadata": {},
     "output_type": "display_data"
    }
   ],
   "source": [
    "\n",
    "\n",
    "# Generating predictions for evaluation dataset\n",
    "BERT_outcome = generate_and_save_predictions(BERT_trainer,eval_dataset, eval_examples, \"BERT_validation_predictions.json\")\n"
   ]
  },
  {
   "cell_type": "code",
   "execution_count": 69,
   "id": "1d73b17f-174f-429b-b6f5-d3f21e15fa4a",
   "metadata": {
    "tags": []
   },
   "outputs": [
    {
     "name": "stdout",
     "output_type": "stream",
     "text": [
      "{\n",
      "  \"exact\": 57.78657458098206,\n",
      "  \"f1\": 71.97695382840446,\n",
      "  \"total\": 11873,\n",
      "  \"HasAns_exact\": 39.27125506072875,\n",
      "  \"HasAns_f1\": 67.69270796299412,\n",
      "  \"HasAns_total\": 5928,\n",
      "  \"NoAns_exact\": 76.24894869638352,\n",
      "  \"NoAns_f1\": 76.24894869638352,\n",
      "  \"NoAns_total\": 5945\n",
      "}\n",
      "\n"
     ]
    }
   ],
   "source": [
    "# Define the command as a list\n",
    "command = ['python', 'evaluate-v2.0.py', 'dev-v2.0.json', 'BERT_validation_predictions.json']\n",
    "\n",
    "# Run the command\n",
    "process = subprocess.run(command, text=True, capture_output=True)\n",
    "\n",
    "# Print the output\n",
    "print(process.stdout)\n",
    "\n",
    "# Check if there were any errors\n",
    "if process.stderr:\n",
    "    print(\"Errors:\")\n",
    "    print(process.stderr)"
   ]
  },
  {
   "cell_type": "markdown",
   "id": "6c47d6cd-9d2f-448e-951e-bcaa0bc5ea59",
   "metadata": {
    "jp-MarkdownHeadingCollapsed": true,
    "tags": []
   },
   "source": [
    "# 3. DistilBERT Model Evaluation"
   ]
  },
  {
   "cell_type": "code",
   "execution_count": 135,
   "id": "b394eac6-7b6f-45fe-8d52-825498f5cc34",
   "metadata": {
    "tags": []
   },
   "outputs": [
    {
     "data": {
      "application/vnd.jupyter.widget-view+json": {
       "model_id": "3968261fe9174f78b1f7230b4edfef9d",
       "version_major": 2,
       "version_minor": 0
      },
      "text/plain": [
       "Running tokenizer on validation dataset:   0%|          | 0/11873 [00:00<?, ? examples/s]"
      ]
     },
     "metadata": {},
     "output_type": "display_data"
    },
    {
     "data": {
      "application/vnd.jupyter.widget-view+json": {
       "model_id": "3d6f3858c525409c90f7bbb0394076b6",
       "version_major": 2,
       "version_minor": 0
      },
      "text/plain": [
       "  0%|          | 0/11873 [00:00<?, ?it/s]"
      ]
     },
     "metadata": {},
     "output_type": "display_data"
    },
    {
     "name": "stdout",
     "output_type": "stream",
     "text": [
      "{\n",
      "  \"exact\": 0.22740672113198013,\n",
      "  \"f1\": 3.2841753268791583,\n",
      "  \"total\": 11873,\n",
      "  \"HasAns_exact\": 0.11808367071524967,\n",
      "  \"HasAns_f1\": 6.240386919034458,\n",
      "  \"HasAns_total\": 5928,\n",
      "  \"NoAns_exact\": 0.33641715727502103,\n",
      "  \"NoAns_f1\": 0.33641715727502103,\n",
      "  \"NoAns_total\": 5945\n",
      "}\n",
      "\n"
     ]
    }
   ],
   "source": [
    "path = \"./best_models/distilbert-base-cased-best_model/checkpoint-4065\"\n",
    "tokenizer = AutoTokenizer.from_pretrained(path)\n",
    "max_seq_length = 512\n",
    "assert isinstance( tokenizer, PreTrainedTokenizerFast )\n",
    "right_padding = tokenizer.padding_side == 'right'\n",
    "\n",
    "eval_dataset = eval_examples.map(\n",
    "                prepare_validation_features,\n",
    "                batched=True,\n",
    "                remove_columns=eval_examples.column_names,\n",
    "                desc=\"Running tokenizer on validation dataset\",\n",
    "                load_from_cache_file=False,  # Disable caching\n",
    "            )\n",
    "\n",
    "DistilBERT_model = AutoModelForQuestionAnswering.from_pretrained(path)\n",
    "\n",
    "DistilBERT_training_args = TrainingArguments(\n",
    "    output_dir=f\"./Results\",\n",
    "    overwrite_output_dir = True,\n",
    "    metric_for_best_model='f1',\n",
    "    greater_is_better=True,\n",
    "    load_best_model_at_end=True,\n",
    "    save_total_limit=4, \n",
    "    eval_strategy=\"epoch\",\n",
    "    save_strategy=\"epoch\",\n",
    "    num_train_epochs=10,    \n",
    "    learning_rate=4.91978224351371e-05,\n",
    "    per_device_train_batch_size=32,\n",
    "    per_device_eval_batch_size=32,\n",
    "    warmup_steps=398,\n",
    "    weight_decay=0.19404494917360213,\n",
    "    adam_beta1=0.8368183686077211,\n",
    "    adam_beta2=0.9969107098230887,\n",
    "    adam_epsilon=5.874878468800929e-07,\n",
    "    lr_scheduler_type='cosine',\n",
    "    fp16=True,  # Enable mixed-precision training\n",
    ")\n",
    "\n",
    "\n",
    "DistilBERT_trainer = QuestionAnsweringTrainer(\n",
    "    model=BERT_model,\n",
    "    args=BERT_training_args,\n",
    "    train_dataset=eval_dataset,\n",
    "    eval_dataset=eval_dataset,\n",
    "    eval_examples=eval_examples,\n",
    "    tokenizer=tokenizer,\n",
    "    data_collator=data_collator,\n",
    "    post_process_function=post_processing_function,\n",
    "    compute_metrics=compute_metrics,\n",
    "    callbacks=[EarlyStoppingCallback(early_stopping_patience=3)],\n",
    ")\n",
    "\n",
    "# Generating predictions for evaluation dataset\n",
    "DistilBERT_outcome = generate_and_save_predictions(BERT_trainer,eval_dataset, eval_examples, \"DistilBERT_validation_predictions.json\")\n",
    "\n",
    "# Define the command as a list\n",
    "command = ['python', 'evaluate-v2.0.py', 'dev-v2.0.json', 'DistilBERT_validation_predictions.json']\n",
    "\n",
    "# Run the command\n",
    "process = subprocess.run(command, text=True, capture_output=True)\n",
    "\n",
    "# Print the output\n",
    "print(process.stdout)\n",
    "\n",
    "# Check if there were any errors\n",
    "if process.stderr:\n",
    "    print(\"Errors:\")\n",
    "    print(process.stderr)"
   ]
  },
  {
   "cell_type": "markdown",
   "id": "943d10b8-8896-43db-a13a-44a3c1f659f2",
   "metadata": {
    "tags": []
   },
   "source": [
    "# 4. ALBERT Model Evaluation"
   ]
  },
  {
   "cell_type": "code",
   "execution_count": 88,
   "id": "a57ee0b9-5630-4502-83ff-73c66708dc99",
   "metadata": {
    "tags": []
   },
   "outputs": [
    {
     "data": {
      "application/vnd.jupyter.widget-view+json": {
       "model_id": "57bcb810312d4028822054b59793965a",
       "version_major": 2,
       "version_minor": 0
      },
      "text/plain": [
       "Running tokenizer on validation dataset:   0%|          | 0/11873 [00:00<?, ? examples/s]"
      ]
     },
     "metadata": {},
     "output_type": "display_data"
    },
    {
     "data": {
      "text/html": [
       "\n",
       "    <div>\n",
       "      \n",
       "      <progress value='374' max='374' style='width:300px; height:20px; vertical-align: middle;'></progress>\n",
       "      [374/374 01:19]\n",
       "    </div>\n",
       "    "
      ],
      "text/plain": [
       "<IPython.core.display.HTML object>"
      ]
     },
     "metadata": {},
     "output_type": "display_data"
    },
    {
     "data": {
      "application/vnd.jupyter.widget-view+json": {
       "model_id": "34cd06b4d9e84233bea492ca8b3f90b5",
       "version_major": 2,
       "version_minor": 0
      },
      "text/plain": [
       "  0%|          | 0/11873 [00:00<?, ?it/s]"
      ]
     },
     "metadata": {},
     "output_type": "display_data"
    },
    {
     "name": "stdout",
     "output_type": "stream",
     "text": [
      "{\n",
      "  \"exact\": 60.75128442685084,\n",
      "  \"f1\": 76.68877003831479,\n",
      "  \"total\": 11873,\n",
      "  \"HasAns_exact\": 42.24021592442645,\n",
      "  \"HasAns_f1\": 74.16089181256798,\n",
      "  \"HasAns_total\": 5928,\n",
      "  \"NoAns_exact\": 79.2094196804037,\n",
      "  \"NoAns_f1\": 79.2094196804037,\n",
      "  \"NoAns_total\": 5945\n",
      "}\n",
      "\n"
     ]
    }
   ],
   "source": [
    "path = \"./best_models/albert-albert-base-v2-best_model/checkpoint-24081\"\n",
    "tokenizer = AutoTokenizer.from_pretrained(path)\n",
    "max_seq_length = 512\n",
    "assert isinstance( tokenizer, PreTrainedTokenizerFast )\n",
    "right_padding = tokenizer.padding_side == 'right'\n",
    "\n",
    "eval_dataset = eval_examples.map(\n",
    "                prepare_validation_features,\n",
    "                batched=True,\n",
    "                remove_columns=eval_examples.column_names,\n",
    "                desc=\"Running tokenizer on validation dataset\",\n",
    "                load_from_cache_file=False,  # Disable caching\n",
    "            )\n",
    "\n",
    "ALBERT_model = AutoModelForQuestionAnswering.from_pretrained(path)\n",
    "\n",
    "ALBERT_training_args = TrainingArguments(\n",
    "    output_dir=f\"./Results\",\n",
    "    overwrite_output_dir = True,\n",
    "    metric_for_best_model='f1',\n",
    "    greater_is_better=True,\n",
    "    load_best_model_at_end=True,\n",
    "    save_total_limit=4, \n",
    "    eval_strategy=\"epoch\",\n",
    "    save_strategy=\"epoch\",\n",
    "    num_train_epochs=10,    \n",
    "    learning_rate=4.91978224351371e-05,\n",
    "    per_device_train_batch_size=32,\n",
    "    per_device_eval_batch_size=32,\n",
    "    warmup_steps=398,\n",
    "    weight_decay=0.19404494917360213,\n",
    "    adam_beta1=0.8368183686077211,\n",
    "    adam_beta2=0.9969107098230887,\n",
    "    adam_epsilon=5.874878468800929e-07,\n",
    "    lr_scheduler_type='cosine',\n",
    "    fp16=True,  # Enable mixed-precision training\n",
    ")\n",
    "\n",
    "\n",
    "ALBERT_trainer = QuestionAnsweringTrainer(\n",
    "    model=ALBERT_model,\n",
    "    args=ALBERT_training_args,\n",
    "    train_dataset=eval_dataset,\n",
    "    eval_dataset=eval_dataset,\n",
    "    eval_examples=eval_examples,\n",
    "    tokenizer=tokenizer,\n",
    "    data_collator=data_collator,\n",
    "    post_process_function=post_processing_function,\n",
    "    compute_metrics=compute_metrics,\n",
    "    callbacks=[EarlyStoppingCallback(early_stopping_patience=3)],\n",
    ")\n",
    "\n",
    "# Generating predictions for evaluation dataset\n",
    "ALBERT_outcome = generate_and_save_predictions(ALBERT_trainer,eval_dataset, eval_examples, \"ALBERT_validation_predictions.json\")\n",
    "\n",
    "# Define the command as a list\n",
    "command = ['python', 'evaluate-v2.0.py', 'dev-v2.0.json', 'ALBERT_validation_predictions.json']\n",
    "\n",
    "# Run the command\n",
    "process = subprocess.run(command, text=True, capture_output=True)\n",
    "\n",
    "# Print the output\n",
    "print(process.stdout)\n",
    "\n",
    "# Check if there were any errors\n",
    "if process.stderr:\n",
    "    print(\"Errors:\")\n",
    "    print(process.stderr)"
   ]
  },
  {
   "cell_type": "markdown",
   "id": "52ca8d8a-00e1-4d4e-b8dc-9a02ba7dc21d",
   "metadata": {
    "tags": []
   },
   "source": [
    "# 5. RoBERTa Model Evaluation"
   ]
  },
  {
   "cell_type": "code",
   "execution_count": 94,
   "id": "dd01f7ca-9e5b-426b-acea-8b83627db424",
   "metadata": {
    "tags": []
   },
   "outputs": [
    {
     "data": {
      "application/vnd.jupyter.widget-view+json": {
       "model_id": "043a056ddc8d4f2eacc1d8fd4cadfcf8",
       "version_major": 2,
       "version_minor": 0
      },
      "text/plain": [
       "Running tokenizer on validation dataset:   0%|          | 0/11873 [00:00<?, ? examples/s]"
      ]
     },
     "metadata": {},
     "output_type": "display_data"
    },
    {
     "data": {
      "text/html": [
       "\n",
       "    <div>\n",
       "      \n",
       "      <progress value='374' max='374' style='width:300px; height:20px; vertical-align: middle;'></progress>\n",
       "      [374/374 00:50]\n",
       "    </div>\n",
       "    "
      ],
      "text/plain": [
       "<IPython.core.display.HTML object>"
      ]
     },
     "metadata": {},
     "output_type": "display_data"
    },
    {
     "data": {
      "application/vnd.jupyter.widget-view+json": {
       "model_id": "f5967037911f4a57a0a257f52aa1e5eb",
       "version_major": 2,
       "version_minor": 0
      },
      "text/plain": [
       "  0%|          | 0/11873 [00:00<?, ?it/s]"
      ]
     },
     "metadata": {},
     "output_type": "display_data"
    },
    {
     "name": "stdout",
     "output_type": "stream",
     "text": [
      "{\n",
      "  \"exact\": 61.686178724837866,\n",
      "  \"f1\": 78.09128924527415,\n",
      "  \"total\": 11873,\n",
      "  \"HasAns_exact\": 43.10053981106613,\n",
      "  \"HasAns_f1\": 75.95780654675018,\n",
      "  \"HasAns_total\": 5928,\n",
      "  \"NoAns_exact\": 80.21867115222877,\n",
      "  \"NoAns_f1\": 80.21867115222877,\n",
      "  \"NoAns_total\": 5945\n",
      "}\n",
      "\n"
     ]
    }
   ],
   "source": [
    "path = \"./best_models/FacebookAI-roberta-base-finetuned-manual/checkpoint-24192\"\n",
    "tokenizer = AutoTokenizer.from_pretrained(path)\n",
    "max_seq_length = 512\n",
    "assert isinstance( tokenizer, PreTrainedTokenizerFast )\n",
    "right_padding = tokenizer.padding_side == 'right'\n",
    "\n",
    "eval_dataset = eval_examples.map(\n",
    "                prepare_validation_features,\n",
    "                batched=True,\n",
    "                remove_columns=eval_examples.column_names,\n",
    "                desc=\"Running tokenizer on validation dataset\",\n",
    "                load_from_cache_file=False,  # Disable caching\n",
    "            )\n",
    "\n",
    "RoBERTa_model = AutoModelForQuestionAnswering.from_pretrained(path)\n",
    "\n",
    "RoBERTa_training_args = TrainingArguments(\n",
    "    output_dir=f\"./Results\",\n",
    "    overwrite_output_dir = True,\n",
    "    metric_for_best_model='f1',\n",
    "    greater_is_better=True,\n",
    "    load_best_model_at_end=True,\n",
    "    save_total_limit=4, \n",
    "    eval_strategy=\"epoch\",\n",
    "    save_strategy=\"epoch\",\n",
    "    num_train_epochs=10,    \n",
    "    learning_rate=4.91978224351371e-05,\n",
    "    per_device_train_batch_size=32,\n",
    "    per_device_eval_batch_size=32,\n",
    "    warmup_steps=398,\n",
    "    weight_decay=0.19404494917360213,\n",
    "    adam_beta1=0.8368183686077211,\n",
    "    adam_beta2=0.9969107098230887,\n",
    "    adam_epsilon=5.874878468800929e-07,\n",
    "    lr_scheduler_type='cosine',\n",
    "    fp16=True,  # Enable mixed-precision training\n",
    ")\n",
    "\n",
    "\n",
    "RoBERTa_trainer = QuestionAnsweringTrainer(\n",
    "    model=RoBERTa_model,\n",
    "    args=RoBERTa_training_args,\n",
    "    train_dataset=eval_dataset,\n",
    "    eval_dataset=eval_dataset,\n",
    "    eval_examples=eval_examples,\n",
    "    tokenizer=tokenizer,\n",
    "    data_collator=data_collator,\n",
    "    post_process_function=post_processing_function,\n",
    "    compute_metrics=compute_metrics,\n",
    "    callbacks=[EarlyStoppingCallback(early_stopping_patience=3)],\n",
    ")\n",
    "\n",
    "# Generating predictions for evaluation dataset\n",
    "RoBERTa_outcome = generate_and_save_predictions(RoBERTa_trainer,eval_dataset, eval_examples, \"RoBERTa_validation_predictions.json\")\n",
    "\n",
    "# Define the command as a list\n",
    "command = ['python', 'evaluate-v2.0.py', 'dev-v2.0.json', 'RoBERTa_validation_predictions.json']\n",
    "\n",
    "# Run the command\n",
    "process = subprocess.run(command, text=True, capture_output=True)\n",
    "\n",
    "# Print the output\n",
    "print(process.stdout)\n",
    "\n",
    "# Check if there were any errors\n",
    "if process.stderr:\n",
    "    print(\"Errors:\")\n",
    "    print(process.stderr)"
   ]
  },
  {
   "cell_type": "markdown",
   "id": "cbef27b4-9cda-4145-aef0-5e1c8948a39c",
   "metadata": {
    "tags": []
   },
   "source": [
    "# 6. DeBERTa Model Evaluation"
   ]
  },
  {
   "cell_type": "code",
   "execution_count": 105,
   "id": "06ed1545-2e72-4a7e-93ba-6dced7977531",
   "metadata": {
    "tags": []
   },
   "outputs": [
    {
     "data": {
      "application/vnd.jupyter.widget-view+json": {
       "model_id": "853c2bdea3f64f5fa79c09dce8c9a71d",
       "version_major": 2,
       "version_minor": 0
      },
      "text/plain": [
       "Running tokenizer on validation dataset:   0%|          | 0/11873 [00:00<?, ? examples/s]"
      ]
     },
     "metadata": {},
     "output_type": "display_data"
    },
    {
     "data": {
      "text/html": [
       "\n",
       "    <div>\n",
       "      \n",
       "      <progress value='374' max='374' style='width:300px; height:20px; vertical-align: middle;'></progress>\n",
       "      [374/374 01:30]\n",
       "    </div>\n",
       "    "
      ],
      "text/plain": [
       "<IPython.core.display.HTML object>"
      ]
     },
     "metadata": {},
     "output_type": "display_data"
    },
    {
     "data": {
      "application/vnd.jupyter.widget-view+json": {
       "model_id": "bc516733084d4c6abb17db214c851e2b",
       "version_major": 2,
       "version_minor": 0
      },
      "text/plain": [
       "  0%|          | 0/11873 [00:00<?, ?it/s]"
      ]
     },
     "metadata": {},
     "output_type": "display_data"
    },
    {
     "name": "stdout",
     "output_type": "stream",
     "text": [
      "{\n",
      "  \"exact\": 67.11025014739324,\n",
      "  \"f1\": 83.71077041879414,\n",
      "  \"total\": 11873,\n",
      "  \"HasAns_exact\": 47.25033738191633,\n",
      "  \"HasAns_f1\": 80.4989840051194,\n",
      "  \"HasAns_total\": 5928,\n",
      "  \"NoAns_exact\": 86.91337258200168,\n",
      "  \"NoAns_f1\": 86.91337258200168,\n",
      "  \"NoAns_total\": 5945\n",
      "}\n",
      "\n"
     ]
    }
   ],
   "source": [
    "path = \"./best_models/microsoft-deberta-v3-base-best_model/checkpoint-48780\"\n",
    "tokenizer = AutoTokenizer.from_pretrained(path)\n",
    "max_seq_length = 512\n",
    "assert isinstance( tokenizer, PreTrainedTokenizerFast )\n",
    "right_padding = tokenizer.padding_side == 'right'\n",
    "\n",
    "eval_dataset = eval_examples.map(\n",
    "                prepare_validation_features,\n",
    "                batched=True,\n",
    "                remove_columns=eval_examples.column_names,\n",
    "                desc=\"Running tokenizer on validation dataset\",\n",
    "                load_from_cache_file=False,  # Disable caching\n",
    "            )\n",
    "\n",
    "DeBERTa_model = AutoModelForQuestionAnswering.from_pretrained(path)\n",
    "\n",
    "DeBERTa_training_args = TrainingArguments(\n",
    "    output_dir=f\"./Results\",\n",
    "    overwrite_output_dir = True,\n",
    "    metric_for_best_model='f1',\n",
    "    greater_is_better=True,\n",
    "    load_best_model_at_end=True,\n",
    "    save_total_limit=4, \n",
    "    eval_strategy=\"epoch\",\n",
    "    save_strategy=\"epoch\",\n",
    "    num_train_epochs=10,    \n",
    "    learning_rate=4.91978224351371e-05,\n",
    "    per_device_train_batch_size=32,\n",
    "    per_device_eval_batch_size=32,\n",
    "    warmup_steps=398,\n",
    "    weight_decay=0.19404494917360213,\n",
    "    adam_beta1=0.8368183686077211,\n",
    "    adam_beta2=0.9969107098230887,\n",
    "    adam_epsilon=5.874878468800929e-07,\n",
    "    lr_scheduler_type='cosine',\n",
    "    fp16=True,  # Enable mixed-precision training\n",
    ")\n",
    "\n",
    "\n",
    "DeBERTa_trainer = QuestionAnsweringTrainer(\n",
    "    model=DeBERTa_model,\n",
    "    args=DeBERTa_training_args,\n",
    "    train_dataset=eval_dataset,\n",
    "    eval_dataset=eval_dataset,\n",
    "    eval_examples=eval_examples,\n",
    "    tokenizer=tokenizer,\n",
    "    data_collator=data_collator,\n",
    "    post_process_function=post_processing_function,\n",
    "    compute_metrics=compute_metrics,\n",
    "    callbacks=[EarlyStoppingCallback(early_stopping_patience=3)],\n",
    ")\n",
    "\n",
    "# Generating predictions for evaluation dataset\n",
    "DeBERTa_outcome = generate_and_save_predictions(DeBERTa_trainer,eval_dataset, eval_examples, \"DeBERTa_validation_predictions.json\")\n",
    "\n",
    "# Define the command as a list\n",
    "command = ['python', 'evaluate-v2.0.py', 'dev-v2.0.json', 'DeBERTa_validation_predictions.json']\n",
    "\n",
    "# Run the command\n",
    "process = subprocess.run(command, text=True, capture_output=True)\n",
    "\n",
    "# Print the output\n",
    "print(process.stdout)\n",
    "\n",
    "# Check if there were any errors\n",
    "if process.stderr:\n",
    "    print(\"Errors:\")\n",
    "    print(process.stderr)"
   ]
  },
  {
   "cell_type": "markdown",
   "id": "05288f80-2e36-4049-a824-4bc77dbefdbf",
   "metadata": {
    "tags": []
   },
   "source": [
    "# 7. Ensemble Evaluation"
   ]
  },
  {
   "cell_type": "code",
   "execution_count": 125,
   "id": "b1af59b4-930b-42d2-9f6c-6f73747ef6f2",
   "metadata": {
    "tags": []
   },
   "outputs": [],
   "source": [
    "def ensemble_predictions(*args):\n",
    "    # Combine all predictions into a single dictionary keyed by question ID\n",
    "    all_predictions = defaultdict(list)\n",
    "    for predictions in args:\n",
    "        for q_id, answer in predictions.items():\n",
    "            all_predictions[q_id].append(answer)\n",
    "    \n",
    "    # Choose the most common answer for each question\n",
    "    final_predictions = {}\n",
    "    for q_id, answers in all_predictions.items():\n",
    "        answer_counter = Counter(answers)\n",
    "        final_answer, _ = answer_counter.most_common(1)[0]\n",
    "        final_predictions[q_id] = final_answer\n",
    "\n",
    "    return final_predictions\n",
    "\n",
    "# Load predictions from files\n",
    "def load_predictions(filename):\n",
    "    with open(filename, \"r\") as file:\n",
    "        return json.load(file)\n",
    "\n",
    "# Example loading and combining predictions\n",
    "bert_predictions = load_predictions(\"BERT_validation_predictions.json\")\n",
    "#distilbert_predictions = load_predictions(\"DistilBERT_validation_predictions.json\")\n",
    "albert_predictions = load_predictions(\"ALBERT_validation_predictions.json\")\n",
    "roberta_predictions = load_predictions(\"RoBERTa_validation_predictions.json\")\n",
    "deberta_predictions = load_predictions(\"DeBERTa_validation_predictions.json\")\n",
    "\n",
    "# Create an ensemble of the predictions\n",
    "ensemble_predictions = ensemble_predictions(\n",
    "    deberta_predictions,\n",
    "    albert_predictions, \n",
    "    bert_predictions, \n",
    "    #distilbert_predictions, \n",
    "    roberta_predictions\n",
    "    \n",
    ")\n",
    "\n",
    "# Optionally, save the ensemble predictions\n",
    "with open(\"ensemble_validation_predictions.json\", \"w\") as file:\n",
    "    json.dump(ensemble_predictions, file, indent=4)\n"
   ]
  },
  {
   "cell_type": "code",
   "execution_count": 127,
   "id": "eda62135-1d04-4d7e-be74-fb027cfaf9ad",
   "metadata": {
    "tags": []
   },
   "outputs": [
    {
     "name": "stdout",
     "output_type": "stream",
     "text": [
      "{\n",
      "  \"exact\": 66.47014233976249,\n",
      "  \"f1\": 82.18739513799694,\n",
      "  \"total\": 11873,\n",
      "  \"HasAns_exact\": 44.888663967611336,\n",
      "  \"HasAns_f1\": 76.36824265746273,\n",
      "  \"HasAns_total\": 5928,\n",
      "  \"NoAns_exact\": 87.98990748528175,\n",
      "  \"NoAns_f1\": 87.98990748528175,\n",
      "  \"NoAns_total\": 5945\n",
      "}\n",
      "\n"
     ]
    }
   ],
   "source": [
    "# Define the command as a list\n",
    "command = ['python', 'evaluate-v2.0.py', 'dev-v2.0.json', 'ensemble_validation_predictions.json']\n",
    "\n",
    "# Run the command\n",
    "process = subprocess.run(command, text=True, capture_output=True)\n",
    "\n",
    "# Print the output\n",
    "print(process.stdout)\n",
    "\n",
    "# Check if there were any errors\n",
    "if process.stderr:\n",
    "    print(\"Errors:\")\n",
    "    print(process.stderr)"
   ]
  },
  {
   "cell_type": "code",
   "execution_count": null,
   "id": "29046c4d-765e-43cb-b50c-98dafd741c43",
   "metadata": {},
   "outputs": [],
   "source": []
  }
 ],
 "metadata": {
  "kernelspec": {
   "display_name": "compsci714win",
   "language": "python",
   "name": "compsci714win"
  },
  "language_info": {
   "codemirror_mode": {
    "name": "ipython",
    "version": 3
   },
   "file_extension": ".py",
   "mimetype": "text/x-python",
   "name": "python",
   "nbconvert_exporter": "python",
   "pygments_lexer": "ipython3",
   "version": "3.10.14"
  }
 },
 "nbformat": 4,
 "nbformat_minor": 5
}
